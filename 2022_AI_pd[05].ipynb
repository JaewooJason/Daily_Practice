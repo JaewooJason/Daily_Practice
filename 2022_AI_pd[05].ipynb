{
 "cells": [
  {
   "cell_type": "code",
   "execution_count": 1,
   "metadata": {
    "collapsed": true
   },
   "outputs": [
    {
     "name": "stdout",
     "output_type": "stream",
     "text": [
      "numpy  version -  1.20.3\n",
      "pandas version -  1.3.4\n"
     ]
    }
   ],
   "source": [
    "import numpy  as np\n",
    "import pandas as pd\n",
    "\n",
    "import warnings\n",
    "warnings.filterwarnings(action='ignore')\n",
    "\n",
    "from datetime import date, datetime, timedelta\n",
    "from dateutil.parser import parse\n",
    "\n",
    "import json\n",
    "import urllib\n",
    "\n",
    "# titanic dataset\n",
    "import seaborn as sns\n",
    "\n",
    "# 비정형 데이터 처리를 위한 라이브러리\n",
    "from bs4 import BeautifulSoup\n",
    "import requests\n",
    "import re\n",
    "\n",
    "\n",
    "\n",
    "print('numpy  version - ' , np.__version__)\n",
    "print('pandas version - ' , pd.__version__)"
   ]
  },
  {
   "cell_type": "code",
   "execution_count": 2,
   "outputs": [],
   "source": [
    "def seriesInfo(s) :\n",
    "    print('series : index + values \\n' , s)\n",
    "    print('index  - ' , s.index  , type(s.index))\n",
    "    print('values - ' , s.values , type(s.values))\n",
    "\n",
    "def frmInfo(df) :\n",
    "    display('data - ' , df )\n",
    "    print()\n",
    "    print('shape   - ' , df.shape , df.shape[0] , df.shape[1])\n",
    "    print('size    - ' , df.size )\n",
    "    print('ndim    - ' , df.ndim)\n",
    "    print('index   - ' , df.index    , type(df.index))\n",
    "    print('columns - ' , df.columns  , type( df.columns ))\n",
    "    print('values  - \\n' , df.values , type(df.values) )"
   ],
   "metadata": {
    "collapsed": false,
    "pycharm": {
     "name": "#%%\n"
    }
   }
  },
  {
   "cell_type": "code",
   "execution_count": 3,
   "outputs": [
    {
     "data": {
      "text/plain": "  Grp01       Grp02      \n  col01 col02 col03 col04\n0 -0.44  0.81 -1.79 -0.16\n1 -1.09  0.43  0.62 -0.93\n2 -2.26 -0.84 -1.16  0.67\n3 -0.23 -0.19  0.48  0.77\n4  1.79  0.22  0.52 -0.69",
      "text/html": "<div>\n<style scoped>\n    .dataframe tbody tr th:only-of-type {\n        vertical-align: middle;\n    }\n\n    .dataframe tbody tr th {\n        vertical-align: top;\n    }\n\n    .dataframe thead tr th {\n        text-align: left;\n    }\n</style>\n<table border=\"1\" class=\"dataframe\">\n  <thead>\n    <tr>\n      <th></th>\n      <th colspan=\"2\" halign=\"left\">Grp01</th>\n      <th colspan=\"2\" halign=\"left\">Grp02</th>\n    </tr>\n    <tr>\n      <th></th>\n      <th>col01</th>\n      <th>col02</th>\n      <th>col03</th>\n      <th>col04</th>\n    </tr>\n  </thead>\n  <tbody>\n    <tr>\n      <th>0</th>\n      <td>-0.44</td>\n      <td>0.81</td>\n      <td>-1.79</td>\n      <td>-0.16</td>\n    </tr>\n    <tr>\n      <th>1</th>\n      <td>-1.09</td>\n      <td>0.43</td>\n      <td>0.62</td>\n      <td>-0.93</td>\n    </tr>\n    <tr>\n      <th>2</th>\n      <td>-2.26</td>\n      <td>-0.84</td>\n      <td>-1.16</td>\n      <td>0.67</td>\n    </tr>\n    <tr>\n      <th>3</th>\n      <td>-0.23</td>\n      <td>-0.19</td>\n      <td>0.48</td>\n      <td>0.77</td>\n    </tr>\n    <tr>\n      <th>4</th>\n      <td>1.79</td>\n      <td>0.22</td>\n      <td>0.52</td>\n      <td>-0.69</td>\n    </tr>\n  </tbody>\n</table>\n</div>"
     },
     "execution_count": 3,
     "metadata": {},
     "output_type": "execute_result"
    }
   ],
   "source": [
    "multi_col_idx_frm = pd.DataFrame( np.round( np.random.randn(5, 4) , 2 )    ,\n",
    "                                  columns = [\n",
    "                                      ['Grp01' , 'Grp01' , 'Grp02' , 'Grp02'] ,\n",
    "                                      ['col01' , 'col02' , 'col03' , 'col04']\n",
    "                                  ])\n",
    "\n",
    "multi_col_idx_frm"
   ],
   "metadata": {
    "collapsed": false,
    "pycharm": {
     "name": "#%%\n"
    }
   }
  },
  {
   "cell_type": "code",
   "execution_count": 4,
   "outputs": [
    {
     "data": {
      "text/plain": "MultiIndex([('Grp01', 'col01'),\n            ('Grp01', 'col02'),\n            ('Grp02', 'col03'),\n            ('Grp02', 'col04')],\n           )"
     },
     "execution_count": 4,
     "metadata": {},
     "output_type": "execute_result"
    }
   ],
   "source": [
    "multi_col_idx_frm.columns"
   ],
   "metadata": {
    "collapsed": false,
    "pycharm": {
     "name": "#%%\n"
    }
   }
  },
  {
   "cell_type": "code",
   "execution_count": 5,
   "outputs": [
    {
     "data": {
      "text/plain": "GrpIdx Grp01       Grp02      \nColIdx col01 col02 col03 col04\n0      -0.44  0.81 -1.79 -0.16\n1      -1.09  0.43  0.62 -0.93\n2      -2.26 -0.84 -1.16  0.67\n3      -0.23 -0.19  0.48  0.77\n4       1.79  0.22  0.52 -0.69",
      "text/html": "<div>\n<style scoped>\n    .dataframe tbody tr th:only-of-type {\n        vertical-align: middle;\n    }\n\n    .dataframe tbody tr th {\n        vertical-align: top;\n    }\n\n    .dataframe thead tr th {\n        text-align: left;\n    }\n</style>\n<table border=\"1\" class=\"dataframe\">\n  <thead>\n    <tr>\n      <th>GrpIdx</th>\n      <th colspan=\"2\" halign=\"left\">Grp01</th>\n      <th colspan=\"2\" halign=\"left\">Grp02</th>\n    </tr>\n    <tr>\n      <th>ColIdx</th>\n      <th>col01</th>\n      <th>col02</th>\n      <th>col03</th>\n      <th>col04</th>\n    </tr>\n  </thead>\n  <tbody>\n    <tr>\n      <th>0</th>\n      <td>-0.44</td>\n      <td>0.81</td>\n      <td>-1.79</td>\n      <td>-0.16</td>\n    </tr>\n    <tr>\n      <th>1</th>\n      <td>-1.09</td>\n      <td>0.43</td>\n      <td>0.62</td>\n      <td>-0.93</td>\n    </tr>\n    <tr>\n      <th>2</th>\n      <td>-2.26</td>\n      <td>-0.84</td>\n      <td>-1.16</td>\n      <td>0.67</td>\n    </tr>\n    <tr>\n      <th>3</th>\n      <td>-0.23</td>\n      <td>-0.19</td>\n      <td>0.48</td>\n      <td>0.77</td>\n    </tr>\n    <tr>\n      <th>4</th>\n      <td>1.79</td>\n      <td>0.22</td>\n      <td>0.52</td>\n      <td>-0.69</td>\n    </tr>\n  </tbody>\n</table>\n</div>"
     },
     "execution_count": 5,
     "metadata": {},
     "output_type": "execute_result"
    }
   ],
   "source": [
    "multi_col_idx_frm.columns.names = ['GrpIdx' , 'ColIdx' ]\n",
    "multi_col_idx_frm"
   ],
   "metadata": {
    "collapsed": false,
    "pycharm": {
     "name": "#%%\n"
    }
   }
  },
  {
   "cell_type": "code",
   "execution_count": 6,
   "outputs": [
    {
     "data": {
      "text/plain": "FrozenList(['GrpIdx', 'ColIdx'])"
     },
     "execution_count": 6,
     "metadata": {},
     "output_type": "execute_result"
    }
   ],
   "source": [
    "multi_col_idx_frm.columns.names"
   ],
   "metadata": {
    "collapsed": false,
    "pycharm": {
     "name": "#%%\n"
    }
   }
  },
  {
   "cell_type": "code",
   "execution_count": 7,
   "outputs": [
    {
     "data": {
      "text/plain": "GrpIdx           Grp01       Grp02      \nColIdx           col01 col02 col03 col04\nGenderIdx RowIdx                        \nM         id_0   -0.88  0.87 -0.62  0.64\n          id_1   -0.79 -0.49  1.27  0.30\n          id_2   -0.21  0.60 -0.04  0.72\nF         id_3    0.60 -1.17 -1.13 -0.18\n          id_4    0.73 -0.72  0.97 -0.33\n          id_5    0.44 -0.22  1.62 -0.72",
      "text/html": "<div>\n<style scoped>\n    .dataframe tbody tr th:only-of-type {\n        vertical-align: middle;\n    }\n\n    .dataframe tbody tr th {\n        vertical-align: top;\n    }\n\n    .dataframe thead tr th {\n        text-align: left;\n    }\n\n    .dataframe thead tr:last-of-type th {\n        text-align: right;\n    }\n</style>\n<table border=\"1\" class=\"dataframe\">\n  <thead>\n    <tr>\n      <th></th>\n      <th>GrpIdx</th>\n      <th colspan=\"2\" halign=\"left\">Grp01</th>\n      <th colspan=\"2\" halign=\"left\">Grp02</th>\n    </tr>\n    <tr>\n      <th></th>\n      <th>ColIdx</th>\n      <th>col01</th>\n      <th>col02</th>\n      <th>col03</th>\n      <th>col04</th>\n    </tr>\n    <tr>\n      <th>GenderIdx</th>\n      <th>RowIdx</th>\n      <th></th>\n      <th></th>\n      <th></th>\n      <th></th>\n    </tr>\n  </thead>\n  <tbody>\n    <tr>\n      <th rowspan=\"3\" valign=\"top\">M</th>\n      <th>id_0</th>\n      <td>-0.88</td>\n      <td>0.87</td>\n      <td>-0.62</td>\n      <td>0.64</td>\n    </tr>\n    <tr>\n      <th>id_1</th>\n      <td>-0.79</td>\n      <td>-0.49</td>\n      <td>1.27</td>\n      <td>0.30</td>\n    </tr>\n    <tr>\n      <th>id_2</th>\n      <td>-0.21</td>\n      <td>0.60</td>\n      <td>-0.04</td>\n      <td>0.72</td>\n    </tr>\n    <tr>\n      <th rowspan=\"3\" valign=\"top\">F</th>\n      <th>id_3</th>\n      <td>0.60</td>\n      <td>-1.17</td>\n      <td>-1.13</td>\n      <td>-0.18</td>\n    </tr>\n    <tr>\n      <th>id_4</th>\n      <td>0.73</td>\n      <td>-0.72</td>\n      <td>0.97</td>\n      <td>-0.33</td>\n    </tr>\n    <tr>\n      <th>id_5</th>\n      <td>0.44</td>\n      <td>-0.22</td>\n      <td>1.62</td>\n      <td>-0.72</td>\n    </tr>\n  </tbody>\n</table>\n</div>"
     },
     "execution_count": 7,
     "metadata": {},
     "output_type": "execute_result"
    }
   ],
   "source": [
    "multi_idx_frm = pd.DataFrame( np.round( np.random.randn(6, 4) , 2 )    ,\n",
    "                                  columns = [\n",
    "                                      ['Grp01' , 'Grp01' , 'Grp02' , 'Grp02'] ,\n",
    "                                      ['col01' , 'col02' , 'col03' , 'col04']\n",
    "                                  ] ,\n",
    "                                  index = [\n",
    "                                      ['M' , 'M' , 'M' , 'F' , 'F' , 'F'] ,\n",
    "                                      [ 'id_' + str(idx) for idx in range(6) ]\n",
    "                                  ])\n",
    "\n",
    "multi_idx_frm.columns.names = ['GrpIdx'  , 'ColIdx' ]\n",
    "multi_idx_frm.index.names   = ['GenderIdx' , 'RowIdx' ]\n",
    "multi_idx_frm"
   ],
   "metadata": {
    "collapsed": false,
    "pycharm": {
     "name": "#%%\n"
    }
   }
  },
  {
   "cell_type": "code",
   "execution_count": 8,
   "outputs": [
    {
     "data": {
      "text/plain": "GrpIdx                   Grp01  Grp02\nGenderIdx RowIdx ColIdx              \nM         id_0   col01   -0.88    NaN\n                 col02    0.87    NaN\n                 col03     NaN  -0.62\n                 col04     NaN   0.64\n          id_1   col01   -0.79    NaN\n                 col02   -0.49    NaN\n                 col03     NaN   1.27\n                 col04     NaN   0.30\n          id_2   col01   -0.21    NaN\n                 col02    0.60    NaN\n                 col03     NaN  -0.04\n                 col04     NaN   0.72\nF         id_3   col01    0.60    NaN\n                 col02   -1.17    NaN\n                 col03     NaN  -1.13\n                 col04     NaN  -0.18\n          id_4   col01    0.73    NaN\n                 col02   -0.72    NaN\n                 col03     NaN   0.97\n                 col04     NaN  -0.33\n          id_5   col01    0.44    NaN\n                 col02   -0.22    NaN\n                 col03     NaN   1.62\n                 col04     NaN  -0.72",
      "text/html": "<div>\n<style scoped>\n    .dataframe tbody tr th:only-of-type {\n        vertical-align: middle;\n    }\n\n    .dataframe tbody tr th {\n        vertical-align: top;\n    }\n\n    .dataframe thead th {\n        text-align: right;\n    }\n</style>\n<table border=\"1\" class=\"dataframe\">\n  <thead>\n    <tr style=\"text-align: right;\">\n      <th></th>\n      <th></th>\n      <th>GrpIdx</th>\n      <th>Grp01</th>\n      <th>Grp02</th>\n    </tr>\n    <tr>\n      <th>GenderIdx</th>\n      <th>RowIdx</th>\n      <th>ColIdx</th>\n      <th></th>\n      <th></th>\n    </tr>\n  </thead>\n  <tbody>\n    <tr>\n      <th rowspan=\"12\" valign=\"top\">M</th>\n      <th rowspan=\"4\" valign=\"top\">id_0</th>\n      <th>col01</th>\n      <td>-0.88</td>\n      <td>NaN</td>\n    </tr>\n    <tr>\n      <th>col02</th>\n      <td>0.87</td>\n      <td>NaN</td>\n    </tr>\n    <tr>\n      <th>col03</th>\n      <td>NaN</td>\n      <td>-0.62</td>\n    </tr>\n    <tr>\n      <th>col04</th>\n      <td>NaN</td>\n      <td>0.64</td>\n    </tr>\n    <tr>\n      <th rowspan=\"4\" valign=\"top\">id_1</th>\n      <th>col01</th>\n      <td>-0.79</td>\n      <td>NaN</td>\n    </tr>\n    <tr>\n      <th>col02</th>\n      <td>-0.49</td>\n      <td>NaN</td>\n    </tr>\n    <tr>\n      <th>col03</th>\n      <td>NaN</td>\n      <td>1.27</td>\n    </tr>\n    <tr>\n      <th>col04</th>\n      <td>NaN</td>\n      <td>0.30</td>\n    </tr>\n    <tr>\n      <th rowspan=\"4\" valign=\"top\">id_2</th>\n      <th>col01</th>\n      <td>-0.21</td>\n      <td>NaN</td>\n    </tr>\n    <tr>\n      <th>col02</th>\n      <td>0.60</td>\n      <td>NaN</td>\n    </tr>\n    <tr>\n      <th>col03</th>\n      <td>NaN</td>\n      <td>-0.04</td>\n    </tr>\n    <tr>\n      <th>col04</th>\n      <td>NaN</td>\n      <td>0.72</td>\n    </tr>\n    <tr>\n      <th rowspan=\"12\" valign=\"top\">F</th>\n      <th rowspan=\"4\" valign=\"top\">id_3</th>\n      <th>col01</th>\n      <td>0.60</td>\n      <td>NaN</td>\n    </tr>\n    <tr>\n      <th>col02</th>\n      <td>-1.17</td>\n      <td>NaN</td>\n    </tr>\n    <tr>\n      <th>col03</th>\n      <td>NaN</td>\n      <td>-1.13</td>\n    </tr>\n    <tr>\n      <th>col04</th>\n      <td>NaN</td>\n      <td>-0.18</td>\n    </tr>\n    <tr>\n      <th rowspan=\"4\" valign=\"top\">id_4</th>\n      <th>col01</th>\n      <td>0.73</td>\n      <td>NaN</td>\n    </tr>\n    <tr>\n      <th>col02</th>\n      <td>-0.72</td>\n      <td>NaN</td>\n    </tr>\n    <tr>\n      <th>col03</th>\n      <td>NaN</td>\n      <td>0.97</td>\n    </tr>\n    <tr>\n      <th>col04</th>\n      <td>NaN</td>\n      <td>-0.33</td>\n    </tr>\n    <tr>\n      <th rowspan=\"4\" valign=\"top\">id_5</th>\n      <th>col01</th>\n      <td>0.44</td>\n      <td>NaN</td>\n    </tr>\n    <tr>\n      <th>col02</th>\n      <td>-0.22</td>\n      <td>NaN</td>\n    </tr>\n    <tr>\n      <th>col03</th>\n      <td>NaN</td>\n      <td>1.62</td>\n    </tr>\n    <tr>\n      <th>col04</th>\n      <td>NaN</td>\n      <td>-0.72</td>\n    </tr>\n  </tbody>\n</table>\n</div>"
     },
     "execution_count": 8,
     "metadata": {},
     "output_type": "execute_result"
    }
   ],
   "source": [
    "multi_idx_frm.stack()"
   ],
   "metadata": {
    "collapsed": false,
    "pycharm": {
     "name": "#%%\n"
    }
   }
  },
  {
   "cell_type": "code",
   "execution_count": 9,
   "outputs": [
    {
     "data": {
      "text/plain": "ColIdx                   col01  col02  col03  col04\nGenderIdx RowIdx GrpIdx                            \nM         id_0   Grp01   -0.88   0.87    NaN    NaN\n                 Grp02     NaN    NaN  -0.62   0.64\n          id_1   Grp01   -0.79  -0.49    NaN    NaN\n                 Grp02     NaN    NaN   1.27   0.30\n          id_2   Grp01   -0.21   0.60    NaN    NaN\n                 Grp02     NaN    NaN  -0.04   0.72\nF         id_3   Grp01    0.60  -1.17    NaN    NaN\n                 Grp02     NaN    NaN  -1.13  -0.18\n          id_4   Grp01    0.73  -0.72    NaN    NaN\n                 Grp02     NaN    NaN   0.97  -0.33\n          id_5   Grp01    0.44  -0.22    NaN    NaN\n                 Grp02     NaN    NaN   1.62  -0.72",
      "text/html": "<div>\n<style scoped>\n    .dataframe tbody tr th:only-of-type {\n        vertical-align: middle;\n    }\n\n    .dataframe tbody tr th {\n        vertical-align: top;\n    }\n\n    .dataframe thead th {\n        text-align: right;\n    }\n</style>\n<table border=\"1\" class=\"dataframe\">\n  <thead>\n    <tr style=\"text-align: right;\">\n      <th></th>\n      <th></th>\n      <th>ColIdx</th>\n      <th>col01</th>\n      <th>col02</th>\n      <th>col03</th>\n      <th>col04</th>\n    </tr>\n    <tr>\n      <th>GenderIdx</th>\n      <th>RowIdx</th>\n      <th>GrpIdx</th>\n      <th></th>\n      <th></th>\n      <th></th>\n      <th></th>\n    </tr>\n  </thead>\n  <tbody>\n    <tr>\n      <th rowspan=\"6\" valign=\"top\">M</th>\n      <th rowspan=\"2\" valign=\"top\">id_0</th>\n      <th>Grp01</th>\n      <td>-0.88</td>\n      <td>0.87</td>\n      <td>NaN</td>\n      <td>NaN</td>\n    </tr>\n    <tr>\n      <th>Grp02</th>\n      <td>NaN</td>\n      <td>NaN</td>\n      <td>-0.62</td>\n      <td>0.64</td>\n    </tr>\n    <tr>\n      <th rowspan=\"2\" valign=\"top\">id_1</th>\n      <th>Grp01</th>\n      <td>-0.79</td>\n      <td>-0.49</td>\n      <td>NaN</td>\n      <td>NaN</td>\n    </tr>\n    <tr>\n      <th>Grp02</th>\n      <td>NaN</td>\n      <td>NaN</td>\n      <td>1.27</td>\n      <td>0.30</td>\n    </tr>\n    <tr>\n      <th rowspan=\"2\" valign=\"top\">id_2</th>\n      <th>Grp01</th>\n      <td>-0.21</td>\n      <td>0.60</td>\n      <td>NaN</td>\n      <td>NaN</td>\n    </tr>\n    <tr>\n      <th>Grp02</th>\n      <td>NaN</td>\n      <td>NaN</td>\n      <td>-0.04</td>\n      <td>0.72</td>\n    </tr>\n    <tr>\n      <th rowspan=\"6\" valign=\"top\">F</th>\n      <th rowspan=\"2\" valign=\"top\">id_3</th>\n      <th>Grp01</th>\n      <td>0.60</td>\n      <td>-1.17</td>\n      <td>NaN</td>\n      <td>NaN</td>\n    </tr>\n    <tr>\n      <th>Grp02</th>\n      <td>NaN</td>\n      <td>NaN</td>\n      <td>-1.13</td>\n      <td>-0.18</td>\n    </tr>\n    <tr>\n      <th rowspan=\"2\" valign=\"top\">id_4</th>\n      <th>Grp01</th>\n      <td>0.73</td>\n      <td>-0.72</td>\n      <td>NaN</td>\n      <td>NaN</td>\n    </tr>\n    <tr>\n      <th>Grp02</th>\n      <td>NaN</td>\n      <td>NaN</td>\n      <td>0.97</td>\n      <td>-0.33</td>\n    </tr>\n    <tr>\n      <th rowspan=\"2\" valign=\"top\">id_5</th>\n      <th>Grp01</th>\n      <td>0.44</td>\n      <td>-0.22</td>\n      <td>NaN</td>\n      <td>NaN</td>\n    </tr>\n    <tr>\n      <th>Grp02</th>\n      <td>NaN</td>\n      <td>NaN</td>\n      <td>1.62</td>\n      <td>-0.72</td>\n    </tr>\n  </tbody>\n</table>\n</div>"
     },
     "execution_count": 9,
     "metadata": {},
     "output_type": "execute_result"
    }
   ],
   "source": [
    "multi_idx_frm.stack('GrpIdx')"
   ],
   "metadata": {
    "collapsed": false,
    "pycharm": {
     "name": "#%%\n"
    }
   }
  },
  {
   "cell_type": "code",
   "execution_count": 10,
   "outputs": [
    {
     "data": {
      "text/plain": "GrpIdx    Grp01                                                      ...  \\\nColIdx    col01                              col02                   ...   \nRowIdx     id_0  id_1  id_2 id_3  id_4  id_5  id_0  id_1 id_2  id_3  ...   \nGenderIdx                                                            ...   \nF           NaN   NaN   NaN  0.6  0.73  0.44   NaN   NaN  NaN -1.17  ...   \nM         -0.88 -0.79 -0.21  NaN   NaN   NaN  0.87 -0.49  0.6   NaN  ...   \n\nGrpIdx    Grp02                                                       \nColIdx    col03                   col04                               \nRowIdx     id_2  id_3  id_4  id_5  id_0 id_1  id_2  id_3  id_4  id_5  \nGenderIdx                                                             \nF           NaN -1.13  0.97  1.62   NaN  NaN   NaN -0.18 -0.33 -0.72  \nM         -0.04   NaN   NaN   NaN  0.64  0.3  0.72   NaN   NaN   NaN  \n\n[2 rows x 24 columns]",
      "text/html": "<div>\n<style scoped>\n    .dataframe tbody tr th:only-of-type {\n        vertical-align: middle;\n    }\n\n    .dataframe tbody tr th {\n        vertical-align: top;\n    }\n\n    .dataframe thead tr th {\n        text-align: left;\n    }\n\n    .dataframe thead tr:last-of-type th {\n        text-align: right;\n    }\n</style>\n<table border=\"1\" class=\"dataframe\">\n  <thead>\n    <tr>\n      <th>GrpIdx</th>\n      <th colspan=\"10\" halign=\"left\">Grp01</th>\n      <th>...</th>\n      <th colspan=\"10\" halign=\"left\">Grp02</th>\n    </tr>\n    <tr>\n      <th>ColIdx</th>\n      <th colspan=\"6\" halign=\"left\">col01</th>\n      <th colspan=\"4\" halign=\"left\">col02</th>\n      <th>...</th>\n      <th colspan=\"4\" halign=\"left\">col03</th>\n      <th colspan=\"6\" halign=\"left\">col04</th>\n    </tr>\n    <tr>\n      <th>RowIdx</th>\n      <th>id_0</th>\n      <th>id_1</th>\n      <th>id_2</th>\n      <th>id_3</th>\n      <th>id_4</th>\n      <th>id_5</th>\n      <th>id_0</th>\n      <th>id_1</th>\n      <th>id_2</th>\n      <th>id_3</th>\n      <th>...</th>\n      <th>id_2</th>\n      <th>id_3</th>\n      <th>id_4</th>\n      <th>id_5</th>\n      <th>id_0</th>\n      <th>id_1</th>\n      <th>id_2</th>\n      <th>id_3</th>\n      <th>id_4</th>\n      <th>id_5</th>\n    </tr>\n    <tr>\n      <th>GenderIdx</th>\n      <th></th>\n      <th></th>\n      <th></th>\n      <th></th>\n      <th></th>\n      <th></th>\n      <th></th>\n      <th></th>\n      <th></th>\n      <th></th>\n      <th></th>\n      <th></th>\n      <th></th>\n      <th></th>\n      <th></th>\n      <th></th>\n      <th></th>\n      <th></th>\n      <th></th>\n      <th></th>\n      <th></th>\n    </tr>\n  </thead>\n  <tbody>\n    <tr>\n      <th>F</th>\n      <td>NaN</td>\n      <td>NaN</td>\n      <td>NaN</td>\n      <td>0.6</td>\n      <td>0.73</td>\n      <td>0.44</td>\n      <td>NaN</td>\n      <td>NaN</td>\n      <td>NaN</td>\n      <td>-1.17</td>\n      <td>...</td>\n      <td>NaN</td>\n      <td>-1.13</td>\n      <td>0.97</td>\n      <td>1.62</td>\n      <td>NaN</td>\n      <td>NaN</td>\n      <td>NaN</td>\n      <td>-0.18</td>\n      <td>-0.33</td>\n      <td>-0.72</td>\n    </tr>\n    <tr>\n      <th>M</th>\n      <td>-0.88</td>\n      <td>-0.79</td>\n      <td>-0.21</td>\n      <td>NaN</td>\n      <td>NaN</td>\n      <td>NaN</td>\n      <td>0.87</td>\n      <td>-0.49</td>\n      <td>0.6</td>\n      <td>NaN</td>\n      <td>...</td>\n      <td>-0.04</td>\n      <td>NaN</td>\n      <td>NaN</td>\n      <td>NaN</td>\n      <td>0.64</td>\n      <td>0.3</td>\n      <td>0.72</td>\n      <td>NaN</td>\n      <td>NaN</td>\n      <td>NaN</td>\n    </tr>\n  </tbody>\n</table>\n<p>2 rows × 24 columns</p>\n</div>"
     },
     "execution_count": 10,
     "metadata": {},
     "output_type": "execute_result"
    }
   ],
   "source": [
    "multi_idx_frm.unstack()"
   ],
   "metadata": {
    "collapsed": false,
    "pycharm": {
     "name": "#%%\n"
    }
   }
  },
  {
   "cell_type": "code",
   "execution_count": 10,
   "outputs": [],
   "source": [],
   "metadata": {
    "collapsed": false,
    "pycharm": {
     "name": "#%%\n"
    }
   }
  },
  {
   "cell_type": "code",
   "execution_count": 11,
   "outputs": [
    {
     "data": {
      "text/plain": "GrpIdx    Grp01                   Grp02                  \nColIdx    col01       col02       col03       col04      \nGenderIdx     F     M     F     M     F     M     F     M\nRowIdx                                                   \nid_0        NaN -0.88   NaN  0.87   NaN -0.62   NaN  0.64\nid_1        NaN -0.79   NaN -0.49   NaN  1.27   NaN  0.30\nid_2        NaN -0.21   NaN  0.60   NaN -0.04   NaN  0.72\nid_3       0.60   NaN -1.17   NaN -1.13   NaN -0.18   NaN\nid_4       0.73   NaN -0.72   NaN  0.97   NaN -0.33   NaN\nid_5       0.44   NaN -0.22   NaN  1.62   NaN -0.72   NaN",
      "text/html": "<div>\n<style scoped>\n    .dataframe tbody tr th:only-of-type {\n        vertical-align: middle;\n    }\n\n    .dataframe tbody tr th {\n        vertical-align: top;\n    }\n\n    .dataframe thead tr th {\n        text-align: left;\n    }\n\n    .dataframe thead tr:last-of-type th {\n        text-align: right;\n    }\n</style>\n<table border=\"1\" class=\"dataframe\">\n  <thead>\n    <tr>\n      <th>GrpIdx</th>\n      <th colspan=\"4\" halign=\"left\">Grp01</th>\n      <th colspan=\"4\" halign=\"left\">Grp02</th>\n    </tr>\n    <tr>\n      <th>ColIdx</th>\n      <th colspan=\"2\" halign=\"left\">col01</th>\n      <th colspan=\"2\" halign=\"left\">col02</th>\n      <th colspan=\"2\" halign=\"left\">col03</th>\n      <th colspan=\"2\" halign=\"left\">col04</th>\n    </tr>\n    <tr>\n      <th>GenderIdx</th>\n      <th>F</th>\n      <th>M</th>\n      <th>F</th>\n      <th>M</th>\n      <th>F</th>\n      <th>M</th>\n      <th>F</th>\n      <th>M</th>\n    </tr>\n    <tr>\n      <th>RowIdx</th>\n      <th></th>\n      <th></th>\n      <th></th>\n      <th></th>\n      <th></th>\n      <th></th>\n      <th></th>\n      <th></th>\n    </tr>\n  </thead>\n  <tbody>\n    <tr>\n      <th>id_0</th>\n      <td>NaN</td>\n      <td>-0.88</td>\n      <td>NaN</td>\n      <td>0.87</td>\n      <td>NaN</td>\n      <td>-0.62</td>\n      <td>NaN</td>\n      <td>0.64</td>\n    </tr>\n    <tr>\n      <th>id_1</th>\n      <td>NaN</td>\n      <td>-0.79</td>\n      <td>NaN</td>\n      <td>-0.49</td>\n      <td>NaN</td>\n      <td>1.27</td>\n      <td>NaN</td>\n      <td>0.30</td>\n    </tr>\n    <tr>\n      <th>id_2</th>\n      <td>NaN</td>\n      <td>-0.21</td>\n      <td>NaN</td>\n      <td>0.60</td>\n      <td>NaN</td>\n      <td>-0.04</td>\n      <td>NaN</td>\n      <td>0.72</td>\n    </tr>\n    <tr>\n      <th>id_3</th>\n      <td>0.60</td>\n      <td>NaN</td>\n      <td>-1.17</td>\n      <td>NaN</td>\n      <td>-1.13</td>\n      <td>NaN</td>\n      <td>-0.18</td>\n      <td>NaN</td>\n    </tr>\n    <tr>\n      <th>id_4</th>\n      <td>0.73</td>\n      <td>NaN</td>\n      <td>-0.72</td>\n      <td>NaN</td>\n      <td>0.97</td>\n      <td>NaN</td>\n      <td>-0.33</td>\n      <td>NaN</td>\n    </tr>\n    <tr>\n      <th>id_5</th>\n      <td>0.44</td>\n      <td>NaN</td>\n      <td>-0.22</td>\n      <td>NaN</td>\n      <td>1.62</td>\n      <td>NaN</td>\n      <td>-0.72</td>\n      <td>NaN</td>\n    </tr>\n  </tbody>\n</table>\n</div>"
     },
     "execution_count": 11,
     "metadata": {},
     "output_type": "execute_result"
    }
   ],
   "source": [
    "multi_idx_frm.unstack('GenderIdx')"
   ],
   "metadata": {
    "collapsed": false,
    "pycharm": {
     "name": "#%%\n"
    }
   }
  },
  {
   "cell_type": "code",
   "execution_count": 12,
   "outputs": [
    {
     "data": {
      "text/plain": "GrpIdx           Grp01      \nColIdx           col01 col02\nGenderIdx RowIdx            \nM         id_0   -0.88  0.87\n          id_1   -0.79 -0.49\n          id_2   -0.21  0.60\nF         id_3    0.60 -1.17\n          id_4    0.73 -0.72\n          id_5    0.44 -0.22",
      "text/html": "<div>\n<style scoped>\n    .dataframe tbody tr th:only-of-type {\n        vertical-align: middle;\n    }\n\n    .dataframe tbody tr th {\n        vertical-align: top;\n    }\n\n    .dataframe thead tr th {\n        text-align: left;\n    }\n\n    .dataframe thead tr:last-of-type th {\n        text-align: right;\n    }\n</style>\n<table border=\"1\" class=\"dataframe\">\n  <thead>\n    <tr>\n      <th></th>\n      <th>GrpIdx</th>\n      <th colspan=\"2\" halign=\"left\">Grp01</th>\n    </tr>\n    <tr>\n      <th></th>\n      <th>ColIdx</th>\n      <th>col01</th>\n      <th>col02</th>\n    </tr>\n    <tr>\n      <th>GenderIdx</th>\n      <th>RowIdx</th>\n      <th></th>\n      <th></th>\n    </tr>\n  </thead>\n  <tbody>\n    <tr>\n      <th rowspan=\"3\" valign=\"top\">M</th>\n      <th>id_0</th>\n      <td>-0.88</td>\n      <td>0.87</td>\n    </tr>\n    <tr>\n      <th>id_1</th>\n      <td>-0.79</td>\n      <td>-0.49</td>\n    </tr>\n    <tr>\n      <th>id_2</th>\n      <td>-0.21</td>\n      <td>0.60</td>\n    </tr>\n    <tr>\n      <th rowspan=\"3\" valign=\"top\">F</th>\n      <th>id_3</th>\n      <td>0.60</td>\n      <td>-1.17</td>\n    </tr>\n    <tr>\n      <th>id_4</th>\n      <td>0.73</td>\n      <td>-0.72</td>\n    </tr>\n    <tr>\n      <th>id_5</th>\n      <td>0.44</td>\n      <td>-0.22</td>\n    </tr>\n  </tbody>\n</table>\n</div>"
     },
     "execution_count": 12,
     "metadata": {},
     "output_type": "execute_result"
    }
   ],
   "source": [
    "\n",
    "multi_idx_frm[ [ ('Grp01', 'col01') , ('Grp01', 'col02') ] ]"
   ],
   "metadata": {
    "collapsed": false,
    "pycharm": {
     "name": "#%%\n"
    }
   }
  },
  {
   "cell_type": "code",
   "execution_count": 13,
   "outputs": [
    {
     "data": {
      "text/plain": "GrpIdx           Grp01       Grp02      \nColIdx           col01 col02 col03 col04\nGenderIdx RowIdx                        \nM         id_0   -0.88  0.87 -0.62  0.64\n          id_1   -0.79 -0.49  1.27  0.30\n          id_2   -0.21  0.60 -0.04  0.72\nF         id_3    0.60 -1.17 -1.13 -0.18\n          id_4    0.73 -0.72  0.97 -0.33\n          id_5    0.44 -0.22  1.62 -0.72",
      "text/html": "<div>\n<style scoped>\n    .dataframe tbody tr th:only-of-type {\n        vertical-align: middle;\n    }\n\n    .dataframe tbody tr th {\n        vertical-align: top;\n    }\n\n    .dataframe thead tr th {\n        text-align: left;\n    }\n\n    .dataframe thead tr:last-of-type th {\n        text-align: right;\n    }\n</style>\n<table border=\"1\" class=\"dataframe\">\n  <thead>\n    <tr>\n      <th></th>\n      <th>GrpIdx</th>\n      <th colspan=\"2\" halign=\"left\">Grp01</th>\n      <th colspan=\"2\" halign=\"left\">Grp02</th>\n    </tr>\n    <tr>\n      <th></th>\n      <th>ColIdx</th>\n      <th>col01</th>\n      <th>col02</th>\n      <th>col03</th>\n      <th>col04</th>\n    </tr>\n    <tr>\n      <th>GenderIdx</th>\n      <th>RowIdx</th>\n      <th></th>\n      <th></th>\n      <th></th>\n      <th></th>\n    </tr>\n  </thead>\n  <tbody>\n    <tr>\n      <th rowspan=\"3\" valign=\"top\">M</th>\n      <th>id_0</th>\n      <td>-0.88</td>\n      <td>0.87</td>\n      <td>-0.62</td>\n      <td>0.64</td>\n    </tr>\n    <tr>\n      <th>id_1</th>\n      <td>-0.79</td>\n      <td>-0.49</td>\n      <td>1.27</td>\n      <td>0.30</td>\n    </tr>\n    <tr>\n      <th>id_2</th>\n      <td>-0.21</td>\n      <td>0.60</td>\n      <td>-0.04</td>\n      <td>0.72</td>\n    </tr>\n    <tr>\n      <th rowspan=\"3\" valign=\"top\">F</th>\n      <th>id_3</th>\n      <td>0.60</td>\n      <td>-1.17</td>\n      <td>-1.13</td>\n      <td>-0.18</td>\n    </tr>\n    <tr>\n      <th>id_4</th>\n      <td>0.73</td>\n      <td>-0.72</td>\n      <td>0.97</td>\n      <td>-0.33</td>\n    </tr>\n    <tr>\n      <th>id_5</th>\n      <td>0.44</td>\n      <td>-0.22</td>\n      <td>1.62</td>\n      <td>-0.72</td>\n    </tr>\n  </tbody>\n</table>\n</div>"
     },
     "execution_count": 13,
     "metadata": {},
     "output_type": "execute_result"
    }
   ],
   "source": [
    "multi_idx_frm"
   ],
   "metadata": {
    "collapsed": false,
    "pycharm": {
     "name": "#%%\n"
    }
   }
  },
  {
   "cell_type": "code",
   "execution_count": 14,
   "outputs": [
    {
     "data": {
      "text/plain": "-0.62"
     },
     "execution_count": 14,
     "metadata": {},
     "output_type": "execute_result"
    }
   ],
   "source": [
    "multi_idx_frm[('Grp02','col03')].values[0]"
   ],
   "metadata": {
    "collapsed": false,
    "pycharm": {
     "name": "#%%\n"
    }
   }
  },
  {
   "cell_type": "code",
   "execution_count": 15,
   "outputs": [
    {
     "data": {
      "text/plain": "-0.04"
     },
     "execution_count": 15,
     "metadata": {},
     "output_type": "execute_result"
    }
   ],
   "source": [
    "multi_idx_frm.loc[('M', 'id_1'), 'Grp02']\n",
    "multi_idx_frm['Grp02'].values[1]\n",
    "multi_idx_frm[ ('Grp02','col03') ]  [('M','id_2')]\n"
   ],
   "metadata": {
    "collapsed": false,
    "pycharm": {
     "name": "#%%\n"
    }
   }
  },
  {
   "cell_type": "code",
   "execution_count": 15,
   "outputs": [],
   "source": [],
   "metadata": {
    "collapsed": false,
    "pycharm": {
     "name": "#%%\n"
    }
   }
  },
  {
   "cell_type": "code",
   "execution_count": 16,
   "outputs": [
    {
     "data": {
      "text/plain": "array([1.27, 0.3 ])"
     },
     "execution_count": 16,
     "metadata": {},
     "output_type": "execute_result"
    }
   ],
   "source": [
    "multi_idx_frm[[('Grp02','col03'),('Grp02','col04')]].iloc[1].values\n"
   ],
   "metadata": {
    "collapsed": false,
    "pycharm": {
     "name": "#%%\n"
    }
   }
  },
  {
   "cell_type": "code",
   "execution_count": 17,
   "outputs": [
    {
     "name": "stdout",
     "output_type": "stream",
     "text": [
      "M 정보만 출력 - \n"
     ]
    },
    {
     "data": {
      "text/plain": "GrpIdx           Grp02      \nColIdx           col03 col04\nGenderIdx RowIdx            \nM         id_0   -0.62  0.64\n          id_1    1.27  0.30\n          id_2   -0.04  0.72",
      "text/html": "<div>\n<style scoped>\n    .dataframe tbody tr th:only-of-type {\n        vertical-align: middle;\n    }\n\n    .dataframe tbody tr th {\n        vertical-align: top;\n    }\n\n    .dataframe thead tr th {\n        text-align: left;\n    }\n\n    .dataframe thead tr:last-of-type th {\n        text-align: right;\n    }\n</style>\n<table border=\"1\" class=\"dataframe\">\n  <thead>\n    <tr>\n      <th></th>\n      <th>GrpIdx</th>\n      <th colspan=\"2\" halign=\"left\">Grp02</th>\n    </tr>\n    <tr>\n      <th></th>\n      <th>ColIdx</th>\n      <th>col03</th>\n      <th>col04</th>\n    </tr>\n    <tr>\n      <th>GenderIdx</th>\n      <th>RowIdx</th>\n      <th></th>\n      <th></th>\n    </tr>\n  </thead>\n  <tbody>\n    <tr>\n      <th rowspan=\"3\" valign=\"top\">M</th>\n      <th>id_0</th>\n      <td>-0.62</td>\n      <td>0.64</td>\n    </tr>\n    <tr>\n      <th>id_1</th>\n      <td>1.27</td>\n      <td>0.30</td>\n    </tr>\n    <tr>\n      <th>id_2</th>\n      <td>-0.04</td>\n      <td>0.72</td>\n    </tr>\n  </tbody>\n</table>\n</div>"
     },
     "execution_count": 17,
     "metadata": {},
     "output_type": "execute_result"
    }
   ],
   "source": [
    "print('M 정보만 출력 - ')\n",
    "\n",
    "multi_idx_frm.loc['M']\n",
    "multi_idx_frm.iloc[ : 3 , 2 : 4  ]"
   ],
   "metadata": {
    "collapsed": false,
    "pycharm": {
     "name": "#%%\n"
    }
   }
  },
  {
   "cell_type": "code",
   "execution_count": 18,
   "outputs": [
    {
     "data": {
      "text/plain": "GrpIdx           Grp01       Grp02      \nColIdx           col01 col02 col03 col04\nGenderIdx RowIdx                        \nM         id_0   -0.88  0.87 -0.62  0.64\n          id_1   -0.79 -0.49  1.27  0.30\n          id_2   -0.21  0.60 -0.04  0.72\nF         id_3    0.60 -1.17 -1.13 -0.18\n          id_4    0.73 -0.72  0.97 -0.33\n          id_5    0.44 -0.22  1.62 -0.72",
      "text/html": "<div>\n<style scoped>\n    .dataframe tbody tr th:only-of-type {\n        vertical-align: middle;\n    }\n\n    .dataframe tbody tr th {\n        vertical-align: top;\n    }\n\n    .dataframe thead tr th {\n        text-align: left;\n    }\n\n    .dataframe thead tr:last-of-type th {\n        text-align: right;\n    }\n</style>\n<table border=\"1\" class=\"dataframe\">\n  <thead>\n    <tr>\n      <th></th>\n      <th>GrpIdx</th>\n      <th colspan=\"2\" halign=\"left\">Grp01</th>\n      <th colspan=\"2\" halign=\"left\">Grp02</th>\n    </tr>\n    <tr>\n      <th></th>\n      <th>ColIdx</th>\n      <th>col01</th>\n      <th>col02</th>\n      <th>col03</th>\n      <th>col04</th>\n    </tr>\n    <tr>\n      <th>GenderIdx</th>\n      <th>RowIdx</th>\n      <th></th>\n      <th></th>\n      <th></th>\n      <th></th>\n    </tr>\n  </thead>\n  <tbody>\n    <tr>\n      <th rowspan=\"3\" valign=\"top\">M</th>\n      <th>id_0</th>\n      <td>-0.88</td>\n      <td>0.87</td>\n      <td>-0.62</td>\n      <td>0.64</td>\n    </tr>\n    <tr>\n      <th>id_1</th>\n      <td>-0.79</td>\n      <td>-0.49</td>\n      <td>1.27</td>\n      <td>0.30</td>\n    </tr>\n    <tr>\n      <th>id_2</th>\n      <td>-0.21</td>\n      <td>0.60</td>\n      <td>-0.04</td>\n      <td>0.72</td>\n    </tr>\n    <tr>\n      <th rowspan=\"3\" valign=\"top\">F</th>\n      <th>id_3</th>\n      <td>0.60</td>\n      <td>-1.17</td>\n      <td>-1.13</td>\n      <td>-0.18</td>\n    </tr>\n    <tr>\n      <th>id_4</th>\n      <td>0.73</td>\n      <td>-0.72</td>\n      <td>0.97</td>\n      <td>-0.33</td>\n    </tr>\n    <tr>\n      <th>id_5</th>\n      <td>0.44</td>\n      <td>-0.22</td>\n      <td>1.62</td>\n      <td>-0.72</td>\n    </tr>\n  </tbody>\n</table>\n</div>"
     },
     "execution_count": 18,
     "metadata": {},
     "output_type": "execute_result"
    }
   ],
   "source": [
    "multi_idx_frm"
   ],
   "metadata": {
    "collapsed": false,
    "pycharm": {
     "name": "#%%\n"
    }
   }
  },
  {
   "cell_type": "code",
   "execution_count": 19,
   "outputs": [
    {
     "data": {
      "text/plain": "GrpIdx           Grp01       Grp02      \nColIdx           col01 col02 col03 col04\nGenderIdx RowIdx                        \nM         id_0   -0.88  0.87 -0.62  0.64\n          id_1   -0.79 -0.49  1.27  0.30\n          id_2   -0.21  0.60 -0.04  0.72\nF         id_3    0.60 -1.17 -1.13 -0.18\n          id_4    0.73 -0.72  0.97 -0.33\n          id_5    0.44 -0.22  1.62 -0.72",
      "text/html": "<div>\n<style scoped>\n    .dataframe tbody tr th:only-of-type {\n        vertical-align: middle;\n    }\n\n    .dataframe tbody tr th {\n        vertical-align: top;\n    }\n\n    .dataframe thead tr th {\n        text-align: left;\n    }\n\n    .dataframe thead tr:last-of-type th {\n        text-align: right;\n    }\n</style>\n<table border=\"1\" class=\"dataframe\">\n  <thead>\n    <tr>\n      <th></th>\n      <th>GrpIdx</th>\n      <th colspan=\"2\" halign=\"left\">Grp01</th>\n      <th colspan=\"2\" halign=\"left\">Grp02</th>\n    </tr>\n    <tr>\n      <th></th>\n      <th>ColIdx</th>\n      <th>col01</th>\n      <th>col02</th>\n      <th>col03</th>\n      <th>col04</th>\n    </tr>\n    <tr>\n      <th>GenderIdx</th>\n      <th>RowIdx</th>\n      <th></th>\n      <th></th>\n      <th></th>\n      <th></th>\n    </tr>\n  </thead>\n  <tbody>\n    <tr>\n      <th rowspan=\"3\" valign=\"top\">M</th>\n      <th>id_0</th>\n      <td>-0.88</td>\n      <td>0.87</td>\n      <td>-0.62</td>\n      <td>0.64</td>\n    </tr>\n    <tr>\n      <th>id_1</th>\n      <td>-0.79</td>\n      <td>-0.49</td>\n      <td>1.27</td>\n      <td>0.30</td>\n    </tr>\n    <tr>\n      <th>id_2</th>\n      <td>-0.21</td>\n      <td>0.60</td>\n      <td>-0.04</td>\n      <td>0.72</td>\n    </tr>\n    <tr>\n      <th rowspan=\"3\" valign=\"top\">F</th>\n      <th>id_3</th>\n      <td>0.60</td>\n      <td>-1.17</td>\n      <td>-1.13</td>\n      <td>-0.18</td>\n    </tr>\n    <tr>\n      <th>id_4</th>\n      <td>0.73</td>\n      <td>-0.72</td>\n      <td>0.97</td>\n      <td>-0.33</td>\n    </tr>\n    <tr>\n      <th>id_5</th>\n      <td>0.44</td>\n      <td>-0.22</td>\n      <td>1.62</td>\n      <td>-0.72</td>\n    </tr>\n  </tbody>\n</table>\n</div>"
     },
     "execution_count": 19,
     "metadata": {},
     "output_type": "execute_result"
    }
   ],
   "source": [
    "multi_idx_frm.sort_index(level = 1 , axis = 1)"
   ],
   "metadata": {
    "collapsed": false,
    "pycharm": {
     "name": "#%%\n"
    }
   }
  },
  {
   "cell_type": "code",
   "execution_count": 20,
   "outputs": [
    {
     "data": {
      "text/plain": "      학과  학년     이름   학점\n0   인공지능   1  Jason  2.7\n1  데이터분석   2   Kiki  3.5\n2   인공지능   3   Alan  4.5\n3  데이터분석   4     Zi  3.8\n4  데이터분석   2   Rosa  4.3",
      "text/html": "<div>\n<style scoped>\n    .dataframe tbody tr th:only-of-type {\n        vertical-align: middle;\n    }\n\n    .dataframe tbody tr th {\n        vertical-align: top;\n    }\n\n    .dataframe thead th {\n        text-align: right;\n    }\n</style>\n<table border=\"1\" class=\"dataframe\">\n  <thead>\n    <tr style=\"text-align: right;\">\n      <th></th>\n      <th>학과</th>\n      <th>학년</th>\n      <th>이름</th>\n      <th>학점</th>\n    </tr>\n  </thead>\n  <tbody>\n    <tr>\n      <th>0</th>\n      <td>인공지능</td>\n      <td>1</td>\n      <td>Jason</td>\n      <td>2.7</td>\n    </tr>\n    <tr>\n      <th>1</th>\n      <td>데이터분석</td>\n      <td>2</td>\n      <td>Kiki</td>\n      <td>3.5</td>\n    </tr>\n    <tr>\n      <th>2</th>\n      <td>인공지능</td>\n      <td>3</td>\n      <td>Alan</td>\n      <td>4.5</td>\n    </tr>\n    <tr>\n      <th>3</th>\n      <td>데이터분석</td>\n      <td>4</td>\n      <td>Zi</td>\n      <td>3.8</td>\n    </tr>\n    <tr>\n      <th>4</th>\n      <td>데이터분석</td>\n      <td>2</td>\n      <td>Rosa</td>\n      <td>4.3</td>\n    </tr>\n  </tbody>\n</table>\n</div>"
     },
     "execution_count": 20,
     "metadata": {},
     "output_type": "execute_result"
    }
   ],
   "source": [
    "grp_frm = pd.DataFrame({\n",
    "    '학과' : ['인공지능' , '데이터분석' , '인공지능' , '데이터분석' , '데이터분석'] ,\n",
    "    '학년' : [1, 2, 3, 4, 2] ,\n",
    "    '이름' : ['Jason' , 'Kiki' , 'Alan' , 'Zi' , 'Rosa'] ,\n",
    "    '학점' : [2.7, 3.5, 4.5, 3.8, 4.3]\n",
    "})\n",
    "\n",
    "grp_frm"
   ],
   "metadata": {
    "collapsed": false,
    "pycharm": {
     "name": "#%%\n"
    }
   }
  },
  {
   "cell_type": "code",
   "execution_count": 21,
   "outputs": [
    {
     "name": "stdout",
     "output_type": "stream",
     "text": [
      "그룹을 만드는 방법은 두가지로 데이터프레임그룹 과 시리즈그룹이 생성될 수 있다. - \n",
      "프레임 그룹 -  <pandas.core.groupby.generic.DataFrameGroupBy object at 0x7f90b871e880>\n",
      "프레임 그룹 -  <pandas.core.groupby.generic.SeriesGroupBy object at 0x7f90b871e430>\n"
     ]
    }
   ],
   "source": [
    "print('그룹을 만드는 방법은 두가지로 데이터프레임그룹 과 시리즈그룹이 생성될 수 있다. - ')\n",
    "dept_frm = grp_frm.groupby( grp_frm['학과'])\n",
    "print('프레임 그룹 - ' , dept_frm )\n",
    "\n",
    "dept_series = grp_frm['학과'].groupby( grp_frm['학과'])\n",
    "print('프레임 그룹 - ' , dept_series )\n"
   ],
   "metadata": {
    "collapsed": false,
    "pycharm": {
     "name": "#%%\n"
    }
   }
  },
  {
   "cell_type": "code",
   "execution_count": 22,
   "outputs": [
    {
     "name": "stdout",
     "output_type": "stream",
     "text": [
      "그룹 정보 확인 - \n",
      "groups -  {'데이터분석': [1, 3, 4], '인공지능': [0, 2]}\n",
      "\n",
      "그룹 정보를 가져오고 싶다면 - \n",
      "1    데이터분석\n",
      "3    데이터분석\n",
      "4    데이터분석\n",
      "Name: 학과, dtype: object\n",
      "\n",
      "0    인공지능\n",
      "2    인공지능\n",
      "Name: 학과, dtype: object\n"
     ]
    }
   ],
   "source": [
    "print('그룹 정보 확인 - ')\n",
    "print('groups - ' ,  dept_series.groups )\n",
    "print()\n",
    "print('그룹 정보를 가져오고 싶다면 - ')\n",
    "print(dept_series.get_group('데이터분석') )\n",
    "print()\n",
    "print(dept_series.get_group('인공지능') )"
   ],
   "metadata": {
    "collapsed": false,
    "pycharm": {
     "name": "#%%\n"
    }
   }
  },
  {
   "cell_type": "code",
   "execution_count": 23,
   "outputs": [
    {
     "name": "stdout",
     "output_type": "stream",
     "text": [
      "데이터프레임 그룹 - \n",
      "그룹 정보 확인 - \n",
      "groups -  {'데이터분석': [1, 3, 4], '인공지능': [0, 2]}\n",
      "\n",
      "그룹 정보를 가져오고 싶다면 - \n"
     ]
    },
    {
     "data": {
      "text/plain": "      학과  학년    이름   학점\n1  데이터분석   2  Kiki  3.5\n3  데이터분석   4    Zi  3.8\n4  데이터분석   2  Rosa  4.3",
      "text/html": "<div>\n<style scoped>\n    .dataframe tbody tr th:only-of-type {\n        vertical-align: middle;\n    }\n\n    .dataframe tbody tr th {\n        vertical-align: top;\n    }\n\n    .dataframe thead th {\n        text-align: right;\n    }\n</style>\n<table border=\"1\" class=\"dataframe\">\n  <thead>\n    <tr style=\"text-align: right;\">\n      <th></th>\n      <th>학과</th>\n      <th>학년</th>\n      <th>이름</th>\n      <th>학점</th>\n    </tr>\n  </thead>\n  <tbody>\n    <tr>\n      <th>1</th>\n      <td>데이터분석</td>\n      <td>2</td>\n      <td>Kiki</td>\n      <td>3.5</td>\n    </tr>\n    <tr>\n      <th>3</th>\n      <td>데이터분석</td>\n      <td>4</td>\n      <td>Zi</td>\n      <td>3.8</td>\n    </tr>\n    <tr>\n      <th>4</th>\n      <td>데이터분석</td>\n      <td>2</td>\n      <td>Rosa</td>\n      <td>4.3</td>\n    </tr>\n  </tbody>\n</table>\n</div>"
     },
     "metadata": {},
     "output_type": "display_data"
    },
    {
     "name": "stdout",
     "output_type": "stream",
     "text": [
      "\n"
     ]
    },
    {
     "data": {
      "text/plain": "     학과  학년     이름   학점\n0  인공지능   1  Jason  2.7\n2  인공지능   3   Alan  4.5",
      "text/html": "<div>\n<style scoped>\n    .dataframe tbody tr th:only-of-type {\n        vertical-align: middle;\n    }\n\n    .dataframe tbody tr th {\n        vertical-align: top;\n    }\n\n    .dataframe thead th {\n        text-align: right;\n    }\n</style>\n<table border=\"1\" class=\"dataframe\">\n  <thead>\n    <tr style=\"text-align: right;\">\n      <th></th>\n      <th>학과</th>\n      <th>학년</th>\n      <th>이름</th>\n      <th>학점</th>\n    </tr>\n  </thead>\n  <tbody>\n    <tr>\n      <th>0</th>\n      <td>인공지능</td>\n      <td>1</td>\n      <td>Jason</td>\n      <td>2.7</td>\n    </tr>\n    <tr>\n      <th>2</th>\n      <td>인공지능</td>\n      <td>3</td>\n      <td>Alan</td>\n      <td>4.5</td>\n    </tr>\n  </tbody>\n</table>\n</div>"
     },
     "metadata": {},
     "output_type": "display_data"
    }
   ],
   "source": [
    "print('데이터프레임 그룹 - ')\n",
    "\n",
    "print('그룹 정보 확인 - ')\n",
    "print('groups - ' ,  dept_frm.groups )\n",
    "print()\n",
    "print('그룹 정보를 가져오고 싶다면 - ')\n",
    "display(dept_frm.get_group('데이터분석') )\n",
    "print()\n",
    "display(dept_frm.get_group('인공지능') )"
   ],
   "metadata": {
    "collapsed": false,
    "pycharm": {
     "name": "#%%\n"
    }
   }
  },
  {
   "cell_type": "code",
   "execution_count": 24,
   "outputs": [
    {
     "data": {
      "text/plain": "         학년                                                 학점            \\\n      count      mean       std  min  25%  50%  75%  max count      mean   \n학과                                                                         \n데이터분석   3.0  2.666667  1.154701  2.0  2.0  2.0  3.0  4.0   3.0  3.866667   \n인공지능    2.0  2.000000  1.414214  1.0  1.5  2.0  2.5  3.0   2.0  3.600000   \n\n                                            \n            std  min   25%  50%   75%  max  \n학과                                          \n데이터분석  0.404145  3.5  3.65  3.8  4.05  4.3  \n인공지능   1.272792  2.7  3.15  3.6  4.05  4.5  ",
      "text/html": "<div>\n<style scoped>\n    .dataframe tbody tr th:only-of-type {\n        vertical-align: middle;\n    }\n\n    .dataframe tbody tr th {\n        vertical-align: top;\n    }\n\n    .dataframe thead tr th {\n        text-align: left;\n    }\n\n    .dataframe thead tr:last-of-type th {\n        text-align: right;\n    }\n</style>\n<table border=\"1\" class=\"dataframe\">\n  <thead>\n    <tr>\n      <th></th>\n      <th colspan=\"8\" halign=\"left\">학년</th>\n      <th colspan=\"8\" halign=\"left\">학점</th>\n    </tr>\n    <tr>\n      <th></th>\n      <th>count</th>\n      <th>mean</th>\n      <th>std</th>\n      <th>min</th>\n      <th>25%</th>\n      <th>50%</th>\n      <th>75%</th>\n      <th>max</th>\n      <th>count</th>\n      <th>mean</th>\n      <th>std</th>\n      <th>min</th>\n      <th>25%</th>\n      <th>50%</th>\n      <th>75%</th>\n      <th>max</th>\n    </tr>\n    <tr>\n      <th>학과</th>\n      <th></th>\n      <th></th>\n      <th></th>\n      <th></th>\n      <th></th>\n      <th></th>\n      <th></th>\n      <th></th>\n      <th></th>\n      <th></th>\n      <th></th>\n      <th></th>\n      <th></th>\n      <th></th>\n      <th></th>\n      <th></th>\n    </tr>\n  </thead>\n  <tbody>\n    <tr>\n      <th>데이터분석</th>\n      <td>3.0</td>\n      <td>2.666667</td>\n      <td>1.154701</td>\n      <td>2.0</td>\n      <td>2.0</td>\n      <td>2.0</td>\n      <td>3.0</td>\n      <td>4.0</td>\n      <td>3.0</td>\n      <td>3.866667</td>\n      <td>0.404145</td>\n      <td>3.5</td>\n      <td>3.65</td>\n      <td>3.8</td>\n      <td>4.05</td>\n      <td>4.3</td>\n    </tr>\n    <tr>\n      <th>인공지능</th>\n      <td>2.0</td>\n      <td>2.000000</td>\n      <td>1.414214</td>\n      <td>1.0</td>\n      <td>1.5</td>\n      <td>2.0</td>\n      <td>2.5</td>\n      <td>3.0</td>\n      <td>2.0</td>\n      <td>3.600000</td>\n      <td>1.272792</td>\n      <td>2.7</td>\n      <td>3.15</td>\n      <td>3.6</td>\n      <td>4.05</td>\n      <td>4.5</td>\n    </tr>\n  </tbody>\n</table>\n</div>"
     },
     "execution_count": 24,
     "metadata": {},
     "output_type": "execute_result"
    }
   ],
   "source": [
    "dept_frm.describe()"
   ],
   "metadata": {
    "collapsed": false,
    "pycharm": {
     "name": "#%%\n"
    }
   }
  },
  {
   "cell_type": "code",
   "execution_count": 25,
   "outputs": [
    {
     "name": "stdout",
     "output_type": "stream",
     "text": [
      "학과별 학점 평균만 출력한다면 - \n",
      "case01 - \n"
     ]
    },
    {
     "data": {
      "text/plain": "학과\n데이터분석    3.866667\n인공지능     3.600000\nName: 학점, dtype: float64"
     },
     "metadata": {},
     "output_type": "display_data"
    },
    {
     "name": "stdout",
     "output_type": "stream",
     "text": [
      "\n",
      "case02 - \n",
      "학과\n",
      "데이터분석    3.866667\n",
      "인공지능     3.600000\n",
      "Name: 학점, dtype: float64\n",
      "\n",
      "case03 - \n",
      "학과\n",
      "데이터분석    3.866667\n",
      "인공지능     3.600000\n",
      "Name: 학점, dtype: float64\n"
     ]
    }
   ],
   "source": [
    "print('학과별 학점 평균만 출력한다면 - ')\n",
    "# dept_frm.mean()\n",
    "print('case01 - ')\n",
    "display( grp_frm['학점'].groupby(grp_frm['학과']).mean() )\n",
    "print()\n",
    "print('case02 - ')\n",
    "print( grp_frm.groupby(grp_frm['학과'])['학점'].mean() )\n",
    "print()\n",
    "print('case03 - ')\n",
    "print( grp_frm.groupby(grp_frm['학과']).mean()['학점'] )"
   ],
   "metadata": {
    "collapsed": false,
    "pycharm": {
     "name": "#%%\n"
    }
   }
  },
  {
   "cell_type": "code",
   "execution_count": 26,
   "outputs": [
    {
     "data": {
      "text/plain": "       학년    학점\n학과             \n데이터분석   8  11.6\n인공지능    4   7.2",
      "text/html": "<div>\n<style scoped>\n    .dataframe tbody tr th:only-of-type {\n        vertical-align: middle;\n    }\n\n    .dataframe tbody tr th {\n        vertical-align: top;\n    }\n\n    .dataframe thead th {\n        text-align: right;\n    }\n</style>\n<table border=\"1\" class=\"dataframe\">\n  <thead>\n    <tr style=\"text-align: right;\">\n      <th></th>\n      <th>학년</th>\n      <th>학점</th>\n    </tr>\n    <tr>\n      <th>학과</th>\n      <th></th>\n      <th></th>\n    </tr>\n  </thead>\n  <tbody>\n    <tr>\n      <th>데이터분석</th>\n      <td>8</td>\n      <td>11.6</td>\n    </tr>\n    <tr>\n      <th>인공지능</th>\n      <td>4</td>\n      <td>7.2</td>\n    </tr>\n  </tbody>\n</table>\n</div>"
     },
     "execution_count": 26,
     "metadata": {},
     "output_type": "execute_result"
    }
   ],
   "source": [
    "dept_frm.sum()"
   ],
   "metadata": {
    "collapsed": false,
    "pycharm": {
     "name": "#%%\n"
    }
   }
  },
  {
   "cell_type": "code",
   "execution_count": 27,
   "outputs": [
    {
     "data": {
      "text/plain": "             학년            학점      \n           mean sum      mean   sum\n학과                                 \n데이터분석  2.666667   8  3.866667  11.6\n인공지능   2.000000   4  3.600000   7.2",
      "text/html": "<div>\n<style scoped>\n    .dataframe tbody tr th:only-of-type {\n        vertical-align: middle;\n    }\n\n    .dataframe tbody tr th {\n        vertical-align: top;\n    }\n\n    .dataframe thead tr th {\n        text-align: left;\n    }\n\n    .dataframe thead tr:last-of-type th {\n        text-align: right;\n    }\n</style>\n<table border=\"1\" class=\"dataframe\">\n  <thead>\n    <tr>\n      <th></th>\n      <th colspan=\"2\" halign=\"left\">학년</th>\n      <th colspan=\"2\" halign=\"left\">학점</th>\n    </tr>\n    <tr>\n      <th></th>\n      <th>mean</th>\n      <th>sum</th>\n      <th>mean</th>\n      <th>sum</th>\n    </tr>\n    <tr>\n      <th>학과</th>\n      <th></th>\n      <th></th>\n      <th></th>\n      <th></th>\n    </tr>\n  </thead>\n  <tbody>\n    <tr>\n      <th>데이터분석</th>\n      <td>2.666667</td>\n      <td>8</td>\n      <td>3.866667</td>\n      <td>11.6</td>\n    </tr>\n    <tr>\n      <th>인공지능</th>\n      <td>2.000000</td>\n      <td>4</td>\n      <td>3.600000</td>\n      <td>7.2</td>\n    </tr>\n  </tbody>\n</table>\n</div>"
     },
     "execution_count": 27,
     "metadata": {},
     "output_type": "execute_result"
    }
   ],
   "source": [
    "dept_frm.agg( [np.mean , np.sum] )"
   ],
   "metadata": {
    "collapsed": false,
    "pycharm": {
     "name": "#%%\n"
    }
   }
  },
  {
   "cell_type": "code",
   "execution_count": 28,
   "outputs": [
    {
     "data": {
      "text/plain": "      학과  학년     이름   학점\n0   인공지능   1  Jason  2.7\n1  데이터분석   2   Kiki  3.5\n2   인공지능   3   Alan  4.5\n3  데이터분석   4     Zi  3.8\n4  데이터분석   2   Rosa  4.3",
      "text/html": "<div>\n<style scoped>\n    .dataframe tbody tr th:only-of-type {\n        vertical-align: middle;\n    }\n\n    .dataframe tbody tr th {\n        vertical-align: top;\n    }\n\n    .dataframe thead th {\n        text-align: right;\n    }\n</style>\n<table border=\"1\" class=\"dataframe\">\n  <thead>\n    <tr style=\"text-align: right;\">\n      <th></th>\n      <th>학과</th>\n      <th>학년</th>\n      <th>이름</th>\n      <th>학점</th>\n    </tr>\n  </thead>\n  <tbody>\n    <tr>\n      <th>0</th>\n      <td>인공지능</td>\n      <td>1</td>\n      <td>Jason</td>\n      <td>2.7</td>\n    </tr>\n    <tr>\n      <th>1</th>\n      <td>데이터분석</td>\n      <td>2</td>\n      <td>Kiki</td>\n      <td>3.5</td>\n    </tr>\n    <tr>\n      <th>2</th>\n      <td>인공지능</td>\n      <td>3</td>\n      <td>Alan</td>\n      <td>4.5</td>\n    </tr>\n    <tr>\n      <th>3</th>\n      <td>데이터분석</td>\n      <td>4</td>\n      <td>Zi</td>\n      <td>3.8</td>\n    </tr>\n    <tr>\n      <th>4</th>\n      <td>데이터분석</td>\n      <td>2</td>\n      <td>Rosa</td>\n      <td>4.3</td>\n    </tr>\n  </tbody>\n</table>\n</div>"
     },
     "execution_count": 28,
     "metadata": {},
     "output_type": "execute_result"
    }
   ],
   "source": [
    "grp_frm"
   ],
   "metadata": {
    "collapsed": false,
    "pycharm": {
     "name": "#%%\n"
    }
   }
  },
  {
   "cell_type": "code",
   "execution_count": 29,
   "outputs": [
    {
     "name": "stdout",
     "output_type": "stream",
     "text": [
      "다중 그룹 - \n",
      "그룹 정보 확인 - \n",
      "groups -  {('데이터분석', 2): [1, 4], ('데이터분석', 4): [3], ('인공지능', 1): [0], ('인공지능', 3): [2]}\n"
     ]
    }
   ],
   "source": [
    "print('다중 그룹 - ')\n",
    "\n",
    "multi_grp_frm = grp_frm.groupby(['학과' , '학년'])\n",
    "\n",
    "print('그룹 정보 확인 - ')\n",
    "print('groups - ' ,  multi_grp_frm.groups )"
   ],
   "metadata": {
    "collapsed": false,
    "pycharm": {
     "name": "#%%\n"
    }
   }
  },
  {
   "cell_type": "code",
   "execution_count": 30,
   "outputs": [
    {
     "data": {
      "text/plain": "  idx01 idx02  idx01_data01  idx02_data02\n0     A   one             1            10\n1     A   two             2            20\n2     B   one             3            30\n3     B   two             4            40\n4     A   one             5            50",
      "text/html": "<div>\n<style scoped>\n    .dataframe tbody tr th:only-of-type {\n        vertical-align: middle;\n    }\n\n    .dataframe tbody tr th {\n        vertical-align: top;\n    }\n\n    .dataframe thead th {\n        text-align: right;\n    }\n</style>\n<table border=\"1\" class=\"dataframe\">\n  <thead>\n    <tr style=\"text-align: right;\">\n      <th></th>\n      <th>idx01</th>\n      <th>idx02</th>\n      <th>idx01_data01</th>\n      <th>idx02_data02</th>\n    </tr>\n  </thead>\n  <tbody>\n    <tr>\n      <th>0</th>\n      <td>A</td>\n      <td>one</td>\n      <td>1</td>\n      <td>10</td>\n    </tr>\n    <tr>\n      <th>1</th>\n      <td>A</td>\n      <td>two</td>\n      <td>2</td>\n      <td>20</td>\n    </tr>\n    <tr>\n      <th>2</th>\n      <td>B</td>\n      <td>one</td>\n      <td>3</td>\n      <td>30</td>\n    </tr>\n    <tr>\n      <th>3</th>\n      <td>B</td>\n      <td>two</td>\n      <td>4</td>\n      <td>40</td>\n    </tr>\n    <tr>\n      <th>4</th>\n      <td>A</td>\n      <td>one</td>\n      <td>5</td>\n      <td>50</td>\n    </tr>\n  </tbody>\n</table>\n</div>"
     },
     "execution_count": 30,
     "metadata": {},
     "output_type": "execute_result"
    }
   ],
   "source": [
    "tmp_frm = pd.DataFrame({\n",
    "    'idx01' : ['A' , 'A' , 'B' , 'B' , 'A'] ,\n",
    "    'idx02' : ['one' , 'two' , 'one' , 'two' , 'one'] ,\n",
    "    'idx01_data01' : [1, 2, 3, 4, 5] ,\n",
    "    'idx02_data02' : [10, 20, 30, 40, 50] ,\n",
    "})\n",
    "\n",
    "tmp_frm\n"
   ],
   "metadata": {
    "collapsed": false,
    "pycharm": {
     "name": "#%%\n"
    }
   }
  },
  {
   "cell_type": "code",
   "execution_count": 31,
   "outputs": [
    {
     "name": "stdout",
     "output_type": "stream",
     "text": [
      "idx01 그룹을 만들고 싶다면 - \n"
     ]
    },
    {
     "data": {
      "text/plain": "{'A': [0, 1, 4], 'B': [2, 3]}"
     },
     "execution_count": 31,
     "metadata": {},
     "output_type": "execute_result"
    }
   ],
   "source": [
    "print('idx01 그룹을 만들고 싶다면 - ')\n",
    "idx01_grp = tmp_frm.groupby(tmp_frm['idx01'])\n",
    "idx01_grp.groups"
   ],
   "metadata": {
    "collapsed": false,
    "pycharm": {
     "name": "#%%\n"
    }
   }
  },
  {
   "cell_type": "code",
   "execution_count": 32,
   "outputs": [
    {
     "name": "stdout",
     "output_type": "stream",
     "text": [
      "idx01 그룹을 만들고 싶다면 - \n"
     ]
    },
    {
     "data": {
      "text/plain": "{'A': [0, 1, 4], 'B': [2, 3]}"
     },
     "execution_count": 32,
     "metadata": {},
     "output_type": "execute_result"
    }
   ],
   "source": [
    "print('idx01 그룹을 만들고 싶다면 - ')\n",
    "idx01_grp = tmp_frm.groupby(tmp_frm['idx01'])\n",
    "idx01_grp.groups"
   ],
   "metadata": {
    "collapsed": false,
    "pycharm": {
     "name": "#%%\n"
    }
   }
  },
  {
   "cell_type": "code",
   "execution_count": 33,
   "outputs": [
    {
     "name": "stdout",
     "output_type": "stream",
     "text": [
      "그룹에 대한 수치값들만 그룹 연산이 된다 - \n"
     ]
    },
    {
     "data": {
      "text/plain": "       idx01_data01  idx02_data02\nidx01                            \nA                 8            80\nB                 7            70",
      "text/html": "<div>\n<style scoped>\n    .dataframe tbody tr th:only-of-type {\n        vertical-align: middle;\n    }\n\n    .dataframe tbody tr th {\n        vertical-align: top;\n    }\n\n    .dataframe thead th {\n        text-align: right;\n    }\n</style>\n<table border=\"1\" class=\"dataframe\">\n  <thead>\n    <tr style=\"text-align: right;\">\n      <th></th>\n      <th>idx01_data01</th>\n      <th>idx02_data02</th>\n    </tr>\n    <tr>\n      <th>idx01</th>\n      <th></th>\n      <th></th>\n    </tr>\n  </thead>\n  <tbody>\n    <tr>\n      <th>A</th>\n      <td>8</td>\n      <td>80</td>\n    </tr>\n    <tr>\n      <th>B</th>\n      <td>7</td>\n      <td>70</td>\n    </tr>\n  </tbody>\n</table>\n</div>"
     },
     "execution_count": 33,
     "metadata": {},
     "output_type": "execute_result"
    }
   ],
   "source": [
    "print('그룹에 대한 수치값들만 그룹 연산이 된다 - ')\n",
    "idx01_grp.sum()"
   ],
   "metadata": {
    "collapsed": false,
    "pycharm": {
     "name": "#%%\n"
    }
   }
  },
  {
   "cell_type": "code",
   "execution_count": 34,
   "outputs": [
    {
     "data": {
      "text/plain": "idx01\nA    2.666667\nB    3.500000\nName: idx01_data01, dtype: float64"
     },
     "execution_count": 34,
     "metadata": {},
     "output_type": "execute_result"
    }
   ],
   "source": [
    "tmp_frm['idx01_data01'].groupby(tmp_frm['idx01']).mean()"
   ],
   "metadata": {
    "collapsed": false,
    "pycharm": {
     "name": "#%%\n"
    }
   }
  },
  {
   "cell_type": "code",
   "execution_count": 35,
   "outputs": [
    {
     "name": "stdout",
     "output_type": "stream",
     "text": [
      "다중 키 또는 복합 키 - \n"
     ]
    },
    {
     "data": {
      "text/plain": "idx02  one  two\nidx01          \nA        6    2\nB        3    4",
      "text/html": "<div>\n<style scoped>\n    .dataframe tbody tr th:only-of-type {\n        vertical-align: middle;\n    }\n\n    .dataframe tbody tr th {\n        vertical-align: top;\n    }\n\n    .dataframe thead th {\n        text-align: right;\n    }\n</style>\n<table border=\"1\" class=\"dataframe\">\n  <thead>\n    <tr style=\"text-align: right;\">\n      <th>idx02</th>\n      <th>one</th>\n      <th>two</th>\n    </tr>\n    <tr>\n      <th>idx01</th>\n      <th></th>\n      <th></th>\n    </tr>\n  </thead>\n  <tbody>\n    <tr>\n      <th>A</th>\n      <td>6</td>\n      <td>2</td>\n    </tr>\n    <tr>\n      <th>B</th>\n      <td>3</td>\n      <td>4</td>\n    </tr>\n  </tbody>\n</table>\n</div>"
     },
     "execution_count": 35,
     "metadata": {},
     "output_type": "execute_result"
    }
   ],
   "source": [
    "print('다중 키 또는 복합 키 - ')\n",
    "tmp_frm['idx01_data01'].groupby([tmp_frm['idx01'] , tmp_frm['idx02']]).sum().unstack()"
   ],
   "metadata": {
    "collapsed": false,
    "pycharm": {
     "name": "#%%\n"
    }
   }
  },
  {
   "cell_type": "code",
   "execution_count": 37,
   "outputs": [],
   "source": [
    "titanic_dataset = sns.load_dataset('titanic')\n",
    "iris_dataset = sns.load_dataset('iris')"
   ],
   "metadata": {
    "collapsed": false,
    "pycharm": {
     "name": "#%%\n"
    }
   }
  },
  {
   "cell_type": "code",
   "execution_count": 39,
   "outputs": [
    {
     "data": {
      "text/plain": "     sepal_length  sepal_width  petal_length  petal_width    species\n0             5.1          3.5           1.4          0.2     setosa\n1             4.9          3.0           1.4          0.2     setosa\n2             4.7          3.2           1.3          0.2     setosa\n3             4.6          3.1           1.5          0.2     setosa\n4             5.0          3.6           1.4          0.2     setosa\n..            ...          ...           ...          ...        ...\n145           6.7          3.0           5.2          2.3  virginica\n146           6.3          2.5           5.0          1.9  virginica\n147           6.5          3.0           5.2          2.0  virginica\n148           6.2          3.4           5.4          2.3  virginica\n149           5.9          3.0           5.1          1.8  virginica\n\n[150 rows x 5 columns]",
      "text/html": "<div>\n<style scoped>\n    .dataframe tbody tr th:only-of-type {\n        vertical-align: middle;\n    }\n\n    .dataframe tbody tr th {\n        vertical-align: top;\n    }\n\n    .dataframe thead th {\n        text-align: right;\n    }\n</style>\n<table border=\"1\" class=\"dataframe\">\n  <thead>\n    <tr style=\"text-align: right;\">\n      <th></th>\n      <th>sepal_length</th>\n      <th>sepal_width</th>\n      <th>petal_length</th>\n      <th>petal_width</th>\n      <th>species</th>\n    </tr>\n  </thead>\n  <tbody>\n    <tr>\n      <th>0</th>\n      <td>5.1</td>\n      <td>3.5</td>\n      <td>1.4</td>\n      <td>0.2</td>\n      <td>setosa</td>\n    </tr>\n    <tr>\n      <th>1</th>\n      <td>4.9</td>\n      <td>3.0</td>\n      <td>1.4</td>\n      <td>0.2</td>\n      <td>setosa</td>\n    </tr>\n    <tr>\n      <th>2</th>\n      <td>4.7</td>\n      <td>3.2</td>\n      <td>1.3</td>\n      <td>0.2</td>\n      <td>setosa</td>\n    </tr>\n    <tr>\n      <th>3</th>\n      <td>4.6</td>\n      <td>3.1</td>\n      <td>1.5</td>\n      <td>0.2</td>\n      <td>setosa</td>\n    </tr>\n    <tr>\n      <th>4</th>\n      <td>5.0</td>\n      <td>3.6</td>\n      <td>1.4</td>\n      <td>0.2</td>\n      <td>setosa</td>\n    </tr>\n    <tr>\n      <th>...</th>\n      <td>...</td>\n      <td>...</td>\n      <td>...</td>\n      <td>...</td>\n      <td>...</td>\n    </tr>\n    <tr>\n      <th>145</th>\n      <td>6.7</td>\n      <td>3.0</td>\n      <td>5.2</td>\n      <td>2.3</td>\n      <td>virginica</td>\n    </tr>\n    <tr>\n      <th>146</th>\n      <td>6.3</td>\n      <td>2.5</td>\n      <td>5.0</td>\n      <td>1.9</td>\n      <td>virginica</td>\n    </tr>\n    <tr>\n      <th>147</th>\n      <td>6.5</td>\n      <td>3.0</td>\n      <td>5.2</td>\n      <td>2.0</td>\n      <td>virginica</td>\n    </tr>\n    <tr>\n      <th>148</th>\n      <td>6.2</td>\n      <td>3.4</td>\n      <td>5.4</td>\n      <td>2.3</td>\n      <td>virginica</td>\n    </tr>\n    <tr>\n      <th>149</th>\n      <td>5.9</td>\n      <td>3.0</td>\n      <td>5.1</td>\n      <td>1.8</td>\n      <td>virginica</td>\n    </tr>\n  </tbody>\n</table>\n<p>150 rows × 5 columns</p>\n</div>"
     },
     "execution_count": 39,
     "metadata": {},
     "output_type": "execute_result"
    }
   ],
   "source": [
    "titanic_dataset\n",
    "iris_dataset"
   ],
   "metadata": {
    "collapsed": false,
    "pycharm": {
     "name": "#%%\n"
    }
   }
  },
  {
   "cell_type": "code",
   "execution_count": 40,
   "outputs": [
    {
     "name": "stdout",
     "output_type": "stream",
     "text": [
      "age, sex, class, fare, survived - 순서로 서브셋 구축\n"
     ]
    },
    {
     "data": {
      "text/plain": "      age     sex   class     fare  survived\n0    22.0    male   Third   7.2500         0\n1    38.0  female   First  71.2833         1\n2    26.0  female   Third   7.9250         1\n3    35.0  female   First  53.1000         1\n4    35.0    male   Third   8.0500         0\n..    ...     ...     ...      ...       ...\n886  27.0    male  Second  13.0000         0\n887  19.0  female   First  30.0000         1\n888   NaN  female   Third  23.4500         0\n889  26.0    male   First  30.0000         1\n890  32.0    male   Third   7.7500         0\n\n[891 rows x 5 columns]",
      "text/html": "<div>\n<style scoped>\n    .dataframe tbody tr th:only-of-type {\n        vertical-align: middle;\n    }\n\n    .dataframe tbody tr th {\n        vertical-align: top;\n    }\n\n    .dataframe thead th {\n        text-align: right;\n    }\n</style>\n<table border=\"1\" class=\"dataframe\">\n  <thead>\n    <tr style=\"text-align: right;\">\n      <th></th>\n      <th>age</th>\n      <th>sex</th>\n      <th>class</th>\n      <th>fare</th>\n      <th>survived</th>\n    </tr>\n  </thead>\n  <tbody>\n    <tr>\n      <th>0</th>\n      <td>22.0</td>\n      <td>male</td>\n      <td>Third</td>\n      <td>7.2500</td>\n      <td>0</td>\n    </tr>\n    <tr>\n      <th>1</th>\n      <td>38.0</td>\n      <td>female</td>\n      <td>First</td>\n      <td>71.2833</td>\n      <td>1</td>\n    </tr>\n    <tr>\n      <th>2</th>\n      <td>26.0</td>\n      <td>female</td>\n      <td>Third</td>\n      <td>7.9250</td>\n      <td>1</td>\n    </tr>\n    <tr>\n      <th>3</th>\n      <td>35.0</td>\n      <td>female</td>\n      <td>First</td>\n      <td>53.1000</td>\n      <td>1</td>\n    </tr>\n    <tr>\n      <th>4</th>\n      <td>35.0</td>\n      <td>male</td>\n      <td>Third</td>\n      <td>8.0500</td>\n      <td>0</td>\n    </tr>\n    <tr>\n      <th>...</th>\n      <td>...</td>\n      <td>...</td>\n      <td>...</td>\n      <td>...</td>\n      <td>...</td>\n    </tr>\n    <tr>\n      <th>886</th>\n      <td>27.0</td>\n      <td>male</td>\n      <td>Second</td>\n      <td>13.0000</td>\n      <td>0</td>\n    </tr>\n    <tr>\n      <th>887</th>\n      <td>19.0</td>\n      <td>female</td>\n      <td>First</td>\n      <td>30.0000</td>\n      <td>1</td>\n    </tr>\n    <tr>\n      <th>888</th>\n      <td>NaN</td>\n      <td>female</td>\n      <td>Third</td>\n      <td>23.4500</td>\n      <td>0</td>\n    </tr>\n    <tr>\n      <th>889</th>\n      <td>26.0</td>\n      <td>male</td>\n      <td>First</td>\n      <td>30.0000</td>\n      <td>1</td>\n    </tr>\n    <tr>\n      <th>890</th>\n      <td>32.0</td>\n      <td>male</td>\n      <td>Third</td>\n      <td>7.7500</td>\n      <td>0</td>\n    </tr>\n  </tbody>\n</table>\n<p>891 rows × 5 columns</p>\n</div>"
     },
     "execution_count": 40,
     "metadata": {},
     "output_type": "execute_result"
    }
   ],
   "source": [
    "print('age, sex, class, fare, survived - 순서로 서브셋 구축')\n",
    "\n",
    "subset = titanic_dataset[['age','sex','class','fare','survived']]\n",
    "subset"
   ],
   "metadata": {
    "collapsed": false,
    "pycharm": {
     "name": "#%%\n"
    }
   }
  },
  {
   "cell_type": "code",
   "execution_count": 42,
   "outputs": [
    {
     "name": "stdout",
     "output_type": "stream",
     "text": [
      "case 2-       age     sex   class     fare  survived\n",
      "0    22.0    male   Third   7.2500         0\n",
      "1    38.0  female   First  71.2833         1\n",
      "2    26.0  female   Third   7.9250         1\n",
      "3    35.0  female   First  53.1000         1\n",
      "4    35.0    male   Third   8.0500         0\n",
      "..    ...     ...     ...      ...       ...\n",
      "886  27.0    male  Second  13.0000         0\n",
      "887  19.0  female   First  30.0000         1\n",
      "888   NaN  female   Third  23.4500         0\n",
      "889  26.0    male   First  30.0000         1\n",
      "890  32.0    male   Third   7.7500         0\n",
      "\n",
      "[891 rows x 5 columns]\n"
     ]
    }
   ],
   "source": [
    "subset = titanic_dataset.loc[ : , ['age','sex','class','fare','survived']]\n",
    "print('case 2-', subset)\n"
   ],
   "metadata": {
    "collapsed": false,
    "pycharm": {
     "name": "#%%\n"
    }
   }
  },
  {
   "cell_type": "code",
   "execution_count": 43,
   "outputs": [
    {
     "name": "stdout",
     "output_type": "stream",
     "text": [
      "요구사항 - 선실등급에 따른 그룹을 생성한다면 \n",
      "grp_id -  First\n",
      "\n",
      "      age     sex  class     fare  survived\n",
      "1    38.0  female  First  71.2833         1\n",
      "3    35.0  female  First  53.1000         1\n",
      "6    54.0    male  First  51.8625         0\n",
      "11   58.0  female  First  26.5500         1\n",
      "23   28.0    male  First  35.5000         1\n",
      "..    ...     ...    ...      ...       ...\n",
      "871  47.0  female  First  52.5542         1\n",
      "872  33.0    male  First   5.0000         0\n",
      "879  56.0  female  First  83.1583         1\n",
      "887  19.0  female  First  30.0000         1\n",
      "889  26.0    male  First  30.0000         1\n",
      "\n",
      "[216 rows x 5 columns]\n",
      "grp_id -  Second\n",
      "\n",
      "      age     sex   class     fare  survived\n",
      "9    14.0  female  Second  30.0708         1\n",
      "15   55.0  female  Second  16.0000         1\n",
      "17    NaN    male  Second  13.0000         1\n",
      "20   35.0    male  Second  26.0000         0\n",
      "21   34.0    male  Second  13.0000         1\n",
      "..    ...     ...     ...      ...       ...\n",
      "866  27.0  female  Second  13.8583         1\n",
      "874  28.0  female  Second  24.0000         1\n",
      "880  25.0  female  Second  26.0000         1\n",
      "883  28.0    male  Second  10.5000         0\n",
      "886  27.0    male  Second  13.0000         0\n",
      "\n",
      "[184 rows x 5 columns]\n",
      "grp_id -  Third\n",
      "\n",
      "      age     sex  class     fare  survived\n",
      "0    22.0    male  Third   7.2500         0\n",
      "2    26.0  female  Third   7.9250         1\n",
      "4    35.0    male  Third   8.0500         0\n",
      "5     NaN    male  Third   8.4583         0\n",
      "7     2.0    male  Third  21.0750         0\n",
      "..    ...     ...    ...      ...       ...\n",
      "882  22.0  female  Third  10.5167         0\n",
      "884  25.0    male  Third   7.0500         0\n",
      "885  39.0  female  Third  29.1250         0\n",
      "888   NaN  female  Third  23.4500         0\n",
      "890  32.0    male  Third   7.7500         0\n",
      "\n",
      "[491 rows x 5 columns]\n"
     ]
    }
   ],
   "source": [
    "print('요구사항 - 선실등급에 따른 그룹을 생성한다면 ')\n",
    "class_grp = subset.groupby(subset['class'])\n",
    "\n",
    "for grp_id  , data in class_grp :\n",
    "    print('grp_id - ' , grp_id)\n",
    "    print()\n",
    "    print(data)"
   ],
   "metadata": {
    "collapsed": false,
    "pycharm": {
     "name": "#%%\n"
    }
   }
  },
  {
   "cell_type": "code",
   "execution_count": null,
   "outputs": [],
   "source": [],
   "metadata": {
    "collapsed": false,
    "pycharm": {
     "name": "#%%\n"
    }
   }
  },
  {
   "cell_type": "code",
   "execution_count": null,
   "outputs": [],
   "source": [],
   "metadata": {
    "collapsed": false,
    "pycharm": {
     "name": "#%%\n"
    }
   }
  },
  {
   "cell_type": "code",
   "execution_count": null,
   "outputs": [],
   "source": [],
   "metadata": {
    "collapsed": false,
    "pycharm": {
     "name": "#%%\n"
    }
   }
  }
 ],
 "metadata": {
  "kernelspec": {
   "display_name": "Python 3",
   "language": "python",
   "name": "python3"
  },
  "language_info": {
   "codemirror_mode": {
    "name": "ipython",
    "version": 2
   },
   "file_extension": ".py",
   "mimetype": "text/x-python",
   "name": "python",
   "nbconvert_exporter": "python",
   "pygments_lexer": "ipython2",
   "version": "2.7.6"
  }
 },
 "nbformat": 4,
 "nbformat_minor": 0
}