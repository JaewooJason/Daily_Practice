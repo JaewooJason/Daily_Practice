{
 "cells": [
  {
   "cell_type": "code",
   "execution_count": 1,
   "metadata": {
    "collapsed": true
   },
   "outputs": [
    {
     "name": "stdout",
     "output_type": "stream",
     "text": [
      "numpy  version -  1.20.3\n",
      "pandas version -  1.3.4\n"
     ]
    }
   ],
   "source": [
    "import numpy  as np\n",
    "import pandas as pd\n",
    "\n",
    "import warnings\n",
    "warnings.filterwarnings(action='ignore')\n",
    "\n",
    "from datetime import date, datetime, timedelta\n",
    "from dateutil.parser import parse\n",
    "\n",
    "import json\n",
    "import urllib\n",
    "\n",
    "# titanic dataset\n",
    "import seaborn as sns\n",
    "\n",
    "# 비정형 데이터 처리를 위한 라이브러리\n",
    "from bs4 import BeautifulSoup\n",
    "import requests\n",
    "import re\n",
    "\n",
    "\n",
    "\n",
    "print('numpy  version - ' , np.__version__)\n",
    "print('pandas version - ' , pd.__version__)"
   ]
  },
  {
   "cell_type": "code",
   "execution_count": 2,
   "outputs": [],
   "source": [
    "def seriesInfo(s) :\n",
    "    print('series : index + values \\n' , s)\n",
    "    print('index  - ' , s.index  , type(s.index))\n",
    "    print('values - ' , s.values , type(s.values))\n",
    "\n",
    "def frmInfo(df) :\n",
    "    display('data - ' , df )\n",
    "    print()\n",
    "    print('shape   - ' , df.shape , df.shape[0] , df.shape[1])\n",
    "    print('size    - ' , df.size )\n",
    "    print('ndim    - ' , df.ndim)\n",
    "    print('index   - ' , df.index    , type(df.index))\n",
    "    print('columns - ' , df.columns  , type( df.columns ))\n",
    "    print('values  - \\n' , df.values , type(df.values) )"
   ],
   "metadata": {
    "collapsed": false,
    "pycharm": {
     "name": "#%%\n"
    }
   }
  },
  {
   "cell_type": "code",
   "execution_count": 3,
   "outputs": [
    {
     "data": {
      "text/plain": "  Grp01       Grp02      \n  col01 col02 col03 col04\n0  1.01  0.64  1.42  0.81\n1  0.62  0.78 -0.21  0.62\n2  0.67  0.44  0.50 -0.03\n3  0.04  0.83 -0.70 -1.64\n4 -1.19 -1.40 -2.67  0.89",
      "text/html": "<div>\n<style scoped>\n    .dataframe tbody tr th:only-of-type {\n        vertical-align: middle;\n    }\n\n    .dataframe tbody tr th {\n        vertical-align: top;\n    }\n\n    .dataframe thead tr th {\n        text-align: left;\n    }\n</style>\n<table border=\"1\" class=\"dataframe\">\n  <thead>\n    <tr>\n      <th></th>\n      <th colspan=\"2\" halign=\"left\">Grp01</th>\n      <th colspan=\"2\" halign=\"left\">Grp02</th>\n    </tr>\n    <tr>\n      <th></th>\n      <th>col01</th>\n      <th>col02</th>\n      <th>col03</th>\n      <th>col04</th>\n    </tr>\n  </thead>\n  <tbody>\n    <tr>\n      <th>0</th>\n      <td>1.01</td>\n      <td>0.64</td>\n      <td>1.42</td>\n      <td>0.81</td>\n    </tr>\n    <tr>\n      <th>1</th>\n      <td>0.62</td>\n      <td>0.78</td>\n      <td>-0.21</td>\n      <td>0.62</td>\n    </tr>\n    <tr>\n      <th>2</th>\n      <td>0.67</td>\n      <td>0.44</td>\n      <td>0.50</td>\n      <td>-0.03</td>\n    </tr>\n    <tr>\n      <th>3</th>\n      <td>0.04</td>\n      <td>0.83</td>\n      <td>-0.70</td>\n      <td>-1.64</td>\n    </tr>\n    <tr>\n      <th>4</th>\n      <td>-1.19</td>\n      <td>-1.40</td>\n      <td>-2.67</td>\n      <td>0.89</td>\n    </tr>\n  </tbody>\n</table>\n</div>"
     },
     "execution_count": 3,
     "metadata": {},
     "output_type": "execute_result"
    }
   ],
   "source": [
    "multi_col_idx_frm = pd.DataFrame( np.round( np.random.randn(5, 4) , 2 )    ,\n",
    "                                  columns = [\n",
    "                                      ['Grp01' , 'Grp01' , 'Grp02' , 'Grp02'] ,\n",
    "                                      ['col01' , 'col02' , 'col03' , 'col04']\n",
    "                                  ])\n",
    "\n",
    "multi_col_idx_frm"
   ],
   "metadata": {
    "collapsed": false,
    "pycharm": {
     "name": "#%%\n"
    }
   }
  },
  {
   "cell_type": "code",
   "execution_count": 4,
   "outputs": [
    {
     "data": {
      "text/plain": "MultiIndex([('Grp01', 'col01'),\n            ('Grp01', 'col02'),\n            ('Grp02', 'col03'),\n            ('Grp02', 'col04')],\n           )"
     },
     "execution_count": 4,
     "metadata": {},
     "output_type": "execute_result"
    }
   ],
   "source": [
    "multi_col_idx_frm.columns"
   ],
   "metadata": {
    "collapsed": false,
    "pycharm": {
     "name": "#%%\n"
    }
   }
  },
  {
   "cell_type": "code",
   "execution_count": 5,
   "outputs": [
    {
     "data": {
      "text/plain": "GrpIdx Grp01       Grp02      \nColIdx col01 col02 col03 col04\n0       1.01  0.64  1.42  0.81\n1       0.62  0.78 -0.21  0.62\n2       0.67  0.44  0.50 -0.03\n3       0.04  0.83 -0.70 -1.64\n4      -1.19 -1.40 -2.67  0.89",
      "text/html": "<div>\n<style scoped>\n    .dataframe tbody tr th:only-of-type {\n        vertical-align: middle;\n    }\n\n    .dataframe tbody tr th {\n        vertical-align: top;\n    }\n\n    .dataframe thead tr th {\n        text-align: left;\n    }\n</style>\n<table border=\"1\" class=\"dataframe\">\n  <thead>\n    <tr>\n      <th>GrpIdx</th>\n      <th colspan=\"2\" halign=\"left\">Grp01</th>\n      <th colspan=\"2\" halign=\"left\">Grp02</th>\n    </tr>\n    <tr>\n      <th>ColIdx</th>\n      <th>col01</th>\n      <th>col02</th>\n      <th>col03</th>\n      <th>col04</th>\n    </tr>\n  </thead>\n  <tbody>\n    <tr>\n      <th>0</th>\n      <td>1.01</td>\n      <td>0.64</td>\n      <td>1.42</td>\n      <td>0.81</td>\n    </tr>\n    <tr>\n      <th>1</th>\n      <td>0.62</td>\n      <td>0.78</td>\n      <td>-0.21</td>\n      <td>0.62</td>\n    </tr>\n    <tr>\n      <th>2</th>\n      <td>0.67</td>\n      <td>0.44</td>\n      <td>0.50</td>\n      <td>-0.03</td>\n    </tr>\n    <tr>\n      <th>3</th>\n      <td>0.04</td>\n      <td>0.83</td>\n      <td>-0.70</td>\n      <td>-1.64</td>\n    </tr>\n    <tr>\n      <th>4</th>\n      <td>-1.19</td>\n      <td>-1.40</td>\n      <td>-2.67</td>\n      <td>0.89</td>\n    </tr>\n  </tbody>\n</table>\n</div>"
     },
     "execution_count": 5,
     "metadata": {},
     "output_type": "execute_result"
    }
   ],
   "source": [
    "multi_col_idx_frm.columns.names = ['GrpIdx' , 'ColIdx' ]\n",
    "multi_col_idx_frm"
   ],
   "metadata": {
    "collapsed": false,
    "pycharm": {
     "name": "#%%\n"
    }
   }
  },
  {
   "cell_type": "code",
   "execution_count": 6,
   "outputs": [
    {
     "data": {
      "text/plain": "FrozenList(['GrpIdx', 'ColIdx'])"
     },
     "execution_count": 6,
     "metadata": {},
     "output_type": "execute_result"
    }
   ],
   "source": [
    "multi_col_idx_frm.columns.names"
   ],
   "metadata": {
    "collapsed": false,
    "pycharm": {
     "name": "#%%\n"
    }
   }
  },
  {
   "cell_type": "code",
   "execution_count": 7,
   "outputs": [
    {
     "data": {
      "text/plain": "GrpIdx           Grp01       Grp02      \nColIdx           col01 col02 col03 col04\nGenderIdx RowIdx                        \nM         id_0    1.43 -0.62  1.51 -0.21\n          id_1    0.49 -0.56  1.11  1.35\n          id_2    1.56  1.28 -0.84 -1.40\nF         id_3    0.32 -1.07  0.11  0.47\n          id_4   -0.23  0.03 -0.33 -0.87\n          id_5    0.33 -0.17 -1.07 -0.88",
      "text/html": "<div>\n<style scoped>\n    .dataframe tbody tr th:only-of-type {\n        vertical-align: middle;\n    }\n\n    .dataframe tbody tr th {\n        vertical-align: top;\n    }\n\n    .dataframe thead tr th {\n        text-align: left;\n    }\n\n    .dataframe thead tr:last-of-type th {\n        text-align: right;\n    }\n</style>\n<table border=\"1\" class=\"dataframe\">\n  <thead>\n    <tr>\n      <th></th>\n      <th>GrpIdx</th>\n      <th colspan=\"2\" halign=\"left\">Grp01</th>\n      <th colspan=\"2\" halign=\"left\">Grp02</th>\n    </tr>\n    <tr>\n      <th></th>\n      <th>ColIdx</th>\n      <th>col01</th>\n      <th>col02</th>\n      <th>col03</th>\n      <th>col04</th>\n    </tr>\n    <tr>\n      <th>GenderIdx</th>\n      <th>RowIdx</th>\n      <th></th>\n      <th></th>\n      <th></th>\n      <th></th>\n    </tr>\n  </thead>\n  <tbody>\n    <tr>\n      <th rowspan=\"3\" valign=\"top\">M</th>\n      <th>id_0</th>\n      <td>1.43</td>\n      <td>-0.62</td>\n      <td>1.51</td>\n      <td>-0.21</td>\n    </tr>\n    <tr>\n      <th>id_1</th>\n      <td>0.49</td>\n      <td>-0.56</td>\n      <td>1.11</td>\n      <td>1.35</td>\n    </tr>\n    <tr>\n      <th>id_2</th>\n      <td>1.56</td>\n      <td>1.28</td>\n      <td>-0.84</td>\n      <td>-1.40</td>\n    </tr>\n    <tr>\n      <th rowspan=\"3\" valign=\"top\">F</th>\n      <th>id_3</th>\n      <td>0.32</td>\n      <td>-1.07</td>\n      <td>0.11</td>\n      <td>0.47</td>\n    </tr>\n    <tr>\n      <th>id_4</th>\n      <td>-0.23</td>\n      <td>0.03</td>\n      <td>-0.33</td>\n      <td>-0.87</td>\n    </tr>\n    <tr>\n      <th>id_5</th>\n      <td>0.33</td>\n      <td>-0.17</td>\n      <td>-1.07</td>\n      <td>-0.88</td>\n    </tr>\n  </tbody>\n</table>\n</div>"
     },
     "execution_count": 7,
     "metadata": {},
     "output_type": "execute_result"
    }
   ],
   "source": [
    "multi_idx_frm = pd.DataFrame( np.round( np.random.randn(6, 4) , 2 )    ,\n",
    "                                  columns = [\n",
    "                                      ['Grp01' , 'Grp01' , 'Grp02' , 'Grp02'] ,\n",
    "                                      ['col01' , 'col02' , 'col03' , 'col04']\n",
    "                                  ] ,\n",
    "                                  index = [\n",
    "                                      ['M' , 'M' , 'M' , 'F' , 'F' , 'F'] ,\n",
    "                                      [ 'id_' + str(idx) for idx in range(6) ]\n",
    "                                  ])\n",
    "\n",
    "multi_idx_frm.columns.names = ['GrpIdx'  , 'ColIdx' ]\n",
    "multi_idx_frm.index.names   = ['GenderIdx' , 'RowIdx' ]\n",
    "multi_idx_frm"
   ],
   "metadata": {
    "collapsed": false,
    "pycharm": {
     "name": "#%%\n"
    }
   }
  },
  {
   "cell_type": "code",
   "execution_count": 8,
   "outputs": [
    {
     "data": {
      "text/plain": "GrpIdx                   Grp01  Grp02\nGenderIdx RowIdx ColIdx              \nM         id_0   col01    1.43    NaN\n                 col02   -0.62    NaN\n                 col03     NaN   1.51\n                 col04     NaN  -0.21\n          id_1   col01    0.49    NaN\n                 col02   -0.56    NaN\n                 col03     NaN   1.11\n                 col04     NaN   1.35\n          id_2   col01    1.56    NaN\n                 col02    1.28    NaN\n                 col03     NaN  -0.84\n                 col04     NaN  -1.40\nF         id_3   col01    0.32    NaN\n                 col02   -1.07    NaN\n                 col03     NaN   0.11\n                 col04     NaN   0.47\n          id_4   col01   -0.23    NaN\n                 col02    0.03    NaN\n                 col03     NaN  -0.33\n                 col04     NaN  -0.87\n          id_5   col01    0.33    NaN\n                 col02   -0.17    NaN\n                 col03     NaN  -1.07\n                 col04     NaN  -0.88",
      "text/html": "<div>\n<style scoped>\n    .dataframe tbody tr th:only-of-type {\n        vertical-align: middle;\n    }\n\n    .dataframe tbody tr th {\n        vertical-align: top;\n    }\n\n    .dataframe thead th {\n        text-align: right;\n    }\n</style>\n<table border=\"1\" class=\"dataframe\">\n  <thead>\n    <tr style=\"text-align: right;\">\n      <th></th>\n      <th></th>\n      <th>GrpIdx</th>\n      <th>Grp01</th>\n      <th>Grp02</th>\n    </tr>\n    <tr>\n      <th>GenderIdx</th>\n      <th>RowIdx</th>\n      <th>ColIdx</th>\n      <th></th>\n      <th></th>\n    </tr>\n  </thead>\n  <tbody>\n    <tr>\n      <th rowspan=\"12\" valign=\"top\">M</th>\n      <th rowspan=\"4\" valign=\"top\">id_0</th>\n      <th>col01</th>\n      <td>1.43</td>\n      <td>NaN</td>\n    </tr>\n    <tr>\n      <th>col02</th>\n      <td>-0.62</td>\n      <td>NaN</td>\n    </tr>\n    <tr>\n      <th>col03</th>\n      <td>NaN</td>\n      <td>1.51</td>\n    </tr>\n    <tr>\n      <th>col04</th>\n      <td>NaN</td>\n      <td>-0.21</td>\n    </tr>\n    <tr>\n      <th rowspan=\"4\" valign=\"top\">id_1</th>\n      <th>col01</th>\n      <td>0.49</td>\n      <td>NaN</td>\n    </tr>\n    <tr>\n      <th>col02</th>\n      <td>-0.56</td>\n      <td>NaN</td>\n    </tr>\n    <tr>\n      <th>col03</th>\n      <td>NaN</td>\n      <td>1.11</td>\n    </tr>\n    <tr>\n      <th>col04</th>\n      <td>NaN</td>\n      <td>1.35</td>\n    </tr>\n    <tr>\n      <th rowspan=\"4\" valign=\"top\">id_2</th>\n      <th>col01</th>\n      <td>1.56</td>\n      <td>NaN</td>\n    </tr>\n    <tr>\n      <th>col02</th>\n      <td>1.28</td>\n      <td>NaN</td>\n    </tr>\n    <tr>\n      <th>col03</th>\n      <td>NaN</td>\n      <td>-0.84</td>\n    </tr>\n    <tr>\n      <th>col04</th>\n      <td>NaN</td>\n      <td>-1.40</td>\n    </tr>\n    <tr>\n      <th rowspan=\"12\" valign=\"top\">F</th>\n      <th rowspan=\"4\" valign=\"top\">id_3</th>\n      <th>col01</th>\n      <td>0.32</td>\n      <td>NaN</td>\n    </tr>\n    <tr>\n      <th>col02</th>\n      <td>-1.07</td>\n      <td>NaN</td>\n    </tr>\n    <tr>\n      <th>col03</th>\n      <td>NaN</td>\n      <td>0.11</td>\n    </tr>\n    <tr>\n      <th>col04</th>\n      <td>NaN</td>\n      <td>0.47</td>\n    </tr>\n    <tr>\n      <th rowspan=\"4\" valign=\"top\">id_4</th>\n      <th>col01</th>\n      <td>-0.23</td>\n      <td>NaN</td>\n    </tr>\n    <tr>\n      <th>col02</th>\n      <td>0.03</td>\n      <td>NaN</td>\n    </tr>\n    <tr>\n      <th>col03</th>\n      <td>NaN</td>\n      <td>-0.33</td>\n    </tr>\n    <tr>\n      <th>col04</th>\n      <td>NaN</td>\n      <td>-0.87</td>\n    </tr>\n    <tr>\n      <th rowspan=\"4\" valign=\"top\">id_5</th>\n      <th>col01</th>\n      <td>0.33</td>\n      <td>NaN</td>\n    </tr>\n    <tr>\n      <th>col02</th>\n      <td>-0.17</td>\n      <td>NaN</td>\n    </tr>\n    <tr>\n      <th>col03</th>\n      <td>NaN</td>\n      <td>-1.07</td>\n    </tr>\n    <tr>\n      <th>col04</th>\n      <td>NaN</td>\n      <td>-0.88</td>\n    </tr>\n  </tbody>\n</table>\n</div>"
     },
     "execution_count": 8,
     "metadata": {},
     "output_type": "execute_result"
    }
   ],
   "source": [
    "multi_idx_frm.stack()"
   ],
   "metadata": {
    "collapsed": false,
    "pycharm": {
     "name": "#%%\n"
    }
   }
  },
  {
   "cell_type": "code",
   "execution_count": 9,
   "outputs": [
    {
     "data": {
      "text/plain": "ColIdx                   col01  col02  col03  col04\nGenderIdx RowIdx GrpIdx                            \nM         id_0   Grp01    1.43  -0.62    NaN    NaN\n                 Grp02     NaN    NaN   1.51  -0.21\n          id_1   Grp01    0.49  -0.56    NaN    NaN\n                 Grp02     NaN    NaN   1.11   1.35\n          id_2   Grp01    1.56   1.28    NaN    NaN\n                 Grp02     NaN    NaN  -0.84  -1.40\nF         id_3   Grp01    0.32  -1.07    NaN    NaN\n                 Grp02     NaN    NaN   0.11   0.47\n          id_4   Grp01   -0.23   0.03    NaN    NaN\n                 Grp02     NaN    NaN  -0.33  -0.87\n          id_5   Grp01    0.33  -0.17    NaN    NaN\n                 Grp02     NaN    NaN  -1.07  -0.88",
      "text/html": "<div>\n<style scoped>\n    .dataframe tbody tr th:only-of-type {\n        vertical-align: middle;\n    }\n\n    .dataframe tbody tr th {\n        vertical-align: top;\n    }\n\n    .dataframe thead th {\n        text-align: right;\n    }\n</style>\n<table border=\"1\" class=\"dataframe\">\n  <thead>\n    <tr style=\"text-align: right;\">\n      <th></th>\n      <th></th>\n      <th>ColIdx</th>\n      <th>col01</th>\n      <th>col02</th>\n      <th>col03</th>\n      <th>col04</th>\n    </tr>\n    <tr>\n      <th>GenderIdx</th>\n      <th>RowIdx</th>\n      <th>GrpIdx</th>\n      <th></th>\n      <th></th>\n      <th></th>\n      <th></th>\n    </tr>\n  </thead>\n  <tbody>\n    <tr>\n      <th rowspan=\"6\" valign=\"top\">M</th>\n      <th rowspan=\"2\" valign=\"top\">id_0</th>\n      <th>Grp01</th>\n      <td>1.43</td>\n      <td>-0.62</td>\n      <td>NaN</td>\n      <td>NaN</td>\n    </tr>\n    <tr>\n      <th>Grp02</th>\n      <td>NaN</td>\n      <td>NaN</td>\n      <td>1.51</td>\n      <td>-0.21</td>\n    </tr>\n    <tr>\n      <th rowspan=\"2\" valign=\"top\">id_1</th>\n      <th>Grp01</th>\n      <td>0.49</td>\n      <td>-0.56</td>\n      <td>NaN</td>\n      <td>NaN</td>\n    </tr>\n    <tr>\n      <th>Grp02</th>\n      <td>NaN</td>\n      <td>NaN</td>\n      <td>1.11</td>\n      <td>1.35</td>\n    </tr>\n    <tr>\n      <th rowspan=\"2\" valign=\"top\">id_2</th>\n      <th>Grp01</th>\n      <td>1.56</td>\n      <td>1.28</td>\n      <td>NaN</td>\n      <td>NaN</td>\n    </tr>\n    <tr>\n      <th>Grp02</th>\n      <td>NaN</td>\n      <td>NaN</td>\n      <td>-0.84</td>\n      <td>-1.40</td>\n    </tr>\n    <tr>\n      <th rowspan=\"6\" valign=\"top\">F</th>\n      <th rowspan=\"2\" valign=\"top\">id_3</th>\n      <th>Grp01</th>\n      <td>0.32</td>\n      <td>-1.07</td>\n      <td>NaN</td>\n      <td>NaN</td>\n    </tr>\n    <tr>\n      <th>Grp02</th>\n      <td>NaN</td>\n      <td>NaN</td>\n      <td>0.11</td>\n      <td>0.47</td>\n    </tr>\n    <tr>\n      <th rowspan=\"2\" valign=\"top\">id_4</th>\n      <th>Grp01</th>\n      <td>-0.23</td>\n      <td>0.03</td>\n      <td>NaN</td>\n      <td>NaN</td>\n    </tr>\n    <tr>\n      <th>Grp02</th>\n      <td>NaN</td>\n      <td>NaN</td>\n      <td>-0.33</td>\n      <td>-0.87</td>\n    </tr>\n    <tr>\n      <th rowspan=\"2\" valign=\"top\">id_5</th>\n      <th>Grp01</th>\n      <td>0.33</td>\n      <td>-0.17</td>\n      <td>NaN</td>\n      <td>NaN</td>\n    </tr>\n    <tr>\n      <th>Grp02</th>\n      <td>NaN</td>\n      <td>NaN</td>\n      <td>-1.07</td>\n      <td>-0.88</td>\n    </tr>\n  </tbody>\n</table>\n</div>"
     },
     "execution_count": 9,
     "metadata": {},
     "output_type": "execute_result"
    }
   ],
   "source": [
    "multi_idx_frm.stack('GrpIdx')"
   ],
   "metadata": {
    "collapsed": false,
    "pycharm": {
     "name": "#%%\n"
    }
   }
  },
  {
   "cell_type": "code",
   "execution_count": 10,
   "outputs": [
    {
     "data": {
      "text/plain": "GrpIdx    Grp01                                                        ...  \\\nColIdx    col01                               col02                    ...   \nRowIdx     id_0  id_1  id_2  id_3  id_4  id_5  id_0  id_1  id_2  id_3  ...   \nGenderIdx                                                              ...   \nF           NaN   NaN   NaN  0.32 -0.23  0.33   NaN   NaN   NaN -1.07  ...   \nM          1.43  0.49  1.56   NaN   NaN   NaN -0.62 -0.56  1.28   NaN  ...   \n\nGrpIdx    Grp02                                                       \nColIdx    col03                   col04                               \nRowIdx     id_2  id_3  id_4  id_5  id_0  id_1 id_2  id_3  id_4  id_5  \nGenderIdx                                                             \nF           NaN  0.11 -0.33 -1.07   NaN   NaN  NaN  0.47 -0.87 -0.88  \nM         -0.84   NaN   NaN   NaN -0.21  1.35 -1.4   NaN   NaN   NaN  \n\n[2 rows x 24 columns]",
      "text/html": "<div>\n<style scoped>\n    .dataframe tbody tr th:only-of-type {\n        vertical-align: middle;\n    }\n\n    .dataframe tbody tr th {\n        vertical-align: top;\n    }\n\n    .dataframe thead tr th {\n        text-align: left;\n    }\n\n    .dataframe thead tr:last-of-type th {\n        text-align: right;\n    }\n</style>\n<table border=\"1\" class=\"dataframe\">\n  <thead>\n    <tr>\n      <th>GrpIdx</th>\n      <th colspan=\"10\" halign=\"left\">Grp01</th>\n      <th>...</th>\n      <th colspan=\"10\" halign=\"left\">Grp02</th>\n    </tr>\n    <tr>\n      <th>ColIdx</th>\n      <th colspan=\"6\" halign=\"left\">col01</th>\n      <th colspan=\"4\" halign=\"left\">col02</th>\n      <th>...</th>\n      <th colspan=\"4\" halign=\"left\">col03</th>\n      <th colspan=\"6\" halign=\"left\">col04</th>\n    </tr>\n    <tr>\n      <th>RowIdx</th>\n      <th>id_0</th>\n      <th>id_1</th>\n      <th>id_2</th>\n      <th>id_3</th>\n      <th>id_4</th>\n      <th>id_5</th>\n      <th>id_0</th>\n      <th>id_1</th>\n      <th>id_2</th>\n      <th>id_3</th>\n      <th>...</th>\n      <th>id_2</th>\n      <th>id_3</th>\n      <th>id_4</th>\n      <th>id_5</th>\n      <th>id_0</th>\n      <th>id_1</th>\n      <th>id_2</th>\n      <th>id_3</th>\n      <th>id_4</th>\n      <th>id_5</th>\n    </tr>\n    <tr>\n      <th>GenderIdx</th>\n      <th></th>\n      <th></th>\n      <th></th>\n      <th></th>\n      <th></th>\n      <th></th>\n      <th></th>\n      <th></th>\n      <th></th>\n      <th></th>\n      <th></th>\n      <th></th>\n      <th></th>\n      <th></th>\n      <th></th>\n      <th></th>\n      <th></th>\n      <th></th>\n      <th></th>\n      <th></th>\n      <th></th>\n    </tr>\n  </thead>\n  <tbody>\n    <tr>\n      <th>F</th>\n      <td>NaN</td>\n      <td>NaN</td>\n      <td>NaN</td>\n      <td>0.32</td>\n      <td>-0.23</td>\n      <td>0.33</td>\n      <td>NaN</td>\n      <td>NaN</td>\n      <td>NaN</td>\n      <td>-1.07</td>\n      <td>...</td>\n      <td>NaN</td>\n      <td>0.11</td>\n      <td>-0.33</td>\n      <td>-1.07</td>\n      <td>NaN</td>\n      <td>NaN</td>\n      <td>NaN</td>\n      <td>0.47</td>\n      <td>-0.87</td>\n      <td>-0.88</td>\n    </tr>\n    <tr>\n      <th>M</th>\n      <td>1.43</td>\n      <td>0.49</td>\n      <td>1.56</td>\n      <td>NaN</td>\n      <td>NaN</td>\n      <td>NaN</td>\n      <td>-0.62</td>\n      <td>-0.56</td>\n      <td>1.28</td>\n      <td>NaN</td>\n      <td>...</td>\n      <td>-0.84</td>\n      <td>NaN</td>\n      <td>NaN</td>\n      <td>NaN</td>\n      <td>-0.21</td>\n      <td>1.35</td>\n      <td>-1.4</td>\n      <td>NaN</td>\n      <td>NaN</td>\n      <td>NaN</td>\n    </tr>\n  </tbody>\n</table>\n<p>2 rows × 24 columns</p>\n</div>"
     },
     "execution_count": 10,
     "metadata": {},
     "output_type": "execute_result"
    }
   ],
   "source": [
    "multi_idx_frm.unstack()"
   ],
   "metadata": {
    "collapsed": false,
    "pycharm": {
     "name": "#%%\n"
    }
   }
  },
  {
   "cell_type": "code",
   "execution_count": 10,
   "outputs": [],
   "source": [],
   "metadata": {
    "collapsed": false,
    "pycharm": {
     "name": "#%%\n"
    }
   }
  },
  {
   "cell_type": "code",
   "execution_count": 11,
   "outputs": [
    {
     "data": {
      "text/plain": "GrpIdx    Grp01                   Grp02                  \nColIdx    col01       col02       col03       col04      \nGenderIdx     F     M     F     M     F     M     F     M\nRowIdx                                                   \nid_0        NaN  1.43   NaN -0.62   NaN  1.51   NaN -0.21\nid_1        NaN  0.49   NaN -0.56   NaN  1.11   NaN  1.35\nid_2        NaN  1.56   NaN  1.28   NaN -0.84   NaN -1.40\nid_3       0.32   NaN -1.07   NaN  0.11   NaN  0.47   NaN\nid_4      -0.23   NaN  0.03   NaN -0.33   NaN -0.87   NaN\nid_5       0.33   NaN -0.17   NaN -1.07   NaN -0.88   NaN",
      "text/html": "<div>\n<style scoped>\n    .dataframe tbody tr th:only-of-type {\n        vertical-align: middle;\n    }\n\n    .dataframe tbody tr th {\n        vertical-align: top;\n    }\n\n    .dataframe thead tr th {\n        text-align: left;\n    }\n\n    .dataframe thead tr:last-of-type th {\n        text-align: right;\n    }\n</style>\n<table border=\"1\" class=\"dataframe\">\n  <thead>\n    <tr>\n      <th>GrpIdx</th>\n      <th colspan=\"4\" halign=\"left\">Grp01</th>\n      <th colspan=\"4\" halign=\"left\">Grp02</th>\n    </tr>\n    <tr>\n      <th>ColIdx</th>\n      <th colspan=\"2\" halign=\"left\">col01</th>\n      <th colspan=\"2\" halign=\"left\">col02</th>\n      <th colspan=\"2\" halign=\"left\">col03</th>\n      <th colspan=\"2\" halign=\"left\">col04</th>\n    </tr>\n    <tr>\n      <th>GenderIdx</th>\n      <th>F</th>\n      <th>M</th>\n      <th>F</th>\n      <th>M</th>\n      <th>F</th>\n      <th>M</th>\n      <th>F</th>\n      <th>M</th>\n    </tr>\n    <tr>\n      <th>RowIdx</th>\n      <th></th>\n      <th></th>\n      <th></th>\n      <th></th>\n      <th></th>\n      <th></th>\n      <th></th>\n      <th></th>\n    </tr>\n  </thead>\n  <tbody>\n    <tr>\n      <th>id_0</th>\n      <td>NaN</td>\n      <td>1.43</td>\n      <td>NaN</td>\n      <td>-0.62</td>\n      <td>NaN</td>\n      <td>1.51</td>\n      <td>NaN</td>\n      <td>-0.21</td>\n    </tr>\n    <tr>\n      <th>id_1</th>\n      <td>NaN</td>\n      <td>0.49</td>\n      <td>NaN</td>\n      <td>-0.56</td>\n      <td>NaN</td>\n      <td>1.11</td>\n      <td>NaN</td>\n      <td>1.35</td>\n    </tr>\n    <tr>\n      <th>id_2</th>\n      <td>NaN</td>\n      <td>1.56</td>\n      <td>NaN</td>\n      <td>1.28</td>\n      <td>NaN</td>\n      <td>-0.84</td>\n      <td>NaN</td>\n      <td>-1.40</td>\n    </tr>\n    <tr>\n      <th>id_3</th>\n      <td>0.32</td>\n      <td>NaN</td>\n      <td>-1.07</td>\n      <td>NaN</td>\n      <td>0.11</td>\n      <td>NaN</td>\n      <td>0.47</td>\n      <td>NaN</td>\n    </tr>\n    <tr>\n      <th>id_4</th>\n      <td>-0.23</td>\n      <td>NaN</td>\n      <td>0.03</td>\n      <td>NaN</td>\n      <td>-0.33</td>\n      <td>NaN</td>\n      <td>-0.87</td>\n      <td>NaN</td>\n    </tr>\n    <tr>\n      <th>id_5</th>\n      <td>0.33</td>\n      <td>NaN</td>\n      <td>-0.17</td>\n      <td>NaN</td>\n      <td>-1.07</td>\n      <td>NaN</td>\n      <td>-0.88</td>\n      <td>NaN</td>\n    </tr>\n  </tbody>\n</table>\n</div>"
     },
     "execution_count": 11,
     "metadata": {},
     "output_type": "execute_result"
    }
   ],
   "source": [
    "multi_idx_frm.unstack('GenderIdx')"
   ],
   "metadata": {
    "collapsed": false,
    "pycharm": {
     "name": "#%%\n"
    }
   }
  },
  {
   "cell_type": "code",
   "execution_count": 12,
   "outputs": [
    {
     "data": {
      "text/plain": "GrpIdx           Grp01      \nColIdx           col01 col02\nGenderIdx RowIdx            \nM         id_0    1.43 -0.62\n          id_1    0.49 -0.56\n          id_2    1.56  1.28\nF         id_3    0.32 -1.07\n          id_4   -0.23  0.03\n          id_5    0.33 -0.17",
      "text/html": "<div>\n<style scoped>\n    .dataframe tbody tr th:only-of-type {\n        vertical-align: middle;\n    }\n\n    .dataframe tbody tr th {\n        vertical-align: top;\n    }\n\n    .dataframe thead tr th {\n        text-align: left;\n    }\n\n    .dataframe thead tr:last-of-type th {\n        text-align: right;\n    }\n</style>\n<table border=\"1\" class=\"dataframe\">\n  <thead>\n    <tr>\n      <th></th>\n      <th>GrpIdx</th>\n      <th colspan=\"2\" halign=\"left\">Grp01</th>\n    </tr>\n    <tr>\n      <th></th>\n      <th>ColIdx</th>\n      <th>col01</th>\n      <th>col02</th>\n    </tr>\n    <tr>\n      <th>GenderIdx</th>\n      <th>RowIdx</th>\n      <th></th>\n      <th></th>\n    </tr>\n  </thead>\n  <tbody>\n    <tr>\n      <th rowspan=\"3\" valign=\"top\">M</th>\n      <th>id_0</th>\n      <td>1.43</td>\n      <td>-0.62</td>\n    </tr>\n    <tr>\n      <th>id_1</th>\n      <td>0.49</td>\n      <td>-0.56</td>\n    </tr>\n    <tr>\n      <th>id_2</th>\n      <td>1.56</td>\n      <td>1.28</td>\n    </tr>\n    <tr>\n      <th rowspan=\"3\" valign=\"top\">F</th>\n      <th>id_3</th>\n      <td>0.32</td>\n      <td>-1.07</td>\n    </tr>\n    <tr>\n      <th>id_4</th>\n      <td>-0.23</td>\n      <td>0.03</td>\n    </tr>\n    <tr>\n      <th>id_5</th>\n      <td>0.33</td>\n      <td>-0.17</td>\n    </tr>\n  </tbody>\n</table>\n</div>"
     },
     "execution_count": 12,
     "metadata": {},
     "output_type": "execute_result"
    }
   ],
   "source": [
    "\n",
    "multi_idx_frm[ [ ('Grp01', 'col01') , ('Grp01', 'col02') ] ]"
   ],
   "metadata": {
    "collapsed": false,
    "pycharm": {
     "name": "#%%\n"
    }
   }
  },
  {
   "cell_type": "code",
   "execution_count": 13,
   "outputs": [
    {
     "data": {
      "text/plain": "GrpIdx           Grp01       Grp02      \nColIdx           col01 col02 col03 col04\nGenderIdx RowIdx                        \nM         id_0    1.43 -0.62  1.51 -0.21\n          id_1    0.49 -0.56  1.11  1.35\n          id_2    1.56  1.28 -0.84 -1.40\nF         id_3    0.32 -1.07  0.11  0.47\n          id_4   -0.23  0.03 -0.33 -0.87\n          id_5    0.33 -0.17 -1.07 -0.88",
      "text/html": "<div>\n<style scoped>\n    .dataframe tbody tr th:only-of-type {\n        vertical-align: middle;\n    }\n\n    .dataframe tbody tr th {\n        vertical-align: top;\n    }\n\n    .dataframe thead tr th {\n        text-align: left;\n    }\n\n    .dataframe thead tr:last-of-type th {\n        text-align: right;\n    }\n</style>\n<table border=\"1\" class=\"dataframe\">\n  <thead>\n    <tr>\n      <th></th>\n      <th>GrpIdx</th>\n      <th colspan=\"2\" halign=\"left\">Grp01</th>\n      <th colspan=\"2\" halign=\"left\">Grp02</th>\n    </tr>\n    <tr>\n      <th></th>\n      <th>ColIdx</th>\n      <th>col01</th>\n      <th>col02</th>\n      <th>col03</th>\n      <th>col04</th>\n    </tr>\n    <tr>\n      <th>GenderIdx</th>\n      <th>RowIdx</th>\n      <th></th>\n      <th></th>\n      <th></th>\n      <th></th>\n    </tr>\n  </thead>\n  <tbody>\n    <tr>\n      <th rowspan=\"3\" valign=\"top\">M</th>\n      <th>id_0</th>\n      <td>1.43</td>\n      <td>-0.62</td>\n      <td>1.51</td>\n      <td>-0.21</td>\n    </tr>\n    <tr>\n      <th>id_1</th>\n      <td>0.49</td>\n      <td>-0.56</td>\n      <td>1.11</td>\n      <td>1.35</td>\n    </tr>\n    <tr>\n      <th>id_2</th>\n      <td>1.56</td>\n      <td>1.28</td>\n      <td>-0.84</td>\n      <td>-1.40</td>\n    </tr>\n    <tr>\n      <th rowspan=\"3\" valign=\"top\">F</th>\n      <th>id_3</th>\n      <td>0.32</td>\n      <td>-1.07</td>\n      <td>0.11</td>\n      <td>0.47</td>\n    </tr>\n    <tr>\n      <th>id_4</th>\n      <td>-0.23</td>\n      <td>0.03</td>\n      <td>-0.33</td>\n      <td>-0.87</td>\n    </tr>\n    <tr>\n      <th>id_5</th>\n      <td>0.33</td>\n      <td>-0.17</td>\n      <td>-1.07</td>\n      <td>-0.88</td>\n    </tr>\n  </tbody>\n</table>\n</div>"
     },
     "execution_count": 13,
     "metadata": {},
     "output_type": "execute_result"
    }
   ],
   "source": [
    "multi_idx_frm"
   ],
   "metadata": {
    "collapsed": false,
    "pycharm": {
     "name": "#%%\n"
    }
   }
  },
  {
   "cell_type": "code",
   "execution_count": 14,
   "outputs": [
    {
     "data": {
      "text/plain": "1.51"
     },
     "execution_count": 14,
     "metadata": {},
     "output_type": "execute_result"
    }
   ],
   "source": [
    "multi_idx_frm[('Grp02','col03')].values[0]"
   ],
   "metadata": {
    "collapsed": false,
    "pycharm": {
     "name": "#%%\n"
    }
   }
  },
  {
   "cell_type": "code",
   "execution_count": 15,
   "outputs": [
    {
     "data": {
      "text/plain": "-0.84"
     },
     "execution_count": 15,
     "metadata": {},
     "output_type": "execute_result"
    }
   ],
   "source": [
    "multi_idx_frm.loc[('M', 'id_1'), 'Grp02']\n",
    "multi_idx_frm['Grp02'].values[1]\n",
    "multi_idx_frm[ ('Grp02','col03') ]  [('M','id_2')]\n"
   ],
   "metadata": {
    "collapsed": false,
    "pycharm": {
     "name": "#%%\n"
    }
   }
  },
  {
   "cell_type": "code",
   "execution_count": 15,
   "outputs": [],
   "source": [],
   "metadata": {
    "collapsed": false,
    "pycharm": {
     "name": "#%%\n"
    }
   }
  },
  {
   "cell_type": "code",
   "execution_count": 16,
   "outputs": [
    {
     "data": {
      "text/plain": "array([1.11, 1.35])"
     },
     "execution_count": 16,
     "metadata": {},
     "output_type": "execute_result"
    }
   ],
   "source": [
    "multi_idx_frm[[('Grp02','col03'),('Grp02','col04')]].iloc[1].values\n"
   ],
   "metadata": {
    "collapsed": false,
    "pycharm": {
     "name": "#%%\n"
    }
   }
  },
  {
   "cell_type": "code",
   "execution_count": 17,
   "outputs": [
    {
     "name": "stdout",
     "output_type": "stream",
     "text": [
      "M 정보만 출력 - \n"
     ]
    },
    {
     "data": {
      "text/plain": "GrpIdx           Grp02      \nColIdx           col03 col04\nGenderIdx RowIdx            \nM         id_0    1.51 -0.21\n          id_1    1.11  1.35\n          id_2   -0.84 -1.40",
      "text/html": "<div>\n<style scoped>\n    .dataframe tbody tr th:only-of-type {\n        vertical-align: middle;\n    }\n\n    .dataframe tbody tr th {\n        vertical-align: top;\n    }\n\n    .dataframe thead tr th {\n        text-align: left;\n    }\n\n    .dataframe thead tr:last-of-type th {\n        text-align: right;\n    }\n</style>\n<table border=\"1\" class=\"dataframe\">\n  <thead>\n    <tr>\n      <th></th>\n      <th>GrpIdx</th>\n      <th colspan=\"2\" halign=\"left\">Grp02</th>\n    </tr>\n    <tr>\n      <th></th>\n      <th>ColIdx</th>\n      <th>col03</th>\n      <th>col04</th>\n    </tr>\n    <tr>\n      <th>GenderIdx</th>\n      <th>RowIdx</th>\n      <th></th>\n      <th></th>\n    </tr>\n  </thead>\n  <tbody>\n    <tr>\n      <th rowspan=\"3\" valign=\"top\">M</th>\n      <th>id_0</th>\n      <td>1.51</td>\n      <td>-0.21</td>\n    </tr>\n    <tr>\n      <th>id_1</th>\n      <td>1.11</td>\n      <td>1.35</td>\n    </tr>\n    <tr>\n      <th>id_2</th>\n      <td>-0.84</td>\n      <td>-1.40</td>\n    </tr>\n  </tbody>\n</table>\n</div>"
     },
     "execution_count": 17,
     "metadata": {},
     "output_type": "execute_result"
    }
   ],
   "source": [
    "print('M 정보만 출력 - ')\n",
    "\n",
    "multi_idx_frm.loc['M']\n",
    "multi_idx_frm.iloc[ : 3 , 2 : 4  ]"
   ],
   "metadata": {
    "collapsed": false,
    "pycharm": {
     "name": "#%%\n"
    }
   }
  },
  {
   "cell_type": "code",
   "execution_count": 18,
   "outputs": [
    {
     "data": {
      "text/plain": "GrpIdx           Grp01       Grp02      \nColIdx           col01 col02 col03 col04\nGenderIdx RowIdx                        \nM         id_0    1.43 -0.62  1.51 -0.21\n          id_1    0.49 -0.56  1.11  1.35\n          id_2    1.56  1.28 -0.84 -1.40\nF         id_3    0.32 -1.07  0.11  0.47\n          id_4   -0.23  0.03 -0.33 -0.87\n          id_5    0.33 -0.17 -1.07 -0.88",
      "text/html": "<div>\n<style scoped>\n    .dataframe tbody tr th:only-of-type {\n        vertical-align: middle;\n    }\n\n    .dataframe tbody tr th {\n        vertical-align: top;\n    }\n\n    .dataframe thead tr th {\n        text-align: left;\n    }\n\n    .dataframe thead tr:last-of-type th {\n        text-align: right;\n    }\n</style>\n<table border=\"1\" class=\"dataframe\">\n  <thead>\n    <tr>\n      <th></th>\n      <th>GrpIdx</th>\n      <th colspan=\"2\" halign=\"left\">Grp01</th>\n      <th colspan=\"2\" halign=\"left\">Grp02</th>\n    </tr>\n    <tr>\n      <th></th>\n      <th>ColIdx</th>\n      <th>col01</th>\n      <th>col02</th>\n      <th>col03</th>\n      <th>col04</th>\n    </tr>\n    <tr>\n      <th>GenderIdx</th>\n      <th>RowIdx</th>\n      <th></th>\n      <th></th>\n      <th></th>\n      <th></th>\n    </tr>\n  </thead>\n  <tbody>\n    <tr>\n      <th rowspan=\"3\" valign=\"top\">M</th>\n      <th>id_0</th>\n      <td>1.43</td>\n      <td>-0.62</td>\n      <td>1.51</td>\n      <td>-0.21</td>\n    </tr>\n    <tr>\n      <th>id_1</th>\n      <td>0.49</td>\n      <td>-0.56</td>\n      <td>1.11</td>\n      <td>1.35</td>\n    </tr>\n    <tr>\n      <th>id_2</th>\n      <td>1.56</td>\n      <td>1.28</td>\n      <td>-0.84</td>\n      <td>-1.40</td>\n    </tr>\n    <tr>\n      <th rowspan=\"3\" valign=\"top\">F</th>\n      <th>id_3</th>\n      <td>0.32</td>\n      <td>-1.07</td>\n      <td>0.11</td>\n      <td>0.47</td>\n    </tr>\n    <tr>\n      <th>id_4</th>\n      <td>-0.23</td>\n      <td>0.03</td>\n      <td>-0.33</td>\n      <td>-0.87</td>\n    </tr>\n    <tr>\n      <th>id_5</th>\n      <td>0.33</td>\n      <td>-0.17</td>\n      <td>-1.07</td>\n      <td>-0.88</td>\n    </tr>\n  </tbody>\n</table>\n</div>"
     },
     "execution_count": 18,
     "metadata": {},
     "output_type": "execute_result"
    }
   ],
   "source": [
    "multi_idx_frm"
   ],
   "metadata": {
    "collapsed": false,
    "pycharm": {
     "name": "#%%\n"
    }
   }
  },
  {
   "cell_type": "code",
   "execution_count": 19,
   "outputs": [
    {
     "data": {
      "text/plain": "GrpIdx           Grp01       Grp02      \nColIdx           col01 col02 col03 col04\nGenderIdx RowIdx                        \nM         id_0    1.43 -0.62  1.51 -0.21\n          id_1    0.49 -0.56  1.11  1.35\n          id_2    1.56  1.28 -0.84 -1.40\nF         id_3    0.32 -1.07  0.11  0.47\n          id_4   -0.23  0.03 -0.33 -0.87\n          id_5    0.33 -0.17 -1.07 -0.88",
      "text/html": "<div>\n<style scoped>\n    .dataframe tbody tr th:only-of-type {\n        vertical-align: middle;\n    }\n\n    .dataframe tbody tr th {\n        vertical-align: top;\n    }\n\n    .dataframe thead tr th {\n        text-align: left;\n    }\n\n    .dataframe thead tr:last-of-type th {\n        text-align: right;\n    }\n</style>\n<table border=\"1\" class=\"dataframe\">\n  <thead>\n    <tr>\n      <th></th>\n      <th>GrpIdx</th>\n      <th colspan=\"2\" halign=\"left\">Grp01</th>\n      <th colspan=\"2\" halign=\"left\">Grp02</th>\n    </tr>\n    <tr>\n      <th></th>\n      <th>ColIdx</th>\n      <th>col01</th>\n      <th>col02</th>\n      <th>col03</th>\n      <th>col04</th>\n    </tr>\n    <tr>\n      <th>GenderIdx</th>\n      <th>RowIdx</th>\n      <th></th>\n      <th></th>\n      <th></th>\n      <th></th>\n    </tr>\n  </thead>\n  <tbody>\n    <tr>\n      <th rowspan=\"3\" valign=\"top\">M</th>\n      <th>id_0</th>\n      <td>1.43</td>\n      <td>-0.62</td>\n      <td>1.51</td>\n      <td>-0.21</td>\n    </tr>\n    <tr>\n      <th>id_1</th>\n      <td>0.49</td>\n      <td>-0.56</td>\n      <td>1.11</td>\n      <td>1.35</td>\n    </tr>\n    <tr>\n      <th>id_2</th>\n      <td>1.56</td>\n      <td>1.28</td>\n      <td>-0.84</td>\n      <td>-1.40</td>\n    </tr>\n    <tr>\n      <th rowspan=\"3\" valign=\"top\">F</th>\n      <th>id_3</th>\n      <td>0.32</td>\n      <td>-1.07</td>\n      <td>0.11</td>\n      <td>0.47</td>\n    </tr>\n    <tr>\n      <th>id_4</th>\n      <td>-0.23</td>\n      <td>0.03</td>\n      <td>-0.33</td>\n      <td>-0.87</td>\n    </tr>\n    <tr>\n      <th>id_5</th>\n      <td>0.33</td>\n      <td>-0.17</td>\n      <td>-1.07</td>\n      <td>-0.88</td>\n    </tr>\n  </tbody>\n</table>\n</div>"
     },
     "execution_count": 19,
     "metadata": {},
     "output_type": "execute_result"
    }
   ],
   "source": [
    "multi_idx_frm.sort_index(level = 1 , axis = 1)"
   ],
   "metadata": {
    "collapsed": false,
    "pycharm": {
     "name": "#%%\n"
    }
   }
  },
  {
   "cell_type": "code",
   "execution_count": 20,
   "outputs": [
    {
     "data": {
      "text/plain": "      학과  학년     이름   학점\n0   인공지능   1  Jason  2.7\n1  데이터분석   2   Kiki  3.5\n2   인공지능   3   Alan  4.5\n3  데이터분석   4     Zi  3.8\n4  데이터분석   2   Rosa  4.3",
      "text/html": "<div>\n<style scoped>\n    .dataframe tbody tr th:only-of-type {\n        vertical-align: middle;\n    }\n\n    .dataframe tbody tr th {\n        vertical-align: top;\n    }\n\n    .dataframe thead th {\n        text-align: right;\n    }\n</style>\n<table border=\"1\" class=\"dataframe\">\n  <thead>\n    <tr style=\"text-align: right;\">\n      <th></th>\n      <th>학과</th>\n      <th>학년</th>\n      <th>이름</th>\n      <th>학점</th>\n    </tr>\n  </thead>\n  <tbody>\n    <tr>\n      <th>0</th>\n      <td>인공지능</td>\n      <td>1</td>\n      <td>Jason</td>\n      <td>2.7</td>\n    </tr>\n    <tr>\n      <th>1</th>\n      <td>데이터분석</td>\n      <td>2</td>\n      <td>Kiki</td>\n      <td>3.5</td>\n    </tr>\n    <tr>\n      <th>2</th>\n      <td>인공지능</td>\n      <td>3</td>\n      <td>Alan</td>\n      <td>4.5</td>\n    </tr>\n    <tr>\n      <th>3</th>\n      <td>데이터분석</td>\n      <td>4</td>\n      <td>Zi</td>\n      <td>3.8</td>\n    </tr>\n    <tr>\n      <th>4</th>\n      <td>데이터분석</td>\n      <td>2</td>\n      <td>Rosa</td>\n      <td>4.3</td>\n    </tr>\n  </tbody>\n</table>\n</div>"
     },
     "execution_count": 20,
     "metadata": {},
     "output_type": "execute_result"
    }
   ],
   "source": [
    "grp_frm = pd.DataFrame({\n",
    "    '학과' : ['인공지능' , '데이터분석' , '인공지능' , '데이터분석' , '데이터분석'] ,\n",
    "    '학년' : [1, 2, 3, 4, 2] ,\n",
    "    '이름' : ['Jason' , 'Kiki' , 'Alan' , 'Zi' , 'Rosa'] ,\n",
    "    '학점' : [2.7, 3.5, 4.5, 3.8, 4.3]\n",
    "})\n",
    "\n",
    "grp_frm"
   ],
   "metadata": {
    "collapsed": false,
    "pycharm": {
     "name": "#%%\n"
    }
   }
  },
  {
   "cell_type": "code",
   "execution_count": 21,
   "outputs": [
    {
     "name": "stdout",
     "output_type": "stream",
     "text": [
      "그룹을 만드는 방법은 두가지로 데이터프레임그룹 과 시리즈그룹이 생성될 수 있다. - \n",
      "프레임 그룹 -  <pandas.core.groupby.generic.DataFrameGroupBy object at 0x7fce1472b760>\n",
      "프레임 그룹 -  <pandas.core.groupby.generic.SeriesGroupBy object at 0x7fce1472b820>\n"
     ]
    }
   ],
   "source": [
    "print('그룹을 만드는 방법은 두가지로 데이터프레임그룹 과 시리즈그룹이 생성될 수 있다. - ')\n",
    "dept_frm = grp_frm.groupby( grp_frm['학과'])\n",
    "print('프레임 그룹 - ' , dept_frm )\n",
    "\n",
    "dept_series = grp_frm['학과'].groupby( grp_frm['학과'])\n",
    "print('프레임 그룹 - ' , dept_series )\n"
   ],
   "metadata": {
    "collapsed": false,
    "pycharm": {
     "name": "#%%\n"
    }
   }
  },
  {
   "cell_type": "code",
   "execution_count": 22,
   "outputs": [
    {
     "name": "stdout",
     "output_type": "stream",
     "text": [
      "그룹 정보 확인 - \n",
      "groups -  {'데이터분석': [1, 3, 4], '인공지능': [0, 2]}\n",
      "\n",
      "그룹 정보를 가져오고 싶다면 - \n",
      "1    데이터분석\n",
      "3    데이터분석\n",
      "4    데이터분석\n",
      "Name: 학과, dtype: object\n",
      "\n",
      "0    인공지능\n",
      "2    인공지능\n",
      "Name: 학과, dtype: object\n"
     ]
    }
   ],
   "source": [
    "print('그룹 정보 확인 - ')\n",
    "print('groups - ' ,  dept_series.groups )\n",
    "print()\n",
    "print('그룹 정보를 가져오고 싶다면 - ')\n",
    "print(dept_series.get_group('데이터분석') )\n",
    "print()\n",
    "print(dept_series.get_group('인공지능') )"
   ],
   "metadata": {
    "collapsed": false,
    "pycharm": {
     "name": "#%%\n"
    }
   }
  },
  {
   "cell_type": "code",
   "execution_count": 23,
   "outputs": [
    {
     "name": "stdout",
     "output_type": "stream",
     "text": [
      "데이터프레임 그룹 - \n",
      "그룹 정보 확인 - \n",
      "groups -  {'데이터분석': [1, 3, 4], '인공지능': [0, 2]}\n",
      "\n",
      "그룹 정보를 가져오고 싶다면 - \n"
     ]
    },
    {
     "data": {
      "text/plain": "      학과  학년    이름   학점\n1  데이터분석   2  Kiki  3.5\n3  데이터분석   4    Zi  3.8\n4  데이터분석   2  Rosa  4.3",
      "text/html": "<div>\n<style scoped>\n    .dataframe tbody tr th:only-of-type {\n        vertical-align: middle;\n    }\n\n    .dataframe tbody tr th {\n        vertical-align: top;\n    }\n\n    .dataframe thead th {\n        text-align: right;\n    }\n</style>\n<table border=\"1\" class=\"dataframe\">\n  <thead>\n    <tr style=\"text-align: right;\">\n      <th></th>\n      <th>학과</th>\n      <th>학년</th>\n      <th>이름</th>\n      <th>학점</th>\n    </tr>\n  </thead>\n  <tbody>\n    <tr>\n      <th>1</th>\n      <td>데이터분석</td>\n      <td>2</td>\n      <td>Kiki</td>\n      <td>3.5</td>\n    </tr>\n    <tr>\n      <th>3</th>\n      <td>데이터분석</td>\n      <td>4</td>\n      <td>Zi</td>\n      <td>3.8</td>\n    </tr>\n    <tr>\n      <th>4</th>\n      <td>데이터분석</td>\n      <td>2</td>\n      <td>Rosa</td>\n      <td>4.3</td>\n    </tr>\n  </tbody>\n</table>\n</div>"
     },
     "metadata": {},
     "output_type": "display_data"
    },
    {
     "name": "stdout",
     "output_type": "stream",
     "text": [
      "\n"
     ]
    },
    {
     "data": {
      "text/plain": "     학과  학년     이름   학점\n0  인공지능   1  Jason  2.7\n2  인공지능   3   Alan  4.5",
      "text/html": "<div>\n<style scoped>\n    .dataframe tbody tr th:only-of-type {\n        vertical-align: middle;\n    }\n\n    .dataframe tbody tr th {\n        vertical-align: top;\n    }\n\n    .dataframe thead th {\n        text-align: right;\n    }\n</style>\n<table border=\"1\" class=\"dataframe\">\n  <thead>\n    <tr style=\"text-align: right;\">\n      <th></th>\n      <th>학과</th>\n      <th>학년</th>\n      <th>이름</th>\n      <th>학점</th>\n    </tr>\n  </thead>\n  <tbody>\n    <tr>\n      <th>0</th>\n      <td>인공지능</td>\n      <td>1</td>\n      <td>Jason</td>\n      <td>2.7</td>\n    </tr>\n    <tr>\n      <th>2</th>\n      <td>인공지능</td>\n      <td>3</td>\n      <td>Alan</td>\n      <td>4.5</td>\n    </tr>\n  </tbody>\n</table>\n</div>"
     },
     "metadata": {},
     "output_type": "display_data"
    }
   ],
   "source": [
    "print('데이터프레임 그룹 - ')\n",
    "\n",
    "print('그룹 정보 확인 - ')\n",
    "print('groups - ' ,  dept_frm.groups )\n",
    "print()\n",
    "print('그룹 정보를 가져오고 싶다면 - ')\n",
    "display(dept_frm.get_group('데이터분석') )\n",
    "print()\n",
    "display(dept_frm.get_group('인공지능') )"
   ],
   "metadata": {
    "collapsed": false,
    "pycharm": {
     "name": "#%%\n"
    }
   }
  },
  {
   "cell_type": "code",
   "execution_count": 24,
   "outputs": [
    {
     "data": {
      "text/plain": "         학년                                                 학점            \\\n      count      mean       std  min  25%  50%  75%  max count      mean   \n학과                                                                         \n데이터분석   3.0  2.666667  1.154701  2.0  2.0  2.0  3.0  4.0   3.0  3.866667   \n인공지능    2.0  2.000000  1.414214  1.0  1.5  2.0  2.5  3.0   2.0  3.600000   \n\n                                            \n            std  min   25%  50%   75%  max  \n학과                                          \n데이터분석  0.404145  3.5  3.65  3.8  4.05  4.3  \n인공지능   1.272792  2.7  3.15  3.6  4.05  4.5  ",
      "text/html": "<div>\n<style scoped>\n    .dataframe tbody tr th:only-of-type {\n        vertical-align: middle;\n    }\n\n    .dataframe tbody tr th {\n        vertical-align: top;\n    }\n\n    .dataframe thead tr th {\n        text-align: left;\n    }\n\n    .dataframe thead tr:last-of-type th {\n        text-align: right;\n    }\n</style>\n<table border=\"1\" class=\"dataframe\">\n  <thead>\n    <tr>\n      <th></th>\n      <th colspan=\"8\" halign=\"left\">학년</th>\n      <th colspan=\"8\" halign=\"left\">학점</th>\n    </tr>\n    <tr>\n      <th></th>\n      <th>count</th>\n      <th>mean</th>\n      <th>std</th>\n      <th>min</th>\n      <th>25%</th>\n      <th>50%</th>\n      <th>75%</th>\n      <th>max</th>\n      <th>count</th>\n      <th>mean</th>\n      <th>std</th>\n      <th>min</th>\n      <th>25%</th>\n      <th>50%</th>\n      <th>75%</th>\n      <th>max</th>\n    </tr>\n    <tr>\n      <th>학과</th>\n      <th></th>\n      <th></th>\n      <th></th>\n      <th></th>\n      <th></th>\n      <th></th>\n      <th></th>\n      <th></th>\n      <th></th>\n      <th></th>\n      <th></th>\n      <th></th>\n      <th></th>\n      <th></th>\n      <th></th>\n      <th></th>\n    </tr>\n  </thead>\n  <tbody>\n    <tr>\n      <th>데이터분석</th>\n      <td>3.0</td>\n      <td>2.666667</td>\n      <td>1.154701</td>\n      <td>2.0</td>\n      <td>2.0</td>\n      <td>2.0</td>\n      <td>3.0</td>\n      <td>4.0</td>\n      <td>3.0</td>\n      <td>3.866667</td>\n      <td>0.404145</td>\n      <td>3.5</td>\n      <td>3.65</td>\n      <td>3.8</td>\n      <td>4.05</td>\n      <td>4.3</td>\n    </tr>\n    <tr>\n      <th>인공지능</th>\n      <td>2.0</td>\n      <td>2.000000</td>\n      <td>1.414214</td>\n      <td>1.0</td>\n      <td>1.5</td>\n      <td>2.0</td>\n      <td>2.5</td>\n      <td>3.0</td>\n      <td>2.0</td>\n      <td>3.600000</td>\n      <td>1.272792</td>\n      <td>2.7</td>\n      <td>3.15</td>\n      <td>3.6</td>\n      <td>4.05</td>\n      <td>4.5</td>\n    </tr>\n  </tbody>\n</table>\n</div>"
     },
     "execution_count": 24,
     "metadata": {},
     "output_type": "execute_result"
    }
   ],
   "source": [
    "dept_frm.describe()"
   ],
   "metadata": {
    "collapsed": false,
    "pycharm": {
     "name": "#%%\n"
    }
   }
  },
  {
   "cell_type": "code",
   "execution_count": 25,
   "outputs": [
    {
     "name": "stdout",
     "output_type": "stream",
     "text": [
      "학과별 학점 평균만 출력한다면 - \n",
      "case01 - \n"
     ]
    },
    {
     "data": {
      "text/plain": "학과\n데이터분석    3.866667\n인공지능     3.600000\nName: 학점, dtype: float64"
     },
     "metadata": {},
     "output_type": "display_data"
    },
    {
     "name": "stdout",
     "output_type": "stream",
     "text": [
      "\n",
      "case02 - \n",
      "학과\n",
      "데이터분석    3.866667\n",
      "인공지능     3.600000\n",
      "Name: 학점, dtype: float64\n",
      "\n",
      "case03 - \n",
      "학과\n",
      "데이터분석    3.866667\n",
      "인공지능     3.600000\n",
      "Name: 학점, dtype: float64\n"
     ]
    }
   ],
   "source": [
    "print('학과별 학점 평균만 출력한다면 - ')\n",
    "# dept_frm.mean()\n",
    "print('case01 - ')\n",
    "display( grp_frm['학점'].groupby(grp_frm['학과']).mean() )\n",
    "print()\n",
    "print('case02 - ')\n",
    "print( grp_frm.groupby(grp_frm['학과'])['학점'].mean() )\n",
    "print()\n",
    "print('case03 - ')\n",
    "print( grp_frm.groupby(grp_frm['학과']).mean()['학점'] )"
   ],
   "metadata": {
    "collapsed": false,
    "pycharm": {
     "name": "#%%\n"
    }
   }
  },
  {
   "cell_type": "code",
   "execution_count": 26,
   "outputs": [
    {
     "data": {
      "text/plain": "       학년    학점\n학과             \n데이터분석   8  11.6\n인공지능    4   7.2",
      "text/html": "<div>\n<style scoped>\n    .dataframe tbody tr th:only-of-type {\n        vertical-align: middle;\n    }\n\n    .dataframe tbody tr th {\n        vertical-align: top;\n    }\n\n    .dataframe thead th {\n        text-align: right;\n    }\n</style>\n<table border=\"1\" class=\"dataframe\">\n  <thead>\n    <tr style=\"text-align: right;\">\n      <th></th>\n      <th>학년</th>\n      <th>학점</th>\n    </tr>\n    <tr>\n      <th>학과</th>\n      <th></th>\n      <th></th>\n    </tr>\n  </thead>\n  <tbody>\n    <tr>\n      <th>데이터분석</th>\n      <td>8</td>\n      <td>11.6</td>\n    </tr>\n    <tr>\n      <th>인공지능</th>\n      <td>4</td>\n      <td>7.2</td>\n    </tr>\n  </tbody>\n</table>\n</div>"
     },
     "execution_count": 26,
     "metadata": {},
     "output_type": "execute_result"
    }
   ],
   "source": [
    "dept_frm.sum()"
   ],
   "metadata": {
    "collapsed": false,
    "pycharm": {
     "name": "#%%\n"
    }
   }
  },
  {
   "cell_type": "code",
   "execution_count": 27,
   "outputs": [
    {
     "data": {
      "text/plain": "             학년            학점      \n           mean sum      mean   sum\n학과                                 \n데이터분석  2.666667   8  3.866667  11.6\n인공지능   2.000000   4  3.600000   7.2",
      "text/html": "<div>\n<style scoped>\n    .dataframe tbody tr th:only-of-type {\n        vertical-align: middle;\n    }\n\n    .dataframe tbody tr th {\n        vertical-align: top;\n    }\n\n    .dataframe thead tr th {\n        text-align: left;\n    }\n\n    .dataframe thead tr:last-of-type th {\n        text-align: right;\n    }\n</style>\n<table border=\"1\" class=\"dataframe\">\n  <thead>\n    <tr>\n      <th></th>\n      <th colspan=\"2\" halign=\"left\">학년</th>\n      <th colspan=\"2\" halign=\"left\">학점</th>\n    </tr>\n    <tr>\n      <th></th>\n      <th>mean</th>\n      <th>sum</th>\n      <th>mean</th>\n      <th>sum</th>\n    </tr>\n    <tr>\n      <th>학과</th>\n      <th></th>\n      <th></th>\n      <th></th>\n      <th></th>\n    </tr>\n  </thead>\n  <tbody>\n    <tr>\n      <th>데이터분석</th>\n      <td>2.666667</td>\n      <td>8</td>\n      <td>3.866667</td>\n      <td>11.6</td>\n    </tr>\n    <tr>\n      <th>인공지능</th>\n      <td>2.000000</td>\n      <td>4</td>\n      <td>3.600000</td>\n      <td>7.2</td>\n    </tr>\n  </tbody>\n</table>\n</div>"
     },
     "execution_count": 27,
     "metadata": {},
     "output_type": "execute_result"
    }
   ],
   "source": [
    "dept_frm.agg( [np.mean , np.sum] )"
   ],
   "metadata": {
    "collapsed": false,
    "pycharm": {
     "name": "#%%\n"
    }
   }
  },
  {
   "cell_type": "code",
   "execution_count": 28,
   "outputs": [
    {
     "data": {
      "text/plain": "      학과  학년     이름   학점\n0   인공지능   1  Jason  2.7\n1  데이터분석   2   Kiki  3.5\n2   인공지능   3   Alan  4.5\n3  데이터분석   4     Zi  3.8\n4  데이터분석   2   Rosa  4.3",
      "text/html": "<div>\n<style scoped>\n    .dataframe tbody tr th:only-of-type {\n        vertical-align: middle;\n    }\n\n    .dataframe tbody tr th {\n        vertical-align: top;\n    }\n\n    .dataframe thead th {\n        text-align: right;\n    }\n</style>\n<table border=\"1\" class=\"dataframe\">\n  <thead>\n    <tr style=\"text-align: right;\">\n      <th></th>\n      <th>학과</th>\n      <th>학년</th>\n      <th>이름</th>\n      <th>학점</th>\n    </tr>\n  </thead>\n  <tbody>\n    <tr>\n      <th>0</th>\n      <td>인공지능</td>\n      <td>1</td>\n      <td>Jason</td>\n      <td>2.7</td>\n    </tr>\n    <tr>\n      <th>1</th>\n      <td>데이터분석</td>\n      <td>2</td>\n      <td>Kiki</td>\n      <td>3.5</td>\n    </tr>\n    <tr>\n      <th>2</th>\n      <td>인공지능</td>\n      <td>3</td>\n      <td>Alan</td>\n      <td>4.5</td>\n    </tr>\n    <tr>\n      <th>3</th>\n      <td>데이터분석</td>\n      <td>4</td>\n      <td>Zi</td>\n      <td>3.8</td>\n    </tr>\n    <tr>\n      <th>4</th>\n      <td>데이터분석</td>\n      <td>2</td>\n      <td>Rosa</td>\n      <td>4.3</td>\n    </tr>\n  </tbody>\n</table>\n</div>"
     },
     "execution_count": 28,
     "metadata": {},
     "output_type": "execute_result"
    }
   ],
   "source": [
    "grp_frm"
   ],
   "metadata": {
    "collapsed": false,
    "pycharm": {
     "name": "#%%\n"
    }
   }
  },
  {
   "cell_type": "code",
   "execution_count": 29,
   "outputs": [
    {
     "name": "stdout",
     "output_type": "stream",
     "text": [
      "다중 그룹 - \n",
      "그룹 정보 확인 - \n",
      "groups -  {('데이터분석', 2): [1, 4], ('데이터분석', 4): [3], ('인공지능', 1): [0], ('인공지능', 3): [2]}\n"
     ]
    }
   ],
   "source": [
    "print('다중 그룹 - ')\n",
    "\n",
    "multi_grp_frm = grp_frm.groupby(['학과' , '학년'])\n",
    "\n",
    "print('그룹 정보 확인 - ')\n",
    "print('groups - ' ,  multi_grp_frm.groups )"
   ],
   "metadata": {
    "collapsed": false,
    "pycharm": {
     "name": "#%%\n"
    }
   }
  },
  {
   "cell_type": "code",
   "execution_count": 30,
   "outputs": [
    {
     "data": {
      "text/plain": "  idx01 idx02  idx01_data01  idx02_data02\n0     A   one             1            10\n1     A   two             2            20\n2     B   one             3            30\n3     B   two             4            40\n4     A   one             5            50",
      "text/html": "<div>\n<style scoped>\n    .dataframe tbody tr th:only-of-type {\n        vertical-align: middle;\n    }\n\n    .dataframe tbody tr th {\n        vertical-align: top;\n    }\n\n    .dataframe thead th {\n        text-align: right;\n    }\n</style>\n<table border=\"1\" class=\"dataframe\">\n  <thead>\n    <tr style=\"text-align: right;\">\n      <th></th>\n      <th>idx01</th>\n      <th>idx02</th>\n      <th>idx01_data01</th>\n      <th>idx02_data02</th>\n    </tr>\n  </thead>\n  <tbody>\n    <tr>\n      <th>0</th>\n      <td>A</td>\n      <td>one</td>\n      <td>1</td>\n      <td>10</td>\n    </tr>\n    <tr>\n      <th>1</th>\n      <td>A</td>\n      <td>two</td>\n      <td>2</td>\n      <td>20</td>\n    </tr>\n    <tr>\n      <th>2</th>\n      <td>B</td>\n      <td>one</td>\n      <td>3</td>\n      <td>30</td>\n    </tr>\n    <tr>\n      <th>3</th>\n      <td>B</td>\n      <td>two</td>\n      <td>4</td>\n      <td>40</td>\n    </tr>\n    <tr>\n      <th>4</th>\n      <td>A</td>\n      <td>one</td>\n      <td>5</td>\n      <td>50</td>\n    </tr>\n  </tbody>\n</table>\n</div>"
     },
     "execution_count": 30,
     "metadata": {},
     "output_type": "execute_result"
    }
   ],
   "source": [
    "tmp_frm = pd.DataFrame({\n",
    "    'idx01' : ['A' , 'A' , 'B' , 'B' , 'A'] ,\n",
    "    'idx02' : ['one' , 'two' , 'one' , 'two' , 'one'] ,\n",
    "    'idx01_data01' : [1, 2, 3, 4, 5] ,\n",
    "    'idx02_data02' : [10, 20, 30, 40, 50] ,\n",
    "})\n",
    "\n",
    "tmp_frm\n"
   ],
   "metadata": {
    "collapsed": false,
    "pycharm": {
     "name": "#%%\n"
    }
   }
  },
  {
   "cell_type": "code",
   "execution_count": 31,
   "outputs": [
    {
     "name": "stdout",
     "output_type": "stream",
     "text": [
      "idx01 그룹을 만들고 싶다면 - \n"
     ]
    },
    {
     "data": {
      "text/plain": "{'A': [0, 1, 4], 'B': [2, 3]}"
     },
     "execution_count": 31,
     "metadata": {},
     "output_type": "execute_result"
    }
   ],
   "source": [
    "print('idx01 그룹을 만들고 싶다면 - ')\n",
    "idx01_grp = tmp_frm.groupby(tmp_frm['idx01'])\n",
    "idx01_grp.groups"
   ],
   "metadata": {
    "collapsed": false,
    "pycharm": {
     "name": "#%%\n"
    }
   }
  },
  {
   "cell_type": "code",
   "execution_count": 32,
   "outputs": [
    {
     "name": "stdout",
     "output_type": "stream",
     "text": [
      "idx01 그룹을 만들고 싶다면 - \n"
     ]
    },
    {
     "data": {
      "text/plain": "{'A': [0, 1, 4], 'B': [2, 3]}"
     },
     "execution_count": 32,
     "metadata": {},
     "output_type": "execute_result"
    }
   ],
   "source": [
    "print('idx01 그룹을 만들고 싶다면 - ')\n",
    "idx01_grp = tmp_frm.groupby(tmp_frm['idx01'])\n",
    "idx01_grp.groups"
   ],
   "metadata": {
    "collapsed": false,
    "pycharm": {
     "name": "#%%\n"
    }
   }
  },
  {
   "cell_type": "code",
   "execution_count": 33,
   "outputs": [
    {
     "name": "stdout",
     "output_type": "stream",
     "text": [
      "그룹에 대한 수치값들만 그룹 연산이 된다 - \n"
     ]
    },
    {
     "data": {
      "text/plain": "       idx01_data01  idx02_data02\nidx01                            \nA                 8            80\nB                 7            70",
      "text/html": "<div>\n<style scoped>\n    .dataframe tbody tr th:only-of-type {\n        vertical-align: middle;\n    }\n\n    .dataframe tbody tr th {\n        vertical-align: top;\n    }\n\n    .dataframe thead th {\n        text-align: right;\n    }\n</style>\n<table border=\"1\" class=\"dataframe\">\n  <thead>\n    <tr style=\"text-align: right;\">\n      <th></th>\n      <th>idx01_data01</th>\n      <th>idx02_data02</th>\n    </tr>\n    <tr>\n      <th>idx01</th>\n      <th></th>\n      <th></th>\n    </tr>\n  </thead>\n  <tbody>\n    <tr>\n      <th>A</th>\n      <td>8</td>\n      <td>80</td>\n    </tr>\n    <tr>\n      <th>B</th>\n      <td>7</td>\n      <td>70</td>\n    </tr>\n  </tbody>\n</table>\n</div>"
     },
     "execution_count": 33,
     "metadata": {},
     "output_type": "execute_result"
    }
   ],
   "source": [
    "print('그룹에 대한 수치값들만 그룹 연산이 된다 - ')\n",
    "idx01_grp.sum()"
   ],
   "metadata": {
    "collapsed": false,
    "pycharm": {
     "name": "#%%\n"
    }
   }
  },
  {
   "cell_type": "code",
   "execution_count": 34,
   "outputs": [
    {
     "data": {
      "text/plain": "idx01\nA    2.666667\nB    3.500000\nName: idx01_data01, dtype: float64"
     },
     "execution_count": 34,
     "metadata": {},
     "output_type": "execute_result"
    }
   ],
   "source": [
    "tmp_frm['idx01_data01'].groupby(tmp_frm['idx01']).mean()"
   ],
   "metadata": {
    "collapsed": false,
    "pycharm": {
     "name": "#%%\n"
    }
   }
  },
  {
   "cell_type": "code",
   "execution_count": 35,
   "outputs": [
    {
     "name": "stdout",
     "output_type": "stream",
     "text": [
      "다중 키 또는 복합 키 - \n"
     ]
    },
    {
     "data": {
      "text/plain": "idx02  one  two\nidx01          \nA        6    2\nB        3    4",
      "text/html": "<div>\n<style scoped>\n    .dataframe tbody tr th:only-of-type {\n        vertical-align: middle;\n    }\n\n    .dataframe tbody tr th {\n        vertical-align: top;\n    }\n\n    .dataframe thead th {\n        text-align: right;\n    }\n</style>\n<table border=\"1\" class=\"dataframe\">\n  <thead>\n    <tr style=\"text-align: right;\">\n      <th>idx02</th>\n      <th>one</th>\n      <th>two</th>\n    </tr>\n    <tr>\n      <th>idx01</th>\n      <th></th>\n      <th></th>\n    </tr>\n  </thead>\n  <tbody>\n    <tr>\n      <th>A</th>\n      <td>6</td>\n      <td>2</td>\n    </tr>\n    <tr>\n      <th>B</th>\n      <td>3</td>\n      <td>4</td>\n    </tr>\n  </tbody>\n</table>\n</div>"
     },
     "execution_count": 35,
     "metadata": {},
     "output_type": "execute_result"
    }
   ],
   "source": [
    "print('다중 키 또는 복합 키 - ')\n",
    "tmp_frm['idx01_data01'].groupby([tmp_frm['idx01'] , tmp_frm['idx02']]).sum().unstack()"
   ],
   "metadata": {
    "collapsed": false,
    "pycharm": {
     "name": "#%%\n"
    }
   }
  },
  {
   "cell_type": "code",
   "execution_count": 36,
   "outputs": [],
   "source": [
    "titanic_dataset = sns.load_dataset('titanic')\n",
    "iris_dataset = sns.load_dataset('iris')"
   ],
   "metadata": {
    "collapsed": false,
    "pycharm": {
     "name": "#%%\n"
    }
   }
  },
  {
   "cell_type": "code",
   "execution_count": 37,
   "outputs": [
    {
     "data": {
      "text/plain": "     sepal_length  sepal_width  petal_length  petal_width    species\n0             5.1          3.5           1.4          0.2     setosa\n1             4.9          3.0           1.4          0.2     setosa\n2             4.7          3.2           1.3          0.2     setosa\n3             4.6          3.1           1.5          0.2     setosa\n4             5.0          3.6           1.4          0.2     setosa\n..            ...          ...           ...          ...        ...\n145           6.7          3.0           5.2          2.3  virginica\n146           6.3          2.5           5.0          1.9  virginica\n147           6.5          3.0           5.2          2.0  virginica\n148           6.2          3.4           5.4          2.3  virginica\n149           5.9          3.0           5.1          1.8  virginica\n\n[150 rows x 5 columns]",
      "text/html": "<div>\n<style scoped>\n    .dataframe tbody tr th:only-of-type {\n        vertical-align: middle;\n    }\n\n    .dataframe tbody tr th {\n        vertical-align: top;\n    }\n\n    .dataframe thead th {\n        text-align: right;\n    }\n</style>\n<table border=\"1\" class=\"dataframe\">\n  <thead>\n    <tr style=\"text-align: right;\">\n      <th></th>\n      <th>sepal_length</th>\n      <th>sepal_width</th>\n      <th>petal_length</th>\n      <th>petal_width</th>\n      <th>species</th>\n    </tr>\n  </thead>\n  <tbody>\n    <tr>\n      <th>0</th>\n      <td>5.1</td>\n      <td>3.5</td>\n      <td>1.4</td>\n      <td>0.2</td>\n      <td>setosa</td>\n    </tr>\n    <tr>\n      <th>1</th>\n      <td>4.9</td>\n      <td>3.0</td>\n      <td>1.4</td>\n      <td>0.2</td>\n      <td>setosa</td>\n    </tr>\n    <tr>\n      <th>2</th>\n      <td>4.7</td>\n      <td>3.2</td>\n      <td>1.3</td>\n      <td>0.2</td>\n      <td>setosa</td>\n    </tr>\n    <tr>\n      <th>3</th>\n      <td>4.6</td>\n      <td>3.1</td>\n      <td>1.5</td>\n      <td>0.2</td>\n      <td>setosa</td>\n    </tr>\n    <tr>\n      <th>4</th>\n      <td>5.0</td>\n      <td>3.6</td>\n      <td>1.4</td>\n      <td>0.2</td>\n      <td>setosa</td>\n    </tr>\n    <tr>\n      <th>...</th>\n      <td>...</td>\n      <td>...</td>\n      <td>...</td>\n      <td>...</td>\n      <td>...</td>\n    </tr>\n    <tr>\n      <th>145</th>\n      <td>6.7</td>\n      <td>3.0</td>\n      <td>5.2</td>\n      <td>2.3</td>\n      <td>virginica</td>\n    </tr>\n    <tr>\n      <th>146</th>\n      <td>6.3</td>\n      <td>2.5</td>\n      <td>5.0</td>\n      <td>1.9</td>\n      <td>virginica</td>\n    </tr>\n    <tr>\n      <th>147</th>\n      <td>6.5</td>\n      <td>3.0</td>\n      <td>5.2</td>\n      <td>2.0</td>\n      <td>virginica</td>\n    </tr>\n    <tr>\n      <th>148</th>\n      <td>6.2</td>\n      <td>3.4</td>\n      <td>5.4</td>\n      <td>2.3</td>\n      <td>virginica</td>\n    </tr>\n    <tr>\n      <th>149</th>\n      <td>5.9</td>\n      <td>3.0</td>\n      <td>5.1</td>\n      <td>1.8</td>\n      <td>virginica</td>\n    </tr>\n  </tbody>\n</table>\n<p>150 rows × 5 columns</p>\n</div>"
     },
     "execution_count": 37,
     "metadata": {},
     "output_type": "execute_result"
    }
   ],
   "source": [
    "titanic_dataset\n",
    "iris_dataset"
   ],
   "metadata": {
    "collapsed": false,
    "pycharm": {
     "name": "#%%\n"
    }
   }
  },
  {
   "cell_type": "code",
   "execution_count": 38,
   "outputs": [
    {
     "name": "stdout",
     "output_type": "stream",
     "text": [
      "age, sex, class, fare, survived - 순서로 서브셋 구축\n"
     ]
    },
    {
     "data": {
      "text/plain": "      age     sex   class     fare  survived\n0    22.0    male   Third   7.2500         0\n1    38.0  female   First  71.2833         1\n2    26.0  female   Third   7.9250         1\n3    35.0  female   First  53.1000         1\n4    35.0    male   Third   8.0500         0\n..    ...     ...     ...      ...       ...\n886  27.0    male  Second  13.0000         0\n887  19.0  female   First  30.0000         1\n888   NaN  female   Third  23.4500         0\n889  26.0    male   First  30.0000         1\n890  32.0    male   Third   7.7500         0\n\n[891 rows x 5 columns]",
      "text/html": "<div>\n<style scoped>\n    .dataframe tbody tr th:only-of-type {\n        vertical-align: middle;\n    }\n\n    .dataframe tbody tr th {\n        vertical-align: top;\n    }\n\n    .dataframe thead th {\n        text-align: right;\n    }\n</style>\n<table border=\"1\" class=\"dataframe\">\n  <thead>\n    <tr style=\"text-align: right;\">\n      <th></th>\n      <th>age</th>\n      <th>sex</th>\n      <th>class</th>\n      <th>fare</th>\n      <th>survived</th>\n    </tr>\n  </thead>\n  <tbody>\n    <tr>\n      <th>0</th>\n      <td>22.0</td>\n      <td>male</td>\n      <td>Third</td>\n      <td>7.2500</td>\n      <td>0</td>\n    </tr>\n    <tr>\n      <th>1</th>\n      <td>38.0</td>\n      <td>female</td>\n      <td>First</td>\n      <td>71.2833</td>\n      <td>1</td>\n    </tr>\n    <tr>\n      <th>2</th>\n      <td>26.0</td>\n      <td>female</td>\n      <td>Third</td>\n      <td>7.9250</td>\n      <td>1</td>\n    </tr>\n    <tr>\n      <th>3</th>\n      <td>35.0</td>\n      <td>female</td>\n      <td>First</td>\n      <td>53.1000</td>\n      <td>1</td>\n    </tr>\n    <tr>\n      <th>4</th>\n      <td>35.0</td>\n      <td>male</td>\n      <td>Third</td>\n      <td>8.0500</td>\n      <td>0</td>\n    </tr>\n    <tr>\n      <th>...</th>\n      <td>...</td>\n      <td>...</td>\n      <td>...</td>\n      <td>...</td>\n      <td>...</td>\n    </tr>\n    <tr>\n      <th>886</th>\n      <td>27.0</td>\n      <td>male</td>\n      <td>Second</td>\n      <td>13.0000</td>\n      <td>0</td>\n    </tr>\n    <tr>\n      <th>887</th>\n      <td>19.0</td>\n      <td>female</td>\n      <td>First</td>\n      <td>30.0000</td>\n      <td>1</td>\n    </tr>\n    <tr>\n      <th>888</th>\n      <td>NaN</td>\n      <td>female</td>\n      <td>Third</td>\n      <td>23.4500</td>\n      <td>0</td>\n    </tr>\n    <tr>\n      <th>889</th>\n      <td>26.0</td>\n      <td>male</td>\n      <td>First</td>\n      <td>30.0000</td>\n      <td>1</td>\n    </tr>\n    <tr>\n      <th>890</th>\n      <td>32.0</td>\n      <td>male</td>\n      <td>Third</td>\n      <td>7.7500</td>\n      <td>0</td>\n    </tr>\n  </tbody>\n</table>\n<p>891 rows × 5 columns</p>\n</div>"
     },
     "execution_count": 38,
     "metadata": {},
     "output_type": "execute_result"
    }
   ],
   "source": [
    "print('age, sex, class, fare, survived - 순서로 서브셋 구축')\n",
    "\n",
    "subset = titanic_dataset[['age','sex','class','fare','survived']]\n",
    "subset"
   ],
   "metadata": {
    "collapsed": false,
    "pycharm": {
     "name": "#%%\n"
    }
   }
  },
  {
   "cell_type": "code",
   "execution_count": 39,
   "outputs": [
    {
     "name": "stdout",
     "output_type": "stream",
     "text": [
      "case 2-       age     sex   class     fare  survived\n",
      "0    22.0    male   Third   7.2500         0\n",
      "1    38.0  female   First  71.2833         1\n",
      "2    26.0  female   Third   7.9250         1\n",
      "3    35.0  female   First  53.1000         1\n",
      "4    35.0    male   Third   8.0500         0\n",
      "..    ...     ...     ...      ...       ...\n",
      "886  27.0    male  Second  13.0000         0\n",
      "887  19.0  female   First  30.0000         1\n",
      "888   NaN  female   Third  23.4500         0\n",
      "889  26.0    male   First  30.0000         1\n",
      "890  32.0    male   Third   7.7500         0\n",
      "\n",
      "[891 rows x 5 columns]\n"
     ]
    }
   ],
   "source": [
    "subset = titanic_dataset.loc[ : , ['age','sex','class','fare','survived']]\n",
    "print('case 2-', subset)\n"
   ],
   "metadata": {
    "collapsed": false,
    "pycharm": {
     "name": "#%%\n"
    }
   }
  },
  {
   "cell_type": "code",
   "execution_count": 40,
   "outputs": [
    {
     "name": "stdout",
     "output_type": "stream",
     "text": [
      "요구사항 - 선실등급에 따른 그룹을 생성한다면 \n",
      "grp_id -  First\n",
      "\n",
      "      age     sex  class     fare  survived\n",
      "1    38.0  female  First  71.2833         1\n",
      "3    35.0  female  First  53.1000         1\n",
      "6    54.0    male  First  51.8625         0\n",
      "11   58.0  female  First  26.5500         1\n",
      "23   28.0    male  First  35.5000         1\n",
      "..    ...     ...    ...      ...       ...\n",
      "871  47.0  female  First  52.5542         1\n",
      "872  33.0    male  First   5.0000         0\n",
      "879  56.0  female  First  83.1583         1\n",
      "887  19.0  female  First  30.0000         1\n",
      "889  26.0    male  First  30.0000         1\n",
      "\n",
      "[216 rows x 5 columns]\n",
      "grp_id -  Second\n",
      "\n",
      "      age     sex   class     fare  survived\n",
      "9    14.0  female  Second  30.0708         1\n",
      "15   55.0  female  Second  16.0000         1\n",
      "17    NaN    male  Second  13.0000         1\n",
      "20   35.0    male  Second  26.0000         0\n",
      "21   34.0    male  Second  13.0000         1\n",
      "..    ...     ...     ...      ...       ...\n",
      "866  27.0  female  Second  13.8583         1\n",
      "874  28.0  female  Second  24.0000         1\n",
      "880  25.0  female  Second  26.0000         1\n",
      "883  28.0    male  Second  10.5000         0\n",
      "886  27.0    male  Second  13.0000         0\n",
      "\n",
      "[184 rows x 5 columns]\n",
      "grp_id -  Third\n",
      "\n",
      "      age     sex  class     fare  survived\n",
      "0    22.0    male  Third   7.2500         0\n",
      "2    26.0  female  Third   7.9250         1\n",
      "4    35.0    male  Third   8.0500         0\n",
      "5     NaN    male  Third   8.4583         0\n",
      "7     2.0    male  Third  21.0750         0\n",
      "..    ...     ...    ...      ...       ...\n",
      "882  22.0  female  Third  10.5167         0\n",
      "884  25.0    male  Third   7.0500         0\n",
      "885  39.0  female  Third  29.1250         0\n",
      "888   NaN  female  Third  23.4500         0\n",
      "890  32.0    male  Third   7.7500         0\n",
      "\n",
      "[491 rows x 5 columns]\n"
     ]
    }
   ],
   "source": [
    "print('요구사항 - 선실등급에 따른 그룹을 생성한다면 ')\n",
    "class_grp = subset.groupby(subset['class'])\n",
    "\n",
    "for grp_id  , data in class_grp :\n",
    "    print('grp_id - ' , grp_id)\n",
    "    print()\n",
    "    print(data)"
   ],
   "metadata": {
    "collapsed": false,
    "pycharm": {
     "name": "#%%\n"
    }
   }
  },
  {
   "cell_type": "code",
   "execution_count": 41,
   "outputs": [
    {
     "name": "stdout",
     "output_type": "stream",
     "text": [
      "요구사항 - 선실등급에 따른 평균요금만 출력 - \n"
     ]
    },
    {
     "data": {
      "text/plain": "             fare\nclass            \nFirst   84.154687\nSecond  20.662183\nThird   13.675550",
      "text/html": "<div>\n<style scoped>\n    .dataframe tbody tr th:only-of-type {\n        vertical-align: middle;\n    }\n\n    .dataframe tbody tr th {\n        vertical-align: top;\n    }\n\n    .dataframe thead th {\n        text-align: right;\n    }\n</style>\n<table border=\"1\" class=\"dataframe\">\n  <thead>\n    <tr style=\"text-align: right;\">\n      <th></th>\n      <th>fare</th>\n    </tr>\n    <tr>\n      <th>class</th>\n      <th></th>\n    </tr>\n  </thead>\n  <tbody>\n    <tr>\n      <th>First</th>\n      <td>84.154687</td>\n    </tr>\n    <tr>\n      <th>Second</th>\n      <td>20.662183</td>\n    </tr>\n    <tr>\n      <th>Third</th>\n      <td>13.675550</td>\n    </tr>\n  </tbody>\n</table>\n</div>"
     },
     "execution_count": 41,
     "metadata": {},
     "output_type": "execute_result"
    }
   ],
   "source": [
    "print('요구사항 - 선실등급에 따른 평균요금만 출력 - ' )\n",
    "\n",
    "class_grp.mean()[['fare']]\n"
   ],
   "metadata": {
    "collapsed": false,
    "pycharm": {
     "name": "#%%\n"
    }
   }
  },
  {
   "cell_type": "code",
   "execution_count": 42,
   "outputs": [
    {
     "name": "stdout",
     "output_type": "stream",
     "text": [
      "요구사항 - 선실등급과 성별에 따른 그룹을 생성한다면 - \n"
     ]
    },
    {
     "data": {
      "text/plain": "      age     sex  class      fare  survived\n1    38.0  female  First   71.2833         1\n3    35.0  female  First   53.1000         1\n11   58.0  female  First   26.5500         1\n31    NaN  female  First  146.5208         1\n52   49.0  female  First   76.7292         1\n..    ...     ...    ...       ...       ...\n856  45.0  female  First  164.8667         1\n862  48.0  female  First   25.9292         1\n871  47.0  female  First   52.5542         1\n879  56.0  female  First   83.1583         1\n887  19.0  female  First   30.0000         1\n\n[94 rows x 5 columns]",
      "text/html": "<div>\n<style scoped>\n    .dataframe tbody tr th:only-of-type {\n        vertical-align: middle;\n    }\n\n    .dataframe tbody tr th {\n        vertical-align: top;\n    }\n\n    .dataframe thead th {\n        text-align: right;\n    }\n</style>\n<table border=\"1\" class=\"dataframe\">\n  <thead>\n    <tr style=\"text-align: right;\">\n      <th></th>\n      <th>age</th>\n      <th>sex</th>\n      <th>class</th>\n      <th>fare</th>\n      <th>survived</th>\n    </tr>\n  </thead>\n  <tbody>\n    <tr>\n      <th>1</th>\n      <td>38.0</td>\n      <td>female</td>\n      <td>First</td>\n      <td>71.2833</td>\n      <td>1</td>\n    </tr>\n    <tr>\n      <th>3</th>\n      <td>35.0</td>\n      <td>female</td>\n      <td>First</td>\n      <td>53.1000</td>\n      <td>1</td>\n    </tr>\n    <tr>\n      <th>11</th>\n      <td>58.0</td>\n      <td>female</td>\n      <td>First</td>\n      <td>26.5500</td>\n      <td>1</td>\n    </tr>\n    <tr>\n      <th>31</th>\n      <td>NaN</td>\n      <td>female</td>\n      <td>First</td>\n      <td>146.5208</td>\n      <td>1</td>\n    </tr>\n    <tr>\n      <th>52</th>\n      <td>49.0</td>\n      <td>female</td>\n      <td>First</td>\n      <td>76.7292</td>\n      <td>1</td>\n    </tr>\n    <tr>\n      <th>...</th>\n      <td>...</td>\n      <td>...</td>\n      <td>...</td>\n      <td>...</td>\n      <td>...</td>\n    </tr>\n    <tr>\n      <th>856</th>\n      <td>45.0</td>\n      <td>female</td>\n      <td>First</td>\n      <td>164.8667</td>\n      <td>1</td>\n    </tr>\n    <tr>\n      <th>862</th>\n      <td>48.0</td>\n      <td>female</td>\n      <td>First</td>\n      <td>25.9292</td>\n      <td>1</td>\n    </tr>\n    <tr>\n      <th>871</th>\n      <td>47.0</td>\n      <td>female</td>\n      <td>First</td>\n      <td>52.5542</td>\n      <td>1</td>\n    </tr>\n    <tr>\n      <th>879</th>\n      <td>56.0</td>\n      <td>female</td>\n      <td>First</td>\n      <td>83.1583</td>\n      <td>1</td>\n    </tr>\n    <tr>\n      <th>887</th>\n      <td>19.0</td>\n      <td>female</td>\n      <td>First</td>\n      <td>30.0000</td>\n      <td>1</td>\n    </tr>\n  </tbody>\n</table>\n<p>94 rows × 5 columns</p>\n</div>"
     },
     "execution_count": 42,
     "metadata": {},
     "output_type": "execute_result"
    }
   ],
   "source": [
    "print('요구사항 - 선실등급과 성별에 따른 그룹을 생성한다면 - ' )\n",
    "class_sex_grp = subset.groupby(['class' , 'sex'])\n",
    "class_sex_grp.get_group(('First', 'female'))"
   ],
   "metadata": {
    "collapsed": false,
    "pycharm": {
     "name": "#%%\n"
    }
   }
  },
  {
   "cell_type": "code",
   "execution_count": 42,
   "outputs": [],
   "source": [],
   "metadata": {
    "collapsed": false,
    "pycharm": {
     "name": "#%%\n"
    }
   }
  },
  {
   "cell_type": "code",
   "execution_count": 43,
   "outputs": [
    {
     "name": "stdout",
     "output_type": "stream",
     "text": [
      "grp_id -  ('First', 'female')\n",
      "\n",
      "      age     sex  class      fare  survived\n",
      "1    38.0  female  First   71.2833         1\n",
      "3    35.0  female  First   53.1000         1\n",
      "11   58.0  female  First   26.5500         1\n",
      "31    NaN  female  First  146.5208         1\n",
      "52   49.0  female  First   76.7292         1\n",
      "..    ...     ...    ...       ...       ...\n",
      "856  45.0  female  First  164.8667         1\n",
      "862  48.0  female  First   25.9292         1\n",
      "871  47.0  female  First   52.5542         1\n",
      "879  56.0  female  First   83.1583         1\n",
      "887  19.0  female  First   30.0000         1\n",
      "\n",
      "[94 rows x 5 columns]\n",
      "grp_id -  ('First', 'male')\n",
      "\n",
      "      age   sex  class      fare  survived\n",
      "6    54.0  male  First   51.8625         0\n",
      "23   28.0  male  First   35.5000         1\n",
      "27   19.0  male  First  263.0000         0\n",
      "30   40.0  male  First   27.7208         0\n",
      "34   28.0  male  First   82.1708         0\n",
      "..    ...   ...    ...       ...       ...\n",
      "839   NaN  male  First   29.7000         1\n",
      "857  51.0  male  First   26.5500         1\n",
      "867  31.0  male  First   50.4958         0\n",
      "872  33.0  male  First    5.0000         0\n",
      "889  26.0  male  First   30.0000         1\n",
      "\n",
      "[122 rows x 5 columns]\n",
      "grp_id -  ('Second', 'female')\n",
      "\n",
      "      age     sex   class     fare  survived\n",
      "9    14.0  female  Second  30.0708         1\n",
      "15   55.0  female  Second  16.0000         1\n",
      "41   27.0  female  Second  21.0000         0\n",
      "43    3.0  female  Second  41.5792         1\n",
      "53   29.0  female  Second  26.0000         1\n",
      "..    ...     ...     ...      ...       ...\n",
      "854  44.0  female  Second  26.0000         0\n",
      "865  42.0  female  Second  13.0000         1\n",
      "866  27.0  female  Second  13.8583         1\n",
      "874  28.0  female  Second  24.0000         1\n",
      "880  25.0  female  Second  26.0000         1\n",
      "\n",
      "[76 rows x 5 columns]\n",
      "grp_id -  ('Second', 'male')\n",
      "\n",
      "      age   sex   class  fare  survived\n",
      "17    NaN  male  Second  13.0         1\n",
      "20   35.0  male  Second  26.0         0\n",
      "21   34.0  male  Second  13.0         1\n",
      "33   66.0  male  Second  10.5         0\n",
      "70   32.0  male  Second  10.5         0\n",
      "..    ...   ...     ...   ...       ...\n",
      "848  28.0  male  Second  33.0         0\n",
      "861  21.0  male  Second  11.5         0\n",
      "864  24.0  male  Second  13.0         0\n",
      "883  28.0  male  Second  10.5         0\n",
      "886  27.0  male  Second  13.0         0\n",
      "\n",
      "[108 rows x 5 columns]\n",
      "grp_id -  ('Third', 'female')\n",
      "\n",
      "      age     sex  class     fare  survived\n",
      "2    26.0  female  Third   7.9250         1\n",
      "8    27.0  female  Third  11.1333         1\n",
      "10    4.0  female  Third  16.7000         1\n",
      "14   14.0  female  Third   7.8542         0\n",
      "18   31.0  female  Third  18.0000         0\n",
      "..    ...     ...    ...      ...       ...\n",
      "863   NaN  female  Third  69.5500         0\n",
      "875  15.0  female  Third   7.2250         1\n",
      "882  22.0  female  Third  10.5167         0\n",
      "885  39.0  female  Third  29.1250         0\n",
      "888   NaN  female  Third  23.4500         0\n",
      "\n",
      "[144 rows x 5 columns]\n",
      "grp_id -  ('Third', 'male')\n",
      "\n",
      "      age   sex  class     fare  survived\n",
      "0    22.0  male  Third   7.2500         0\n",
      "4    35.0  male  Third   8.0500         0\n",
      "5     NaN  male  Third   8.4583         0\n",
      "7     2.0  male  Third  21.0750         0\n",
      "12   20.0  male  Third   8.0500         0\n",
      "..    ...   ...    ...      ...       ...\n",
      "877  19.0  male  Third   7.8958         0\n",
      "878   NaN  male  Third   7.8958         0\n",
      "881  33.0  male  Third   7.8958         0\n",
      "884  25.0  male  Third   7.0500         0\n",
      "890  32.0  male  Third   7.7500         0\n",
      "\n",
      "[347 rows x 5 columns]\n"
     ]
    }
   ],
   "source": [
    "\n",
    "for grp_id  , data in class_sex_grp :\n",
    "    print('grp_id - ' , grp_id)\n",
    "    print()\n",
    "    print(data)"
   ],
   "metadata": {
    "collapsed": false,
    "pycharm": {
     "name": "#%%\n"
    }
   }
  },
  {
   "cell_type": "code",
   "execution_count": 44,
   "outputs": [
    {
     "data": {
      "text/plain": "array(['setosa', 'versicolor', 'virginica'], dtype=object)"
     },
     "execution_count": 44,
     "metadata": {},
     "output_type": "execute_result"
    }
   ],
   "source": [
    "iris_dataset['species'].unique()"
   ],
   "metadata": {
    "collapsed": false,
    "pycharm": {
     "name": "#%%\n"
    }
   }
  },
  {
   "cell_type": "code",
   "execution_count": 45,
   "outputs": [
    {
     "name": "stdout",
     "output_type": "stream",
     "text": [
      "grp_id -  setosa\n",
      "\n",
      "    sepal_length  sepal_width  petal_length  petal_width species\n",
      "0            5.1          3.5           1.4          0.2  setosa\n",
      "1            4.9          3.0           1.4          0.2  setosa\n",
      "2            4.7          3.2           1.3          0.2  setosa\n",
      "3            4.6          3.1           1.5          0.2  setosa\n",
      "4            5.0          3.6           1.4          0.2  setosa\n",
      "5            5.4          3.9           1.7          0.4  setosa\n",
      "6            4.6          3.4           1.4          0.3  setosa\n",
      "7            5.0          3.4           1.5          0.2  setosa\n",
      "8            4.4          2.9           1.4          0.2  setosa\n",
      "9            4.9          3.1           1.5          0.1  setosa\n",
      "10           5.4          3.7           1.5          0.2  setosa\n",
      "11           4.8          3.4           1.6          0.2  setosa\n",
      "12           4.8          3.0           1.4          0.1  setosa\n",
      "13           4.3          3.0           1.1          0.1  setosa\n",
      "14           5.8          4.0           1.2          0.2  setosa\n",
      "15           5.7          4.4           1.5          0.4  setosa\n",
      "16           5.4          3.9           1.3          0.4  setosa\n",
      "17           5.1          3.5           1.4          0.3  setosa\n",
      "18           5.7          3.8           1.7          0.3  setosa\n",
      "19           5.1          3.8           1.5          0.3  setosa\n",
      "20           5.4          3.4           1.7          0.2  setosa\n",
      "21           5.1          3.7           1.5          0.4  setosa\n",
      "22           4.6          3.6           1.0          0.2  setosa\n",
      "23           5.1          3.3           1.7          0.5  setosa\n",
      "24           4.8          3.4           1.9          0.2  setosa\n",
      "25           5.0          3.0           1.6          0.2  setosa\n",
      "26           5.0          3.4           1.6          0.4  setosa\n",
      "27           5.2          3.5           1.5          0.2  setosa\n",
      "28           5.2          3.4           1.4          0.2  setosa\n",
      "29           4.7          3.2           1.6          0.2  setosa\n",
      "30           4.8          3.1           1.6          0.2  setosa\n",
      "31           5.4          3.4           1.5          0.4  setosa\n",
      "32           5.2          4.1           1.5          0.1  setosa\n",
      "33           5.5          4.2           1.4          0.2  setosa\n",
      "34           4.9          3.1           1.5          0.2  setosa\n",
      "35           5.0          3.2           1.2          0.2  setosa\n",
      "36           5.5          3.5           1.3          0.2  setosa\n",
      "37           4.9          3.6           1.4          0.1  setosa\n",
      "38           4.4          3.0           1.3          0.2  setosa\n",
      "39           5.1          3.4           1.5          0.2  setosa\n",
      "40           5.0          3.5           1.3          0.3  setosa\n",
      "41           4.5          2.3           1.3          0.3  setosa\n",
      "42           4.4          3.2           1.3          0.2  setosa\n",
      "43           5.0          3.5           1.6          0.6  setosa\n",
      "44           5.1          3.8           1.9          0.4  setosa\n",
      "45           4.8          3.0           1.4          0.3  setosa\n",
      "46           5.1          3.8           1.6          0.2  setosa\n",
      "47           4.6          3.2           1.4          0.2  setosa\n",
      "48           5.3          3.7           1.5          0.2  setosa\n",
      "49           5.0          3.3           1.4          0.2  setosa\n",
      "grp_id -  versicolor\n",
      "\n",
      "    sepal_length  sepal_width  petal_length  petal_width     species\n",
      "50           7.0          3.2           4.7          1.4  versicolor\n",
      "51           6.4          3.2           4.5          1.5  versicolor\n",
      "52           6.9          3.1           4.9          1.5  versicolor\n",
      "53           5.5          2.3           4.0          1.3  versicolor\n",
      "54           6.5          2.8           4.6          1.5  versicolor\n",
      "55           5.7          2.8           4.5          1.3  versicolor\n",
      "56           6.3          3.3           4.7          1.6  versicolor\n",
      "57           4.9          2.4           3.3          1.0  versicolor\n",
      "58           6.6          2.9           4.6          1.3  versicolor\n",
      "59           5.2          2.7           3.9          1.4  versicolor\n",
      "60           5.0          2.0           3.5          1.0  versicolor\n",
      "61           5.9          3.0           4.2          1.5  versicolor\n",
      "62           6.0          2.2           4.0          1.0  versicolor\n",
      "63           6.1          2.9           4.7          1.4  versicolor\n",
      "64           5.6          2.9           3.6          1.3  versicolor\n",
      "65           6.7          3.1           4.4          1.4  versicolor\n",
      "66           5.6          3.0           4.5          1.5  versicolor\n",
      "67           5.8          2.7           4.1          1.0  versicolor\n",
      "68           6.2          2.2           4.5          1.5  versicolor\n",
      "69           5.6          2.5           3.9          1.1  versicolor\n",
      "70           5.9          3.2           4.8          1.8  versicolor\n",
      "71           6.1          2.8           4.0          1.3  versicolor\n",
      "72           6.3          2.5           4.9          1.5  versicolor\n",
      "73           6.1          2.8           4.7          1.2  versicolor\n",
      "74           6.4          2.9           4.3          1.3  versicolor\n",
      "75           6.6          3.0           4.4          1.4  versicolor\n",
      "76           6.8          2.8           4.8          1.4  versicolor\n",
      "77           6.7          3.0           5.0          1.7  versicolor\n",
      "78           6.0          2.9           4.5          1.5  versicolor\n",
      "79           5.7          2.6           3.5          1.0  versicolor\n",
      "80           5.5          2.4           3.8          1.1  versicolor\n",
      "81           5.5          2.4           3.7          1.0  versicolor\n",
      "82           5.8          2.7           3.9          1.2  versicolor\n",
      "83           6.0          2.7           5.1          1.6  versicolor\n",
      "84           5.4          3.0           4.5          1.5  versicolor\n",
      "85           6.0          3.4           4.5          1.6  versicolor\n",
      "86           6.7          3.1           4.7          1.5  versicolor\n",
      "87           6.3          2.3           4.4          1.3  versicolor\n",
      "88           5.6          3.0           4.1          1.3  versicolor\n",
      "89           5.5          2.5           4.0          1.3  versicolor\n",
      "90           5.5          2.6           4.4          1.2  versicolor\n",
      "91           6.1          3.0           4.6          1.4  versicolor\n",
      "92           5.8          2.6           4.0          1.2  versicolor\n",
      "93           5.0          2.3           3.3          1.0  versicolor\n",
      "94           5.6          2.7           4.2          1.3  versicolor\n",
      "95           5.7          3.0           4.2          1.2  versicolor\n",
      "96           5.7          2.9           4.2          1.3  versicolor\n",
      "97           6.2          2.9           4.3          1.3  versicolor\n",
      "98           5.1          2.5           3.0          1.1  versicolor\n",
      "99           5.7          2.8           4.1          1.3  versicolor\n",
      "grp_id -  virginica\n",
      "\n",
      "     sepal_length  sepal_width  petal_length  petal_width    species\n",
      "100           6.3          3.3           6.0          2.5  virginica\n",
      "101           5.8          2.7           5.1          1.9  virginica\n",
      "102           7.1          3.0           5.9          2.1  virginica\n",
      "103           6.3          2.9           5.6          1.8  virginica\n",
      "104           6.5          3.0           5.8          2.2  virginica\n",
      "105           7.6          3.0           6.6          2.1  virginica\n",
      "106           4.9          2.5           4.5          1.7  virginica\n",
      "107           7.3          2.9           6.3          1.8  virginica\n",
      "108           6.7          2.5           5.8          1.8  virginica\n",
      "109           7.2          3.6           6.1          2.5  virginica\n",
      "110           6.5          3.2           5.1          2.0  virginica\n",
      "111           6.4          2.7           5.3          1.9  virginica\n",
      "112           6.8          3.0           5.5          2.1  virginica\n",
      "113           5.7          2.5           5.0          2.0  virginica\n",
      "114           5.8          2.8           5.1          2.4  virginica\n",
      "115           6.4          3.2           5.3          2.3  virginica\n",
      "116           6.5          3.0           5.5          1.8  virginica\n",
      "117           7.7          3.8           6.7          2.2  virginica\n",
      "118           7.7          2.6           6.9          2.3  virginica\n",
      "119           6.0          2.2           5.0          1.5  virginica\n",
      "120           6.9          3.2           5.7          2.3  virginica\n",
      "121           5.6          2.8           4.9          2.0  virginica\n",
      "122           7.7          2.8           6.7          2.0  virginica\n",
      "123           6.3          2.7           4.9          1.8  virginica\n",
      "124           6.7          3.3           5.7          2.1  virginica\n",
      "125           7.2          3.2           6.0          1.8  virginica\n",
      "126           6.2          2.8           4.8          1.8  virginica\n",
      "127           6.1          3.0           4.9          1.8  virginica\n",
      "128           6.4          2.8           5.6          2.1  virginica\n",
      "129           7.2          3.0           5.8          1.6  virginica\n",
      "130           7.4          2.8           6.1          1.9  virginica\n",
      "131           7.9          3.8           6.4          2.0  virginica\n",
      "132           6.4          2.8           5.6          2.2  virginica\n",
      "133           6.3          2.8           5.1          1.5  virginica\n",
      "134           6.1          2.6           5.6          1.4  virginica\n",
      "135           7.7          3.0           6.1          2.3  virginica\n",
      "136           6.3          3.4           5.6          2.4  virginica\n",
      "137           6.4          3.1           5.5          1.8  virginica\n",
      "138           6.0          3.0           4.8          1.8  virginica\n",
      "139           6.9          3.1           5.4          2.1  virginica\n",
      "140           6.7          3.1           5.6          2.4  virginica\n",
      "141           6.9          3.1           5.1          2.3  virginica\n",
      "142           5.8          2.7           5.1          1.9  virginica\n",
      "143           6.8          3.2           5.9          2.3  virginica\n",
      "144           6.7          3.3           5.7          2.5  virginica\n",
      "145           6.7          3.0           5.2          2.3  virginica\n",
      "146           6.3          2.5           5.0          1.9  virginica\n",
      "147           6.5          3.0           5.2          2.0  virginica\n",
      "148           6.2          3.4           5.4          2.3  virginica\n",
      "149           5.9          3.0           5.1          1.8  virginica\n"
     ]
    }
   ],
   "source": [
    "iris_species_grp = iris_dataset.groupby('species')\n",
    "for grp_id  , data in iris_species_grp :\n",
    "    print('grp_id - ' , grp_id)\n",
    "    print()\n",
    "    print(data)"
   ],
   "metadata": {
    "collapsed": false,
    "pycharm": {
     "name": "#%%\n"
    }
   }
  },
  {
   "cell_type": "code",
   "execution_count": 46,
   "outputs": [
    {
     "data": {
      "text/plain": "    sepal_length  sepal_width  petal_length  petal_width species\n0            5.1          3.5           1.4          0.2  setosa\n1            4.9          3.0           1.4          0.2  setosa\n2            4.7          3.2           1.3          0.2  setosa\n3            4.6          3.1           1.5          0.2  setosa\n4            5.0          3.6           1.4          0.2  setosa\n5            5.4          3.9           1.7          0.4  setosa\n6            4.6          3.4           1.4          0.3  setosa\n7            5.0          3.4           1.5          0.2  setosa\n8            4.4          2.9           1.4          0.2  setosa\n9            4.9          3.1           1.5          0.1  setosa\n10           5.4          3.7           1.5          0.2  setosa\n11           4.8          3.4           1.6          0.2  setosa\n12           4.8          3.0           1.4          0.1  setosa\n13           4.3          3.0           1.1          0.1  setosa\n14           5.8          4.0           1.2          0.2  setosa\n15           5.7          4.4           1.5          0.4  setosa\n16           5.4          3.9           1.3          0.4  setosa\n17           5.1          3.5           1.4          0.3  setosa\n18           5.7          3.8           1.7          0.3  setosa\n19           5.1          3.8           1.5          0.3  setosa\n20           5.4          3.4           1.7          0.2  setosa\n21           5.1          3.7           1.5          0.4  setosa\n22           4.6          3.6           1.0          0.2  setosa\n23           5.1          3.3           1.7          0.5  setosa\n24           4.8          3.4           1.9          0.2  setosa\n25           5.0          3.0           1.6          0.2  setosa\n26           5.0          3.4           1.6          0.4  setosa\n27           5.2          3.5           1.5          0.2  setosa\n28           5.2          3.4           1.4          0.2  setosa\n29           4.7          3.2           1.6          0.2  setosa\n30           4.8          3.1           1.6          0.2  setosa\n31           5.4          3.4           1.5          0.4  setosa\n32           5.2          4.1           1.5          0.1  setosa\n33           5.5          4.2           1.4          0.2  setosa\n34           4.9          3.1           1.5          0.2  setosa\n35           5.0          3.2           1.2          0.2  setosa\n36           5.5          3.5           1.3          0.2  setosa\n37           4.9          3.6           1.4          0.1  setosa\n38           4.4          3.0           1.3          0.2  setosa\n39           5.1          3.4           1.5          0.2  setosa\n40           5.0          3.5           1.3          0.3  setosa\n41           4.5          2.3           1.3          0.3  setosa\n42           4.4          3.2           1.3          0.2  setosa\n43           5.0          3.5           1.6          0.6  setosa\n44           5.1          3.8           1.9          0.4  setosa\n45           4.8          3.0           1.4          0.3  setosa\n46           5.1          3.8           1.6          0.2  setosa\n47           4.6          3.2           1.4          0.2  setosa\n48           5.3          3.7           1.5          0.2  setosa\n49           5.0          3.3           1.4          0.2  setosa",
      "text/html": "<div>\n<style scoped>\n    .dataframe tbody tr th:only-of-type {\n        vertical-align: middle;\n    }\n\n    .dataframe tbody tr th {\n        vertical-align: top;\n    }\n\n    .dataframe thead th {\n        text-align: right;\n    }\n</style>\n<table border=\"1\" class=\"dataframe\">\n  <thead>\n    <tr style=\"text-align: right;\">\n      <th></th>\n      <th>sepal_length</th>\n      <th>sepal_width</th>\n      <th>petal_length</th>\n      <th>petal_width</th>\n      <th>species</th>\n    </tr>\n  </thead>\n  <tbody>\n    <tr>\n      <th>0</th>\n      <td>5.1</td>\n      <td>3.5</td>\n      <td>1.4</td>\n      <td>0.2</td>\n      <td>setosa</td>\n    </tr>\n    <tr>\n      <th>1</th>\n      <td>4.9</td>\n      <td>3.0</td>\n      <td>1.4</td>\n      <td>0.2</td>\n      <td>setosa</td>\n    </tr>\n    <tr>\n      <th>2</th>\n      <td>4.7</td>\n      <td>3.2</td>\n      <td>1.3</td>\n      <td>0.2</td>\n      <td>setosa</td>\n    </tr>\n    <tr>\n      <th>3</th>\n      <td>4.6</td>\n      <td>3.1</td>\n      <td>1.5</td>\n      <td>0.2</td>\n      <td>setosa</td>\n    </tr>\n    <tr>\n      <th>4</th>\n      <td>5.0</td>\n      <td>3.6</td>\n      <td>1.4</td>\n      <td>0.2</td>\n      <td>setosa</td>\n    </tr>\n    <tr>\n      <th>5</th>\n      <td>5.4</td>\n      <td>3.9</td>\n      <td>1.7</td>\n      <td>0.4</td>\n      <td>setosa</td>\n    </tr>\n    <tr>\n      <th>6</th>\n      <td>4.6</td>\n      <td>3.4</td>\n      <td>1.4</td>\n      <td>0.3</td>\n      <td>setosa</td>\n    </tr>\n    <tr>\n      <th>7</th>\n      <td>5.0</td>\n      <td>3.4</td>\n      <td>1.5</td>\n      <td>0.2</td>\n      <td>setosa</td>\n    </tr>\n    <tr>\n      <th>8</th>\n      <td>4.4</td>\n      <td>2.9</td>\n      <td>1.4</td>\n      <td>0.2</td>\n      <td>setosa</td>\n    </tr>\n    <tr>\n      <th>9</th>\n      <td>4.9</td>\n      <td>3.1</td>\n      <td>1.5</td>\n      <td>0.1</td>\n      <td>setosa</td>\n    </tr>\n    <tr>\n      <th>10</th>\n      <td>5.4</td>\n      <td>3.7</td>\n      <td>1.5</td>\n      <td>0.2</td>\n      <td>setosa</td>\n    </tr>\n    <tr>\n      <th>11</th>\n      <td>4.8</td>\n      <td>3.4</td>\n      <td>1.6</td>\n      <td>0.2</td>\n      <td>setosa</td>\n    </tr>\n    <tr>\n      <th>12</th>\n      <td>4.8</td>\n      <td>3.0</td>\n      <td>1.4</td>\n      <td>0.1</td>\n      <td>setosa</td>\n    </tr>\n    <tr>\n      <th>13</th>\n      <td>4.3</td>\n      <td>3.0</td>\n      <td>1.1</td>\n      <td>0.1</td>\n      <td>setosa</td>\n    </tr>\n    <tr>\n      <th>14</th>\n      <td>5.8</td>\n      <td>4.0</td>\n      <td>1.2</td>\n      <td>0.2</td>\n      <td>setosa</td>\n    </tr>\n    <tr>\n      <th>15</th>\n      <td>5.7</td>\n      <td>4.4</td>\n      <td>1.5</td>\n      <td>0.4</td>\n      <td>setosa</td>\n    </tr>\n    <tr>\n      <th>16</th>\n      <td>5.4</td>\n      <td>3.9</td>\n      <td>1.3</td>\n      <td>0.4</td>\n      <td>setosa</td>\n    </tr>\n    <tr>\n      <th>17</th>\n      <td>5.1</td>\n      <td>3.5</td>\n      <td>1.4</td>\n      <td>0.3</td>\n      <td>setosa</td>\n    </tr>\n    <tr>\n      <th>18</th>\n      <td>5.7</td>\n      <td>3.8</td>\n      <td>1.7</td>\n      <td>0.3</td>\n      <td>setosa</td>\n    </tr>\n    <tr>\n      <th>19</th>\n      <td>5.1</td>\n      <td>3.8</td>\n      <td>1.5</td>\n      <td>0.3</td>\n      <td>setosa</td>\n    </tr>\n    <tr>\n      <th>20</th>\n      <td>5.4</td>\n      <td>3.4</td>\n      <td>1.7</td>\n      <td>0.2</td>\n      <td>setosa</td>\n    </tr>\n    <tr>\n      <th>21</th>\n      <td>5.1</td>\n      <td>3.7</td>\n      <td>1.5</td>\n      <td>0.4</td>\n      <td>setosa</td>\n    </tr>\n    <tr>\n      <th>22</th>\n      <td>4.6</td>\n      <td>3.6</td>\n      <td>1.0</td>\n      <td>0.2</td>\n      <td>setosa</td>\n    </tr>\n    <tr>\n      <th>23</th>\n      <td>5.1</td>\n      <td>3.3</td>\n      <td>1.7</td>\n      <td>0.5</td>\n      <td>setosa</td>\n    </tr>\n    <tr>\n      <th>24</th>\n      <td>4.8</td>\n      <td>3.4</td>\n      <td>1.9</td>\n      <td>0.2</td>\n      <td>setosa</td>\n    </tr>\n    <tr>\n      <th>25</th>\n      <td>5.0</td>\n      <td>3.0</td>\n      <td>1.6</td>\n      <td>0.2</td>\n      <td>setosa</td>\n    </tr>\n    <tr>\n      <th>26</th>\n      <td>5.0</td>\n      <td>3.4</td>\n      <td>1.6</td>\n      <td>0.4</td>\n      <td>setosa</td>\n    </tr>\n    <tr>\n      <th>27</th>\n      <td>5.2</td>\n      <td>3.5</td>\n      <td>1.5</td>\n      <td>0.2</td>\n      <td>setosa</td>\n    </tr>\n    <tr>\n      <th>28</th>\n      <td>5.2</td>\n      <td>3.4</td>\n      <td>1.4</td>\n      <td>0.2</td>\n      <td>setosa</td>\n    </tr>\n    <tr>\n      <th>29</th>\n      <td>4.7</td>\n      <td>3.2</td>\n      <td>1.6</td>\n      <td>0.2</td>\n      <td>setosa</td>\n    </tr>\n    <tr>\n      <th>30</th>\n      <td>4.8</td>\n      <td>3.1</td>\n      <td>1.6</td>\n      <td>0.2</td>\n      <td>setosa</td>\n    </tr>\n    <tr>\n      <th>31</th>\n      <td>5.4</td>\n      <td>3.4</td>\n      <td>1.5</td>\n      <td>0.4</td>\n      <td>setosa</td>\n    </tr>\n    <tr>\n      <th>32</th>\n      <td>5.2</td>\n      <td>4.1</td>\n      <td>1.5</td>\n      <td>0.1</td>\n      <td>setosa</td>\n    </tr>\n    <tr>\n      <th>33</th>\n      <td>5.5</td>\n      <td>4.2</td>\n      <td>1.4</td>\n      <td>0.2</td>\n      <td>setosa</td>\n    </tr>\n    <tr>\n      <th>34</th>\n      <td>4.9</td>\n      <td>3.1</td>\n      <td>1.5</td>\n      <td>0.2</td>\n      <td>setosa</td>\n    </tr>\n    <tr>\n      <th>35</th>\n      <td>5.0</td>\n      <td>3.2</td>\n      <td>1.2</td>\n      <td>0.2</td>\n      <td>setosa</td>\n    </tr>\n    <tr>\n      <th>36</th>\n      <td>5.5</td>\n      <td>3.5</td>\n      <td>1.3</td>\n      <td>0.2</td>\n      <td>setosa</td>\n    </tr>\n    <tr>\n      <th>37</th>\n      <td>4.9</td>\n      <td>3.6</td>\n      <td>1.4</td>\n      <td>0.1</td>\n      <td>setosa</td>\n    </tr>\n    <tr>\n      <th>38</th>\n      <td>4.4</td>\n      <td>3.0</td>\n      <td>1.3</td>\n      <td>0.2</td>\n      <td>setosa</td>\n    </tr>\n    <tr>\n      <th>39</th>\n      <td>5.1</td>\n      <td>3.4</td>\n      <td>1.5</td>\n      <td>0.2</td>\n      <td>setosa</td>\n    </tr>\n    <tr>\n      <th>40</th>\n      <td>5.0</td>\n      <td>3.5</td>\n      <td>1.3</td>\n      <td>0.3</td>\n      <td>setosa</td>\n    </tr>\n    <tr>\n      <th>41</th>\n      <td>4.5</td>\n      <td>2.3</td>\n      <td>1.3</td>\n      <td>0.3</td>\n      <td>setosa</td>\n    </tr>\n    <tr>\n      <th>42</th>\n      <td>4.4</td>\n      <td>3.2</td>\n      <td>1.3</td>\n      <td>0.2</td>\n      <td>setosa</td>\n    </tr>\n    <tr>\n      <th>43</th>\n      <td>5.0</td>\n      <td>3.5</td>\n      <td>1.6</td>\n      <td>0.6</td>\n      <td>setosa</td>\n    </tr>\n    <tr>\n      <th>44</th>\n      <td>5.1</td>\n      <td>3.8</td>\n      <td>1.9</td>\n      <td>0.4</td>\n      <td>setosa</td>\n    </tr>\n    <tr>\n      <th>45</th>\n      <td>4.8</td>\n      <td>3.0</td>\n      <td>1.4</td>\n      <td>0.3</td>\n      <td>setosa</td>\n    </tr>\n    <tr>\n      <th>46</th>\n      <td>5.1</td>\n      <td>3.8</td>\n      <td>1.6</td>\n      <td>0.2</td>\n      <td>setosa</td>\n    </tr>\n    <tr>\n      <th>47</th>\n      <td>4.6</td>\n      <td>3.2</td>\n      <td>1.4</td>\n      <td>0.2</td>\n      <td>setosa</td>\n    </tr>\n    <tr>\n      <th>48</th>\n      <td>5.3</td>\n      <td>3.7</td>\n      <td>1.5</td>\n      <td>0.2</td>\n      <td>setosa</td>\n    </tr>\n    <tr>\n      <th>49</th>\n      <td>5.0</td>\n      <td>3.3</td>\n      <td>1.4</td>\n      <td>0.2</td>\n      <td>setosa</td>\n    </tr>\n  </tbody>\n</table>\n</div>"
     },
     "execution_count": 46,
     "metadata": {},
     "output_type": "execute_result"
    }
   ],
   "source": [
    "iris_species_grp.get_group('setosa')"
   ],
   "metadata": {
    "collapsed": false,
    "pycharm": {
     "name": "#%%\n"
    }
   }
  },
  {
   "cell_type": "code",
   "execution_count": 48,
   "outputs": [
    {
     "name": "stdout",
     "output_type": "stream",
     "text": [
      "요구사항 - 품종별 가장큰 값과 가장 작은 값의 차이를 출력한다면 - \n",
      "요구사항 - 품종별 가장큰 값과 가장 작은 값의 비율을 출력한다면 - \n"
     ]
    }
   ],
   "source": [
    "print('요구사항 - 품종별 가장큰 값과 가장 작은 값의 차이를 출력한다면 - ')\n",
    "\n",
    "def get_subtraction(x) :\n",
    "    return x.max() - x.min()\n",
    "\n",
    "print('요구사항 - 품종별 가장큰 값과 가장 작은 값의 비율을 출력한다면 - ')\n",
    "\n",
    "def get_ratio(x) :\n",
    "    return x.max() / x.min()"
   ],
   "metadata": {
    "collapsed": false,
    "pycharm": {
     "name": "#%%\n"
    }
   }
  },
  {
   "cell_type": "code",
   "execution_count": 49,
   "outputs": [
    {
     "data": {
      "text/plain": "              sepal_length               sepal_width            \\\n           get_subtraction get_ratio get_subtraction get_ratio   \nspecies                                                          \nsetosa                 1.5  1.348837             2.1  1.913043   \nversicolor             2.1  1.428571             1.4  1.700000   \nvirginica              3.0  1.612245             1.6  1.727273   \n\n              petal_length               petal_width            \n           get_subtraction get_ratio get_subtraction get_ratio  \nspecies                                                         \nsetosa                 0.9  1.900000             0.5  6.000000  \nversicolor             2.1  1.700000             0.8  1.800000  \nvirginica              2.4  1.533333             1.1  1.785714  ",
      "text/html": "<div>\n<style scoped>\n    .dataframe tbody tr th:only-of-type {\n        vertical-align: middle;\n    }\n\n    .dataframe tbody tr th {\n        vertical-align: top;\n    }\n\n    .dataframe thead tr th {\n        text-align: left;\n    }\n\n    .dataframe thead tr:last-of-type th {\n        text-align: right;\n    }\n</style>\n<table border=\"1\" class=\"dataframe\">\n  <thead>\n    <tr>\n      <th></th>\n      <th colspan=\"2\" halign=\"left\">sepal_length</th>\n      <th colspan=\"2\" halign=\"left\">sepal_width</th>\n      <th colspan=\"2\" halign=\"left\">petal_length</th>\n      <th colspan=\"2\" halign=\"left\">petal_width</th>\n    </tr>\n    <tr>\n      <th></th>\n      <th>get_subtraction</th>\n      <th>get_ratio</th>\n      <th>get_subtraction</th>\n      <th>get_ratio</th>\n      <th>get_subtraction</th>\n      <th>get_ratio</th>\n      <th>get_subtraction</th>\n      <th>get_ratio</th>\n    </tr>\n    <tr>\n      <th>species</th>\n      <th></th>\n      <th></th>\n      <th></th>\n      <th></th>\n      <th></th>\n      <th></th>\n      <th></th>\n      <th></th>\n    </tr>\n  </thead>\n  <tbody>\n    <tr>\n      <th>setosa</th>\n      <td>1.5</td>\n      <td>1.348837</td>\n      <td>2.1</td>\n      <td>1.913043</td>\n      <td>0.9</td>\n      <td>1.900000</td>\n      <td>0.5</td>\n      <td>6.000000</td>\n    </tr>\n    <tr>\n      <th>versicolor</th>\n      <td>2.1</td>\n      <td>1.428571</td>\n      <td>1.4</td>\n      <td>1.700000</td>\n      <td>2.1</td>\n      <td>1.700000</td>\n      <td>0.8</td>\n      <td>1.800000</td>\n    </tr>\n    <tr>\n      <th>virginica</th>\n      <td>3.0</td>\n      <td>1.612245</td>\n      <td>1.6</td>\n      <td>1.727273</td>\n      <td>2.4</td>\n      <td>1.533333</td>\n      <td>1.1</td>\n      <td>1.785714</td>\n    </tr>\n  </tbody>\n</table>\n</div>"
     },
     "execution_count": 49,
     "metadata": {},
     "output_type": "execute_result"
    }
   ],
   "source": [
    "iris_species_grp.agg([get_subtraction, get_ratio])"
   ],
   "metadata": {
    "collapsed": false,
    "pycharm": {
     "name": "#%%\n"
    }
   }
  },
  {
   "cell_type": "code",
   "execution_count": 46,
   "outputs": [],
   "source": [
    "print('요구사항 - 품종별 가장 큰 petal_length 3개 출력 - ')\n",
    "\n",
    "display( iris_dataset.sort_values(by='petal_length' , ascending = False).groupby('species').head(3) )\n",
    "\n",
    "def petal(frm) :\n",
    "    return frm.sort_values(by='petal_length' , ascending = False)[ : 3]"
   ],
   "metadata": {
    "collapsed": false,
    "pycharm": {
     "name": "#%%\n"
    }
   }
  },
  {
   "cell_type": "code",
   "execution_count": 46,
   "outputs": [],
   "source": [],
   "metadata": {
    "collapsed": false,
    "pycharm": {
     "name": "#%%\n"
    }
   }
  },
  {
   "cell_type": "code",
   "execution_count": 50,
   "outputs": [
    {
     "name": "stdout",
     "output_type": "stream",
     "text": [
      "\n"
     ]
    },
    {
     "data": {
      "text/plain": "     pclass     sex\n0         3    male\n1         1  female\n2         3  female\n3         1  female\n4         3    male\n..      ...     ...\n886       2    male\n887       1  female\n888       3  female\n889       1    male\n890       3    male\n\n[891 rows x 2 columns]",
      "text/html": "<div>\n<style scoped>\n    .dataframe tbody tr th:only-of-type {\n        vertical-align: middle;\n    }\n\n    .dataframe tbody tr th {\n        vertical-align: top;\n    }\n\n    .dataframe thead th {\n        text-align: right;\n    }\n</style>\n<table border=\"1\" class=\"dataframe\">\n  <thead>\n    <tr style=\"text-align: right;\">\n      <th></th>\n      <th>pclass</th>\n      <th>sex</th>\n    </tr>\n  </thead>\n  <tbody>\n    <tr>\n      <th>0</th>\n      <td>3</td>\n      <td>male</td>\n    </tr>\n    <tr>\n      <th>1</th>\n      <td>1</td>\n      <td>female</td>\n    </tr>\n    <tr>\n      <th>2</th>\n      <td>3</td>\n      <td>female</td>\n    </tr>\n    <tr>\n      <th>3</th>\n      <td>1</td>\n      <td>female</td>\n    </tr>\n    <tr>\n      <th>4</th>\n      <td>3</td>\n      <td>male</td>\n    </tr>\n    <tr>\n      <th>...</th>\n      <td>...</td>\n      <td>...</td>\n    </tr>\n    <tr>\n      <th>886</th>\n      <td>2</td>\n      <td>male</td>\n    </tr>\n    <tr>\n      <th>887</th>\n      <td>1</td>\n      <td>female</td>\n    </tr>\n    <tr>\n      <th>888</th>\n      <td>3</td>\n      <td>female</td>\n    </tr>\n    <tr>\n      <th>889</th>\n      <td>1</td>\n      <td>male</td>\n    </tr>\n    <tr>\n      <th>890</th>\n      <td>3</td>\n      <td>male</td>\n    </tr>\n  </tbody>\n</table>\n<p>891 rows × 2 columns</p>\n</div>"
     },
     "execution_count": 50,
     "metadata": {},
     "output_type": "execute_result"
    }
   ],
   "source": [
    "class_sex_subset_frm = titanic_dataset.loc[ : , ['pclass' , 'sex']]\n",
    "class_sex_subset_frm\n",
    "print()\n",
    "class_sex_subset_frm = pd.DataFrame(titanic_dataset ,\n",
    "                                    columns = ['pclass' , 'sex'])\n",
    "class_sex_subset_frm"
   ],
   "metadata": {
    "collapsed": false,
    "pycharm": {
     "name": "#%%\n"
    }
   }
  },
  {
   "cell_type": "code",
   "execution_count": null,
   "outputs": [],
   "source": [],
   "metadata": {
    "collapsed": false,
    "pycharm": {
     "name": "#%%\n"
    }
   }
  },
  {
   "cell_type": "code",
   "execution_count": null,
   "outputs": [],
   "source": [],
   "metadata": {
    "collapsed": false,
    "pycharm": {
     "name": "#%%\n"
    }
   }
  },
  {
   "cell_type": "code",
   "execution_count": null,
   "outputs": [],
   "source": [],
   "metadata": {
    "collapsed": false,
    "pycharm": {
     "name": "#%%\n"
    }
   }
  },
  {
   "cell_type": "code",
   "execution_count": null,
   "outputs": [],
   "source": [],
   "metadata": {
    "collapsed": false,
    "pycharm": {
     "name": "#%%\n"
    }
   }
  },
  {
   "cell_type": "code",
   "execution_count": null,
   "outputs": [],
   "source": [],
   "metadata": {
    "collapsed": false,
    "pycharm": {
     "name": "#%%\n"
    }
   }
  },
  {
   "cell_type": "code",
   "execution_count": null,
   "outputs": [],
   "source": [],
   "metadata": {
    "collapsed": false,
    "pycharm": {
     "name": "#%%\n"
    }
   }
  }
 ],
 "metadata": {
  "kernelspec": {
   "display_name": "Python 3",
   "language": "python",
   "name": "python3"
  },
  "language_info": {
   "codemirror_mode": {
    "name": "ipython",
    "version": 2
   },
   "file_extension": ".py",
   "mimetype": "text/x-python",
   "name": "python",
   "nbconvert_exporter": "python",
   "pygments_lexer": "ipython2",
   "version": "2.7.6"
  }
 },
 "nbformat": 4,
 "nbformat_minor": 0
}