{
 "cells": [
  {
   "cell_type": "code",
   "execution_count": 1,
   "metadata": {
    "collapsed": true
   },
   "outputs": [
    {
     "name": "stdout",
     "output_type": "stream",
     "text": [
      "numpy  version -  1.20.3\n",
      "pandas version -  1.3.4\n"
     ]
    }
   ],
   "source": [
    "import numpy  as np\n",
    "import pandas as pd\n",
    "\n",
    "import warnings\n",
    "warnings.filterwarnings(action='ignore')\n",
    "\n",
    "from datetime import date, datetime, timedelta\n",
    "from dateutil.parser import parse\n",
    "\n",
    "import json\n",
    "import urllib\n",
    "\n",
    "# titanic dataset\n",
    "import seaborn as sns\n",
    "\n",
    "# 비정형 데이터 처리를 위한 라이브러리\n",
    "from bs4 import BeautifulSoup\n",
    "import requests\n",
    "import re\n",
    "\n",
    "\n",
    "\n",
    "print('numpy  version - ' , np.__version__)\n",
    "print('pandas version - ' , pd.__version__)"
   ]
  },
  {
   "cell_type": "code",
   "execution_count": 2,
   "outputs": [],
   "source": [
    "def seriesInfo(s) :\n",
    "    print('series : index + values \\n' , s)\n",
    "    print('index  - ' , s.index  , type(s.index))\n",
    "    print('values - ' , s.values , type(s.values))\n",
    "\n",
    "def frmInfo(df) :\n",
    "    display('data - ' , df )\n",
    "    print()\n",
    "    print('shape   - ' , df.shape , df.shape[0] , df.shape[1])\n",
    "    print('size    - ' , df.size )\n",
    "    print('ndim    - ' , df.ndim)\n",
    "    print('index   - ' , df.index    , type(df.index))\n",
    "    print('columns - ' , df.columns  , type( df.columns ))\n",
    "    print('values  - \\n' , df.values , type(df.values) )"
   ],
   "metadata": {
    "collapsed": false,
    "pycharm": {
     "name": "#%%\n"
    }
   }
  },
  {
   "cell_type": "code",
   "execution_count": 3,
   "outputs": [
    {
     "data": {
      "text/plain": "  Grp01       Grp02      \n  col01 col02 col03 col04\n0  0.52 -0.52 -0.99  0.32\n1 -2.17 -0.83 -0.71  0.04\n2  0.42  0.49  0.13  0.16\n3 -0.19 -3.41  0.01 -1.00\n4  1.23  1.85  0.57  0.03",
      "text/html": "<div>\n<style scoped>\n    .dataframe tbody tr th:only-of-type {\n        vertical-align: middle;\n    }\n\n    .dataframe tbody tr th {\n        vertical-align: top;\n    }\n\n    .dataframe thead tr th {\n        text-align: left;\n    }\n</style>\n<table border=\"1\" class=\"dataframe\">\n  <thead>\n    <tr>\n      <th></th>\n      <th colspan=\"2\" halign=\"left\">Grp01</th>\n      <th colspan=\"2\" halign=\"left\">Grp02</th>\n    </tr>\n    <tr>\n      <th></th>\n      <th>col01</th>\n      <th>col02</th>\n      <th>col03</th>\n      <th>col04</th>\n    </tr>\n  </thead>\n  <tbody>\n    <tr>\n      <th>0</th>\n      <td>0.52</td>\n      <td>-0.52</td>\n      <td>-0.99</td>\n      <td>0.32</td>\n    </tr>\n    <tr>\n      <th>1</th>\n      <td>-2.17</td>\n      <td>-0.83</td>\n      <td>-0.71</td>\n      <td>0.04</td>\n    </tr>\n    <tr>\n      <th>2</th>\n      <td>0.42</td>\n      <td>0.49</td>\n      <td>0.13</td>\n      <td>0.16</td>\n    </tr>\n    <tr>\n      <th>3</th>\n      <td>-0.19</td>\n      <td>-3.41</td>\n      <td>0.01</td>\n      <td>-1.00</td>\n    </tr>\n    <tr>\n      <th>4</th>\n      <td>1.23</td>\n      <td>1.85</td>\n      <td>0.57</td>\n      <td>0.03</td>\n    </tr>\n  </tbody>\n</table>\n</div>"
     },
     "execution_count": 3,
     "metadata": {},
     "output_type": "execute_result"
    }
   ],
   "source": [
    "multi_col_idx_frm = pd.DataFrame( np.round( np.random.randn(5, 4) , 2 )    ,\n",
    "                                  columns = [\n",
    "                                      ['Grp01' , 'Grp01' , 'Grp02' , 'Grp02'] ,\n",
    "                                      ['col01' , 'col02' , 'col03' , 'col04']\n",
    "                                  ])\n",
    "\n",
    "multi_col_idx_frm"
   ],
   "metadata": {
    "collapsed": false,
    "pycharm": {
     "name": "#%%\n"
    }
   }
  },
  {
   "cell_type": "code",
   "execution_count": 4,
   "outputs": [
    {
     "data": {
      "text/plain": "MultiIndex([('Grp01', 'col01'),\n            ('Grp01', 'col02'),\n            ('Grp02', 'col03'),\n            ('Grp02', 'col04')],\n           )"
     },
     "execution_count": 4,
     "metadata": {},
     "output_type": "execute_result"
    }
   ],
   "source": [
    "multi_col_idx_frm.columns"
   ],
   "metadata": {
    "collapsed": false,
    "pycharm": {
     "name": "#%%\n"
    }
   }
  },
  {
   "cell_type": "code",
   "execution_count": 5,
   "outputs": [
    {
     "data": {
      "text/plain": "GrpIdx Grp01       Grp02      \nColIdx col01 col02 col03 col04\n0       0.52 -0.52 -0.99  0.32\n1      -2.17 -0.83 -0.71  0.04\n2       0.42  0.49  0.13  0.16\n3      -0.19 -3.41  0.01 -1.00\n4       1.23  1.85  0.57  0.03",
      "text/html": "<div>\n<style scoped>\n    .dataframe tbody tr th:only-of-type {\n        vertical-align: middle;\n    }\n\n    .dataframe tbody tr th {\n        vertical-align: top;\n    }\n\n    .dataframe thead tr th {\n        text-align: left;\n    }\n</style>\n<table border=\"1\" class=\"dataframe\">\n  <thead>\n    <tr>\n      <th>GrpIdx</th>\n      <th colspan=\"2\" halign=\"left\">Grp01</th>\n      <th colspan=\"2\" halign=\"left\">Grp02</th>\n    </tr>\n    <tr>\n      <th>ColIdx</th>\n      <th>col01</th>\n      <th>col02</th>\n      <th>col03</th>\n      <th>col04</th>\n    </tr>\n  </thead>\n  <tbody>\n    <tr>\n      <th>0</th>\n      <td>0.52</td>\n      <td>-0.52</td>\n      <td>-0.99</td>\n      <td>0.32</td>\n    </tr>\n    <tr>\n      <th>1</th>\n      <td>-2.17</td>\n      <td>-0.83</td>\n      <td>-0.71</td>\n      <td>0.04</td>\n    </tr>\n    <tr>\n      <th>2</th>\n      <td>0.42</td>\n      <td>0.49</td>\n      <td>0.13</td>\n      <td>0.16</td>\n    </tr>\n    <tr>\n      <th>3</th>\n      <td>-0.19</td>\n      <td>-3.41</td>\n      <td>0.01</td>\n      <td>-1.00</td>\n    </tr>\n    <tr>\n      <th>4</th>\n      <td>1.23</td>\n      <td>1.85</td>\n      <td>0.57</td>\n      <td>0.03</td>\n    </tr>\n  </tbody>\n</table>\n</div>"
     },
     "execution_count": 5,
     "metadata": {},
     "output_type": "execute_result"
    }
   ],
   "source": [
    "multi_col_idx_frm.columns.names = ['GrpIdx' , 'ColIdx' ]\n",
    "multi_col_idx_frm"
   ],
   "metadata": {
    "collapsed": false,
    "pycharm": {
     "name": "#%%\n"
    }
   }
  },
  {
   "cell_type": "code",
   "execution_count": 6,
   "outputs": [
    {
     "data": {
      "text/plain": "FrozenList(['GrpIdx', 'ColIdx'])"
     },
     "execution_count": 6,
     "metadata": {},
     "output_type": "execute_result"
    }
   ],
   "source": [
    "multi_col_idx_frm.columns.names"
   ],
   "metadata": {
    "collapsed": false,
    "pycharm": {
     "name": "#%%\n"
    }
   }
  },
  {
   "cell_type": "code",
   "execution_count": null,
   "outputs": [],
   "source": [],
   "metadata": {
    "collapsed": false,
    "pycharm": {
     "name": "#%%\n"
    }
   }
  }
 ],
 "metadata": {
  "kernelspec": {
   "display_name": "Python 3",
   "language": "python",
   "name": "python3"
  },
  "language_info": {
   "codemirror_mode": {
    "name": "ipython",
    "version": 2
   },
   "file_extension": ".py",
   "mimetype": "text/x-python",
   "name": "python",
   "nbconvert_exporter": "python",
   "pygments_lexer": "ipython2",
   "version": "2.7.6"
  }
 },
 "nbformat": 4,
 "nbformat_minor": 0
}