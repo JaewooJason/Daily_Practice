{
 "cells": [
  {
   "cell_type": "code",
   "execution_count": 1,
   "metadata": {
    "collapsed": true
   },
   "outputs": [
    {
     "name": "stdout",
     "output_type": "stream",
     "text": [
      "numpy  version -  1.20.3\n",
      "pandas version -  1.3.4\n"
     ]
    }
   ],
   "source": [
    "import numpy  as np\n",
    "import pandas as pd\n",
    "\n",
    "import warnings\n",
    "warnings.filterwarnings(action='ignore')\n",
    "\n",
    "from datetime import date, datetime, timedelta\n",
    "from dateutil.parser import parse\n",
    "\n",
    "import json\n",
    "import urllib\n",
    "\n",
    "# titanic dataset\n",
    "import seaborn as sns\n",
    "\n",
    "# 비정형 데이터 처리를 위한 라이브러리\n",
    "from bs4 import BeautifulSoup\n",
    "import requests\n",
    "import re\n",
    "\n",
    "\n",
    "\n",
    "print('numpy  version - ' , np.__version__)\n",
    "print('pandas version - ' , pd.__version__)"
   ]
  },
  {
   "cell_type": "code",
   "execution_count": 2,
   "outputs": [],
   "source": [
    "def seriesInfo(s) :\n",
    "    print('series : index + values \\n' , s)\n",
    "    print('index  - ' , s.index  , type(s.index))\n",
    "    print('values - ' , s.values , type(s.values))\n",
    "\n",
    "def frmInfo(df) :\n",
    "    display('data - ' , df )\n",
    "    print()\n",
    "    print('shape   - ' , df.shape , df.shape[0] , df.shape[1])\n",
    "    print('size    - ' , df.size )\n",
    "    print('ndim    - ' , df.ndim)\n",
    "    print('index   - ' , df.index    , type(df.index))\n",
    "    print('columns - ' , df.columns  , type( df.columns ))\n",
    "    print('values  - \\n' , df.values , type(df.values) )"
   ],
   "metadata": {
    "collapsed": false,
    "pycharm": {
     "name": "#%%\n"
    }
   }
  },
  {
   "cell_type": "code",
   "execution_count": 3,
   "outputs": [
    {
     "data": {
      "text/plain": "  Grp01       Grp02      \n  col01 col02 col03 col04\n0  1.17 -0.68  1.65 -0.72\n1 -0.23  0.05 -1.60  2.22\n2 -0.10 -0.11  0.90 -0.10\n3  0.13 -0.77 -2.04 -0.00\n4 -0.19 -1.44 -0.51  0.12",
      "text/html": "<div>\n<style scoped>\n    .dataframe tbody tr th:only-of-type {\n        vertical-align: middle;\n    }\n\n    .dataframe tbody tr th {\n        vertical-align: top;\n    }\n\n    .dataframe thead tr th {\n        text-align: left;\n    }\n</style>\n<table border=\"1\" class=\"dataframe\">\n  <thead>\n    <tr>\n      <th></th>\n      <th colspan=\"2\" halign=\"left\">Grp01</th>\n      <th colspan=\"2\" halign=\"left\">Grp02</th>\n    </tr>\n    <tr>\n      <th></th>\n      <th>col01</th>\n      <th>col02</th>\n      <th>col03</th>\n      <th>col04</th>\n    </tr>\n  </thead>\n  <tbody>\n    <tr>\n      <th>0</th>\n      <td>1.17</td>\n      <td>-0.68</td>\n      <td>1.65</td>\n      <td>-0.72</td>\n    </tr>\n    <tr>\n      <th>1</th>\n      <td>-0.23</td>\n      <td>0.05</td>\n      <td>-1.60</td>\n      <td>2.22</td>\n    </tr>\n    <tr>\n      <th>2</th>\n      <td>-0.10</td>\n      <td>-0.11</td>\n      <td>0.90</td>\n      <td>-0.10</td>\n    </tr>\n    <tr>\n      <th>3</th>\n      <td>0.13</td>\n      <td>-0.77</td>\n      <td>-2.04</td>\n      <td>-0.00</td>\n    </tr>\n    <tr>\n      <th>4</th>\n      <td>-0.19</td>\n      <td>-1.44</td>\n      <td>-0.51</td>\n      <td>0.12</td>\n    </tr>\n  </tbody>\n</table>\n</div>"
     },
     "execution_count": 3,
     "metadata": {},
     "output_type": "execute_result"
    }
   ],
   "source": [
    "multi_col_idx_frm = pd.DataFrame( np.round( np.random.randn(5, 4) , 2 )    ,\n",
    "                                  columns = [\n",
    "                                      ['Grp01' , 'Grp01' , 'Grp02' , 'Grp02'] ,\n",
    "                                      ['col01' , 'col02' , 'col03' , 'col04']\n",
    "                                  ])\n",
    "\n",
    "multi_col_idx_frm"
   ],
   "metadata": {
    "collapsed": false,
    "pycharm": {
     "name": "#%%\n"
    }
   }
  },
  {
   "cell_type": "code",
   "execution_count": 4,
   "outputs": [
    {
     "data": {
      "text/plain": "MultiIndex([('Grp01', 'col01'),\n            ('Grp01', 'col02'),\n            ('Grp02', 'col03'),\n            ('Grp02', 'col04')],\n           )"
     },
     "execution_count": 4,
     "metadata": {},
     "output_type": "execute_result"
    }
   ],
   "source": [
    "multi_col_idx_frm.columns"
   ],
   "metadata": {
    "collapsed": false,
    "pycharm": {
     "name": "#%%\n"
    }
   }
  },
  {
   "cell_type": "code",
   "execution_count": 5,
   "outputs": [
    {
     "data": {
      "text/plain": "GrpIdx Grp01       Grp02      \nColIdx col01 col02 col03 col04\n0       1.17 -0.68  1.65 -0.72\n1      -0.23  0.05 -1.60  2.22\n2      -0.10 -0.11  0.90 -0.10\n3       0.13 -0.77 -2.04 -0.00\n4      -0.19 -1.44 -0.51  0.12",
      "text/html": "<div>\n<style scoped>\n    .dataframe tbody tr th:only-of-type {\n        vertical-align: middle;\n    }\n\n    .dataframe tbody tr th {\n        vertical-align: top;\n    }\n\n    .dataframe thead tr th {\n        text-align: left;\n    }\n</style>\n<table border=\"1\" class=\"dataframe\">\n  <thead>\n    <tr>\n      <th>GrpIdx</th>\n      <th colspan=\"2\" halign=\"left\">Grp01</th>\n      <th colspan=\"2\" halign=\"left\">Grp02</th>\n    </tr>\n    <tr>\n      <th>ColIdx</th>\n      <th>col01</th>\n      <th>col02</th>\n      <th>col03</th>\n      <th>col04</th>\n    </tr>\n  </thead>\n  <tbody>\n    <tr>\n      <th>0</th>\n      <td>1.17</td>\n      <td>-0.68</td>\n      <td>1.65</td>\n      <td>-0.72</td>\n    </tr>\n    <tr>\n      <th>1</th>\n      <td>-0.23</td>\n      <td>0.05</td>\n      <td>-1.60</td>\n      <td>2.22</td>\n    </tr>\n    <tr>\n      <th>2</th>\n      <td>-0.10</td>\n      <td>-0.11</td>\n      <td>0.90</td>\n      <td>-0.10</td>\n    </tr>\n    <tr>\n      <th>3</th>\n      <td>0.13</td>\n      <td>-0.77</td>\n      <td>-2.04</td>\n      <td>-0.00</td>\n    </tr>\n    <tr>\n      <th>4</th>\n      <td>-0.19</td>\n      <td>-1.44</td>\n      <td>-0.51</td>\n      <td>0.12</td>\n    </tr>\n  </tbody>\n</table>\n</div>"
     },
     "execution_count": 5,
     "metadata": {},
     "output_type": "execute_result"
    }
   ],
   "source": [
    "multi_col_idx_frm.columns.names = ['GrpIdx' , 'ColIdx' ]\n",
    "multi_col_idx_frm"
   ],
   "metadata": {
    "collapsed": false,
    "pycharm": {
     "name": "#%%\n"
    }
   }
  },
  {
   "cell_type": "code",
   "execution_count": 6,
   "outputs": [
    {
     "data": {
      "text/plain": "FrozenList(['GrpIdx', 'ColIdx'])"
     },
     "execution_count": 6,
     "metadata": {},
     "output_type": "execute_result"
    }
   ],
   "source": [
    "multi_col_idx_frm.columns.names"
   ],
   "metadata": {
    "collapsed": false,
    "pycharm": {
     "name": "#%%\n"
    }
   }
  },
  {
   "cell_type": "code",
   "execution_count": 7,
   "outputs": [
    {
     "data": {
      "text/plain": "GrpIdx           Grp01       Grp02      \nColIdx           col01 col02 col03 col04\nGenderIdx RowIdx                        \nM         id_0    0.14 -0.73 -0.16  1.06\n          id_1   -0.77  0.18  0.59 -0.33\n          id_2   -0.13  0.37  0.33  1.13\nF         id_3    1.00  1.09 -1.02  0.03\n          id_4   -0.01 -1.20 -0.74 -0.72\n          id_5   -1.28  0.70  1.40  0.24",
      "text/html": "<div>\n<style scoped>\n    .dataframe tbody tr th:only-of-type {\n        vertical-align: middle;\n    }\n\n    .dataframe tbody tr th {\n        vertical-align: top;\n    }\n\n    .dataframe thead tr th {\n        text-align: left;\n    }\n\n    .dataframe thead tr:last-of-type th {\n        text-align: right;\n    }\n</style>\n<table border=\"1\" class=\"dataframe\">\n  <thead>\n    <tr>\n      <th></th>\n      <th>GrpIdx</th>\n      <th colspan=\"2\" halign=\"left\">Grp01</th>\n      <th colspan=\"2\" halign=\"left\">Grp02</th>\n    </tr>\n    <tr>\n      <th></th>\n      <th>ColIdx</th>\n      <th>col01</th>\n      <th>col02</th>\n      <th>col03</th>\n      <th>col04</th>\n    </tr>\n    <tr>\n      <th>GenderIdx</th>\n      <th>RowIdx</th>\n      <th></th>\n      <th></th>\n      <th></th>\n      <th></th>\n    </tr>\n  </thead>\n  <tbody>\n    <tr>\n      <th rowspan=\"3\" valign=\"top\">M</th>\n      <th>id_0</th>\n      <td>0.14</td>\n      <td>-0.73</td>\n      <td>-0.16</td>\n      <td>1.06</td>\n    </tr>\n    <tr>\n      <th>id_1</th>\n      <td>-0.77</td>\n      <td>0.18</td>\n      <td>0.59</td>\n      <td>-0.33</td>\n    </tr>\n    <tr>\n      <th>id_2</th>\n      <td>-0.13</td>\n      <td>0.37</td>\n      <td>0.33</td>\n      <td>1.13</td>\n    </tr>\n    <tr>\n      <th rowspan=\"3\" valign=\"top\">F</th>\n      <th>id_3</th>\n      <td>1.00</td>\n      <td>1.09</td>\n      <td>-1.02</td>\n      <td>0.03</td>\n    </tr>\n    <tr>\n      <th>id_4</th>\n      <td>-0.01</td>\n      <td>-1.20</td>\n      <td>-0.74</td>\n      <td>-0.72</td>\n    </tr>\n    <tr>\n      <th>id_5</th>\n      <td>-1.28</td>\n      <td>0.70</td>\n      <td>1.40</td>\n      <td>0.24</td>\n    </tr>\n  </tbody>\n</table>\n</div>"
     },
     "execution_count": 7,
     "metadata": {},
     "output_type": "execute_result"
    }
   ],
   "source": [
    "multi_idx_frm = pd.DataFrame( np.round( np.random.randn(6, 4) , 2 )    ,\n",
    "                                  columns = [\n",
    "                                      ['Grp01' , 'Grp01' , 'Grp02' , 'Grp02'] ,\n",
    "                                      ['col01' , 'col02' , 'col03' , 'col04']\n",
    "                                  ] ,\n",
    "                                  index = [\n",
    "                                      ['M' , 'M' , 'M' , 'F' , 'F' , 'F'] ,\n",
    "                                      [ 'id_' + str(idx) for idx in range(6) ]\n",
    "                                  ])\n",
    "\n",
    "multi_idx_frm.columns.names = ['GrpIdx'  , 'ColIdx' ]\n",
    "multi_idx_frm.index.names   = ['GenderIdx' , 'RowIdx' ]\n",
    "multi_idx_frm"
   ],
   "metadata": {
    "collapsed": false,
    "pycharm": {
     "name": "#%%\n"
    }
   }
  },
  {
   "cell_type": "code",
   "execution_count": 8,
   "outputs": [
    {
     "data": {
      "text/plain": "GrpIdx                   Grp01  Grp02\nGenderIdx RowIdx ColIdx              \nM         id_0   col01    0.14    NaN\n                 col02   -0.73    NaN\n                 col03     NaN  -0.16\n                 col04     NaN   1.06\n          id_1   col01   -0.77    NaN\n                 col02    0.18    NaN\n                 col03     NaN   0.59\n                 col04     NaN  -0.33\n          id_2   col01   -0.13    NaN\n                 col02    0.37    NaN\n                 col03     NaN   0.33\n                 col04     NaN   1.13\nF         id_3   col01    1.00    NaN\n                 col02    1.09    NaN\n                 col03     NaN  -1.02\n                 col04     NaN   0.03\n          id_4   col01   -0.01    NaN\n                 col02   -1.20    NaN\n                 col03     NaN  -0.74\n                 col04     NaN  -0.72\n          id_5   col01   -1.28    NaN\n                 col02    0.70    NaN\n                 col03     NaN   1.40\n                 col04     NaN   0.24",
      "text/html": "<div>\n<style scoped>\n    .dataframe tbody tr th:only-of-type {\n        vertical-align: middle;\n    }\n\n    .dataframe tbody tr th {\n        vertical-align: top;\n    }\n\n    .dataframe thead th {\n        text-align: right;\n    }\n</style>\n<table border=\"1\" class=\"dataframe\">\n  <thead>\n    <tr style=\"text-align: right;\">\n      <th></th>\n      <th></th>\n      <th>GrpIdx</th>\n      <th>Grp01</th>\n      <th>Grp02</th>\n    </tr>\n    <tr>\n      <th>GenderIdx</th>\n      <th>RowIdx</th>\n      <th>ColIdx</th>\n      <th></th>\n      <th></th>\n    </tr>\n  </thead>\n  <tbody>\n    <tr>\n      <th rowspan=\"12\" valign=\"top\">M</th>\n      <th rowspan=\"4\" valign=\"top\">id_0</th>\n      <th>col01</th>\n      <td>0.14</td>\n      <td>NaN</td>\n    </tr>\n    <tr>\n      <th>col02</th>\n      <td>-0.73</td>\n      <td>NaN</td>\n    </tr>\n    <tr>\n      <th>col03</th>\n      <td>NaN</td>\n      <td>-0.16</td>\n    </tr>\n    <tr>\n      <th>col04</th>\n      <td>NaN</td>\n      <td>1.06</td>\n    </tr>\n    <tr>\n      <th rowspan=\"4\" valign=\"top\">id_1</th>\n      <th>col01</th>\n      <td>-0.77</td>\n      <td>NaN</td>\n    </tr>\n    <tr>\n      <th>col02</th>\n      <td>0.18</td>\n      <td>NaN</td>\n    </tr>\n    <tr>\n      <th>col03</th>\n      <td>NaN</td>\n      <td>0.59</td>\n    </tr>\n    <tr>\n      <th>col04</th>\n      <td>NaN</td>\n      <td>-0.33</td>\n    </tr>\n    <tr>\n      <th rowspan=\"4\" valign=\"top\">id_2</th>\n      <th>col01</th>\n      <td>-0.13</td>\n      <td>NaN</td>\n    </tr>\n    <tr>\n      <th>col02</th>\n      <td>0.37</td>\n      <td>NaN</td>\n    </tr>\n    <tr>\n      <th>col03</th>\n      <td>NaN</td>\n      <td>0.33</td>\n    </tr>\n    <tr>\n      <th>col04</th>\n      <td>NaN</td>\n      <td>1.13</td>\n    </tr>\n    <tr>\n      <th rowspan=\"12\" valign=\"top\">F</th>\n      <th rowspan=\"4\" valign=\"top\">id_3</th>\n      <th>col01</th>\n      <td>1.00</td>\n      <td>NaN</td>\n    </tr>\n    <tr>\n      <th>col02</th>\n      <td>1.09</td>\n      <td>NaN</td>\n    </tr>\n    <tr>\n      <th>col03</th>\n      <td>NaN</td>\n      <td>-1.02</td>\n    </tr>\n    <tr>\n      <th>col04</th>\n      <td>NaN</td>\n      <td>0.03</td>\n    </tr>\n    <tr>\n      <th rowspan=\"4\" valign=\"top\">id_4</th>\n      <th>col01</th>\n      <td>-0.01</td>\n      <td>NaN</td>\n    </tr>\n    <tr>\n      <th>col02</th>\n      <td>-1.20</td>\n      <td>NaN</td>\n    </tr>\n    <tr>\n      <th>col03</th>\n      <td>NaN</td>\n      <td>-0.74</td>\n    </tr>\n    <tr>\n      <th>col04</th>\n      <td>NaN</td>\n      <td>-0.72</td>\n    </tr>\n    <tr>\n      <th rowspan=\"4\" valign=\"top\">id_5</th>\n      <th>col01</th>\n      <td>-1.28</td>\n      <td>NaN</td>\n    </tr>\n    <tr>\n      <th>col02</th>\n      <td>0.70</td>\n      <td>NaN</td>\n    </tr>\n    <tr>\n      <th>col03</th>\n      <td>NaN</td>\n      <td>1.40</td>\n    </tr>\n    <tr>\n      <th>col04</th>\n      <td>NaN</td>\n      <td>0.24</td>\n    </tr>\n  </tbody>\n</table>\n</div>"
     },
     "execution_count": 8,
     "metadata": {},
     "output_type": "execute_result"
    }
   ],
   "source": [
    "multi_idx_frm.stack()"
   ],
   "metadata": {
    "collapsed": false,
    "pycharm": {
     "name": "#%%\n"
    }
   }
  },
  {
   "cell_type": "code",
   "execution_count": 9,
   "outputs": [
    {
     "data": {
      "text/plain": "ColIdx                   col01  col02  col03  col04\nGenderIdx RowIdx GrpIdx                            \nM         id_0   Grp01    0.14  -0.73    NaN    NaN\n                 Grp02     NaN    NaN  -0.16   1.06\n          id_1   Grp01   -0.77   0.18    NaN    NaN\n                 Grp02     NaN    NaN   0.59  -0.33\n          id_2   Grp01   -0.13   0.37    NaN    NaN\n                 Grp02     NaN    NaN   0.33   1.13\nF         id_3   Grp01    1.00   1.09    NaN    NaN\n                 Grp02     NaN    NaN  -1.02   0.03\n          id_4   Grp01   -0.01  -1.20    NaN    NaN\n                 Grp02     NaN    NaN  -0.74  -0.72\n          id_5   Grp01   -1.28   0.70    NaN    NaN\n                 Grp02     NaN    NaN   1.40   0.24",
      "text/html": "<div>\n<style scoped>\n    .dataframe tbody tr th:only-of-type {\n        vertical-align: middle;\n    }\n\n    .dataframe tbody tr th {\n        vertical-align: top;\n    }\n\n    .dataframe thead th {\n        text-align: right;\n    }\n</style>\n<table border=\"1\" class=\"dataframe\">\n  <thead>\n    <tr style=\"text-align: right;\">\n      <th></th>\n      <th></th>\n      <th>ColIdx</th>\n      <th>col01</th>\n      <th>col02</th>\n      <th>col03</th>\n      <th>col04</th>\n    </tr>\n    <tr>\n      <th>GenderIdx</th>\n      <th>RowIdx</th>\n      <th>GrpIdx</th>\n      <th></th>\n      <th></th>\n      <th></th>\n      <th></th>\n    </tr>\n  </thead>\n  <tbody>\n    <tr>\n      <th rowspan=\"6\" valign=\"top\">M</th>\n      <th rowspan=\"2\" valign=\"top\">id_0</th>\n      <th>Grp01</th>\n      <td>0.14</td>\n      <td>-0.73</td>\n      <td>NaN</td>\n      <td>NaN</td>\n    </tr>\n    <tr>\n      <th>Grp02</th>\n      <td>NaN</td>\n      <td>NaN</td>\n      <td>-0.16</td>\n      <td>1.06</td>\n    </tr>\n    <tr>\n      <th rowspan=\"2\" valign=\"top\">id_1</th>\n      <th>Grp01</th>\n      <td>-0.77</td>\n      <td>0.18</td>\n      <td>NaN</td>\n      <td>NaN</td>\n    </tr>\n    <tr>\n      <th>Grp02</th>\n      <td>NaN</td>\n      <td>NaN</td>\n      <td>0.59</td>\n      <td>-0.33</td>\n    </tr>\n    <tr>\n      <th rowspan=\"2\" valign=\"top\">id_2</th>\n      <th>Grp01</th>\n      <td>-0.13</td>\n      <td>0.37</td>\n      <td>NaN</td>\n      <td>NaN</td>\n    </tr>\n    <tr>\n      <th>Grp02</th>\n      <td>NaN</td>\n      <td>NaN</td>\n      <td>0.33</td>\n      <td>1.13</td>\n    </tr>\n    <tr>\n      <th rowspan=\"6\" valign=\"top\">F</th>\n      <th rowspan=\"2\" valign=\"top\">id_3</th>\n      <th>Grp01</th>\n      <td>1.00</td>\n      <td>1.09</td>\n      <td>NaN</td>\n      <td>NaN</td>\n    </tr>\n    <tr>\n      <th>Grp02</th>\n      <td>NaN</td>\n      <td>NaN</td>\n      <td>-1.02</td>\n      <td>0.03</td>\n    </tr>\n    <tr>\n      <th rowspan=\"2\" valign=\"top\">id_4</th>\n      <th>Grp01</th>\n      <td>-0.01</td>\n      <td>-1.20</td>\n      <td>NaN</td>\n      <td>NaN</td>\n    </tr>\n    <tr>\n      <th>Grp02</th>\n      <td>NaN</td>\n      <td>NaN</td>\n      <td>-0.74</td>\n      <td>-0.72</td>\n    </tr>\n    <tr>\n      <th rowspan=\"2\" valign=\"top\">id_5</th>\n      <th>Grp01</th>\n      <td>-1.28</td>\n      <td>0.70</td>\n      <td>NaN</td>\n      <td>NaN</td>\n    </tr>\n    <tr>\n      <th>Grp02</th>\n      <td>NaN</td>\n      <td>NaN</td>\n      <td>1.40</td>\n      <td>0.24</td>\n    </tr>\n  </tbody>\n</table>\n</div>"
     },
     "execution_count": 9,
     "metadata": {},
     "output_type": "execute_result"
    }
   ],
   "source": [
    "multi_idx_frm.stack('GrpIdx')"
   ],
   "metadata": {
    "collapsed": false,
    "pycharm": {
     "name": "#%%\n"
    }
   }
  },
  {
   "cell_type": "code",
   "execution_count": 10,
   "outputs": [
    {
     "data": {
      "text/plain": "GrpIdx    Grp01                                                       ...  \\\nColIdx    col01                              col02                    ...   \nRowIdx     id_0  id_1  id_2 id_3  id_4  id_5  id_0  id_1  id_2  id_3  ...   \nGenderIdx                                                             ...   \nF           NaN   NaN   NaN  1.0 -0.01 -1.28   NaN   NaN   NaN  1.09  ...   \nM          0.14 -0.77 -0.13  NaN   NaN   NaN -0.73  0.18  0.37   NaN  ...   \n\nGrpIdx    Grp02                                                       \nColIdx    col03                  col04                                \nRowIdx     id_2  id_3  id_4 id_5  id_0  id_1  id_2  id_3  id_4  id_5  \nGenderIdx                                                             \nF           NaN -1.02 -0.74  1.4   NaN   NaN   NaN  0.03 -0.72  0.24  \nM          0.33   NaN   NaN  NaN  1.06 -0.33  1.13   NaN   NaN   NaN  \n\n[2 rows x 24 columns]",
      "text/html": "<div>\n<style scoped>\n    .dataframe tbody tr th:only-of-type {\n        vertical-align: middle;\n    }\n\n    .dataframe tbody tr th {\n        vertical-align: top;\n    }\n\n    .dataframe thead tr th {\n        text-align: left;\n    }\n\n    .dataframe thead tr:last-of-type th {\n        text-align: right;\n    }\n</style>\n<table border=\"1\" class=\"dataframe\">\n  <thead>\n    <tr>\n      <th>GrpIdx</th>\n      <th colspan=\"10\" halign=\"left\">Grp01</th>\n      <th>...</th>\n      <th colspan=\"10\" halign=\"left\">Grp02</th>\n    </tr>\n    <tr>\n      <th>ColIdx</th>\n      <th colspan=\"6\" halign=\"left\">col01</th>\n      <th colspan=\"4\" halign=\"left\">col02</th>\n      <th>...</th>\n      <th colspan=\"4\" halign=\"left\">col03</th>\n      <th colspan=\"6\" halign=\"left\">col04</th>\n    </tr>\n    <tr>\n      <th>RowIdx</th>\n      <th>id_0</th>\n      <th>id_1</th>\n      <th>id_2</th>\n      <th>id_3</th>\n      <th>id_4</th>\n      <th>id_5</th>\n      <th>id_0</th>\n      <th>id_1</th>\n      <th>id_2</th>\n      <th>id_3</th>\n      <th>...</th>\n      <th>id_2</th>\n      <th>id_3</th>\n      <th>id_4</th>\n      <th>id_5</th>\n      <th>id_0</th>\n      <th>id_1</th>\n      <th>id_2</th>\n      <th>id_3</th>\n      <th>id_4</th>\n      <th>id_5</th>\n    </tr>\n    <tr>\n      <th>GenderIdx</th>\n      <th></th>\n      <th></th>\n      <th></th>\n      <th></th>\n      <th></th>\n      <th></th>\n      <th></th>\n      <th></th>\n      <th></th>\n      <th></th>\n      <th></th>\n      <th></th>\n      <th></th>\n      <th></th>\n      <th></th>\n      <th></th>\n      <th></th>\n      <th></th>\n      <th></th>\n      <th></th>\n      <th></th>\n    </tr>\n  </thead>\n  <tbody>\n    <tr>\n      <th>F</th>\n      <td>NaN</td>\n      <td>NaN</td>\n      <td>NaN</td>\n      <td>1.0</td>\n      <td>-0.01</td>\n      <td>-1.28</td>\n      <td>NaN</td>\n      <td>NaN</td>\n      <td>NaN</td>\n      <td>1.09</td>\n      <td>...</td>\n      <td>NaN</td>\n      <td>-1.02</td>\n      <td>-0.74</td>\n      <td>1.4</td>\n      <td>NaN</td>\n      <td>NaN</td>\n      <td>NaN</td>\n      <td>0.03</td>\n      <td>-0.72</td>\n      <td>0.24</td>\n    </tr>\n    <tr>\n      <th>M</th>\n      <td>0.14</td>\n      <td>-0.77</td>\n      <td>-0.13</td>\n      <td>NaN</td>\n      <td>NaN</td>\n      <td>NaN</td>\n      <td>-0.73</td>\n      <td>0.18</td>\n      <td>0.37</td>\n      <td>NaN</td>\n      <td>...</td>\n      <td>0.33</td>\n      <td>NaN</td>\n      <td>NaN</td>\n      <td>NaN</td>\n      <td>1.06</td>\n      <td>-0.33</td>\n      <td>1.13</td>\n      <td>NaN</td>\n      <td>NaN</td>\n      <td>NaN</td>\n    </tr>\n  </tbody>\n</table>\n<p>2 rows × 24 columns</p>\n</div>"
     },
     "execution_count": 10,
     "metadata": {},
     "output_type": "execute_result"
    }
   ],
   "source": [
    "multi_idx_frm.unstack()"
   ],
   "metadata": {
    "collapsed": false,
    "pycharm": {
     "name": "#%%\n"
    }
   }
  },
  {
   "cell_type": "code",
   "execution_count": 10,
   "outputs": [],
   "source": [],
   "metadata": {
    "collapsed": false,
    "pycharm": {
     "name": "#%%\n"
    }
   }
  },
  {
   "cell_type": "code",
   "execution_count": 11,
   "outputs": [
    {
     "data": {
      "text/plain": "GrpIdx    Grp01                   Grp02                  \nColIdx    col01       col02       col03       col04      \nGenderIdx     F     M     F     M     F     M     F     M\nRowIdx                                                   \nid_0        NaN  0.14   NaN -0.73   NaN -0.16   NaN  1.06\nid_1        NaN -0.77   NaN  0.18   NaN  0.59   NaN -0.33\nid_2        NaN -0.13   NaN  0.37   NaN  0.33   NaN  1.13\nid_3       1.00   NaN  1.09   NaN -1.02   NaN  0.03   NaN\nid_4      -0.01   NaN -1.20   NaN -0.74   NaN -0.72   NaN\nid_5      -1.28   NaN  0.70   NaN  1.40   NaN  0.24   NaN",
      "text/html": "<div>\n<style scoped>\n    .dataframe tbody tr th:only-of-type {\n        vertical-align: middle;\n    }\n\n    .dataframe tbody tr th {\n        vertical-align: top;\n    }\n\n    .dataframe thead tr th {\n        text-align: left;\n    }\n\n    .dataframe thead tr:last-of-type th {\n        text-align: right;\n    }\n</style>\n<table border=\"1\" class=\"dataframe\">\n  <thead>\n    <tr>\n      <th>GrpIdx</th>\n      <th colspan=\"4\" halign=\"left\">Grp01</th>\n      <th colspan=\"4\" halign=\"left\">Grp02</th>\n    </tr>\n    <tr>\n      <th>ColIdx</th>\n      <th colspan=\"2\" halign=\"left\">col01</th>\n      <th colspan=\"2\" halign=\"left\">col02</th>\n      <th colspan=\"2\" halign=\"left\">col03</th>\n      <th colspan=\"2\" halign=\"left\">col04</th>\n    </tr>\n    <tr>\n      <th>GenderIdx</th>\n      <th>F</th>\n      <th>M</th>\n      <th>F</th>\n      <th>M</th>\n      <th>F</th>\n      <th>M</th>\n      <th>F</th>\n      <th>M</th>\n    </tr>\n    <tr>\n      <th>RowIdx</th>\n      <th></th>\n      <th></th>\n      <th></th>\n      <th></th>\n      <th></th>\n      <th></th>\n      <th></th>\n      <th></th>\n    </tr>\n  </thead>\n  <tbody>\n    <tr>\n      <th>id_0</th>\n      <td>NaN</td>\n      <td>0.14</td>\n      <td>NaN</td>\n      <td>-0.73</td>\n      <td>NaN</td>\n      <td>-0.16</td>\n      <td>NaN</td>\n      <td>1.06</td>\n    </tr>\n    <tr>\n      <th>id_1</th>\n      <td>NaN</td>\n      <td>-0.77</td>\n      <td>NaN</td>\n      <td>0.18</td>\n      <td>NaN</td>\n      <td>0.59</td>\n      <td>NaN</td>\n      <td>-0.33</td>\n    </tr>\n    <tr>\n      <th>id_2</th>\n      <td>NaN</td>\n      <td>-0.13</td>\n      <td>NaN</td>\n      <td>0.37</td>\n      <td>NaN</td>\n      <td>0.33</td>\n      <td>NaN</td>\n      <td>1.13</td>\n    </tr>\n    <tr>\n      <th>id_3</th>\n      <td>1.00</td>\n      <td>NaN</td>\n      <td>1.09</td>\n      <td>NaN</td>\n      <td>-1.02</td>\n      <td>NaN</td>\n      <td>0.03</td>\n      <td>NaN</td>\n    </tr>\n    <tr>\n      <th>id_4</th>\n      <td>-0.01</td>\n      <td>NaN</td>\n      <td>-1.20</td>\n      <td>NaN</td>\n      <td>-0.74</td>\n      <td>NaN</td>\n      <td>-0.72</td>\n      <td>NaN</td>\n    </tr>\n    <tr>\n      <th>id_5</th>\n      <td>-1.28</td>\n      <td>NaN</td>\n      <td>0.70</td>\n      <td>NaN</td>\n      <td>1.40</td>\n      <td>NaN</td>\n      <td>0.24</td>\n      <td>NaN</td>\n    </tr>\n  </tbody>\n</table>\n</div>"
     },
     "execution_count": 11,
     "metadata": {},
     "output_type": "execute_result"
    }
   ],
   "source": [
    "multi_idx_frm.unstack('GenderIdx')"
   ],
   "metadata": {
    "collapsed": false,
    "pycharm": {
     "name": "#%%\n"
    }
   }
  },
  {
   "cell_type": "code",
   "execution_count": 12,
   "outputs": [
    {
     "data": {
      "text/plain": "GrpIdx           Grp01      \nColIdx           col01 col02\nGenderIdx RowIdx            \nM         id_0    0.14 -0.73\n          id_1   -0.77  0.18\n          id_2   -0.13  0.37\nF         id_3    1.00  1.09\n          id_4   -0.01 -1.20\n          id_5   -1.28  0.70",
      "text/html": "<div>\n<style scoped>\n    .dataframe tbody tr th:only-of-type {\n        vertical-align: middle;\n    }\n\n    .dataframe tbody tr th {\n        vertical-align: top;\n    }\n\n    .dataframe thead tr th {\n        text-align: left;\n    }\n\n    .dataframe thead tr:last-of-type th {\n        text-align: right;\n    }\n</style>\n<table border=\"1\" class=\"dataframe\">\n  <thead>\n    <tr>\n      <th></th>\n      <th>GrpIdx</th>\n      <th colspan=\"2\" halign=\"left\">Grp01</th>\n    </tr>\n    <tr>\n      <th></th>\n      <th>ColIdx</th>\n      <th>col01</th>\n      <th>col02</th>\n    </tr>\n    <tr>\n      <th>GenderIdx</th>\n      <th>RowIdx</th>\n      <th></th>\n      <th></th>\n    </tr>\n  </thead>\n  <tbody>\n    <tr>\n      <th rowspan=\"3\" valign=\"top\">M</th>\n      <th>id_0</th>\n      <td>0.14</td>\n      <td>-0.73</td>\n    </tr>\n    <tr>\n      <th>id_1</th>\n      <td>-0.77</td>\n      <td>0.18</td>\n    </tr>\n    <tr>\n      <th>id_2</th>\n      <td>-0.13</td>\n      <td>0.37</td>\n    </tr>\n    <tr>\n      <th rowspan=\"3\" valign=\"top\">F</th>\n      <th>id_3</th>\n      <td>1.00</td>\n      <td>1.09</td>\n    </tr>\n    <tr>\n      <th>id_4</th>\n      <td>-0.01</td>\n      <td>-1.20</td>\n    </tr>\n    <tr>\n      <th>id_5</th>\n      <td>-1.28</td>\n      <td>0.70</td>\n    </tr>\n  </tbody>\n</table>\n</div>"
     },
     "execution_count": 12,
     "metadata": {},
     "output_type": "execute_result"
    }
   ],
   "source": [
    "\n",
    "multi_idx_frm[ [ ('Grp01', 'col01') , ('Grp01', 'col02') ] ]"
   ],
   "metadata": {
    "collapsed": false,
    "pycharm": {
     "name": "#%%\n"
    }
   }
  },
  {
   "cell_type": "code",
   "execution_count": 13,
   "outputs": [
    {
     "data": {
      "text/plain": "GrpIdx           Grp01       Grp02      \nColIdx           col01 col02 col03 col04\nGenderIdx RowIdx                        \nM         id_0    0.14 -0.73 -0.16  1.06\n          id_1   -0.77  0.18  0.59 -0.33\n          id_2   -0.13  0.37  0.33  1.13\nF         id_3    1.00  1.09 -1.02  0.03\n          id_4   -0.01 -1.20 -0.74 -0.72\n          id_5   -1.28  0.70  1.40  0.24",
      "text/html": "<div>\n<style scoped>\n    .dataframe tbody tr th:only-of-type {\n        vertical-align: middle;\n    }\n\n    .dataframe tbody tr th {\n        vertical-align: top;\n    }\n\n    .dataframe thead tr th {\n        text-align: left;\n    }\n\n    .dataframe thead tr:last-of-type th {\n        text-align: right;\n    }\n</style>\n<table border=\"1\" class=\"dataframe\">\n  <thead>\n    <tr>\n      <th></th>\n      <th>GrpIdx</th>\n      <th colspan=\"2\" halign=\"left\">Grp01</th>\n      <th colspan=\"2\" halign=\"left\">Grp02</th>\n    </tr>\n    <tr>\n      <th></th>\n      <th>ColIdx</th>\n      <th>col01</th>\n      <th>col02</th>\n      <th>col03</th>\n      <th>col04</th>\n    </tr>\n    <tr>\n      <th>GenderIdx</th>\n      <th>RowIdx</th>\n      <th></th>\n      <th></th>\n      <th></th>\n      <th></th>\n    </tr>\n  </thead>\n  <tbody>\n    <tr>\n      <th rowspan=\"3\" valign=\"top\">M</th>\n      <th>id_0</th>\n      <td>0.14</td>\n      <td>-0.73</td>\n      <td>-0.16</td>\n      <td>1.06</td>\n    </tr>\n    <tr>\n      <th>id_1</th>\n      <td>-0.77</td>\n      <td>0.18</td>\n      <td>0.59</td>\n      <td>-0.33</td>\n    </tr>\n    <tr>\n      <th>id_2</th>\n      <td>-0.13</td>\n      <td>0.37</td>\n      <td>0.33</td>\n      <td>1.13</td>\n    </tr>\n    <tr>\n      <th rowspan=\"3\" valign=\"top\">F</th>\n      <th>id_3</th>\n      <td>1.00</td>\n      <td>1.09</td>\n      <td>-1.02</td>\n      <td>0.03</td>\n    </tr>\n    <tr>\n      <th>id_4</th>\n      <td>-0.01</td>\n      <td>-1.20</td>\n      <td>-0.74</td>\n      <td>-0.72</td>\n    </tr>\n    <tr>\n      <th>id_5</th>\n      <td>-1.28</td>\n      <td>0.70</td>\n      <td>1.40</td>\n      <td>0.24</td>\n    </tr>\n  </tbody>\n</table>\n</div>"
     },
     "execution_count": 13,
     "metadata": {},
     "output_type": "execute_result"
    }
   ],
   "source": [
    "multi_idx_frm"
   ],
   "metadata": {
    "collapsed": false,
    "pycharm": {
     "name": "#%%\n"
    }
   }
  },
  {
   "cell_type": "code",
   "execution_count": 14,
   "outputs": [
    {
     "data": {
      "text/plain": "-0.16"
     },
     "execution_count": 14,
     "metadata": {},
     "output_type": "execute_result"
    }
   ],
   "source": [
    "multi_idx_frm[('Grp02','col03')].values[0]"
   ],
   "metadata": {
    "collapsed": false,
    "pycharm": {
     "name": "#%%\n"
    }
   }
  },
  {
   "cell_type": "code",
   "execution_count": 15,
   "outputs": [
    {
     "data": {
      "text/plain": "0.33"
     },
     "execution_count": 15,
     "metadata": {},
     "output_type": "execute_result"
    }
   ],
   "source": [
    "multi_idx_frm.loc[('M', 'id_1'), 'Grp02']\n",
    "multi_idx_frm['Grp02'].values[1]\n",
    "multi_idx_frm[ ('Grp02','col03') ]  [('M','id_2')]\n"
   ],
   "metadata": {
    "collapsed": false,
    "pycharm": {
     "name": "#%%\n"
    }
   }
  },
  {
   "cell_type": "code",
   "execution_count": null,
   "outputs": [],
   "source": [],
   "metadata": {
    "collapsed": false,
    "pycharm": {
     "name": "#%%\n"
    }
   }
  },
  {
   "cell_type": "code",
   "execution_count": 16,
   "outputs": [
    {
     "data": {
      "text/plain": "array([ 0.59, -0.33])"
     },
     "execution_count": 16,
     "metadata": {},
     "output_type": "execute_result"
    }
   ],
   "source": [
    "multi_idx_frm[[('Grp02','col03'),('Grp02','col04')]].iloc[1].values\n"
   ],
   "metadata": {
    "collapsed": false,
    "pycharm": {
     "name": "#%%\n"
    }
   }
  },
  {
   "cell_type": "code",
   "execution_count": 17,
   "outputs": [
    {
     "name": "stdout",
     "output_type": "stream",
     "text": [
      "M 정보만 출력 - \n"
     ]
    },
    {
     "data": {
      "text/plain": "GrpIdx           Grp02      \nColIdx           col03 col04\nGenderIdx RowIdx            \nM         id_0   -0.16  1.06\n          id_1    0.59 -0.33\n          id_2    0.33  1.13",
      "text/html": "<div>\n<style scoped>\n    .dataframe tbody tr th:only-of-type {\n        vertical-align: middle;\n    }\n\n    .dataframe tbody tr th {\n        vertical-align: top;\n    }\n\n    .dataframe thead tr th {\n        text-align: left;\n    }\n\n    .dataframe thead tr:last-of-type th {\n        text-align: right;\n    }\n</style>\n<table border=\"1\" class=\"dataframe\">\n  <thead>\n    <tr>\n      <th></th>\n      <th>GrpIdx</th>\n      <th colspan=\"2\" halign=\"left\">Grp02</th>\n    </tr>\n    <tr>\n      <th></th>\n      <th>ColIdx</th>\n      <th>col03</th>\n      <th>col04</th>\n    </tr>\n    <tr>\n      <th>GenderIdx</th>\n      <th>RowIdx</th>\n      <th></th>\n      <th></th>\n    </tr>\n  </thead>\n  <tbody>\n    <tr>\n      <th rowspan=\"3\" valign=\"top\">M</th>\n      <th>id_0</th>\n      <td>-0.16</td>\n      <td>1.06</td>\n    </tr>\n    <tr>\n      <th>id_1</th>\n      <td>0.59</td>\n      <td>-0.33</td>\n    </tr>\n    <tr>\n      <th>id_2</th>\n      <td>0.33</td>\n      <td>1.13</td>\n    </tr>\n  </tbody>\n</table>\n</div>"
     },
     "execution_count": 17,
     "metadata": {},
     "output_type": "execute_result"
    }
   ],
   "source": [
    "print('M 정보만 출력 - ')\n",
    "\n",
    "multi_idx_frm.loc['M']\n",
    "multi_idx_frm.iloc[ : 3 , 2 : 4  ]"
   ],
   "metadata": {
    "collapsed": false,
    "pycharm": {
     "name": "#%%\n"
    }
   }
  },
  {
   "cell_type": "code",
   "execution_count": 18,
   "outputs": [
    {
     "data": {
      "text/plain": "GrpIdx           Grp01       Grp02      \nColIdx           col01 col02 col03 col04\nGenderIdx RowIdx                        \nM         id_0    0.14 -0.73 -0.16  1.06\n          id_1   -0.77  0.18  0.59 -0.33\n          id_2   -0.13  0.37  0.33  1.13\nF         id_3    1.00  1.09 -1.02  0.03\n          id_4   -0.01 -1.20 -0.74 -0.72\n          id_5   -1.28  0.70  1.40  0.24",
      "text/html": "<div>\n<style scoped>\n    .dataframe tbody tr th:only-of-type {\n        vertical-align: middle;\n    }\n\n    .dataframe tbody tr th {\n        vertical-align: top;\n    }\n\n    .dataframe thead tr th {\n        text-align: left;\n    }\n\n    .dataframe thead tr:last-of-type th {\n        text-align: right;\n    }\n</style>\n<table border=\"1\" class=\"dataframe\">\n  <thead>\n    <tr>\n      <th></th>\n      <th>GrpIdx</th>\n      <th colspan=\"2\" halign=\"left\">Grp01</th>\n      <th colspan=\"2\" halign=\"left\">Grp02</th>\n    </tr>\n    <tr>\n      <th></th>\n      <th>ColIdx</th>\n      <th>col01</th>\n      <th>col02</th>\n      <th>col03</th>\n      <th>col04</th>\n    </tr>\n    <tr>\n      <th>GenderIdx</th>\n      <th>RowIdx</th>\n      <th></th>\n      <th></th>\n      <th></th>\n      <th></th>\n    </tr>\n  </thead>\n  <tbody>\n    <tr>\n      <th rowspan=\"3\" valign=\"top\">M</th>\n      <th>id_0</th>\n      <td>0.14</td>\n      <td>-0.73</td>\n      <td>-0.16</td>\n      <td>1.06</td>\n    </tr>\n    <tr>\n      <th>id_1</th>\n      <td>-0.77</td>\n      <td>0.18</td>\n      <td>0.59</td>\n      <td>-0.33</td>\n    </tr>\n    <tr>\n      <th>id_2</th>\n      <td>-0.13</td>\n      <td>0.37</td>\n      <td>0.33</td>\n      <td>1.13</td>\n    </tr>\n    <tr>\n      <th rowspan=\"3\" valign=\"top\">F</th>\n      <th>id_3</th>\n      <td>1.00</td>\n      <td>1.09</td>\n      <td>-1.02</td>\n      <td>0.03</td>\n    </tr>\n    <tr>\n      <th>id_4</th>\n      <td>-0.01</td>\n      <td>-1.20</td>\n      <td>-0.74</td>\n      <td>-0.72</td>\n    </tr>\n    <tr>\n      <th>id_5</th>\n      <td>-1.28</td>\n      <td>0.70</td>\n      <td>1.40</td>\n      <td>0.24</td>\n    </tr>\n  </tbody>\n</table>\n</div>"
     },
     "execution_count": 18,
     "metadata": {},
     "output_type": "execute_result"
    }
   ],
   "source": [
    "multi_idx_frm"
   ],
   "metadata": {
    "collapsed": false,
    "pycharm": {
     "name": "#%%\n"
    }
   }
  },
  {
   "cell_type": "code",
   "execution_count": 19,
   "outputs": [
    {
     "data": {
      "text/plain": "GrpIdx           Grp01       Grp02      \nColIdx           col01 col02 col03 col04\nGenderIdx RowIdx                        \nM         id_0    0.14 -0.73 -0.16  1.06\n          id_1   -0.77  0.18  0.59 -0.33\n          id_2   -0.13  0.37  0.33  1.13\nF         id_3    1.00  1.09 -1.02  0.03\n          id_4   -0.01 -1.20 -0.74 -0.72\n          id_5   -1.28  0.70  1.40  0.24",
      "text/html": "<div>\n<style scoped>\n    .dataframe tbody tr th:only-of-type {\n        vertical-align: middle;\n    }\n\n    .dataframe tbody tr th {\n        vertical-align: top;\n    }\n\n    .dataframe thead tr th {\n        text-align: left;\n    }\n\n    .dataframe thead tr:last-of-type th {\n        text-align: right;\n    }\n</style>\n<table border=\"1\" class=\"dataframe\">\n  <thead>\n    <tr>\n      <th></th>\n      <th>GrpIdx</th>\n      <th colspan=\"2\" halign=\"left\">Grp01</th>\n      <th colspan=\"2\" halign=\"left\">Grp02</th>\n    </tr>\n    <tr>\n      <th></th>\n      <th>ColIdx</th>\n      <th>col01</th>\n      <th>col02</th>\n      <th>col03</th>\n      <th>col04</th>\n    </tr>\n    <tr>\n      <th>GenderIdx</th>\n      <th>RowIdx</th>\n      <th></th>\n      <th></th>\n      <th></th>\n      <th></th>\n    </tr>\n  </thead>\n  <tbody>\n    <tr>\n      <th rowspan=\"3\" valign=\"top\">M</th>\n      <th>id_0</th>\n      <td>0.14</td>\n      <td>-0.73</td>\n      <td>-0.16</td>\n      <td>1.06</td>\n    </tr>\n    <tr>\n      <th>id_1</th>\n      <td>-0.77</td>\n      <td>0.18</td>\n      <td>0.59</td>\n      <td>-0.33</td>\n    </tr>\n    <tr>\n      <th>id_2</th>\n      <td>-0.13</td>\n      <td>0.37</td>\n      <td>0.33</td>\n      <td>1.13</td>\n    </tr>\n    <tr>\n      <th rowspan=\"3\" valign=\"top\">F</th>\n      <th>id_3</th>\n      <td>1.00</td>\n      <td>1.09</td>\n      <td>-1.02</td>\n      <td>0.03</td>\n    </tr>\n    <tr>\n      <th>id_4</th>\n      <td>-0.01</td>\n      <td>-1.20</td>\n      <td>-0.74</td>\n      <td>-0.72</td>\n    </tr>\n    <tr>\n      <th>id_5</th>\n      <td>-1.28</td>\n      <td>0.70</td>\n      <td>1.40</td>\n      <td>0.24</td>\n    </tr>\n  </tbody>\n</table>\n</div>"
     },
     "execution_count": 19,
     "metadata": {},
     "output_type": "execute_result"
    }
   ],
   "source": [
    "multi_idx_frm.sort_index(level = 1 , axis = 1)"
   ],
   "metadata": {
    "collapsed": false,
    "pycharm": {
     "name": "#%%\n"
    }
   }
  },
  {
   "cell_type": "code",
   "execution_count": null,
   "outputs": [],
   "source": [],
   "metadata": {
    "collapsed": false,
    "pycharm": {
     "name": "#%%\n"
    }
   }
  },
  {
   "cell_type": "code",
   "execution_count": null,
   "outputs": [],
   "source": [],
   "metadata": {
    "collapsed": false,
    "pycharm": {
     "name": "#%%\n"
    }
   }
  }
 ],
 "metadata": {
  "kernelspec": {
   "display_name": "Python 3",
   "language": "python",
   "name": "python3"
  },
  "language_info": {
   "codemirror_mode": {
    "name": "ipython",
    "version": 2
   },
   "file_extension": ".py",
   "mimetype": "text/x-python",
   "name": "python",
   "nbconvert_exporter": "python",
   "pygments_lexer": "ipython2",
   "version": "2.7.6"
  }
 },
 "nbformat": 4,
 "nbformat_minor": 0
}