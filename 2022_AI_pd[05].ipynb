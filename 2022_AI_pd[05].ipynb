{
 "cells": [
  {
   "cell_type": "code",
   "execution_count": 1,
   "metadata": {
    "collapsed": true
   },
   "outputs": [
    {
     "name": "stdout",
     "output_type": "stream",
     "text": [
      "numpy  version -  1.20.3\n",
      "pandas version -  1.3.4\n"
     ]
    }
   ],
   "source": [
    "import numpy  as np\n",
    "import pandas as pd\n",
    "\n",
    "import warnings\n",
    "warnings.filterwarnings(action='ignore')\n",
    "\n",
    "from datetime import date, datetime, timedelta\n",
    "from dateutil.parser import parse\n",
    "\n",
    "import json\n",
    "import urllib\n",
    "\n",
    "# titanic dataset\n",
    "import seaborn as sns\n",
    "\n",
    "# 비정형 데이터 처리를 위한 라이브러리\n",
    "from bs4 import BeautifulSoup\n",
    "import requests\n",
    "import re\n",
    "\n",
    "\n",
    "\n",
    "print('numpy  version - ' , np.__version__)\n",
    "print('pandas version - ' , pd.__version__)"
   ]
  },
  {
   "cell_type": "code",
   "execution_count": 2,
   "outputs": [],
   "source": [
    "def seriesInfo(s) :\n",
    "    print('series : index + values \\n' , s)\n",
    "    print('index  - ' , s.index  , type(s.index))\n",
    "    print('values - ' , s.values , type(s.values))\n",
    "\n",
    "def frmInfo(df) :\n",
    "    display('data - ' , df )\n",
    "    print()\n",
    "    print('shape   - ' , df.shape , df.shape[0] , df.shape[1])\n",
    "    print('size    - ' , df.size )\n",
    "    print('ndim    - ' , df.ndim)\n",
    "    print('index   - ' , df.index    , type(df.index))\n",
    "    print('columns - ' , df.columns  , type( df.columns ))\n",
    "    print('values  - \\n' , df.values , type(df.values) )"
   ],
   "metadata": {
    "collapsed": false,
    "pycharm": {
     "name": "#%%\n"
    }
   }
  },
  {
   "cell_type": "code",
   "execution_count": null,
   "outputs": [],
   "source": [],
   "metadata": {
    "collapsed": false,
    "pycharm": {
     "name": "#%%\n"
    }
   }
  },
  {
   "cell_type": "code",
   "execution_count": null,
   "outputs": [],
   "source": [],
   "metadata": {
    "collapsed": false,
    "pycharm": {
     "name": "#%%\n"
    }
   }
  },
  {
   "cell_type": "code",
   "execution_count": null,
   "outputs": [],
   "source": [],
   "metadata": {
    "collapsed": false,
    "pycharm": {
     "name": "#%%\n"
    }
   }
  }
 ],
 "metadata": {
  "kernelspec": {
   "display_name": "Python 3",
   "language": "python",
   "name": "python3"
  },
  "language_info": {
   "codemirror_mode": {
    "name": "ipython",
    "version": 2
   },
   "file_extension": ".py",
   "mimetype": "text/x-python",
   "name": "python",
   "nbconvert_exporter": "python",
   "pygments_lexer": "ipython2",
   "version": "2.7.6"
  }
 },
 "nbformat": 4,
 "nbformat_minor": 0
}