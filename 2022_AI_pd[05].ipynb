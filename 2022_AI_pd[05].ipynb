{
 "cells": [
  {
   "cell_type": "code",
   "execution_count": 1,
   "metadata": {
    "collapsed": true
   },
   "outputs": [
    {
     "name": "stdout",
     "output_type": "stream",
     "text": [
      "numpy  version -  1.20.3\n",
      "pandas version -  1.3.4\n"
     ]
    }
   ],
   "source": [
    "import numpy  as np\n",
    "import pandas as pd\n",
    "\n",
    "import warnings\n",
    "warnings.filterwarnings(action='ignore')\n",
    "\n",
    "from datetime import date, datetime, timedelta\n",
    "from dateutil.parser import parse\n",
    "\n",
    "import json\n",
    "import urllib\n",
    "\n",
    "# titanic dataset\n",
    "import seaborn as sns\n",
    "\n",
    "# 비정형 데이터 처리를 위한 라이브러리\n",
    "from bs4 import BeautifulSoup\n",
    "import requests\n",
    "import re\n",
    "\n",
    "\n",
    "\n",
    "print('numpy  version - ' , np.__version__)\n",
    "print('pandas version - ' , pd.__version__)"
   ]
  },
  {
   "cell_type": "code",
   "execution_count": 2,
   "outputs": [],
   "source": [
    "def seriesInfo(s) :\n",
    "    print('series : index + values \\n' , s)\n",
    "    print('index  - ' , s.index  , type(s.index))\n",
    "    print('values - ' , s.values , type(s.values))\n",
    "\n",
    "def frmInfo(df) :\n",
    "    display('data - ' , df )\n",
    "    print()\n",
    "    print('shape   - ' , df.shape , df.shape[0] , df.shape[1])\n",
    "    print('size    - ' , df.size )\n",
    "    print('ndim    - ' , df.ndim)\n",
    "    print('index   - ' , df.index    , type(df.index))\n",
    "    print('columns - ' , df.columns  , type( df.columns ))\n",
    "    print('values  - \\n' , df.values , type(df.values) )"
   ],
   "metadata": {
    "collapsed": false,
    "pycharm": {
     "name": "#%%\n"
    }
   }
  },
  {
   "cell_type": "code",
   "execution_count": 3,
   "outputs": [
    {
     "data": {
      "text/plain": "  Grp01       Grp02      \n  col01 col02 col03 col04\n0 -1.21  0.00 -0.40  0.04\n1 -0.50  0.34  1.14 -0.19\n2 -1.07 -0.33  0.73 -1.01\n3  0.44 -0.53 -0.59  0.24\n4 -0.05  1.66 -0.93  0.95",
      "text/html": "<div>\n<style scoped>\n    .dataframe tbody tr th:only-of-type {\n        vertical-align: middle;\n    }\n\n    .dataframe tbody tr th {\n        vertical-align: top;\n    }\n\n    .dataframe thead tr th {\n        text-align: left;\n    }\n</style>\n<table border=\"1\" class=\"dataframe\">\n  <thead>\n    <tr>\n      <th></th>\n      <th colspan=\"2\" halign=\"left\">Grp01</th>\n      <th colspan=\"2\" halign=\"left\">Grp02</th>\n    </tr>\n    <tr>\n      <th></th>\n      <th>col01</th>\n      <th>col02</th>\n      <th>col03</th>\n      <th>col04</th>\n    </tr>\n  </thead>\n  <tbody>\n    <tr>\n      <th>0</th>\n      <td>-1.21</td>\n      <td>0.00</td>\n      <td>-0.40</td>\n      <td>0.04</td>\n    </tr>\n    <tr>\n      <th>1</th>\n      <td>-0.50</td>\n      <td>0.34</td>\n      <td>1.14</td>\n      <td>-0.19</td>\n    </tr>\n    <tr>\n      <th>2</th>\n      <td>-1.07</td>\n      <td>-0.33</td>\n      <td>0.73</td>\n      <td>-1.01</td>\n    </tr>\n    <tr>\n      <th>3</th>\n      <td>0.44</td>\n      <td>-0.53</td>\n      <td>-0.59</td>\n      <td>0.24</td>\n    </tr>\n    <tr>\n      <th>4</th>\n      <td>-0.05</td>\n      <td>1.66</td>\n      <td>-0.93</td>\n      <td>0.95</td>\n    </tr>\n  </tbody>\n</table>\n</div>"
     },
     "execution_count": 3,
     "metadata": {},
     "output_type": "execute_result"
    }
   ],
   "source": [
    "multi_col_idx_frm = pd.DataFrame( np.round( np.random.randn(5, 4) , 2 )    ,\n",
    "                                  columns = [\n",
    "                                      ['Grp01' , 'Grp01' , 'Grp02' , 'Grp02'] ,\n",
    "                                      ['col01' , 'col02' , 'col03' , 'col04']\n",
    "                                  ])\n",
    "\n",
    "multi_col_idx_frm"
   ],
   "metadata": {
    "collapsed": false,
    "pycharm": {
     "name": "#%%\n"
    }
   }
  },
  {
   "cell_type": "code",
   "execution_count": 4,
   "outputs": [
    {
     "data": {
      "text/plain": "MultiIndex([('Grp01', 'col01'),\n            ('Grp01', 'col02'),\n            ('Grp02', 'col03'),\n            ('Grp02', 'col04')],\n           )"
     },
     "execution_count": 4,
     "metadata": {},
     "output_type": "execute_result"
    }
   ],
   "source": [
    "multi_col_idx_frm.columns"
   ],
   "metadata": {
    "collapsed": false,
    "pycharm": {
     "name": "#%%\n"
    }
   }
  },
  {
   "cell_type": "code",
   "execution_count": 5,
   "outputs": [
    {
     "data": {
      "text/plain": "GrpIdx Grp01       Grp02      \nColIdx col01 col02 col03 col04\n0      -1.21  0.00 -0.40  0.04\n1      -0.50  0.34  1.14 -0.19\n2      -1.07 -0.33  0.73 -1.01\n3       0.44 -0.53 -0.59  0.24\n4      -0.05  1.66 -0.93  0.95",
      "text/html": "<div>\n<style scoped>\n    .dataframe tbody tr th:only-of-type {\n        vertical-align: middle;\n    }\n\n    .dataframe tbody tr th {\n        vertical-align: top;\n    }\n\n    .dataframe thead tr th {\n        text-align: left;\n    }\n</style>\n<table border=\"1\" class=\"dataframe\">\n  <thead>\n    <tr>\n      <th>GrpIdx</th>\n      <th colspan=\"2\" halign=\"left\">Grp01</th>\n      <th colspan=\"2\" halign=\"left\">Grp02</th>\n    </tr>\n    <tr>\n      <th>ColIdx</th>\n      <th>col01</th>\n      <th>col02</th>\n      <th>col03</th>\n      <th>col04</th>\n    </tr>\n  </thead>\n  <tbody>\n    <tr>\n      <th>0</th>\n      <td>-1.21</td>\n      <td>0.00</td>\n      <td>-0.40</td>\n      <td>0.04</td>\n    </tr>\n    <tr>\n      <th>1</th>\n      <td>-0.50</td>\n      <td>0.34</td>\n      <td>1.14</td>\n      <td>-0.19</td>\n    </tr>\n    <tr>\n      <th>2</th>\n      <td>-1.07</td>\n      <td>-0.33</td>\n      <td>0.73</td>\n      <td>-1.01</td>\n    </tr>\n    <tr>\n      <th>3</th>\n      <td>0.44</td>\n      <td>-0.53</td>\n      <td>-0.59</td>\n      <td>0.24</td>\n    </tr>\n    <tr>\n      <th>4</th>\n      <td>-0.05</td>\n      <td>1.66</td>\n      <td>-0.93</td>\n      <td>0.95</td>\n    </tr>\n  </tbody>\n</table>\n</div>"
     },
     "execution_count": 5,
     "metadata": {},
     "output_type": "execute_result"
    }
   ],
   "source": [
    "multi_col_idx_frm.columns.names = ['GrpIdx' , 'ColIdx' ]\n",
    "multi_col_idx_frm"
   ],
   "metadata": {
    "collapsed": false,
    "pycharm": {
     "name": "#%%\n"
    }
   }
  },
  {
   "cell_type": "code",
   "execution_count": 6,
   "outputs": [
    {
     "data": {
      "text/plain": "FrozenList(['GrpIdx', 'ColIdx'])"
     },
     "execution_count": 6,
     "metadata": {},
     "output_type": "execute_result"
    }
   ],
   "source": [
    "multi_col_idx_frm.columns.names"
   ],
   "metadata": {
    "collapsed": false,
    "pycharm": {
     "name": "#%%\n"
    }
   }
  },
  {
   "cell_type": "code",
   "execution_count": 7,
   "outputs": [
    {
     "data": {
      "text/plain": "GrpIdx           Grp01       Grp02      \nColIdx           col01 col02 col03 col04\nGenderIdx RowIdx                        \nM         id_0   -1.64  0.63  0.55  1.05\n          id_1    0.77 -1.65  0.63  0.28\n          id_2   -0.72 -0.86  0.67  1.73\nF         id_3   -1.31  0.62 -0.99  0.16\n          id_4    0.95  1.03  0.17 -0.56\n          id_5   -0.40 -1.70 -0.71 -0.51",
      "text/html": "<div>\n<style scoped>\n    .dataframe tbody tr th:only-of-type {\n        vertical-align: middle;\n    }\n\n    .dataframe tbody tr th {\n        vertical-align: top;\n    }\n\n    .dataframe thead tr th {\n        text-align: left;\n    }\n\n    .dataframe thead tr:last-of-type th {\n        text-align: right;\n    }\n</style>\n<table border=\"1\" class=\"dataframe\">\n  <thead>\n    <tr>\n      <th></th>\n      <th>GrpIdx</th>\n      <th colspan=\"2\" halign=\"left\">Grp01</th>\n      <th colspan=\"2\" halign=\"left\">Grp02</th>\n    </tr>\n    <tr>\n      <th></th>\n      <th>ColIdx</th>\n      <th>col01</th>\n      <th>col02</th>\n      <th>col03</th>\n      <th>col04</th>\n    </tr>\n    <tr>\n      <th>GenderIdx</th>\n      <th>RowIdx</th>\n      <th></th>\n      <th></th>\n      <th></th>\n      <th></th>\n    </tr>\n  </thead>\n  <tbody>\n    <tr>\n      <th rowspan=\"3\" valign=\"top\">M</th>\n      <th>id_0</th>\n      <td>-1.64</td>\n      <td>0.63</td>\n      <td>0.55</td>\n      <td>1.05</td>\n    </tr>\n    <tr>\n      <th>id_1</th>\n      <td>0.77</td>\n      <td>-1.65</td>\n      <td>0.63</td>\n      <td>0.28</td>\n    </tr>\n    <tr>\n      <th>id_2</th>\n      <td>-0.72</td>\n      <td>-0.86</td>\n      <td>0.67</td>\n      <td>1.73</td>\n    </tr>\n    <tr>\n      <th rowspan=\"3\" valign=\"top\">F</th>\n      <th>id_3</th>\n      <td>-1.31</td>\n      <td>0.62</td>\n      <td>-0.99</td>\n      <td>0.16</td>\n    </tr>\n    <tr>\n      <th>id_4</th>\n      <td>0.95</td>\n      <td>1.03</td>\n      <td>0.17</td>\n      <td>-0.56</td>\n    </tr>\n    <tr>\n      <th>id_5</th>\n      <td>-0.40</td>\n      <td>-1.70</td>\n      <td>-0.71</td>\n      <td>-0.51</td>\n    </tr>\n  </tbody>\n</table>\n</div>"
     },
     "execution_count": 7,
     "metadata": {},
     "output_type": "execute_result"
    }
   ],
   "source": [
    "multi_idx_frm = pd.DataFrame( np.round( np.random.randn(6, 4) , 2 )    ,\n",
    "                                  columns = [\n",
    "                                      ['Grp01' , 'Grp01' , 'Grp02' , 'Grp02'] ,\n",
    "                                      ['col01' , 'col02' , 'col03' , 'col04']\n",
    "                                  ] ,\n",
    "                                  index = [\n",
    "                                      ['M' , 'M' , 'M' , 'F' , 'F' , 'F'] ,\n",
    "                                      [ 'id_' + str(idx) for idx in range(6) ]\n",
    "                                  ])\n",
    "\n",
    "multi_idx_frm.columns.names = ['GrpIdx'  , 'ColIdx' ]\n",
    "multi_idx_frm.index.names   = ['GenderIdx' , 'RowIdx' ]\n",
    "multi_idx_frm"
   ],
   "metadata": {
    "collapsed": false,
    "pycharm": {
     "name": "#%%\n"
    }
   }
  },
  {
   "cell_type": "code",
   "execution_count": 8,
   "outputs": [
    {
     "data": {
      "text/plain": "GrpIdx                   Grp01  Grp02\nGenderIdx RowIdx ColIdx              \nM         id_0   col01   -1.64    NaN\n                 col02    0.63    NaN\n                 col03     NaN   0.55\n                 col04     NaN   1.05\n          id_1   col01    0.77    NaN\n                 col02   -1.65    NaN\n                 col03     NaN   0.63\n                 col04     NaN   0.28\n          id_2   col01   -0.72    NaN\n                 col02   -0.86    NaN\n                 col03     NaN   0.67\n                 col04     NaN   1.73\nF         id_3   col01   -1.31    NaN\n                 col02    0.62    NaN\n                 col03     NaN  -0.99\n                 col04     NaN   0.16\n          id_4   col01    0.95    NaN\n                 col02    1.03    NaN\n                 col03     NaN   0.17\n                 col04     NaN  -0.56\n          id_5   col01   -0.40    NaN\n                 col02   -1.70    NaN\n                 col03     NaN  -0.71\n                 col04     NaN  -0.51",
      "text/html": "<div>\n<style scoped>\n    .dataframe tbody tr th:only-of-type {\n        vertical-align: middle;\n    }\n\n    .dataframe tbody tr th {\n        vertical-align: top;\n    }\n\n    .dataframe thead th {\n        text-align: right;\n    }\n</style>\n<table border=\"1\" class=\"dataframe\">\n  <thead>\n    <tr style=\"text-align: right;\">\n      <th></th>\n      <th></th>\n      <th>GrpIdx</th>\n      <th>Grp01</th>\n      <th>Grp02</th>\n    </tr>\n    <tr>\n      <th>GenderIdx</th>\n      <th>RowIdx</th>\n      <th>ColIdx</th>\n      <th></th>\n      <th></th>\n    </tr>\n  </thead>\n  <tbody>\n    <tr>\n      <th rowspan=\"12\" valign=\"top\">M</th>\n      <th rowspan=\"4\" valign=\"top\">id_0</th>\n      <th>col01</th>\n      <td>-1.64</td>\n      <td>NaN</td>\n    </tr>\n    <tr>\n      <th>col02</th>\n      <td>0.63</td>\n      <td>NaN</td>\n    </tr>\n    <tr>\n      <th>col03</th>\n      <td>NaN</td>\n      <td>0.55</td>\n    </tr>\n    <tr>\n      <th>col04</th>\n      <td>NaN</td>\n      <td>1.05</td>\n    </tr>\n    <tr>\n      <th rowspan=\"4\" valign=\"top\">id_1</th>\n      <th>col01</th>\n      <td>0.77</td>\n      <td>NaN</td>\n    </tr>\n    <tr>\n      <th>col02</th>\n      <td>-1.65</td>\n      <td>NaN</td>\n    </tr>\n    <tr>\n      <th>col03</th>\n      <td>NaN</td>\n      <td>0.63</td>\n    </tr>\n    <tr>\n      <th>col04</th>\n      <td>NaN</td>\n      <td>0.28</td>\n    </tr>\n    <tr>\n      <th rowspan=\"4\" valign=\"top\">id_2</th>\n      <th>col01</th>\n      <td>-0.72</td>\n      <td>NaN</td>\n    </tr>\n    <tr>\n      <th>col02</th>\n      <td>-0.86</td>\n      <td>NaN</td>\n    </tr>\n    <tr>\n      <th>col03</th>\n      <td>NaN</td>\n      <td>0.67</td>\n    </tr>\n    <tr>\n      <th>col04</th>\n      <td>NaN</td>\n      <td>1.73</td>\n    </tr>\n    <tr>\n      <th rowspan=\"12\" valign=\"top\">F</th>\n      <th rowspan=\"4\" valign=\"top\">id_3</th>\n      <th>col01</th>\n      <td>-1.31</td>\n      <td>NaN</td>\n    </tr>\n    <tr>\n      <th>col02</th>\n      <td>0.62</td>\n      <td>NaN</td>\n    </tr>\n    <tr>\n      <th>col03</th>\n      <td>NaN</td>\n      <td>-0.99</td>\n    </tr>\n    <tr>\n      <th>col04</th>\n      <td>NaN</td>\n      <td>0.16</td>\n    </tr>\n    <tr>\n      <th rowspan=\"4\" valign=\"top\">id_4</th>\n      <th>col01</th>\n      <td>0.95</td>\n      <td>NaN</td>\n    </tr>\n    <tr>\n      <th>col02</th>\n      <td>1.03</td>\n      <td>NaN</td>\n    </tr>\n    <tr>\n      <th>col03</th>\n      <td>NaN</td>\n      <td>0.17</td>\n    </tr>\n    <tr>\n      <th>col04</th>\n      <td>NaN</td>\n      <td>-0.56</td>\n    </tr>\n    <tr>\n      <th rowspan=\"4\" valign=\"top\">id_5</th>\n      <th>col01</th>\n      <td>-0.40</td>\n      <td>NaN</td>\n    </tr>\n    <tr>\n      <th>col02</th>\n      <td>-1.70</td>\n      <td>NaN</td>\n    </tr>\n    <tr>\n      <th>col03</th>\n      <td>NaN</td>\n      <td>-0.71</td>\n    </tr>\n    <tr>\n      <th>col04</th>\n      <td>NaN</td>\n      <td>-0.51</td>\n    </tr>\n  </tbody>\n</table>\n</div>"
     },
     "execution_count": 8,
     "metadata": {},
     "output_type": "execute_result"
    }
   ],
   "source": [
    "multi_idx_frm.stack()"
   ],
   "metadata": {
    "collapsed": false,
    "pycharm": {
     "name": "#%%\n"
    }
   }
  },
  {
   "cell_type": "code",
   "execution_count": 9,
   "outputs": [
    {
     "data": {
      "text/plain": "ColIdx                   col01  col02  col03  col04\nGenderIdx RowIdx GrpIdx                            \nM         id_0   Grp01   -1.64   0.63    NaN    NaN\n                 Grp02     NaN    NaN   0.55   1.05\n          id_1   Grp01    0.77  -1.65    NaN    NaN\n                 Grp02     NaN    NaN   0.63   0.28\n          id_2   Grp01   -0.72  -0.86    NaN    NaN\n                 Grp02     NaN    NaN   0.67   1.73\nF         id_3   Grp01   -1.31   0.62    NaN    NaN\n                 Grp02     NaN    NaN  -0.99   0.16\n          id_4   Grp01    0.95   1.03    NaN    NaN\n                 Grp02     NaN    NaN   0.17  -0.56\n          id_5   Grp01   -0.40  -1.70    NaN    NaN\n                 Grp02     NaN    NaN  -0.71  -0.51",
      "text/html": "<div>\n<style scoped>\n    .dataframe tbody tr th:only-of-type {\n        vertical-align: middle;\n    }\n\n    .dataframe tbody tr th {\n        vertical-align: top;\n    }\n\n    .dataframe thead th {\n        text-align: right;\n    }\n</style>\n<table border=\"1\" class=\"dataframe\">\n  <thead>\n    <tr style=\"text-align: right;\">\n      <th></th>\n      <th></th>\n      <th>ColIdx</th>\n      <th>col01</th>\n      <th>col02</th>\n      <th>col03</th>\n      <th>col04</th>\n    </tr>\n    <tr>\n      <th>GenderIdx</th>\n      <th>RowIdx</th>\n      <th>GrpIdx</th>\n      <th></th>\n      <th></th>\n      <th></th>\n      <th></th>\n    </tr>\n  </thead>\n  <tbody>\n    <tr>\n      <th rowspan=\"6\" valign=\"top\">M</th>\n      <th rowspan=\"2\" valign=\"top\">id_0</th>\n      <th>Grp01</th>\n      <td>-1.64</td>\n      <td>0.63</td>\n      <td>NaN</td>\n      <td>NaN</td>\n    </tr>\n    <tr>\n      <th>Grp02</th>\n      <td>NaN</td>\n      <td>NaN</td>\n      <td>0.55</td>\n      <td>1.05</td>\n    </tr>\n    <tr>\n      <th rowspan=\"2\" valign=\"top\">id_1</th>\n      <th>Grp01</th>\n      <td>0.77</td>\n      <td>-1.65</td>\n      <td>NaN</td>\n      <td>NaN</td>\n    </tr>\n    <tr>\n      <th>Grp02</th>\n      <td>NaN</td>\n      <td>NaN</td>\n      <td>0.63</td>\n      <td>0.28</td>\n    </tr>\n    <tr>\n      <th rowspan=\"2\" valign=\"top\">id_2</th>\n      <th>Grp01</th>\n      <td>-0.72</td>\n      <td>-0.86</td>\n      <td>NaN</td>\n      <td>NaN</td>\n    </tr>\n    <tr>\n      <th>Grp02</th>\n      <td>NaN</td>\n      <td>NaN</td>\n      <td>0.67</td>\n      <td>1.73</td>\n    </tr>\n    <tr>\n      <th rowspan=\"6\" valign=\"top\">F</th>\n      <th rowspan=\"2\" valign=\"top\">id_3</th>\n      <th>Grp01</th>\n      <td>-1.31</td>\n      <td>0.62</td>\n      <td>NaN</td>\n      <td>NaN</td>\n    </tr>\n    <tr>\n      <th>Grp02</th>\n      <td>NaN</td>\n      <td>NaN</td>\n      <td>-0.99</td>\n      <td>0.16</td>\n    </tr>\n    <tr>\n      <th rowspan=\"2\" valign=\"top\">id_4</th>\n      <th>Grp01</th>\n      <td>0.95</td>\n      <td>1.03</td>\n      <td>NaN</td>\n      <td>NaN</td>\n    </tr>\n    <tr>\n      <th>Grp02</th>\n      <td>NaN</td>\n      <td>NaN</td>\n      <td>0.17</td>\n      <td>-0.56</td>\n    </tr>\n    <tr>\n      <th rowspan=\"2\" valign=\"top\">id_5</th>\n      <th>Grp01</th>\n      <td>-0.40</td>\n      <td>-1.70</td>\n      <td>NaN</td>\n      <td>NaN</td>\n    </tr>\n    <tr>\n      <th>Grp02</th>\n      <td>NaN</td>\n      <td>NaN</td>\n      <td>-0.71</td>\n      <td>-0.51</td>\n    </tr>\n  </tbody>\n</table>\n</div>"
     },
     "execution_count": 9,
     "metadata": {},
     "output_type": "execute_result"
    }
   ],
   "source": [
    "multi_idx_frm.stack('GrpIdx')"
   ],
   "metadata": {
    "collapsed": false,
    "pycharm": {
     "name": "#%%\n"
    }
   }
  },
  {
   "cell_type": "code",
   "execution_count": 10,
   "outputs": [
    {
     "data": {
      "text/plain": "GrpIdx    Grp01                                                       ...  \\\nColIdx    col01                              col02                    ...   \nRowIdx     id_0  id_1  id_2  id_3  id_4 id_5  id_0  id_1  id_2  id_3  ...   \nGenderIdx                                                             ...   \nF           NaN   NaN   NaN -1.31  0.95 -0.4   NaN   NaN   NaN  0.62  ...   \nM         -1.64  0.77 -0.72   NaN   NaN  NaN  0.63 -1.65 -0.86   NaN  ...   \n\nGrpIdx    Grp02                                                        \nColIdx    col03                   col04                                \nRowIdx     id_2  id_3  id_4  id_5  id_0  id_1  id_2  id_3  id_4  id_5  \nGenderIdx                                                              \nF           NaN -0.99  0.17 -0.71   NaN   NaN   NaN  0.16 -0.56 -0.51  \nM          0.67   NaN   NaN   NaN  1.05  0.28  1.73   NaN   NaN   NaN  \n\n[2 rows x 24 columns]",
      "text/html": "<div>\n<style scoped>\n    .dataframe tbody tr th:only-of-type {\n        vertical-align: middle;\n    }\n\n    .dataframe tbody tr th {\n        vertical-align: top;\n    }\n\n    .dataframe thead tr th {\n        text-align: left;\n    }\n\n    .dataframe thead tr:last-of-type th {\n        text-align: right;\n    }\n</style>\n<table border=\"1\" class=\"dataframe\">\n  <thead>\n    <tr>\n      <th>GrpIdx</th>\n      <th colspan=\"10\" halign=\"left\">Grp01</th>\n      <th>...</th>\n      <th colspan=\"10\" halign=\"left\">Grp02</th>\n    </tr>\n    <tr>\n      <th>ColIdx</th>\n      <th colspan=\"6\" halign=\"left\">col01</th>\n      <th colspan=\"4\" halign=\"left\">col02</th>\n      <th>...</th>\n      <th colspan=\"4\" halign=\"left\">col03</th>\n      <th colspan=\"6\" halign=\"left\">col04</th>\n    </tr>\n    <tr>\n      <th>RowIdx</th>\n      <th>id_0</th>\n      <th>id_1</th>\n      <th>id_2</th>\n      <th>id_3</th>\n      <th>id_4</th>\n      <th>id_5</th>\n      <th>id_0</th>\n      <th>id_1</th>\n      <th>id_2</th>\n      <th>id_3</th>\n      <th>...</th>\n      <th>id_2</th>\n      <th>id_3</th>\n      <th>id_4</th>\n      <th>id_5</th>\n      <th>id_0</th>\n      <th>id_1</th>\n      <th>id_2</th>\n      <th>id_3</th>\n      <th>id_4</th>\n      <th>id_5</th>\n    </tr>\n    <tr>\n      <th>GenderIdx</th>\n      <th></th>\n      <th></th>\n      <th></th>\n      <th></th>\n      <th></th>\n      <th></th>\n      <th></th>\n      <th></th>\n      <th></th>\n      <th></th>\n      <th></th>\n      <th></th>\n      <th></th>\n      <th></th>\n      <th></th>\n      <th></th>\n      <th></th>\n      <th></th>\n      <th></th>\n      <th></th>\n      <th></th>\n    </tr>\n  </thead>\n  <tbody>\n    <tr>\n      <th>F</th>\n      <td>NaN</td>\n      <td>NaN</td>\n      <td>NaN</td>\n      <td>-1.31</td>\n      <td>0.95</td>\n      <td>-0.4</td>\n      <td>NaN</td>\n      <td>NaN</td>\n      <td>NaN</td>\n      <td>0.62</td>\n      <td>...</td>\n      <td>NaN</td>\n      <td>-0.99</td>\n      <td>0.17</td>\n      <td>-0.71</td>\n      <td>NaN</td>\n      <td>NaN</td>\n      <td>NaN</td>\n      <td>0.16</td>\n      <td>-0.56</td>\n      <td>-0.51</td>\n    </tr>\n    <tr>\n      <th>M</th>\n      <td>-1.64</td>\n      <td>0.77</td>\n      <td>-0.72</td>\n      <td>NaN</td>\n      <td>NaN</td>\n      <td>NaN</td>\n      <td>0.63</td>\n      <td>-1.65</td>\n      <td>-0.86</td>\n      <td>NaN</td>\n      <td>...</td>\n      <td>0.67</td>\n      <td>NaN</td>\n      <td>NaN</td>\n      <td>NaN</td>\n      <td>1.05</td>\n      <td>0.28</td>\n      <td>1.73</td>\n      <td>NaN</td>\n      <td>NaN</td>\n      <td>NaN</td>\n    </tr>\n  </tbody>\n</table>\n<p>2 rows × 24 columns</p>\n</div>"
     },
     "execution_count": 10,
     "metadata": {},
     "output_type": "execute_result"
    }
   ],
   "source": [
    "multi_idx_frm.unstack()"
   ],
   "metadata": {
    "collapsed": false,
    "pycharm": {
     "name": "#%%\n"
    }
   }
  },
  {
   "cell_type": "code",
   "execution_count": 10,
   "outputs": [],
   "source": [],
   "metadata": {
    "collapsed": false,
    "pycharm": {
     "name": "#%%\n"
    }
   }
  },
  {
   "cell_type": "code",
   "execution_count": 11,
   "outputs": [
    {
     "data": {
      "text/plain": "GrpIdx    Grp01                   Grp02                  \nColIdx    col01       col02       col03       col04      \nGenderIdx     F     M     F     M     F     M     F     M\nRowIdx                                                   \nid_0        NaN -1.64   NaN  0.63   NaN  0.55   NaN  1.05\nid_1        NaN  0.77   NaN -1.65   NaN  0.63   NaN  0.28\nid_2        NaN -0.72   NaN -0.86   NaN  0.67   NaN  1.73\nid_3      -1.31   NaN  0.62   NaN -0.99   NaN  0.16   NaN\nid_4       0.95   NaN  1.03   NaN  0.17   NaN -0.56   NaN\nid_5      -0.40   NaN -1.70   NaN -0.71   NaN -0.51   NaN",
      "text/html": "<div>\n<style scoped>\n    .dataframe tbody tr th:only-of-type {\n        vertical-align: middle;\n    }\n\n    .dataframe tbody tr th {\n        vertical-align: top;\n    }\n\n    .dataframe thead tr th {\n        text-align: left;\n    }\n\n    .dataframe thead tr:last-of-type th {\n        text-align: right;\n    }\n</style>\n<table border=\"1\" class=\"dataframe\">\n  <thead>\n    <tr>\n      <th>GrpIdx</th>\n      <th colspan=\"4\" halign=\"left\">Grp01</th>\n      <th colspan=\"4\" halign=\"left\">Grp02</th>\n    </tr>\n    <tr>\n      <th>ColIdx</th>\n      <th colspan=\"2\" halign=\"left\">col01</th>\n      <th colspan=\"2\" halign=\"left\">col02</th>\n      <th colspan=\"2\" halign=\"left\">col03</th>\n      <th colspan=\"2\" halign=\"left\">col04</th>\n    </tr>\n    <tr>\n      <th>GenderIdx</th>\n      <th>F</th>\n      <th>M</th>\n      <th>F</th>\n      <th>M</th>\n      <th>F</th>\n      <th>M</th>\n      <th>F</th>\n      <th>M</th>\n    </tr>\n    <tr>\n      <th>RowIdx</th>\n      <th></th>\n      <th></th>\n      <th></th>\n      <th></th>\n      <th></th>\n      <th></th>\n      <th></th>\n      <th></th>\n    </tr>\n  </thead>\n  <tbody>\n    <tr>\n      <th>id_0</th>\n      <td>NaN</td>\n      <td>-1.64</td>\n      <td>NaN</td>\n      <td>0.63</td>\n      <td>NaN</td>\n      <td>0.55</td>\n      <td>NaN</td>\n      <td>1.05</td>\n    </tr>\n    <tr>\n      <th>id_1</th>\n      <td>NaN</td>\n      <td>0.77</td>\n      <td>NaN</td>\n      <td>-1.65</td>\n      <td>NaN</td>\n      <td>0.63</td>\n      <td>NaN</td>\n      <td>0.28</td>\n    </tr>\n    <tr>\n      <th>id_2</th>\n      <td>NaN</td>\n      <td>-0.72</td>\n      <td>NaN</td>\n      <td>-0.86</td>\n      <td>NaN</td>\n      <td>0.67</td>\n      <td>NaN</td>\n      <td>1.73</td>\n    </tr>\n    <tr>\n      <th>id_3</th>\n      <td>-1.31</td>\n      <td>NaN</td>\n      <td>0.62</td>\n      <td>NaN</td>\n      <td>-0.99</td>\n      <td>NaN</td>\n      <td>0.16</td>\n      <td>NaN</td>\n    </tr>\n    <tr>\n      <th>id_4</th>\n      <td>0.95</td>\n      <td>NaN</td>\n      <td>1.03</td>\n      <td>NaN</td>\n      <td>0.17</td>\n      <td>NaN</td>\n      <td>-0.56</td>\n      <td>NaN</td>\n    </tr>\n    <tr>\n      <th>id_5</th>\n      <td>-0.40</td>\n      <td>NaN</td>\n      <td>-1.70</td>\n      <td>NaN</td>\n      <td>-0.71</td>\n      <td>NaN</td>\n      <td>-0.51</td>\n      <td>NaN</td>\n    </tr>\n  </tbody>\n</table>\n</div>"
     },
     "execution_count": 11,
     "metadata": {},
     "output_type": "execute_result"
    }
   ],
   "source": [
    "multi_idx_frm.unstack('GenderIdx')"
   ],
   "metadata": {
    "collapsed": false,
    "pycharm": {
     "name": "#%%\n"
    }
   }
  },
  {
   "cell_type": "code",
   "execution_count": 12,
   "outputs": [
    {
     "data": {
      "text/plain": "GrpIdx           Grp01      \nColIdx           col01 col02\nGenderIdx RowIdx            \nM         id_0   -1.64  0.63\n          id_1    0.77 -1.65\n          id_2   -0.72 -0.86\nF         id_3   -1.31  0.62\n          id_4    0.95  1.03\n          id_5   -0.40 -1.70",
      "text/html": "<div>\n<style scoped>\n    .dataframe tbody tr th:only-of-type {\n        vertical-align: middle;\n    }\n\n    .dataframe tbody tr th {\n        vertical-align: top;\n    }\n\n    .dataframe thead tr th {\n        text-align: left;\n    }\n\n    .dataframe thead tr:last-of-type th {\n        text-align: right;\n    }\n</style>\n<table border=\"1\" class=\"dataframe\">\n  <thead>\n    <tr>\n      <th></th>\n      <th>GrpIdx</th>\n      <th colspan=\"2\" halign=\"left\">Grp01</th>\n    </tr>\n    <tr>\n      <th></th>\n      <th>ColIdx</th>\n      <th>col01</th>\n      <th>col02</th>\n    </tr>\n    <tr>\n      <th>GenderIdx</th>\n      <th>RowIdx</th>\n      <th></th>\n      <th></th>\n    </tr>\n  </thead>\n  <tbody>\n    <tr>\n      <th rowspan=\"3\" valign=\"top\">M</th>\n      <th>id_0</th>\n      <td>-1.64</td>\n      <td>0.63</td>\n    </tr>\n    <tr>\n      <th>id_1</th>\n      <td>0.77</td>\n      <td>-1.65</td>\n    </tr>\n    <tr>\n      <th>id_2</th>\n      <td>-0.72</td>\n      <td>-0.86</td>\n    </tr>\n    <tr>\n      <th rowspan=\"3\" valign=\"top\">F</th>\n      <th>id_3</th>\n      <td>-1.31</td>\n      <td>0.62</td>\n    </tr>\n    <tr>\n      <th>id_4</th>\n      <td>0.95</td>\n      <td>1.03</td>\n    </tr>\n    <tr>\n      <th>id_5</th>\n      <td>-0.40</td>\n      <td>-1.70</td>\n    </tr>\n  </tbody>\n</table>\n</div>"
     },
     "execution_count": 12,
     "metadata": {},
     "output_type": "execute_result"
    }
   ],
   "source": [
    "\n",
    "multi_idx_frm[ [ ('Grp01', 'col01') , ('Grp01', 'col02') ] ]"
   ],
   "metadata": {
    "collapsed": false,
    "pycharm": {
     "name": "#%%\n"
    }
   }
  },
  {
   "cell_type": "code",
   "execution_count": 13,
   "outputs": [
    {
     "data": {
      "text/plain": "GrpIdx           Grp01       Grp02      \nColIdx           col01 col02 col03 col04\nGenderIdx RowIdx                        \nM         id_0   -1.64  0.63  0.55  1.05\n          id_1    0.77 -1.65  0.63  0.28\n          id_2   -0.72 -0.86  0.67  1.73\nF         id_3   -1.31  0.62 -0.99  0.16\n          id_4    0.95  1.03  0.17 -0.56\n          id_5   -0.40 -1.70 -0.71 -0.51",
      "text/html": "<div>\n<style scoped>\n    .dataframe tbody tr th:only-of-type {\n        vertical-align: middle;\n    }\n\n    .dataframe tbody tr th {\n        vertical-align: top;\n    }\n\n    .dataframe thead tr th {\n        text-align: left;\n    }\n\n    .dataframe thead tr:last-of-type th {\n        text-align: right;\n    }\n</style>\n<table border=\"1\" class=\"dataframe\">\n  <thead>\n    <tr>\n      <th></th>\n      <th>GrpIdx</th>\n      <th colspan=\"2\" halign=\"left\">Grp01</th>\n      <th colspan=\"2\" halign=\"left\">Grp02</th>\n    </tr>\n    <tr>\n      <th></th>\n      <th>ColIdx</th>\n      <th>col01</th>\n      <th>col02</th>\n      <th>col03</th>\n      <th>col04</th>\n    </tr>\n    <tr>\n      <th>GenderIdx</th>\n      <th>RowIdx</th>\n      <th></th>\n      <th></th>\n      <th></th>\n      <th></th>\n    </tr>\n  </thead>\n  <tbody>\n    <tr>\n      <th rowspan=\"3\" valign=\"top\">M</th>\n      <th>id_0</th>\n      <td>-1.64</td>\n      <td>0.63</td>\n      <td>0.55</td>\n      <td>1.05</td>\n    </tr>\n    <tr>\n      <th>id_1</th>\n      <td>0.77</td>\n      <td>-1.65</td>\n      <td>0.63</td>\n      <td>0.28</td>\n    </tr>\n    <tr>\n      <th>id_2</th>\n      <td>-0.72</td>\n      <td>-0.86</td>\n      <td>0.67</td>\n      <td>1.73</td>\n    </tr>\n    <tr>\n      <th rowspan=\"3\" valign=\"top\">F</th>\n      <th>id_3</th>\n      <td>-1.31</td>\n      <td>0.62</td>\n      <td>-0.99</td>\n      <td>0.16</td>\n    </tr>\n    <tr>\n      <th>id_4</th>\n      <td>0.95</td>\n      <td>1.03</td>\n      <td>0.17</td>\n      <td>-0.56</td>\n    </tr>\n    <tr>\n      <th>id_5</th>\n      <td>-0.40</td>\n      <td>-1.70</td>\n      <td>-0.71</td>\n      <td>-0.51</td>\n    </tr>\n  </tbody>\n</table>\n</div>"
     },
     "execution_count": 13,
     "metadata": {},
     "output_type": "execute_result"
    }
   ],
   "source": [
    "multi_idx_frm"
   ],
   "metadata": {
    "collapsed": false,
    "pycharm": {
     "name": "#%%\n"
    }
   }
  },
  {
   "cell_type": "code",
   "execution_count": 14,
   "outputs": [
    {
     "data": {
      "text/plain": "0.55"
     },
     "execution_count": 14,
     "metadata": {},
     "output_type": "execute_result"
    }
   ],
   "source": [
    "multi_idx_frm[('Grp02','col03')].values[0]"
   ],
   "metadata": {
    "collapsed": false,
    "pycharm": {
     "name": "#%%\n"
    }
   }
  },
  {
   "cell_type": "code",
   "execution_count": 15,
   "outputs": [
    {
     "data": {
      "text/plain": "0.67"
     },
     "execution_count": 15,
     "metadata": {},
     "output_type": "execute_result"
    }
   ],
   "source": [
    "multi_idx_frm.loc[('M', 'id_1'), 'Grp02']\n",
    "multi_idx_frm['Grp02'].values[1]\n",
    "multi_idx_frm[ ('Grp02','col03') ]  [('M','id_2')]\n"
   ],
   "metadata": {
    "collapsed": false,
    "pycharm": {
     "name": "#%%\n"
    }
   }
  },
  {
   "cell_type": "code",
   "execution_count": 15,
   "outputs": [],
   "source": [],
   "metadata": {
    "collapsed": false,
    "pycharm": {
     "name": "#%%\n"
    }
   }
  },
  {
   "cell_type": "code",
   "execution_count": 16,
   "outputs": [
    {
     "data": {
      "text/plain": "array([0.63, 0.28])"
     },
     "execution_count": 16,
     "metadata": {},
     "output_type": "execute_result"
    }
   ],
   "source": [
    "multi_idx_frm[[('Grp02','col03'),('Grp02','col04')]].iloc[1].values\n"
   ],
   "metadata": {
    "collapsed": false,
    "pycharm": {
     "name": "#%%\n"
    }
   }
  },
  {
   "cell_type": "code",
   "execution_count": 17,
   "outputs": [
    {
     "name": "stdout",
     "output_type": "stream",
     "text": [
      "M 정보만 출력 - \n"
     ]
    },
    {
     "data": {
      "text/plain": "GrpIdx           Grp02      \nColIdx           col03 col04\nGenderIdx RowIdx            \nM         id_0    0.55  1.05\n          id_1    0.63  0.28\n          id_2    0.67  1.73",
      "text/html": "<div>\n<style scoped>\n    .dataframe tbody tr th:only-of-type {\n        vertical-align: middle;\n    }\n\n    .dataframe tbody tr th {\n        vertical-align: top;\n    }\n\n    .dataframe thead tr th {\n        text-align: left;\n    }\n\n    .dataframe thead tr:last-of-type th {\n        text-align: right;\n    }\n</style>\n<table border=\"1\" class=\"dataframe\">\n  <thead>\n    <tr>\n      <th></th>\n      <th>GrpIdx</th>\n      <th colspan=\"2\" halign=\"left\">Grp02</th>\n    </tr>\n    <tr>\n      <th></th>\n      <th>ColIdx</th>\n      <th>col03</th>\n      <th>col04</th>\n    </tr>\n    <tr>\n      <th>GenderIdx</th>\n      <th>RowIdx</th>\n      <th></th>\n      <th></th>\n    </tr>\n  </thead>\n  <tbody>\n    <tr>\n      <th rowspan=\"3\" valign=\"top\">M</th>\n      <th>id_0</th>\n      <td>0.55</td>\n      <td>1.05</td>\n    </tr>\n    <tr>\n      <th>id_1</th>\n      <td>0.63</td>\n      <td>0.28</td>\n    </tr>\n    <tr>\n      <th>id_2</th>\n      <td>0.67</td>\n      <td>1.73</td>\n    </tr>\n  </tbody>\n</table>\n</div>"
     },
     "execution_count": 17,
     "metadata": {},
     "output_type": "execute_result"
    }
   ],
   "source": [
    "print('M 정보만 출력 - ')\n",
    "\n",
    "multi_idx_frm.loc['M']\n",
    "multi_idx_frm.iloc[ : 3 , 2 : 4  ]"
   ],
   "metadata": {
    "collapsed": false,
    "pycharm": {
     "name": "#%%\n"
    }
   }
  },
  {
   "cell_type": "code",
   "execution_count": 18,
   "outputs": [
    {
     "data": {
      "text/plain": "GrpIdx           Grp01       Grp02      \nColIdx           col01 col02 col03 col04\nGenderIdx RowIdx                        \nM         id_0   -1.64  0.63  0.55  1.05\n          id_1    0.77 -1.65  0.63  0.28\n          id_2   -0.72 -0.86  0.67  1.73\nF         id_3   -1.31  0.62 -0.99  0.16\n          id_4    0.95  1.03  0.17 -0.56\n          id_5   -0.40 -1.70 -0.71 -0.51",
      "text/html": "<div>\n<style scoped>\n    .dataframe tbody tr th:only-of-type {\n        vertical-align: middle;\n    }\n\n    .dataframe tbody tr th {\n        vertical-align: top;\n    }\n\n    .dataframe thead tr th {\n        text-align: left;\n    }\n\n    .dataframe thead tr:last-of-type th {\n        text-align: right;\n    }\n</style>\n<table border=\"1\" class=\"dataframe\">\n  <thead>\n    <tr>\n      <th></th>\n      <th>GrpIdx</th>\n      <th colspan=\"2\" halign=\"left\">Grp01</th>\n      <th colspan=\"2\" halign=\"left\">Grp02</th>\n    </tr>\n    <tr>\n      <th></th>\n      <th>ColIdx</th>\n      <th>col01</th>\n      <th>col02</th>\n      <th>col03</th>\n      <th>col04</th>\n    </tr>\n    <tr>\n      <th>GenderIdx</th>\n      <th>RowIdx</th>\n      <th></th>\n      <th></th>\n      <th></th>\n      <th></th>\n    </tr>\n  </thead>\n  <tbody>\n    <tr>\n      <th rowspan=\"3\" valign=\"top\">M</th>\n      <th>id_0</th>\n      <td>-1.64</td>\n      <td>0.63</td>\n      <td>0.55</td>\n      <td>1.05</td>\n    </tr>\n    <tr>\n      <th>id_1</th>\n      <td>0.77</td>\n      <td>-1.65</td>\n      <td>0.63</td>\n      <td>0.28</td>\n    </tr>\n    <tr>\n      <th>id_2</th>\n      <td>-0.72</td>\n      <td>-0.86</td>\n      <td>0.67</td>\n      <td>1.73</td>\n    </tr>\n    <tr>\n      <th rowspan=\"3\" valign=\"top\">F</th>\n      <th>id_3</th>\n      <td>-1.31</td>\n      <td>0.62</td>\n      <td>-0.99</td>\n      <td>0.16</td>\n    </tr>\n    <tr>\n      <th>id_4</th>\n      <td>0.95</td>\n      <td>1.03</td>\n      <td>0.17</td>\n      <td>-0.56</td>\n    </tr>\n    <tr>\n      <th>id_5</th>\n      <td>-0.40</td>\n      <td>-1.70</td>\n      <td>-0.71</td>\n      <td>-0.51</td>\n    </tr>\n  </tbody>\n</table>\n</div>"
     },
     "execution_count": 18,
     "metadata": {},
     "output_type": "execute_result"
    }
   ],
   "source": [
    "multi_idx_frm"
   ],
   "metadata": {
    "collapsed": false,
    "pycharm": {
     "name": "#%%\n"
    }
   }
  },
  {
   "cell_type": "code",
   "execution_count": 19,
   "outputs": [
    {
     "data": {
      "text/plain": "GrpIdx           Grp01       Grp02      \nColIdx           col01 col02 col03 col04\nGenderIdx RowIdx                        \nM         id_0   -1.64  0.63  0.55  1.05\n          id_1    0.77 -1.65  0.63  0.28\n          id_2   -0.72 -0.86  0.67  1.73\nF         id_3   -1.31  0.62 -0.99  0.16\n          id_4    0.95  1.03  0.17 -0.56\n          id_5   -0.40 -1.70 -0.71 -0.51",
      "text/html": "<div>\n<style scoped>\n    .dataframe tbody tr th:only-of-type {\n        vertical-align: middle;\n    }\n\n    .dataframe tbody tr th {\n        vertical-align: top;\n    }\n\n    .dataframe thead tr th {\n        text-align: left;\n    }\n\n    .dataframe thead tr:last-of-type th {\n        text-align: right;\n    }\n</style>\n<table border=\"1\" class=\"dataframe\">\n  <thead>\n    <tr>\n      <th></th>\n      <th>GrpIdx</th>\n      <th colspan=\"2\" halign=\"left\">Grp01</th>\n      <th colspan=\"2\" halign=\"left\">Grp02</th>\n    </tr>\n    <tr>\n      <th></th>\n      <th>ColIdx</th>\n      <th>col01</th>\n      <th>col02</th>\n      <th>col03</th>\n      <th>col04</th>\n    </tr>\n    <tr>\n      <th>GenderIdx</th>\n      <th>RowIdx</th>\n      <th></th>\n      <th></th>\n      <th></th>\n      <th></th>\n    </tr>\n  </thead>\n  <tbody>\n    <tr>\n      <th rowspan=\"3\" valign=\"top\">M</th>\n      <th>id_0</th>\n      <td>-1.64</td>\n      <td>0.63</td>\n      <td>0.55</td>\n      <td>1.05</td>\n    </tr>\n    <tr>\n      <th>id_1</th>\n      <td>0.77</td>\n      <td>-1.65</td>\n      <td>0.63</td>\n      <td>0.28</td>\n    </tr>\n    <tr>\n      <th>id_2</th>\n      <td>-0.72</td>\n      <td>-0.86</td>\n      <td>0.67</td>\n      <td>1.73</td>\n    </tr>\n    <tr>\n      <th rowspan=\"3\" valign=\"top\">F</th>\n      <th>id_3</th>\n      <td>-1.31</td>\n      <td>0.62</td>\n      <td>-0.99</td>\n      <td>0.16</td>\n    </tr>\n    <tr>\n      <th>id_4</th>\n      <td>0.95</td>\n      <td>1.03</td>\n      <td>0.17</td>\n      <td>-0.56</td>\n    </tr>\n    <tr>\n      <th>id_5</th>\n      <td>-0.40</td>\n      <td>-1.70</td>\n      <td>-0.71</td>\n      <td>-0.51</td>\n    </tr>\n  </tbody>\n</table>\n</div>"
     },
     "execution_count": 19,
     "metadata": {},
     "output_type": "execute_result"
    }
   ],
   "source": [
    "multi_idx_frm.sort_index(level = 1 , axis = 1)"
   ],
   "metadata": {
    "collapsed": false,
    "pycharm": {
     "name": "#%%\n"
    }
   }
  },
  {
   "cell_type": "code",
   "execution_count": 20,
   "outputs": [
    {
     "data": {
      "text/plain": "      학과  학년     이름   학점\n0   인공지능   1  Jason  2.7\n1  데이터분석   2   Kiki  3.5\n2   인공지능   3   Alan  4.5\n3  데이터분석   4     Zi  3.8\n4  데이터분석   2   Rosa  4.3",
      "text/html": "<div>\n<style scoped>\n    .dataframe tbody tr th:only-of-type {\n        vertical-align: middle;\n    }\n\n    .dataframe tbody tr th {\n        vertical-align: top;\n    }\n\n    .dataframe thead th {\n        text-align: right;\n    }\n</style>\n<table border=\"1\" class=\"dataframe\">\n  <thead>\n    <tr style=\"text-align: right;\">\n      <th></th>\n      <th>학과</th>\n      <th>학년</th>\n      <th>이름</th>\n      <th>학점</th>\n    </tr>\n  </thead>\n  <tbody>\n    <tr>\n      <th>0</th>\n      <td>인공지능</td>\n      <td>1</td>\n      <td>Jason</td>\n      <td>2.7</td>\n    </tr>\n    <tr>\n      <th>1</th>\n      <td>데이터분석</td>\n      <td>2</td>\n      <td>Kiki</td>\n      <td>3.5</td>\n    </tr>\n    <tr>\n      <th>2</th>\n      <td>인공지능</td>\n      <td>3</td>\n      <td>Alan</td>\n      <td>4.5</td>\n    </tr>\n    <tr>\n      <th>3</th>\n      <td>데이터분석</td>\n      <td>4</td>\n      <td>Zi</td>\n      <td>3.8</td>\n    </tr>\n    <tr>\n      <th>4</th>\n      <td>데이터분석</td>\n      <td>2</td>\n      <td>Rosa</td>\n      <td>4.3</td>\n    </tr>\n  </tbody>\n</table>\n</div>"
     },
     "execution_count": 20,
     "metadata": {},
     "output_type": "execute_result"
    }
   ],
   "source": [
    "grp_frm = pd.DataFrame({\n",
    "    '학과' : ['인공지능' , '데이터분석' , '인공지능' , '데이터분석' , '데이터분석'] ,\n",
    "    '학년' : [1, 2, 3, 4, 2] ,\n",
    "    '이름' : ['Jason' , 'Kiki' , 'Alan' , 'Zi' , 'Rosa'] ,\n",
    "    '학점' : [2.7, 3.5, 4.5, 3.8, 4.3]\n",
    "})\n",
    "\n",
    "grp_frm"
   ],
   "metadata": {
    "collapsed": false,
    "pycharm": {
     "name": "#%%\n"
    }
   }
  },
  {
   "cell_type": "code",
   "execution_count": 21,
   "outputs": [
    {
     "name": "stdout",
     "output_type": "stream",
     "text": [
      "그룹을 만드는 방법은 두가지로 데이터프레임그룹 과 시리즈그룹이 생성될 수 있다. - \n",
      "프레임 그룹 -  <pandas.core.groupby.generic.DataFrameGroupBy object at 0x7fa842f00550>\n",
      "프레임 그룹 -  <pandas.core.groupby.generic.SeriesGroupBy object at 0x7fa842f00df0>\n"
     ]
    }
   ],
   "source": [
    "print('그룹을 만드는 방법은 두가지로 데이터프레임그룹 과 시리즈그룹이 생성될 수 있다. - ')\n",
    "dept_frm = grp_frm.groupby( grp_frm['학과'])\n",
    "print('프레임 그룹 - ' , dept_frm )\n",
    "\n",
    "dept_series = grp_frm['학과'].groupby( grp_frm['학과'])\n",
    "print('프레임 그룹 - ' , dept_series )\n"
   ],
   "metadata": {
    "collapsed": false,
    "pycharm": {
     "name": "#%%\n"
    }
   }
  },
  {
   "cell_type": "code",
   "execution_count": 22,
   "outputs": [
    {
     "name": "stdout",
     "output_type": "stream",
     "text": [
      "그룹 정보 확인 - \n",
      "groups -  {'데이터분석': [1, 3, 4], '인공지능': [0, 2]}\n",
      "\n",
      "그룹 정보를 가져오고 싶다면 - \n",
      "1    데이터분석\n",
      "3    데이터분석\n",
      "4    데이터분석\n",
      "Name: 학과, dtype: object\n",
      "\n",
      "0    인공지능\n",
      "2    인공지능\n",
      "Name: 학과, dtype: object\n"
     ]
    }
   ],
   "source": [
    "print('그룹 정보 확인 - ')\n",
    "print('groups - ' ,  dept_series.groups )\n",
    "print()\n",
    "print('그룹 정보를 가져오고 싶다면 - ')\n",
    "print(dept_series.get_group('데이터분석') )\n",
    "print()\n",
    "print(dept_series.get_group('인공지능') )"
   ],
   "metadata": {
    "collapsed": false,
    "pycharm": {
     "name": "#%%\n"
    }
   }
  },
  {
   "cell_type": "code",
   "execution_count": 23,
   "outputs": [
    {
     "name": "stdout",
     "output_type": "stream",
     "text": [
      "데이터프레임 그룹 - \n",
      "그룹 정보 확인 - \n",
      "groups -  {'데이터분석': [1, 3, 4], '인공지능': [0, 2]}\n",
      "\n",
      "그룹 정보를 가져오고 싶다면 - \n"
     ]
    },
    {
     "data": {
      "text/plain": "      학과  학년    이름   학점\n1  데이터분석   2  Kiki  3.5\n3  데이터분석   4    Zi  3.8\n4  데이터분석   2  Rosa  4.3",
      "text/html": "<div>\n<style scoped>\n    .dataframe tbody tr th:only-of-type {\n        vertical-align: middle;\n    }\n\n    .dataframe tbody tr th {\n        vertical-align: top;\n    }\n\n    .dataframe thead th {\n        text-align: right;\n    }\n</style>\n<table border=\"1\" class=\"dataframe\">\n  <thead>\n    <tr style=\"text-align: right;\">\n      <th></th>\n      <th>학과</th>\n      <th>학년</th>\n      <th>이름</th>\n      <th>학점</th>\n    </tr>\n  </thead>\n  <tbody>\n    <tr>\n      <th>1</th>\n      <td>데이터분석</td>\n      <td>2</td>\n      <td>Kiki</td>\n      <td>3.5</td>\n    </tr>\n    <tr>\n      <th>3</th>\n      <td>데이터분석</td>\n      <td>4</td>\n      <td>Zi</td>\n      <td>3.8</td>\n    </tr>\n    <tr>\n      <th>4</th>\n      <td>데이터분석</td>\n      <td>2</td>\n      <td>Rosa</td>\n      <td>4.3</td>\n    </tr>\n  </tbody>\n</table>\n</div>"
     },
     "metadata": {},
     "output_type": "display_data"
    },
    {
     "name": "stdout",
     "output_type": "stream",
     "text": [
      "\n"
     ]
    },
    {
     "data": {
      "text/plain": "     학과  학년     이름   학점\n0  인공지능   1  Jason  2.7\n2  인공지능   3   Alan  4.5",
      "text/html": "<div>\n<style scoped>\n    .dataframe tbody tr th:only-of-type {\n        vertical-align: middle;\n    }\n\n    .dataframe tbody tr th {\n        vertical-align: top;\n    }\n\n    .dataframe thead th {\n        text-align: right;\n    }\n</style>\n<table border=\"1\" class=\"dataframe\">\n  <thead>\n    <tr style=\"text-align: right;\">\n      <th></th>\n      <th>학과</th>\n      <th>학년</th>\n      <th>이름</th>\n      <th>학점</th>\n    </tr>\n  </thead>\n  <tbody>\n    <tr>\n      <th>0</th>\n      <td>인공지능</td>\n      <td>1</td>\n      <td>Jason</td>\n      <td>2.7</td>\n    </tr>\n    <tr>\n      <th>2</th>\n      <td>인공지능</td>\n      <td>3</td>\n      <td>Alan</td>\n      <td>4.5</td>\n    </tr>\n  </tbody>\n</table>\n</div>"
     },
     "metadata": {},
     "output_type": "display_data"
    }
   ],
   "source": [
    "print('데이터프레임 그룹 - ')\n",
    "\n",
    "print('그룹 정보 확인 - ')\n",
    "print('groups - ' ,  dept_frm.groups )\n",
    "print()\n",
    "print('그룹 정보를 가져오고 싶다면 - ')\n",
    "display(dept_frm.get_group('데이터분석') )\n",
    "print()\n",
    "display(dept_frm.get_group('인공지능') )"
   ],
   "metadata": {
    "collapsed": false,
    "pycharm": {
     "name": "#%%\n"
    }
   }
  },
  {
   "cell_type": "code",
   "execution_count": 24,
   "outputs": [
    {
     "data": {
      "text/plain": "         학년                                                 학점            \\\n      count      mean       std  min  25%  50%  75%  max count      mean   \n학과                                                                         \n데이터분석   3.0  2.666667  1.154701  2.0  2.0  2.0  3.0  4.0   3.0  3.866667   \n인공지능    2.0  2.000000  1.414214  1.0  1.5  2.0  2.5  3.0   2.0  3.600000   \n\n                                            \n            std  min   25%  50%   75%  max  \n학과                                          \n데이터분석  0.404145  3.5  3.65  3.8  4.05  4.3  \n인공지능   1.272792  2.7  3.15  3.6  4.05  4.5  ",
      "text/html": "<div>\n<style scoped>\n    .dataframe tbody tr th:only-of-type {\n        vertical-align: middle;\n    }\n\n    .dataframe tbody tr th {\n        vertical-align: top;\n    }\n\n    .dataframe thead tr th {\n        text-align: left;\n    }\n\n    .dataframe thead tr:last-of-type th {\n        text-align: right;\n    }\n</style>\n<table border=\"1\" class=\"dataframe\">\n  <thead>\n    <tr>\n      <th></th>\n      <th colspan=\"8\" halign=\"left\">학년</th>\n      <th colspan=\"8\" halign=\"left\">학점</th>\n    </tr>\n    <tr>\n      <th></th>\n      <th>count</th>\n      <th>mean</th>\n      <th>std</th>\n      <th>min</th>\n      <th>25%</th>\n      <th>50%</th>\n      <th>75%</th>\n      <th>max</th>\n      <th>count</th>\n      <th>mean</th>\n      <th>std</th>\n      <th>min</th>\n      <th>25%</th>\n      <th>50%</th>\n      <th>75%</th>\n      <th>max</th>\n    </tr>\n    <tr>\n      <th>학과</th>\n      <th></th>\n      <th></th>\n      <th></th>\n      <th></th>\n      <th></th>\n      <th></th>\n      <th></th>\n      <th></th>\n      <th></th>\n      <th></th>\n      <th></th>\n      <th></th>\n      <th></th>\n      <th></th>\n      <th></th>\n      <th></th>\n    </tr>\n  </thead>\n  <tbody>\n    <tr>\n      <th>데이터분석</th>\n      <td>3.0</td>\n      <td>2.666667</td>\n      <td>1.154701</td>\n      <td>2.0</td>\n      <td>2.0</td>\n      <td>2.0</td>\n      <td>3.0</td>\n      <td>4.0</td>\n      <td>3.0</td>\n      <td>3.866667</td>\n      <td>0.404145</td>\n      <td>3.5</td>\n      <td>3.65</td>\n      <td>3.8</td>\n      <td>4.05</td>\n      <td>4.3</td>\n    </tr>\n    <tr>\n      <th>인공지능</th>\n      <td>2.0</td>\n      <td>2.000000</td>\n      <td>1.414214</td>\n      <td>1.0</td>\n      <td>1.5</td>\n      <td>2.0</td>\n      <td>2.5</td>\n      <td>3.0</td>\n      <td>2.0</td>\n      <td>3.600000</td>\n      <td>1.272792</td>\n      <td>2.7</td>\n      <td>3.15</td>\n      <td>3.6</td>\n      <td>4.05</td>\n      <td>4.5</td>\n    </tr>\n  </tbody>\n</table>\n</div>"
     },
     "execution_count": 24,
     "metadata": {},
     "output_type": "execute_result"
    }
   ],
   "source": [
    "dept_frm.describe()"
   ],
   "metadata": {
    "collapsed": false,
    "pycharm": {
     "name": "#%%\n"
    }
   }
  },
  {
   "cell_type": "code",
   "execution_count": 26,
   "outputs": [
    {
     "name": "stdout",
     "output_type": "stream",
     "text": [
      "학과별 학점 평균만 출력한다면 - \n",
      "case01 - \n"
     ]
    },
    {
     "data": {
      "text/plain": "학과\n데이터분석    3.866667\n인공지능     3.600000\nName: 학점, dtype: float64"
     },
     "metadata": {},
     "output_type": "display_data"
    },
    {
     "name": "stdout",
     "output_type": "stream",
     "text": [
      "\n",
      "case02 - \n",
      "학과\n",
      "데이터분석    3.866667\n",
      "인공지능     3.600000\n",
      "Name: 학점, dtype: float64\n",
      "\n",
      "case03 - \n",
      "학과\n",
      "데이터분석    3.866667\n",
      "인공지능     3.600000\n",
      "Name: 학점, dtype: float64\n"
     ]
    }
   ],
   "source": [
    "print('학과별 학점 평균만 출력한다면 - ')\n",
    "# dept_frm.mean()\n",
    "print('case01 - ')\n",
    "display( grp_frm['학점'].groupby(grp_frm['학과']).mean() )\n",
    "print()\n",
    "print('case02 - ')\n",
    "print( grp_frm.groupby(grp_frm['학과'])['학점'].mean() )\n",
    "print()\n",
    "print('case03 - ')\n",
    "print( grp_frm.groupby(grp_frm['학과']).mean()['학점'] )"
   ],
   "metadata": {
    "collapsed": false,
    "pycharm": {
     "name": "#%%\n"
    }
   }
  },
  {
   "cell_type": "code",
   "execution_count": 27,
   "outputs": [
    {
     "data": {
      "text/plain": "       학년    학점\n학과             \n데이터분석   8  11.6\n인공지능    4   7.2",
      "text/html": "<div>\n<style scoped>\n    .dataframe tbody tr th:only-of-type {\n        vertical-align: middle;\n    }\n\n    .dataframe tbody tr th {\n        vertical-align: top;\n    }\n\n    .dataframe thead th {\n        text-align: right;\n    }\n</style>\n<table border=\"1\" class=\"dataframe\">\n  <thead>\n    <tr style=\"text-align: right;\">\n      <th></th>\n      <th>학년</th>\n      <th>학점</th>\n    </tr>\n    <tr>\n      <th>학과</th>\n      <th></th>\n      <th></th>\n    </tr>\n  </thead>\n  <tbody>\n    <tr>\n      <th>데이터분석</th>\n      <td>8</td>\n      <td>11.6</td>\n    </tr>\n    <tr>\n      <th>인공지능</th>\n      <td>4</td>\n      <td>7.2</td>\n    </tr>\n  </tbody>\n</table>\n</div>"
     },
     "execution_count": 27,
     "metadata": {},
     "output_type": "execute_result"
    }
   ],
   "source": [
    "dept_frm.sum()"
   ],
   "metadata": {
    "collapsed": false,
    "pycharm": {
     "name": "#%%\n"
    }
   }
  },
  {
   "cell_type": "code",
   "execution_count": 28,
   "outputs": [
    {
     "data": {
      "text/plain": "             학년            학점      \n           mean sum      mean   sum\n학과                                 \n데이터분석  2.666667   8  3.866667  11.6\n인공지능   2.000000   4  3.600000   7.2",
      "text/html": "<div>\n<style scoped>\n    .dataframe tbody tr th:only-of-type {\n        vertical-align: middle;\n    }\n\n    .dataframe tbody tr th {\n        vertical-align: top;\n    }\n\n    .dataframe thead tr th {\n        text-align: left;\n    }\n\n    .dataframe thead tr:last-of-type th {\n        text-align: right;\n    }\n</style>\n<table border=\"1\" class=\"dataframe\">\n  <thead>\n    <tr>\n      <th></th>\n      <th colspan=\"2\" halign=\"left\">학년</th>\n      <th colspan=\"2\" halign=\"left\">학점</th>\n    </tr>\n    <tr>\n      <th></th>\n      <th>mean</th>\n      <th>sum</th>\n      <th>mean</th>\n      <th>sum</th>\n    </tr>\n    <tr>\n      <th>학과</th>\n      <th></th>\n      <th></th>\n      <th></th>\n      <th></th>\n    </tr>\n  </thead>\n  <tbody>\n    <tr>\n      <th>데이터분석</th>\n      <td>2.666667</td>\n      <td>8</td>\n      <td>3.866667</td>\n      <td>11.6</td>\n    </tr>\n    <tr>\n      <th>인공지능</th>\n      <td>2.000000</td>\n      <td>4</td>\n      <td>3.600000</td>\n      <td>7.2</td>\n    </tr>\n  </tbody>\n</table>\n</div>"
     },
     "execution_count": 28,
     "metadata": {},
     "output_type": "execute_result"
    }
   ],
   "source": [
    "dept_frm.agg( [np.mean , np.sum] )"
   ],
   "metadata": {
    "collapsed": false,
    "pycharm": {
     "name": "#%%\n"
    }
   }
  },
  {
   "cell_type": "code",
   "execution_count": 29,
   "outputs": [
    {
     "data": {
      "text/plain": "      학과  학년     이름   학점\n0   인공지능   1  Jason  2.7\n1  데이터분석   2   Kiki  3.5\n2   인공지능   3   Alan  4.5\n3  데이터분석   4     Zi  3.8\n4  데이터분석   2   Rosa  4.3",
      "text/html": "<div>\n<style scoped>\n    .dataframe tbody tr th:only-of-type {\n        vertical-align: middle;\n    }\n\n    .dataframe tbody tr th {\n        vertical-align: top;\n    }\n\n    .dataframe thead th {\n        text-align: right;\n    }\n</style>\n<table border=\"1\" class=\"dataframe\">\n  <thead>\n    <tr style=\"text-align: right;\">\n      <th></th>\n      <th>학과</th>\n      <th>학년</th>\n      <th>이름</th>\n      <th>학점</th>\n    </tr>\n  </thead>\n  <tbody>\n    <tr>\n      <th>0</th>\n      <td>인공지능</td>\n      <td>1</td>\n      <td>Jason</td>\n      <td>2.7</td>\n    </tr>\n    <tr>\n      <th>1</th>\n      <td>데이터분석</td>\n      <td>2</td>\n      <td>Kiki</td>\n      <td>3.5</td>\n    </tr>\n    <tr>\n      <th>2</th>\n      <td>인공지능</td>\n      <td>3</td>\n      <td>Alan</td>\n      <td>4.5</td>\n    </tr>\n    <tr>\n      <th>3</th>\n      <td>데이터분석</td>\n      <td>4</td>\n      <td>Zi</td>\n      <td>3.8</td>\n    </tr>\n    <tr>\n      <th>4</th>\n      <td>데이터분석</td>\n      <td>2</td>\n      <td>Rosa</td>\n      <td>4.3</td>\n    </tr>\n  </tbody>\n</table>\n</div>"
     },
     "execution_count": 29,
     "metadata": {},
     "output_type": "execute_result"
    }
   ],
   "source": [
    "grp_frm"
   ],
   "metadata": {
    "collapsed": false,
    "pycharm": {
     "name": "#%%\n"
    }
   }
  },
  {
   "cell_type": "code",
   "execution_count": 30,
   "outputs": [
    {
     "name": "stdout",
     "output_type": "stream",
     "text": [
      "다중 그룹 - \n",
      "그룹 정보 확인 - \n",
      "groups -  {('데이터분석', 2): [1, 4], ('데이터분석', 4): [3], ('인공지능', 1): [0], ('인공지능', 3): [2]}\n"
     ]
    }
   ],
   "source": [
    "print('다중 그룹 - ')\n",
    "\n",
    "multi_grp_frm = grp_frm.groupby(['학과' , '학년'])\n",
    "\n",
    "print('그룹 정보 확인 - ')\n",
    "print('groups - ' ,  multi_grp_frm.groups )"
   ],
   "metadata": {
    "collapsed": false,
    "pycharm": {
     "name": "#%%\n"
    }
   }
  },
  {
   "cell_type": "code",
   "execution_count": 31,
   "outputs": [
    {
     "data": {
      "text/plain": "  idx01 idx02  idx01_data01  idx02_data02\n0     A   one             1            10\n1     A   two             2            20\n2     B   one             3            30\n3     B   two             4            40\n4     A   one             5            50",
      "text/html": "<div>\n<style scoped>\n    .dataframe tbody tr th:only-of-type {\n        vertical-align: middle;\n    }\n\n    .dataframe tbody tr th {\n        vertical-align: top;\n    }\n\n    .dataframe thead th {\n        text-align: right;\n    }\n</style>\n<table border=\"1\" class=\"dataframe\">\n  <thead>\n    <tr style=\"text-align: right;\">\n      <th></th>\n      <th>idx01</th>\n      <th>idx02</th>\n      <th>idx01_data01</th>\n      <th>idx02_data02</th>\n    </tr>\n  </thead>\n  <tbody>\n    <tr>\n      <th>0</th>\n      <td>A</td>\n      <td>one</td>\n      <td>1</td>\n      <td>10</td>\n    </tr>\n    <tr>\n      <th>1</th>\n      <td>A</td>\n      <td>two</td>\n      <td>2</td>\n      <td>20</td>\n    </tr>\n    <tr>\n      <th>2</th>\n      <td>B</td>\n      <td>one</td>\n      <td>3</td>\n      <td>30</td>\n    </tr>\n    <tr>\n      <th>3</th>\n      <td>B</td>\n      <td>two</td>\n      <td>4</td>\n      <td>40</td>\n    </tr>\n    <tr>\n      <th>4</th>\n      <td>A</td>\n      <td>one</td>\n      <td>5</td>\n      <td>50</td>\n    </tr>\n  </tbody>\n</table>\n</div>"
     },
     "execution_count": 31,
     "metadata": {},
     "output_type": "execute_result"
    }
   ],
   "source": [
    "tmp_frm = pd.DataFrame({\n",
    "    'idx01' : ['A' , 'A' , 'B' , 'B' , 'A'] ,\n",
    "    'idx02' : ['one' , 'two' , 'one' , 'two' , 'one'] ,\n",
    "    'idx01_data01' : [1, 2, 3, 4, 5] ,\n",
    "    'idx02_data02' : [10, 20, 30, 40, 50] ,\n",
    "})\n",
    "\n",
    "tmp_frm\n"
   ],
   "metadata": {
    "collapsed": false,
    "pycharm": {
     "name": "#%%\n"
    }
   }
  },
  {
   "cell_type": "code",
   "execution_count": null,
   "outputs": [],
   "source": [],
   "metadata": {
    "collapsed": false,
    "pycharm": {
     "name": "#%%\n"
    }
   }
  },
  {
   "cell_type": "code",
   "execution_count": null,
   "outputs": [],
   "source": [],
   "metadata": {
    "collapsed": false,
    "pycharm": {
     "name": "#%%\n"
    }
   }
  }
 ],
 "metadata": {
  "kernelspec": {
   "display_name": "Python 3",
   "language": "python",
   "name": "python3"
  },
  "language_info": {
   "codemirror_mode": {
    "name": "ipython",
    "version": 2
   },
   "file_extension": ".py",
   "mimetype": "text/x-python",
   "name": "python",
   "nbconvert_exporter": "python",
   "pygments_lexer": "ipython2",
   "version": "2.7.6"
  }
 },
 "nbformat": 4,
 "nbformat_minor": 0
}