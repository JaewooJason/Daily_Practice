{
 "cells": [
  {
   "cell_type": "code",
   "execution_count": 2,
   "metadata": {
    "collapsed": true
   },
   "outputs": [
    {
     "data": {
      "text/plain": "'0.24.2'"
     },
     "execution_count": 2,
     "metadata": {},
     "output_type": "execute_result"
    }
   ],
   "source": [
    "import numpy  as np\n",
    "import pandas as pd\n",
    "\n",
    "# 시각화\n",
    "import matplotlib.pyplot as plt\n",
    "%matplotlib inline\n",
    "\n",
    "import seaborn as sns\n",
    "\n",
    "import json\n",
    "\n",
    "import warnings\n",
    "warnings.filterwarnings(action='ignore')\n",
    "\n",
    "from datetime import date, datetime, timedelta\n",
    "from dateutil.parser import parse\n",
    "\n",
    "\n",
    "# 한글 폰트 문제 해결\n",
    "import platform\n",
    "\n",
    "from matplotlib import font_manager, rc\n",
    "\n",
    "if platform.system() == 'Darwin':\n",
    "    plt.rc('font', family='AppleGothic')\n",
    "elif platform.system() == 'Windows':\n",
    "    path = \"c:/Windows/Fonts/malgun.ttf\"\n",
    "    font_name = font_manager.FontProperties(fname=path).get_name()\n",
    "    plt.rc('font', family=font_name)\n",
    "else:\n",
    "    print('Unknown system... sorry~~~~')\n",
    "\n",
    "\n",
    "# 차트 축 <- 음수 부호 지원\n",
    "import matplotlib\n",
    "matplotlib.rcParams['axes.unicode_minus'] = False\n",
    "\n",
    "\n",
    "# crawling\n",
    "from bs4 import BeautifulSoup\n",
    "from urllib.request import urlopen , urlretrieve\n",
    "from urllib.error   import HTTPError\n",
    "from urllib.error   import URLError\n",
    "\n",
    "import requests\n",
    "import re\n",
    "\n",
    "from selenium import webdriver\n",
    "\n",
    "from time    import sleep , time\n",
    "from random  import randint\n",
    "from IPython.core.display import clear_output\n",
    "\n",
    "# 비정형 디비\n",
    "# import pymongo as mongo\n",
    "\n",
    "# print('numpy version  - ' , np.__version__)\n",
    "# print('pandas version - ' , pd.__version__)\n",
    "\n",
    "# conda install -c conda-forge python-graphviz\n",
    "# pip install graphviz\n",
    "\n",
    "import graphviz\n",
    "import missingno as msno\n",
    "\n",
    "# ml\n",
    "import sklearn\n",
    "from   sklearn.datasets import load_iris , load_breast_cancer\n",
    "\n",
    "from   sklearn.model_selection import train_test_split , KFold , StratifiedKFold, cross_val_score , cross_validate , GridSearchCV\n",
    "from   sklearn.tree            import DecisionTreeClassifier , export_graphviz\n",
    "from   sklearn.metrics         import accuracy_score\n",
    "from   sklearn.preprocessing   import LabelEncoder , OneHotEncoder , MinMaxScaler , StandardScaler\n",
    "from   sklearn.impute          import SimpleImputer\n",
    "sklearn.__version__"
   ]
  },
  {
   "cell_type": "code",
   "execution_count": 3,
   "outputs": [
    {
     "data": {
      "text/plain": "{'mean_fit_time': array([0.0065403 , 0.00141978, 0.00109903, 0.00145928, 0.00132354,\n        0.00216333, 0.00130002, 0.00084527, 0.00072376, 0.00095908,\n        0.00205938, 0.00131361, 0.00188605, 0.00142678, 0.00249426,\n        0.00244697, 0.00224201, 0.00191379, 0.00226116, 0.00077931,\n        0.00135144, 0.00083598, 0.00088143, 0.00079799]),\n 'std_fit_time': array([7.71506530e-03, 2.83558651e-04, 5.86407393e-05, 4.60824335e-04,\n        3.09488765e-04, 8.03044513e-04, 5.35262023e-04, 2.07256046e-04,\n        3.73977019e-05, 3.69961382e-04, 7.51543022e-04, 3.33435541e-04,\n        8.82271087e-04, 4.77259621e-04, 1.02339112e-03, 6.56712174e-04,\n        1.14067615e-03, 3.37477604e-04, 2.20016231e-03, 1.41623356e-04,\n        5.64751711e-04, 1.49993438e-04, 2.14875949e-04, 1.45599007e-04]),\n 'mean_score_time': array([0.00072575, 0.00074792, 0.0009319 , 0.00164596, 0.00078456,\n        0.00079266, 0.00103728, 0.00041072, 0.00052794, 0.00048772,\n        0.00137631, 0.00115188, 0.00139117, 0.00162164, 0.00110936,\n        0.00089931, 0.00102552, 0.00161592, 0.00063276, 0.00052587,\n        0.0004727 , 0.00059398, 0.0012966 , 0.00057809]),\n 'std_score_time': array([5.89708969e-05, 5.08389070e-05, 3.79642857e-04, 1.30058644e-03,\n        1.21414816e-04, 2.14288866e-04, 6.11946676e-04, 4.12523091e-05,\n        1.44432778e-04, 1.37831556e-04, 9.24762662e-04, 8.41620338e-04,\n        7.06155128e-04, 8.65113115e-04, 6.19190018e-04, 4.56864912e-04,\n        3.31785950e-04, 1.01944796e-03, 1.77776506e-04, 1.09901282e-04,\n        9.37453714e-05, 8.70669339e-05, 1.21439196e-03, 1.39046121e-04]),\n 'param_criterion': masked_array(data=['gini', 'gini', 'gini', 'gini', 'gini', 'gini', 'gini',\n                    'gini', 'gini', 'gini', 'gini', 'gini', 'entropy',\n                    'entropy', 'entropy', 'entropy', 'entropy', 'entropy',\n                    'entropy', 'entropy', 'entropy', 'entropy', 'entropy',\n                    'entropy'],\n              mask=[False, False, False, False, False, False, False, False,\n                    False, False, False, False, False, False, False, False,\n                    False, False, False, False, False, False, False, False],\n        fill_value='?',\n             dtype=object),\n 'param_max_depth': masked_array(data=[1, 1, 1, 1, 2, 2, 2, 2, 3, 3, 3, 3, 1, 1, 1, 1, 2, 2,\n                    2, 2, 3, 3, 3, 3],\n              mask=[False, False, False, False, False, False, False, False,\n                    False, False, False, False, False, False, False, False,\n                    False, False, False, False, False, False, False, False],\n        fill_value='?',\n             dtype=object),\n 'param_min_samples_split': masked_array(data=[2, 2, 3, 3, 2, 2, 3, 3, 2, 2, 3, 3, 2, 2, 3, 3, 2, 2,\n                    3, 3, 2, 2, 3, 3],\n              mask=[False, False, False, False, False, False, False, False,\n                    False, False, False, False, False, False, False, False,\n                    False, False, False, False, False, False, False, False],\n        fill_value='?',\n             dtype=object),\n 'param_splitter': masked_array(data=['best', 'random', 'best', 'random', 'best', 'random',\n                    'best', 'random', 'best', 'random', 'best', 'random',\n                    'best', 'random', 'best', 'random', 'best', 'random',\n                    'best', 'random', 'best', 'random', 'best', 'random'],\n              mask=[False, False, False, False, False, False, False, False,\n                    False, False, False, False, False, False, False, False,\n                    False, False, False, False, False, False, False, False],\n        fill_value='?',\n             dtype=object),\n 'params': [{'criterion': 'gini',\n   'max_depth': 1,\n   'min_samples_split': 2,\n   'splitter': 'best'},\n  {'criterion': 'gini',\n   'max_depth': 1,\n   'min_samples_split': 2,\n   'splitter': 'random'},\n  {'criterion': 'gini',\n   'max_depth': 1,\n   'min_samples_split': 3,\n   'splitter': 'best'},\n  {'criterion': 'gini',\n   'max_depth': 1,\n   'min_samples_split': 3,\n   'splitter': 'random'},\n  {'criterion': 'gini',\n   'max_depth': 2,\n   'min_samples_split': 2,\n   'splitter': 'best'},\n  {'criterion': 'gini',\n   'max_depth': 2,\n   'min_samples_split': 2,\n   'splitter': 'random'},\n  {'criterion': 'gini',\n   'max_depth': 2,\n   'min_samples_split': 3,\n   'splitter': 'best'},\n  {'criterion': 'gini',\n   'max_depth': 2,\n   'min_samples_split': 3,\n   'splitter': 'random'},\n  {'criterion': 'gini',\n   'max_depth': 3,\n   'min_samples_split': 2,\n   'splitter': 'best'},\n  {'criterion': 'gini',\n   'max_depth': 3,\n   'min_samples_split': 2,\n   'splitter': 'random'},\n  {'criterion': 'gini',\n   'max_depth': 3,\n   'min_samples_split': 3,\n   'splitter': 'best'},\n  {'criterion': 'gini',\n   'max_depth': 3,\n   'min_samples_split': 3,\n   'splitter': 'random'},\n  {'criterion': 'entropy',\n   'max_depth': 1,\n   'min_samples_split': 2,\n   'splitter': 'best'},\n  {'criterion': 'entropy',\n   'max_depth': 1,\n   'min_samples_split': 2,\n   'splitter': 'random'},\n  {'criterion': 'entropy',\n   'max_depth': 1,\n   'min_samples_split': 3,\n   'splitter': 'best'},\n  {'criterion': 'entropy',\n   'max_depth': 1,\n   'min_samples_split': 3,\n   'splitter': 'random'},\n  {'criterion': 'entropy',\n   'max_depth': 2,\n   'min_samples_split': 2,\n   'splitter': 'best'},\n  {'criterion': 'entropy',\n   'max_depth': 2,\n   'min_samples_split': 2,\n   'splitter': 'random'},\n  {'criterion': 'entropy',\n   'max_depth': 2,\n   'min_samples_split': 3,\n   'splitter': 'best'},\n  {'criterion': 'entropy',\n   'max_depth': 2,\n   'min_samples_split': 3,\n   'splitter': 'random'},\n  {'criterion': 'entropy',\n   'max_depth': 3,\n   'min_samples_split': 2,\n   'splitter': 'best'},\n  {'criterion': 'entropy',\n   'max_depth': 3,\n   'min_samples_split': 2,\n   'splitter': 'random'},\n  {'criterion': 'entropy',\n   'max_depth': 3,\n   'min_samples_split': 3,\n   'splitter': 'best'},\n  {'criterion': 'entropy',\n   'max_depth': 3,\n   'min_samples_split': 3,\n   'splitter': 'random'}],\n 'split0_test_score': array([0.65 , 0.45 , 0.65 , 0.65 , 0.875, 0.975, 0.875, 0.725, 0.95 ,\n        0.95 , 0.95 , 0.95 , 0.65 , 0.65 , 0.65 , 0.6  , 0.875, 0.65 ,\n        0.875, 0.85 , 0.95 , 0.95 , 0.95 , 0.95 ]),\n 'split1_test_score': array([0.65 , 0.675, 0.65 , 0.475, 0.95 , 0.975, 0.95 , 1.   , 0.95 ,\n        0.925, 0.95 , 1.   , 0.65 , 0.675, 0.65 , 0.625, 0.95 , 0.975,\n        0.95 , 0.9  , 0.95 , 0.675, 0.95 , 0.875]),\n 'split2_test_score': array([0.65 , 0.65 , 0.65 , 0.65 , 0.9  , 0.925, 0.9  , 0.8  , 0.95 ,\n        0.9  , 0.95 , 0.9  , 0.65 , 0.625, 0.65 , 0.65 , 0.9  , 0.875,\n        0.9  , 0.775, 0.95 , 0.875, 0.95 , 0.925]),\n 'mean_test_score': array([0.65      , 0.59166667, 0.65      , 0.59166667, 0.90833333,\n        0.95833333, 0.90833333, 0.84166667, 0.95      , 0.925     ,\n        0.95      , 0.95      , 0.65      , 0.65      , 0.65      ,\n        0.625     , 0.90833333, 0.83333333, 0.90833333, 0.84166667,\n        0.95      , 0.83333333, 0.95      , 0.91666667]),\n 'std_test_score': array([0.00000000e+00, 1.00692050e-01, 0.00000000e+00, 8.24957911e-02,\n        3.11804782e-02, 2.35702260e-02, 3.11804782e-02, 1.16069902e-01,\n        1.11022302e-16, 2.04124145e-02, 1.11022302e-16, 4.08248290e-02,\n        0.00000000e+00, 2.04124145e-02, 0.00000000e+00, 2.04124145e-02,\n        3.11804782e-02, 1.35912554e-01, 3.11804782e-02, 5.13701167e-02,\n        1.11022302e-16, 1.16069902e-01, 1.11022302e-16, 3.11804782e-02]),\n 'rank_test_score': array([17, 23, 17, 23,  9,  1,  9, 13,  3,  7,  3,  2, 17, 17, 17, 22,  9,\n        15,  9, 14,  3, 15,  3,  8], dtype=int32)}"
     },
     "execution_count": 3,
     "metadata": {},
     "output_type": "execute_result"
    }
   ],
   "source": [
    "params = {\n",
    "    'criterion' : ['gini', 'entropy'],\n",
    "    'splitter'  : ['best', 'random'],\n",
    "    'max_depth' : [1, 2, 3],\n",
    "    'min_samples_split' : [2, 3]\n",
    "}\n",
    "iris = load_iris()\n",
    "X_train, X_test, y_train, y_test = train_test_split(iris.data,\n",
    "                                                    iris.target,\n",
    "                                                    test_size= 0.2,\n",
    "                                                    shuffle=True,\n",
    "                                                    random_state=200)\n",
    "dt_model = DecisionTreeClassifier()\n",
    "grid_tree_model = GridSearchCV(dt_model, param_grid = params, cv =3, refit = True)\n",
    "grid_tree_model.fit(X_train,y_train)\n",
    "grid_tree_model.cv_results_"
   ],
   "metadata": {
    "collapsed": false,
    "pycharm": {
     "name": "#%%\n"
    }
   }
  },
  {
   "cell_type": "code",
   "execution_count": 4,
   "outputs": [
    {
     "name": "stdout",
     "output_type": "stream",
     "text": [
      "최적의 파라미터 -  {'criterion': 'gini', 'max_depth': 2, 'min_samples_split': 2, 'splitter': 'random'}\n",
      "최고 점수 -  0.9583333333333334\n"
     ]
    }
   ],
   "source": [
    "print('최적의 파라미터 - ', grid_tree_model.best_params_)\n",
    "print('최고 점수 - ', grid_tree_model.best_score_)"
   ],
   "metadata": {
    "collapsed": false,
    "pycharm": {
     "name": "#%%\n"
    }
   }
  },
  {
   "cell_type": "code",
   "execution_count": 5,
   "outputs": [
    {
     "name": "stdout",
     "output_type": "stream",
     "text": [
      "GridSearchCV 테스트 정확도 -  0.8333333333333334\n",
      "answer -  [1 2 0 0 1 2 1 1 1 2 2 0 0 0 2 0 1 0 1 2 0 1 2 0 0 0 1 2 2 1]\n",
      "prediction -  [1 2 0 0 1 2 1 1 1 2 1 0 0 0 1 0 1 0 1 1 0 1 1 0 0 0 1 2 1 1]\n"
     ]
    }
   ],
   "source": [
    "estimator = grid_tree_model.best_estimator_\n",
    "estimator\n",
    "\n",
    "y_pred = estimator.predict(X_test)\n",
    "\n",
    "print('GridSearchCV 테스트 정확도 - ' , accuracy_score(y_test , y_pred))\n",
    "\n",
    "print('answer - ' , y_test)\n",
    "\n",
    "print('prediction - ' , y_pred)\n"
   ],
   "metadata": {
    "collapsed": false,
    "pycharm": {
     "name": "#%%\n"
    }
   }
  },
  {
   "cell_type": "code",
   "execution_count": 6,
   "outputs": [
    {
     "name": "stdout",
     "output_type": "stream",
     "text": [
      "피처의 중요도를 시각화 - \n",
      "트리 분류 형성에 각 피처가 얼마나 잘 작용했는지를 평가하는 지표\n",
      "해당 지표는 0 ~ 1 사이의 값을 가지며 , 0이면 특성이 전혀 고려되지 않을 것 - \n",
      "특성의 중요도의 합은 1 이다\n",
      "feature importance -  [0. 0. 1. 0.]\n"
     ]
    }
   ],
   "source": [
    "print('피처의 중요도를 시각화 - ')\n",
    "print('트리 분류 형성에 각 피처가 얼마나 잘 작용했는지를 평가하는 지표')\n",
    "print('해당 지표는 0 ~ 1 사이의 값을 가지며 , 0이면 특성이 전혀 고려되지 않을 것 - ')\n",
    "print('특성의 중요도의 합은 1 이다')\n",
    "\n",
    "\n",
    "print('feature importance - ' , estimator.feature_importances_)\n"
   ],
   "metadata": {
    "collapsed": false,
    "pycharm": {
     "name": "#%%\n"
    }
   }
  },
  {
   "cell_type": "code",
   "execution_count": 7,
   "outputs": [
    {
     "data": {
      "text/plain": "<Figure size 432x288 with 1 Axes>",
      "image/png": "[encoded data removed]"
     },
     "metadata": {
      "needs_background": "light"
     },
     "output_type": "display_data"
    },
    {
     "name": "stdout",
     "output_type": "stream",
     "text": [
      "****************************************************************************************************\n",
      "sepal length (cm) \t 0.0\n",
      "sepal width (cm) \t 0.0\n",
      "petal length (cm) \t 1.0\n",
      "petal width (cm) \t 0.0\n"
     ]
    }
   ],
   "source": [
    "sns.barplot(x= estimator.feature_importances_, y = iris.feature_names)\n",
    "\n",
    "plt.show()\n",
    "plt.close()\n",
    "\n",
    "print('*'*100)\n",
    "for name, value in zip(iris.feature_names, estimator.feature_importances_):\n",
    "    print(name, '\\t', value)"
   ],
   "metadata": {
    "collapsed": false,
    "pycharm": {
     "name": "#%%\n"
    }
   }
  },
  {
   "cell_type": "code",
   "execution_count": 8,
   "outputs": [
    {
     "data": {
      "text/plain": "dict_keys(['data', 'target', 'frame', 'target_names', 'DESCR', 'feature_names', 'filename'])"
     },
     "execution_count": 8,
     "metadata": {},
     "output_type": "execute_result"
    }
   ],
   "source": [
    "cancer = load_breast_cancer()\n",
    "cancer.keys()"
   ],
   "metadata": {
    "collapsed": false,
    "pycharm": {
     "name": "#%%\n"
    }
   }
  },
  {
   "cell_type": "code",
   "execution_count": 9,
   "outputs": [],
   "source": [
    "cancer_frm = pd.DataFrame(data = cancer.data,\n",
    "                         columns = cancer.feature_names,\n",
    "                         )\n",
    "cancer_frm['target'] = cancer.target"
   ],
   "metadata": {
    "collapsed": false,
    "pycharm": {
     "name": "#%%\n"
    }
   }
  },
  {
   "cell_type": "code",
   "execution_count": 10,
   "outputs": [
    {
     "data": {
      "text/plain": "     mean radius  mean texture  mean perimeter  mean area  mean smoothness  \\\n0          17.99         10.38          122.80     1001.0          0.11840   \n1          20.57         17.77          132.90     1326.0          0.08474   \n2          19.69         21.25          130.00     1203.0          0.10960   \n3          11.42         20.38           77.58      386.1          0.14250   \n4          20.29         14.34          135.10     1297.0          0.10030   \n..           ...           ...             ...        ...              ...   \n564        21.56         22.39          142.00     1479.0          0.11100   \n565        20.13         28.25          131.20     1261.0          0.09780   \n566        16.60         28.08          108.30      858.1          0.08455   \n567        20.60         29.33          140.10     1265.0          0.11780   \n568         7.76         24.54           47.92      181.0          0.05263   \n\n     mean compactness  mean concavity  mean concave points  mean symmetry  \\\n0             0.27760         0.30010              0.14710         0.2419   \n1             0.07864         0.08690              0.07017         0.1812   \n2             0.15990         0.19740              0.12790         0.2069   \n3             0.28390         0.24140              0.10520         0.2597   \n4             0.13280         0.19800              0.10430         0.1809   \n..                ...             ...                  ...            ...   \n564           0.11590         0.24390              0.13890         0.1726   \n565           0.10340         0.14400              0.09791         0.1752   \n566           0.10230         0.09251              0.05302         0.1590   \n567           0.27700         0.35140              0.15200         0.2397   \n568           0.04362         0.00000              0.00000         0.1587   \n\n     mean fractal dimension  ...  worst texture  worst perimeter  worst area  \\\n0                   0.07871  ...          17.33           184.60      2019.0   \n1                   0.05667  ...          23.41           158.80      1956.0   \n2                   0.05999  ...          25.53           152.50      1709.0   \n3                   0.09744  ...          26.50            98.87       567.7   \n4                   0.05883  ...          16.67           152.20      1575.0   \n..                      ...  ...            ...              ...         ...   \n564                 0.05623  ...          26.40           166.10      2027.0   \n565                 0.05533  ...          38.25           155.00      1731.0   \n566                 0.05648  ...          34.12           126.70      1124.0   \n567                 0.07016  ...          39.42           184.60      1821.0   \n568                 0.05884  ...          30.37            59.16       268.6   \n\n     worst smoothness  worst compactness  worst concavity  \\\n0             0.16220            0.66560           0.7119   \n1             0.12380            0.18660           0.2416   \n2             0.14440            0.42450           0.4504   \n3             0.20980            0.86630           0.6869   \n4             0.13740            0.20500           0.4000   \n..                ...                ...              ...   \n564           0.14100            0.21130           0.4107   \n565           0.11660            0.19220           0.3215   \n566           0.11390            0.30940           0.3403   \n567           0.16500            0.86810           0.9387   \n568           0.08996            0.06444           0.0000   \n\n     worst concave points  worst symmetry  worst fractal dimension  target  \n0                  0.2654          0.4601                  0.11890       0  \n1                  0.1860          0.2750                  0.08902       0  \n2                  0.2430          0.3613                  0.08758       0  \n3                  0.2575          0.6638                  0.17300       0  \n4                  0.1625          0.2364                  0.07678       0  \n..                    ...             ...                      ...     ...  \n564                0.2216          0.2060                  0.07115       0  \n565                0.1628          0.2572                  0.06637       0  \n566                0.1418          0.2218                  0.07820       0  \n567                0.2650          0.4087                  0.12400       0  \n568                0.0000          0.2871                  0.07039       1  \n\n[569 rows x 31 columns]",
      "text/html": "<div>\n<style scoped>\n    .dataframe tbody tr th:only-of-type {\n        vertical-align: middle;\n    }\n\n    .dataframe tbody tr th {\n        vertical-align: top;\n    }\n\n    .dataframe thead th {\n        text-align: right;\n    }\n</style>\n<table border=\"1\" class=\"dataframe\">\n  <thead>\n    <tr style=\"text-align: right;\">\n      <th></th>\n      <th>mean radius</th>\n      <th>mean texture</th>\n      <th>mean perimeter</th>\n      <th>mean area</th>\n      <th>mean smoothness</th>\n      <th>mean compactness</th>\n      <th>mean concavity</th>\n      <th>mean concave points</th>\n      <th>mean symmetry</th>\n      <th>mean fractal dimension</th>\n      <th>...</th>\n      <th>worst texture</th>\n      <th>worst perimeter</th>\n      <th>worst area</th>\n      <th>worst smoothness</th>\n      <th>worst compactness</th>\n      <th>worst concavity</th>\n      <th>worst concave points</th>\n      <th>worst symmetry</th>\n      <th>worst fractal dimension</th>\n      <th>target</th>\n    </tr>\n  </thead>\n  <tbody>\n    <tr>\n      <th>0</th>\n      <td>17.99</td>\n      <td>10.38</td>\n      <td>122.80</td>\n      <td>1001.0</td>\n      <td>0.11840</td>\n      <td>0.27760</td>\n      <td>0.30010</td>\n      <td>0.14710</td>\n      <td>0.2419</td>\n      <td>0.07871</td>\n      <td>...</td>\n      <td>17.33</td>\n      <td>184.60</td>\n      <td>2019.0</td>\n      <td>0.16220</td>\n      <td>0.66560</td>\n      <td>0.7119</td>\n      <td>0.2654</td>\n      <td>0.4601</td>\n      <td>0.11890</td>\n      <td>0</td>\n    </tr>\n    <tr>\n      <th>1</th>\n      <td>20.57</td>\n      <td>17.77</td>\n      <td>132.90</td>\n      <td>1326.0</td>\n      <td>0.08474</td>\n      <td>0.07864</td>\n      <td>0.08690</td>\n      <td>0.07017</td>\n      <td>0.1812</td>\n      <td>0.05667</td>\n      <td>...</td>\n      <td>23.41</td>\n      <td>158.80</td>\n      <td>1956.0</td>\n      <td>0.12380</td>\n      <td>0.18660</td>\n      <td>0.2416</td>\n      <td>0.1860</td>\n      <td>0.2750</td>\n      <td>0.08902</td>\n      <td>0</td>\n    </tr>\n    <tr>\n      <th>2</th>\n      <td>19.69</td>\n      <td>21.25</td>\n      <td>130.00</td>\n      <td>1203.0</td>\n      <td>0.10960</td>\n      <td>0.15990</td>\n      <td>0.19740</td>\n      <td>0.12790</td>\n      <td>0.2069</td>\n      <td>0.05999</td>\n      <td>...</td>\n      <td>25.53</td>\n      <td>152.50</td>\n      <td>1709.0</td>\n      <td>0.14440</td>\n      <td>0.42450</td>\n      <td>0.4504</td>\n      <td>0.2430</td>\n      <td>0.3613</td>\n      <td>0.08758</td>\n      <td>0</td>\n    </tr>\n    <tr>\n      <th>3</th>\n      <td>11.42</td>\n      <td>20.38</td>\n      <td>77.58</td>\n      <td>386.1</td>\n      <td>0.14250</td>\n      <td>0.28390</td>\n      <td>0.24140</td>\n      <td>0.10520</td>\n      <td>0.2597</td>\n      <td>0.09744</td>\n      <td>...</td>\n      <td>26.50</td>\n      <td>98.87</td>\n      <td>567.7</td>\n      <td>0.20980</td>\n      <td>0.86630</td>\n      <td>0.6869</td>\n      <td>0.2575</td>\n      <td>0.6638</td>\n      <td>0.17300</td>\n      <td>0</td>\n    </tr>\n    <tr>\n      <th>4</th>\n      <td>20.29</td>\n      <td>14.34</td>\n      <td>135.10</td>\n      <td>1297.0</td>\n      <td>0.10030</td>\n      <td>0.13280</td>\n      <td>0.19800</td>\n      <td>0.10430</td>\n      <td>0.1809</td>\n      <td>0.05883</td>\n      <td>...</td>\n      <td>16.67</td>\n      <td>152.20</td>\n      <td>1575.0</td>\n      <td>0.13740</td>\n      <td>0.20500</td>\n      <td>0.4000</td>\n      <td>0.1625</td>\n      <td>0.2364</td>\n      <td>0.07678</td>\n      <td>0</td>\n    </tr>\n    <tr>\n      <th>...</th>\n      <td>...</td>\n      <td>...</td>\n      <td>...</td>\n      <td>...</td>\n      <td>...</td>\n      <td>...</td>\n      <td>...</td>\n      <td>...</td>\n      <td>...</td>\n      <td>...</td>\n      <td>...</td>\n      <td>...</td>\n      <td>...</td>\n      <td>...</td>\n      <td>...</td>\n      <td>...</td>\n      <td>...</td>\n      <td>...</td>\n      <td>...</td>\n      <td>...</td>\n      <td>...</td>\n    </tr>\n    <tr>\n      <th>564</th>\n      <td>21.56</td>\n      <td>22.39</td>\n      <td>142.00</td>\n      <td>1479.0</td>\n      <td>0.11100</td>\n      <td>0.11590</td>\n      <td>0.24390</td>\n      <td>0.13890</td>\n      <td>0.1726</td>\n      <td>0.05623</td>\n      <td>...</td>\n      <td>26.40</td>\n      <td>166.10</td>\n      <td>2027.0</td>\n      <td>0.14100</td>\n      <td>0.21130</td>\n      <td>0.4107</td>\n      <td>0.2216</td>\n      <td>0.2060</td>\n      <td>0.07115</td>\n      <td>0</td>\n    </tr>\n    <tr>\n      <th>565</th>\n      <td>20.13</td>\n      <td>28.25</td>\n      <td>131.20</td>\n      <td>1261.0</td>\n      <td>0.09780</td>\n      <td>0.10340</td>\n      <td>0.14400</td>\n      <td>0.09791</td>\n      <td>0.1752</td>\n      <td>0.05533</td>\n      <td>...</td>\n      <td>38.25</td>\n      <td>155.00</td>\n      <td>1731.0</td>\n      <td>0.11660</td>\n      <td>0.19220</td>\n      <td>0.3215</td>\n      <td>0.1628</td>\n      <td>0.2572</td>\n      <td>0.06637</td>\n      <td>0</td>\n    </tr>\n    <tr>\n      <th>566</th>\n      <td>16.60</td>\n      <td>28.08</td>\n      <td>108.30</td>\n      <td>858.1</td>\n      <td>0.08455</td>\n      <td>0.10230</td>\n      <td>0.09251</td>\n      <td>0.05302</td>\n      <td>0.1590</td>\n      <td>0.05648</td>\n      <td>...</td>\n      <td>34.12</td>\n      <td>126.70</td>\n      <td>1124.0</td>\n      <td>0.11390</td>\n      <td>0.30940</td>\n      <td>0.3403</td>\n      <td>0.1418</td>\n      <td>0.2218</td>\n      <td>0.07820</td>\n      <td>0</td>\n    </tr>\n    <tr>\n      <th>567</th>\n      <td>20.60</td>\n      <td>29.33</td>\n      <td>140.10</td>\n      <td>1265.0</td>\n      <td>0.11780</td>\n      <td>0.27700</td>\n      <td>0.35140</td>\n      <td>0.15200</td>\n      <td>0.2397</td>\n      <td>0.07016</td>\n      <td>...</td>\n      <td>39.42</td>\n      <td>184.60</td>\n      <td>1821.0</td>\n      <td>0.16500</td>\n      <td>0.86810</td>\n      <td>0.9387</td>\n      <td>0.2650</td>\n      <td>0.4087</td>\n      <td>0.12400</td>\n      <td>0</td>\n    </tr>\n    <tr>\n      <th>568</th>\n      <td>7.76</td>\n      <td>24.54</td>\n      <td>47.92</td>\n      <td>181.0</td>\n      <td>0.05263</td>\n      <td>0.04362</td>\n      <td>0.00000</td>\n      <td>0.00000</td>\n      <td>0.1587</td>\n      <td>0.05884</td>\n      <td>...</td>\n      <td>30.37</td>\n      <td>59.16</td>\n      <td>268.6</td>\n      <td>0.08996</td>\n      <td>0.06444</td>\n      <td>0.0000</td>\n      <td>0.0000</td>\n      <td>0.2871</td>\n      <td>0.07039</td>\n      <td>1</td>\n    </tr>\n  </tbody>\n</table>\n<p>569 rows × 31 columns</p>\n</div>"
     },
     "execution_count": 10,
     "metadata": {},
     "output_type": "execute_result"
    }
   ],
   "source": [
    "cancer_frm"
   ],
   "metadata": {
    "collapsed": false,
    "pycharm": {
     "name": "#%%\n"
    }
   }
  },
  {
   "cell_type": "code",
   "execution_count": 11,
   "outputs": [
    {
     "name": "stdout",
     "output_type": "stream",
     "text": [
      "DecisionTree Estimator - \n",
      "train , test : 7 , 3\n",
      "학습 - 예측 fit , predict\n",
      "모델 정확도 평가 - accuracy_score\n",
      "\n"
     ]
    }
   ],
   "source": [
    "print('DecisionTree Estimator - ')\n",
    "print('train , test : 7 , 3')\n",
    "print('학습 - 예측 fit , predict')\n",
    "print('모델 정확도 평가 - accuracy_score')\n",
    "print()"
   ],
   "metadata": {
    "collapsed": false,
    "pycharm": {
     "name": "#%%\n"
    }
   }
  },
  {
   "cell_type": "code",
   "execution_count": 12,
   "outputs": [
    {
     "data": {
      "text/plain": "((398, 30), (171, 30), (398,), (171,))"
     },
     "execution_count": 12,
     "metadata": {},
     "output_type": "execute_result"
    }
   ],
   "source": [
    "X_train, X_test, y_train, y_test = train_test_split(cancer.data,\n",
    "                                                    cancer.target,\n",
    "                                                    test_size=0.3,\n",
    "                                                    shuffle= True,\n",
    "                                                    random_state=200)\n",
    "X_train.shape, X_test.shape, y_train.shape, y_test.shape"
   ],
   "metadata": {
    "collapsed": false,
    "pycharm": {
     "name": "#%%\n"
    }
   }
  },
  {
   "cell_type": "code",
   "execution_count": 13,
   "outputs": [
    {
     "name": "stdout",
     "output_type": "stream",
     "text": [
      "****************************************************************************************************\n",
      "answer -  [1 0 1 1 1 1 1 1 0 0 0 0 1 0 1 1 0 1 1 0 0 1 1 0 0 1 1 0 1 0 1 1 0 1 0 0 1\n",
      " 1 1 0 1 1 0 1 0 1 0 0 1 0 1 1 0 0 1 1 0 1 1 1 1 1 1 1 1 0 1 1 1 0 1 1 1 1\n",
      " 0 1 1 0 0 1 1 1 1 0 1 0 1 1 0 0 1 1 0 1 1 1 1 1 1 0 1 1 1 1 1 1 1 0 1 1 1\n",
      " 1 0 1 1 1 1 1 0 1 1 1 1 0 1 1 0 0 1 1 1 1 1 1 1 1 1 1 0 1 1 0 0 0 1 1 1 1\n",
      " 1 1 0 0 1 1 1 0 1 0 0 0 1 1 1 1 1 1 1 0 1 0 0]\n",
      "pred -  [1 1 1 1 1 1 1 0 0 0 1 0 1 0 1 1 0 1 0 0 0 0 0 0 0 1 1 1 1 0 1 1 0 1 0 0 1\n",
      " 1 1 0 1 1 1 1 0 1 0 0 1 0 1 1 0 0 1 1 0 1 1 1 1 1 1 1 1 0 1 1 1 0 1 1 1 1\n",
      " 0 1 1 0 0 1 1 1 0 0 1 1 1 0 0 1 1 1 0 1 1 1 1 1 1 0 1 1 0 1 1 1 1 0 1 1 1\n",
      " 1 0 1 1 1 1 1 0 1 1 1 1 0 1 1 0 0 1 1 1 1 1 1 1 1 1 1 0 1 1 0 0 0 1 1 1 1\n",
      " 1 1 0 0 1 1 1 0 1 0 0 0 1 1 1 1 1 1 1 0 0 0 0]\n"
     ]
    }
   ],
   "source": [
    "cancer_model = DecisionTreeClassifier()\n",
    "cancer_model.fit(X_train, y_train)\n",
    "y_pred = cancer_model.predict(X_test)\n",
    "print('*'*100)\n",
    "print('answer - ', y_test)\n",
    "print('pred - ', y_pred)"
   ],
   "metadata": {
    "collapsed": false,
    "pycharm": {
     "name": "#%%\n"
    }
   }
  },
  {
   "cell_type": "code",
   "execution_count": 14,
   "outputs": [
    {
     "name": "stdout",
     "output_type": "stream",
     "text": [
      "예측 정확도 -  0.9181286549707602\n"
     ]
    }
   ],
   "source": [
    "print('예측 정확도 - ', accuracy_score(y_test, y_pred))"
   ],
   "metadata": {
    "collapsed": false,
    "pycharm": {
     "name": "#%%\n"
    }
   }
  },
  {
   "cell_type": "code",
   "execution_count": 15,
   "outputs": [
    {
     "name": "stdout",
     "output_type": "stream",
     "text": [
      "graphvis 트리 시각화 - \n"
     ]
    },
    {
     "data": {
      "text/plain": "{'mean_fit_time': array([0.00458487, 0.00087833, 0.00231608, 0.00150156, 0.00477616,\n        0.00334104, 0.00354067, 0.00150498, 0.00418742, 0.00131202,\n        0.00439962, 0.00306551, 0.00350467, 0.00121633, 0.00310127,\n        0.00138958, 0.00592057, 0.00196775, 0.00411201, 0.0014418 ,\n        0.00545311, 0.00276995, 0.00662891, 0.00190425]),\n 'std_fit_time': array([2.16605781e-03, 1.21532843e-04, 1.28988099e-04, 2.07732600e-04,\n        7.75681265e-04, 9.41122551e-04, 5.31140708e-04, 1.40885993e-04,\n        9.00813468e-04, 4.20577402e-05, 6.92046368e-04, 2.06873831e-03,\n        1.17169213e-03, 2.36329169e-04, 1.79165847e-04, 3.33036668e-04,\n        8.86697839e-04, 6.61668341e-04, 6.96199098e-04, 2.25612545e-04,\n        1.33890886e-03, 6.58012242e-05, 8.34627915e-04, 7.72228098e-04]),\n 'mean_score_time': array([0.00119448, 0.0005842 , 0.00144275, 0.00087269, 0.00094446,\n        0.00076636, 0.00090361, 0.0009408 , 0.00071764, 0.00080196,\n        0.00076214, 0.00087309, 0.00092864, 0.00080307, 0.00092061,\n        0.00055766, 0.0014058 , 0.00083526, 0.00067806, 0.00093492,\n        0.00110269, 0.0011216 , 0.00098801, 0.00149504]),\n 'std_score_time': array([6.29647804e-04, 1.02834502e-04, 4.92165917e-04, 1.82327126e-04,\n        6.21016202e-05, 9.87959209e-05, 4.14099099e-04, 8.05744280e-05,\n        1.57246527e-04, 9.72797147e-05, 1.60450842e-04, 9.88712007e-05,\n        1.87922647e-05, 2.01826299e-04, 2.11148276e-04, 1.30077092e-04,\n        7.20737888e-04, 4.12702185e-05, 1.28671100e-04, 1.37526308e-04,\n        1.61762862e-04, 3.72880475e-04, 6.80093611e-05, 6.86586627e-04]),\n 'param_criterion': masked_array(data=['gini', 'gini', 'gini', 'gini', 'gini', 'gini', 'gini',\n                    'gini', 'gini', 'gini', 'gini', 'gini', 'entropy',\n                    'entropy', 'entropy', 'entropy', 'entropy', 'entropy',\n                    'entropy', 'entropy', 'entropy', 'entropy', 'entropy',\n                    'entropy'],\n              mask=[False, False, False, False, False, False, False, False,\n                    False, False, False, False, False, False, False, False,\n                    False, False, False, False, False, False, False, False],\n        fill_value='?',\n             dtype=object),\n 'param_max_depth': masked_array(data=[1, 1, 1, 1, 2, 2, 2, 2, 3, 3, 3, 3, 1, 1, 1, 1, 2, 2,\n                    2, 2, 3, 3, 3, 3],\n              mask=[False, False, False, False, False, False, False, False,\n                    False, False, False, False, False, False, False, False,\n                    False, False, False, False, False, False, False, False],\n        fill_value='?',\n             dtype=object),\n 'param_min_samples_split': masked_array(data=[2, 2, 3, 3, 2, 2, 3, 3, 2, 2, 3, 3, 2, 2, 3, 3, 2, 2,\n                    3, 3, 2, 2, 3, 3],\n              mask=[False, False, False, False, False, False, False, False,\n                    False, False, False, False, False, False, False, False,\n                    False, False, False, False, False, False, False, False],\n        fill_value='?',\n             dtype=object),\n 'param_splitter': masked_array(data=['best', 'random', 'best', 'random', 'best', 'random',\n                    'best', 'random', 'best', 'random', 'best', 'random',\n                    'best', 'random', 'best', 'random', 'best', 'random',\n                    'best', 'random', 'best', 'random', 'best', 'random'],\n              mask=[False, False, False, False, False, False, False, False,\n                    False, False, False, False, False, False, False, False,\n                    False, False, False, False, False, False, False, False],\n        fill_value='?',\n             dtype=object),\n 'params': [{'criterion': 'gini',\n   'max_depth': 1,\n   'min_samples_split': 2,\n   'splitter': 'best'},\n  {'criterion': 'gini',\n   'max_depth': 1,\n   'min_samples_split': 2,\n   'splitter': 'random'},\n  {'criterion': 'gini',\n   'max_depth': 1,\n   'min_samples_split': 3,\n   'splitter': 'best'},\n  {'criterion': 'gini',\n   'max_depth': 1,\n   'min_samples_split': 3,\n   'splitter': 'random'},\n  {'criterion': 'gini',\n   'max_depth': 2,\n   'min_samples_split': 2,\n   'splitter': 'best'},\n  {'criterion': 'gini',\n   'max_depth': 2,\n   'min_samples_split': 2,\n   'splitter': 'random'},\n  {'criterion': 'gini',\n   'max_depth': 2,\n   'min_samples_split': 3,\n   'splitter': 'best'},\n  {'criterion': 'gini',\n   'max_depth': 2,\n   'min_samples_split': 3,\n   'splitter': 'random'},\n  {'criterion': 'gini',\n   'max_depth': 3,\n   'min_samples_split': 2,\n   'splitter': 'best'},\n  {'criterion': 'gini',\n   'max_depth': 3,\n   'min_samples_split': 2,\n   'splitter': 'random'},\n  {'criterion': 'gini',\n   'max_depth': 3,\n   'min_samples_split': 3,\n   'splitter': 'best'},\n  {'criterion': 'gini',\n   'max_depth': 3,\n   'min_samples_split': 3,\n   'splitter': 'random'},\n  {'criterion': 'entropy',\n   'max_depth': 1,\n   'min_samples_split': 2,\n   'splitter': 'best'},\n  {'criterion': 'entropy',\n   'max_depth': 1,\n   'min_samples_split': 2,\n   'splitter': 'random'},\n  {'criterion': 'entropy',\n   'max_depth': 1,\n   'min_samples_split': 3,\n   'splitter': 'best'},\n  {'criterion': 'entropy',\n   'max_depth': 1,\n   'min_samples_split': 3,\n   'splitter': 'random'},\n  {'criterion': 'entropy',\n   'max_depth': 2,\n   'min_samples_split': 2,\n   'splitter': 'best'},\n  {'criterion': 'entropy',\n   'max_depth': 2,\n   'min_samples_split': 2,\n   'splitter': 'random'},\n  {'criterion': 'entropy',\n   'max_depth': 2,\n   'min_samples_split': 3,\n   'splitter': 'best'},\n  {'criterion': 'entropy',\n   'max_depth': 2,\n   'min_samples_split': 3,\n   'splitter': 'random'},\n  {'criterion': 'entropy',\n   'max_depth': 3,\n   'min_samples_split': 2,\n   'splitter': 'best'},\n  {'criterion': 'entropy',\n   'max_depth': 3,\n   'min_samples_split': 2,\n   'splitter': 'random'},\n  {'criterion': 'entropy',\n   'max_depth': 3,\n   'min_samples_split': 3,\n   'splitter': 'best'},\n  {'criterion': 'entropy',\n   'max_depth': 3,\n   'min_samples_split': 3,\n   'splitter': 'random'}],\n 'split0_test_score': array([0.91729323, 0.86466165, 0.91729323, 0.90225564, 0.93233083,\n        0.90225564, 0.92481203, 0.94736842, 0.91729323, 0.95488722,\n        0.92481203, 0.93984962, 0.91729323, 0.77443609, 0.91729323,\n        0.90225564, 0.90977444, 0.90977444, 0.90977444, 0.90977444,\n        0.90225564, 0.96992481, 0.90977444, 0.94736842]),\n 'split1_test_score': array([0.90225564, 0.87969925, 0.90225564, 0.87969925, 0.90225564,\n        0.90225564, 0.90225564, 0.83458647, 0.90225564, 0.92481203,\n        0.90225564, 0.91729323, 0.90225564, 0.84962406, 0.90225564,\n        0.84210526, 0.91729323, 0.91729323, 0.91729323, 0.84210526,\n        0.90977444, 0.93233083, 0.92481203, 0.87969925]),\n 'split2_test_score': array([0.90151515, 0.81060606, 0.90151515, 0.81818182, 0.91666667,\n        0.89393939, 0.91666667, 0.92424242, 0.91666667, 0.89393939,\n        0.91666667, 0.92424242, 0.90151515, 0.84090909, 0.90151515,\n        0.84090909, 0.90151515, 0.89393939, 0.90151515, 0.90151515,\n        0.93181818, 0.93181818, 0.93181818, 0.93181818]),\n 'mean_test_score': array([0.90702134, 0.85165565, 0.90702134, 0.86671224, 0.91708438,\n        0.89948356, 0.91457811, 0.90206577, 0.91207185, 0.92454621,\n        0.91457811, 0.92712843, 0.90702134, 0.82165641, 0.90702134,\n        0.86175666, 0.90952761, 0.90700235, 0.90952761, 0.88446495,\n        0.91461609, 0.94469127, 0.92213488, 0.91962862]),\n 'std_test_score': array([0.00726961, 0.02966855, 0.00726961, 0.03553026, 0.0122817 ,\n        0.00392032, 0.00932628, 0.04864014, 0.00694582, 0.02488255,\n        0.00932628, 0.00943202, 0.00726961, 0.03357883, 0.00726961,\n        0.02864126, 0.00644374, 0.00973358, 0.00644374, 0.03014201,\n        0.01254504, 0.01784403, 0.00919627, 0.02893923]),\n 'rank_test_score': array([13, 23, 13, 21,  6, 19,  8, 18, 10,  3,  8,  2, 13, 24, 13, 22, 11,\n        17, 11, 20,  7,  1,  4,  5], dtype=int32)}"
     },
     "execution_count": 15,
     "metadata": {},
     "output_type": "execute_result"
    }
   ],
   "source": [
    "print('graphvis 트리 시각화 - ')\n",
    "params = {\n",
    "    'criterion' : ['gini' , 'entropy'] ,\n",
    "    'splitter'  : ['best' , 'random']  ,\n",
    "    'max_depth' : [1 , 2 , 3 ] ,\n",
    "    'min_samples_split' : [2 , 3]\n",
    "}\n",
    "# refit -> 가장 좋은 파라미터 설정으로 재학습 시킴\n",
    "grid_tree_model = GridSearchCV(cancer_model , param_grid = params , cv = 3 , refit = True)\n",
    "grid_tree_model.fit(X_train , y_train)\n",
    "grid_tree_model.cv_results_\n"
   ],
   "metadata": {
    "collapsed": false,
    "pycharm": {
     "name": "#%%\n"
    }
   }
  },
  {
   "cell_type": "code",
   "execution_count": 15,
   "outputs": [],
   "source": [],
   "metadata": {
    "collapsed": false,
    "pycharm": {
     "name": "#%%\n"
    }
   }
  },
  {
   "cell_type": "code",
   "execution_count": 19,
   "outputs": [
    {
     "name": "stdout",
     "output_type": "stream",
     "text": [
      "GridSearchCV 테스트 정확도 -  0.9239766081871345\n",
      "\n",
      "answer -  [1 0 1 1 1 1 1 1 0 0 0 0 1 0 1 1 0 1 1 0 0 1 1 0 0 1 1 0 1 0 1 1 0 1 0 0 1\n",
      " 1 1 0 1 1 0 1 0 1 0 0 1 0 1 1 0 0 1 1 0 1 1 1 1 1 1 1 1 0 1 1 1 0 1 1 1 1\n",
      " 0 1 1 0 0 1 1 1 1 0 1 0 1 1 0 0 1 1 0 1 1 1 1 1 1 0 1 1 1 1 1 1 1 0 1 1 1\n",
      " 1 0 1 1 1 1 1 0 1 1 1 1 0 1 1 0 0 1 1 1 1 1 1 1 1 1 1 0 1 1 0 0 0 1 1 1 1\n",
      " 1 1 0 0 1 1 1 0 1 0 0 0 1 1 1 1 1 1 1 0 1 0 0]\n",
      "\n",
      "pred   -  [1 1 1 1 1 1 1 0 0 0 0 0 1 0 1 1 0 1 1 0 0 1 0 0 0 1 1 1 1 0 1 1 0 1 0 0 1\n",
      " 1 1 0 1 1 1 1 0 1 0 0 1 0 1 1 0 0 1 1 0 1 1 1 1 1 1 1 1 0 1 1 1 0 1 1 1 1\n",
      " 0 1 1 0 0 1 1 1 0 0 1 1 1 1 1 1 1 1 0 1 1 1 1 1 1 0 1 1 0 1 1 1 1 0 1 1 1\n",
      " 1 0 0 1 1 1 1 0 1 1 1 1 0 1 1 0 1 1 1 1 1 1 1 1 1 1 1 0 1 1 0 0 0 0 1 1 1\n",
      " 1 1 0 0 1 1 1 0 1 0 0 0 1 1 1 1 1 1 1 0 1 0 0]\n",
      "feature importance -  [0.16065423 0.         0.         0.         0.         0.\n",
      " 0.         0.         0.         0.         0.         0.\n",
      " 0.         0.         0.         0.         0.03311663 0.\n",
      " 0.         0.         0.12082051 0.         0.         0.02378948\n",
      " 0.         0.         0.         0.66161915 0.         0.        ]\n",
      "\n"
     ]
    },
    {
     "data": {
      "text/plain": "<Figure size 432x288 with 1 Axes>",
      "image/png": "[encoded data removed]"
     },
     "metadata": {
      "needs_background": "light"
     },
     "output_type": "display_data"
    },
    {
     "name": "stdout",
     "output_type": "stream",
     "text": [
      "\n",
      "mean radius \t 0.16065423047687136\n",
      "mean texture \t 0.0\n",
      "mean perimeter \t 0.0\n",
      "mean area \t 0.0\n",
      "mean smoothness \t 0.0\n",
      "mean compactness \t 0.0\n",
      "mean concavity \t 0.0\n",
      "mean concave points \t 0.0\n",
      "mean symmetry \t 0.0\n",
      "mean fractal dimension \t 0.0\n",
      "radius error \t 0.0\n",
      "texture error \t 0.0\n",
      "perimeter error \t 0.0\n",
      "area error \t 0.0\n",
      "smoothness error \t 0.0\n",
      "compactness error \t 0.0\n",
      "concavity error \t 0.0331166325108097\n",
      "concave points error \t 0.0\n",
      "symmetry error \t 0.0\n",
      "fractal dimension error \t 0.0\n",
      "worst radius \t 0.12082050769059688\n",
      "worst texture \t 0.0\n",
      "worst perimeter \t 0.0\n",
      "worst area \t 0.02378947984818328\n",
      "worst smoothness \t 0.0\n",
      "worst compactness \t 0.0\n",
      "worst concavity \t 0.0\n",
      "worst concave points \t 0.6616191494735387\n",
      "worst symmetry \t 0.0\n",
      "worst fractal dimension \t 0.0\n"
     ]
    }
   ],
   "source": [
    "estimator = grid_tree_model.best_estimator_\n",
    "estimator\n",
    "\n",
    "y_pred = estimator.predict(X_test)\n",
    "\n",
    "print('GridSearchCV 테스트 정확도 - ' , accuracy_score(y_test , y_pred))\n",
    "\n",
    "print()\n",
    "\n",
    "print('answer - ' , y_test)\n",
    "print()\n",
    "print('pred   - ' , y_pred)\n",
    "\n",
    "\n",
    "print('feature importance - ' , estimator.feature_importances_)\n",
    "print()\n",
    "sns.barplot(x = estimator.feature_importances_ , y = cancer.feature_names)\n",
    "\n",
    "plt.show()\n",
    "plt.close()\n",
    "\n",
    "print()\n",
    "for name, value in zip(cancer.feature_names , estimator.feature_importances_) :\n",
    "    print(name , '\\t' , value)"
   ],
   "metadata": {
    "collapsed": false,
    "pycharm": {
     "name": "#%%\n"
    }
   }
  },
  {
   "cell_type": "code",
   "execution_count": 16,
   "outputs": [
    {
     "name": "stdout",
     "output_type": "stream",
     "text": [
      "피처의 중요도를 시각화 - \n",
      "트리 분류 형성에 각 피처가 얼마나 잘 작용했는지를 평가하는 지표\n",
      "해당 지표는 0 ~ 1 사이의 값을 가지며 , 0이면 특성이 전혀 고려되지 않을 것 - \n",
      "특성의 중요도의 합은 1 이다\n",
      "\n"
     ]
    }
   ],
   "source": [
    "print('피처의 중요도를 시각화 - ')\n",
    "print('트리 분류 형성에 각 피처가 얼마나 잘 작용했는지를 평가하는 지표')\n",
    "print('해당 지표는 0 ~ 1 사이의 값을 가지며 , 0이면 특성이 전혀 고려되지 않을 것 - ')\n",
    "print('특성의 중요도의 합은 1 이다')\n",
    "print()"
   ],
   "metadata": {
    "collapsed": false,
    "pycharm": {
     "name": "#%%\n"
    }
   }
  },
  {
   "cell_type": "code",
   "execution_count": 19,
   "outputs": [],
   "source": [
    "'''\n",
    "#### 데이터 전처리\n",
    "- 데이터 인코딩(ml 문자열값을 입력값으로 허용하지 않는다) -> 숫자형 변환\n",
    "- 레이블 인코딩 , 원-핫-인코딩\n",
    "- 주의사항) 회귀 X , 트리계열의 알고리즘에서는 적용(성능이 떨어지는 단점, 왜냐하면 숫자의 특성이 반영되기 때문에)\n",
    "\n",
    "- 입력값은 결측값을 허용하지 않는다 -> 고정된 다른값으로 변환\n",
    "- 이상치\n",
    "\n",
    "- 피처 스케일링 : 정규화(0과 1 사이의 값으로 변환) , 표준화(정규분포를 따르는 형식 평균 0 분산 1 가우시안 분포)\n",
    "- 정규화 : MinMaxScalar\n",
    "- 표준화 : StandardScalar\n",
    "'''\n"
   ],
   "metadata": {
    "collapsed": false,
    "pycharm": {
     "name": "#%%\n"
    }
   }
  },
  {
   "cell_type": "code",
   "execution_count": 20,
   "outputs": [
    {
     "name": "stdout",
     "output_type": "stream",
     "text": [
      "digit -  [1 3 0 2 1]\n",
      "label -  ['ABC 쥬스' '낫또' '육계장 칼국수' '집밥']\n",
      "label -  ['낫또' '집밥' 'ABC 쥬스' '육계장 칼국수' '낫또']\n"
     ]
    }
   ],
   "source": [
    "label_items = ['낫또' , '집밥' , 'ABC 쥬스' , '육계장 칼국수' , '낫또']\n",
    "encoder = LabelEncoder()\n",
    "label_digit = encoder.fit(label_items).transform(label_items)\n",
    "print('digit - ' , label_digit)\n",
    "print('label - ' , encoder.classes_)\n",
    "print('label - ' , encoder.inverse_transform([1, 3, 0, 2, 1]))"
   ],
   "metadata": {
    "collapsed": false,
    "pycharm": {
     "name": "#%%\n"
    }
   }
  },
  {
   "cell_type": "code",
   "execution_count": null,
   "outputs": [],
   "source": [],
   "metadata": {
    "collapsed": false,
    "pycharm": {
     "name": "#%%\n"
    }
   }
  },
  {
   "cell_type": "code",
   "execution_count": null,
   "outputs": [],
   "source": [],
   "metadata": {
    "collapsed": false,
    "pycharm": {
     "name": "#%%\n"
    }
   }
  },
  {
   "cell_type": "code",
   "execution_count": null,
   "outputs": [],
   "source": [],
   "metadata": {
    "collapsed": false,
    "pycharm": {
     "name": "#%%\n"
    }
   }
  },
  {
   "cell_type": "code",
   "execution_count": null,
   "outputs": [],
   "source": [],
   "metadata": {
    "collapsed": false,
    "pycharm": {
     "name": "#%%\n"
    }
   }
  },
  {
   "cell_type": "code",
   "execution_count": null,
   "outputs": [],
   "source": [],
   "metadata": {
    "collapsed": false,
    "pycharm": {
     "name": "#%%\n"
    }
   }
  },
  {
   "cell_type": "code",
   "execution_count": null,
   "outputs": [],
   "source": [],
   "metadata": {
    "collapsed": false,
    "pycharm": {
     "name": "#%%\n"
    }
   }
  },
  {
   "cell_type": "code",
   "execution_count": null,
   "outputs": [],
   "source": [],
   "metadata": {
    "collapsed": false,
    "pycharm": {
     "name": "#%%\n"
    }
   }
  },
  {
   "cell_type": "code",
   "execution_count": null,
   "outputs": [],
   "source": [],
   "metadata": {
    "collapsed": false,
    "pycharm": {
     "name": "#%%\n"
    }
   }
  },
  {
   "cell_type": "code",
   "execution_count": null,
   "outputs": [],
   "source": [],
   "metadata": {
    "collapsed": false,
    "pycharm": {
     "name": "#%%\n"
    }
   }
  },
  {
   "cell_type": "code",
   "execution_count": null,
   "outputs": [],
   "source": [],
   "metadata": {
    "collapsed": false,
    "pycharm": {
     "name": "#%%\n"
    }
   }
  },
  {
   "cell_type": "code",
   "execution_count": null,
   "outputs": [],
   "source": [],
   "metadata": {
    "collapsed": false,
    "pycharm": {
     "name": "#%%\n"
    }
   }
  },
  {
   "cell_type": "code",
   "execution_count": null,
   "outputs": [],
   "source": [],
   "metadata": {
    "collapsed": false,
    "pycharm": {
     "name": "#%%\n"
    }
   }
  },
  {
   "cell_type": "code",
   "execution_count": null,
   "outputs": [],
   "source": [],
   "metadata": {
    "collapsed": false,
    "pycharm": {
     "name": "#%%\n"
    }
   }
  },
  {
   "cell_type": "code",
   "execution_count": null,
   "outputs": [],
   "source": [],
   "metadata": {
    "collapsed": false,
    "pycharm": {
     "name": "#%%\n"
    }
   }
  },
  {
   "cell_type": "code",
   "execution_count": null,
   "outputs": [],
   "source": [],
   "metadata": {
    "collapsed": false,
    "pycharm": {
     "name": "#%%\n"
    }
   }
  },
  {
   "cell_type": "code",
   "execution_count": null,
   "outputs": [],
   "source": [],
   "metadata": {
    "collapsed": false,
    "pycharm": {
     "name": "#%%\n"
    }
   }
  },
  {
   "cell_type": "code",
   "execution_count": null,
   "outputs": [],
   "source": [],
   "metadata": {
    "collapsed": false,
    "pycharm": {
     "name": "#%%\n"
    }
   }
  },
  {
   "cell_type": "code",
   "execution_count": null,
   "outputs": [],
   "source": [],
   "metadata": {
    "collapsed": false,
    "pycharm": {
     "name": "#%%\n"
    }
   }
  },
  {
   "cell_type": "code",
   "execution_count": null,
   "outputs": [],
   "source": [],
   "metadata": {
    "collapsed": false,
    "pycharm": {
     "name": "#%%\n"
    }
   }
  }
 ],
 "metadata": {
  "kernelspec": {
   "display_name": "Python 3",
   "language": "python",
   "name": "python3"
  },
  "language_info": {
   "codemirror_mode": {
    "name": "ipython",
    "version": 2
   },
   "file_extension": ".py",
   "mimetype": "text/x-python",
   "name": "python",
   "nbconvert_exporter": "python",
   "pygments_lexer": "ipython2",
   "version": "2.7.6"
  }
 },
 "nbformat": 4,
 "nbformat_minor": 0
}