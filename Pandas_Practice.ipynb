{
 "cells": [
  {
   "cell_type": "code",
   "execution_count": 2,
   "metadata": {
    "collapsed": true
   },
   "outputs": [
    {
     "name": "stdout",
     "output_type": "stream",
     "text": [
      "numpy  version -  1.20.3\n",
      "pandas version -  1.3.4\n"
     ]
    }
   ],
   "source": [
    "import numpy  as np\n",
    "import pandas as pd\n",
    "\n",
    "import warnings\n",
    "warnings.filterwarnings(action='ignore')\n",
    "\n",
    "from datetime import date, datetime, timedelta\n",
    "from dateutil.parser import parse\n",
    "\n",
    "import json\n",
    "import urllib\n",
    "\n",
    "# titanic dataset\n",
    "import seaborn as sns\n",
    "\n",
    "# 비정형 데이터 처리를 위한 라이브러리\n",
    "from bs4 import BeautifulSoup\n",
    "import requests\n",
    "import re\n",
    "\n",
    "from glob import glob\n",
    "\n",
    "\n",
    "print('numpy  version - ' , np.__version__)\n",
    "print('pandas version - ' , pd.__version__)"
   ]
  },
  {
   "cell_type": "code",
   "execution_count": null,
   "outputs": [],
   "source": [],
   "metadata": {
    "collapsed": false,
    "pycharm": {
     "name": "#%%\n"
    }
   }
  },
  {
   "cell_type": "code",
   "execution_count": 2,
   "outputs": [],
   "source": [
    "def seriesInfo(s) :\n",
    "    print('series : index + values \\n' , s)\n",
    "    print('index  - ' , s.index  , type(s.index))\n",
    "    print('values - ' , s.values , type(s.values))\n",
    "\n",
    "def frmInfo(df) :\n",
    "    display('data - ' , df )\n",
    "    print()\n",
    "    print('shape   - ' , df.shape , df.shape[0] , df.shape[1])\n",
    "    print('size    - ' , df.size )\n",
    "    print('ndim    - ' , df.ndim)\n",
    "    print('index   - ' , df.index    , type(df.index))\n",
    "    print('columns - ' , df.columns  , type( df.columns ))\n",
    "    print('values  - \\n' , df.values , type(df.values) )"
   ],
   "metadata": {
    "collapsed": false,
    "pycharm": {
     "name": "#%%\n"
    }
   }
  },
  {
   "cell_type": "code",
   "execution_count": 3,
   "outputs": [
    {
     "data": {
      "text/plain": "    학번  이름  학년\n0  100  윤석   2\n1  200  현진   4\n2  300  보현   3\n3  400  기성   1",
      "text/html": "<div>\n<style scoped>\n    .dataframe tbody tr th:only-of-type {\n        vertical-align: middle;\n    }\n\n    .dataframe tbody tr th {\n        vertical-align: top;\n    }\n\n    .dataframe thead th {\n        text-align: right;\n    }\n</style>\n<table border=\"1\" class=\"dataframe\">\n  <thead>\n    <tr style=\"text-align: right;\">\n      <th></th>\n      <th>학번</th>\n      <th>이름</th>\n      <th>학년</th>\n    </tr>\n  </thead>\n  <tbody>\n    <tr>\n      <th>0</th>\n      <td>100</td>\n      <td>윤석</td>\n      <td>2</td>\n    </tr>\n    <tr>\n      <th>1</th>\n      <td>200</td>\n      <td>현진</td>\n      <td>4</td>\n    </tr>\n    <tr>\n      <th>2</th>\n      <td>300</td>\n      <td>보현</td>\n      <td>3</td>\n    </tr>\n    <tr>\n      <th>3</th>\n      <td>400</td>\n      <td>기성</td>\n      <td>1</td>\n    </tr>\n  </tbody>\n</table>\n</div>"
     },
     "metadata": {},
     "output_type": "display_data"
    },
    {
     "name": "stdout",
     "output_type": "stream",
     "text": [
      "\n"
     ]
    },
    {
     "data": {
      "text/plain": "    학번  학과   학점\n0  100  CS  2.4\n1  200  AI  4.5\n2  400  AI  1.7\n3  500  CS  3.9",
      "text/html": "<div>\n<style scoped>\n    .dataframe tbody tr th:only-of-type {\n        vertical-align: middle;\n    }\n\n    .dataframe tbody tr th {\n        vertical-align: top;\n    }\n\n    .dataframe thead th {\n        text-align: right;\n    }\n</style>\n<table border=\"1\" class=\"dataframe\">\n  <thead>\n    <tr style=\"text-align: right;\">\n      <th></th>\n      <th>학번</th>\n      <th>학과</th>\n      <th>학점</th>\n    </tr>\n  </thead>\n  <tbody>\n    <tr>\n      <th>0</th>\n      <td>100</td>\n      <td>CS</td>\n      <td>2.4</td>\n    </tr>\n    <tr>\n      <th>1</th>\n      <td>200</td>\n      <td>AI</td>\n      <td>4.5</td>\n    </tr>\n    <tr>\n      <th>2</th>\n      <td>400</td>\n      <td>AI</td>\n      <td>1.7</td>\n    </tr>\n    <tr>\n      <th>3</th>\n      <td>500</td>\n      <td>CS</td>\n      <td>3.9</td>\n    </tr>\n  </tbody>\n</table>\n</div>"
     },
     "metadata": {},
     "output_type": "display_data"
    }
   ],
   "source": [
    "data01 = {\n",
    "    '학번' : [100, 200, 300, 400],\n",
    "    '이름' : ['윤석', '현진', '보현', '기성'],\n",
    "    '학년' : [2, 4, 3, 1]\n",
    "}\n",
    "\n",
    "data02 = {\n",
    "    '학번' : [100, 200, 400, 500],\n",
    "    '학과' : ['CS', 'AI', 'AI', 'CS'],\n",
    "    '학점' : [2.4, 4.5, 1.7, 3.9]\n",
    "}\n",
    "stu_frm   = pd.DataFrame(data01)\n",
    "major_frm = pd.DataFrame(data02)\n",
    "\n",
    "display(stu_frm)\n",
    "print()\n",
    "display(major_frm)"
   ],
   "metadata": {
    "collapsed": false,
    "pycharm": {
     "name": "#%%\n"
    }
   }
  },
  {
   "cell_type": "code",
   "execution_count": 4,
   "outputs": [
    {
     "name": "stdout",
     "output_type": "stream",
     "text": [
      "how = inner , outer , left , right - \n"
     ]
    },
    {
     "data": {
      "text/plain": "    학번   이름   학년  학과   학점\n0  100   윤석  2.0  CS  2.4\n1  200   현진  4.0  AI  4.5\n2  400   기성  1.0  AI  1.7\n3  500  NaN  NaN  CS  3.9",
      "text/html": "<div>\n<style scoped>\n    .dataframe tbody tr th:only-of-type {\n        vertical-align: middle;\n    }\n\n    .dataframe tbody tr th {\n        vertical-align: top;\n    }\n\n    .dataframe thead th {\n        text-align: right;\n    }\n</style>\n<table border=\"1\" class=\"dataframe\">\n  <thead>\n    <tr style=\"text-align: right;\">\n      <th></th>\n      <th>학번</th>\n      <th>이름</th>\n      <th>학년</th>\n      <th>학과</th>\n      <th>학점</th>\n    </tr>\n  </thead>\n  <tbody>\n    <tr>\n      <th>0</th>\n      <td>100</td>\n      <td>윤석</td>\n      <td>2.0</td>\n      <td>CS</td>\n      <td>2.4</td>\n    </tr>\n    <tr>\n      <th>1</th>\n      <td>200</td>\n      <td>현진</td>\n      <td>4.0</td>\n      <td>AI</td>\n      <td>4.5</td>\n    </tr>\n    <tr>\n      <th>2</th>\n      <td>400</td>\n      <td>기성</td>\n      <td>1.0</td>\n      <td>AI</td>\n      <td>1.7</td>\n    </tr>\n    <tr>\n      <th>3</th>\n      <td>500</td>\n      <td>NaN</td>\n      <td>NaN</td>\n      <td>CS</td>\n      <td>3.9</td>\n    </tr>\n  </tbody>\n</table>\n</div>"
     },
     "execution_count": 4,
     "metadata": {},
     "output_type": "execute_result"
    }
   ],
   "source": [
    "print('how = inner , outer , left , right - ')\n",
    "pd.merge(stu_frm , major_frm , how = 'right')"
   ],
   "metadata": {
    "collapsed": false,
    "pycharm": {
     "name": "#%%\n"
    }
   }
  },
  {
   "cell_type": "code",
   "execution_count": 5,
   "outputs": [
    {
     "data": {
      "text/plain": "    학번  이름  학년\n0  100  윤석   2\n1  200  현진   4\n2  300  보현   3\n3  400  기성   1",
      "text/html": "<div>\n<style scoped>\n    .dataframe tbody tr th:only-of-type {\n        vertical-align: middle;\n    }\n\n    .dataframe tbody tr th {\n        vertical-align: top;\n    }\n\n    .dataframe thead th {\n        text-align: right;\n    }\n</style>\n<table border=\"1\" class=\"dataframe\">\n  <thead>\n    <tr style=\"text-align: right;\">\n      <th></th>\n      <th>학번</th>\n      <th>이름</th>\n      <th>학년</th>\n    </tr>\n  </thead>\n  <tbody>\n    <tr>\n      <th>0</th>\n      <td>100</td>\n      <td>윤석</td>\n      <td>2</td>\n    </tr>\n    <tr>\n      <th>1</th>\n      <td>200</td>\n      <td>현진</td>\n      <td>4</td>\n    </tr>\n    <tr>\n      <th>2</th>\n      <td>300</td>\n      <td>보현</td>\n      <td>3</td>\n    </tr>\n    <tr>\n      <th>3</th>\n      <td>400</td>\n      <td>기성</td>\n      <td>1</td>\n    </tr>\n  </tbody>\n</table>\n</div>"
     },
     "metadata": {},
     "output_type": "display_data"
    },
    {
     "name": "stdout",
     "output_type": "stream",
     "text": [
      "\n"
     ]
    },
    {
     "data": {
      "text/plain": "   과목코드  학과   학점\n0   100  CS  2.4\n1   200  AI  4.5\n2   400  AI  1.7\n3   500  CS  3.9",
      "text/html": "<div>\n<style scoped>\n    .dataframe tbody tr th:only-of-type {\n        vertical-align: middle;\n    }\n\n    .dataframe tbody tr th {\n        vertical-align: top;\n    }\n\n    .dataframe thead th {\n        text-align: right;\n    }\n</style>\n<table border=\"1\" class=\"dataframe\">\n  <thead>\n    <tr style=\"text-align: right;\">\n      <th></th>\n      <th>과목코드</th>\n      <th>학과</th>\n      <th>학점</th>\n    </tr>\n  </thead>\n  <tbody>\n    <tr>\n      <th>0</th>\n      <td>100</td>\n      <td>CS</td>\n      <td>2.4</td>\n    </tr>\n    <tr>\n      <th>1</th>\n      <td>200</td>\n      <td>AI</td>\n      <td>4.5</td>\n    </tr>\n    <tr>\n      <th>2</th>\n      <td>400</td>\n      <td>AI</td>\n      <td>1.7</td>\n    </tr>\n    <tr>\n      <th>3</th>\n      <td>500</td>\n      <td>CS</td>\n      <td>3.9</td>\n    </tr>\n  </tbody>\n</table>\n</div>"
     },
     "metadata": {},
     "output_type": "display_data"
    }
   ],
   "source": [
    "data01 = {\n",
    "    '학번' : [100, 200, 300, 400],\n",
    "    '이름' : ['윤석', '현진', '보현', '기성'],\n",
    "    '학년' : [2, 4, 3, 1]\n",
    "}\n",
    "\n",
    "data02 = {\n",
    "    '과목코드' : [100, 200, 400, 500],\n",
    "    '학과' : ['CS', 'AI', 'AI', 'CS'],\n",
    "    '학점' : [2.4, 4.5, 1.7, 3.9]\n",
    "}\n",
    "stu_frm   = pd.DataFrame(data01)\n",
    "major_frm = pd.DataFrame(data02)\n",
    "\n",
    "display(stu_frm)\n",
    "print()\n",
    "display(major_frm)"
   ],
   "metadata": {
    "collapsed": false,
    "pycharm": {
     "name": "#%%\n"
    }
   }
  },
  {
   "cell_type": "code",
   "execution_count": 6,
   "outputs": [
    {
     "data": {
      "text/plain": "    학번  이름  학년  과목코드  학과   학점\n0  100  윤석   2   100  CS  2.4\n1  200  현진   4   200  AI  4.5\n2  400  기성   1   400  AI  1.7",
      "text/html": "<div>\n<style scoped>\n    .dataframe tbody tr th:only-of-type {\n        vertical-align: middle;\n    }\n\n    .dataframe tbody tr th {\n        vertical-align: top;\n    }\n\n    .dataframe thead th {\n        text-align: right;\n    }\n</style>\n<table border=\"1\" class=\"dataframe\">\n  <thead>\n    <tr style=\"text-align: right;\">\n      <th></th>\n      <th>학번</th>\n      <th>이름</th>\n      <th>학년</th>\n      <th>과목코드</th>\n      <th>학과</th>\n      <th>학점</th>\n    </tr>\n  </thead>\n  <tbody>\n    <tr>\n      <th>0</th>\n      <td>100</td>\n      <td>윤석</td>\n      <td>2</td>\n      <td>100</td>\n      <td>CS</td>\n      <td>2.4</td>\n    </tr>\n    <tr>\n      <th>1</th>\n      <td>200</td>\n      <td>현진</td>\n      <td>4</td>\n      <td>200</td>\n      <td>AI</td>\n      <td>4.5</td>\n    </tr>\n    <tr>\n      <th>2</th>\n      <td>400</td>\n      <td>기성</td>\n      <td>1</td>\n      <td>400</td>\n      <td>AI</td>\n      <td>1.7</td>\n    </tr>\n  </tbody>\n</table>\n</div>"
     },
     "execution_count": 6,
     "metadata": {},
     "output_type": "execute_result"
    }
   ],
   "source": [
    "pd.merge(stu_frm , major_frm , how = 'inner' , left_on = '학번' , right_on = '과목코드')"
   ],
   "metadata": {
    "collapsed": false,
    "pycharm": {
     "name": "#%%\n"
    }
   }
  },
  {
   "cell_type": "code",
   "execution_count": 7,
   "outputs": [
    {
     "name": "stdout",
     "output_type": "stream",
     "text": [
      "type -  <class 'pandas.core.frame.DataFrame'>\n",
      "\n"
     ]
    }
   ],
   "source": [
    "datasets = sns.load_dataset('iris')\n",
    "print('type - ' , type(datasets))\n",
    "print()"
   ],
   "metadata": {
    "collapsed": false,
    "pycharm": {
     "name": "#%%\n"
    }
   }
  },
  {
   "cell_type": "code",
   "execution_count": 8,
   "outputs": [
    {
     "data": {
      "text/plain": "      species  sepal_length  petal_width\n0      setosa           5.1          4.1\n1   virginica           4.9          3.9\n2   virginica           3.7          3.7\n3  versicolor           1.5          3.6",
      "text/html": "<div>\n<style scoped>\n    .dataframe tbody tr th:only-of-type {\n        vertical-align: middle;\n    }\n\n    .dataframe tbody tr th {\n        vertical-align: top;\n    }\n\n    .dataframe thead th {\n        text-align: right;\n    }\n</style>\n<table border=\"1\" class=\"dataframe\">\n  <thead>\n    <tr style=\"text-align: right;\">\n      <th></th>\n      <th>species</th>\n      <th>sepal_length</th>\n      <th>petal_width</th>\n    </tr>\n  </thead>\n  <tbody>\n    <tr>\n      <th>0</th>\n      <td>setosa</td>\n      <td>5.1</td>\n      <td>4.1</td>\n    </tr>\n    <tr>\n      <th>1</th>\n      <td>virginica</td>\n      <td>4.9</td>\n      <td>3.9</td>\n    </tr>\n    <tr>\n      <th>2</th>\n      <td>virginica</td>\n      <td>3.7</td>\n      <td>3.7</td>\n    </tr>\n    <tr>\n      <th>3</th>\n      <td>versicolor</td>\n      <td>1.5</td>\n      <td>3.6</td>\n    </tr>\n  </tbody>\n</table>\n</div>"
     },
     "metadata": {},
     "output_type": "display_data"
    },
    {
     "name": "stdout",
     "output_type": "stream",
     "text": [
      "\n"
     ]
    },
    {
     "data": {
      "text/plain": "     species  sepal_length\n0     setosa           4.1\n1     setosa           5.9\n2  virginica           4.7\n3  virginica           3.5",
      "text/html": "<div>\n<style scoped>\n    .dataframe tbody tr th:only-of-type {\n        vertical-align: middle;\n    }\n\n    .dataframe tbody tr th {\n        vertical-align: top;\n    }\n\n    .dataframe thead th {\n        text-align: right;\n    }\n</style>\n<table border=\"1\" class=\"dataframe\">\n  <thead>\n    <tr style=\"text-align: right;\">\n      <th></th>\n      <th>species</th>\n      <th>sepal_length</th>\n    </tr>\n  </thead>\n  <tbody>\n    <tr>\n      <th>0</th>\n      <td>setosa</td>\n      <td>4.1</td>\n    </tr>\n    <tr>\n      <th>1</th>\n      <td>setosa</td>\n      <td>5.9</td>\n    </tr>\n    <tr>\n      <th>2</th>\n      <td>virginica</td>\n      <td>4.7</td>\n    </tr>\n    <tr>\n      <th>3</th>\n      <td>virginica</td>\n      <td>3.5</td>\n    </tr>\n  </tbody>\n</table>\n</div>"
     },
     "metadata": {},
     "output_type": "display_data"
    }
   ],
   "source": [
    "data01 = {\n",
    "    'species'      : ['setosa' , 'virginica' ,  'virginica'  , 'versicolor'],\n",
    "    'sepal_length' : [5.1, 4.9 , 3.7 , 1.5] ,\n",
    "    'petal_width'  : [4.1, 3.9, 3.7, 3.6]\n",
    "}\n",
    "\n",
    "data02 = {\n",
    "    'species'      : ['setosa' , 'setosa' , 'virginica' ,  'virginica'],\n",
    "    'sepal_length' : [4.1, 5.9 , 4.7 , 3.5]\n",
    "}\n",
    "\n",
    "iris01_frm   = pd.DataFrame(data01)\n",
    "iris02_frm = pd.DataFrame(data02)\n",
    "\n",
    "display(iris01_frm)\n",
    "print()\n",
    "display(iris02_frm)"
   ],
   "metadata": {
    "collapsed": false,
    "pycharm": {
     "name": "#%%\n"
    }
   }
  },
  {
   "cell_type": "code",
   "execution_count": 9,
   "outputs": [
    {
     "name": "stdout",
     "output_type": "stream",
     "text": [
      "on -> 중복되는 키가 존재할 경우 어느 키를 기준으로 merge할지를 결정 - \n"
     ]
    },
    {
     "data": {
      "text/plain": "     species  sepal_length_x  petal_width  sepal_length_y\n0     setosa             5.1          4.1             4.1\n1     setosa             5.1          4.1             5.9\n2  virginica             4.9          3.9             4.7\n3  virginica             4.9          3.9             3.5\n4  virginica             3.7          3.7             4.7\n5  virginica             3.7          3.7             3.5",
      "text/html": "<div>\n<style scoped>\n    .dataframe tbody tr th:only-of-type {\n        vertical-align: middle;\n    }\n\n    .dataframe tbody tr th {\n        vertical-align: top;\n    }\n\n    .dataframe thead th {\n        text-align: right;\n    }\n</style>\n<table border=\"1\" class=\"dataframe\">\n  <thead>\n    <tr style=\"text-align: right;\">\n      <th></th>\n      <th>species</th>\n      <th>sepal_length_x</th>\n      <th>petal_width</th>\n      <th>sepal_length_y</th>\n    </tr>\n  </thead>\n  <tbody>\n    <tr>\n      <th>0</th>\n      <td>setosa</td>\n      <td>5.1</td>\n      <td>4.1</td>\n      <td>4.1</td>\n    </tr>\n    <tr>\n      <th>1</th>\n      <td>setosa</td>\n      <td>5.1</td>\n      <td>4.1</td>\n      <td>5.9</td>\n    </tr>\n    <tr>\n      <th>2</th>\n      <td>virginica</td>\n      <td>4.9</td>\n      <td>3.9</td>\n      <td>4.7</td>\n    </tr>\n    <tr>\n      <th>3</th>\n      <td>virginica</td>\n      <td>4.9</td>\n      <td>3.9</td>\n      <td>3.5</td>\n    </tr>\n    <tr>\n      <th>4</th>\n      <td>virginica</td>\n      <td>3.7</td>\n      <td>3.7</td>\n      <td>4.7</td>\n    </tr>\n    <tr>\n      <th>5</th>\n      <td>virginica</td>\n      <td>3.7</td>\n      <td>3.7</td>\n      <td>3.5</td>\n    </tr>\n  </tbody>\n</table>\n</div>"
     },
     "execution_count": 9,
     "metadata": {},
     "output_type": "execute_result"
    }
   ],
   "source": [
    "print('on -> 중복되는 키가 존재할 경우 어느 키를 기준으로 merge할지를 결정 - ')\n",
    "pd.merge(iris01_frm , iris02_frm , on = 'species')"
   ],
   "metadata": {
    "collapsed": false,
    "pycharm": {
     "name": "#%%\n"
    }
   }
  },
  {
   "cell_type": "code",
   "execution_count": 10,
   "outputs": [
    {
     "name": "stdout",
     "output_type": "stream",
     "text": [
      "인덱스를 기준으로 병합 - \n",
      "left_index , right_index - \n",
      "\n"
     ]
    },
    {
     "data": {
      "text/plain": "      city  year      pop\n0    seoul  2010  1234567\n1    seoul  2050  2345678\n2    seoul  2020  3456789\n3  kwangju  2018  4567890\n4  kwangju  2022  5678901",
      "text/html": "<div>\n<style scoped>\n    .dataframe tbody tr th:only-of-type {\n        vertical-align: middle;\n    }\n\n    .dataframe tbody tr th {\n        vertical-align: top;\n    }\n\n    .dataframe thead th {\n        text-align: right;\n    }\n</style>\n<table border=\"1\" class=\"dataframe\">\n  <thead>\n    <tr style=\"text-align: right;\">\n      <th></th>\n      <th>city</th>\n      <th>year</th>\n      <th>pop</th>\n    </tr>\n  </thead>\n  <tbody>\n    <tr>\n      <th>0</th>\n      <td>seoul</td>\n      <td>2010</td>\n      <td>1234567</td>\n    </tr>\n    <tr>\n      <th>1</th>\n      <td>seoul</td>\n      <td>2050</td>\n      <td>2345678</td>\n    </tr>\n    <tr>\n      <th>2</th>\n      <td>seoul</td>\n      <td>2020</td>\n      <td>3456789</td>\n    </tr>\n    <tr>\n      <th>3</th>\n      <td>kwangju</td>\n      <td>2018</td>\n      <td>4567890</td>\n    </tr>\n    <tr>\n      <th>4</th>\n      <td>kwangju</td>\n      <td>2022</td>\n      <td>5678901</td>\n    </tr>\n  </tbody>\n</table>\n</div>"
     },
     "metadata": {},
     "output_type": "display_data"
    },
    {
     "name": "stdout",
     "output_type": "stream",
     "text": [
      "\n"
     ]
    },
    {
     "data": {
      "text/plain": "              col01  col02\nseoul   2010      0      1\n        2050      2      3\nkwangju 2020      4      5\n        2018      6      7\n        2022      8      9\n        2024     10     11",
      "text/html": "<div>\n<style scoped>\n    .dataframe tbody tr th:only-of-type {\n        vertical-align: middle;\n    }\n\n    .dataframe tbody tr th {\n        vertical-align: top;\n    }\n\n    .dataframe thead th {\n        text-align: right;\n    }\n</style>\n<table border=\"1\" class=\"dataframe\">\n  <thead>\n    <tr style=\"text-align: right;\">\n      <th></th>\n      <th></th>\n      <th>col01</th>\n      <th>col02</th>\n    </tr>\n  </thead>\n  <tbody>\n    <tr>\n      <th rowspan=\"2\" valign=\"top\">seoul</th>\n      <th>2010</th>\n      <td>0</td>\n      <td>1</td>\n    </tr>\n    <tr>\n      <th>2050</th>\n      <td>2</td>\n      <td>3</td>\n    </tr>\n    <tr>\n      <th rowspan=\"4\" valign=\"top\">kwangju</th>\n      <th>2020</th>\n      <td>4</td>\n      <td>5</td>\n    </tr>\n    <tr>\n      <th>2018</th>\n      <td>6</td>\n      <td>7</td>\n    </tr>\n    <tr>\n      <th>2022</th>\n      <td>8</td>\n      <td>9</td>\n    </tr>\n    <tr>\n      <th>2024</th>\n      <td>10</td>\n      <td>11</td>\n    </tr>\n  </tbody>\n</table>\n</div>"
     },
     "metadata": {},
     "output_type": "display_data"
    }
   ],
   "source": [
    "print('인덱스를 기준으로 병합 - ')\n",
    "print('left_index , right_index - ')\n",
    "\n",
    "pop01_frm = pd.DataFrame({\n",
    "    'city' : ['seoul' , 'seoul' , 'seoul' , 'kwangju' , 'kwangju'],\n",
    "    'year' : [2010 , 2050, 2020, 2018 , 2022],\n",
    "    'pop'  : [1234567, 2345678, 3456789, 4567890, 5678901]\n",
    "})\n",
    "\n",
    "pop02_frm = pd.DataFrame( np.arange(12).reshape(6,2) ,\n",
    "                          columns = ['col01' , 'col02'] ,\n",
    "                          index   = [ ['seoul' , 'seoul' , 'kwangju' ,  'kwangju' ,  'kwangju',  'kwangju'] ,\n",
    "                                      [2010 , 2050, 2020, 2018 , 2022, 2024]\n",
    "                                    ] )\n",
    "\n",
    "print()\n",
    "display(pop01_frm)\n",
    "print()\n",
    "display(pop02_frm)"
   ],
   "metadata": {
    "collapsed": false,
    "pycharm": {
     "name": "#%%\n"
    }
   }
  },
  {
   "cell_type": "code",
   "execution_count": 11,
   "outputs": [
    {
     "data": {
      "text/plain": "      city  year      pop  col01  col02\n0    seoul  2010  1234567      0      1\n1    seoul  2050  2345678      2      3\n3  kwangju  2018  4567890      6      7\n4  kwangju  2022  5678901      8      9",
      "text/html": "<div>\n<style scoped>\n    .dataframe tbody tr th:only-of-type {\n        vertical-align: middle;\n    }\n\n    .dataframe tbody tr th {\n        vertical-align: top;\n    }\n\n    .dataframe thead th {\n        text-align: right;\n    }\n</style>\n<table border=\"1\" class=\"dataframe\">\n  <thead>\n    <tr style=\"text-align: right;\">\n      <th></th>\n      <th>city</th>\n      <th>year</th>\n      <th>pop</th>\n      <th>col01</th>\n      <th>col02</th>\n    </tr>\n  </thead>\n  <tbody>\n    <tr>\n      <th>0</th>\n      <td>seoul</td>\n      <td>2010</td>\n      <td>1234567</td>\n      <td>0</td>\n      <td>1</td>\n    </tr>\n    <tr>\n      <th>1</th>\n      <td>seoul</td>\n      <td>2050</td>\n      <td>2345678</td>\n      <td>2</td>\n      <td>3</td>\n    </tr>\n    <tr>\n      <th>3</th>\n      <td>kwangju</td>\n      <td>2018</td>\n      <td>4567890</td>\n      <td>6</td>\n      <td>7</td>\n    </tr>\n    <tr>\n      <th>4</th>\n      <td>kwangju</td>\n      <td>2022</td>\n      <td>5678901</td>\n      <td>8</td>\n      <td>9</td>\n    </tr>\n  </tbody>\n</table>\n</div>"
     },
     "execution_count": 11,
     "metadata": {},
     "output_type": "execute_result"
    }
   ],
   "source": [
    "pd.merge(pop01_frm , pop02_frm , right_index = True , left_on=['city' , 'year'])"
   ],
   "metadata": {
    "collapsed": false,
    "pycharm": {
     "name": "#%%\n"
    }
   }
  },
  {
   "cell_type": "code",
   "execution_count": 12,
   "outputs": [
    {
     "name": "stdout",
     "output_type": "stream",
     "text": [
      "인덱스를 기준으로 병합 - \n",
      "left_index , right_index - \n",
      "\n"
     ]
    },
    {
     "data": {
      "text/plain": "      city  year      pop\n1    seoul  2010  1234567\n3    seoul  2050  2345678\n5    seoul  2020  3456789\n7  kwangju  2018  4567890\n9  kwangju  2022  5678901",
      "text/html": "<div>\n<style scoped>\n    .dataframe tbody tr th:only-of-type {\n        vertical-align: middle;\n    }\n\n    .dataframe tbody tr th {\n        vertical-align: top;\n    }\n\n    .dataframe thead th {\n        text-align: right;\n    }\n</style>\n<table border=\"1\" class=\"dataframe\">\n  <thead>\n    <tr style=\"text-align: right;\">\n      <th></th>\n      <th>city</th>\n      <th>year</th>\n      <th>pop</th>\n    </tr>\n  </thead>\n  <tbody>\n    <tr>\n      <th>1</th>\n      <td>seoul</td>\n      <td>2010</td>\n      <td>1234567</td>\n    </tr>\n    <tr>\n      <th>3</th>\n      <td>seoul</td>\n      <td>2050</td>\n      <td>2345678</td>\n    </tr>\n    <tr>\n      <th>5</th>\n      <td>seoul</td>\n      <td>2020</td>\n      <td>3456789</td>\n    </tr>\n    <tr>\n      <th>7</th>\n      <td>kwangju</td>\n      <td>2018</td>\n      <td>4567890</td>\n    </tr>\n    <tr>\n      <th>9</th>\n      <td>kwangju</td>\n      <td>2022</td>\n      <td>5678901</td>\n    </tr>\n  </tbody>\n</table>\n</div>"
     },
     "metadata": {},
     "output_type": "display_data"
    },
    {
     "name": "stdout",
     "output_type": "stream",
     "text": [
      "\n"
     ]
    },
    {
     "data": {
      "text/plain": "   col01  col02\n1      0      1\n2      2      3\n3      4      5\n4      6      7\n5      8      9\n6     10     11",
      "text/html": "<div>\n<style scoped>\n    .dataframe tbody tr th:only-of-type {\n        vertical-align: middle;\n    }\n\n    .dataframe tbody tr th {\n        vertical-align: top;\n    }\n\n    .dataframe thead th {\n        text-align: right;\n    }\n</style>\n<table border=\"1\" class=\"dataframe\">\n  <thead>\n    <tr style=\"text-align: right;\">\n      <th></th>\n      <th>col01</th>\n      <th>col02</th>\n    </tr>\n  </thead>\n  <tbody>\n    <tr>\n      <th>1</th>\n      <td>0</td>\n      <td>1</td>\n    </tr>\n    <tr>\n      <th>2</th>\n      <td>2</td>\n      <td>3</td>\n    </tr>\n    <tr>\n      <th>3</th>\n      <td>4</td>\n      <td>5</td>\n    </tr>\n    <tr>\n      <th>4</th>\n      <td>6</td>\n      <td>7</td>\n    </tr>\n    <tr>\n      <th>5</th>\n      <td>8</td>\n      <td>9</td>\n    </tr>\n    <tr>\n      <th>6</th>\n      <td>10</td>\n      <td>11</td>\n    </tr>\n  </tbody>\n</table>\n</div>"
     },
     "metadata": {},
     "output_type": "display_data"
    }
   ],
   "source": [
    "print('인덱스를 기준으로 병합 - ')\n",
    "print('left_index , right_index - ')\n",
    "\n",
    "pop01_frm = pd.DataFrame({\n",
    "    'city' : ['seoul' , 'seoul' , 'seoul' , 'kwangju' , 'kwangju'],\n",
    "    'year' : [2010 , 2050, 2020, 2018 , 2022],\n",
    "    'pop'  : [1234567, 2345678, 3456789, 4567890, 5678901]\n",
    "    } ,\n",
    "    index = [1,3,5,7,9])\n",
    "\n",
    "pop02_frm = pd.DataFrame( np.arange(12).reshape(6,2) ,\n",
    "                          columns = ['col01' , 'col02'] ,\n",
    "                          index   = [1,2,3,4,5,6] )\n",
    "\n",
    "print()\n",
    "display(pop01_frm)\n",
    "print()\n",
    "display(pop02_frm)"
   ],
   "metadata": {
    "collapsed": false,
    "pycharm": {
     "name": "#%%\n"
    }
   }
  },
  {
   "cell_type": "code",
   "execution_count": null,
   "outputs": [],
   "source": [],
   "metadata": {
    "collapsed": false,
    "pycharm": {
     "name": "#%%\n"
    }
   }
  },
  {
   "cell_type": "code",
   "execution_count": 3,
   "outputs": [
    {
     "ename": "ValueError",
     "evalue": "No objects to concatenate",
     "output_type": "error",
     "traceback": [
      "\u001B[0;31m---------------------------------------------------------------------------\u001B[0m",
      "\u001B[0;31mValueError\u001B[0m                                Traceback (most recent call last)",
      "\u001B[0;32m/var/folders/qr/6jsz3w4516vdwmpnz67ktft00000gn/T/ipykernel_26954/2626660485.py\u001B[0m in \u001B[0;36m<module>\u001B[0;34m\u001B[0m\n\u001B[1;32m      4\u001B[0m     \u001B[0mtmp\u001B[0m \u001B[0;34m=\u001B[0m \u001B[0mpd\u001B[0m\u001B[0;34m.\u001B[0m\u001B[0mread_excel\u001B[0m\u001B[0;34m(\u001B[0m\u001B[0mf\u001B[0m\u001B[0;34m,\u001B[0m \u001B[0mheader\u001B[0m \u001B[0;34m=\u001B[0m \u001B[0;36m2\u001B[0m\u001B[0;34m)\u001B[0m\u001B[0;34m\u001B[0m\u001B[0;34m\u001B[0m\u001B[0m\n\u001B[1;32m      5\u001B[0m     \u001B[0mtmp_raw\u001B[0m\u001B[0;34m.\u001B[0m\u001B[0mappend\u001B[0m\u001B[0;34m(\u001B[0m\u001B[0mtmp\u001B[0m\u001B[0;34m)\u001B[0m\u001B[0;34m\u001B[0m\u001B[0;34m\u001B[0m\u001B[0m\n\u001B[0;32m----> 6\u001B[0;31m \u001B[0mstation\u001B[0m \u001B[0;34m=\u001B[0m \u001B[0mpd\u001B[0m\u001B[0;34m.\u001B[0m\u001B[0mconcat\u001B[0m\u001B[0;34m(\u001B[0m\u001B[0mtmp_raw\u001B[0m\u001B[0;34m)\u001B[0m\u001B[0;34m\u001B[0m\u001B[0;34m\u001B[0m\u001B[0m\n\u001B[0m\u001B[1;32m      7\u001B[0m \u001B[0mstation\u001B[0m\u001B[0;34m\u001B[0m\u001B[0;34m\u001B[0m\u001B[0m\n",
      "\u001B[0;32m~/opt/anaconda3/lib/python3.9/site-packages/pandas/util/_decorators.py\u001B[0m in \u001B[0;36mwrapper\u001B[0;34m(*args, **kwargs)\u001B[0m\n\u001B[1;32m    309\u001B[0m                     \u001B[0mstacklevel\u001B[0m\u001B[0;34m=\u001B[0m\u001B[0mstacklevel\u001B[0m\u001B[0;34m,\u001B[0m\u001B[0;34m\u001B[0m\u001B[0;34m\u001B[0m\u001B[0m\n\u001B[1;32m    310\u001B[0m                 )\n\u001B[0;32m--> 311\u001B[0;31m             \u001B[0;32mreturn\u001B[0m \u001B[0mfunc\u001B[0m\u001B[0;34m(\u001B[0m\u001B[0;34m*\u001B[0m\u001B[0margs\u001B[0m\u001B[0;34m,\u001B[0m \u001B[0;34m**\u001B[0m\u001B[0mkwargs\u001B[0m\u001B[0;34m)\u001B[0m\u001B[0;34m\u001B[0m\u001B[0;34m\u001B[0m\u001B[0m\n\u001B[0m\u001B[1;32m    312\u001B[0m \u001B[0;34m\u001B[0m\u001B[0m\n\u001B[1;32m    313\u001B[0m         \u001B[0;32mreturn\u001B[0m \u001B[0mwrapper\u001B[0m\u001B[0;34m\u001B[0m\u001B[0;34m\u001B[0m\u001B[0m\n",
      "\u001B[0;32m~/opt/anaconda3/lib/python3.9/site-packages/pandas/core/reshape/concat.py\u001B[0m in \u001B[0;36mconcat\u001B[0;34m(objs, axis, join, ignore_index, keys, levels, names, verify_integrity, sort, copy)\u001B[0m\n\u001B[1;32m    292\u001B[0m     \u001B[0mValueError\u001B[0m\u001B[0;34m:\u001B[0m \u001B[0mIndexes\u001B[0m \u001B[0mhave\u001B[0m \u001B[0moverlapping\u001B[0m \u001B[0mvalues\u001B[0m\u001B[0;34m:\u001B[0m \u001B[0;34m[\u001B[0m\u001B[0;34m'a'\u001B[0m\u001B[0;34m]\u001B[0m\u001B[0;34m\u001B[0m\u001B[0;34m\u001B[0m\u001B[0m\n\u001B[1;32m    293\u001B[0m     \"\"\"\n\u001B[0;32m--> 294\u001B[0;31m     op = _Concatenator(\n\u001B[0m\u001B[1;32m    295\u001B[0m         \u001B[0mobjs\u001B[0m\u001B[0;34m,\u001B[0m\u001B[0;34m\u001B[0m\u001B[0;34m\u001B[0m\u001B[0m\n\u001B[1;32m    296\u001B[0m         \u001B[0maxis\u001B[0m\u001B[0;34m=\u001B[0m\u001B[0maxis\u001B[0m\u001B[0;34m,\u001B[0m\u001B[0;34m\u001B[0m\u001B[0;34m\u001B[0m\u001B[0m\n",
      "\u001B[0;32m~/opt/anaconda3/lib/python3.9/site-packages/pandas/core/reshape/concat.py\u001B[0m in \u001B[0;36m__init__\u001B[0;34m(self, objs, axis, join, keys, levels, names, ignore_index, verify_integrity, copy, sort)\u001B[0m\n\u001B[1;32m    349\u001B[0m \u001B[0;34m\u001B[0m\u001B[0m\n\u001B[1;32m    350\u001B[0m         \u001B[0;32mif\u001B[0m \u001B[0mlen\u001B[0m\u001B[0;34m(\u001B[0m\u001B[0mobjs\u001B[0m\u001B[0;34m)\u001B[0m \u001B[0;34m==\u001B[0m \u001B[0;36m0\u001B[0m\u001B[0;34m:\u001B[0m\u001B[0;34m\u001B[0m\u001B[0;34m\u001B[0m\u001B[0m\n\u001B[0;32m--> 351\u001B[0;31m             \u001B[0;32mraise\u001B[0m \u001B[0mValueError\u001B[0m\u001B[0;34m(\u001B[0m\u001B[0;34m\"No objects to concatenate\"\u001B[0m\u001B[0;34m)\u001B[0m\u001B[0;34m\u001B[0m\u001B[0;34m\u001B[0m\u001B[0m\n\u001B[0m\u001B[1;32m    352\u001B[0m \u001B[0;34m\u001B[0m\u001B[0m\n\u001B[1;32m    353\u001B[0m         \u001B[0;32mif\u001B[0m \u001B[0mkeys\u001B[0m \u001B[0;32mis\u001B[0m \u001B[0;32mNone\u001B[0m\u001B[0;34m:\u001B[0m\u001B[0;34m\u001B[0m\u001B[0;34m\u001B[0m\u001B[0m\n",
      "\u001B[0;31mValueError\u001B[0m: No objects to concatenate"
     ]
    }
   ],
   "source": [
    "files = glob('./pandas_data/지역_*.xls')\n",
    "tmp_raw = []\n",
    "for f in files:\n",
    "    tmp = pd.read_excel(f, header = 2)\n",
    "    tmp_raw.append(tmp)\n",
    "station = pd.concat(tmp_raw)\n",
    "station"
   ],
   "metadata": {
    "collapsed": false,
    "pycharm": {
     "name": "#%%\n"
    }
   }
  },
  {
   "cell_type": "code",
   "execution_count": null,
   "outputs": [],
   "source": [],
   "metadata": {
    "collapsed": false,
    "pycharm": {
     "name": "#%%\n"
    }
   }
  },
  {
   "cell_type": "code",
   "execution_count": null,
   "outputs": [],
   "source": [],
   "metadata": {
    "collapsed": false,
    "pycharm": {
     "name": "#%%\n"
    }
   }
  },
  {
   "cell_type": "code",
   "execution_count": null,
   "outputs": [],
   "source": [],
   "metadata": {
    "collapsed": false,
    "pycharm": {
     "name": "#%%\n"
    }
   }
  },
  {
   "cell_type": "code",
   "execution_count": null,
   "outputs": [],
   "source": [],
   "metadata": {
    "collapsed": false,
    "pycharm": {
     "name": "#%%\n"
    }
   }
  },
  {
   "cell_type": "code",
   "execution_count": null,
   "outputs": [],
   "source": [],
   "metadata": {
    "collapsed": false,
    "pycharm": {
     "name": "#%%\n"
    }
   }
  },
  {
   "cell_type": "code",
   "execution_count": null,
   "outputs": [],
   "source": [],
   "metadata": {
    "collapsed": false,
    "pycharm": {
     "name": "#%%\n"
    }
   }
  },
  {
   "cell_type": "code",
   "execution_count": null,
   "outputs": [],
   "source": [],
   "metadata": {
    "collapsed": false,
    "pycharm": {
     "name": "#%%\n"
    }
   }
  }
 ],
 "metadata": {
  "kernelspec": {
   "display_name": "Python 3",
   "language": "python",
   "name": "python3"
  },
  "language_info": {
   "codemirror_mode": {
    "name": "ipython",
    "version": 2
   },
   "file_extension": ".py",
   "mimetype": "text/x-python",
   "name": "python",
   "nbconvert_exporter": "python",
   "pygments_lexer": "ipython2",
   "version": "2.7.6"
  }
 },
 "nbformat": 4,
 "nbformat_minor": 0
}