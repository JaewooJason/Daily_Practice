{
 "cells": [
  {
   "cell_type": "code",
   "execution_count": 1,
   "metadata": {
    "collapsed": true
   },
   "outputs": [
    {
     "name": "stdout",
     "output_type": "stream",
     "text": [
      "numpy  version -  1.20.3\n",
      "pandas version -  1.3.4\n"
     ]
    }
   ],
   "source": [
    "import numpy  as np\n",
    "import pandas as pd\n",
    "\n",
    "import warnings\n",
    "warnings.filterwarnings(action='ignore')\n",
    "\n",
    "from datetime import date, datetime, timedelta\n",
    "from dateutil.parser import parse\n",
    "\n",
    "import json\n",
    "import urllib\n",
    "\n",
    "\n",
    "print('numpy  version - ' , np.__version__)\n",
    "print('pandas version - ' , pd.__version__)"
   ]
  },
  {
   "cell_type": "code",
   "execution_count": 4,
   "outputs": [
    {
     "name": "stdout",
     "output_type": "stream",
     "text": [
      "list 이용한 생성 - \n",
      "\n",
      "0    4000\n",
      "1    3000\n",
      "2    3500\n",
      "3    2000\n",
      "dtype: object\n",
      "\n",
      "type -  <class 'pandas.core.series.Series'>\n",
      "\n",
      "index , values - \n",
      "index  -  RangeIndex(start=0, stop=4, step=1)\n",
      "value  -  ['4000' 3000 3500 2000] <class 'numpy.ndarray'>\n",
      "dtype  -  int32\n",
      "\n",
      "원하는 값을 찾는다면? - 인덱싱이 가능하다 \n",
      "마이너스 인덱싱은 불가하다\n",
      "\n",
      "indexing -  4000\n",
      "slicing  - \n",
      " 0    4000\n",
      "1    3000\n",
      "2    3500\n",
      "dtype: int32\n"
     ]
    }
   ],
   "source": [
    "print('list 이용한 생성 - ')\n",
    "print()\n",
    "\n",
    "prices = pd.Series(['4000', 3000, 3500, 2000])\n",
    "print(prices)\n",
    "\n",
    "print()\n",
    "print('type - ' , type(prices))\n",
    "\n",
    "print()\n",
    "print('index , values - ')\n",
    "print('index  - ' , prices.index)\n",
    "print('value  - ' , prices.values , type(prices.values))\n",
    "prices = prices.astype('int32')\n",
    "print('dtype  - ' , prices.dtype)\n",
    "\n",
    "print()\n",
    "print('원하는 값을 찾는다면? - 인덱싱이 가능하다 ')\n",
    "print('마이너스 인덱싱은 불가하다')\n",
    "print()\n",
    "print('indexing - '   , prices[0] )\n",
    "print('slicing  - \\n' , prices[ : 3 ])\n",
    "# print('indexing - '   , prices[-1]) -- error"
   ],
   "metadata": {
    "collapsed": false,
    "pycharm": {
     "name": "#%%\n"
    }
   }
  },
  {
   "cell_type": "code",
   "execution_count": 5,
   "outputs": [
    {
     "name": "stdout",
     "output_type": "stream",
     "text": [
      "사용자 정의 인덱스 부여가 가능하다 - \n"
     ]
    }
   ],
   "source": [
    "print('사용자 정의 인덱스 부여가 가능하다 - ')\n",
    "\n",
    "prices = pd.Series([4000, 3000, 3500, 2000] ,\n",
    "                    index = ['a', 'b', 'c', 'd']   )"
   ],
   "metadata": {
    "collapsed": false,
    "pycharm": {
     "name": "#%%\n"
    }
   }
  },
  {
   "cell_type": "code",
   "execution_count": 10,
   "outputs": [
    {
     "name": "stdout",
     "output_type": "stream",
     "text": [
      "a    4000\n",
      "b    3000\n",
      "c    3500\n",
      "d    2000\n",
      "dtype: int64\n",
      "\n",
      "4000 <class 'numpy.int64'> 4000\n",
      "\n",
      "a    4000\n",
      "b    3000\n",
      "c    3500\n",
      "dtype: int64 <class 'pandas.core.series.Series'>\n",
      "\n",
      "인덱스가 존재하는지 -  True False\n",
      "Index(['a', 'b', 'c', 'd'], dtype='object')\n",
      "\n",
      "인덱스를 활용한 데이터 변경 - \n",
      "\n",
      "a    10000\n",
      "b     3000\n",
      "c     3500\n",
      "d     2000\n",
      "dtype: int64\n"
     ]
    }
   ],
   "source": [
    "print(prices)\n",
    "print()\n",
    "print(prices[0] , type(prices[0]) , prices['a'] )\n",
    "\n",
    "\n",
    "print()\n",
    "print(prices['a' : 'c'] , type(prices['a' : 'c']))\n",
    "print()\n",
    "print('인덱스가 존재하는지 - ' , 'a' in prices , 0 in prices)\n",
    "\n",
    "print(prices.index)\n",
    "\n",
    "print()\n",
    "print('인덱스를 활용한 데이터 변경 - ')\n",
    "prices['a'] = 10000\n",
    "print()\n",
    "print( prices )"
   ],
   "metadata": {
    "collapsed": false,
    "pycharm": {
     "name": "#%%\n"
    }
   }
  },
  {
   "cell_type": "code",
   "execution_count": 12,
   "outputs": [
    {
     "name": "stdout",
     "output_type": "stream",
     "text": [
      "\n",
      "데이터 추가 가능 - \n",
      "a    10000\n",
      "b     3000\n",
      "c     3500\n",
      "d     2000\n",
      "e     6000\n",
      "dtype: int64\n",
      "\n",
      "데이터 삭제 - \n",
      "a    10000\n",
      "b     3000\n",
      "c     3500\n",
      "d     2000\n",
      "dtype: int64\n"
     ]
    }
   ],
   "source": [
    "print()\n",
    "print('데이터 추가 가능 - ')\n",
    "prices['e'] = 6000\n",
    "print( prices )\n",
    "print()\n",
    "print('데이터 삭제 - ')\n",
    "del prices['e']\n",
    "print( prices )"
   ],
   "metadata": {
    "collapsed": false,
    "pycharm": {
     "name": "#%%\n"
    }
   }
  },
  {
   "cell_type": "code",
   "execution_count": 13,
   "outputs": [
    {
     "name": "stdout",
     "output_type": "stream",
     "text": [
      "\n",
      "벡터화 연산이 가능하다 - \n",
      "0    40000\n",
      "1    30000\n",
      "2    35000\n",
      "3    20000\n",
      "dtype: int64\n",
      "0    4000\n",
      "1    3000\n",
      "2    3500\n",
      "3    2000\n",
      "dtype: int64\n"
     ]
    }
   ],
   "source": [
    "prices = pd.Series([4000, 3000, 3500, 2000])\n",
    "print()\n",
    "print('벡터화 연산이 가능하다 - ')\n",
    "print( prices * 10 )\n",
    "print( prices )"
   ],
   "metadata": {
    "collapsed": false,
    "pycharm": {
     "name": "#%%\n"
    }
   }
  },
  {
   "cell_type": "code",
   "execution_count": 14,
   "outputs": [
    {
     "name": "stdout",
     "output_type": "stream",
     "text": [
      "\n",
      "조건식을 활용 할 수 있다 - \n"
     ]
    },
    {
     "data": {
      "text/plain": "0    4000\n2    3500\ndtype: int64"
     },
     "execution_count": 14,
     "metadata": {},
     "output_type": "execute_result"
    }
   ],
   "source": [
    "print()\n",
    "print('조건식을 활용 할 수 있다 - ')\n",
    "\n",
    "prices[ prices > 3000 ]"
   ],
   "metadata": {
    "collapsed": false,
    "pycharm": {
     "name": "#%%\n"
    }
   }
  },
  {
   "cell_type": "code",
   "execution_count": null,
   "outputs": [],
   "source": [],
   "metadata": {
    "collapsed": false,
    "pycharm": {
     "name": "#%%\n"
    }
   }
  },
  {
   "cell_type": "code",
   "execution_count": null,
   "outputs": [],
   "source": [],
   "metadata": {
    "collapsed": false,
    "pycharm": {
     "name": "#%%\n"
    }
   }
  },
  {
   "cell_type": "code",
   "execution_count": null,
   "outputs": [],
   "source": [],
   "metadata": {
    "collapsed": false,
    "pycharm": {
     "name": "#%%\n"
    }
   }
  },
  {
   "cell_type": "code",
   "execution_count": null,
   "outputs": [],
   "source": [],
   "metadata": {
    "collapsed": false,
    "pycharm": {
     "name": "#%%\n"
    }
   }
  },
  {
   "cell_type": "code",
   "execution_count": null,
   "outputs": [],
   "source": [],
   "metadata": {
    "collapsed": false,
    "pycharm": {
     "name": "#%%\n"
    }
   }
  },
  {
   "cell_type": "code",
   "execution_count": null,
   "outputs": [],
   "source": [],
   "metadata": {
    "collapsed": false,
    "pycharm": {
     "name": "#%%\n"
    }
   }
  },
  {
   "cell_type": "code",
   "execution_count": null,
   "outputs": [],
   "source": [],
   "metadata": {
    "collapsed": false,
    "pycharm": {
     "name": "#%%\n"
    }
   }
  },
  {
   "cell_type": "code",
   "execution_count": null,
   "outputs": [],
   "source": [],
   "metadata": {
    "collapsed": false,
    "pycharm": {
     "name": "#%%\n"
    }
   }
  },
  {
   "cell_type": "code",
   "execution_count": null,
   "outputs": [],
   "source": [],
   "metadata": {
    "collapsed": false,
    "pycharm": {
     "name": "#%%\n"
    }
   }
  },
  {
   "cell_type": "code",
   "execution_count": null,
   "outputs": [],
   "source": [],
   "metadata": {
    "collapsed": false,
    "pycharm": {
     "name": "#%%\n"
    }
   }
  },
  {
   "cell_type": "code",
   "execution_count": null,
   "outputs": [],
   "source": [],
   "metadata": {
    "collapsed": false,
    "pycharm": {
     "name": "#%%\n"
    }
   }
  },
  {
   "cell_type": "code",
   "execution_count": null,
   "outputs": [],
   "source": [],
   "metadata": {
    "collapsed": false,
    "pycharm": {
     "name": "#%%\n"
    }
   }
  },
  {
   "cell_type": "code",
   "execution_count": null,
   "outputs": [],
   "source": [],
   "metadata": {
    "collapsed": false,
    "pycharm": {
     "name": "#%%\n"
    }
   }
  },
  {
   "cell_type": "code",
   "execution_count": null,
   "outputs": [],
   "source": [],
   "metadata": {
    "collapsed": false,
    "pycharm": {
     "name": "#%%\n"
    }
   }
  },
  {
   "cell_type": "code",
   "execution_count": null,
   "outputs": [],
   "source": [],
   "metadata": {
    "collapsed": false,
    "pycharm": {
     "name": "#%%\n"
    }
   }
  },
  {
   "cell_type": "code",
   "execution_count": null,
   "outputs": [],
   "source": [],
   "metadata": {
    "collapsed": false,
    "pycharm": {
     "name": "#%%\n"
    }
   }
  }
 ],
 "metadata": {
  "kernelspec": {
   "display_name": "Python 3",
   "language": "python",
   "name": "python3"
  },
  "language_info": {
   "codemirror_mode": {
    "name": "ipython",
    "version": 2
   },
   "file_extension": ".py",
   "mimetype": "text/x-python",
   "name": "python",
   "nbconvert_exporter": "python",
   "pygments_lexer": "ipython2",
   "version": "2.7.6"
  }
 },
 "nbformat": 4,
 "nbformat_minor": 0
}