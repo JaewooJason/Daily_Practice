{
 "cells": [
  {
   "cell_type": "code",
   "execution_count": 1,
   "metadata": {
    "collapsed": true
   },
   "outputs": [
    {
     "name": "stdout",
     "output_type": "stream",
     "text": [
      "numpy  version -  1.20.3\n",
      "pandas version -  1.3.4\n"
     ]
    }
   ],
   "source": [
    "import numpy  as np\n",
    "import pandas as pd\n",
    "\n",
    "import warnings\n",
    "warnings.filterwarnings(action='ignore')\n",
    "\n",
    "from datetime import date, datetime, timedelta\n",
    "from dateutil.parser import parse\n",
    "\n",
    "import json\n",
    "import urllib\n",
    "\n",
    "\n",
    "print('numpy  version - ' , np.__version__)\n",
    "print('pandas version - ' , pd.__version__)"
   ]
  },
  {
   "cell_type": "code",
   "execution_count": 2,
   "outputs": [
    {
     "name": "stdout",
     "output_type": "stream",
     "text": [
      "list 이용한 생성 - \n",
      "\n",
      "0    4000\n",
      "1    3000\n",
      "2    3500\n",
      "3    2000\n",
      "dtype: object\n",
      "\n",
      "type -  <class 'pandas.core.series.Series'>\n",
      "\n",
      "index , values - \n",
      "index  -  RangeIndex(start=0, stop=4, step=1)\n",
      "value  -  ['4000' 3000 3500 2000] <class 'numpy.ndarray'>\n",
      "dtype  -  int32\n",
      "\n",
      "원하는 값을 찾는다면? - 인덱싱이 가능하다 \n",
      "마이너스 인덱싱은 불가하다\n",
      "\n",
      "indexing -  4000\n",
      "slicing  - \n",
      " 0    4000\n",
      "1    3000\n",
      "2    3500\n",
      "dtype: int32\n"
     ]
    }
   ],
   "source": [
    "print('list 이용한 생성 - ')\n",
    "print()\n",
    "\n",
    "prices = pd.Series(['4000', 3000, 3500, 2000])\n",
    "print(prices)\n",
    "\n",
    "print()\n",
    "print('type - ' , type(prices))\n",
    "\n",
    "print()\n",
    "print('index , values - ')\n",
    "print('index  - ' , prices.index)\n",
    "print('value  - ' , prices.values , type(prices.values))\n",
    "prices = prices.astype('int32')\n",
    "print('dtype  - ' , prices.dtype)\n",
    "\n",
    "print()\n",
    "print('원하는 값을 찾는다면? - 인덱싱이 가능하다 ')\n",
    "print('마이너스 인덱싱은 불가하다')\n",
    "print()\n",
    "print('indexing - '   , prices[0] )\n",
    "print('slicing  - \\n' , prices[ : 3 ])\n",
    "# print('indexing - '   , prices[-1]) -- error"
   ],
   "metadata": {
    "collapsed": false,
    "pycharm": {
     "name": "#%%\n"
    }
   }
  },
  {
   "cell_type": "code",
   "execution_count": 3,
   "outputs": [
    {
     "name": "stdout",
     "output_type": "stream",
     "text": [
      "사용자 정의 인덱스 부여가 가능하다 - \n"
     ]
    }
   ],
   "source": [
    "print('사용자 정의 인덱스 부여가 가능하다 - ')\n",
    "\n",
    "prices = pd.Series([4000, 3000, 3500, 2000] ,\n",
    "                    index = ['a', 'b', 'c', 'd']   )"
   ],
   "metadata": {
    "collapsed": false,
    "pycharm": {
     "name": "#%%\n"
    }
   }
  },
  {
   "cell_type": "code",
   "execution_count": 4,
   "outputs": [
    {
     "name": "stdout",
     "output_type": "stream",
     "text": [
      "a    4000\n",
      "b    3000\n",
      "c    3500\n",
      "d    2000\n",
      "dtype: int64\n",
      "\n",
      "4000 <class 'numpy.int64'> 4000\n",
      "\n",
      "a    4000\n",
      "b    3000\n",
      "c    3500\n",
      "dtype: int64 <class 'pandas.core.series.Series'>\n",
      "\n",
      "인덱스가 존재하는지 -  True False\n",
      "Index(['a', 'b', 'c', 'd'], dtype='object')\n",
      "\n",
      "인덱스를 활용한 데이터 변경 - \n",
      "\n",
      "a    10000\n",
      "b     3000\n",
      "c     3500\n",
      "d     2000\n",
      "dtype: int64\n"
     ]
    }
   ],
   "source": [
    "print(prices)\n",
    "print()\n",
    "print(prices[0] , type(prices[0]) , prices['a'] )\n",
    "\n",
    "\n",
    "print()\n",
    "print(prices['a' : 'c'] , type(prices['a' : 'c']))\n",
    "print()\n",
    "print('인덱스가 존재하는지 - ' , 'a' in prices , 0 in prices)\n",
    "\n",
    "print(prices.index)\n",
    "\n",
    "print()\n",
    "print('인덱스를 활용한 데이터 변경 - ')\n",
    "prices['a'] = 10000\n",
    "print()\n",
    "print( prices )"
   ],
   "metadata": {
    "collapsed": false,
    "pycharm": {
     "name": "#%%\n"
    }
   }
  },
  {
   "cell_type": "code",
   "execution_count": 5,
   "outputs": [
    {
     "name": "stdout",
     "output_type": "stream",
     "text": [
      "\n",
      "데이터 추가 가능 - \n",
      "a    10000\n",
      "b     3000\n",
      "c     3500\n",
      "d     2000\n",
      "e     6000\n",
      "dtype: int64\n",
      "\n",
      "데이터 삭제 - \n",
      "a    10000\n",
      "b     3000\n",
      "c     3500\n",
      "d     2000\n",
      "dtype: int64\n"
     ]
    }
   ],
   "source": [
    "print()\n",
    "print('데이터 추가 가능 - ')\n",
    "prices['e'] = 6000\n",
    "print( prices )\n",
    "print()\n",
    "print('데이터 삭제 - ')\n",
    "del prices['e']\n",
    "print( prices )"
   ],
   "metadata": {
    "collapsed": false,
    "pycharm": {
     "name": "#%%\n"
    }
   }
  },
  {
   "cell_type": "code",
   "execution_count": 6,
   "outputs": [
    {
     "name": "stdout",
     "output_type": "stream",
     "text": [
      "\n",
      "벡터화 연산이 가능하다 - \n",
      "0    40000\n",
      "1    30000\n",
      "2    35000\n",
      "3    20000\n",
      "dtype: int64\n",
      "0    4000\n",
      "1    3000\n",
      "2    3500\n",
      "3    2000\n",
      "dtype: int64\n"
     ]
    }
   ],
   "source": [
    "prices = pd.Series([4000, 3000, 3500, 2000])\n",
    "print()\n",
    "print('벡터화 연산이 가능하다 - ')\n",
    "print( prices * 10 )\n",
    "print( prices )"
   ],
   "metadata": {
    "collapsed": false,
    "pycharm": {
     "name": "#%%\n"
    }
   }
  },
  {
   "cell_type": "code",
   "execution_count": 7,
   "outputs": [
    {
     "name": "stdout",
     "output_type": "stream",
     "text": [
      "\n",
      "조건식을 활용 할 수 있다 - \n"
     ]
    },
    {
     "data": {
      "text/plain": "0    4000\n2    3500\ndtype: int64"
     },
     "execution_count": 7,
     "metadata": {},
     "output_type": "execute_result"
    }
   ],
   "source": [
    "print()\n",
    "print('조건식을 활용 할 수 있다 - ')\n",
    "\n",
    "prices[ prices > 3000 ]"
   ],
   "metadata": {
    "collapsed": false,
    "pycharm": {
     "name": "#%%\n"
    }
   }
  },
  {
   "cell_type": "code",
   "execution_count": 8,
   "outputs": [
    {
     "name": "stdout",
     "output_type": "stream",
     "text": [
      "dict , tuple , set  생성이 가능 -\n",
      "\n",
      "name    Jason\n",
      "age        25\n",
      "dtype: object\n",
      "index -  Index(['name', 'age'], dtype='object')\n",
      "value -  ['Jason' 25]\n",
      "\n",
      "\n",
      "0    10\n",
      "1    20\n",
      "2    30\n",
      "dtype: int64\n",
      "index -  RangeIndex(start=0, stop=3, step=1)\n",
      "value -  [10 20 30]\n",
      "\n",
      "set 은 주의하셔야 한다 - \n",
      "0    10\n",
      "1    20\n",
      "2    30\n",
      "dtype: int64\n",
      "index -  RangeIndex(start=0, stop=3, step=1)\n",
      "value -  [10 20 30]\n"
     ]
    }
   ],
   "source": [
    "print('dict , tuple , set  생성이 가능 -')\n",
    "print()\n",
    "person = pd.Series({ 'name' : 'Jason' , 'age' : 25 })\n",
    "print( person )\n",
    "print('index - ' , person.index)\n",
    "print('value - ' , person.values)\n",
    "print()\n",
    "print()\n",
    "ages = pd.Series( (10, 20, 30) )\n",
    "print( ages )\n",
    "print('index - ' , ages.index)\n",
    "print('value - ' , ages.values)\n",
    "\n",
    "print()\n",
    "print('set 은 주의하셔야 한다 - ')\n",
    "ages = pd.Series( list( {10, 20, 30} ) )\n",
    "print( ages )\n",
    "print('index - ' , ages.index)\n",
    "print('value - ' , ages.values)"
   ],
   "metadata": {
    "collapsed": false,
    "pycharm": {
     "name": "#%%\n"
    }
   }
  },
  {
   "cell_type": "code",
   "execution_count": 9,
   "outputs": [
    {
     "data": {
      "text/plain": "구 구별\n강남    1\n서초    2\n방배    3\n동작    4\n광진    5\nName: 특정한 의미를 부여할 수 있다, dtype: int64"
     },
     "execution_count": 9,
     "metadata": {},
     "output_type": "execute_result"
    }
   ],
   "source": [
    "tmp = pd.Series([1,2,3,4,5],\n",
    "                index = ['강남', '서초', '방배', '동작', '광진'] )\n",
    "\n",
    "tmp.name = '특정한 의미를 부여할 수 있다'\n",
    "tmp.index.name= '구 구별'\n",
    "tmp"
   ],
   "metadata": {
    "collapsed": false,
    "pycharm": {
     "name": "#%%\n"
    }
   }
  },
  {
   "cell_type": "code",
   "execution_count": 10,
   "outputs": [
    {
     "data": {
      "text/plain": "0     10.0\n1     11.0\n2     12.0\n3     13.0\n4     14.0\n5     15.0\n6     16.0\n7     17.0\n8     18.0\n9     19.0\n10    20.0\ndtype: float32"
     },
     "execution_count": 10,
     "metadata": {},
     "output_type": "execute_result"
    }
   ],
   "source": [
    "tmp = pd.Series( range(10, 21) , dtype = 'f')\n",
    "tmp"
   ],
   "metadata": {
    "collapsed": false,
    "pycharm": {
     "name": "#%%\n"
    }
   }
  },
  {
   "cell_type": "code",
   "execution_count": 11,
   "outputs": [
    {
     "name": "stdout",
     "output_type": "stream",
     "text": [
      "0     100.0\n",
      "1     110.0\n",
      "2     120.0\n",
      "3     130.0\n",
      "4     140.0\n",
      "5     150.0\n",
      "6     160.0\n",
      "7     170.0\n",
      "8     180.0\n",
      "9     190.0\n",
      "10    200.0\n",
      "dtype: float32\n"
     ]
    }
   ],
   "source": [
    "print( tmp * 10)"
   ],
   "metadata": {
    "collapsed": false,
    "pycharm": {
     "name": "#%%\n"
    }
   }
  },
  {
   "cell_type": "code",
   "execution_count": 12,
   "outputs": [
    {
     "name": "stdout",
     "output_type": "stream",
     "text": [
      "0     10.0\n",
      "2     12.0\n",
      "4     14.0\n",
      "6     16.0\n",
      "8     18.0\n",
      "10    20.0\n",
      "dtype: float32\n"
     ]
    }
   ],
   "source": [
    "print( tmp[ tmp%2 == 0 ] )"
   ],
   "metadata": {
    "collapsed": false,
    "pycharm": {
     "name": "#%%\n"
    }
   }
  },
  {
   "cell_type": "code",
   "execution_count": 13,
   "outputs": [
    {
     "name": "stdout",
     "output_type": "stream",
     "text": [
      "날짜와 시간을 인덱스로 활용한다면? - \n",
      "2022-03-26 00:00:00\n"
     ]
    }
   ],
   "source": [
    "print('날짜와 시간을 인덱스로 활용한다면? - ')\n",
    "\n",
    "day = datetime(2022, 3, 25)\n",
    "print( day + timedelta(days=1) )"
   ],
   "metadata": {
    "collapsed": false,
    "pycharm": {
     "name": "#%%\n"
    }
   }
  },
  {
   "cell_type": "code",
   "execution_count": 14,
   "outputs": [
    {
     "name": "stdout",
     "output_type": "stream",
     "text": [
      "[실습] 평균이 50이고 편차 5인 정규분포 데이터를 10일간 만들고 싶다면? - \n",
      " np.random.normal(50, 5, 10) \n"
     ]
    }
   ],
   "source": [
    "print('[실습] 평균이 50이고 편차 5인 정규분포 데이터를 10일간 만들고 싶다면? - ')\n",
    "print(' np.random.normal(50, 5, 10) ')"
   ],
   "metadata": {
    "collapsed": false,
    "pycharm": {
     "name": "#%%\n"
    }
   }
  },
  {
   "cell_type": "code",
   "execution_count": 15,
   "outputs": [
    {
     "data": {
      "text/plain": "array([51.33000214, 42.5967977 , 49.50260244, 49.82688661, 50.55919635,\n       53.87158451, 53.08334299, 48.36381287, 59.53415891, 41.95872587])"
     },
     "execution_count": 15,
     "metadata": {},
     "output_type": "execute_result"
    }
   ],
   "source": [
    "np.random.normal(50, 5, 10)"
   ],
   "metadata": {
    "collapsed": false,
    "pycharm": {
     "name": "#%%\n"
    }
   }
  },
  {
   "cell_type": "code",
   "execution_count": 16,
   "outputs": [],
   "source": [
    "factory01 = pd.Series( np.random.normal(50, 5, 10) ,\n",
    "                       index = [ day + timedelta(days = d) for d in range(10) ])\n",
    "factory02 = pd.Series( np.random.normal(50, 5, 10) ,\n",
    "                       index = [ day + timedelta(days = d) for d in range(10) ])"
   ],
   "metadata": {
    "collapsed": false,
    "pycharm": {
     "name": "#%%\n"
    }
   }
  },
  {
   "cell_type": "code",
   "execution_count": 17,
   "outputs": [
    {
     "data": {
      "text/plain": "2022-03-25    50.701058\n2022-03-26    46.174267\n2022-03-27    47.317256\n2022-03-28    46.005921\n2022-03-29    55.083138\n2022-03-30    48.337512\n2022-03-31    49.813267\n2022-04-01    51.062722\n2022-04-02    52.942698\n2022-04-03    42.758621\ndtype: float64"
     },
     "execution_count": 17,
     "metadata": {},
     "output_type": "execute_result"
    }
   ],
   "source": [
    "factory01"
   ],
   "metadata": {
    "collapsed": false,
    "pycharm": {
     "name": "#%%\n"
    }
   }
  },
  {
   "cell_type": "code",
   "execution_count": 18,
   "outputs": [
    {
     "data": {
      "text/plain": "2022-03-25    46.370671\n2022-03-26    40.500943\n2022-03-27    48.480478\n2022-03-28    52.356403\n2022-03-29    58.505241\n2022-03-30    53.336545\n2022-03-31    46.792928\n2022-04-01    50.435645\n2022-04-02    42.711470\n2022-04-03    59.807915\ndtype: float64"
     },
     "execution_count": 18,
     "metadata": {},
     "output_type": "execute_result"
    }
   ],
   "source": [
    "factory02"
   ],
   "metadata": {
    "collapsed": false,
    "pycharm": {
     "name": "#%%\n"
    }
   }
  },
  {
   "cell_type": "code",
   "execution_count": 19,
   "outputs": [],
   "source": [
    "factory = factory01 + factory02"
   ],
   "metadata": {
    "collapsed": false,
    "pycharm": {
     "name": "#%%\n"
    }
   }
  },
  {
   "cell_type": "code",
   "execution_count": 20,
   "outputs": [
    {
     "data": {
      "text/plain": "2022-03-25     97.071729\n2022-03-26     86.675210\n2022-03-27     95.797734\n2022-03-28     98.362325\n2022-03-29    113.588379\n2022-03-30    101.674057\n2022-03-31     96.606195\n2022-04-01    101.498367\n2022-04-02     95.654168\n2022-04-03    102.566536\ndtype: float64"
     },
     "execution_count": 20,
     "metadata": {},
     "output_type": "execute_result"
    }
   ],
   "source": [
    "factory"
   ],
   "metadata": {
    "collapsed": false,
    "pycharm": {
     "name": "#%%\n"
    }
   }
  },
  {
   "cell_type": "code",
   "execution_count": 21,
   "outputs": [
    {
     "name": "stdout",
     "output_type": "stream",
     "text": [
      "결측값 확인 함수 - pd.isnull() \n",
      "2022-03-25    False\n",
      "2022-03-26    False\n",
      "2022-03-27    False\n",
      "2022-03-28    False\n",
      "2022-03-29    False\n",
      "2022-03-30    False\n",
      "2022-03-31    False\n",
      "2022-04-01    False\n",
      "2022-04-02    False\n",
      "2022-04-03    False\n",
      "dtype: bool\n",
      "\n",
      "Series([], dtype: float64)\n",
      "\n",
      "2022-03-25     97.071729\n",
      "2022-03-26     86.675210\n",
      "2022-03-27     95.797734\n",
      "2022-03-28     98.362325\n",
      "2022-03-29    113.588379\n",
      "2022-03-30    101.674057\n",
      "2022-03-31     96.606195\n",
      "2022-04-01    101.498367\n",
      "2022-04-02     95.654168\n",
      "2022-04-03    102.566536\n",
      "dtype: float64\n",
      "결측값을 넣어줄 때 - np.NaN \n"
     ]
    }
   ],
   "source": [
    "print('결측값 확인 함수 - pd.isnull() ')\n",
    "print( pd.isnull(factory) )\n",
    "# print( factory.isnull() )\n",
    "\n",
    "print()\n",
    "print( factory[ factory.isnull()  ] )\n",
    "\n",
    "print()\n",
    "print( factory[ factory.notnull()  ] )\n",
    "\n",
    "print('결측값을 넣어줄 때 - np.NaN ')\n",
    "factory['2022-04-03'] = np.NaN"
   ],
   "metadata": {
    "collapsed": false,
    "pycharm": {
     "name": "#%%\n"
    }
   }
  },
  {
   "cell_type": "code",
   "execution_count": 22,
   "outputs": [
    {
     "data": {
      "text/plain": "2022-03-25     97.071729\n2022-03-26     86.675210\n2022-03-27     95.797734\n2022-03-28     98.362325\n2022-03-29    113.588379\n2022-03-30    101.674057\n2022-03-31     96.606195\n2022-04-01    101.498367\n2022-04-02     95.654168\n2022-04-03           NaN\ndtype: float64"
     },
     "execution_count": 22,
     "metadata": {},
     "output_type": "execute_result"
    }
   ],
   "source": [
    "f = factory.astype('float')\n",
    "f"
   ],
   "metadata": {
    "collapsed": false,
    "pycharm": {
     "name": "#%%\n"
    }
   }
  },
  {
   "cell_type": "code",
   "execution_count": 23,
   "outputs": [],
   "source": [
    "def frmInfo(df) :\n",
    "    display('data - ' , df )\n",
    "    print()\n",
    "    print('shape   - ' , df.shape , df.shape[0] , df.shape[1])\n",
    "    print('size    - ' , df.size )\n",
    "    print('ndim    - ' , df.ndim)\n",
    "    print('index   - ' , df.index    , type(df.index))\n",
    "    print('columns - ' , df.columns  , type( df.columns ))\n",
    "    print('values  - \\n' , df.values , type(df.values) )"
   ],
   "metadata": {
    "collapsed": false,
    "pycharm": {
     "name": "#%%\n"
    }
   }
  },
  {
   "cell_type": "code",
   "execution_count": 24,
   "outputs": [
    {
     "name": "stdout",
     "output_type": "stream",
     "text": [
      "dict를 이용한 생성 - \n"
     ]
    },
    {
     "data": {
      "text/plain": "'data - '"
     },
     "metadata": {},
     "output_type": "display_data"
    },
    {
     "data": {
      "text/plain": "   col01  col02  col03  col04  col05\n0      1      4      7     10     13\n1      2      5      8     11     14\n2      3      6      9     12     15",
      "text/html": "<div>\n<style scoped>\n    .dataframe tbody tr th:only-of-type {\n        vertical-align: middle;\n    }\n\n    .dataframe tbody tr th {\n        vertical-align: top;\n    }\n\n    .dataframe thead th {\n        text-align: right;\n    }\n</style>\n<table border=\"1\" class=\"dataframe\">\n  <thead>\n    <tr style=\"text-align: right;\">\n      <th></th>\n      <th>col01</th>\n      <th>col02</th>\n      <th>col03</th>\n      <th>col04</th>\n      <th>col05</th>\n    </tr>\n  </thead>\n  <tbody>\n    <tr>\n      <th>0</th>\n      <td>1</td>\n      <td>4</td>\n      <td>7</td>\n      <td>10</td>\n      <td>13</td>\n    </tr>\n    <tr>\n      <th>1</th>\n      <td>2</td>\n      <td>5</td>\n      <td>8</td>\n      <td>11</td>\n      <td>14</td>\n    </tr>\n    <tr>\n      <th>2</th>\n      <td>3</td>\n      <td>6</td>\n      <td>9</td>\n      <td>12</td>\n      <td>15</td>\n    </tr>\n  </tbody>\n</table>\n</div>"
     },
     "metadata": {},
     "output_type": "display_data"
    },
    {
     "name": "stdout",
     "output_type": "stream",
     "text": [
      "\n",
      "shape   -  (3, 5) 3 5\n",
      "size    -  15\n",
      "ndim    -  2\n",
      "index   -  RangeIndex(start=0, stop=3, step=1) <class 'pandas.core.indexes.range.RangeIndex'>\n",
      "columns -  Index(['col01', 'col02', 'col03', 'col04', 'col05'], dtype='object') <class 'pandas.core.indexes.base.Index'>\n",
      "values  - \n",
      " [[ 1  4  7 10 13]\n",
      " [ 2  5  8 11 14]\n",
      " [ 3  6  9 12 15]] <class 'numpy.ndarray'>\n"
     ]
    }
   ],
   "source": [
    "print('dict를 이용한 생성 - ' )\n",
    "\n",
    "dict_data = {\n",
    "    'col01' : [1, 2, 3],\n",
    "    'col02' : [4, 5, 6],\n",
    "    'col03' : [7, 8, 9],\n",
    "    'col04' : [10, 11, 12],\n",
    "    'col05' : [13, 14, 15]\n",
    "}\n",
    "tmp_df = pd.DataFrame(dict_data)\n",
    "frmInfo( tmp_df )"
   ],
   "metadata": {
    "collapsed": false,
    "pycharm": {
     "name": "#%%\n"
    }
   }
  },
  {
   "cell_type": "code",
   "execution_count": 25,
   "outputs": [
    {
     "name": "stdout",
     "output_type": "stream",
     "text": [
      "0    1\n",
      "1    2\n",
      "2    3\n",
      "Name: col01, dtype: int64 <class 'pandas.core.series.Series'>\n",
      "RangeIndex(start=0, stop=3, step=1) [1 2 3]\n",
      "1 <class 'numpy.int64'>\n"
     ]
    }
   ],
   "source": [
    "print( tmp_df['col01'] , type(tmp_df['col01']) )\n",
    "print( tmp_df['col01'].index , tmp_df['col01'].values)\n",
    "print( tmp_df['col01'][0] , type(tmp_df['col01'][0]) )\n"
   ],
   "metadata": {
    "collapsed": false,
    "pycharm": {
     "name": "#%%\n"
    }
   }
  },
  {
   "cell_type": "code",
   "execution_count": 26,
   "outputs": [
    {
     "name": "stdout",
     "output_type": "stream",
     "text": [
      "리스트를 이용한 생성 - \n",
      "\n"
     ]
    },
    {
     "data": {
      "text/plain": "'data - '"
     },
     "metadata": {},
     "output_type": "display_data"
    },
    {
     "data": {
      "text/plain": "       나이 성별   결혼여부\nName   20  M  False\nJason  30  F   True",
      "text/html": "<div>\n<style scoped>\n    .dataframe tbody tr th:only-of-type {\n        vertical-align: middle;\n    }\n\n    .dataframe tbody tr th {\n        vertical-align: top;\n    }\n\n    .dataframe thead th {\n        text-align: right;\n    }\n</style>\n<table border=\"1\" class=\"dataframe\">\n  <thead>\n    <tr style=\"text-align: right;\">\n      <th></th>\n      <th>나이</th>\n      <th>성별</th>\n      <th>결혼여부</th>\n    </tr>\n  </thead>\n  <tbody>\n    <tr>\n      <th>Name</th>\n      <td>20</td>\n      <td>M</td>\n      <td>False</td>\n    </tr>\n    <tr>\n      <th>Jason</th>\n      <td>30</td>\n      <td>F</td>\n      <td>True</td>\n    </tr>\n  </tbody>\n</table>\n</div>"
     },
     "metadata": {},
     "output_type": "display_data"
    },
    {
     "name": "stdout",
     "output_type": "stream",
     "text": [
      "\n",
      "shape   -  (2, 3) 2 3\n",
      "size    -  6\n",
      "ndim    -  2\n",
      "index   -  Index(['Name', 'Jason'], dtype='object') <class 'pandas.core.indexes.base.Index'>\n",
      "columns -  Index(['나이', '성별', '결혼여부'], dtype='object') <class 'pandas.core.indexes.base.Index'>\n",
      "values  - \n",
      " [[20 'M' False]\n",
      " [30 'F' True]] <class 'numpy.ndarray'>\n"
     ]
    }
   ],
   "source": [
    "print('리스트를 이용한 생성 - ')\n",
    "print()\n",
    "tmp_df = pd.DataFrame( [ [20, 'M', False] , [30, 'F', True] ] ,\n",
    "                       index   = ['Name' , 'Jason'] ,\n",
    "                       columns = ['나이' , '성별' , '결혼여부'])\n",
    "frmInfo(tmp_df)"
   ],
   "metadata": {
    "collapsed": false,
    "pycharm": {
     "name": "#%%\n"
    }
   }
  },
  {
   "cell_type": "code",
   "execution_count": 27,
   "outputs": [
    {
     "name": "stdout",
     "output_type": "stream",
     "text": [
      "인덱스 이름 변경 - rename() , inplace - \n"
     ]
    },
    {
     "data": {
      "text/plain": "'data - '"
     },
     "metadata": {},
     "output_type": "display_data"
    },
    {
     "data": {
      "text/plain": "       연세 남녀     혼인\nName   20  M  False\nJason  30  F   True",
      "text/html": "<div>\n<style scoped>\n    .dataframe tbody tr th:only-of-type {\n        vertical-align: middle;\n    }\n\n    .dataframe tbody tr th {\n        vertical-align: top;\n    }\n\n    .dataframe thead th {\n        text-align: right;\n    }\n</style>\n<table border=\"1\" class=\"dataframe\">\n  <thead>\n    <tr style=\"text-align: right;\">\n      <th></th>\n      <th>연세</th>\n      <th>남녀</th>\n      <th>혼인</th>\n    </tr>\n  </thead>\n  <tbody>\n    <tr>\n      <th>Name</th>\n      <td>20</td>\n      <td>M</td>\n      <td>False</td>\n    </tr>\n    <tr>\n      <th>Jason</th>\n      <td>30</td>\n      <td>F</td>\n      <td>True</td>\n    </tr>\n  </tbody>\n</table>\n</div>"
     },
     "metadata": {},
     "output_type": "display_data"
    },
    {
     "name": "stdout",
     "output_type": "stream",
     "text": [
      "\n",
      "shape   -  (2, 3) 2 3\n",
      "size    -  6\n",
      "ndim    -  2\n",
      "index   -  Index(['Name', 'Jason'], dtype='object') <class 'pandas.core.indexes.base.Index'>\n",
      "columns -  Index(['연세', '남녀', '혼인'], dtype='object') <class 'pandas.core.indexes.base.Index'>\n",
      "values  - \n",
      " [[20 'M' False]\n",
      " [30 'F' True]] <class 'numpy.ndarray'>\n"
     ]
    }
   ],
   "source": [
    "print('인덱스 이름 변경 - rename() , inplace - ')\n",
    "\n",
    "tmp_df.rename(columns = {'나이' : '연세' , '성별' : '남녀' , '결혼여부' : '혼인'} , inplace = True  )\n",
    "tmp_df.rename(index   = {'섭섭해' : '이이슬' , '임섭순' : '이현호'} , inplace = True  )\n",
    "frmInfo(tmp_df)"
   ],
   "metadata": {
    "collapsed": false,
    "pycharm": {
     "name": "#%%\n"
    }
   }
  },
  {
   "cell_type": "code",
   "execution_count": 30,
   "outputs": [
    {
     "data": {
      "text/plain": "'data - '"
     },
     "metadata": {},
     "output_type": "display_data"
    },
    {
     "data": {
      "text/plain": "     지역  2010  2012    2017      2022     증가율\n서울  특별시     1     1  100000  35325412  0.2324\n부산  경상권     2     2  200000  23535634  0.0434\n경기  수도권     3     3  300000  13453264  0.0944\n인천  수도권     4     4  400000  34242345  0.0034",
      "text/html": "<div>\n<style scoped>\n    .dataframe tbody tr th:only-of-type {\n        vertical-align: middle;\n    }\n\n    .dataframe tbody tr th {\n        vertical-align: top;\n    }\n\n    .dataframe thead th {\n        text-align: right;\n    }\n</style>\n<table border=\"1\" class=\"dataframe\">\n  <thead>\n    <tr style=\"text-align: right;\">\n      <th></th>\n      <th>지역</th>\n      <th>2010</th>\n      <th>2012</th>\n      <th>2017</th>\n      <th>2022</th>\n      <th>증가율</th>\n    </tr>\n  </thead>\n  <tbody>\n    <tr>\n      <th>서울</th>\n      <td>특별시</td>\n      <td>1</td>\n      <td>1</td>\n      <td>100000</td>\n      <td>35325412</td>\n      <td>0.2324</td>\n    </tr>\n    <tr>\n      <th>부산</th>\n      <td>경상권</td>\n      <td>2</td>\n      <td>2</td>\n      <td>200000</td>\n      <td>23535634</td>\n      <td>0.0434</td>\n    </tr>\n    <tr>\n      <th>경기</th>\n      <td>수도권</td>\n      <td>3</td>\n      <td>3</td>\n      <td>300000</td>\n      <td>13453264</td>\n      <td>0.0944</td>\n    </tr>\n    <tr>\n      <th>인천</th>\n      <td>수도권</td>\n      <td>4</td>\n      <td>4</td>\n      <td>400000</td>\n      <td>34242345</td>\n      <td>0.0034</td>\n    </tr>\n  </tbody>\n</table>\n</div>"
     },
     "metadata": {},
     "output_type": "display_data"
    },
    {
     "name": "stdout",
     "output_type": "stream",
     "text": [
      "\n",
      "shape   -  (4, 6) 4 6\n",
      "size    -  24\n",
      "ndim    -  2\n",
      "index   -  Index(['서울', '부산', '경기', '인천'], dtype='object') <class 'pandas.core.indexes.base.Index'>\n",
      "columns -  Index(['지역', '2010', '2012', '2017', '2022', '증가율'], dtype='object') <class 'pandas.core.indexes.base.Index'>\n",
      "values  - \n",
      " [['특별시' 1 1 100000 35325412 0.2324]\n",
      " ['경상권' 2 2 200000 23535634 0.0434]\n",
      " ['수도권' 3 3 300000 13453264 0.0944]\n",
      " ['수도권' 4 4 400000 34242345 0.0034]] <class 'numpy.ndarray'>\n"
     ]
    }
   ],
   "source": [
    "data = {\n",
    "    '2022'   : [35325412 , 23535634 , 13453264  ,34242345] ,\n",
    "    '2017'   : [100000, 200000 ,300000 , 400000 ] ,\n",
    "    '2012'   : [1,2,3,4] ,\n",
    "    '2010'   : [1,2,3,4] ,\n",
    "    '지역'   : ['특별시' , '경상권' , '수도권' , '수도권'],\n",
    "    '증가율' : [0.2324, 0.0434, 0.0944, 0.0034]\n",
    "}\n",
    "col_idx  = ['지역' , '2010' , '2012' , '2017' , '2022' , '증가율']\n",
    "row_idx  = ['서울' , '부산' , '경기' , '인천']\n",
    "\n",
    "tmp_frm = pd.DataFrame(data ,\n",
    "                       columns = col_idx ,\n",
    "                       index   = row_idx )\n",
    "\n",
    "frmInfo( tmp_frm )"
   ],
   "metadata": {
    "collapsed": false,
    "pycharm": {
     "name": "#%%\n"
    }
   }
  },
  {
   "cell_type": "code",
   "execution_count": 31,
   "outputs": [
    {
     "data": {
      "text/plain": "feature   지역  2010  2012    2017      2022     증가율\ncity                                              \n서울       특별시     1     1  100000  35325412  0.2324\n부산       경상권     2     2  200000  23535634  0.0434\n경기       수도권     3     3  300000  13453264  0.0944\n인천       수도권     4     4  400000  34242345  0.0034",
      "text/html": "<div>\n<style scoped>\n    .dataframe tbody tr th:only-of-type {\n        vertical-align: middle;\n    }\n\n    .dataframe tbody tr th {\n        vertical-align: top;\n    }\n\n    .dataframe thead th {\n        text-align: right;\n    }\n</style>\n<table border=\"1\" class=\"dataframe\">\n  <thead>\n    <tr style=\"text-align: right;\">\n      <th>feature</th>\n      <th>지역</th>\n      <th>2010</th>\n      <th>2012</th>\n      <th>2017</th>\n      <th>2022</th>\n      <th>증가율</th>\n    </tr>\n    <tr>\n      <th>city</th>\n      <th></th>\n      <th></th>\n      <th></th>\n      <th></th>\n      <th></th>\n      <th></th>\n    </tr>\n  </thead>\n  <tbody>\n    <tr>\n      <th>서울</th>\n      <td>특별시</td>\n      <td>1</td>\n      <td>1</td>\n      <td>100000</td>\n      <td>35325412</td>\n      <td>0.2324</td>\n    </tr>\n    <tr>\n      <th>부산</th>\n      <td>경상권</td>\n      <td>2</td>\n      <td>2</td>\n      <td>200000</td>\n      <td>23535634</td>\n      <td>0.0434</td>\n    </tr>\n    <tr>\n      <th>경기</th>\n      <td>수도권</td>\n      <td>3</td>\n      <td>3</td>\n      <td>300000</td>\n      <td>13453264</td>\n      <td>0.0944</td>\n    </tr>\n    <tr>\n      <th>인천</th>\n      <td>수도권</td>\n      <td>4</td>\n      <td>4</td>\n      <td>400000</td>\n      <td>34242345</td>\n      <td>0.0034</td>\n    </tr>\n  </tbody>\n</table>\n</div>"
     },
     "execution_count": 31,
     "metadata": {},
     "output_type": "execute_result"
    }
   ],
   "source": [
    "tmp_frm.index.name   = 'city'\n",
    "tmp_frm.columns.name = 'feature'\n",
    "tmp_frm"
   ],
   "metadata": {
    "collapsed": false,
    "pycharm": {
     "name": "#%%\n"
    }
   }
  },
  {
   "cell_type": "code",
   "execution_count": 32,
   "outputs": [
    {
     "name": "stdout",
     "output_type": "stream",
     "text": [
      "index name   -  Index(['서울', '부산', '경기', '인천'], dtype='object', name='city') city\n",
      "columns name -  Index(['지역', '2010', '2012', '2017', '2022', '증가율'], dtype='object', name='feature') feature\n"
     ]
    }
   ],
   "source": [
    "print('index name   - ' , tmp_frm.index   , tmp_frm.index.name)\n",
    "print('columns name - ' , tmp_frm.columns , tmp_frm.columns.name)"
   ],
   "metadata": {
    "collapsed": false,
    "pycharm": {
     "name": "#%%\n"
    }
   }
  },
  {
   "cell_type": "code",
   "execution_count": 33,
   "outputs": [
    {
     "name": "stdout",
     "output_type": "stream",
     "text": [
      "추가 - \n",
      "\n"
     ]
    },
    {
     "data": {
      "text/plain": "feature   지역  2010  2012    2017      2022     증가율  2017-2022 증가율\ncity                                                             \n서울       특별시     1     1  100000  35325412  0.2324       35225.41\n부산       경상권     2     2  200000  23535634  0.0434       11667.82\n경기       수도권     3     3  300000  13453264  0.0944        4384.42\n인천       수도권     4     4  400000  34242345  0.0034        8460.59",
      "text/html": "<div>\n<style scoped>\n    .dataframe tbody tr th:only-of-type {\n        vertical-align: middle;\n    }\n\n    .dataframe tbody tr th {\n        vertical-align: top;\n    }\n\n    .dataframe thead th {\n        text-align: right;\n    }\n</style>\n<table border=\"1\" class=\"dataframe\">\n  <thead>\n    <tr style=\"text-align: right;\">\n      <th>feature</th>\n      <th>지역</th>\n      <th>2010</th>\n      <th>2012</th>\n      <th>2017</th>\n      <th>2022</th>\n      <th>증가율</th>\n      <th>2017-2022 증가율</th>\n    </tr>\n    <tr>\n      <th>city</th>\n      <th></th>\n      <th></th>\n      <th></th>\n      <th></th>\n      <th></th>\n      <th></th>\n      <th></th>\n    </tr>\n  </thead>\n  <tbody>\n    <tr>\n      <th>서울</th>\n      <td>특별시</td>\n      <td>1</td>\n      <td>1</td>\n      <td>100000</td>\n      <td>35325412</td>\n      <td>0.2324</td>\n      <td>35225.41</td>\n    </tr>\n    <tr>\n      <th>부산</th>\n      <td>경상권</td>\n      <td>2</td>\n      <td>2</td>\n      <td>200000</td>\n      <td>23535634</td>\n      <td>0.0434</td>\n      <td>11667.82</td>\n    </tr>\n    <tr>\n      <th>경기</th>\n      <td>수도권</td>\n      <td>3</td>\n      <td>3</td>\n      <td>300000</td>\n      <td>13453264</td>\n      <td>0.0944</td>\n      <td>4384.42</td>\n    </tr>\n    <tr>\n      <th>인천</th>\n      <td>수도권</td>\n      <td>4</td>\n      <td>4</td>\n      <td>400000</td>\n      <td>34242345</td>\n      <td>0.0034</td>\n      <td>8460.59</td>\n    </tr>\n  </tbody>\n</table>\n</div>"
     },
     "execution_count": 33,
     "metadata": {},
     "output_type": "execute_result"
    }
   ],
   "source": [
    "print('추가 - ')\n",
    "print()\n",
    "tmp_frm['2017-2022 증가율'] =  ( (tmp_frm['2022'] - tmp_frm['2017']) / tmp_frm['2017'] * 100 ).round(2)\n",
    "tmp_frm"
   ],
   "metadata": {
    "collapsed": false,
    "pycharm": {
     "name": "#%%\n"
    }
   }
  },
  {
   "cell_type": "code",
   "execution_count": 34,
   "outputs": [
    {
     "name": "stdout",
     "output_type": "stream",
     "text": [
      "삭제 - \n"
     ]
    },
    {
     "data": {
      "text/plain": "feature   지역  2010  2012    2017      2022     증가율\ncity                                              \n서울       특별시     1     1  100000  35325412  0.2324\n부산       경상권     2     2  200000  23535634  0.0434\n경기       수도권     3     3  300000  13453264  0.0944\n인천       수도권     4     4  400000  34242345  0.0034",
      "text/html": "<div>\n<style scoped>\n    .dataframe tbody tr th:only-of-type {\n        vertical-align: middle;\n    }\n\n    .dataframe tbody tr th {\n        vertical-align: top;\n    }\n\n    .dataframe thead th {\n        text-align: right;\n    }\n</style>\n<table border=\"1\" class=\"dataframe\">\n  <thead>\n    <tr style=\"text-align: right;\">\n      <th>feature</th>\n      <th>지역</th>\n      <th>2010</th>\n      <th>2012</th>\n      <th>2017</th>\n      <th>2022</th>\n      <th>증가율</th>\n    </tr>\n    <tr>\n      <th>city</th>\n      <th></th>\n      <th></th>\n      <th></th>\n      <th></th>\n      <th></th>\n      <th></th>\n    </tr>\n  </thead>\n  <tbody>\n    <tr>\n      <th>서울</th>\n      <td>특별시</td>\n      <td>1</td>\n      <td>1</td>\n      <td>100000</td>\n      <td>35325412</td>\n      <td>0.2324</td>\n    </tr>\n    <tr>\n      <th>부산</th>\n      <td>경상권</td>\n      <td>2</td>\n      <td>2</td>\n      <td>200000</td>\n      <td>23535634</td>\n      <td>0.0434</td>\n    </tr>\n    <tr>\n      <th>경기</th>\n      <td>수도권</td>\n      <td>3</td>\n      <td>3</td>\n      <td>300000</td>\n      <td>13453264</td>\n      <td>0.0944</td>\n    </tr>\n    <tr>\n      <th>인천</th>\n      <td>수도권</td>\n      <td>4</td>\n      <td>4</td>\n      <td>400000</td>\n      <td>34242345</td>\n      <td>0.0034</td>\n    </tr>\n  </tbody>\n</table>\n</div>"
     },
     "execution_count": 34,
     "metadata": {},
     "output_type": "execute_result"
    }
   ],
   "source": [
    "print('삭제 - ')\n",
    "del tmp_frm['2017-2022 증가율']\n",
    "tmp_frm"
   ],
   "metadata": {
    "collapsed": false,
    "pycharm": {
     "name": "#%%\n"
    }
   }
  },
  {
   "cell_type": "code",
   "execution_count": 35,
   "outputs": [
    {
     "data": {
      "text/plain": "'data - '"
     },
     "metadata": {},
     "output_type": "display_data"
    },
    {
     "data": {
      "text/plain": "feature   지역     증가율\ncity                \n서울       특별시  0.2324\n부산       경상권  0.0434\n경기       수도권  0.0944\n인천       수도권  0.0034",
      "text/html": "<div>\n<style scoped>\n    .dataframe tbody tr th:only-of-type {\n        vertical-align: middle;\n    }\n\n    .dataframe tbody tr th {\n        vertical-align: top;\n    }\n\n    .dataframe thead th {\n        text-align: right;\n    }\n</style>\n<table border=\"1\" class=\"dataframe\">\n  <thead>\n    <tr style=\"text-align: right;\">\n      <th>feature</th>\n      <th>지역</th>\n      <th>증가율</th>\n    </tr>\n    <tr>\n      <th>city</th>\n      <th></th>\n      <th></th>\n    </tr>\n  </thead>\n  <tbody>\n    <tr>\n      <th>서울</th>\n      <td>특별시</td>\n      <td>0.2324</td>\n    </tr>\n    <tr>\n      <th>부산</th>\n      <td>경상권</td>\n      <td>0.0434</td>\n    </tr>\n    <tr>\n      <th>경기</th>\n      <td>수도권</td>\n      <td>0.0944</td>\n    </tr>\n    <tr>\n      <th>인천</th>\n      <td>수도권</td>\n      <td>0.0034</td>\n    </tr>\n  </tbody>\n</table>\n</div>"
     },
     "metadata": {},
     "output_type": "display_data"
    },
    {
     "name": "stdout",
     "output_type": "stream",
     "text": [
      "\n",
      "shape   -  (4, 2) 4 2\n",
      "size    -  8\n",
      "ndim    -  2\n",
      "index   -  Index(['서울', '부산', '경기', '인천'], dtype='object', name='city') <class 'pandas.core.indexes.base.Index'>\n",
      "columns -  Index(['지역', '증가율'], dtype='object', name='feature') <class 'pandas.core.indexes.base.Index'>\n",
      "values  - \n",
      " [['특별시' 0.2324]\n",
      " ['경상권' 0.0434]\n",
      " ['수도권' 0.0944]\n",
      " ['수도권' 0.0034]] <class 'numpy.ndarray'>\n"
     ]
    }
   ],
   "source": [
    "tmp_subset = tmp_frm[ ['지역' , '증가율'] ]\n",
    "frmInfo(tmp_subset)"
   ],
   "metadata": {
    "collapsed": false,
    "pycharm": {
     "name": "#%%\n"
    }
   }
  },
  {
   "cell_type": "code",
   "execution_count": 36,
   "outputs": [
    {
     "name": "stdout",
     "output_type": "stream",
     "text": [
      "라벨 인덱싱 - \n"
     ]
    },
    {
     "data": {
      "text/plain": "feature   지역  2010  2012    2017      2022     증가율\ncity                                              \n서울       특별시     1     1  100000  35325412  0.2324",
      "text/html": "<div>\n<style scoped>\n    .dataframe tbody tr th:only-of-type {\n        vertical-align: middle;\n    }\n\n    .dataframe tbody tr th {\n        vertical-align: top;\n    }\n\n    .dataframe thead th {\n        text-align: right;\n    }\n</style>\n<table border=\"1\" class=\"dataframe\">\n  <thead>\n    <tr style=\"text-align: right;\">\n      <th>feature</th>\n      <th>지역</th>\n      <th>2010</th>\n      <th>2012</th>\n      <th>2017</th>\n      <th>2022</th>\n      <th>증가율</th>\n    </tr>\n    <tr>\n      <th>city</th>\n      <th></th>\n      <th></th>\n      <th></th>\n      <th></th>\n      <th></th>\n      <th></th>\n    </tr>\n  </thead>\n  <tbody>\n    <tr>\n      <th>서울</th>\n      <td>특별시</td>\n      <td>1</td>\n      <td>1</td>\n      <td>100000</td>\n      <td>35325412</td>\n      <td>0.2324</td>\n    </tr>\n  </tbody>\n</table>\n</div>"
     },
     "metadata": {},
     "output_type": "display_data"
    }
   ],
   "source": [
    "print('라벨 인덱싱 - ')\n",
    "display( tmp_frm[ : '서울'] )"
   ],
   "metadata": {
    "collapsed": false,
    "pycharm": {
     "name": "#%%\n"
    }
   }
  },
  {
   "cell_type": "code",
   "execution_count": 37,
   "outputs": [
    {
     "name": "stdout",
     "output_type": "stream",
     "text": [
      "\n",
      "배열 인덱싱 - \n"
     ]
    },
    {
     "data": {
      "text/plain": "feature   지역  2010  2012    2017      2022     증가율\ncity                                              \n서울       특별시     1     1  100000  35325412  0.2324",
      "text/html": "<div>\n<style scoped>\n    .dataframe tbody tr th:only-of-type {\n        vertical-align: middle;\n    }\n\n    .dataframe tbody tr th {\n        vertical-align: top;\n    }\n\n    .dataframe thead th {\n        text-align: right;\n    }\n</style>\n<table border=\"1\" class=\"dataframe\">\n  <thead>\n    <tr style=\"text-align: right;\">\n      <th>feature</th>\n      <th>지역</th>\n      <th>2010</th>\n      <th>2012</th>\n      <th>2017</th>\n      <th>2022</th>\n      <th>증가율</th>\n    </tr>\n    <tr>\n      <th>city</th>\n      <th></th>\n      <th></th>\n      <th></th>\n      <th></th>\n      <th></th>\n      <th></th>\n    </tr>\n  </thead>\n  <tbody>\n    <tr>\n      <th>서울</th>\n      <td>특별시</td>\n      <td>1</td>\n      <td>1</td>\n      <td>100000</td>\n      <td>35325412</td>\n      <td>0.2324</td>\n    </tr>\n  </tbody>\n</table>\n</div>"
     },
     "metadata": {},
     "output_type": "display_data"
    }
   ],
   "source": [
    "print()\n",
    "print('배열 인덱싱 - ')\n",
    "display( tmp_frm[ : 1] )"
   ],
   "metadata": {
    "collapsed": false,
    "pycharm": {
     "name": "#%%\n"
    }
   }
  },
  {
   "cell_type": "code",
   "execution_count": 38,
   "outputs": [
    {
     "data": {
      "text/plain": "feature   지역  2010  2012    2017      2022     증가율\ncity                                              \n서울       특별시     1     1  100000  35325412  0.2324\n부산       경상권     2     2  200000  23535634  0.0434\n경기       수도권     3     3  300000  13453264  0.0944\n인천       수도권     4     4  400000  34242345  0.0034",
      "text/html": "<div>\n<style scoped>\n    .dataframe tbody tr th:only-of-type {\n        vertical-align: middle;\n    }\n\n    .dataframe tbody tr th {\n        vertical-align: top;\n    }\n\n    .dataframe thead th {\n        text-align: right;\n    }\n</style>\n<table border=\"1\" class=\"dataframe\">\n  <thead>\n    <tr style=\"text-align: right;\">\n      <th>feature</th>\n      <th>지역</th>\n      <th>2010</th>\n      <th>2012</th>\n      <th>2017</th>\n      <th>2022</th>\n      <th>증가율</th>\n    </tr>\n    <tr>\n      <th>city</th>\n      <th></th>\n      <th></th>\n      <th></th>\n      <th></th>\n      <th></th>\n      <th></th>\n    </tr>\n  </thead>\n  <tbody>\n    <tr>\n      <th>서울</th>\n      <td>특별시</td>\n      <td>1</td>\n      <td>1</td>\n      <td>100000</td>\n      <td>35325412</td>\n      <td>0.2324</td>\n    </tr>\n    <tr>\n      <th>부산</th>\n      <td>경상권</td>\n      <td>2</td>\n      <td>2</td>\n      <td>200000</td>\n      <td>23535634</td>\n      <td>0.0434</td>\n    </tr>\n    <tr>\n      <th>경기</th>\n      <td>수도권</td>\n      <td>3</td>\n      <td>3</td>\n      <td>300000</td>\n      <td>13453264</td>\n      <td>0.0944</td>\n    </tr>\n    <tr>\n      <th>인천</th>\n      <td>수도권</td>\n      <td>4</td>\n      <td>4</td>\n      <td>400000</td>\n      <td>34242345</td>\n      <td>0.0034</td>\n    </tr>\n  </tbody>\n</table>\n</div>"
     },
     "execution_count": 38,
     "metadata": {},
     "output_type": "execute_result"
    }
   ],
   "source": [
    "tmp_frm"
   ],
   "metadata": {
    "collapsed": false,
    "pycharm": {
     "name": "#%%\n"
    }
   }
  },
  {
   "cell_type": "code",
   "execution_count": 40,
   "outputs": [
    {
     "name": "stdout",
     "output_type": "stream",
     "text": [
      "행 인덱싱으로 서울 - 경기까지 필터링한다면? - \n",
      "라벨 인덱싱 - \n"
     ]
    },
    {
     "data": {
      "text/plain": "feature   지역  2010  2012    2017      2022     증가율\ncity                                              \n서울       특별시     1     1  100000  35325412  0.2324\n부산       경상권     2     2  200000  23535634  0.0434\n경기       수도권     3     3  300000  13453264  0.0944",
      "text/html": "<div>\n<style scoped>\n    .dataframe tbody tr th:only-of-type {\n        vertical-align: middle;\n    }\n\n    .dataframe tbody tr th {\n        vertical-align: top;\n    }\n\n    .dataframe thead th {\n        text-align: right;\n    }\n</style>\n<table border=\"1\" class=\"dataframe\">\n  <thead>\n    <tr style=\"text-align: right;\">\n      <th>feature</th>\n      <th>지역</th>\n      <th>2010</th>\n      <th>2012</th>\n      <th>2017</th>\n      <th>2022</th>\n      <th>증가율</th>\n    </tr>\n    <tr>\n      <th>city</th>\n      <th></th>\n      <th></th>\n      <th></th>\n      <th></th>\n      <th></th>\n      <th></th>\n    </tr>\n  </thead>\n  <tbody>\n    <tr>\n      <th>서울</th>\n      <td>특별시</td>\n      <td>1</td>\n      <td>1</td>\n      <td>100000</td>\n      <td>35325412</td>\n      <td>0.2324</td>\n    </tr>\n    <tr>\n      <th>부산</th>\n      <td>경상권</td>\n      <td>2</td>\n      <td>2</td>\n      <td>200000</td>\n      <td>23535634</td>\n      <td>0.0434</td>\n    </tr>\n    <tr>\n      <th>경기</th>\n      <td>수도권</td>\n      <td>3</td>\n      <td>3</td>\n      <td>300000</td>\n      <td>13453264</td>\n      <td>0.0944</td>\n    </tr>\n  </tbody>\n</table>\n</div>"
     },
     "metadata": {},
     "output_type": "display_data"
    },
    {
     "name": "stdout",
     "output_type": "stream",
     "text": [
      "\n",
      "배열 인덱싱 - \n"
     ]
    },
    {
     "data": {
      "text/plain": "feature   지역  2010  2012    2017      2022     증가율\ncity                                              \n서울       특별시     1     1  100000  35325412  0.2324\n부산       경상권     2     2  200000  23535634  0.0434\n경기       수도권     3     3  300000  13453264  0.0944",
      "text/html": "<div>\n<style scoped>\n    .dataframe tbody tr th:only-of-type {\n        vertical-align: middle;\n    }\n\n    .dataframe tbody tr th {\n        vertical-align: top;\n    }\n\n    .dataframe thead th {\n        text-align: right;\n    }\n</style>\n<table border=\"1\" class=\"dataframe\">\n  <thead>\n    <tr style=\"text-align: right;\">\n      <th>feature</th>\n      <th>지역</th>\n      <th>2010</th>\n      <th>2012</th>\n      <th>2017</th>\n      <th>2022</th>\n      <th>증가율</th>\n    </tr>\n    <tr>\n      <th>city</th>\n      <th></th>\n      <th></th>\n      <th></th>\n      <th></th>\n      <th></th>\n      <th></th>\n    </tr>\n  </thead>\n  <tbody>\n    <tr>\n      <th>서울</th>\n      <td>특별시</td>\n      <td>1</td>\n      <td>1</td>\n      <td>100000</td>\n      <td>35325412</td>\n      <td>0.2324</td>\n    </tr>\n    <tr>\n      <th>부산</th>\n      <td>경상권</td>\n      <td>2</td>\n      <td>2</td>\n      <td>200000</td>\n      <td>23535634</td>\n      <td>0.0434</td>\n    </tr>\n    <tr>\n      <th>경기</th>\n      <td>수도권</td>\n      <td>3</td>\n      <td>3</td>\n      <td>300000</td>\n      <td>13453264</td>\n      <td>0.0944</td>\n    </tr>\n  </tbody>\n</table>\n</div>"
     },
     "metadata": {},
     "output_type": "display_data"
    }
   ],
   "source": [
    "print('행 인덱싱으로 서울 - 경기까지 필터링한다면? - ')\n",
    "\n",
    "print('라벨 인덱싱 - ')\n",
    "display( tmp_frm[ '서울' : '경기'] )\n",
    "\n",
    "print()\n",
    "print('배열 인덱싱 - ')\n",
    "display( tmp_frm[ 0 : 3] )"
   ],
   "metadata": {
    "collapsed": false,
    "pycharm": {
     "name": "#%%\n"
    }
   }
  },
  {
   "cell_type": "code",
   "execution_count": null,
   "outputs": [],
   "source": [],
   "metadata": {
    "collapsed": false,
    "pycharm": {
     "name": "#%%\n"
    }
   }
  },
  {
   "cell_type": "code",
   "execution_count": null,
   "outputs": [],
   "source": [],
   "metadata": {
    "collapsed": false,
    "pycharm": {
     "name": "#%%\n"
    }
   }
  },
  {
   "cell_type": "code",
   "execution_count": null,
   "outputs": [],
   "source": [],
   "metadata": {
    "collapsed": false,
    "pycharm": {
     "name": "#%%\n"
    }
   }
  },
  {
   "cell_type": "code",
   "execution_count": null,
   "outputs": [],
   "source": [],
   "metadata": {
    "collapsed": false,
    "pycharm": {
     "name": "#%%\n"
    }
   }
  },
  {
   "cell_type": "code",
   "execution_count": null,
   "outputs": [],
   "source": [],
   "metadata": {
    "collapsed": false,
    "pycharm": {
     "name": "#%%\n"
    }
   }
  },
  {
   "cell_type": "code",
   "execution_count": null,
   "outputs": [],
   "source": [],
   "metadata": {
    "collapsed": false,
    "pycharm": {
     "name": "#%%\n"
    }
   }
  }
 ],
 "metadata": {
  "kernelspec": {
   "display_name": "Python 3",
   "language": "python",
   "name": "python3"
  },
  "language_info": {
   "codemirror_mode": {
    "name": "ipython",
    "version": 2
   },
   "file_extension": ".py",
   "mimetype": "text/x-python",
   "name": "python",
   "nbconvert_exporter": "python",
   "pygments_lexer": "ipython2",
   "version": "2.7.6"
  }
 },
 "nbformat": 4,
 "nbformat_minor": 0
}