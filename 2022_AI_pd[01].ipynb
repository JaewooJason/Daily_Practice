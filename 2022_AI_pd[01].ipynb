{
 "cells": [
  {
   "cell_type": "code",
   "execution_count": 1,
   "metadata": {
    "collapsed": true
   },
   "outputs": [
    {
     "name": "stdout",
     "output_type": "stream",
     "text": [
      "numpy  version -  1.20.3\n",
      "pandas version -  1.3.4\n"
     ]
    }
   ],
   "source": [
    "import numpy  as np\n",
    "import pandas as pd\n",
    "\n",
    "import warnings\n",
    "warnings.filterwarnings(action='ignore')\n",
    "\n",
    "from datetime import date, datetime, timedelta\n",
    "from dateutil.parser import parse\n",
    "\n",
    "import json\n",
    "import urllib\n",
    "\n",
    "\n",
    "print('numpy  version - ' , np.__version__)\n",
    "print('pandas version - ' , pd.__version__)"
   ]
  },
  {
   "cell_type": "code",
   "execution_count": 2,
   "outputs": [
    {
     "name": "stdout",
     "output_type": "stream",
     "text": [
      "list 이용한 생성 - \n",
      "\n",
      "0    4000\n",
      "1    3000\n",
      "2    3500\n",
      "3    2000\n",
      "dtype: object\n",
      "\n",
      "type -  <class 'pandas.core.series.Series'>\n",
      "\n",
      "index , values - \n",
      "index  -  RangeIndex(start=0, stop=4, step=1)\n",
      "value  -  ['4000' 3000 3500 2000] <class 'numpy.ndarray'>\n",
      "dtype  -  int32\n",
      "\n",
      "원하는 값을 찾는다면? - 인덱싱이 가능하다 \n",
      "마이너스 인덱싱은 불가하다\n",
      "\n",
      "indexing -  4000\n",
      "slicing  - \n",
      " 0    4000\n",
      "1    3000\n",
      "2    3500\n",
      "dtype: int32\n"
     ]
    }
   ],
   "source": [
    "print('list 이용한 생성 - ')\n",
    "print()\n",
    "\n",
    "prices = pd.Series(['4000', 3000, 3500, 2000])\n",
    "print(prices)\n",
    "\n",
    "print()\n",
    "print('type - ' , type(prices))\n",
    "\n",
    "print()\n",
    "print('index , values - ')\n",
    "print('index  - ' , prices.index)\n",
    "print('value  - ' , prices.values , type(prices.values))\n",
    "prices = prices.astype('int32')\n",
    "print('dtype  - ' , prices.dtype)\n",
    "\n",
    "print()\n",
    "print('원하는 값을 찾는다면? - 인덱싱이 가능하다 ')\n",
    "print('마이너스 인덱싱은 불가하다')\n",
    "print()\n",
    "print('indexing - '   , prices[0] )\n",
    "print('slicing  - \\n' , prices[ : 3 ])\n",
    "# print('indexing - '   , prices[-1]) -- error"
   ],
   "metadata": {
    "collapsed": false,
    "pycharm": {
     "name": "#%%\n"
    }
   }
  },
  {
   "cell_type": "code",
   "execution_count": 3,
   "outputs": [
    {
     "name": "stdout",
     "output_type": "stream",
     "text": [
      "사용자 정의 인덱스 부여가 가능하다 - \n"
     ]
    }
   ],
   "source": [
    "print('사용자 정의 인덱스 부여가 가능하다 - ')\n",
    "\n",
    "prices = pd.Series([4000, 3000, 3500, 2000] ,\n",
    "                    index = ['a', 'b', 'c', 'd']   )"
   ],
   "metadata": {
    "collapsed": false,
    "pycharm": {
     "name": "#%%\n"
    }
   }
  },
  {
   "cell_type": "code",
   "execution_count": 4,
   "outputs": [
    {
     "name": "stdout",
     "output_type": "stream",
     "text": [
      "a    4000\n",
      "b    3000\n",
      "c    3500\n",
      "d    2000\n",
      "dtype: int64\n",
      "\n",
      "4000 <class 'numpy.int64'> 4000\n",
      "\n",
      "a    4000\n",
      "b    3000\n",
      "c    3500\n",
      "dtype: int64 <class 'pandas.core.series.Series'>\n",
      "\n",
      "인덱스가 존재하는지 -  True False\n",
      "Index(['a', 'b', 'c', 'd'], dtype='object')\n",
      "\n",
      "인덱스를 활용한 데이터 변경 - \n",
      "\n",
      "a    10000\n",
      "b     3000\n",
      "c     3500\n",
      "d     2000\n",
      "dtype: int64\n"
     ]
    }
   ],
   "source": [
    "print(prices)\n",
    "print()\n",
    "print(prices[0] , type(prices[0]) , prices['a'] )\n",
    "\n",
    "\n",
    "print()\n",
    "print(prices['a' : 'c'] , type(prices['a' : 'c']))\n",
    "print()\n",
    "print('인덱스가 존재하는지 - ' , 'a' in prices , 0 in prices)\n",
    "\n",
    "print(prices.index)\n",
    "\n",
    "print()\n",
    "print('인덱스를 활용한 데이터 변경 - ')\n",
    "prices['a'] = 10000\n",
    "print()\n",
    "print( prices )"
   ],
   "metadata": {
    "collapsed": false,
    "pycharm": {
     "name": "#%%\n"
    }
   }
  },
  {
   "cell_type": "code",
   "execution_count": 5,
   "outputs": [
    {
     "name": "stdout",
     "output_type": "stream",
     "text": [
      "\n",
      "데이터 추가 가능 - \n",
      "a    10000\n",
      "b     3000\n",
      "c     3500\n",
      "d     2000\n",
      "e     6000\n",
      "dtype: int64\n",
      "\n",
      "데이터 삭제 - \n",
      "a    10000\n",
      "b     3000\n",
      "c     3500\n",
      "d     2000\n",
      "dtype: int64\n"
     ]
    }
   ],
   "source": [
    "print()\n",
    "print('데이터 추가 가능 - ')\n",
    "prices['e'] = 6000\n",
    "print( prices )\n",
    "print()\n",
    "print('데이터 삭제 - ')\n",
    "del prices['e']\n",
    "print( prices )"
   ],
   "metadata": {
    "collapsed": false,
    "pycharm": {
     "name": "#%%\n"
    }
   }
  },
  {
   "cell_type": "code",
   "execution_count": 6,
   "outputs": [
    {
     "name": "stdout",
     "output_type": "stream",
     "text": [
      "\n",
      "벡터화 연산이 가능하다 - \n",
      "0    40000\n",
      "1    30000\n",
      "2    35000\n",
      "3    20000\n",
      "dtype: int64\n",
      "0    4000\n",
      "1    3000\n",
      "2    3500\n",
      "3    2000\n",
      "dtype: int64\n"
     ]
    }
   ],
   "source": [
    "prices = pd.Series([4000, 3000, 3500, 2000])\n",
    "print()\n",
    "print('벡터화 연산이 가능하다 - ')\n",
    "print( prices * 10 )\n",
    "print( prices )"
   ],
   "metadata": {
    "collapsed": false,
    "pycharm": {
     "name": "#%%\n"
    }
   }
  },
  {
   "cell_type": "code",
   "execution_count": 7,
   "outputs": [
    {
     "name": "stdout",
     "output_type": "stream",
     "text": [
      "\n",
      "조건식을 활용 할 수 있다 - \n"
     ]
    },
    {
     "data": {
      "text/plain": "0    4000\n2    3500\ndtype: int64"
     },
     "execution_count": 7,
     "metadata": {},
     "output_type": "execute_result"
    }
   ],
   "source": [
    "print()\n",
    "print('조건식을 활용 할 수 있다 - ')\n",
    "\n",
    "prices[ prices > 3000 ]"
   ],
   "metadata": {
    "collapsed": false,
    "pycharm": {
     "name": "#%%\n"
    }
   }
  },
  {
   "cell_type": "code",
   "execution_count": 12,
   "outputs": [
    {
     "name": "stdout",
     "output_type": "stream",
     "text": [
      "dict , tuple , set  생성이 가능 -\n",
      "\n",
      "name    Jason\n",
      "age        25\n",
      "dtype: object\n",
      "index -  Index(['name', 'age'], dtype='object')\n",
      "value -  ['Jason' 25]\n",
      "\n",
      "\n",
      "0    10\n",
      "1    20\n",
      "2    30\n",
      "dtype: int64\n",
      "index -  RangeIndex(start=0, stop=3, step=1)\n",
      "value -  [10 20 30]\n",
      "\n",
      "set 은 주의하셔야 한다 - \n",
      "0    10\n",
      "1    20\n",
      "2    30\n",
      "dtype: int64\n",
      "index -  RangeIndex(start=0, stop=3, step=1)\n",
      "value -  [10 20 30]\n"
     ]
    }
   ],
   "source": [
    "print('dict , tuple , set  생성이 가능 -')\n",
    "print()\n",
    "person = pd.Series({ 'name' : 'Jason' , 'age' : 25 })\n",
    "print( person )\n",
    "print('index - ' , person.index)\n",
    "print('value - ' , person.values)\n",
    "print()\n",
    "print()\n",
    "ages = pd.Series( (10, 20, 30) )\n",
    "print( ages )\n",
    "print('index - ' , ages.index)\n",
    "print('value - ' , ages.values)\n",
    "\n",
    "print()\n",
    "print('set 은 주의하셔야 한다 - ')\n",
    "ages = pd.Series( list( {10, 20, 30} ) )\n",
    "print( ages )\n",
    "print('index - ' , ages.index)\n",
    "print('value - ' , ages.values)"
   ],
   "metadata": {
    "collapsed": false,
    "pycharm": {
     "name": "#%%\n"
    }
   }
  },
  {
   "cell_type": "code",
   "execution_count": 13,
   "outputs": [
    {
     "data": {
      "text/plain": "구 구별\n강남    1\n서초    2\n방배    3\n동작    4\n광진    5\nName: 특정한 의미를 부여할 수 있다, dtype: int64"
     },
     "execution_count": 13,
     "metadata": {},
     "output_type": "execute_result"
    }
   ],
   "source": [
    "tmp = pd.Series([1,2,3,4,5],\n",
    "                index = ['강남', '서초', '방배', '동작', '광진'] )\n",
    "\n",
    "tmp.name = '특정한 의미를 부여할 수 있다'\n",
    "tmp.index.name= '구 구별'\n",
    "tmp"
   ],
   "metadata": {
    "collapsed": false,
    "pycharm": {
     "name": "#%%\n"
    }
   }
  },
  {
   "cell_type": "code",
   "execution_count": 14,
   "outputs": [
    {
     "data": {
      "text/plain": "0     10.0\n1     11.0\n2     12.0\n3     13.0\n4     14.0\n5     15.0\n6     16.0\n7     17.0\n8     18.0\n9     19.0\n10    20.0\ndtype: float32"
     },
     "execution_count": 14,
     "metadata": {},
     "output_type": "execute_result"
    }
   ],
   "source": [
    "tmp = pd.Series( range(10, 21) , dtype = 'f')\n",
    "tmp"
   ],
   "metadata": {
    "collapsed": false,
    "pycharm": {
     "name": "#%%\n"
    }
   }
  },
  {
   "cell_type": "code",
   "execution_count": 15,
   "outputs": [
    {
     "name": "stdout",
     "output_type": "stream",
     "text": [
      "0     100.0\n",
      "1     110.0\n",
      "2     120.0\n",
      "3     130.0\n",
      "4     140.0\n",
      "5     150.0\n",
      "6     160.0\n",
      "7     170.0\n",
      "8     180.0\n",
      "9     190.0\n",
      "10    200.0\n",
      "dtype: float32\n"
     ]
    }
   ],
   "source": [
    "print( tmp * 10)"
   ],
   "metadata": {
    "collapsed": false,
    "pycharm": {
     "name": "#%%\n"
    }
   }
  },
  {
   "cell_type": "code",
   "execution_count": 16,
   "outputs": [
    {
     "name": "stdout",
     "output_type": "stream",
     "text": [
      "0     10.0\n",
      "2     12.0\n",
      "4     14.0\n",
      "6     16.0\n",
      "8     18.0\n",
      "10    20.0\n",
      "dtype: float32\n"
     ]
    }
   ],
   "source": [
    "print( tmp[ tmp%2 == 0 ] )"
   ],
   "metadata": {
    "collapsed": false,
    "pycharm": {
     "name": "#%%\n"
    }
   }
  },
  {
   "cell_type": "code",
   "execution_count": 17,
   "outputs": [
    {
     "name": "stdout",
     "output_type": "stream",
     "text": [
      "날짜와 시간을 인덱스로 활용한다면? - \n",
      "2022-03-26 00:00:00\n"
     ]
    }
   ],
   "source": [
    "print('날짜와 시간을 인덱스로 활용한다면? - ')\n",
    "\n",
    "day = datetime(2022, 3, 25)\n",
    "print( day + timedelta(days=1) )"
   ],
   "metadata": {
    "collapsed": false,
    "pycharm": {
     "name": "#%%\n"
    }
   }
  },
  {
   "cell_type": "code",
   "execution_count": null,
   "outputs": [],
   "source": [],
   "metadata": {
    "collapsed": false,
    "pycharm": {
     "name": "#%%\n"
    }
   }
  },
  {
   "cell_type": "code",
   "execution_count": null,
   "outputs": [],
   "source": [],
   "metadata": {
    "collapsed": false,
    "pycharm": {
     "name": "#%%\n"
    }
   }
  },
  {
   "cell_type": "code",
   "execution_count": null,
   "outputs": [],
   "source": [],
   "metadata": {
    "collapsed": false,
    "pycharm": {
     "name": "#%%\n"
    }
   }
  },
  {
   "cell_type": "code",
   "execution_count": null,
   "outputs": [],
   "source": [],
   "metadata": {
    "collapsed": false,
    "pycharm": {
     "name": "#%%\n"
    }
   }
  },
  {
   "cell_type": "code",
   "execution_count": null,
   "outputs": [],
   "source": [],
   "metadata": {
    "collapsed": false,
    "pycharm": {
     "name": "#%%\n"
    }
   }
  },
  {
   "cell_type": "code",
   "execution_count": null,
   "outputs": [],
   "source": [],
   "metadata": {
    "collapsed": false,
    "pycharm": {
     "name": "#%%\n"
    }
   }
  },
  {
   "cell_type": "code",
   "execution_count": null,
   "outputs": [],
   "source": [],
   "metadata": {
    "collapsed": false,
    "pycharm": {
     "name": "#%%\n"
    }
   }
  },
  {
   "cell_type": "code",
   "execution_count": null,
   "outputs": [],
   "source": [],
   "metadata": {
    "collapsed": false,
    "pycharm": {
     "name": "#%%\n"
    }
   }
  },
  {
   "cell_type": "code",
   "execution_count": null,
   "outputs": [],
   "source": [],
   "metadata": {
    "collapsed": false,
    "pycharm": {
     "name": "#%%\n"
    }
   }
  },
  {
   "cell_type": "code",
   "execution_count": null,
   "outputs": [],
   "source": [],
   "metadata": {
    "collapsed": false,
    "pycharm": {
     "name": "#%%\n"
    }
   }
  }
 ],
 "metadata": {
  "kernelspec": {
   "display_name": "Python 3",
   "language": "python",
   "name": "python3"
  },
  "language_info": {
   "codemirror_mode": {
    "name": "ipython",
    "version": 2
   },
   "file_extension": ".py",
   "mimetype": "text/x-python",
   "name": "python",
   "nbconvert_exporter": "python",
   "pygments_lexer": "ipython2",
   "version": "2.7.6"
  }
 },
 "nbformat": 4,
 "nbformat_minor": 0
}