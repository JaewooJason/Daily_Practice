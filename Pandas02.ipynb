{
 "cells": [
  {
   "cell_type": "code",
   "execution_count": 3,
   "metadata": {
    "collapsed": true
   },
   "outputs": [
    {
     "name": "stdout",
     "output_type": "stream",
     "text": [
      "numpy  version -  1.20.3\n",
      "pandas version -  1.3.4\n"
     ]
    }
   ],
   "source": [
    "import numpy  as np\n",
    "import pandas as pd\n",
    "\n",
    "import warnings\n",
    "warnings.filterwarnings(action='ignore')\n",
    "\n",
    "from datetime import date, datetime, timedelta\n",
    "from dateutil.parser import parse\n",
    "\n",
    "import matplotlib.pyplot as plt\n",
    "%matplotlib inline\n",
    "\n",
    "import json\n",
    "import urllib\n",
    "\n",
    "# titanic dataset\n",
    "import seaborn as sns\n",
    "\n",
    "# 비정형 데이터 처리를 위한 라이브러리\n",
    "from bs4 import BeautifulSoup\n",
    "import requests\n",
    "import re\n",
    "\n",
    "\n",
    "\n",
    "print('numpy  version - ' , np.__version__)\n",
    "print('pandas version - ' , pd.__version__)"
   ]
  },
  {
   "cell_type": "code",
   "execution_count": 4,
   "outputs": [],
   "source": [
    "def seriesInfo(s) :\n",
    "    print('series : index + values \\n' , s)\n",
    "    print('index  - ' , s.index  , type(s.index))\n",
    "    print('values - ' , s.values , type(s.values))\n",
    "\n",
    "def frmInfo(df) :\n",
    "    display('data - ' , df )\n",
    "    print()\n",
    "    print('shape   - ' , df.shape , df.shape[0] , df.shape[1])\n",
    "    print('size    - ' , df.size )\n",
    "    print('ndim    - ' , df.ndim)\n",
    "    print('index   - ' , df.index    , type(df.index))\n",
    "    print('columns - ' , df.columns  , type( df.columns ))\n",
    "    print('values  - \\n' , df.values , type(df.values) )"
   ],
   "metadata": {
    "collapsed": false,
    "pycharm": {
     "name": "#%%\n"
    }
   }
  },
  {
   "cell_type": "code",
   "execution_count": null,
   "outputs": [],
   "source": [],
   "metadata": {
    "collapsed": false,
    "pycharm": {
     "name": "#%%\n"
    }
   }
  },
  {
   "cell_type": "code",
   "execution_count": null,
   "outputs": [],
   "source": [],
   "metadata": {
    "collapsed": false,
    "pycharm": {
     "name": "#%%\n"
    }
   }
  },
  {
   "cell_type": "code",
   "execution_count": 3,
   "outputs": [],
   "source": [
    "# 한글 폰트 문제 해결\n",
    "import platform\n",
    "\n",
    "from matplotlib import font_manager, rc\n",
    "\n",
    "if platform.system() == 'Darwin':\n",
    "    rc('font', family='AppleGothic')\n",
    "elif platform.system() == 'Windows':\n",
    "    path = \"c:/Windows/Fonts/malgun.ttf\"\n",
    "    font_name = font_manager.FontProperties(fname=path).get_name()\n",
    "    rc('font', family=font_name)\n",
    "else:\n",
    "    print('Unknown system... sorry~~~~')\n",
    "\n",
    "\n",
    "# 차트 축 <- 음수 부호 지원\n",
    "import matplotlib\n",
    "matplotlib.rcParams['axes.unicode_minus'] = False"
   ],
   "metadata": {
    "collapsed": false,
    "pycharm": {
     "name": "#%%\n"
    }
   }
  },
  {
   "cell_type": "code",
   "execution_count": 4,
   "outputs": [
    {
     "data": {
      "text/plain": "'data - '"
     },
     "metadata": {},
     "output_type": "display_data"
    },
    {
     "data": {
      "text/plain": "            법정동코드                  법정동명 폐지여부\n0      1100000000                 서울특별시   존재\n1      1111000000             서울특별시 종로구   존재\n2      1111010100         서울특별시 종로구 청운동   존재\n3      1111010200         서울특별시 종로구 신교동   존재\n4      1111010300         서울특별시 종로구 궁정동   존재\n...           ...                   ...  ...\n46175  5013032022  제주특별자치도 서귀포시 표선면 하천리   존재\n46176  5013032023  제주특별자치도 서귀포시 표선면 성읍리   존재\n46177  5013032024  제주특별자치도 서귀포시 표선면 가시리   존재\n46178  5013032025  제주특별자치도 서귀포시 표선면 세화리   존재\n46179  5013032026  제주특별자치도 서귀포시 표선면 토산리   존재\n\n[46180 rows x 3 columns]",
      "text/html": "<div>\n<style scoped>\n    .dataframe tbody tr th:only-of-type {\n        vertical-align: middle;\n    }\n\n    .dataframe tbody tr th {\n        vertical-align: top;\n    }\n\n    .dataframe thead th {\n        text-align: right;\n    }\n</style>\n<table border=\"1\" class=\"dataframe\">\n  <thead>\n    <tr style=\"text-align: right;\">\n      <th></th>\n      <th>법정동코드</th>\n      <th>법정동명</th>\n      <th>폐지여부</th>\n    </tr>\n  </thead>\n  <tbody>\n    <tr>\n      <th>0</th>\n      <td>1100000000</td>\n      <td>서울특별시</td>\n      <td>존재</td>\n    </tr>\n    <tr>\n      <th>1</th>\n      <td>1111000000</td>\n      <td>서울특별시 종로구</td>\n      <td>존재</td>\n    </tr>\n    <tr>\n      <th>2</th>\n      <td>1111010100</td>\n      <td>서울특별시 종로구 청운동</td>\n      <td>존재</td>\n    </tr>\n    <tr>\n      <th>3</th>\n      <td>1111010200</td>\n      <td>서울특별시 종로구 신교동</td>\n      <td>존재</td>\n    </tr>\n    <tr>\n      <th>4</th>\n      <td>1111010300</td>\n      <td>서울특별시 종로구 궁정동</td>\n      <td>존재</td>\n    </tr>\n    <tr>\n      <th>...</th>\n      <td>...</td>\n      <td>...</td>\n      <td>...</td>\n    </tr>\n    <tr>\n      <th>46175</th>\n      <td>5013032022</td>\n      <td>제주특별자치도 서귀포시 표선면 하천리</td>\n      <td>존재</td>\n    </tr>\n    <tr>\n      <th>46176</th>\n      <td>5013032023</td>\n      <td>제주특별자치도 서귀포시 표선면 성읍리</td>\n      <td>존재</td>\n    </tr>\n    <tr>\n      <th>46177</th>\n      <td>5013032024</td>\n      <td>제주특별자치도 서귀포시 표선면 가시리</td>\n      <td>존재</td>\n    </tr>\n    <tr>\n      <th>46178</th>\n      <td>5013032025</td>\n      <td>제주특별자치도 서귀포시 표선면 세화리</td>\n      <td>존재</td>\n    </tr>\n    <tr>\n      <th>46179</th>\n      <td>5013032026</td>\n      <td>제주특별자치도 서귀포시 표선면 토산리</td>\n      <td>존재</td>\n    </tr>\n  </tbody>\n</table>\n<p>46180 rows × 3 columns</p>\n</div>"
     },
     "metadata": {},
     "output_type": "display_data"
    },
    {
     "name": "stdout",
     "output_type": "stream",
     "text": [
      "\n",
      "shape   -  (46180, 3) 46180 3\n",
      "size    -  138540\n",
      "ndim    -  2\n",
      "index   -  RangeIndex(start=0, stop=46180, step=1) <class 'pandas.core.indexes.range.RangeIndex'>\n",
      "columns -  Index(['법정동코드', '법정동명', '폐지여부'], dtype='object') <class 'pandas.core.indexes.base.Index'>\n",
      "values  - \n",
      " [[1100000000 '서울특별시' '존재']\n",
      " [1111000000 '서울특별시 종로구' '존재']\n",
      " [1111010100 '서울특별시 종로구 청운동' '존재']\n",
      " ...\n",
      " [5013032024 '제주특별자치도 서귀포시 표선면 가시리' '존재']\n",
      " [5013032025 '제주특별자치도 서귀포시 표선면 세화리' '존재']\n",
      " [5013032026 '제주특별자치도 서귀포시 표선면 토산리' '존재']] <class 'numpy.ndarray'>\n"
     ]
    }
   ],
   "source": [
    "court_frm = pd.read_csv('/Users/choijaewoo/pandas_data/court_code.txt' , sep='\\t' , encoding='cp949')\n",
    "frmInfo( court_frm )"
   ],
   "metadata": {
    "collapsed": false,
    "pycharm": {
     "name": "#%%\n"
    }
   }
  },
  {
   "cell_type": "code",
   "execution_count": 5,
   "outputs": [
    {
     "name": "stdout",
     "output_type": "stream",
     "text": [
      "폐지여부가 존재인것들만 subset 으로 만들어본다면? - \n"
     ]
    },
    {
     "data": {
      "text/plain": "            법정동코드                  법정동명 폐지여부\n0      1100000000                 서울특별시   존재\n1      1111000000             서울특별시 종로구   존재\n2      1111010100         서울특별시 종로구 청운동   존재\n3      1111010200         서울특별시 종로구 신교동   존재\n4      1111010300         서울특별시 종로구 궁정동   존재\n...           ...                   ...  ...\n46175  5013032022  제주특별자치도 서귀포시 표선면 하천리   존재\n46176  5013032023  제주특별자치도 서귀포시 표선면 성읍리   존재\n46177  5013032024  제주특별자치도 서귀포시 표선면 가시리   존재\n46178  5013032025  제주특별자치도 서귀포시 표선면 세화리   존재\n46179  5013032026  제주특별자치도 서귀포시 표선면 토산리   존재\n\n[20544 rows x 3 columns]",
      "text/html": "<div>\n<style scoped>\n    .dataframe tbody tr th:only-of-type {\n        vertical-align: middle;\n    }\n\n    .dataframe tbody tr th {\n        vertical-align: top;\n    }\n\n    .dataframe thead th {\n        text-align: right;\n    }\n</style>\n<table border=\"1\" class=\"dataframe\">\n  <thead>\n    <tr style=\"text-align: right;\">\n      <th></th>\n      <th>법정동코드</th>\n      <th>법정동명</th>\n      <th>폐지여부</th>\n    </tr>\n  </thead>\n  <tbody>\n    <tr>\n      <th>0</th>\n      <td>1100000000</td>\n      <td>서울특별시</td>\n      <td>존재</td>\n    </tr>\n    <tr>\n      <th>1</th>\n      <td>1111000000</td>\n      <td>서울특별시 종로구</td>\n      <td>존재</td>\n    </tr>\n    <tr>\n      <th>2</th>\n      <td>1111010100</td>\n      <td>서울특별시 종로구 청운동</td>\n      <td>존재</td>\n    </tr>\n    <tr>\n      <th>3</th>\n      <td>1111010200</td>\n      <td>서울특별시 종로구 신교동</td>\n      <td>존재</td>\n    </tr>\n    <tr>\n      <th>4</th>\n      <td>1111010300</td>\n      <td>서울특별시 종로구 궁정동</td>\n      <td>존재</td>\n    </tr>\n    <tr>\n      <th>...</th>\n      <td>...</td>\n      <td>...</td>\n      <td>...</td>\n    </tr>\n    <tr>\n      <th>46175</th>\n      <td>5013032022</td>\n      <td>제주특별자치도 서귀포시 표선면 하천리</td>\n      <td>존재</td>\n    </tr>\n    <tr>\n      <th>46176</th>\n      <td>5013032023</td>\n      <td>제주특별자치도 서귀포시 표선면 성읍리</td>\n      <td>존재</td>\n    </tr>\n    <tr>\n      <th>46177</th>\n      <td>5013032024</td>\n      <td>제주특별자치도 서귀포시 표선면 가시리</td>\n      <td>존재</td>\n    </tr>\n    <tr>\n      <th>46178</th>\n      <td>5013032025</td>\n      <td>제주특별자치도 서귀포시 표선면 세화리</td>\n      <td>존재</td>\n    </tr>\n    <tr>\n      <th>46179</th>\n      <td>5013032026</td>\n      <td>제주특별자치도 서귀포시 표선면 토산리</td>\n      <td>존재</td>\n    </tr>\n  </tbody>\n</table>\n<p>20544 rows × 3 columns</p>\n</div>"
     },
     "execution_count": 5,
     "metadata": {},
     "output_type": "execute_result"
    }
   ],
   "source": [
    "print('폐지여부가 존재인것들만 subset 으로 만들어본다면? - ')\n",
    "\n",
    "# court_frm['폐지여부'].value_counts()\n",
    "boolean_idx = court_frm['폐지여부'] == '존재'\n",
    "\n",
    "court_exist_frm = court_frm[boolean_idx]\n",
    "# court_exits_frm['폐지여부'].value_counts()\n",
    "court_exist_frm"
   ],
   "metadata": {
    "collapsed": false,
    "pycharm": {
     "name": "#%%\n"
    }
   }
  },
  {
   "cell_type": "code",
   "execution_count": 6,
   "outputs": [
    {
     "name": "stdout",
     "output_type": "stream",
     "text": [
      "str 이용해서 문자열 처리가 가능 - \n",
      "type -  <class 'pandas.core.strings.accessor.StringMethods'>\n"
     ]
    }
   ],
   "source": [
    "print('str 이용해서 문자열 처리가 가능 - ')\n",
    "print('type - ' , type(court_exist_frm['법정동명'].str))"
   ],
   "metadata": {
    "collapsed": false,
    "pycharm": {
     "name": "#%%\n"
    }
   }
  },
  {
   "cell_type": "code",
   "execution_count": 7,
   "outputs": [
    {
     "name": "stdout",
     "output_type": "stream",
     "text": [
      "힌트 - \n"
     ]
    },
    {
     "data": {
      "text/plain": "       0     1     2     3     4\n0  서울특별시  None  None  None  None\n1  서울특별시   종로구  None  None  None\n2  서울특별시   종로구   청운동  None  None\n3  서울특별시   종로구   신교동  None  None\n4  서울특별시   종로구   궁정동  None  None",
      "text/html": "<div>\n<style scoped>\n    .dataframe tbody tr th:only-of-type {\n        vertical-align: middle;\n    }\n\n    .dataframe tbody tr th {\n        vertical-align: top;\n    }\n\n    .dataframe thead th {\n        text-align: right;\n    }\n</style>\n<table border=\"1\" class=\"dataframe\">\n  <thead>\n    <tr style=\"text-align: right;\">\n      <th></th>\n      <th>0</th>\n      <th>1</th>\n      <th>2</th>\n      <th>3</th>\n      <th>4</th>\n    </tr>\n  </thead>\n  <tbody>\n    <tr>\n      <th>0</th>\n      <td>서울특별시</td>\n      <td>None</td>\n      <td>None</td>\n      <td>None</td>\n      <td>None</td>\n    </tr>\n    <tr>\n      <th>1</th>\n      <td>서울특별시</td>\n      <td>종로구</td>\n      <td>None</td>\n      <td>None</td>\n      <td>None</td>\n    </tr>\n    <tr>\n      <th>2</th>\n      <td>서울특별시</td>\n      <td>종로구</td>\n      <td>청운동</td>\n      <td>None</td>\n      <td>None</td>\n    </tr>\n    <tr>\n      <th>3</th>\n      <td>서울특별시</td>\n      <td>종로구</td>\n      <td>신교동</td>\n      <td>None</td>\n      <td>None</td>\n    </tr>\n    <tr>\n      <th>4</th>\n      <td>서울특별시</td>\n      <td>종로구</td>\n      <td>궁정동</td>\n      <td>None</td>\n      <td>None</td>\n    </tr>\n  </tbody>\n</table>\n</div>"
     },
     "execution_count": 7,
     "metadata": {},
     "output_type": "execute_result"
    }
   ],
   "source": [
    "print('힌트 - ')\n",
    "court_exist_frm['법정동명'].str.split(\" \" , expand = True).head()"
   ],
   "metadata": {
    "collapsed": false,
    "pycharm": {
     "name": "#%%\n"
    }
   }
  },
  {
   "cell_type": "code",
   "execution_count": 8,
   "outputs": [
    {
     "name": "stdout",
     "output_type": "stream",
     "text": [
      "서울로 시작하는 데이터만 필터링 한다면 - \n"
     ]
    },
    {
     "data": {
      "text/plain": "           법정동코드           법정동명 폐지여부\n0     1100000000          서울특별시   존재\n1     1111000000      서울특별시 종로구   존재\n2     1111010100  서울특별시 종로구 청운동   존재\n3     1111010200  서울특별시 종로구 신교동   존재\n4     1111010300  서울특별시 종로구 궁정동   존재\n...          ...            ...  ...\n1107  1174010600  서울특별시 강동구 둔촌동   존재\n1108  1174010700  서울특별시 강동구 암사동   존재\n1109  1174010800  서울특별시 강동구 성내동   존재\n1110  1174010900  서울특별시 강동구 천호동   존재\n1111  1174011000  서울특별시 강동구 강일동   존재\n\n[493 rows x 3 columns]",
      "text/html": "<div>\n<style scoped>\n    .dataframe tbody tr th:only-of-type {\n        vertical-align: middle;\n    }\n\n    .dataframe tbody tr th {\n        vertical-align: top;\n    }\n\n    .dataframe thead th {\n        text-align: right;\n    }\n</style>\n<table border=\"1\" class=\"dataframe\">\n  <thead>\n    <tr style=\"text-align: right;\">\n      <th></th>\n      <th>법정동코드</th>\n      <th>법정동명</th>\n      <th>폐지여부</th>\n    </tr>\n  </thead>\n  <tbody>\n    <tr>\n      <th>0</th>\n      <td>1100000000</td>\n      <td>서울특별시</td>\n      <td>존재</td>\n    </tr>\n    <tr>\n      <th>1</th>\n      <td>1111000000</td>\n      <td>서울특별시 종로구</td>\n      <td>존재</td>\n    </tr>\n    <tr>\n      <th>2</th>\n      <td>1111010100</td>\n      <td>서울특별시 종로구 청운동</td>\n      <td>존재</td>\n    </tr>\n    <tr>\n      <th>3</th>\n      <td>1111010200</td>\n      <td>서울특별시 종로구 신교동</td>\n      <td>존재</td>\n    </tr>\n    <tr>\n      <th>4</th>\n      <td>1111010300</td>\n      <td>서울특별시 종로구 궁정동</td>\n      <td>존재</td>\n    </tr>\n    <tr>\n      <th>...</th>\n      <td>...</td>\n      <td>...</td>\n      <td>...</td>\n    </tr>\n    <tr>\n      <th>1107</th>\n      <td>1174010600</td>\n      <td>서울특별시 강동구 둔촌동</td>\n      <td>존재</td>\n    </tr>\n    <tr>\n      <th>1108</th>\n      <td>1174010700</td>\n      <td>서울특별시 강동구 암사동</td>\n      <td>존재</td>\n    </tr>\n    <tr>\n      <th>1109</th>\n      <td>1174010800</td>\n      <td>서울특별시 강동구 성내동</td>\n      <td>존재</td>\n    </tr>\n    <tr>\n      <th>1110</th>\n      <td>1174010900</td>\n      <td>서울특별시 강동구 천호동</td>\n      <td>존재</td>\n    </tr>\n    <tr>\n      <th>1111</th>\n      <td>1174011000</td>\n      <td>서울특별시 강동구 강일동</td>\n      <td>존재</td>\n    </tr>\n  </tbody>\n</table>\n<p>493 rows × 3 columns</p>\n</div>"
     },
     "execution_count": 8,
     "metadata": {},
     "output_type": "execute_result"
    }
   ],
   "source": [
    "print('서울로 시작하는 데이터만 필터링 한다면 - ')\n",
    "\n",
    "court_exist_frm[ court_exist_frm['법정동명'].str.startswith('서울') ]"
   ],
   "metadata": {
    "collapsed": false,
    "pycharm": {
     "name": "#%%\n"
    }
   }
  },
  {
   "cell_type": "code",
   "execution_count": 9,
   "outputs": [
    {
     "name": "stdout",
     "output_type": "stream",
     "text": [
      "동으로 끝나는 데이터만 필터링 한다면   - \n"
     ]
    },
    {
     "data": {
      "text/plain": "            법정동코드              법정동명 폐지여부\n2      1111010100     서울특별시 종로구 청운동   존재\n3      1111010200     서울특별시 종로구 신교동   존재\n4      1111010300     서울특별시 종로구 궁정동   존재\n5      1111010400     서울특별시 종로구 효자동   존재\n6      1111010500     서울특별시 종로구 창성동   존재\n...           ...               ...  ...\n46119  5013011800  제주특별자치도 서귀포시 하원동   존재\n46120  5013011900  제주특별자치도 서귀포시 색달동   존재\n46121  5013012000  제주특별자치도 서귀포시 상예동   존재\n46122  5013012100  제주특별자치도 서귀포시 하예동   존재\n46123  5013012200  제주특별자치도 서귀포시 영남동   존재\n\n[3205 rows x 3 columns]",
      "text/html": "<div>\n<style scoped>\n    .dataframe tbody tr th:only-of-type {\n        vertical-align: middle;\n    }\n\n    .dataframe tbody tr th {\n        vertical-align: top;\n    }\n\n    .dataframe thead th {\n        text-align: right;\n    }\n</style>\n<table border=\"1\" class=\"dataframe\">\n  <thead>\n    <tr style=\"text-align: right;\">\n      <th></th>\n      <th>법정동코드</th>\n      <th>법정동명</th>\n      <th>폐지여부</th>\n    </tr>\n  </thead>\n  <tbody>\n    <tr>\n      <th>2</th>\n      <td>1111010100</td>\n      <td>서울특별시 종로구 청운동</td>\n      <td>존재</td>\n    </tr>\n    <tr>\n      <th>3</th>\n      <td>1111010200</td>\n      <td>서울특별시 종로구 신교동</td>\n      <td>존재</td>\n    </tr>\n    <tr>\n      <th>4</th>\n      <td>1111010300</td>\n      <td>서울특별시 종로구 궁정동</td>\n      <td>존재</td>\n    </tr>\n    <tr>\n      <th>5</th>\n      <td>1111010400</td>\n      <td>서울특별시 종로구 효자동</td>\n      <td>존재</td>\n    </tr>\n    <tr>\n      <th>6</th>\n      <td>1111010500</td>\n      <td>서울특별시 종로구 창성동</td>\n      <td>존재</td>\n    </tr>\n    <tr>\n      <th>...</th>\n      <td>...</td>\n      <td>...</td>\n      <td>...</td>\n    </tr>\n    <tr>\n      <th>46119</th>\n      <td>5013011800</td>\n      <td>제주특별자치도 서귀포시 하원동</td>\n      <td>존재</td>\n    </tr>\n    <tr>\n      <th>46120</th>\n      <td>5013011900</td>\n      <td>제주특별자치도 서귀포시 색달동</td>\n      <td>존재</td>\n    </tr>\n    <tr>\n      <th>46121</th>\n      <td>5013012000</td>\n      <td>제주특별자치도 서귀포시 상예동</td>\n      <td>존재</td>\n    </tr>\n    <tr>\n      <th>46122</th>\n      <td>5013012100</td>\n      <td>제주특별자치도 서귀포시 하예동</td>\n      <td>존재</td>\n    </tr>\n    <tr>\n      <th>46123</th>\n      <td>5013012200</td>\n      <td>제주특별자치도 서귀포시 영남동</td>\n      <td>존재</td>\n    </tr>\n  </tbody>\n</table>\n<p>3205 rows × 3 columns</p>\n</div>"
     },
     "execution_count": 9,
     "metadata": {},
     "output_type": "execute_result"
    }
   ],
   "source": [
    "print('동으로 끝나는 데이터만 필터링 한다면   - ')\n",
    "court_exist_frm[ court_exist_frm['법정동명'].str.endswith('동') ]"
   ],
   "metadata": {
    "collapsed": false,
    "pycharm": {
     "name": "#%%\n"
    }
   }
  },
  {
   "cell_type": "code",
   "execution_count": 10,
   "outputs": [
    {
     "name": "stdout",
     "output_type": "stream",
     "text": [
      "서울이고 강서구만 필터링 한다면 - \n"
     ]
    },
    {
     "data": {
      "text/plain": "          법정동코드            법정동명 폐지여부\n737  1150000000       서울특별시 강서구   존재\n740  1150010100   서울특별시 강서구 염창동   존재\n741  1150010200   서울특별시 강서구 등촌동   존재\n742  1150010300   서울특별시 강서구 화곡동   존재\n743  1150010400   서울특별시 강서구 가양동   존재\n744  1150010500   서울특별시 강서구 마곡동   존재\n745  1150010600  서울특별시 강서구 내발산동   존재\n746  1150010700  서울특별시 강서구 외발산동   존재\n747  1150010800   서울특별시 강서구 공항동   존재\n748  1150010900   서울특별시 강서구 방화동   존재\n749  1150011000   서울특별시 강서구 개화동   존재\n750  1150011100   서울특별시 강서구 과해동   존재\n751  1150011200   서울특별시 강서구 오곡동   존재\n752  1150011300   서울특별시 강서구 오쇠동   존재",
      "text/html": "<div>\n<style scoped>\n    .dataframe tbody tr th:only-of-type {\n        vertical-align: middle;\n    }\n\n    .dataframe tbody tr th {\n        vertical-align: top;\n    }\n\n    .dataframe thead th {\n        text-align: right;\n    }\n</style>\n<table border=\"1\" class=\"dataframe\">\n  <thead>\n    <tr style=\"text-align: right;\">\n      <th></th>\n      <th>법정동코드</th>\n      <th>법정동명</th>\n      <th>폐지여부</th>\n    </tr>\n  </thead>\n  <tbody>\n    <tr>\n      <th>737</th>\n      <td>1150000000</td>\n      <td>서울특별시 강서구</td>\n      <td>존재</td>\n    </tr>\n    <tr>\n      <th>740</th>\n      <td>1150010100</td>\n      <td>서울특별시 강서구 염창동</td>\n      <td>존재</td>\n    </tr>\n    <tr>\n      <th>741</th>\n      <td>1150010200</td>\n      <td>서울특별시 강서구 등촌동</td>\n      <td>존재</td>\n    </tr>\n    <tr>\n      <th>742</th>\n      <td>1150010300</td>\n      <td>서울특별시 강서구 화곡동</td>\n      <td>존재</td>\n    </tr>\n    <tr>\n      <th>743</th>\n      <td>1150010400</td>\n      <td>서울특별시 강서구 가양동</td>\n      <td>존재</td>\n    </tr>\n    <tr>\n      <th>744</th>\n      <td>1150010500</td>\n      <td>서울특별시 강서구 마곡동</td>\n      <td>존재</td>\n    </tr>\n    <tr>\n      <th>745</th>\n      <td>1150010600</td>\n      <td>서울특별시 강서구 내발산동</td>\n      <td>존재</td>\n    </tr>\n    <tr>\n      <th>746</th>\n      <td>1150010700</td>\n      <td>서울특별시 강서구 외발산동</td>\n      <td>존재</td>\n    </tr>\n    <tr>\n      <th>747</th>\n      <td>1150010800</td>\n      <td>서울특별시 강서구 공항동</td>\n      <td>존재</td>\n    </tr>\n    <tr>\n      <th>748</th>\n      <td>1150010900</td>\n      <td>서울특별시 강서구 방화동</td>\n      <td>존재</td>\n    </tr>\n    <tr>\n      <th>749</th>\n      <td>1150011000</td>\n      <td>서울특별시 강서구 개화동</td>\n      <td>존재</td>\n    </tr>\n    <tr>\n      <th>750</th>\n      <td>1150011100</td>\n      <td>서울특별시 강서구 과해동</td>\n      <td>존재</td>\n    </tr>\n    <tr>\n      <th>751</th>\n      <td>1150011200</td>\n      <td>서울특별시 강서구 오곡동</td>\n      <td>존재</td>\n    </tr>\n    <tr>\n      <th>752</th>\n      <td>1150011300</td>\n      <td>서울특별시 강서구 오쇠동</td>\n      <td>존재</td>\n    </tr>\n  </tbody>\n</table>\n</div>"
     },
     "execution_count": 10,
     "metadata": {},
     "output_type": "execute_result"
    }
   ],
   "source": [
    "print('서울이고 강서구만 필터링 한다면 - ')\n",
    "court_exist_frm[  court_exist_frm['법정동명'].str.contains('서울') & court_exist_frm['법정동명'].str.contains('강서구') ]"
   ],
   "metadata": {
    "collapsed": false,
    "pycharm": {
     "name": "#%%\n"
    }
   }
  },
  {
   "cell_type": "code",
   "execution_count": 11,
   "outputs": [
    {
     "data": {
      "text/plain": "'data - '"
     },
     "metadata": {},
     "output_type": "display_data"
    },
    {
     "data": {
      "text/plain": "               날짜   지점  평균기온(℃)  최저기온(℃)  최고기온(℃)\n0      1907-10-01  108     13.5      7.9     20.7\n1      1907-10-02  108     16.2      7.9     22.0\n2      1907-10-03  108     16.2     13.1     21.3\n3      1907-10-04  108     16.5     11.2     22.0\n4      1907-10-05  108     17.6     10.9     25.4\n...           ...  ...      ...      ...      ...\n40849  2020-10-07  108     16.0      9.9     22.0\n40850  2020-10-08  108     17.2     12.1     23.1\n40851  2020-10-09  108     17.2     12.4     23.3\n40852  2020-10-10  108     16.9     12.3     21.5\n40853  2020-10-11  108     16.9     12.7     20.8\n\n[40854 rows x 5 columns]",
      "text/html": "<div>\n<style scoped>\n    .dataframe tbody tr th:only-of-type {\n        vertical-align: middle;\n    }\n\n    .dataframe tbody tr th {\n        vertical-align: top;\n    }\n\n    .dataframe thead th {\n        text-align: right;\n    }\n</style>\n<table border=\"1\" class=\"dataframe\">\n  <thead>\n    <tr style=\"text-align: right;\">\n      <th></th>\n      <th>날짜</th>\n      <th>지점</th>\n      <th>평균기온(℃)</th>\n      <th>최저기온(℃)</th>\n      <th>최고기온(℃)</th>\n    </tr>\n  </thead>\n  <tbody>\n    <tr>\n      <th>0</th>\n      <td>1907-10-01</td>\n      <td>108</td>\n      <td>13.5</td>\n      <td>7.9</td>\n      <td>20.7</td>\n    </tr>\n    <tr>\n      <th>1</th>\n      <td>1907-10-02</td>\n      <td>108</td>\n      <td>16.2</td>\n      <td>7.9</td>\n      <td>22.0</td>\n    </tr>\n    <tr>\n      <th>2</th>\n      <td>1907-10-03</td>\n      <td>108</td>\n      <td>16.2</td>\n      <td>13.1</td>\n      <td>21.3</td>\n    </tr>\n    <tr>\n      <th>3</th>\n      <td>1907-10-04</td>\n      <td>108</td>\n      <td>16.5</td>\n      <td>11.2</td>\n      <td>22.0</td>\n    </tr>\n    <tr>\n      <th>4</th>\n      <td>1907-10-05</td>\n      <td>108</td>\n      <td>17.6</td>\n      <td>10.9</td>\n      <td>25.4</td>\n    </tr>\n    <tr>\n      <th>...</th>\n      <td>...</td>\n      <td>...</td>\n      <td>...</td>\n      <td>...</td>\n      <td>...</td>\n    </tr>\n    <tr>\n      <th>40849</th>\n      <td>2020-10-07</td>\n      <td>108</td>\n      <td>16.0</td>\n      <td>9.9</td>\n      <td>22.0</td>\n    </tr>\n    <tr>\n      <th>40850</th>\n      <td>2020-10-08</td>\n      <td>108</td>\n      <td>17.2</td>\n      <td>12.1</td>\n      <td>23.1</td>\n    </tr>\n    <tr>\n      <th>40851</th>\n      <td>2020-10-09</td>\n      <td>108</td>\n      <td>17.2</td>\n      <td>12.4</td>\n      <td>23.3</td>\n    </tr>\n    <tr>\n      <th>40852</th>\n      <td>2020-10-10</td>\n      <td>108</td>\n      <td>16.9</td>\n      <td>12.3</td>\n      <td>21.5</td>\n    </tr>\n    <tr>\n      <th>40853</th>\n      <td>2020-10-11</td>\n      <td>108</td>\n      <td>16.9</td>\n      <td>12.7</td>\n      <td>20.8</td>\n    </tr>\n  </tbody>\n</table>\n<p>40854 rows × 5 columns</p>\n</div>"
     },
     "metadata": {},
     "output_type": "display_data"
    },
    {
     "name": "stdout",
     "output_type": "stream",
     "text": [
      "\n",
      "shape   -  (40854, 5) 40854 5\n",
      "size    -  204270\n",
      "ndim    -  2\n",
      "index   -  RangeIndex(start=0, stop=40854, step=1) <class 'pandas.core.indexes.range.RangeIndex'>\n",
      "columns -  Index(['날짜', '지점', '평균기온(℃)', '최저기온(℃)', '최고기온(℃)'], dtype='object') <class 'pandas.core.indexes.base.Index'>\n",
      "values  - \n",
      " [['1907-10-01' 108 13.5 7.9 20.7]\n",
      " ['1907-10-02' 108 16.2 7.9 22.0]\n",
      " ['1907-10-03' 108 16.2 13.1 21.3]\n",
      " ...\n",
      " ['2020-10-09' 108 17.2 12.4 23.3]\n",
      " ['2020-10-10' 108 16.9 12.3 21.5]\n",
      " ['2020-10-11' 108 16.9 12.7 20.8]] <class 'numpy.ndarray'>\n"
     ]
    }
   ],
   "source": [
    "weather_frm = pd.read_csv('/Users/choijaewoo/pandas_data/weather_20201012.csv' , encoding = 'cp949')\n",
    "frmInfo( weather_frm )"
   ],
   "metadata": {
    "collapsed": false,
    "pycharm": {
     "name": "#%%\n"
    }
   }
  },
  {
   "cell_type": "code",
   "execution_count": 12,
   "outputs": [
    {
     "name": "stdout",
     "output_type": "stream",
     "text": [
      "기온이 가장 높았던 데이터를 출력 - (데이터프레임형식으로)\n",
      "sort_values - \n",
      "\n",
      "case01 - \n"
     ]
    },
    {
     "data": {
      "text/plain": "               날짜   지점  평균기온(℃)  최저기온(℃)  최고기온(℃)\n40051  2018-08-01  108     33.6     27.8     39.6",
      "text/html": "<div>\n<style scoped>\n    .dataframe tbody tr th:only-of-type {\n        vertical-align: middle;\n    }\n\n    .dataframe tbody tr th {\n        vertical-align: top;\n    }\n\n    .dataframe thead th {\n        text-align: right;\n    }\n</style>\n<table border=\"1\" class=\"dataframe\">\n  <thead>\n    <tr style=\"text-align: right;\">\n      <th></th>\n      <th>날짜</th>\n      <th>지점</th>\n      <th>평균기온(℃)</th>\n      <th>최저기온(℃)</th>\n      <th>최고기온(℃)</th>\n    </tr>\n  </thead>\n  <tbody>\n    <tr>\n      <th>40051</th>\n      <td>2018-08-01</td>\n      <td>108</td>\n      <td>33.6</td>\n      <td>27.8</td>\n      <td>39.6</td>\n    </tr>\n  </tbody>\n</table>\n</div>"
     },
     "metadata": {},
     "output_type": "display_data"
    },
    {
     "name": "stdout",
     "output_type": "stream",
     "text": [
      "\n",
      "case02 - \n"
     ]
    },
    {
     "data": {
      "text/plain": "               날짜   지점  평균기온(℃)  최저기온(℃)  최고기온(℃)\n40051  2018-08-01  108     33.6     27.8     39.6",
      "text/html": "<div>\n<style scoped>\n    .dataframe tbody tr th:only-of-type {\n        vertical-align: middle;\n    }\n\n    .dataframe tbody tr th {\n        vertical-align: top;\n    }\n\n    .dataframe thead th {\n        text-align: right;\n    }\n</style>\n<table border=\"1\" class=\"dataframe\">\n  <thead>\n    <tr style=\"text-align: right;\">\n      <th></th>\n      <th>날짜</th>\n      <th>지점</th>\n      <th>평균기온(℃)</th>\n      <th>최저기온(℃)</th>\n      <th>최고기온(℃)</th>\n    </tr>\n  </thead>\n  <tbody>\n    <tr>\n      <th>40051</th>\n      <td>2018-08-01</td>\n      <td>108</td>\n      <td>33.6</td>\n      <td>27.8</td>\n      <td>39.6</td>\n    </tr>\n  </tbody>\n</table>\n</div>"
     },
     "metadata": {},
     "output_type": "display_data"
    }
   ],
   "source": [
    "print('기온이 가장 높았던 데이터를 출력 - (데이터프레임형식으로)')\n",
    "print('sort_values - ')\n",
    "print()\n",
    "print('case01 - ')\n",
    "display( weather_frm.sort_values(by='최고기온(℃)' , ascending = False).iloc[[0]] )\n",
    "\n",
    "print()\n",
    "print('case02 - ')\n",
    "display( weather_frm[ weather_frm['최고기온(℃)'] ==  weather_frm['최고기온(℃)'].max() ] )\n"
   ],
   "metadata": {
    "collapsed": false,
    "pycharm": {
     "name": "#%%\n"
    }
   }
  },
  {
   "cell_type": "code",
   "execution_count": 13,
   "outputs": [
    {
     "data": {
      "text/plain": "   0  1  2  3  4  5  6  7\n0  7  6  0  9  5  0  8  4\n1  8  9  7  0  3  6  2  5\n2  5  5  4  9  6  0  8  1\n3  7  0  3  7  5  2  5  6",
      "text/html": "<div>\n<style scoped>\n    .dataframe tbody tr th:only-of-type {\n        vertical-align: middle;\n    }\n\n    .dataframe tbody tr th {\n        vertical-align: top;\n    }\n\n    .dataframe thead th {\n        text-align: right;\n    }\n</style>\n<table border=\"1\" class=\"dataframe\">\n  <thead>\n    <tr style=\"text-align: right;\">\n      <th></th>\n      <th>0</th>\n      <th>1</th>\n      <th>2</th>\n      <th>3</th>\n      <th>4</th>\n      <th>5</th>\n      <th>6</th>\n      <th>7</th>\n    </tr>\n  </thead>\n  <tbody>\n    <tr>\n      <th>0</th>\n      <td>7</td>\n      <td>6</td>\n      <td>0</td>\n      <td>9</td>\n      <td>5</td>\n      <td>0</td>\n      <td>8</td>\n      <td>4</td>\n    </tr>\n    <tr>\n      <th>1</th>\n      <td>8</td>\n      <td>9</td>\n      <td>7</td>\n      <td>0</td>\n      <td>3</td>\n      <td>6</td>\n      <td>2</td>\n      <td>5</td>\n    </tr>\n    <tr>\n      <th>2</th>\n      <td>5</td>\n      <td>5</td>\n      <td>4</td>\n      <td>9</td>\n      <td>6</td>\n      <td>0</td>\n      <td>8</td>\n      <td>1</td>\n    </tr>\n    <tr>\n      <th>3</th>\n      <td>7</td>\n      <td>0</td>\n      <td>3</td>\n      <td>7</td>\n      <td>5</td>\n      <td>2</td>\n      <td>5</td>\n      <td>6</td>\n    </tr>\n  </tbody>\n</table>\n</div>"
     },
     "execution_count": 13,
     "metadata": {},
     "output_type": "execute_result"
    }
   ],
   "source": [
    "tmp_frm = pd.DataFrame( np.random.randint(10, size=(4,8)))\n",
    "tmp_frm"
   ],
   "metadata": {
    "collapsed": false,
    "pycharm": {
     "name": "#%%\n"
    }
   }
  },
  {
   "cell_type": "code",
   "execution_count": 14,
   "outputs": [
    {
     "data": {
      "text/plain": "0    39\n1    40\n2    38\n3    35\ndtype: int64"
     },
     "execution_count": 14,
     "metadata": {},
     "output_type": "execute_result"
    }
   ],
   "source": [
    "tmp_frm.sum(axis = 1 )"
   ],
   "metadata": {
    "collapsed": false,
    "pycharm": {
     "name": "#%%\n"
    }
   }
  },
  {
   "cell_type": "code",
   "execution_count": 15,
   "outputs": [
    {
     "data": {
      "text/plain": "   0  1  2  3  4  5  6  7  row_sum\n0  7  6  0  9  5  0  8  4       39\n1  8  9  7  0  3  6  2  5       40\n2  5  5  4  9  6  0  8  1       38\n3  7  0  3  7  5  2  5  6       35",
      "text/html": "<div>\n<style scoped>\n    .dataframe tbody tr th:only-of-type {\n        vertical-align: middle;\n    }\n\n    .dataframe tbody tr th {\n        vertical-align: top;\n    }\n\n    .dataframe thead th {\n        text-align: right;\n    }\n</style>\n<table border=\"1\" class=\"dataframe\">\n  <thead>\n    <tr style=\"text-align: right;\">\n      <th></th>\n      <th>0</th>\n      <th>1</th>\n      <th>2</th>\n      <th>3</th>\n      <th>4</th>\n      <th>5</th>\n      <th>6</th>\n      <th>7</th>\n      <th>row_sum</th>\n    </tr>\n  </thead>\n  <tbody>\n    <tr>\n      <th>0</th>\n      <td>7</td>\n      <td>6</td>\n      <td>0</td>\n      <td>9</td>\n      <td>5</td>\n      <td>0</td>\n      <td>8</td>\n      <td>4</td>\n      <td>39</td>\n    </tr>\n    <tr>\n      <th>1</th>\n      <td>8</td>\n      <td>9</td>\n      <td>7</td>\n      <td>0</td>\n      <td>3</td>\n      <td>6</td>\n      <td>2</td>\n      <td>5</td>\n      <td>40</td>\n    </tr>\n    <tr>\n      <th>2</th>\n      <td>5</td>\n      <td>5</td>\n      <td>4</td>\n      <td>9</td>\n      <td>6</td>\n      <td>0</td>\n      <td>8</td>\n      <td>1</td>\n      <td>38</td>\n    </tr>\n    <tr>\n      <th>3</th>\n      <td>7</td>\n      <td>0</td>\n      <td>3</td>\n      <td>7</td>\n      <td>5</td>\n      <td>2</td>\n      <td>5</td>\n      <td>6</td>\n      <td>35</td>\n    </tr>\n  </tbody>\n</table>\n</div>"
     },
     "execution_count": 15,
     "metadata": {},
     "output_type": "execute_result"
    }
   ],
   "source": [
    "tmp_frm['row_sum'] = tmp_frm.sum(axis = 1 )\n",
    "tmp_frm"
   ],
   "metadata": {
    "collapsed": false,
    "pycharm": {
     "name": "#%%\n"
    }
   }
  },
  {
   "cell_type": "code",
   "execution_count": 5,
   "outputs": [
    {
     "data": {
      "text/plain": "'data - '"
     },
     "metadata": {},
     "output_type": "display_data"
    },
    {
     "data": {
      "text/plain": "            법정동코드                  법정동명 폐지여부\n0      1100000000                 서울특별시   존재\n1      1111000000             서울특별시 종로구   존재\n2      1111010100         서울특별시 종로구 청운동   존재\n3      1111010200         서울특별시 종로구 신교동   존재\n4      1111010300         서울특별시 종로구 궁정동   존재\n...           ...                   ...  ...\n46175  5013032022  제주특별자치도 서귀포시 표선면 하천리   존재\n46176  5013032023  제주특별자치도 서귀포시 표선면 성읍리   존재\n46177  5013032024  제주특별자치도 서귀포시 표선면 가시리   존재\n46178  5013032025  제주특별자치도 서귀포시 표선면 세화리   존재\n46179  5013032026  제주특별자치도 서귀포시 표선면 토산리   존재\n\n[46180 rows x 3 columns]",
      "text/html": "<div>\n<style scoped>\n    .dataframe tbody tr th:only-of-type {\n        vertical-align: middle;\n    }\n\n    .dataframe tbody tr th {\n        vertical-align: top;\n    }\n\n    .dataframe thead th {\n        text-align: right;\n    }\n</style>\n<table border=\"1\" class=\"dataframe\">\n  <thead>\n    <tr style=\"text-align: right;\">\n      <th></th>\n      <th>법정동코드</th>\n      <th>법정동명</th>\n      <th>폐지여부</th>\n    </tr>\n  </thead>\n  <tbody>\n    <tr>\n      <th>0</th>\n      <td>1100000000</td>\n      <td>서울특별시</td>\n      <td>존재</td>\n    </tr>\n    <tr>\n      <th>1</th>\n      <td>1111000000</td>\n      <td>서울특별시 종로구</td>\n      <td>존재</td>\n    </tr>\n    <tr>\n      <th>2</th>\n      <td>1111010100</td>\n      <td>서울특별시 종로구 청운동</td>\n      <td>존재</td>\n    </tr>\n    <tr>\n      <th>3</th>\n      <td>1111010200</td>\n      <td>서울특별시 종로구 신교동</td>\n      <td>존재</td>\n    </tr>\n    <tr>\n      <th>4</th>\n      <td>1111010300</td>\n      <td>서울특별시 종로구 궁정동</td>\n      <td>존재</td>\n    </tr>\n    <tr>\n      <th>...</th>\n      <td>...</td>\n      <td>...</td>\n      <td>...</td>\n    </tr>\n    <tr>\n      <th>46175</th>\n      <td>5013032022</td>\n      <td>제주특별자치도 서귀포시 표선면 하천리</td>\n      <td>존재</td>\n    </tr>\n    <tr>\n      <th>46176</th>\n      <td>5013032023</td>\n      <td>제주특별자치도 서귀포시 표선면 성읍리</td>\n      <td>존재</td>\n    </tr>\n    <tr>\n      <th>46177</th>\n      <td>5013032024</td>\n      <td>제주특별자치도 서귀포시 표선면 가시리</td>\n      <td>존재</td>\n    </tr>\n    <tr>\n      <th>46178</th>\n      <td>5013032025</td>\n      <td>제주특별자치도 서귀포시 표선면 세화리</td>\n      <td>존재</td>\n    </tr>\n    <tr>\n      <th>46179</th>\n      <td>5013032026</td>\n      <td>제주특별자치도 서귀포시 표선면 토산리</td>\n      <td>존재</td>\n    </tr>\n  </tbody>\n</table>\n<p>46180 rows × 3 columns</p>\n</div>"
     },
     "metadata": {},
     "output_type": "display_data"
    },
    {
     "name": "stdout",
     "output_type": "stream",
     "text": [
      "\n",
      "shape   -  (46180, 3) 46180 3\n",
      "size    -  138540\n",
      "ndim    -  2\n",
      "index   -  RangeIndex(start=0, stop=46180, step=1) <class 'pandas.core.indexes.range.RangeIndex'>\n",
      "columns -  Index(['법정동코드', '법정동명', '폐지여부'], dtype='object') <class 'pandas.core.indexes.base.Index'>\n",
      "values  - \n",
      " [[1100000000 '서울특별시' '존재']\n",
      " [1111000000 '서울특별시 종로구' '존재']\n",
      " [1111010100 '서울특별시 종로구 청운동' '존재']\n",
      " ...\n",
      " [5013032024 '제주특별자치도 서귀포시 표선면 가시리' '존재']\n",
      " [5013032025 '제주특별자치도 서귀포시 표선면 세화리' '존재']\n",
      " [5013032026 '제주특별자치도 서귀포시 표선면 토산리' '존재']] <class 'numpy.ndarray'>\n"
     ]
    }
   ],
   "source": [
    "court_frm = pd.read_csv('/Users/choijaewoo/pandas_data/court_code.txt' , sep='\\t' , encoding='cp949')\n",
    "frmInfo( court_frm )"
   ],
   "metadata": {
    "collapsed": false,
    "pycharm": {
     "name": "#%%\n"
    }
   }
  },
  {
   "cell_type": "code",
   "execution_count": 6,
   "outputs": [
    {
     "data": {
      "text/plain": "        법정동코드           법정동명 폐지여부\n0  1100000000          서울특별시   존재\n1  1111000000      서울특별시 종로구   존재\n2  1111010100  서울특별시 종로구 청운동   존재\n3  1111010200  서울특별시 종로구 신교동   존재\n4  1111010300  서울특별시 종로구 궁정동   존재",
      "text/html": "<div>\n<style scoped>\n    .dataframe tbody tr th:only-of-type {\n        vertical-align: middle;\n    }\n\n    .dataframe tbody tr th {\n        vertical-align: top;\n    }\n\n    .dataframe thead th {\n        text-align: right;\n    }\n</style>\n<table border=\"1\" class=\"dataframe\">\n  <thead>\n    <tr style=\"text-align: right;\">\n      <th></th>\n      <th>법정동코드</th>\n      <th>법정동명</th>\n      <th>폐지여부</th>\n    </tr>\n  </thead>\n  <tbody>\n    <tr>\n      <th>0</th>\n      <td>1100000000</td>\n      <td>서울특별시</td>\n      <td>존재</td>\n    </tr>\n    <tr>\n      <th>1</th>\n      <td>1111000000</td>\n      <td>서울특별시 종로구</td>\n      <td>존재</td>\n    </tr>\n    <tr>\n      <th>2</th>\n      <td>1111010100</td>\n      <td>서울특별시 종로구 청운동</td>\n      <td>존재</td>\n    </tr>\n    <tr>\n      <th>3</th>\n      <td>1111010200</td>\n      <td>서울특별시 종로구 신교동</td>\n      <td>존재</td>\n    </tr>\n    <tr>\n      <th>4</th>\n      <td>1111010300</td>\n      <td>서울특별시 종로구 궁정동</td>\n      <td>존재</td>\n    </tr>\n  </tbody>\n</table>\n</div>"
     },
     "execution_count": 6,
     "metadata": {},
     "output_type": "execute_result"
    }
   ],
   "source": [
    "court_frm.head()"
   ],
   "metadata": {
    "collapsed": false,
    "pycharm": {
     "name": "#%%\n"
    }
   }
  },
  {
   "cell_type": "code",
   "execution_count": 7,
   "outputs": [
    {
     "name": "stdout",
     "output_type": "stream",
     "text": [
      "폐지여부가 존재인것들만 subset 으로 만들어본다면? - \n"
     ]
    },
    {
     "data": {
      "text/plain": "            법정동코드                  법정동명 폐지여부\n0      1100000000                 서울특별시   존재\n1      1111000000             서울특별시 종로구   존재\n2      1111010100         서울특별시 종로구 청운동   존재\n3      1111010200         서울특별시 종로구 신교동   존재\n4      1111010300         서울특별시 종로구 궁정동   존재\n...           ...                   ...  ...\n46175  5013032022  제주특별자치도 서귀포시 표선면 하천리   존재\n46176  5013032023  제주특별자치도 서귀포시 표선면 성읍리   존재\n46177  5013032024  제주특별자치도 서귀포시 표선면 가시리   존재\n46178  5013032025  제주특별자치도 서귀포시 표선면 세화리   존재\n46179  5013032026  제주특별자치도 서귀포시 표선면 토산리   존재\n\n[20544 rows x 3 columns]",
      "text/html": "<div>\n<style scoped>\n    .dataframe tbody tr th:only-of-type {\n        vertical-align: middle;\n    }\n\n    .dataframe tbody tr th {\n        vertical-align: top;\n    }\n\n    .dataframe thead th {\n        text-align: right;\n    }\n</style>\n<table border=\"1\" class=\"dataframe\">\n  <thead>\n    <tr style=\"text-align: right;\">\n      <th></th>\n      <th>법정동코드</th>\n      <th>법정동명</th>\n      <th>폐지여부</th>\n    </tr>\n  </thead>\n  <tbody>\n    <tr>\n      <th>0</th>\n      <td>1100000000</td>\n      <td>서울특별시</td>\n      <td>존재</td>\n    </tr>\n    <tr>\n      <th>1</th>\n      <td>1111000000</td>\n      <td>서울특별시 종로구</td>\n      <td>존재</td>\n    </tr>\n    <tr>\n      <th>2</th>\n      <td>1111010100</td>\n      <td>서울특별시 종로구 청운동</td>\n      <td>존재</td>\n    </tr>\n    <tr>\n      <th>3</th>\n      <td>1111010200</td>\n      <td>서울특별시 종로구 신교동</td>\n      <td>존재</td>\n    </tr>\n    <tr>\n      <th>4</th>\n      <td>1111010300</td>\n      <td>서울특별시 종로구 궁정동</td>\n      <td>존재</td>\n    </tr>\n    <tr>\n      <th>...</th>\n      <td>...</td>\n      <td>...</td>\n      <td>...</td>\n    </tr>\n    <tr>\n      <th>46175</th>\n      <td>5013032022</td>\n      <td>제주특별자치도 서귀포시 표선면 하천리</td>\n      <td>존재</td>\n    </tr>\n    <tr>\n      <th>46176</th>\n      <td>5013032023</td>\n      <td>제주특별자치도 서귀포시 표선면 성읍리</td>\n      <td>존재</td>\n    </tr>\n    <tr>\n      <th>46177</th>\n      <td>5013032024</td>\n      <td>제주특별자치도 서귀포시 표선면 가시리</td>\n      <td>존재</td>\n    </tr>\n    <tr>\n      <th>46178</th>\n      <td>5013032025</td>\n      <td>제주특별자치도 서귀포시 표선면 세화리</td>\n      <td>존재</td>\n    </tr>\n    <tr>\n      <th>46179</th>\n      <td>5013032026</td>\n      <td>제주특별자치도 서귀포시 표선면 토산리</td>\n      <td>존재</td>\n    </tr>\n  </tbody>\n</table>\n<p>20544 rows × 3 columns</p>\n</div>"
     },
     "execution_count": 7,
     "metadata": {},
     "output_type": "execute_result"
    }
   ],
   "source": [
    "print('폐지여부가 존재인것들만 subset 으로 만들어본다면? - ')\n",
    "\n",
    "# court_frm['폐지여부'].value_counts()\n",
    "boolean_idx = court_frm['폐지여부'] == '존재'\n",
    "\n",
    "court_exist_frm = court_frm[boolean_idx]\n",
    "# court_exits_frm['폐지여부'].value_counts()\n",
    "court_exist_frm"
   ],
   "metadata": {
    "collapsed": false,
    "pycharm": {
     "name": "#%%\n"
    }
   }
  },
  {
   "cell_type": "code",
   "execution_count": 8,
   "outputs": [
    {
     "name": "stdout",
     "output_type": "stream",
     "text": [
      "str 이용해서 문자열 처리가 가능 - \n",
      "type -  <class 'pandas.core.strings.accessor.StringMethods'>\n"
     ]
    }
   ],
   "source": [
    "print('str 이용해서 문자열 처리가 가능 - ')\n",
    "print('type - ' , type(court_exist_frm['법정동명'].str))"
   ],
   "metadata": {
    "collapsed": false,
    "pycharm": {
     "name": "#%%\n"
    }
   }
  },
  {
   "cell_type": "code",
   "execution_count": 9,
   "outputs": [
    {
     "name": "stdout",
     "output_type": "stream",
     "text": [
      "힌트 - \n"
     ]
    },
    {
     "data": {
      "text/plain": "       0     1     2     3     4\n0  서울특별시  None  None  None  None\n1  서울특별시   종로구  None  None  None\n2  서울특별시   종로구   청운동  None  None\n3  서울특별시   종로구   신교동  None  None\n4  서울특별시   종로구   궁정동  None  None",
      "text/html": "<div>\n<style scoped>\n    .dataframe tbody tr th:only-of-type {\n        vertical-align: middle;\n    }\n\n    .dataframe tbody tr th {\n        vertical-align: top;\n    }\n\n    .dataframe thead th {\n        text-align: right;\n    }\n</style>\n<table border=\"1\" class=\"dataframe\">\n  <thead>\n    <tr style=\"text-align: right;\">\n      <th></th>\n      <th>0</th>\n      <th>1</th>\n      <th>2</th>\n      <th>3</th>\n      <th>4</th>\n    </tr>\n  </thead>\n  <tbody>\n    <tr>\n      <th>0</th>\n      <td>서울특별시</td>\n      <td>None</td>\n      <td>None</td>\n      <td>None</td>\n      <td>None</td>\n    </tr>\n    <tr>\n      <th>1</th>\n      <td>서울특별시</td>\n      <td>종로구</td>\n      <td>None</td>\n      <td>None</td>\n      <td>None</td>\n    </tr>\n    <tr>\n      <th>2</th>\n      <td>서울특별시</td>\n      <td>종로구</td>\n      <td>청운동</td>\n      <td>None</td>\n      <td>None</td>\n    </tr>\n    <tr>\n      <th>3</th>\n      <td>서울특별시</td>\n      <td>종로구</td>\n      <td>신교동</td>\n      <td>None</td>\n      <td>None</td>\n    </tr>\n    <tr>\n      <th>4</th>\n      <td>서울특별시</td>\n      <td>종로구</td>\n      <td>궁정동</td>\n      <td>None</td>\n      <td>None</td>\n    </tr>\n  </tbody>\n</table>\n</div>"
     },
     "execution_count": 9,
     "metadata": {},
     "output_type": "execute_result"
    }
   ],
   "source": [
    "print('힌트 - ')\n",
    "court_exist_frm['법정동명'].str.split(\" \" , expand = True).head()"
   ],
   "metadata": {
    "collapsed": false,
    "pycharm": {
     "name": "#%%\n"
    }
   }
  },
  {
   "cell_type": "code",
   "execution_count": 10,
   "outputs": [
    {
     "name": "stdout",
     "output_type": "stream",
     "text": [
      "서울로 시작하는 데이터만 필터링 한다면 - \n"
     ]
    },
    {
     "data": {
      "text/plain": "           법정동코드           법정동명 폐지여부\n0     1100000000          서울특별시   존재\n1     1111000000      서울특별시 종로구   존재\n2     1111010100  서울특별시 종로구 청운동   존재\n3     1111010200  서울특별시 종로구 신교동   존재\n4     1111010300  서울특별시 종로구 궁정동   존재\n...          ...            ...  ...\n1107  1174010600  서울특별시 강동구 둔촌동   존재\n1108  1174010700  서울특별시 강동구 암사동   존재\n1109  1174010800  서울특별시 강동구 성내동   존재\n1110  1174010900  서울특별시 강동구 천호동   존재\n1111  1174011000  서울특별시 강동구 강일동   존재\n\n[493 rows x 3 columns]",
      "text/html": "<div>\n<style scoped>\n    .dataframe tbody tr th:only-of-type {\n        vertical-align: middle;\n    }\n\n    .dataframe tbody tr th {\n        vertical-align: top;\n    }\n\n    .dataframe thead th {\n        text-align: right;\n    }\n</style>\n<table border=\"1\" class=\"dataframe\">\n  <thead>\n    <tr style=\"text-align: right;\">\n      <th></th>\n      <th>법정동코드</th>\n      <th>법정동명</th>\n      <th>폐지여부</th>\n    </tr>\n  </thead>\n  <tbody>\n    <tr>\n      <th>0</th>\n      <td>1100000000</td>\n      <td>서울특별시</td>\n      <td>존재</td>\n    </tr>\n    <tr>\n      <th>1</th>\n      <td>1111000000</td>\n      <td>서울특별시 종로구</td>\n      <td>존재</td>\n    </tr>\n    <tr>\n      <th>2</th>\n      <td>1111010100</td>\n      <td>서울특별시 종로구 청운동</td>\n      <td>존재</td>\n    </tr>\n    <tr>\n      <th>3</th>\n      <td>1111010200</td>\n      <td>서울특별시 종로구 신교동</td>\n      <td>존재</td>\n    </tr>\n    <tr>\n      <th>4</th>\n      <td>1111010300</td>\n      <td>서울특별시 종로구 궁정동</td>\n      <td>존재</td>\n    </tr>\n    <tr>\n      <th>...</th>\n      <td>...</td>\n      <td>...</td>\n      <td>...</td>\n    </tr>\n    <tr>\n      <th>1107</th>\n      <td>1174010600</td>\n      <td>서울특별시 강동구 둔촌동</td>\n      <td>존재</td>\n    </tr>\n    <tr>\n      <th>1108</th>\n      <td>1174010700</td>\n      <td>서울특별시 강동구 암사동</td>\n      <td>존재</td>\n    </tr>\n    <tr>\n      <th>1109</th>\n      <td>1174010800</td>\n      <td>서울특별시 강동구 성내동</td>\n      <td>존재</td>\n    </tr>\n    <tr>\n      <th>1110</th>\n      <td>1174010900</td>\n      <td>서울특별시 강동구 천호동</td>\n      <td>존재</td>\n    </tr>\n    <tr>\n      <th>1111</th>\n      <td>1174011000</td>\n      <td>서울특별시 강동구 강일동</td>\n      <td>존재</td>\n    </tr>\n  </tbody>\n</table>\n<p>493 rows × 3 columns</p>\n</div>"
     },
     "execution_count": 10,
     "metadata": {},
     "output_type": "execute_result"
    }
   ],
   "source": [
    "print('서울로 시작하는 데이터만 필터링 한다면 - ')\n",
    "\n",
    "court_exist_frm[ court_exist_frm['법정동명'].str.startswith('서울') ]"
   ],
   "metadata": {
    "collapsed": false,
    "pycharm": {
     "name": "#%%\n"
    }
   }
  },
  {
   "cell_type": "code",
   "execution_count": 11,
   "outputs": [
    {
     "name": "stdout",
     "output_type": "stream",
     "text": [
      "동으로 끝나는 데이터만 필터링 한다면   - \n"
     ]
    },
    {
     "data": {
      "text/plain": "            법정동코드              법정동명 폐지여부\n2      1111010100     서울특별시 종로구 청운동   존재\n3      1111010200     서울특별시 종로구 신교동   존재\n4      1111010300     서울특별시 종로구 궁정동   존재\n5      1111010400     서울특별시 종로구 효자동   존재\n6      1111010500     서울특별시 종로구 창성동   존재\n...           ...               ...  ...\n46119  5013011800  제주특별자치도 서귀포시 하원동   존재\n46120  5013011900  제주특별자치도 서귀포시 색달동   존재\n46121  5013012000  제주특별자치도 서귀포시 상예동   존재\n46122  5013012100  제주특별자치도 서귀포시 하예동   존재\n46123  5013012200  제주특별자치도 서귀포시 영남동   존재\n\n[3205 rows x 3 columns]",
      "text/html": "<div>\n<style scoped>\n    .dataframe tbody tr th:only-of-type {\n        vertical-align: middle;\n    }\n\n    .dataframe tbody tr th {\n        vertical-align: top;\n    }\n\n    .dataframe thead th {\n        text-align: right;\n    }\n</style>\n<table border=\"1\" class=\"dataframe\">\n  <thead>\n    <tr style=\"text-align: right;\">\n      <th></th>\n      <th>법정동코드</th>\n      <th>법정동명</th>\n      <th>폐지여부</th>\n    </tr>\n  </thead>\n  <tbody>\n    <tr>\n      <th>2</th>\n      <td>1111010100</td>\n      <td>서울특별시 종로구 청운동</td>\n      <td>존재</td>\n    </tr>\n    <tr>\n      <th>3</th>\n      <td>1111010200</td>\n      <td>서울특별시 종로구 신교동</td>\n      <td>존재</td>\n    </tr>\n    <tr>\n      <th>4</th>\n      <td>1111010300</td>\n      <td>서울특별시 종로구 궁정동</td>\n      <td>존재</td>\n    </tr>\n    <tr>\n      <th>5</th>\n      <td>1111010400</td>\n      <td>서울특별시 종로구 효자동</td>\n      <td>존재</td>\n    </tr>\n    <tr>\n      <th>6</th>\n      <td>1111010500</td>\n      <td>서울특별시 종로구 창성동</td>\n      <td>존재</td>\n    </tr>\n    <tr>\n      <th>...</th>\n      <td>...</td>\n      <td>...</td>\n      <td>...</td>\n    </tr>\n    <tr>\n      <th>46119</th>\n      <td>5013011800</td>\n      <td>제주특별자치도 서귀포시 하원동</td>\n      <td>존재</td>\n    </tr>\n    <tr>\n      <th>46120</th>\n      <td>5013011900</td>\n      <td>제주특별자치도 서귀포시 색달동</td>\n      <td>존재</td>\n    </tr>\n    <tr>\n      <th>46121</th>\n      <td>5013012000</td>\n      <td>제주특별자치도 서귀포시 상예동</td>\n      <td>존재</td>\n    </tr>\n    <tr>\n      <th>46122</th>\n      <td>5013012100</td>\n      <td>제주특별자치도 서귀포시 하예동</td>\n      <td>존재</td>\n    </tr>\n    <tr>\n      <th>46123</th>\n      <td>5013012200</td>\n      <td>제주특별자치도 서귀포시 영남동</td>\n      <td>존재</td>\n    </tr>\n  </tbody>\n</table>\n<p>3205 rows × 3 columns</p>\n</div>"
     },
     "execution_count": 11,
     "metadata": {},
     "output_type": "execute_result"
    }
   ],
   "source": [
    "print('동으로 끝나는 데이터만 필터링 한다면   - ')\n",
    "court_exist_frm[ court_exist_frm['법정동명'].str.endswith('동') ]"
   ],
   "metadata": {
    "collapsed": false,
    "pycharm": {
     "name": "#%%\n"
    }
   }
  },
  {
   "cell_type": "code",
   "execution_count": 12,
   "outputs": [
    {
     "name": "stdout",
     "output_type": "stream",
     "text": [
      "서울이고 강서구만 필터링 한다면 - \n"
     ]
    },
    {
     "data": {
      "text/plain": "          법정동코드            법정동명 폐지여부\n737  1150000000       서울특별시 강서구   존재\n740  1150010100   서울특별시 강서구 염창동   존재\n741  1150010200   서울특별시 강서구 등촌동   존재\n742  1150010300   서울특별시 강서구 화곡동   존재\n743  1150010400   서울특별시 강서구 가양동   존재\n744  1150010500   서울특별시 강서구 마곡동   존재\n745  1150010600  서울특별시 강서구 내발산동   존재\n746  1150010700  서울특별시 강서구 외발산동   존재\n747  1150010800   서울특별시 강서구 공항동   존재\n748  1150010900   서울특별시 강서구 방화동   존재\n749  1150011000   서울특별시 강서구 개화동   존재\n750  1150011100   서울특별시 강서구 과해동   존재\n751  1150011200   서울특별시 강서구 오곡동   존재\n752  1150011300   서울특별시 강서구 오쇠동   존재",
      "text/html": "<div>\n<style scoped>\n    .dataframe tbody tr th:only-of-type {\n        vertical-align: middle;\n    }\n\n    .dataframe tbody tr th {\n        vertical-align: top;\n    }\n\n    .dataframe thead th {\n        text-align: right;\n    }\n</style>\n<table border=\"1\" class=\"dataframe\">\n  <thead>\n    <tr style=\"text-align: right;\">\n      <th></th>\n      <th>법정동코드</th>\n      <th>법정동명</th>\n      <th>폐지여부</th>\n    </tr>\n  </thead>\n  <tbody>\n    <tr>\n      <th>737</th>\n      <td>1150000000</td>\n      <td>서울특별시 강서구</td>\n      <td>존재</td>\n    </tr>\n    <tr>\n      <th>740</th>\n      <td>1150010100</td>\n      <td>서울특별시 강서구 염창동</td>\n      <td>존재</td>\n    </tr>\n    <tr>\n      <th>741</th>\n      <td>1150010200</td>\n      <td>서울특별시 강서구 등촌동</td>\n      <td>존재</td>\n    </tr>\n    <tr>\n      <th>742</th>\n      <td>1150010300</td>\n      <td>서울특별시 강서구 화곡동</td>\n      <td>존재</td>\n    </tr>\n    <tr>\n      <th>743</th>\n      <td>1150010400</td>\n      <td>서울특별시 강서구 가양동</td>\n      <td>존재</td>\n    </tr>\n    <tr>\n      <th>744</th>\n      <td>1150010500</td>\n      <td>서울특별시 강서구 마곡동</td>\n      <td>존재</td>\n    </tr>\n    <tr>\n      <th>745</th>\n      <td>1150010600</td>\n      <td>서울특별시 강서구 내발산동</td>\n      <td>존재</td>\n    </tr>\n    <tr>\n      <th>746</th>\n      <td>1150010700</td>\n      <td>서울특별시 강서구 외발산동</td>\n      <td>존재</td>\n    </tr>\n    <tr>\n      <th>747</th>\n      <td>1150010800</td>\n      <td>서울특별시 강서구 공항동</td>\n      <td>존재</td>\n    </tr>\n    <tr>\n      <th>748</th>\n      <td>1150010900</td>\n      <td>서울특별시 강서구 방화동</td>\n      <td>존재</td>\n    </tr>\n    <tr>\n      <th>749</th>\n      <td>1150011000</td>\n      <td>서울특별시 강서구 개화동</td>\n      <td>존재</td>\n    </tr>\n    <tr>\n      <th>750</th>\n      <td>1150011100</td>\n      <td>서울특별시 강서구 과해동</td>\n      <td>존재</td>\n    </tr>\n    <tr>\n      <th>751</th>\n      <td>1150011200</td>\n      <td>서울특별시 강서구 오곡동</td>\n      <td>존재</td>\n    </tr>\n    <tr>\n      <th>752</th>\n      <td>1150011300</td>\n      <td>서울특별시 강서구 오쇠동</td>\n      <td>존재</td>\n    </tr>\n  </tbody>\n</table>\n</div>"
     },
     "execution_count": 12,
     "metadata": {},
     "output_type": "execute_result"
    }
   ],
   "source": [
    "print('서울이고 강서구만 필터링 한다면 - ')\n",
    "court_exist_frm[  court_exist_frm['법정동명'].str.contains('서울') & court_exist_frm['법정동명'].str.contains('강서구') ]"
   ],
   "metadata": {
    "collapsed": false,
    "pycharm": {
     "name": "#%%\n"
    }
   }
  },
  {
   "cell_type": "code",
   "execution_count": 14,
   "outputs": [
    {
     "data": {
      "text/plain": "'data - '"
     },
     "metadata": {},
     "output_type": "display_data"
    },
    {
     "data": {
      "text/plain": "               날짜   지점  평균기온(℃)  최저기온(℃)  최고기온(℃)\n0      1907-10-01  108     13.5      7.9     20.7\n1      1907-10-02  108     16.2      7.9     22.0\n2      1907-10-03  108     16.2     13.1     21.3\n3      1907-10-04  108     16.5     11.2     22.0\n4      1907-10-05  108     17.6     10.9     25.4\n...           ...  ...      ...      ...      ...\n40849  2020-10-07  108     16.0      9.9     22.0\n40850  2020-10-08  108     17.2     12.1     23.1\n40851  2020-10-09  108     17.2     12.4     23.3\n40852  2020-10-10  108     16.9     12.3     21.5\n40853  2020-10-11  108     16.9     12.7     20.8\n\n[40854 rows x 5 columns]",
      "text/html": "<div>\n<style scoped>\n    .dataframe tbody tr th:only-of-type {\n        vertical-align: middle;\n    }\n\n    .dataframe tbody tr th {\n        vertical-align: top;\n    }\n\n    .dataframe thead th {\n        text-align: right;\n    }\n</style>\n<table border=\"1\" class=\"dataframe\">\n  <thead>\n    <tr style=\"text-align: right;\">\n      <th></th>\n      <th>날짜</th>\n      <th>지점</th>\n      <th>평균기온(℃)</th>\n      <th>최저기온(℃)</th>\n      <th>최고기온(℃)</th>\n    </tr>\n  </thead>\n  <tbody>\n    <tr>\n      <th>0</th>\n      <td>1907-10-01</td>\n      <td>108</td>\n      <td>13.5</td>\n      <td>7.9</td>\n      <td>20.7</td>\n    </tr>\n    <tr>\n      <th>1</th>\n      <td>1907-10-02</td>\n      <td>108</td>\n      <td>16.2</td>\n      <td>7.9</td>\n      <td>22.0</td>\n    </tr>\n    <tr>\n      <th>2</th>\n      <td>1907-10-03</td>\n      <td>108</td>\n      <td>16.2</td>\n      <td>13.1</td>\n      <td>21.3</td>\n    </tr>\n    <tr>\n      <th>3</th>\n      <td>1907-10-04</td>\n      <td>108</td>\n      <td>16.5</td>\n      <td>11.2</td>\n      <td>22.0</td>\n    </tr>\n    <tr>\n      <th>4</th>\n      <td>1907-10-05</td>\n      <td>108</td>\n      <td>17.6</td>\n      <td>10.9</td>\n      <td>25.4</td>\n    </tr>\n    <tr>\n      <th>...</th>\n      <td>...</td>\n      <td>...</td>\n      <td>...</td>\n      <td>...</td>\n      <td>...</td>\n    </tr>\n    <tr>\n      <th>40849</th>\n      <td>2020-10-07</td>\n      <td>108</td>\n      <td>16.0</td>\n      <td>9.9</td>\n      <td>22.0</td>\n    </tr>\n    <tr>\n      <th>40850</th>\n      <td>2020-10-08</td>\n      <td>108</td>\n      <td>17.2</td>\n      <td>12.1</td>\n      <td>23.1</td>\n    </tr>\n    <tr>\n      <th>40851</th>\n      <td>2020-10-09</td>\n      <td>108</td>\n      <td>17.2</td>\n      <td>12.4</td>\n      <td>23.3</td>\n    </tr>\n    <tr>\n      <th>40852</th>\n      <td>2020-10-10</td>\n      <td>108</td>\n      <td>16.9</td>\n      <td>12.3</td>\n      <td>21.5</td>\n    </tr>\n    <tr>\n      <th>40853</th>\n      <td>2020-10-11</td>\n      <td>108</td>\n      <td>16.9</td>\n      <td>12.7</td>\n      <td>20.8</td>\n    </tr>\n  </tbody>\n</table>\n<p>40854 rows × 5 columns</p>\n</div>"
     },
     "metadata": {},
     "output_type": "display_data"
    },
    {
     "name": "stdout",
     "output_type": "stream",
     "text": [
      "\n",
      "shape   -  (40854, 5) 40854 5\n",
      "size    -  204270\n",
      "ndim    -  2\n",
      "index   -  RangeIndex(start=0, stop=40854, step=1) <class 'pandas.core.indexes.range.RangeIndex'>\n",
      "columns -  Index(['날짜', '지점', '평균기온(℃)', '최저기온(℃)', '최고기온(℃)'], dtype='object') <class 'pandas.core.indexes.base.Index'>\n",
      "values  - \n",
      " [['1907-10-01' 108 13.5 7.9 20.7]\n",
      " ['1907-10-02' 108 16.2 7.9 22.0]\n",
      " ['1907-10-03' 108 16.2 13.1 21.3]\n",
      " ...\n",
      " ['2020-10-09' 108 17.2 12.4 23.3]\n",
      " ['2020-10-10' 108 16.9 12.3 21.5]\n",
      " ['2020-10-11' 108 16.9 12.7 20.8]] <class 'numpy.ndarray'>\n"
     ]
    }
   ],
   "source": [
    "weather_frm = pd.read_csv('/Users/choijaewoo/pandas_data/weather_20201012.csv' , encoding = 'cp949')\n",
    "frmInfo( weather_frm )"
   ],
   "metadata": {
    "collapsed": false,
    "pycharm": {
     "name": "#%%\n"
    }
   }
  },
  {
   "cell_type": "code",
   "execution_count": 15,
   "outputs": [
    {
     "name": "stdout",
     "output_type": "stream",
     "text": [
      "기온이 가장 높았던 데이터를 출력 - (데이터프레임형식으로)\n",
      "sort_values - \n",
      "\n",
      "case01 - \n"
     ]
    },
    {
     "data": {
      "text/plain": "               날짜   지점  평균기온(℃)  최저기온(℃)  최고기온(℃)\n40051  2018-08-01  108     33.6     27.8     39.6",
      "text/html": "<div>\n<style scoped>\n    .dataframe tbody tr th:only-of-type {\n        vertical-align: middle;\n    }\n\n    .dataframe tbody tr th {\n        vertical-align: top;\n    }\n\n    .dataframe thead th {\n        text-align: right;\n    }\n</style>\n<table border=\"1\" class=\"dataframe\">\n  <thead>\n    <tr style=\"text-align: right;\">\n      <th></th>\n      <th>날짜</th>\n      <th>지점</th>\n      <th>평균기온(℃)</th>\n      <th>최저기온(℃)</th>\n      <th>최고기온(℃)</th>\n    </tr>\n  </thead>\n  <tbody>\n    <tr>\n      <th>40051</th>\n      <td>2018-08-01</td>\n      <td>108</td>\n      <td>33.6</td>\n      <td>27.8</td>\n      <td>39.6</td>\n    </tr>\n  </tbody>\n</table>\n</div>"
     },
     "metadata": {},
     "output_type": "display_data"
    },
    {
     "name": "stdout",
     "output_type": "stream",
     "text": [
      "\n",
      "case02 - \n"
     ]
    },
    {
     "data": {
      "text/plain": "               날짜   지점  평균기온(℃)  최저기온(℃)  최고기온(℃)\n40051  2018-08-01  108     33.6     27.8     39.6",
      "text/html": "<div>\n<style scoped>\n    .dataframe tbody tr th:only-of-type {\n        vertical-align: middle;\n    }\n\n    .dataframe tbody tr th {\n        vertical-align: top;\n    }\n\n    .dataframe thead th {\n        text-align: right;\n    }\n</style>\n<table border=\"1\" class=\"dataframe\">\n  <thead>\n    <tr style=\"text-align: right;\">\n      <th></th>\n      <th>날짜</th>\n      <th>지점</th>\n      <th>평균기온(℃)</th>\n      <th>최저기온(℃)</th>\n      <th>최고기온(℃)</th>\n    </tr>\n  </thead>\n  <tbody>\n    <tr>\n      <th>40051</th>\n      <td>2018-08-01</td>\n      <td>108</td>\n      <td>33.6</td>\n      <td>27.8</td>\n      <td>39.6</td>\n    </tr>\n  </tbody>\n</table>\n</div>"
     },
     "metadata": {},
     "output_type": "display_data"
    }
   ],
   "source": [
    "print('기온이 가장 높았던 데이터를 출력 - (데이터프레임형식으로)')\n",
    "print('sort_values - ')\n",
    "print()\n",
    "print('case01 - ')\n",
    "display( weather_frm.sort_values(by='최고기온(℃)' , ascending = False).iloc[[0]] )\n",
    "\n",
    "print()\n",
    "print('case02 - ')\n",
    "display( weather_frm[ weather_frm['최고기온(℃)'] ==  weather_frm['최고기온(℃)'].max() ] )\n"
   ],
   "metadata": {
    "collapsed": false,
    "pycharm": {
     "name": "#%%\n"
    }
   }
  },
  {
   "cell_type": "code",
   "execution_count": 16,
   "outputs": [
    {
     "data": {
      "text/plain": "   0  1  2  3  4  5  6  7\n0  3  8  9  4  6  0  5  7\n1  2  4  1  2  9  4  5  9\n2  7  4  6  1  5  1  2  8\n3  6  1  8  5  8  9  9  8",
      "text/html": "<div>\n<style scoped>\n    .dataframe tbody tr th:only-of-type {\n        vertical-align: middle;\n    }\n\n    .dataframe tbody tr th {\n        vertical-align: top;\n    }\n\n    .dataframe thead th {\n        text-align: right;\n    }\n</style>\n<table border=\"1\" class=\"dataframe\">\n  <thead>\n    <tr style=\"text-align: right;\">\n      <th></th>\n      <th>0</th>\n      <th>1</th>\n      <th>2</th>\n      <th>3</th>\n      <th>4</th>\n      <th>5</th>\n      <th>6</th>\n      <th>7</th>\n    </tr>\n  </thead>\n  <tbody>\n    <tr>\n      <th>0</th>\n      <td>3</td>\n      <td>8</td>\n      <td>9</td>\n      <td>4</td>\n      <td>6</td>\n      <td>0</td>\n      <td>5</td>\n      <td>7</td>\n    </tr>\n    <tr>\n      <th>1</th>\n      <td>2</td>\n      <td>4</td>\n      <td>1</td>\n      <td>2</td>\n      <td>9</td>\n      <td>4</td>\n      <td>5</td>\n      <td>9</td>\n    </tr>\n    <tr>\n      <th>2</th>\n      <td>7</td>\n      <td>4</td>\n      <td>6</td>\n      <td>1</td>\n      <td>5</td>\n      <td>1</td>\n      <td>2</td>\n      <td>8</td>\n    </tr>\n    <tr>\n      <th>3</th>\n      <td>6</td>\n      <td>1</td>\n      <td>8</td>\n      <td>5</td>\n      <td>8</td>\n      <td>9</td>\n      <td>9</td>\n      <td>8</td>\n    </tr>\n  </tbody>\n</table>\n</div>"
     },
     "execution_count": 16,
     "metadata": {},
     "output_type": "execute_result"
    }
   ],
   "source": [
    "tmp_frm = pd.DataFrame( np.random.randint(10, size=(4,8)))\n",
    "tmp_frm"
   ],
   "metadata": {
    "collapsed": false,
    "pycharm": {
     "name": "#%%\n"
    }
   }
  },
  {
   "cell_type": "code",
   "execution_count": 17,
   "outputs": [
    {
     "data": {
      "text/plain": "0    42\n1    36\n2    34\n3    54\ndtype: int64"
     },
     "execution_count": 17,
     "metadata": {},
     "output_type": "execute_result"
    }
   ],
   "source": [
    "tmp_frm.sum(axis = 1 )"
   ],
   "metadata": {
    "collapsed": false,
    "pycharm": {
     "name": "#%%\n"
    }
   }
  },
  {
   "cell_type": "code",
   "execution_count": null,
   "outputs": [],
   "source": [],
   "metadata": {
    "collapsed": false,
    "pycharm": {
     "name": "#%%\n"
    }
   }
  },
  {
   "cell_type": "code",
   "execution_count": null,
   "outputs": [],
   "source": [],
   "metadata": {
    "collapsed": false,
    "pycharm": {
     "name": "#%%\n"
    }
   }
  },
  {
   "cell_type": "code",
   "execution_count": null,
   "outputs": [],
   "source": [],
   "metadata": {
    "collapsed": false,
    "pycharm": {
     "name": "#%%\n"
    }
   }
  }
 ],
 "metadata": {
  "kernelspec": {
   "display_name": "Python 3",
   "language": "python",
   "name": "python3"
  },
  "language_info": {
   "codemirror_mode": {
    "name": "ipython",
    "version": 2
   },
   "file_extension": ".py",
   "mimetype": "text/x-python",
   "name": "python",
   "nbconvert_exporter": "python",
   "pygments_lexer": "ipython2",
   "version": "2.7.6"
  }
 },
 "nbformat": 4,
 "nbformat_minor": 0
}