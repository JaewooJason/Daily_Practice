{
 "cells": [
  {
   "cell_type": "code",
   "execution_count": 1,
   "metadata": {
    "collapsed": true
   },
   "outputs": [
    {
     "name": "stdout",
     "output_type": "stream",
     "text": [
      "numpy  version -  1.20.3\n",
      "pandas version -  1.3.4\n"
     ]
    }
   ],
   "source": [
    "import numpy  as np\n",
    "import pandas as pd\n",
    "\n",
    "import warnings\n",
    "warnings.filterwarnings(action='ignore')\n",
    "\n",
    "from datetime import date, datetime, timedelta\n",
    "from dateutil.parser import parse\n",
    "\n",
    "import matplotlib.pyplot as plt\n",
    "%matplotlib inline\n",
    "\n",
    "import json\n",
    "import urllib\n",
    "\n",
    "# titanic dataset\n",
    "import seaborn as sns\n",
    "\n",
    "# 비정형 데이터 처리를 위한 라이브러리\n",
    "from bs4 import BeautifulSoup\n",
    "import requests\n",
    "import re\n",
    "\n",
    "\n",
    "\n",
    "print('numpy  version - ' , np.__version__)\n",
    "print('pandas version - ' , pd.__version__)"
   ]
  },
  {
   "cell_type": "code",
   "execution_count": 2,
   "outputs": [],
   "source": [
    "def seriesInfo(s) :\n",
    "    print('series : index + values \\n' , s)\n",
    "    print('index  - ' , s.index  , type(s.index))\n",
    "    print('values - ' , s.values , type(s.values))\n",
    "\n",
    "def frmInfo(df) :\n",
    "    display('data - ' , df )\n",
    "    print()\n",
    "    print('shape   - ' , df.shape , df.shape[0] , df.shape[1])\n",
    "    print('size    - ' , df.size )\n",
    "    print('ndim    - ' , df.ndim)\n",
    "    print('index   - ' , df.index    , type(df.index))\n",
    "    print('columns - ' , df.columns  , type( df.columns ))\n",
    "    print('values  - \\n' , df.values , type(df.values) )"
   ],
   "metadata": {
    "collapsed": false,
    "pycharm": {
     "name": "#%%\n"
    }
   }
  },
  {
   "cell_type": "code",
   "execution_count": null,
   "outputs": [],
   "source": [],
   "metadata": {
    "collapsed": false,
    "pycharm": {
     "name": "#%%\n"
    }
   }
  },
  {
   "cell_type": "code",
   "execution_count": null,
   "outputs": [],
   "source": [],
   "metadata": {
    "collapsed": false,
    "pycharm": {
     "name": "#%%\n"
    }
   }
  },
  {
   "cell_type": "code",
   "execution_count": 3,
   "outputs": [],
   "source": [
    "# 한글 폰트 문제 해결\n",
    "import platform\n",
    "\n",
    "from matplotlib import font_manager, rc\n",
    "\n",
    "if platform.system() == 'Darwin':\n",
    "    rc('font', family='AppleGothic')\n",
    "elif platform.system() == 'Windows':\n",
    "    path = \"c:/Windows/Fonts/malgun.ttf\"\n",
    "    font_name = font_manager.FontProperties(fname=path).get_name()\n",
    "    rc('font', family=font_name)\n",
    "else:\n",
    "    print('Unknown system... sorry~~~~')\n",
    "\n",
    "\n",
    "# 차트 축 <- 음수 부호 지원\n",
    "import matplotlib\n",
    "matplotlib.rcParams['axes.unicode_minus'] = False"
   ],
   "metadata": {
    "collapsed": false,
    "pycharm": {
     "name": "#%%\n"
    }
   }
  },
  {
   "cell_type": "code",
   "execution_count": 4,
   "outputs": [
    {
     "data": {
      "text/plain": "'data - '"
     },
     "metadata": {},
     "output_type": "display_data"
    },
    {
     "data": {
      "text/plain": "            법정동코드                  법정동명 폐지여부\n0      1100000000                 서울특별시   존재\n1      1111000000             서울특별시 종로구   존재\n2      1111010100         서울특별시 종로구 청운동   존재\n3      1111010200         서울특별시 종로구 신교동   존재\n4      1111010300         서울특별시 종로구 궁정동   존재\n...           ...                   ...  ...\n46175  5013032022  제주특별자치도 서귀포시 표선면 하천리   존재\n46176  5013032023  제주특별자치도 서귀포시 표선면 성읍리   존재\n46177  5013032024  제주특별자치도 서귀포시 표선면 가시리   존재\n46178  5013032025  제주특별자치도 서귀포시 표선면 세화리   존재\n46179  5013032026  제주특별자치도 서귀포시 표선면 토산리   존재\n\n[46180 rows x 3 columns]",
      "text/html": "<div>\n<style scoped>\n    .dataframe tbody tr th:only-of-type {\n        vertical-align: middle;\n    }\n\n    .dataframe tbody tr th {\n        vertical-align: top;\n    }\n\n    .dataframe thead th {\n        text-align: right;\n    }\n</style>\n<table border=\"1\" class=\"dataframe\">\n  <thead>\n    <tr style=\"text-align: right;\">\n      <th></th>\n      <th>법정동코드</th>\n      <th>법정동명</th>\n      <th>폐지여부</th>\n    </tr>\n  </thead>\n  <tbody>\n    <tr>\n      <th>0</th>\n      <td>1100000000</td>\n      <td>서울특별시</td>\n      <td>존재</td>\n    </tr>\n    <tr>\n      <th>1</th>\n      <td>1111000000</td>\n      <td>서울특별시 종로구</td>\n      <td>존재</td>\n    </tr>\n    <tr>\n      <th>2</th>\n      <td>1111010100</td>\n      <td>서울특별시 종로구 청운동</td>\n      <td>존재</td>\n    </tr>\n    <tr>\n      <th>3</th>\n      <td>1111010200</td>\n      <td>서울특별시 종로구 신교동</td>\n      <td>존재</td>\n    </tr>\n    <tr>\n      <th>4</th>\n      <td>1111010300</td>\n      <td>서울특별시 종로구 궁정동</td>\n      <td>존재</td>\n    </tr>\n    <tr>\n      <th>...</th>\n      <td>...</td>\n      <td>...</td>\n      <td>...</td>\n    </tr>\n    <tr>\n      <th>46175</th>\n      <td>5013032022</td>\n      <td>제주특별자치도 서귀포시 표선면 하천리</td>\n      <td>존재</td>\n    </tr>\n    <tr>\n      <th>46176</th>\n      <td>5013032023</td>\n      <td>제주특별자치도 서귀포시 표선면 성읍리</td>\n      <td>존재</td>\n    </tr>\n    <tr>\n      <th>46177</th>\n      <td>5013032024</td>\n      <td>제주특별자치도 서귀포시 표선면 가시리</td>\n      <td>존재</td>\n    </tr>\n    <tr>\n      <th>46178</th>\n      <td>5013032025</td>\n      <td>제주특별자치도 서귀포시 표선면 세화리</td>\n      <td>존재</td>\n    </tr>\n    <tr>\n      <th>46179</th>\n      <td>5013032026</td>\n      <td>제주특별자치도 서귀포시 표선면 토산리</td>\n      <td>존재</td>\n    </tr>\n  </tbody>\n</table>\n<p>46180 rows × 3 columns</p>\n</div>"
     },
     "metadata": {},
     "output_type": "display_data"
    },
    {
     "name": "stdout",
     "output_type": "stream",
     "text": [
      "\n",
      "shape   -  (46180, 3) 46180 3\n",
      "size    -  138540\n",
      "ndim    -  2\n",
      "index   -  RangeIndex(start=0, stop=46180, step=1) <class 'pandas.core.indexes.range.RangeIndex'>\n",
      "columns -  Index(['법정동코드', '법정동명', '폐지여부'], dtype='object') <class 'pandas.core.indexes.base.Index'>\n",
      "values  - \n",
      " [[1100000000 '서울특별시' '존재']\n",
      " [1111000000 '서울특별시 종로구' '존재']\n",
      " [1111010100 '서울특별시 종로구 청운동' '존재']\n",
      " ...\n",
      " [5013032024 '제주특별자치도 서귀포시 표선면 가시리' '존재']\n",
      " [5013032025 '제주특별자치도 서귀포시 표선면 세화리' '존재']\n",
      " [5013032026 '제주특별자치도 서귀포시 표선면 토산리' '존재']] <class 'numpy.ndarray'>\n"
     ]
    }
   ],
   "source": [
    "court_frm = pd.read_csv('/Users/choijaewoo/pandas_data/court_code.txt' , sep='\\t' , encoding='cp949')\n",
    "frmInfo( court_frm )"
   ],
   "metadata": {
    "collapsed": false,
    "pycharm": {
     "name": "#%%\n"
    }
   }
  },
  {
   "cell_type": "code",
   "execution_count": 5,
   "outputs": [
    {
     "name": "stdout",
     "output_type": "stream",
     "text": [
      "폐지여부가 존재인것들만 subset 으로 만들어본다면? - \n"
     ]
    },
    {
     "data": {
      "text/plain": "            법정동코드                  법정동명 폐지여부\n0      1100000000                 서울특별시   존재\n1      1111000000             서울특별시 종로구   존재\n2      1111010100         서울특별시 종로구 청운동   존재\n3      1111010200         서울특별시 종로구 신교동   존재\n4      1111010300         서울특별시 종로구 궁정동   존재\n...           ...                   ...  ...\n46175  5013032022  제주특별자치도 서귀포시 표선면 하천리   존재\n46176  5013032023  제주특별자치도 서귀포시 표선면 성읍리   존재\n46177  5013032024  제주특별자치도 서귀포시 표선면 가시리   존재\n46178  5013032025  제주특별자치도 서귀포시 표선면 세화리   존재\n46179  5013032026  제주특별자치도 서귀포시 표선면 토산리   존재\n\n[20544 rows x 3 columns]",
      "text/html": "<div>\n<style scoped>\n    .dataframe tbody tr th:only-of-type {\n        vertical-align: middle;\n    }\n\n    .dataframe tbody tr th {\n        vertical-align: top;\n    }\n\n    .dataframe thead th {\n        text-align: right;\n    }\n</style>\n<table border=\"1\" class=\"dataframe\">\n  <thead>\n    <tr style=\"text-align: right;\">\n      <th></th>\n      <th>법정동코드</th>\n      <th>법정동명</th>\n      <th>폐지여부</th>\n    </tr>\n  </thead>\n  <tbody>\n    <tr>\n      <th>0</th>\n      <td>1100000000</td>\n      <td>서울특별시</td>\n      <td>존재</td>\n    </tr>\n    <tr>\n      <th>1</th>\n      <td>1111000000</td>\n      <td>서울특별시 종로구</td>\n      <td>존재</td>\n    </tr>\n    <tr>\n      <th>2</th>\n      <td>1111010100</td>\n      <td>서울특별시 종로구 청운동</td>\n      <td>존재</td>\n    </tr>\n    <tr>\n      <th>3</th>\n      <td>1111010200</td>\n      <td>서울특별시 종로구 신교동</td>\n      <td>존재</td>\n    </tr>\n    <tr>\n      <th>4</th>\n      <td>1111010300</td>\n      <td>서울특별시 종로구 궁정동</td>\n      <td>존재</td>\n    </tr>\n    <tr>\n      <th>...</th>\n      <td>...</td>\n      <td>...</td>\n      <td>...</td>\n    </tr>\n    <tr>\n      <th>46175</th>\n      <td>5013032022</td>\n      <td>제주특별자치도 서귀포시 표선면 하천리</td>\n      <td>존재</td>\n    </tr>\n    <tr>\n      <th>46176</th>\n      <td>5013032023</td>\n      <td>제주특별자치도 서귀포시 표선면 성읍리</td>\n      <td>존재</td>\n    </tr>\n    <tr>\n      <th>46177</th>\n      <td>5013032024</td>\n      <td>제주특별자치도 서귀포시 표선면 가시리</td>\n      <td>존재</td>\n    </tr>\n    <tr>\n      <th>46178</th>\n      <td>5013032025</td>\n      <td>제주특별자치도 서귀포시 표선면 세화리</td>\n      <td>존재</td>\n    </tr>\n    <tr>\n      <th>46179</th>\n      <td>5013032026</td>\n      <td>제주특별자치도 서귀포시 표선면 토산리</td>\n      <td>존재</td>\n    </tr>\n  </tbody>\n</table>\n<p>20544 rows × 3 columns</p>\n</div>"
     },
     "execution_count": 5,
     "metadata": {},
     "output_type": "execute_result"
    }
   ],
   "source": [
    "print('폐지여부가 존재인것들만 subset 으로 만들어본다면? - ')\n",
    "\n",
    "# court_frm['폐지여부'].value_counts()\n",
    "boolean_idx = court_frm['폐지여부'] == '존재'\n",
    "\n",
    "court_exist_frm = court_frm[boolean_idx]\n",
    "# court_exits_frm['폐지여부'].value_counts()\n",
    "court_exist_frm"
   ],
   "metadata": {
    "collapsed": false,
    "pycharm": {
     "name": "#%%\n"
    }
   }
  },
  {
   "cell_type": "code",
   "execution_count": null,
   "outputs": [],
   "source": [],
   "metadata": {
    "collapsed": false,
    "pycharm": {
     "name": "#%%\n"
    }
   }
  },
  {
   "cell_type": "code",
   "execution_count": null,
   "outputs": [],
   "source": [],
   "metadata": {
    "collapsed": false,
    "pycharm": {
     "name": "#%%\n"
    }
   }
  },
  {
   "cell_type": "code",
   "execution_count": null,
   "outputs": [],
   "source": [],
   "metadata": {
    "collapsed": false,
    "pycharm": {
     "name": "#%%\n"
    }
   }
  },
  {
   "cell_type": "code",
   "execution_count": null,
   "outputs": [],
   "source": [],
   "metadata": {
    "collapsed": false,
    "pycharm": {
     "name": "#%%\n"
    }
   }
  },
  {
   "cell_type": "code",
   "execution_count": null,
   "outputs": [],
   "source": [],
   "metadata": {
    "collapsed": false,
    "pycharm": {
     "name": "#%%\n"
    }
   }
  },
  {
   "cell_type": "code",
   "execution_count": null,
   "outputs": [],
   "source": [],
   "metadata": {
    "collapsed": false,
    "pycharm": {
     "name": "#%%\n"
    }
   }
  },
  {
   "cell_type": "code",
   "execution_count": null,
   "outputs": [],
   "source": [],
   "metadata": {
    "collapsed": false,
    "pycharm": {
     "name": "#%%\n"
    }
   }
  },
  {
   "cell_type": "code",
   "execution_count": null,
   "outputs": [],
   "source": [],
   "metadata": {
    "collapsed": false,
    "pycharm": {
     "name": "#%%\n"
    }
   }
  },
  {
   "cell_type": "code",
   "execution_count": null,
   "outputs": [],
   "source": [],
   "metadata": {
    "collapsed": false,
    "pycharm": {
     "name": "#%%\n"
    }
   }
  },
  {
   "cell_type": "code",
   "execution_count": null,
   "outputs": [],
   "source": [],
   "metadata": {
    "collapsed": false,
    "pycharm": {
     "name": "#%%\n"
    }
   }
  },
  {
   "cell_type": "code",
   "execution_count": null,
   "outputs": [],
   "source": [],
   "metadata": {
    "collapsed": false,
    "pycharm": {
     "name": "#%%\n"
    }
   }
  },
  {
   "cell_type": "code",
   "execution_count": null,
   "outputs": [],
   "source": [],
   "metadata": {
    "collapsed": false,
    "pycharm": {
     "name": "#%%\n"
    }
   }
  },
  {
   "cell_type": "code",
   "execution_count": null,
   "outputs": [],
   "source": [],
   "metadata": {
    "collapsed": false,
    "pycharm": {
     "name": "#%%\n"
    }
   }
  }
 ],
 "metadata": {
  "kernelspec": {
   "display_name": "Python 3",
   "language": "python",
   "name": "python3"
  },
  "language_info": {
   "codemirror_mode": {
    "name": "ipython",
    "version": 2
   },
   "file_extension": ".py",
   "mimetype": "text/x-python",
   "name": "python",
   "nbconvert_exporter": "python",
   "pygments_lexer": "ipython2",
   "version": "2.7.6"
  }
 },
 "nbformat": 4,
 "nbformat_minor": 0
}