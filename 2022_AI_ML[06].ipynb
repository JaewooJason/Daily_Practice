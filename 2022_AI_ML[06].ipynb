{
 "cells": [
  {
   "cell_type": "code",
   "execution_count": 1,
   "metadata": {
    "collapsed": true
   },
   "outputs": [
    {
     "data": {
      "text/plain": "'0.24.2'"
     },
     "execution_count": 1,
     "metadata": {},
     "output_type": "execute_result"
    }
   ],
   "source": [
    "import numpy  as np\n",
    "import pandas as pd\n",
    "\n",
    "# 시각화\n",
    "import matplotlib.pyplot as plt\n",
    "%matplotlib inline\n",
    "\n",
    "import seaborn as sns\n",
    "\n",
    "import json\n",
    "\n",
    "import warnings\n",
    "warnings.filterwarnings(action='ignore')\n",
    "\n",
    "from datetime import date, datetime, timedelta\n",
    "from dateutil.parser import parse\n",
    "\n",
    "\n",
    "# 한글 폰트 문제 해결\n",
    "import platform\n",
    "\n",
    "from matplotlib import font_manager, rc\n",
    "\n",
    "if platform.system() == 'Darwin':\n",
    "    plt.rc('font', family='AppleGothic')\n",
    "elif platform.system() == 'Windows':\n",
    "    path = \"c:/Windows/Fonts/malgun.ttf\"\n",
    "    font_name = font_manager.FontProperties(fname=path).get_name()\n",
    "    plt.rc('font', family=font_name)\n",
    "else:\n",
    "    print('Unknown system... sorry~~~~')\n",
    "\n",
    "\n",
    "# 차트 축 <- 음수 부호 지원\n",
    "import matplotlib\n",
    "matplotlib.rcParams['axes.unicode_minus'] = False\n",
    "\n",
    "\n",
    "# crawling\n",
    "from bs4 import BeautifulSoup\n",
    "from urllib.request import urlopen , urlretrieve\n",
    "from urllib.error   import HTTPError\n",
    "from urllib.error   import URLError\n",
    "\n",
    "import requests\n",
    "import re\n",
    "\n",
    "from selenium import webdriver\n",
    "\n",
    "from time    import sleep , time\n",
    "from random  import randint\n",
    "from IPython.core.display import clear_output\n",
    "\n",
    "# 비정형 디비\n",
    "# import pymongo as mongo\n",
    "\n",
    "# print('numpy version  - ' , np.__version__)\n",
    "# print('pandas version - ' , pd.__version__)\n",
    "\n",
    "# conda install -c conda-forge python-graphviz\n",
    "# pip install graphviz\n",
    "\n",
    "import graphviz\n",
    "import missingno as msno\n",
    "\n",
    "# ml\n",
    "import sklearn\n",
    "from   sklearn.datasets import load_iris , load_breast_cancer , load_digits\n",
    "\n",
    "from   sklearn.model_selection import train_test_split , KFold , StratifiedKFold, cross_val_score , cross_validate , GridSearchCV\n",
    "\n",
    "from   sklearn.tree            import DecisionTreeClassifier , export_graphviz\n",
    "\n",
    "from   sklearn.ensemble        import RandomForestClassifier , VotingClassifier\n",
    "\n",
    "from   sklearn.linear_model    import LogisticRegression\n",
    "\n",
    "from   sklearn.svm             import SVC\n",
    "\n",
    "from   sklearn.neighbors        import KNeighborsClassifier\n",
    "\n",
    "from   sklearn.metrics         import accuracy_score , precision_score , recall_score , f1_score , confusion_matrix , precision_recall_curve  ,  roc_curve , roc_auc_score\n",
    "from   sklearn.preprocessing   import LabelEncoder , OneHotEncoder , MinMaxScaler , StandardScaler , Binarizer\n",
    "from   sklearn.impute          import SimpleImputer\n",
    "\n",
    "from   sklearn.base            import BaseEstimator\n",
    "\n",
    "from   IPython.display import Image\n",
    "\n",
    "sklearn.__version__"
   ]
  },
  {
   "cell_type": "code",
   "execution_count": 2,
   "outputs": [
    {
     "name": "stdout",
     "output_type": "stream",
     "text": [
      "type -  <class 'sklearn.utils.Bunch'>\n",
      "keys -  dict_keys(['data', 'target', 'frame', 'feature_names', 'target_names', 'images', 'DESCR'])\n"
     ]
    }
   ],
   "source": [
    "mnist = load_digits()\n",
    "print('type - ' , type(mnist) )\n",
    "print('keys - ' , mnist.keys())"
   ],
   "metadata": {
    "collapsed": false,
    "pycharm": {
     "name": "#%%\n"
    }
   }
  },
  {
   "cell_type": "code",
   "execution_count": 3,
   "outputs": [],
   "source": [
    "features , labels = mnist.data , mnist.target"
   ],
   "metadata": {
    "collapsed": false,
    "pycharm": {
     "name": "#%%\n"
    }
   }
  },
  {
   "cell_type": "code",
   "execution_count": 4,
   "outputs": [
    {
     "data": {
      "text/plain": "((1797, 64), (1797,))"
     },
     "execution_count": 4,
     "metadata": {},
     "output_type": "execute_result"
    }
   ],
   "source": [
    "features.shape , labels.shape"
   ],
   "metadata": {
    "collapsed": false,
    "pycharm": {
     "name": "#%%\n"
    }
   }
  },
  {
   "cell_type": "code",
   "execution_count": 5,
   "outputs": [
    {
     "data": {
      "text/plain": "array([ 0.,  0.,  0., 12., 13.,  5.,  0.,  0.,  0.,  0.,  0., 11., 16.,\n        9.,  0.,  0.,  0.,  0.,  3., 15., 16.,  6.,  0.,  0.,  0.,  7.,\n       15., 16., 16.,  2.,  0.,  0.,  0.,  0.,  1., 16., 16.,  3.,  0.,\n        0.,  0.,  0.,  1., 16., 16.,  6.,  0.,  0.,  0.,  0.,  1., 16.,\n       16.,  6.,  0.,  0.,  0.,  0.,  0., 11., 16., 10.,  0.,  0.])"
     },
     "execution_count": 5,
     "metadata": {},
     "output_type": "execute_result"
    }
   ],
   "source": [
    "features[1]"
   ],
   "metadata": {
    "collapsed": false,
    "pycharm": {
     "name": "#%%\n"
    }
   }
  },
  {
   "cell_type": "code",
   "execution_count": 6,
   "outputs": [
    {
     "data": {
      "text/plain": "1"
     },
     "execution_count": 6,
     "metadata": {},
     "output_type": "execute_result"
    }
   ],
   "source": [
    "labels[1]"
   ],
   "metadata": {
    "collapsed": false,
    "pycharm": {
     "name": "#%%\n"
    }
   }
  },
  {
   "cell_type": "code",
   "execution_count": 7,
   "outputs": [
    {
     "data": {
      "text/plain": "array([[ 0.,  0.,  0., 12., 13.,  5.,  0.,  0.],\n       [ 0.,  0.,  0., 11., 16.,  9.,  0.,  0.],\n       [ 0.,  0.,  3., 15., 16.,  6.,  0.,  0.],\n       [ 0.,  7., 15., 16., 16.,  2.,  0.,  0.],\n       [ 0.,  0.,  1., 16., 16.,  3.,  0.,  0.],\n       [ 0.,  0.,  1., 16., 16.,  6.,  0.,  0.],\n       [ 0.,  0.,  1., 16., 16.,  6.,  0.,  0.],\n       [ 0.,  0.,  0., 11., 16., 10.,  0.,  0.]])"
     },
     "execution_count": 7,
     "metadata": {},
     "output_type": "execute_result"
    }
   ],
   "source": [
    "features[1].reshape(8,8)"
   ],
   "metadata": {
    "collapsed": false,
    "pycharm": {
     "name": "#%%\n"
    }
   }
  },
  {
   "cell_type": "code",
   "execution_count": 8,
   "outputs": [
    {
     "data": {
      "text/plain": "<Figure size 432x288 with 1 Axes>",
      "image/png": "[encoded data removed]"
     },
     "metadata": {
      "needs_background": "light"
     },
     "output_type": "display_data"
    }
   ],
   "source": [
    "plt.imshow(features[1].reshape(8,8), cmap = matplotlib.cm.binary)\n",
    "\n",
    "\n",
    "plt.axis('off')\n",
    "plt.show()\n",
    "plt.close()\n"
   ],
   "metadata": {
    "collapsed": false,
    "pycharm": {
     "name": "#%%\n"
    }
   }
  },
  {
   "cell_type": "code",
   "execution_count": 9,
   "outputs": [
    {
     "data": {
      "text/plain": "((1437, 64), (360, 64), (1437,), (360,))"
     },
     "execution_count": 9,
     "metadata": {},
     "output_type": "execute_result"
    }
   ],
   "source": [
    "X_train , X_test , y_train , y_test = train_test_split(features ,\n",
    "                                                       labels ,\n",
    "                                                       test_size = 0.2 ,\n",
    "                                                       random_state = 100)\n",
    "X_train.shape , X_test.shape , y_train.shape , y_test.shape"
   ],
   "metadata": {
    "collapsed": false,
    "pycharm": {
     "name": "#%%\n"
    }
   }
  },
  {
   "cell_type": "code",
   "execution_count": 10,
   "outputs": [],
   "source": [
    "tree_model = DecisionTreeClassifier(criterion    = 'entropy' ,\n",
    "                                    max_depth    = 8 ,\n",
    "                                    max_features = 32 ,\n",
    "                                    random_state = 35)\n",
    "knn_model  = KNeighborsClassifier(n_neighbors = 299 )\n",
    "svm_model  = SVC(probability = True )"
   ],
   "metadata": {
    "collapsed": false,
    "pycharm": {
     "name": "#%%\n"
    }
   }
  },
  {
   "cell_type": "code",
   "execution_count": 11,
   "outputs": [],
   "source": [
    "def metrics_evaluation(target , prediction) :\n",
    "    print('accuracy \\n'    , accuracy_score(target , prediction))\n"
   ],
   "metadata": {
    "collapsed": false,
    "pycharm": {
     "name": "#%%\n"
    }
   }
  },
  {
   "cell_type": "code",
   "execution_count": 12,
   "outputs": [],
   "source": [
    "tree_model.fit(X_train, y_train)\n",
    "tree_pred = tree_model.predict(X_test)\n",
    "\n",
    "knn_model.fit(X_train, y_train)\n",
    "knn_pred = knn_model.predict(X_test)\n",
    "\n",
    "svm_model.fit(X_train, y_train)\n",
    "svm_pred = svm_model.predict(X_test)\n"
   ],
   "metadata": {
    "collapsed": false,
    "pycharm": {
     "name": "#%%\n"
    }
   }
  },
  {
   "cell_type": "code",
   "execution_count": 13,
   "outputs": [
    {
     "name": "stdout",
     "output_type": "stream",
     "text": [
      "accuracy \n",
      " 0.8694444444444445\n",
      "accuracy \n",
      " 0.8555555555555555\n",
      "accuracy \n",
      " 0.9916666666666667\n"
     ]
    }
   ],
   "source": [
    "metrics_evaluation(y_test , tree_pred)\n",
    "metrics_evaluation(y_test , knn_pred)\n",
    "metrics_evaluation(y_test , svm_pred)"
   ],
   "metadata": {
    "collapsed": false,
    "pycharm": {
     "name": "#%%\n"
    }
   }
  },
  {
   "cell_type": "code",
   "execution_count": 18,
   "outputs": [
    {
     "name": "stdout",
     "output_type": "stream",
     "text": [
      "VotingClassifier hardVoting - \n",
      "\n"
     ]
    }
   ],
   "source": [
    "print('VotingClassifier hardVoting - ')\n",
    "print()\n",
    "\n",
    "hard_voting_model = VotingClassifier( estimators = [('tree' , tree_model),('knn' , knn_model) , ('svm' , svm_model)] ,\n",
    "                                      weights    = [1,1,1] ,\n",
    "                                      voting     = 'hard' )\n"
   ],
   "metadata": {
    "collapsed": false,
    "pycharm": {
     "name": "#%%\n"
    }
   }
  },
  {
   "cell_type": "code",
   "execution_count": 20,
   "outputs": [
    {
     "name": "stdout",
     "output_type": "stream",
     "text": [
      "accuracy \n",
      " 0.9611111111111111\n"
     ]
    }
   ],
   "source": [
    "hard_voting_model.fit(X_train , y_train)\n",
    "hard_voting_pred = hard_voting_model.predict(X_test)\n",
    "metrics_evaluation(y_test , hard_voting_pred)"
   ],
   "metadata": {
    "collapsed": false,
    "pycharm": {
     "name": "#%%\n"
    }
   }
  },
  {
   "cell_type": "code",
   "execution_count": 21,
   "outputs": [
    {
     "name": "stdout",
     "output_type": "stream",
     "text": [
      "accuracy \n",
      " 0.9361111111111111\n"
     ]
    }
   ],
   "source": [
    "soft_voting_model = VotingClassifier( estimators = [('tree' , tree_model),('knn' , knn_model) , ('svm' , svm_model)] ,\n",
    "                                      weights    = [1,1,1] ,\n",
    "                                      voting     = 'soft' )\n",
    "\n",
    "soft_voting_model.fit(X_train , y_train)\n",
    "soft_voting_pred = soft_voting_model.predict(X_test)\n",
    "metrics_evaluation(y_test , soft_voting_pred)"
   ],
   "metadata": {
    "collapsed": false,
    "pycharm": {
     "name": "#%%\n"
    }
   }
  },
  {
   "cell_type": "code",
   "execution_count": 22,
   "outputs": [
    {
     "data": {
      "text/plain": "<Figure size 1080x360 with 1 Axes>",
      "image/png": "[encoded data removed]"
     },
     "metadata": {
      "needs_background": "light"
     },
     "output_type": "display_data"
    }
   ],
   "source": [
    "plt.figure( figsize = (15,5))\n",
    "\n",
    "x = np.arange(5)\n",
    "\n",
    "plt.bar(x , height = [\n",
    "    accuracy_score(y_test , tree_pred) ,\n",
    "    accuracy_score(y_test , knn_pred) ,\n",
    "    accuracy_score(y_test , svm_pred) ,\n",
    "    accuracy_score(y_test , hard_voting_pred) ,\n",
    "    accuracy_score(y_test , soft_voting_pred) ,\n",
    "])\n",
    "plt.xticks(x , ['tree' , 'knn' , 'svm' , 'hard' , 'soft'])\n",
    "\n",
    "plt.show()\n",
    "plt.close()"
   ],
   "metadata": {
    "collapsed": false,
    "pycharm": {
     "name": "#%%\n"
    }
   }
  },
  {
   "cell_type": "code",
   "execution_count": 2,
   "outputs": [
    {
     "name": "stdout",
     "output_type": "stream",
     "text": [
      "데이터를 활용한 앙상블 [실습] - 시각화 \n"
     ]
    },
    {
     "data": {
      "text/plain": "dict_keys(['data', 'target', 'frame', 'target_names', 'DESCR', 'feature_names', 'filename'])"
     },
     "execution_count": 2,
     "metadata": {},
     "output_type": "execute_result"
    }
   ],
   "source": [
    "print('데이터를 활용한 앙상블 [실습] - 시각화 ')\n",
    "\n",
    "cancer = load_breast_cancer()\n",
    "cancer.keys()"
   ],
   "metadata": {
    "collapsed": false,
    "pycharm": {
     "name": "#%%\n"
    }
   }
  },
  {
   "cell_type": "code",
   "execution_count": 3,
   "outputs": [],
   "source": [
    "tree_model     = DecisionTreeClassifier()\n",
    "knn_model      = KNeighborsClassifier()\n",
    "svm_model      = SVC(probability = True )\n",
    "logistic_model = LogisticRegression()\n",
    "\n",
    "\n",
    "hard_voting_model = VotingClassifier( estimators = [('tree' , tree_model),('knn' , knn_model) , ('svm' , svm_model) , ('logistic' , logistic_model)] ,\n",
    "                                      weights    = [1,1,1,1] ,\n",
    "                                      voting     = 'hard' )\n",
    "\n",
    "soft_voting_model = VotingClassifier( estimators = [('tree' , tree_model),('knn' , knn_model) , ('svm' , svm_model) , ('logistic' , logistic_model)] ,\n",
    "                                      weights    = [1,1,1,1] ,\n",
    "                                      voting     = 'soft' )\n",
    "\n"
   ],
   "metadata": {
    "collapsed": false,
    "pycharm": {
     "name": "#%%\n"
    }
   }
  },
  {
   "cell_type": "code",
   "execution_count": 4,
   "outputs": [
    {
     "data": {
      "text/plain": "((455, 30), (114, 30), (455,), (114,))"
     },
     "execution_count": 4,
     "metadata": {},
     "output_type": "execute_result"
    }
   ],
   "source": [
    "X_train , X_test , y_train , y_test = train_test_split(cancer.data ,\n",
    "                                                       cancer.target ,\n",
    "                                                       test_size = 0.2 ,\n",
    "                                                       random_state = 100)\n",
    "\n",
    "X_train.shape , X_test.shape , y_train.shape , y_test.shape"
   ],
   "metadata": {
    "collapsed": false,
    "pycharm": {
     "name": "#%%\n"
    }
   }
  },
  {
   "cell_type": "code",
   "execution_count": 5,
   "outputs": [
    {
     "name": "stdout",
     "output_type": "stream",
     "text": [
      "DecisionTreeClassifier \t 0.956140350877193\n",
      "KNeighborsClassifier \t 0.9473684210526315\n",
      "SVC \t 0.9473684210526315\n",
      "VotingClassifier \t 0.9649122807017544\n",
      "VotingClassifier \t 0.9736842105263158\n"
     ]
    }
   ],
   "source": [
    "estimators = [tree_model , knn_model , svm_model, hard_voting_model , soft_voting_model ]\n",
    "for e in estimators :\n",
    "    e.fit(X_train , y_train)\n",
    "    pred = e.predict(X_test)\n",
    "    print(e.__class__.__name__ , '\\t' , accuracy_score(y_test , pred) )\n"
   ],
   "metadata": {
    "collapsed": false,
    "pycharm": {
     "name": "#%%\n"
    }
   }
  },
  {
   "cell_type": "code",
   "execution_count": 6,
   "outputs": [
    {
     "name": "stdout",
     "output_type": "stream",
     "text": [
      "type -  <class 'sklearn.utils.Bunch'>\n",
      "keys -  dict_keys(['data', 'target', 'frame', 'feature_names', 'target_names', 'images', 'DESCR'])\n",
      "shape -  (1797, 64) (1797,)\n"
     ]
    }
   ],
   "source": [
    "mnist = load_digits()\n",
    "print('type - ' , type(mnist) )\n",
    "print('keys - ' , mnist.keys())\n",
    "\n",
    "features , labels = mnist.data , mnist.target\n",
    "\n",
    "print('shape - ' , features.shape , labels.shape)"
   ],
   "metadata": {
    "collapsed": false,
    "pycharm": {
     "name": "#%%\n"
    }
   }
  },
  {
   "cell_type": "code",
   "execution_count": 7,
   "outputs": [],
   "source": [
    "def user_cross_val(e , features , labels ) :\n",
    "    cv_scores = []\n",
    "\n",
    "    for idx in range(10) :\n",
    "        score = cross_val_score(e , features , labels , cv = 10 , scoring = 'accuracy')\n",
    "        # print(score)\n",
    "        cv_scores.append( score.mean() )\n",
    "\n",
    "    return cv_scores"
   ],
   "metadata": {
    "collapsed": false,
    "pycharm": {
     "name": "#%%\n"
    }
   }
  },
  {
   "cell_type": "code",
   "execution_count": 8,
   "outputs": [
    {
     "name": "stdout",
     "output_type": "stream",
     "text": [
      "**************************************************\n"
     ]
    }
   ],
   "source": [
    "tree_cv_scores    =  user_cross_val(DecisionTreeClassifier() , features , labels)\n",
    "print('*' * 50)\n",
    "bagging_cv_scores =  user_cross_val(RandomForestClassifier() , features , labels)\n",
    "\n"
   ],
   "metadata": {
    "collapsed": false,
    "pycharm": {
     "name": "#%%\n"
    }
   }
  },
  {
   "cell_type": "code",
   "execution_count": 14,
   "outputs": [
    {
     "name": "stdout",
     "output_type": "stream",
     "text": [
      "tree score - \n"
     ]
    },
    {
     "ename": "NameError",
     "evalue": "name 'tree_cv_scores' is not defined",
     "output_type": "error",
     "traceback": [
      "\u001B[0;31m---------------------------------------------------------------------------\u001B[0m",
      "\u001B[0;31mNameError\u001B[0m                                 Traceback (most recent call last)",
      "\u001B[0;32m/var/folders/qr/6jsz3w4516vdwmpnz67ktft00000gn/T/ipykernel_65934/3297200916.py\u001B[0m in \u001B[0;36m<module>\u001B[0;34m\u001B[0m\n\u001B[1;32m      1\u001B[0m \u001B[0mprint\u001B[0m\u001B[0;34m(\u001B[0m\u001B[0;34m'tree score - '\u001B[0m\u001B[0;34m)\u001B[0m\u001B[0;34m\u001B[0m\u001B[0;34m\u001B[0m\u001B[0m\n\u001B[0;32m----> 2\u001B[0;31m \u001B[0mprint\u001B[0m\u001B[0;34m(\u001B[0m\u001B[0mtree_cv_scores\u001B[0m\u001B[0;34m)\u001B[0m\u001B[0;34m\u001B[0m\u001B[0;34m\u001B[0m\u001B[0m\n\u001B[0m\u001B[1;32m      3\u001B[0m \u001B[0mprint\u001B[0m\u001B[0;34m(\u001B[0m\u001B[0;34m)\u001B[0m\u001B[0;34m\u001B[0m\u001B[0;34m\u001B[0m\u001B[0m\n\u001B[1;32m      4\u001B[0m \u001B[0mprint\u001B[0m\u001B[0;34m(\u001B[0m\u001B[0;34m'tree score mean - '\u001B[0m\u001B[0;34m)\u001B[0m\u001B[0;34m\u001B[0m\u001B[0;34m\u001B[0m\u001B[0m\n\u001B[1;32m      5\u001B[0m \u001B[0mprint\u001B[0m\u001B[0;34m(\u001B[0m\u001B[0mnp\u001B[0m\u001B[0;34m.\u001B[0m\u001B[0mmean\u001B[0m\u001B[0;34m(\u001B[0m\u001B[0mtree_cv_scores\u001B[0m\u001B[0;34m)\u001B[0m\u001B[0;34m)\u001B[0m\u001B[0;34m\u001B[0m\u001B[0;34m\u001B[0m\u001B[0m\n",
      "\u001B[0;31mNameError\u001B[0m: name 'tree_cv_scores' is not defined"
     ]
    }
   ],
   "source": [
    "print('tree score - ')\n",
    "print(tree_cv_scores)\n",
    "print()\n",
    "print('tree score mean - ')\n",
    "print(np.mean(tree_cv_scores))\n",
    "print()\n",
    "print('bagging - ')\n",
    "print('bagging score - ')\n",
    "print(bagging_cv_scores)\n",
    "print()\n",
    "print('bagging score mean - ')\n",
    "print(np.mean(bagging_cv_scores))"
   ],
   "metadata": {
    "collapsed": false,
    "pycharm": {
     "name": "#%%\n"
    }
   }
  },
  {
   "cell_type": "code",
   "execution_count": 10,
   "outputs": [
    {
     "data": {
      "text/plain": "       tree   bagging\n0  0.824652  0.953808\n1  0.824112  0.949907\n2  0.825245  0.944894\n3  0.824112  0.948243\n4  0.823579  0.949907\n5  0.829702  0.947132\n6  0.821927  0.946574\n7  0.828597  0.948234\n8  0.821353  0.953802\n9  0.827455  0.953793",
      "text/html": "<div>\n<style scoped>\n    .dataframe tbody tr th:only-of-type {\n        vertical-align: middle;\n    }\n\n    .dataframe tbody tr th {\n        vertical-align: top;\n    }\n\n    .dataframe thead th {\n        text-align: right;\n    }\n</style>\n<table border=\"1\" class=\"dataframe\">\n  <thead>\n    <tr style=\"text-align: right;\">\n      <th></th>\n      <th>tree</th>\n      <th>bagging</th>\n    </tr>\n  </thead>\n  <tbody>\n    <tr>\n      <th>0</th>\n      <td>0.824652</td>\n      <td>0.953808</td>\n    </tr>\n    <tr>\n      <th>1</th>\n      <td>0.824112</td>\n      <td>0.949907</td>\n    </tr>\n    <tr>\n      <th>2</th>\n      <td>0.825245</td>\n      <td>0.944894</td>\n    </tr>\n    <tr>\n      <th>3</th>\n      <td>0.824112</td>\n      <td>0.948243</td>\n    </tr>\n    <tr>\n      <th>4</th>\n      <td>0.823579</td>\n      <td>0.949907</td>\n    </tr>\n    <tr>\n      <th>5</th>\n      <td>0.829702</td>\n      <td>0.947132</td>\n    </tr>\n    <tr>\n      <th>6</th>\n      <td>0.821927</td>\n      <td>0.946574</td>\n    </tr>\n    <tr>\n      <th>7</th>\n      <td>0.828597</td>\n      <td>0.948234</td>\n    </tr>\n    <tr>\n      <th>8</th>\n      <td>0.821353</td>\n      <td>0.953802</td>\n    </tr>\n    <tr>\n      <th>9</th>\n      <td>0.827455</td>\n      <td>0.953793</td>\n    </tr>\n  </tbody>\n</table>\n</div>"
     },
     "execution_count": 10,
     "metadata": {},
     "output_type": "execute_result"
    }
   ],
   "source": [
    "tree_bagging_frm = pd.DataFrame({\n",
    "    'tree'    : tree_cv_scores ,\n",
    "    'bagging' : bagging_cv_scores\n",
    "})\n",
    "tree_bagging_frm"
   ],
   "metadata": {
    "collapsed": false,
    "pycharm": {
     "name": "#%%\n"
    }
   }
  },
  {
   "cell_type": "code",
   "execution_count": 15,
   "outputs": [
    {
     "data": {
      "text/plain": "                        feature_name\n0    tBodyAcc-Mean-1                \n1    tBodyAcc-Mean-2                \n2    tBodyAcc-Mean-3                \n3    tBodyAcc-STD-1                 \n4    tBodyAcc-STD-2                 \n..                               ...\n556  tBodyGyro-AngleWRTGravity-1    \n557  tBodyGyroJerk-AngleWRTGravity-1\n558  tXAxisAcc-AngleWRTGravity-1    \n559  tYAxisAcc-AngleWRTGravity-1    \n560  tZAxisAcc-AngleWRTGravity-1    \n\n[561 rows x 1 columns]",
      "text/html": "<div>\n<style scoped>\n    .dataframe tbody tr th:only-of-type {\n        vertical-align: middle;\n    }\n\n    .dataframe tbody tr th {\n        vertical-align: top;\n    }\n\n    .dataframe thead th {\n        text-align: right;\n    }\n</style>\n<table border=\"1\" class=\"dataframe\">\n  <thead>\n    <tr style=\"text-align: right;\">\n      <th></th>\n      <th>feature_name</th>\n    </tr>\n  </thead>\n  <tbody>\n    <tr>\n      <th>0</th>\n      <td>tBodyAcc-Mean-1</td>\n    </tr>\n    <tr>\n      <th>1</th>\n      <td>tBodyAcc-Mean-2</td>\n    </tr>\n    <tr>\n      <th>2</th>\n      <td>tBodyAcc-Mean-3</td>\n    </tr>\n    <tr>\n      <th>3</th>\n      <td>tBodyAcc-STD-1</td>\n    </tr>\n    <tr>\n      <th>4</th>\n      <td>tBodyAcc-STD-2</td>\n    </tr>\n    <tr>\n      <th>...</th>\n      <td>...</td>\n    </tr>\n    <tr>\n      <th>556</th>\n      <td>tBodyGyro-AngleWRTGravity-1</td>\n    </tr>\n    <tr>\n      <th>557</th>\n      <td>tBodyGyroJerk-AngleWRTGravity-1</td>\n    </tr>\n    <tr>\n      <th>558</th>\n      <td>tXAxisAcc-AngleWRTGravity-1</td>\n    </tr>\n    <tr>\n      <th>559</th>\n      <td>tYAxisAcc-AngleWRTGravity-1</td>\n    </tr>\n    <tr>\n      <th>560</th>\n      <td>tZAxisAcc-AngleWRTGravity-1</td>\n    </tr>\n  </tbody>\n</table>\n<p>561 rows × 1 columns</p>\n</div>"
     },
     "execution_count": 15,
     "metadata": {},
     "output_type": "execute_result"
    }
   ],
   "source": [
    "feature_names = pd.read_csv('/Users/choijaewoo/ml-data/human_activity/features.txt' ,\n",
    "                            header = None ,\n",
    "                            names  = ['feature_name'])\n",
    "feature_names"
   ],
   "metadata": {
    "collapsed": false,
    "pycharm": {
     "name": "#%%\n"
    }
   }
  },
  {
   "cell_type": "code",
   "execution_count": 16,
   "outputs": [
    {
     "data": {
      "text/plain": "feature_name  tBodyAcc-Mean-1                  \\\n0                                    0.043580   \n1                                    0.039480   \n2                                    0.039978   \n3                                    0.039785   \n4                                    0.038758   \n...                                       ...   \n7762                                 0.048048   \n7763                                 0.037639   \n7764                                 0.037451   \n7765                                 0.044011   \n7766                                 0.068954   \n\nfeature_name  tBodyAcc-Mean-2                  \\\n0                                   -0.005970   \n1                                   -0.002131   \n2                                   -0.005153   \n3                                   -0.011809   \n4                                   -0.002289   \n...                                       ...   \n7762                                -0.042445   \n7763                                 0.006430   \n7764                                -0.002724   \n7765                                -0.004536   \n7766                                 0.001810   \n\nfeature_name  tBodyAcc-Mean-3                  \\\n0                                   -0.035054   \n1                                   -0.029067   \n2                                   -0.022651   \n3                                   -0.028916   \n4                                   -0.023863   \n...                                       ...   \n7762                                -0.065884   \n7763                                -0.044345   \n7764                                 0.021009   \n7765                                -0.051242   \n7766                                -0.080323   \n\nfeature_name  tBodyAcc-STD-1                   \\\n0                                   -0.995381   \n1                                   -0.998348   \n2                                   -0.995482   \n3                                   -0.996194   \n4                                   -0.998241   \n...                                       ...   \n7762                                -0.195448   \n7763                                -0.235372   \n7764                                -0.218281   \n7765                                -0.219202   \n7766                                -0.269336   \n\nfeature_name  tBodyAcc-STD-2                   \\\n0                                   -0.988366   \n1                                   -0.982945   \n2                                   -0.977314   \n3                                   -0.988569   \n4                                   -0.986774   \n...                                       ...   \n7762                                -0.278326   \n7763                                -0.302680   \n7764                                -0.378082   \n7765                                -0.383350   \n7766                                -0.366553   \n\nfeature_name  tBodyAcc-STD-3                   \\\n0                                   -0.937382   \n1                                   -0.971273   \n2                                   -0.984760   \n3                                   -0.993256   \n4                                   -0.993115   \n...                                       ...   \n7762                                -0.219954   \n7763                                -0.232843   \n7764                                -0.076950   \n7765                                -0.081035   \n7766                                -0.147294   \n\nfeature_name  tBodyAcc-Mad-1                   \\\n0                                   -0.995007   \n1                                   -0.998702   \n2                                   -0.996415   \n3                                   -0.996994   \n4                                   -0.998216   \n...                                       ...   \n7762                                -0.282233   \n7763                                -0.322483   \n7764                                -0.304446   \n7765                                -0.310419   \n7766                                -0.377332   \n\nfeature_name  tBodyAcc-Mad-2                   \\\n0                                   -0.988816   \n1                                   -0.983315   \n2                                   -0.975835   \n3                                   -0.988526   \n4                                   -0.986479   \n...                                       ...   \n7762                                -0.305861   \n7763                                -0.354464   \n7764                                -0.400661   \n7765                                -0.380233   \n7766                                -0.360597   \n\nfeature_name  tBodyAcc-Mad-3                   \\\n0                                   -0.953325   \n1                                   -0.974000   \n2                                   -0.985973   \n3                                   -0.993135   \n4                                   -0.993825   \n...                                       ...   \n7762                                -0.357803   \n7763                                -0.345592   \n7764                                -0.193071   \n7765                                -0.201007   \n7766                                -0.255505   \n\nfeature_name  tBodyAcc-Max-1                   ...  \\\n0                                   -0.794796  ...   \n1                                   -0.802537  ...   \n2                                   -0.798477  ...   \n3                                   -0.798477  ...   \n4                                   -0.801982  ...   \n...                                       ...  ...   \n7762                                 0.267874  ...   \n7763                                 0.181271  ...   \n7764                                 0.113141  ...   \n7765                                 0.166671  ...   \n7766                                 0.321881  ...   \n\nfeature_name  fBodyGyroJerkMag-MeanFreq-1      \\\n0                                   -0.012236   \n1                                    0.202804   \n2                                    0.440079   \n3                                    0.430891   \n4                                    0.137735   \n...                                       ...   \n7762                                -0.008381   \n7763                                 0.209452   \n7764                                 0.237003   \n7765                                 0.069366   \n7766                                 0.002496   \n\nfeature_name  fBodyGyroJerkMag-Skewness-1      \\\n0                                   -0.314848   \n1                                   -0.603199   \n2                                   -0.404427   \n3                                   -0.138373   \n4                                   -0.366214   \n...                                       ...   \n7762                                -0.596760   \n7763                                -0.404418   \n7764                                 0.000207   \n7765                                 0.037919   \n7766                                -0.400831   \n\nfeature_name  fBodyGyroJerkMag-Kurtosis-1      \\\n0                                   -0.713308   \n1                                   -0.860677   \n2                                   -0.761847   \n3                                   -0.491604   \n4                                   -0.702490   \n...                                       ...   \n7762                                -0.879026   \n7763                                -0.684496   \n7764                                -0.317314   \n7765                                -0.356579   \n7766                                -0.742972   \n\nfeature_name  tBodyAcc-AngleWRTGravity-1       \\\n0                                   -0.112754   \n1                                    0.053477   \n2                                   -0.118559   \n3                                   -0.036788   \n4                                    0.123320   \n...                                       ...   \n7762                                -0.190437   \n7763                                 0.064907   \n7764                                 0.052806   \n7765                                -0.101360   \n7766                                -0.280088   \n\nfeature_name  tBodyAccJerk-AngleWRTGravity-1   \\\n0                                    0.030400   \n1                                   -0.007435   \n2                                    0.177899   \n3                                   -0.012892   \n4                                    0.122542   \n...                                       ...   \n7762                                 0.829718   \n7763                                 0.875679   \n7764                                -0.266724   \n7765                                 0.700740   \n7766                                -0.007739   \n\nfeature_name  tBodyGyro-AngleWRTGravity-1      \\\n0                                   -0.464761   \n1                                   -0.732626   \n2                                    0.100699   \n3                                    0.640011   \n4                                    0.693578   \n...                                       ...   \n7762                                 0.206972   \n7763                                -0.879033   \n7764                                 0.864404   \n7765                                 0.936674   \n7766                                -0.056088   \n\nfeature_name  tBodyGyroJerk-AngleWRTGravity-1  \\\n0                                   -0.018446   \n1                                    0.703511   \n2                                    0.808529   \n3                                   -0.485366   \n4                                   -0.615971   \n...                                       ...   \n7762                                -0.425619   \n7763                                 0.400219   \n7764                                 0.701169   \n7765                                -0.589479   \n7766                                -0.616956   \n\nfeature_name  tXAxisAcc-AngleWRTGravity-1      \\\n0                                   -0.841559   \n1                                   -0.845092   \n2                                   -0.849230   \n3                                   -0.848947   \n4                                   -0.848164   \n...                                       ...   \n7762                                -0.792292   \n7763                                -0.772288   \n7764                                -0.779566   \n7765                                -0.785603   \n7766                                -0.783693   \n\nfeature_name  tYAxisAcc-AngleWRTGravity-1      tZAxisAcc-AngleWRTGravity-1      \n0                                    0.179913                        -0.051718  \n1                                    0.180261                        -0.047436  \n2                                    0.180610                        -0.042271  \n3                                    0.181907                        -0.040826  \n4                                    0.185124                        -0.037080  \n...                                       ...                              ...  \n7762                                 0.238580                         0.056020  \n7763                                 0.252653                         0.056252  \n7764                                 0.249121                         0.047071  \n7765                                 0.246409                         0.031700  \n7766                                 0.246785                         0.042981  \n\n[7767 rows x 561 columns]",
      "text/html": "<div>\n<style scoped>\n    .dataframe tbody tr th:only-of-type {\n        vertical-align: middle;\n    }\n\n    .dataframe tbody tr th {\n        vertical-align: top;\n    }\n\n    .dataframe thead th {\n        text-align: right;\n    }\n</style>\n<table border=\"1\" class=\"dataframe\">\n  <thead>\n    <tr style=\"text-align: right;\">\n      <th>feature_name</th>\n      <th>tBodyAcc-Mean-1</th>\n      <th>tBodyAcc-Mean-2</th>\n      <th>tBodyAcc-Mean-3</th>\n      <th>tBodyAcc-STD-1</th>\n      <th>tBodyAcc-STD-2</th>\n      <th>tBodyAcc-STD-3</th>\n      <th>tBodyAcc-Mad-1</th>\n      <th>tBodyAcc-Mad-2</th>\n      <th>tBodyAcc-Mad-3</th>\n      <th>tBodyAcc-Max-1</th>\n      <th>...</th>\n      <th>fBodyGyroJerkMag-MeanFreq-1</th>\n      <th>fBodyGyroJerkMag-Skewness-1</th>\n      <th>fBodyGyroJerkMag-Kurtosis-1</th>\n      <th>tBodyAcc-AngleWRTGravity-1</th>\n      <th>tBodyAccJerk-AngleWRTGravity-1</th>\n      <th>tBodyGyro-AngleWRTGravity-1</th>\n      <th>tBodyGyroJerk-AngleWRTGravity-1</th>\n      <th>tXAxisAcc-AngleWRTGravity-1</th>\n      <th>tYAxisAcc-AngleWRTGravity-1</th>\n      <th>tZAxisAcc-AngleWRTGravity-1</th>\n    </tr>\n  </thead>\n  <tbody>\n    <tr>\n      <th>0</th>\n      <td>0.043580</td>\n      <td>-0.005970</td>\n      <td>-0.035054</td>\n      <td>-0.995381</td>\n      <td>-0.988366</td>\n      <td>-0.937382</td>\n      <td>-0.995007</td>\n      <td>-0.988816</td>\n      <td>-0.953325</td>\n      <td>-0.794796</td>\n      <td>...</td>\n      <td>-0.012236</td>\n      <td>-0.314848</td>\n      <td>-0.713308</td>\n      <td>-0.112754</td>\n      <td>0.030400</td>\n      <td>-0.464761</td>\n      <td>-0.018446</td>\n      <td>-0.841559</td>\n      <td>0.179913</td>\n      <td>-0.051718</td>\n    </tr>\n    <tr>\n      <th>1</th>\n      <td>0.039480</td>\n      <td>-0.002131</td>\n      <td>-0.029067</td>\n      <td>-0.998348</td>\n      <td>-0.982945</td>\n      <td>-0.971273</td>\n      <td>-0.998702</td>\n      <td>-0.983315</td>\n      <td>-0.974000</td>\n      <td>-0.802537</td>\n      <td>...</td>\n      <td>0.202804</td>\n      <td>-0.603199</td>\n      <td>-0.860677</td>\n      <td>0.053477</td>\n      <td>-0.007435</td>\n      <td>-0.732626</td>\n      <td>0.703511</td>\n      <td>-0.845092</td>\n      <td>0.180261</td>\n      <td>-0.047436</td>\n    </tr>\n    <tr>\n      <th>2</th>\n      <td>0.039978</td>\n      <td>-0.005153</td>\n      <td>-0.022651</td>\n      <td>-0.995482</td>\n      <td>-0.977314</td>\n      <td>-0.984760</td>\n      <td>-0.996415</td>\n      <td>-0.975835</td>\n      <td>-0.985973</td>\n      <td>-0.798477</td>\n      <td>...</td>\n      <td>0.440079</td>\n      <td>-0.404427</td>\n      <td>-0.761847</td>\n      <td>-0.118559</td>\n      <td>0.177899</td>\n      <td>0.100699</td>\n      <td>0.808529</td>\n      <td>-0.849230</td>\n      <td>0.180610</td>\n      <td>-0.042271</td>\n    </tr>\n    <tr>\n      <th>3</th>\n      <td>0.039785</td>\n      <td>-0.011809</td>\n      <td>-0.028916</td>\n      <td>-0.996194</td>\n      <td>-0.988569</td>\n      <td>-0.993256</td>\n      <td>-0.996994</td>\n      <td>-0.988526</td>\n      <td>-0.993135</td>\n      <td>-0.798477</td>\n      <td>...</td>\n      <td>0.430891</td>\n      <td>-0.138373</td>\n      <td>-0.491604</td>\n      <td>-0.036788</td>\n      <td>-0.012892</td>\n      <td>0.640011</td>\n      <td>-0.485366</td>\n      <td>-0.848947</td>\n      <td>0.181907</td>\n      <td>-0.040826</td>\n    </tr>\n    <tr>\n      <th>4</th>\n      <td>0.038758</td>\n      <td>-0.002289</td>\n      <td>-0.023863</td>\n      <td>-0.998241</td>\n      <td>-0.986774</td>\n      <td>-0.993115</td>\n      <td>-0.998216</td>\n      <td>-0.986479</td>\n      <td>-0.993825</td>\n      <td>-0.801982</td>\n      <td>...</td>\n      <td>0.137735</td>\n      <td>-0.366214</td>\n      <td>-0.702490</td>\n      <td>0.123320</td>\n      <td>0.122542</td>\n      <td>0.693578</td>\n      <td>-0.615971</td>\n      <td>-0.848164</td>\n      <td>0.185124</td>\n      <td>-0.037080</td>\n    </tr>\n    <tr>\n      <th>...</th>\n      <td>...</td>\n      <td>...</td>\n      <td>...</td>\n      <td>...</td>\n      <td>...</td>\n      <td>...</td>\n      <td>...</td>\n      <td>...</td>\n      <td>...</td>\n      <td>...</td>\n      <td>...</td>\n      <td>...</td>\n      <td>...</td>\n      <td>...</td>\n      <td>...</td>\n      <td>...</td>\n      <td>...</td>\n      <td>...</td>\n      <td>...</td>\n      <td>...</td>\n      <td>...</td>\n    </tr>\n    <tr>\n      <th>7762</th>\n      <td>0.048048</td>\n      <td>-0.042445</td>\n      <td>-0.065884</td>\n      <td>-0.195448</td>\n      <td>-0.278326</td>\n      <td>-0.219954</td>\n      <td>-0.282233</td>\n      <td>-0.305861</td>\n      <td>-0.357803</td>\n      <td>0.267874</td>\n      <td>...</td>\n      <td>-0.008381</td>\n      <td>-0.596760</td>\n      <td>-0.879026</td>\n      <td>-0.190437</td>\n      <td>0.829718</td>\n      <td>0.206972</td>\n      <td>-0.425619</td>\n      <td>-0.792292</td>\n      <td>0.238580</td>\n      <td>0.056020</td>\n    </tr>\n    <tr>\n      <th>7763</th>\n      <td>0.037639</td>\n      <td>0.006430</td>\n      <td>-0.044345</td>\n      <td>-0.235372</td>\n      <td>-0.302680</td>\n      <td>-0.232843</td>\n      <td>-0.322483</td>\n      <td>-0.354464</td>\n      <td>-0.345592</td>\n      <td>0.181271</td>\n      <td>...</td>\n      <td>0.209452</td>\n      <td>-0.404418</td>\n      <td>-0.684496</td>\n      <td>0.064907</td>\n      <td>0.875679</td>\n      <td>-0.879033</td>\n      <td>0.400219</td>\n      <td>-0.772288</td>\n      <td>0.252653</td>\n      <td>0.056252</td>\n    </tr>\n    <tr>\n      <th>7764</th>\n      <td>0.037451</td>\n      <td>-0.002724</td>\n      <td>0.021009</td>\n      <td>-0.218281</td>\n      <td>-0.378082</td>\n      <td>-0.076950</td>\n      <td>-0.304446</td>\n      <td>-0.400661</td>\n      <td>-0.193071</td>\n      <td>0.113141</td>\n      <td>...</td>\n      <td>0.237003</td>\n      <td>0.000207</td>\n      <td>-0.317314</td>\n      <td>0.052806</td>\n      <td>-0.266724</td>\n      <td>0.864404</td>\n      <td>0.701169</td>\n      <td>-0.779566</td>\n      <td>0.249121</td>\n      <td>0.047071</td>\n    </tr>\n    <tr>\n      <th>7765</th>\n      <td>0.044011</td>\n      <td>-0.004536</td>\n      <td>-0.051242</td>\n      <td>-0.219202</td>\n      <td>-0.383350</td>\n      <td>-0.081035</td>\n      <td>-0.310419</td>\n      <td>-0.380233</td>\n      <td>-0.201007</td>\n      <td>0.166671</td>\n      <td>...</td>\n      <td>0.069366</td>\n      <td>0.037919</td>\n      <td>-0.356579</td>\n      <td>-0.101360</td>\n      <td>0.700740</td>\n      <td>0.936674</td>\n      <td>-0.589479</td>\n      <td>-0.785603</td>\n      <td>0.246409</td>\n      <td>0.031700</td>\n    </tr>\n    <tr>\n      <th>7766</th>\n      <td>0.068954</td>\n      <td>0.001810</td>\n      <td>-0.080323</td>\n      <td>-0.269336</td>\n      <td>-0.366553</td>\n      <td>-0.147294</td>\n      <td>-0.377332</td>\n      <td>-0.360597</td>\n      <td>-0.255505</td>\n      <td>0.321881</td>\n      <td>...</td>\n      <td>0.002496</td>\n      <td>-0.400831</td>\n      <td>-0.742972</td>\n      <td>-0.280088</td>\n      <td>-0.007739</td>\n      <td>-0.056088</td>\n      <td>-0.616956</td>\n      <td>-0.783693</td>\n      <td>0.246785</td>\n      <td>0.042981</td>\n    </tr>\n  </tbody>\n</table>\n<p>7767 rows × 561 columns</p>\n</div>"
     },
     "execution_count": 16,
     "metadata": {},
     "output_type": "execute_result"
    }
   ],
   "source": [
    "X_train = pd.read_csv('/Users/choijaewoo/ml-data/human_activity/Train/X_train.txt' ,\n",
    "                      header = None ,\n",
    "                      sep    = '\\s+')\n",
    "X_train.columns = feature_names.loc[ :  , 'feature_name']\n",
    "X_train"
   ],
   "metadata": {
    "collapsed": false,
    "pycharm": {
     "name": "#%%\n"
    }
   }
  },
  {
   "cell_type": "code",
   "execution_count": 17,
   "outputs": [
    {
     "data": {
      "text/plain": "      target\n0          5\n1          5\n2          5\n3          5\n4          5\n...      ...\n7762       2\n7763       2\n7764       2\n7765       2\n7766       2\n\n[7767 rows x 1 columns]",
      "text/html": "<div>\n<style scoped>\n    .dataframe tbody tr th:only-of-type {\n        vertical-align: middle;\n    }\n\n    .dataframe tbody tr th {\n        vertical-align: top;\n    }\n\n    .dataframe thead th {\n        text-align: right;\n    }\n</style>\n<table border=\"1\" class=\"dataframe\">\n  <thead>\n    <tr style=\"text-align: right;\">\n      <th></th>\n      <th>target</th>\n    </tr>\n  </thead>\n  <tbody>\n    <tr>\n      <th>0</th>\n      <td>5</td>\n    </tr>\n    <tr>\n      <th>1</th>\n      <td>5</td>\n    </tr>\n    <tr>\n      <th>2</th>\n      <td>5</td>\n    </tr>\n    <tr>\n      <th>3</th>\n      <td>5</td>\n    </tr>\n    <tr>\n      <th>4</th>\n      <td>5</td>\n    </tr>\n    <tr>\n      <th>...</th>\n      <td>...</td>\n    </tr>\n    <tr>\n      <th>7762</th>\n      <td>2</td>\n    </tr>\n    <tr>\n      <th>7763</th>\n      <td>2</td>\n    </tr>\n    <tr>\n      <th>7764</th>\n      <td>2</td>\n    </tr>\n    <tr>\n      <th>7765</th>\n      <td>2</td>\n    </tr>\n    <tr>\n      <th>7766</th>\n      <td>2</td>\n    </tr>\n  </tbody>\n</table>\n<p>7767 rows × 1 columns</p>\n</div>"
     },
     "execution_count": 17,
     "metadata": {},
     "output_type": "execute_result"
    }
   ],
   "source": [
    "y_train = pd.read_csv('/Users/choijaewoo/ml-data/human_activity/Train/y_train.txt' ,\n",
    "                      header = None ,\n",
    "                      sep    = '\\s+' ,\n",
    "                      names  = ['target'])\n",
    "y_train"
   ],
   "metadata": {
    "collapsed": false,
    "pycharm": {
     "name": "#%%\n"
    }
   }
  },
  {
   "cell_type": "code",
   "execution_count": null,
   "outputs": [],
   "source": [],
   "metadata": {
    "collapsed": false,
    "pycharm": {
     "name": "#%%\n"
    }
   }
  },
  {
   "cell_type": "code",
   "execution_count": null,
   "outputs": [],
   "source": [],
   "metadata": {
    "collapsed": false,
    "pycharm": {
     "name": "#%%\n"
    }
   }
  },
  {
   "cell_type": "code",
   "execution_count": null,
   "outputs": [],
   "source": [],
   "metadata": {
    "collapsed": false,
    "pycharm": {
     "name": "#%%\n"
    }
   }
  }
 ],
 "metadata": {
  "kernelspec": {
   "display_name": "Python 3",
   "language": "python",
   "name": "python3"
  },
  "language_info": {
   "codemirror_mode": {
    "name": "ipython",
    "version": 2
   },
   "file_extension": ".py",
   "mimetype": "text/x-python",
   "name": "python",
   "nbconvert_exporter": "python",
   "pygments_lexer": "ipython2",
   "version": "2.7.6"
  }
 },
 "nbformat": 4,
 "nbformat_minor": 0
}