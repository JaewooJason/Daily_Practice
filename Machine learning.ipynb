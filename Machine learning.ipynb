{
 "cells": [
  {
   "cell_type": "code",
   "execution_count": 1,
   "metadata": {
    "collapsed": true
   },
   "outputs": [
    {
     "data": {
      "text/plain": "'\\n- machine learning 은 데이터를 기반으로 패턴을 학습하고 결과를 추론하는 알고리즘 기법\\n- 지도 학습(supervised learning), 비지도 학습(unsupervised leanring), 강화학습(reinforcement learning)으로 3가지로 나뉘게 된다\\n- 지도 학습: 분류(Classification), 회귀(regression)\\n- 비지도 학습: 군집화(클러스터링), 차원축소(PCA)\\n\\n머신러닝에서 기본으로 알아야 하는 용어\\n\\nfeature : 머신러닝에서 데이터를 피쳐로 말한다. *데이터의 일반속성\\n결정값을 의미 하는 용어: target, label, class, 결정값이라고 말하면 여기서 결정값은 정답데이터를 의미한다.\\n\\n'"
     },
     "execution_count": 1,
     "metadata": {},
     "output_type": "execute_result"
    }
   ],
   "source": [
    "'''\n",
    "- machine learning 은 데이터를 기반으로 패턴을 학습하고 결과를 추론하는 알고리즘 기법\n",
    "- 지도 학습(supervised learning), 비지도 학습(unsupervised leanring), 강화학습(reinforcement learning)으로 3가지로 나뉘게 된다\n",
    "- 지도 학습: 분류(Classification), 회귀(regression)\n",
    "- 비지도 학습: 군집화(클러스터링), 차원축소(PCA)\n",
    "\n",
    "머신러닝에서 기본으로 알아야 하는 용어\n",
    "\n",
    "feature : 머신러닝에서 데이터를 피쳐로 말한다. *데이터의 일반속성\n",
    "결정값을 의미 하는 용어: target, label, class, 결정값이라고 말하면 여기서 결정값은 정답데이터를 의미한다.\n",
    "\n",
    "'''"
   ]
  },
  {
   "cell_type": "code",
   "execution_count": 39,
   "outputs": [
    {
     "data": {
      "text/plain": "'0.24.2'"
     },
     "execution_count": 39,
     "metadata": {},
     "output_type": "execute_result"
    }
   ],
   "source": [
    "import numpy  as np\n",
    "import pandas as pd\n",
    "\n",
    "# 시각화\n",
    "import matplotlib.pyplot as plt\n",
    "%matplotlib inline\n",
    "\n",
    "import seaborn as sns\n",
    "\n",
    "import json\n",
    "\n",
    "import warnings\n",
    "warnings.filterwarnings(action='ignore')\n",
    "\n",
    "from datetime import date, datetime, timedelta\n",
    "from dateutil.parser import parse\n",
    "\n",
    "\n",
    "# 한글 폰트 문제 해결\n",
    "import platform\n",
    "\n",
    "from matplotlib import font_manager, rc\n",
    "\n",
    "if platform.system() == 'Darwin':\n",
    "    plt.rc('font', family='AppleGothic')\n",
    "elif platform.system() == 'Windows':\n",
    "    path = \"c:/Windows/Fonts/malgun.ttf\"\n",
    "    font_name = font_manager.FontProperties(fname=path).get_name()\n",
    "    plt.rc('font', family=font_name)\n",
    "else:\n",
    "    print('Unknown system... sorry~~~~')\n",
    "\n",
    "\n",
    "# 차트 축 <- 음수 부호 지원\n",
    "import matplotlib\n",
    "matplotlib.rcParams['axes.unicode_minus'] = False\n",
    "\n",
    "\n",
    "# crawling\n",
    "from bs4 import BeautifulSoup\n",
    "from urllib.request import urlopen , urlretrieve\n",
    "from urllib.error   import HTTPError\n",
    "from urllib.error   import URLError\n",
    "\n",
    "import requests\n",
    "import re\n",
    "\n",
    "from selenium import webdriver\n",
    "\n",
    "from time    import sleep , time\n",
    "from random  import randint\n",
    "from IPython.core.display import clear_output\n",
    "\n",
    "# 비정형 디비\n",
    "# import pymongo as mongo\n",
    "\n",
    "# print('numpy version  - ' , np.__version__)\n",
    "# print('pandas version - ' , pd.__version__)\n",
    "\n",
    "# conda install -c conda-forge python-graphviz\n",
    "# pip install graphviz\n",
    "\n",
    "import graphviz\n",
    "import missingno as msno\n",
    "\n",
    "# ml\n",
    "import sklearn\n",
    "from   sklearn.datasets import load_iris , load_breast_cancer\n",
    "\n",
    "from   sklearn.model_selection import train_test_split , KFold , StratifiedKFold, cross_val_score , cross_validate , GridSearchCV\n",
    "from   sklearn.tree            import DecisionTreeClassifier , export_graphviz\n",
    "from   sklearn.metrics         import accuracy_score\n",
    "from   sklearn.preprocessing   import LabelEncoder , OneHotEncoder , MinMaxScaler , StandardScaler\n",
    "from   sklearn.impute          import SimpleImputer\n",
    "sklearn.__version__"
   ],
   "metadata": {
    "collapsed": false,
    "pycharm": {
     "name": "#%%\n"
    }
   }
  },
  {
   "cell_type": "code",
   "execution_count": 6,
   "outputs": [
    {
     "name": "stdout",
     "output_type": "stream",
     "text": [
      "type - <class 'sklearn.utils.Bunch'>\n",
      "key -  dict_keys(['data', 'target', 'frame', 'target_names', 'DESCR', 'feature_names', 'filename'])\n"
     ]
    }
   ],
   "source": [
    "iris = load_iris()\n",
    "print('type -', type(iris))\n",
    "print('key - ', iris.keys())"
   ],
   "metadata": {
    "collapsed": false,
    "pycharm": {
     "name": "#%%\n"
    }
   }
  },
  {
   "cell_type": "code",
   "execution_count": 7,
   "outputs": [
    {
     "data": {
      "text/plain": "array([[5.1, 3.5, 1.4, 0.2],\n       [4.9, 3. , 1.4, 0.2],\n       [4.7, 3.2, 1.3, 0.2],\n       [4.6, 3.1, 1.5, 0.2],\n       [5. , 3.6, 1.4, 0.2],\n       [5.4, 3.9, 1.7, 0.4],\n       [4.6, 3.4, 1.4, 0.3],\n       [5. , 3.4, 1.5, 0.2],\n       [4.4, 2.9, 1.4, 0.2],\n       [4.9, 3.1, 1.5, 0.1],\n       [5.4, 3.7, 1.5, 0.2],\n       [4.8, 3.4, 1.6, 0.2],\n       [4.8, 3. , 1.4, 0.1],\n       [4.3, 3. , 1.1, 0.1],\n       [5.8, 4. , 1.2, 0.2],\n       [5.7, 4.4, 1.5, 0.4],\n       [5.4, 3.9, 1.3, 0.4],\n       [5.1, 3.5, 1.4, 0.3],\n       [5.7, 3.8, 1.7, 0.3],\n       [5.1, 3.8, 1.5, 0.3],\n       [5.4, 3.4, 1.7, 0.2],\n       [5.1, 3.7, 1.5, 0.4],\n       [4.6, 3.6, 1. , 0.2],\n       [5.1, 3.3, 1.7, 0.5],\n       [4.8, 3.4, 1.9, 0.2],\n       [5. , 3. , 1.6, 0.2],\n       [5. , 3.4, 1.6, 0.4],\n       [5.2, 3.5, 1.5, 0.2],\n       [5.2, 3.4, 1.4, 0.2],\n       [4.7, 3.2, 1.6, 0.2],\n       [4.8, 3.1, 1.6, 0.2],\n       [5.4, 3.4, 1.5, 0.4],\n       [5.2, 4.1, 1.5, 0.1],\n       [5.5, 4.2, 1.4, 0.2],\n       [4.9, 3.1, 1.5, 0.2],\n       [5. , 3.2, 1.2, 0.2],\n       [5.5, 3.5, 1.3, 0.2],\n       [4.9, 3.6, 1.4, 0.1],\n       [4.4, 3. , 1.3, 0.2],\n       [5.1, 3.4, 1.5, 0.2],\n       [5. , 3.5, 1.3, 0.3],\n       [4.5, 2.3, 1.3, 0.3],\n       [4.4, 3.2, 1.3, 0.2],\n       [5. , 3.5, 1.6, 0.6],\n       [5.1, 3.8, 1.9, 0.4],\n       [4.8, 3. , 1.4, 0.3],\n       [5.1, 3.8, 1.6, 0.2],\n       [4.6, 3.2, 1.4, 0.2],\n       [5.3, 3.7, 1.5, 0.2],\n       [5. , 3.3, 1.4, 0.2],\n       [7. , 3.2, 4.7, 1.4],\n       [6.4, 3.2, 4.5, 1.5],\n       [6.9, 3.1, 4.9, 1.5],\n       [5.5, 2.3, 4. , 1.3],\n       [6.5, 2.8, 4.6, 1.5],\n       [5.7, 2.8, 4.5, 1.3],\n       [6.3, 3.3, 4.7, 1.6],\n       [4.9, 2.4, 3.3, 1. ],\n       [6.6, 2.9, 4.6, 1.3],\n       [5.2, 2.7, 3.9, 1.4],\n       [5. , 2. , 3.5, 1. ],\n       [5.9, 3. , 4.2, 1.5],\n       [6. , 2.2, 4. , 1. ],\n       [6.1, 2.9, 4.7, 1.4],\n       [5.6, 2.9, 3.6, 1.3],\n       [6.7, 3.1, 4.4, 1.4],\n       [5.6, 3. , 4.5, 1.5],\n       [5.8, 2.7, 4.1, 1. ],\n       [6.2, 2.2, 4.5, 1.5],\n       [5.6, 2.5, 3.9, 1.1],\n       [5.9, 3.2, 4.8, 1.8],\n       [6.1, 2.8, 4. , 1.3],\n       [6.3, 2.5, 4.9, 1.5],\n       [6.1, 2.8, 4.7, 1.2],\n       [6.4, 2.9, 4.3, 1.3],\n       [6.6, 3. , 4.4, 1.4],\n       [6.8, 2.8, 4.8, 1.4],\n       [6.7, 3. , 5. , 1.7],\n       [6. , 2.9, 4.5, 1.5],\n       [5.7, 2.6, 3.5, 1. ],\n       [5.5, 2.4, 3.8, 1.1],\n       [5.5, 2.4, 3.7, 1. ],\n       [5.8, 2.7, 3.9, 1.2],\n       [6. , 2.7, 5.1, 1.6],\n       [5.4, 3. , 4.5, 1.5],\n       [6. , 3.4, 4.5, 1.6],\n       [6.7, 3.1, 4.7, 1.5],\n       [6.3, 2.3, 4.4, 1.3],\n       [5.6, 3. , 4.1, 1.3],\n       [5.5, 2.5, 4. , 1.3],\n       [5.5, 2.6, 4.4, 1.2],\n       [6.1, 3. , 4.6, 1.4],\n       [5.8, 2.6, 4. , 1.2],\n       [5. , 2.3, 3.3, 1. ],\n       [5.6, 2.7, 4.2, 1.3],\n       [5.7, 3. , 4.2, 1.2],\n       [5.7, 2.9, 4.2, 1.3],\n       [6.2, 2.9, 4.3, 1.3],\n       [5.1, 2.5, 3. , 1.1],\n       [5.7, 2.8, 4.1, 1.3],\n       [6.3, 3.3, 6. , 2.5],\n       [5.8, 2.7, 5.1, 1.9],\n       [7.1, 3. , 5.9, 2.1],\n       [6.3, 2.9, 5.6, 1.8],\n       [6.5, 3. , 5.8, 2.2],\n       [7.6, 3. , 6.6, 2.1],\n       [4.9, 2.5, 4.5, 1.7],\n       [7.3, 2.9, 6.3, 1.8],\n       [6.7, 2.5, 5.8, 1.8],\n       [7.2, 3.6, 6.1, 2.5],\n       [6.5, 3.2, 5.1, 2. ],\n       [6.4, 2.7, 5.3, 1.9],\n       [6.8, 3. , 5.5, 2.1],\n       [5.7, 2.5, 5. , 2. ],\n       [5.8, 2.8, 5.1, 2.4],\n       [6.4, 3.2, 5.3, 2.3],\n       [6.5, 3. , 5.5, 1.8],\n       [7.7, 3.8, 6.7, 2.2],\n       [7.7, 2.6, 6.9, 2.3],\n       [6. , 2.2, 5. , 1.5],\n       [6.9, 3.2, 5.7, 2.3],\n       [5.6, 2.8, 4.9, 2. ],\n       [7.7, 2.8, 6.7, 2. ],\n       [6.3, 2.7, 4.9, 1.8],\n       [6.7, 3.3, 5.7, 2.1],\n       [7.2, 3.2, 6. , 1.8],\n       [6.2, 2.8, 4.8, 1.8],\n       [6.1, 3. , 4.9, 1.8],\n       [6.4, 2.8, 5.6, 2.1],\n       [7.2, 3. , 5.8, 1.6],\n       [7.4, 2.8, 6.1, 1.9],\n       [7.9, 3.8, 6.4, 2. ],\n       [6.4, 2.8, 5.6, 2.2],\n       [6.3, 2.8, 5.1, 1.5],\n       [6.1, 2.6, 5.6, 1.4],\n       [7.7, 3. , 6.1, 2.3],\n       [6.3, 3.4, 5.6, 2.4],\n       [6.4, 3.1, 5.5, 1.8],\n       [6. , 3. , 4.8, 1.8],\n       [6.9, 3.1, 5.4, 2.1],\n       [6.7, 3.1, 5.6, 2.4],\n       [6.9, 3.1, 5.1, 2.3],\n       [5.8, 2.7, 5.1, 1.9],\n       [6.8, 3.2, 5.9, 2.3],\n       [6.7, 3.3, 5.7, 2.5],\n       [6.7, 3. , 5.2, 2.3],\n       [6.3, 2.5, 5. , 1.9],\n       [6.5, 3. , 5.2, 2. ],\n       [6.2, 3.4, 5.4, 2.3],\n       [5.9, 3. , 5.1, 1.8]])"
     },
     "execution_count": 7,
     "metadata": {},
     "output_type": "execute_result"
    }
   ],
   "source": [
    "iris.data"
   ],
   "metadata": {
    "collapsed": false,
    "pycharm": {
     "name": "#%%\n"
    }
   }
  },
  {
   "cell_type": "code",
   "execution_count": 8,
   "outputs": [
    {
     "data": {
      "text/plain": "array([0, 0, 0, 0, 0, 0, 0, 0, 0, 0, 0, 0, 0, 0, 0, 0, 0, 0, 0, 0, 0, 0,\n       0, 0, 0, 0, 0, 0, 0, 0, 0, 0, 0, 0, 0, 0, 0, 0, 0, 0, 0, 0, 0, 0,\n       0, 0, 0, 0, 0, 0, 1, 1, 1, 1, 1, 1, 1, 1, 1, 1, 1, 1, 1, 1, 1, 1,\n       1, 1, 1, 1, 1, 1, 1, 1, 1, 1, 1, 1, 1, 1, 1, 1, 1, 1, 1, 1, 1, 1,\n       1, 1, 1, 1, 1, 1, 1, 1, 1, 1, 1, 1, 2, 2, 2, 2, 2, 2, 2, 2, 2, 2,\n       2, 2, 2, 2, 2, 2, 2, 2, 2, 2, 2, 2, 2, 2, 2, 2, 2, 2, 2, 2, 2, 2,\n       2, 2, 2, 2, 2, 2, 2, 2, 2, 2, 2, 2, 2, 2, 2, 2, 2, 2])"
     },
     "execution_count": 8,
     "metadata": {},
     "output_type": "execute_result"
    }
   ],
   "source": [
    "iris.target\n"
   ],
   "metadata": {
    "collapsed": false,
    "pycharm": {
     "name": "#%%\n"
    }
   }
  },
  {
   "cell_type": "code",
   "execution_count": 9,
   "outputs": [
    {
     "data": {
      "text/plain": "['sepal length (cm)',\n 'sepal width (cm)',\n 'petal length (cm)',\n 'petal width (cm)']"
     },
     "execution_count": 9,
     "metadata": {},
     "output_type": "execute_result"
    }
   ],
   "source": [
    "iris.feature_names"
   ],
   "metadata": {
    "collapsed": false,
    "pycharm": {
     "name": "#%%\n"
    }
   }
  },
  {
   "cell_type": "code",
   "execution_count": 10,
   "outputs": [
    {
     "name": "stdout",
     "output_type": "stream",
     "text": [
      "feature, target를 이용해서 데이터프레임을 만들어 보자\n"
     ]
    },
    {
     "data": {
      "text/plain": "     sepal length (cm)  sepal width (cm)  petal length (cm)  petal width (cm)  \\\n0                  5.1               3.5                1.4               0.2   \n1                  4.9               3.0                1.4               0.2   \n2                  4.7               3.2                1.3               0.2   \n3                  4.6               3.1                1.5               0.2   \n4                  5.0               3.6                1.4               0.2   \n..                 ...               ...                ...               ...   \n145                6.7               3.0                5.2               2.3   \n146                6.3               2.5                5.0               1.9   \n147                6.5               3.0                5.2               2.0   \n148                6.2               3.4                5.4               2.3   \n149                5.9               3.0                5.1               1.8   \n\n     target  \n0         0  \n1         0  \n2         0  \n3         0  \n4         0  \n..      ...  \n145       2  \n146       2  \n147       2  \n148       2  \n149       2  \n\n[150 rows x 5 columns]",
      "text/html": "<div>\n<style scoped>\n    .dataframe tbody tr th:only-of-type {\n        vertical-align: middle;\n    }\n\n    .dataframe tbody tr th {\n        vertical-align: top;\n    }\n\n    .dataframe thead th {\n        text-align: right;\n    }\n</style>\n<table border=\"1\" class=\"dataframe\">\n  <thead>\n    <tr style=\"text-align: right;\">\n      <th></th>\n      <th>sepal length (cm)</th>\n      <th>sepal width (cm)</th>\n      <th>petal length (cm)</th>\n      <th>petal width (cm)</th>\n      <th>target</th>\n    </tr>\n  </thead>\n  <tbody>\n    <tr>\n      <th>0</th>\n      <td>5.1</td>\n      <td>3.5</td>\n      <td>1.4</td>\n      <td>0.2</td>\n      <td>0</td>\n    </tr>\n    <tr>\n      <th>1</th>\n      <td>4.9</td>\n      <td>3.0</td>\n      <td>1.4</td>\n      <td>0.2</td>\n      <td>0</td>\n    </tr>\n    <tr>\n      <th>2</th>\n      <td>4.7</td>\n      <td>3.2</td>\n      <td>1.3</td>\n      <td>0.2</td>\n      <td>0</td>\n    </tr>\n    <tr>\n      <th>3</th>\n      <td>4.6</td>\n      <td>3.1</td>\n      <td>1.5</td>\n      <td>0.2</td>\n      <td>0</td>\n    </tr>\n    <tr>\n      <th>4</th>\n      <td>5.0</td>\n      <td>3.6</td>\n      <td>1.4</td>\n      <td>0.2</td>\n      <td>0</td>\n    </tr>\n    <tr>\n      <th>...</th>\n      <td>...</td>\n      <td>...</td>\n      <td>...</td>\n      <td>...</td>\n      <td>...</td>\n    </tr>\n    <tr>\n      <th>145</th>\n      <td>6.7</td>\n      <td>3.0</td>\n      <td>5.2</td>\n      <td>2.3</td>\n      <td>2</td>\n    </tr>\n    <tr>\n      <th>146</th>\n      <td>6.3</td>\n      <td>2.5</td>\n      <td>5.0</td>\n      <td>1.9</td>\n      <td>2</td>\n    </tr>\n    <tr>\n      <th>147</th>\n      <td>6.5</td>\n      <td>3.0</td>\n      <td>5.2</td>\n      <td>2.0</td>\n      <td>2</td>\n    </tr>\n    <tr>\n      <th>148</th>\n      <td>6.2</td>\n      <td>3.4</td>\n      <td>5.4</td>\n      <td>2.3</td>\n      <td>2</td>\n    </tr>\n    <tr>\n      <th>149</th>\n      <td>5.9</td>\n      <td>3.0</td>\n      <td>5.1</td>\n      <td>1.8</td>\n      <td>2</td>\n    </tr>\n  </tbody>\n</table>\n<p>150 rows × 5 columns</p>\n</div>"
     },
     "execution_count": 10,
     "metadata": {},
     "output_type": "execute_result"
    }
   ],
   "source": [
    "print('feature, target를 이용해서 데이터프레임을 만들어 보자')\n",
    "\n",
    "iris_frm = pd.DataFrame(data = iris.data,\n",
    "                       columns = iris.feature_names)\n",
    "\n",
    "iris_frm['target'] = iris.target\n",
    "iris_frm"
   ],
   "metadata": {
    "collapsed": false,
    "pycharm": {
     "name": "#%%\n"
    }
   }
  },
  {
   "cell_type": "code",
   "execution_count": 11,
   "outputs": [
    {
     "name": "stdout",
     "output_type": "stream",
     "text": [
      "step01 - 데이터세트 분리\n",
      "train data -  [[5.1 3.4 1.5 0.2]\n",
      " [5.7 2.8 4.1 1.3]\n",
      " [5.8 2.6 4.  1.2]\n",
      " [5.  3.6 1.4 0.2]\n",
      " [6.2 2.9 4.3 1.3]\n",
      " [5.3 3.7 1.5 0.2]\n",
      " [5.4 3.7 1.5 0.2]\n",
      " [4.9 3.1 1.5 0.1]\n",
      " [6.1 3.  4.9 1.8]\n",
      " [6.7 3.1 4.7 1.5]\n",
      " [5.6 3.  4.1 1.3]\n",
      " [4.8 3.  1.4 0.1]\n",
      " [5.1 3.7 1.5 0.4]\n",
      " [5.6 3.  4.5 1.5]\n",
      " [5.7 2.5 5.  2. ]\n",
      " [6.  2.2 5.  1.5]\n",
      " [7.7 3.  6.1 2.3]\n",
      " [5.  3.  1.6 0.2]\n",
      " [6.8 3.2 5.9 2.3]\n",
      " [6.3 2.3 4.4 1.3]\n",
      " [7.7 2.6 6.9 2.3]\n",
      " [5.8 2.7 4.1 1. ]\n",
      " [6.4 2.9 4.3 1.3]\n",
      " [5.6 2.7 4.2 1.3]\n",
      " [5.6 2.8 4.9 2. ]\n",
      " [5.5 3.5 1.3 0.2]\n",
      " [6.  2.7 5.1 1.6]\n",
      " [5.6 2.5 3.9 1.1]\n",
      " [6.1 2.8 4.7 1.2]\n",
      " [6.3 2.8 5.1 1.5]\n",
      " [4.4 2.9 1.4 0.2]\n",
      " [5.  3.3 1.4 0.2]\n",
      " [6.8 3.  5.5 2.1]\n",
      " [5.1 3.5 1.4 0.3]\n",
      " [5.7 4.4 1.5 0.4]\n",
      " [6.5 3.  5.8 2.2]\n",
      " [6.1 3.  4.6 1.4]\n",
      " [5.1 3.8 1.6 0.2]\n",
      " [5.  3.5 1.6 0.6]\n",
      " [5.8 2.7 5.1 1.9]\n",
      " [4.9 3.6 1.4 0.1]\n",
      " [4.4 3.  1.3 0.2]\n",
      " [7.2 3.2 6.  1.8]\n",
      " [6.3 2.9 5.6 1.8]\n",
      " [6.1 2.8 4.  1.3]\n",
      " [6.7 3.1 4.4 1.4]\n",
      " [5.9 3.  5.1 1.8]\n",
      " [5.  3.5 1.3 0.3]\n",
      " [5.4 3.9 1.7 0.4]\n",
      " [7.9 3.8 6.4 2. ]\n",
      " [4.9 2.4 3.3 1. ]\n",
      " [4.8 3.1 1.6 0.2]\n",
      " [6.2 3.4 5.4 2.3]\n",
      " [6.4 2.8 5.6 2.2]\n",
      " [4.6 3.6 1.  0.2]\n",
      " [4.7 3.2 1.6 0.2]\n",
      " [7.  3.2 4.7 1.4]\n",
      " [6.7 3.1 5.6 2.4]\n",
      " [5.6 2.9 3.6 1.3]\n",
      " [6.7 2.5 5.8 1.8]\n",
      " [5.2 3.5 1.5 0.2]\n",
      " [5.8 2.7 3.9 1.2]\n",
      " [4.6 3.4 1.4 0.3]\n",
      " [7.1 3.  5.9 2.1]\n",
      " [6.  2.2 4.  1. ]\n",
      " [6.3 2.5 5.  1.9]\n",
      " [6.6 2.9 4.6 1.3]\n",
      " [6.7 3.3 5.7 2.5]\n",
      " [6.  2.9 4.5 1.5]\n",
      " [6.3 2.7 4.9 1.8]\n",
      " [5.8 2.8 5.1 2.4]\n",
      " [5.5 2.6 4.4 1.2]\n",
      " [6.9 3.1 4.9 1.5]\n",
      " [6.4 2.7 5.3 1.9]\n",
      " [6.3 2.5 4.9 1.5]\n",
      " [5.5 4.2 1.4 0.2]\n",
      " [6.5 3.2 5.1 2. ]\n",
      " [6.3 3.4 5.6 2.4]\n",
      " [5.7 3.  4.2 1.2]\n",
      " [5.7 2.8 4.5 1.3]\n",
      " [4.6 3.1 1.5 0.2]\n",
      " [5.1 3.5 1.4 0.2]\n",
      " [7.4 2.8 6.1 1.9]\n",
      " [5.4 3.4 1.7 0.2]\n",
      " [5.9 3.  4.2 1.5]\n",
      " [7.7 3.8 6.7 2.2]\n",
      " [5.2 2.7 3.9 1.4]\n",
      " [4.8 3.  1.4 0.3]\n",
      " [5.2 4.1 1.5 0.1]\n",
      " [5.4 3.4 1.5 0.4]\n",
      " [6.5 3.  5.5 1.8]\n",
      " [6.9 3.2 5.7 2.3]\n",
      " [5.  3.2 1.2 0.2]\n",
      " [5.9 3.2 4.8 1.8]\n",
      " [4.9 2.5 4.5 1.7]\n",
      " [6.4 3.2 5.3 2.3]\n",
      " [6.5 3.  5.2 2. ]\n",
      " [6.7 3.  5.  1.7]\n",
      " [6.5 2.8 4.6 1.5]\n",
      " [6.  3.  4.8 1.8]\n",
      " [6.  3.4 4.5 1.6]\n",
      " [5.1 3.3 1.7 0.5]\n",
      " [7.2 3.  5.8 1.6]\n",
      " [6.4 3.2 4.5 1.5]\n",
      " [5.  3.4 1.5 0.2]\n",
      " [4.9 3.  1.4 0.2]\n",
      " [6.3 3.3 4.7 1.6]\n",
      " [6.7 3.  5.2 2.3]\n",
      " [6.1 2.6 5.6 1.4]\n",
      " [6.9 3.1 5.4 2.1]\n",
      " [5.8 2.7 5.1 1.9]\n",
      " [5.8 4.  1.2 0.2]\n",
      " [5.5 2.5 4.  1.3]\n",
      " [5.7 2.6 3.5 1. ]\n",
      " [6.8 2.8 4.8 1.4]\n",
      " [4.4 3.2 1.3 0.2]\n",
      " [6.2 2.2 4.5 1.5]\n",
      " [5.4 3.9 1.3 0.4]\n",
      " [7.6 3.  6.6 2.1]\n",
      " [5.  3.4 1.6 0.4]]\n",
      "train target -  [0 1 1 0 1 0 0 0 2 1 1 0 0 1 2 2 2 0 2 1 2 1 1 1 2 0 1 1 1 2 0 0 2 0 0 2 1\n",
      " 0 0 2 0 0 2 2 1 1 2 0 0 2 1 0 2 2 0 0 1 2 1 2 0 1 0 2 1 2 1 2 1 2 2 1 1 2\n",
      " 1 0 2 2 1 1 0 0 2 0 1 2 1 0 0 0 2 2 0 1 2 2 2 1 1 2 1 0 2 1 0 0 1 2 2 2 2\n",
      " 0 1 1 1 0 1 0 2 0]\n",
      "\n",
      "train data -  [[5.4 3.  4.5 1.5]\n",
      " [7.7 2.8 6.7 2. ]\n",
      " [5.2 3.4 1.4 0.2]\n",
      " [4.8 3.4 1.9 0.2]\n",
      " [6.6 3.  4.4 1.4]\n",
      " [7.2 3.6 6.1 2.5]\n",
      " [5.5 2.4 3.7 1. ]\n",
      " [5.1 2.5 3.  1.1]\n",
      " [5.5 2.4 3.8 1.1]\n",
      " [6.3 3.3 6.  2.5]\n",
      " [6.7 3.3 5.7 2.1]\n",
      " [4.7 3.2 1.3 0.2]\n",
      " [4.9 3.1 1.5 0.2]\n",
      " [5.1 3.8 1.9 0.4]\n",
      " [6.4 2.8 5.6 2.1]\n",
      " [4.3 3.  1.1 0.1]\n",
      " [5.  2.3 3.3 1. ]\n",
      " [4.5 2.3 1.3 0.3]\n",
      " [6.1 2.9 4.7 1.4]\n",
      " [6.4 3.1 5.5 1.8]\n",
      " [5.1 3.8 1.5 0.3]\n",
      " [5.  2.  3.5 1. ]\n",
      " [6.2 2.8 4.8 1.8]\n",
      " [4.8 3.4 1.6 0.2]\n",
      " [4.6 3.2 1.4 0.2]\n",
      " [5.7 3.8 1.7 0.3]\n",
      " [5.7 2.9 4.2 1.3]\n",
      " [7.3 2.9 6.3 1.8]\n",
      " [6.9 3.1 5.1 2.3]\n",
      " [5.5 2.3 4.  1.3]]\n",
      "train target -  [1 2 0 0 1 2 1 1 1 2 2 0 0 0 2 0 1 0 1 2 0 1 2 0 0 0 1 2 2 1]\n"
     ]
    }
   ],
   "source": [
    "print('step01 - 데이터세트 분리')\n",
    "\n",
    "X_train, X_test, y_train, y_test = train_test_split(iris.data,\n",
    "                iris.target,\n",
    "                test_size = 0.2,\n",
    "                shuffle = True,\n",
    "                random_state = 200) # test_size가 나눈다는 의미 x는 데이터(피쳐) y는 정답 (타켓)\n",
    "print('train data - ', X_train)\n",
    "print('train target - ', y_train)\n",
    "print()\n",
    "print('train data - ', X_test)\n",
    "print('train target - ', y_test)\n"
   ],
   "metadata": {
    "collapsed": false,
    "pycharm": {
     "name": "#%%\n"
    }
   }
  },
  {
   "cell_type": "code",
   "execution_count": 12,
   "outputs": [
    {
     "name": "stdout",
     "output_type": "stream",
     "text": [
      "estimater 생성 및 학습\n"
     ]
    },
    {
     "data": {
      "text/plain": "DecisionTreeClassifier()"
     },
     "execution_count": 12,
     "metadata": {},
     "output_type": "execute_result"
    }
   ],
   "source": [
    "print('estimater 생성 및 학습')\n",
    "dt_model = DecisionTreeClassifier()\n",
    "dt_model.fit(X_train, y_train)"
   ],
   "metadata": {
    "collapsed": false,
    "pycharm": {
     "name": "#%%\n"
    }
   }
  },
  {
   "cell_type": "code",
   "execution_count": 13,
   "outputs": [
    {
     "name": "stdout",
     "output_type": "stream",
     "text": [
      "predict 함수에 테스트 데이터를 넣어서 분류예측 값을 반환 - \n",
      "answer -  [1 2 0 0 1 2 1 1 1 2 2 0 0 0 2 0 1 0 1 2 0 1 2 0 0 0 1 2 2 1]\n",
      "pred [1 2 0 0 1 2 1 1 1 2 2 0 0 0 2 0 1 0 1 2 0 1 2 0 0 0 1 2 2 1]\n"
     ]
    }
   ],
   "source": [
    "print('predict 함수에 테스트 데이터를 넣어서 분류예측 값을 반환 - ')\n",
    "\n",
    "y_pred = dt_model.predict(X_test)\n",
    "print('answer - ', y_test)\n",
    "print('pred', y_pred)"
   ],
   "metadata": {
    "collapsed": false,
    "pycharm": {
     "name": "#%%\n"
    }
   }
  },
  {
   "cell_type": "code",
   "execution_count": 14,
   "outputs": [
    {
     "name": "stdout",
     "output_type": "stream",
     "text": [
      "성능평가 - \n",
      "예측 정확도 -  1.0\n"
     ]
    }
   ],
   "source": [
    "print('성능평가 - ')\n",
    "print('예측 정확도 - ', accuracy_score(y_test, y_pred))"
   ],
   "metadata": {
    "collapsed": false,
    "pycharm": {
     "name": "#%%\n"
    }
   }
  },
  {
   "cell_type": "code",
   "execution_count": 15,
   "outputs": [
    {
     "name": "stdout",
     "output_type": "stream",
     "text": [
      "데이터프레임을 이용한 학습데이터와 테스트 데이터분리후 모델생성 및 예측, 평가를 진행해 본다면 - \n",
      "case02 - \n"
     ]
    },
    {
     "data": {
      "text/plain": "     sepal length (cm)  sepal width (cm)  petal length (cm)  petal width (cm)  \\\n0                  5.1               3.5                1.4               0.2   \n1                  4.9               3.0                1.4               0.2   \n2                  4.7               3.2                1.3               0.2   \n3                  4.6               3.1                1.5               0.2   \n4                  5.0               3.6                1.4               0.2   \n..                 ...               ...                ...               ...   \n145                6.7               3.0                5.2               2.3   \n146                6.3               2.5                5.0               1.9   \n147                6.5               3.0                5.2               2.0   \n148                6.2               3.4                5.4               2.3   \n149                5.9               3.0                5.1               1.8   \n\n     target  \n0         0  \n1         0  \n2         0  \n3         0  \n4         0  \n..      ...  \n145       2  \n146       2  \n147       2  \n148       2  \n149       2  \n\n[150 rows x 5 columns]",
      "text/html": "<div>\n<style scoped>\n    .dataframe tbody tr th:only-of-type {\n        vertical-align: middle;\n    }\n\n    .dataframe tbody tr th {\n        vertical-align: top;\n    }\n\n    .dataframe thead th {\n        text-align: right;\n    }\n</style>\n<table border=\"1\" class=\"dataframe\">\n  <thead>\n    <tr style=\"text-align: right;\">\n      <th></th>\n      <th>sepal length (cm)</th>\n      <th>sepal width (cm)</th>\n      <th>petal length (cm)</th>\n      <th>petal width (cm)</th>\n      <th>target</th>\n    </tr>\n  </thead>\n  <tbody>\n    <tr>\n      <th>0</th>\n      <td>5.1</td>\n      <td>3.5</td>\n      <td>1.4</td>\n      <td>0.2</td>\n      <td>0</td>\n    </tr>\n    <tr>\n      <th>1</th>\n      <td>4.9</td>\n      <td>3.0</td>\n      <td>1.4</td>\n      <td>0.2</td>\n      <td>0</td>\n    </tr>\n    <tr>\n      <th>2</th>\n      <td>4.7</td>\n      <td>3.2</td>\n      <td>1.3</td>\n      <td>0.2</td>\n      <td>0</td>\n    </tr>\n    <tr>\n      <th>3</th>\n      <td>4.6</td>\n      <td>3.1</td>\n      <td>1.5</td>\n      <td>0.2</td>\n      <td>0</td>\n    </tr>\n    <tr>\n      <th>4</th>\n      <td>5.0</td>\n      <td>3.6</td>\n      <td>1.4</td>\n      <td>0.2</td>\n      <td>0</td>\n    </tr>\n    <tr>\n      <th>...</th>\n      <td>...</td>\n      <td>...</td>\n      <td>...</td>\n      <td>...</td>\n      <td>...</td>\n    </tr>\n    <tr>\n      <th>145</th>\n      <td>6.7</td>\n      <td>3.0</td>\n      <td>5.2</td>\n      <td>2.3</td>\n      <td>2</td>\n    </tr>\n    <tr>\n      <th>146</th>\n      <td>6.3</td>\n      <td>2.5</td>\n      <td>5.0</td>\n      <td>1.9</td>\n      <td>2</td>\n    </tr>\n    <tr>\n      <th>147</th>\n      <td>6.5</td>\n      <td>3.0</td>\n      <td>5.2</td>\n      <td>2.0</td>\n      <td>2</td>\n    </tr>\n    <tr>\n      <th>148</th>\n      <td>6.2</td>\n      <td>3.4</td>\n      <td>5.4</td>\n      <td>2.3</td>\n      <td>2</td>\n    </tr>\n    <tr>\n      <th>149</th>\n      <td>5.9</td>\n      <td>3.0</td>\n      <td>5.1</td>\n      <td>1.8</td>\n      <td>2</td>\n    </tr>\n  </tbody>\n</table>\n<p>150 rows × 5 columns</p>\n</div>"
     },
     "execution_count": 15,
     "metadata": {},
     "output_type": "execute_result"
    }
   ],
   "source": [
    "print('데이터프레임을 이용한 학습데이터와 테스트 데이터분리후 모델생성 및 예측, 평가를 진행해 본다면 - ')\n",
    "print('case02 - ')\n",
    "\n",
    "iris_frm"
   ],
   "metadata": {
    "collapsed": false,
    "pycharm": {
     "name": "#%%\n"
    }
   }
  },
  {
   "cell_type": "code",
   "execution_count": 17,
   "outputs": [
    {
     "data": {
      "text/plain": "{'mean_fit_time': array([0.00546503, 0.00275461, 0.00410867, 0.003244  , 0.00558901,\n        0.00213321, 0.00197299, 0.0025866 , 0.00141207, 0.0011495 ,\n        0.00227443, 0.00146468, 0.00097434, 0.00154114, 0.00082493,\n        0.0011723 , 0.00101423, 0.00300662, 0.00424735, 0.00389345,\n        0.0009199 , 0.00113765, 0.00137711, 0.00096488]),\n 'std_fit_time': array([3.84121974e-03, 7.93432442e-04, 1.79031507e-03, 7.71751435e-04,\n        1.46780215e-03, 6.40759925e-04, 4.16234382e-04, 1.58153215e-03,\n        3.50608245e-04, 4.82981880e-05, 1.01724999e-03, 6.29226827e-04,\n        1.09019848e-05, 7.68559760e-04, 3.65939512e-05, 2.64620350e-04,\n        2.71070566e-04, 7.16995464e-04, 1.40652093e-03, 1.26735047e-03,\n        3.41032107e-05, 4.32955375e-04, 3.59379347e-04, 1.58984617e-04]),\n 'mean_score_time': array([0.00237505, 0.00123191, 0.00066145, 0.00202529, 0.00159001,\n        0.00115244, 0.00067933, 0.00074244, 0.00078797, 0.00050481,\n        0.00062172, 0.00074601, 0.00051037, 0.00042661, 0.00031575,\n        0.00053374, 0.00035906, 0.00216611, 0.00154765, 0.00127935,\n        0.00036677, 0.00053747, 0.00037758, 0.00035977]),\n 'std_score_time': array([2.23801718e-03, 5.88787638e-04, 9.06026851e-05, 7.29167130e-04,\n        5.52369524e-04, 5.94694331e-04, 5.12558667e-05, 2.74819240e-04,\n        4.42241893e-04, 1.49436071e-04, 2.20405766e-04, 3.43034102e-04,\n        2.10472192e-04, 7.26036662e-05, 2.79627038e-06, 8.15863903e-05,\n        3.18881322e-05, 1.13660156e-03, 8.21774979e-04, 5.58605420e-04,\n        5.47568580e-05, 2.02088434e-04, 3.30914529e-05, 4.34733250e-05]),\n 'param_criterion': masked_array(data=['gini', 'gini', 'gini', 'gini', 'gini', 'gini', 'gini',\n                    'gini', 'gini', 'gini', 'gini', 'gini', 'entropy',\n                    'entropy', 'entropy', 'entropy', 'entropy', 'entropy',\n                    'entropy', 'entropy', 'entropy', 'entropy', 'entropy',\n                    'entropy'],\n              mask=[False, False, False, False, False, False, False, False,\n                    False, False, False, False, False, False, False, False,\n                    False, False, False, False, False, False, False, False],\n        fill_value='?',\n             dtype=object),\n 'param_max_depth': masked_array(data=[1, 1, 1, 1, 2, 2, 2, 2, 3, 3, 3, 3, 1, 1, 1, 1, 2, 2,\n                    2, 2, 3, 3, 3, 3],\n              mask=[False, False, False, False, False, False, False, False,\n                    False, False, False, False, False, False, False, False,\n                    False, False, False, False, False, False, False, False],\n        fill_value='?',\n             dtype=object),\n 'param_min_samples_split': masked_array(data=[2, 2, 3, 3, 2, 2, 3, 3, 2, 2, 3, 3, 2, 2, 3, 3, 2, 2,\n                    3, 3, 2, 2, 3, 3],\n              mask=[False, False, False, False, False, False, False, False,\n                    False, False, False, False, False, False, False, False,\n                    False, False, False, False, False, False, False, False],\n        fill_value='?',\n             dtype=object),\n 'param_splitter': masked_array(data=['best', 'random', 'best', 'random', 'best', 'random',\n                    'best', 'random', 'best', 'random', 'best', 'random',\n                    'best', 'random', 'best', 'random', 'best', 'random',\n                    'best', 'random', 'best', 'random', 'best', 'random'],\n              mask=[False, False, False, False, False, False, False, False,\n                    False, False, False, False, False, False, False, False,\n                    False, False, False, False, False, False, False, False],\n        fill_value='?',\n             dtype=object),\n 'params': [{'criterion': 'gini',\n   'max_depth': 1,\n   'min_samples_split': 2,\n   'splitter': 'best'},\n  {'criterion': 'gini',\n   'max_depth': 1,\n   'min_samples_split': 2,\n   'splitter': 'random'},\n  {'criterion': 'gini',\n   'max_depth': 1,\n   'min_samples_split': 3,\n   'splitter': 'best'},\n  {'criterion': 'gini',\n   'max_depth': 1,\n   'min_samples_split': 3,\n   'splitter': 'random'},\n  {'criterion': 'gini',\n   'max_depth': 2,\n   'min_samples_split': 2,\n   'splitter': 'best'},\n  {'criterion': 'gini',\n   'max_depth': 2,\n   'min_samples_split': 2,\n   'splitter': 'random'},\n  {'criterion': 'gini',\n   'max_depth': 2,\n   'min_samples_split': 3,\n   'splitter': 'best'},\n  {'criterion': 'gini',\n   'max_depth': 2,\n   'min_samples_split': 3,\n   'splitter': 'random'},\n  {'criterion': 'gini',\n   'max_depth': 3,\n   'min_samples_split': 2,\n   'splitter': 'best'},\n  {'criterion': 'gini',\n   'max_depth': 3,\n   'min_samples_split': 2,\n   'splitter': 'random'},\n  {'criterion': 'gini',\n   'max_depth': 3,\n   'min_samples_split': 3,\n   'splitter': 'best'},\n  {'criterion': 'gini',\n   'max_depth': 3,\n   'min_samples_split': 3,\n   'splitter': 'random'},\n  {'criterion': 'entropy',\n   'max_depth': 1,\n   'min_samples_split': 2,\n   'splitter': 'best'},\n  {'criterion': 'entropy',\n   'max_depth': 1,\n   'min_samples_split': 2,\n   'splitter': 'random'},\n  {'criterion': 'entropy',\n   'max_depth': 1,\n   'min_samples_split': 3,\n   'splitter': 'best'},\n  {'criterion': 'entropy',\n   'max_depth': 1,\n   'min_samples_split': 3,\n   'splitter': 'random'},\n  {'criterion': 'entropy',\n   'max_depth': 2,\n   'min_samples_split': 2,\n   'splitter': 'best'},\n  {'criterion': 'entropy',\n   'max_depth': 2,\n   'min_samples_split': 2,\n   'splitter': 'random'},\n  {'criterion': 'entropy',\n   'max_depth': 2,\n   'min_samples_split': 3,\n   'splitter': 'best'},\n  {'criterion': 'entropy',\n   'max_depth': 2,\n   'min_samples_split': 3,\n   'splitter': 'random'},\n  {'criterion': 'entropy',\n   'max_depth': 3,\n   'min_samples_split': 2,\n   'splitter': 'best'},\n  {'criterion': 'entropy',\n   'max_depth': 3,\n   'min_samples_split': 2,\n   'splitter': 'random'},\n  {'criterion': 'entropy',\n   'max_depth': 3,\n   'min_samples_split': 3,\n   'splitter': 'best'},\n  {'criterion': 'entropy',\n   'max_depth': 3,\n   'min_samples_split': 3,\n   'splitter': 'random'}],\n 'split0_test_score': array([0.68421053, 0.68421053, 0.68421053, 0.68421053, 0.86842105,\n        0.71052632, 0.86842105, 0.71052632, 0.94736842, 0.81578947,\n        0.94736842, 0.81578947, 0.68421053, 0.68421053, 0.68421053,\n        0.68421053, 0.86842105, 0.71052632, 0.86842105, 0.71052632,\n        0.94736842, 0.81578947, 0.94736842, 0.81578947]),\n 'split1_test_score': array([0.67567568, 0.67567568, 0.67567568, 0.67567568, 0.94594595,\n        0.72972973, 0.94594595, 0.72972973, 0.94594595, 0.83783784,\n        0.94594595, 0.83783784, 0.67567568, 0.67567568, 0.67567568,\n        0.67567568, 0.94594595, 0.72972973, 0.94594595, 0.72972973,\n        0.94594595, 0.83783784, 0.94594595, 0.83783784]),\n 'split2_test_score': array([0.64864865, 0.64864865, 0.64864865, 0.64864865, 0.89189189,\n        0.67567568, 0.89189189, 0.67567568, 0.94594595, 0.83783784,\n        0.94594595, 0.83783784, 0.64864865, 0.64864865, 0.64864865,\n        0.64864865, 0.89189189, 0.67567568, 0.89189189, 0.67567568,\n        0.94594595, 0.83783784, 0.94594595, 0.83783784]),\n 'mean_test_score': array([0.66951162, 0.66951162, 0.66951162, 0.66951162, 0.9020863 ,\n        0.70531057, 0.9020863 , 0.70531057, 0.9464201 , 0.83048838,\n        0.9464201 , 0.83048838, 0.66951162, 0.66951162, 0.66951162,\n        0.66951162, 0.9020863 , 0.70531057, 0.9020863 , 0.70531057,\n        0.9464201 , 0.83048838, 0.9464201 , 0.83048838]),\n 'std_test_score': array([0.01515824, 0.01515824, 0.01515824, 0.01515824, 0.03245994,\n        0.02237354, 0.03245994, 0.02237354, 0.00067056, 0.0103937 ,\n        0.00067056, 0.0103937 , 0.01515824, 0.01515824, 0.01515824,\n        0.01515824, 0.03245994, 0.02237354, 0.03245994, 0.02237354,\n        0.00067056, 0.0103937 , 0.00067056, 0.0103937 ]),\n 'rank_test_score': array([17, 17, 17, 17,  5, 13,  5, 13,  1,  9,  1,  9, 17, 17, 17, 17,  5,\n        13,  5, 13,  1,  9,  1,  9], dtype=int32)}"
     },
     "execution_count": 17,
     "metadata": {},
     "output_type": "execute_result"
    }
   ],
   "source": [
    "params = {\n",
    "    'criterion' : ['gini' , 'entropy'] ,\n",
    "    'splitter'  : ['best' , 'random']  ,\n",
    "    'max_depth' : [1 , 2 , 3 ] ,\n",
    "    'min_samples_split' : [2 , 3]\n",
    "}\n",
    "\n",
    "iris = load_iris()\n",
    "\n",
    "X_train , X_test , y_train , y_test = train_test_split(iris.data   ,\n",
    "                                                       iris.target ,\n",
    "                                                       test_size    = 0.25 ,\n",
    "                                                       shuffle      = True ,\n",
    "                                                       random_state = 200 )\n",
    "\n",
    "\n",
    "dt_model = DecisionTreeClassifier(random_state = 100)\n",
    "\n",
    "# refit -> 가장 좋은 파라미터 설정으로 재학습 시킴\n",
    "grid_tree_model = GridSearchCV(dt_model , param_grid = params , cv = 3 , refit = True)\n",
    "grid_tree_model.fit(X_train , y_train)\n",
    "grid_tree_model.cv_results_"
   ],
   "metadata": {
    "collapsed": false,
    "pycharm": {
     "name": "#%%\n"
    }
   }
  },
  {
   "cell_type": "code",
   "execution_count": 18,
   "outputs": [
    {
     "name": "stdout",
     "output_type": "stream",
     "text": [
      "최적 파라미터 -  {'criterion': 'gini', 'max_depth': 3, 'min_samples_split': 2, 'splitter': 'best'}\n",
      "최고 점수     -  0.9464201043148411\n"
     ]
    }
   ],
   "source": [
    "print('최적 파라미터 - ' , grid_tree_model.best_params_ )\n",
    "print('최고 점수     - ' , grid_tree_model.best_score_ )"
   ],
   "metadata": {
    "collapsed": false,
    "pycharm": {
     "name": "#%%\n"
    }
   }
  },
  {
   "cell_type": "code",
   "execution_count": 19,
   "outputs": [
    {
     "name": "stdout",
     "output_type": "stream",
     "text": [
      "GridSearchCV 테스트 정확도 -  0.9736842105263158\n",
      "\n",
      "answer -  [1 2 0 0 1 2 1 1 1 2 2 0 0 0 2 0 1 0 1 2 0 1 2 0 0 0 1 2 2 1 0 1 1 0 1 0 0\n",
      " 0]\n",
      "\n",
      "pred   -  [1 2 0 0 1 2 1 1 1 2 2 0 0 0 2 0 1 0 1 2 0 1 1 0 0 0 1 2 2 1 0 1 1 0 1 0 0\n",
      " 0]\n"
     ]
    }
   ],
   "source": [
    "estimator = grid_tree_model.best_estimator_\n",
    "estimator\n",
    "y_pred = estimator.predict(X_test)\n",
    "\n",
    "print('GridSearchCV 테스트 정확도 - ' , accuracy_score(y_test , y_pred))\n",
    "\n",
    "print()\n",
    "\n",
    "print('answer - ' , y_test)\n",
    "print()\n",
    "print('pred   - ' , y_pred)\n"
   ],
   "metadata": {
    "collapsed": false,
    "pycharm": {
     "name": "#%%\n"
    }
   }
  },
  {
   "cell_type": "code",
   "execution_count": 20,
   "outputs": [
    {
     "name": "stdout",
     "output_type": "stream",
     "text": [
      "피처의 중요도를 시각화 - \n",
      "트리의 분류모델 형성에 각 피터가 얼마나 잘 작용했는지를 평가하는 자료\n",
      "해당지표는 0~1 사이의 값을 가지며, 0이면 특성이 전혀 고려되지 않을 것 - \n",
      "특성의 중요도의 합은 1 이다.\n",
      "\n",
      "feature importance -  [0.         0.         0.59075728 0.40924272]\n"
     ]
    },
    {
     "data": {
      "text/plain": "<Figure size 432x288 with 1 Axes>",
      "image/png": "[encoded data removed]"
     },
     "metadata": {
      "needs_background": "light"
     },
     "output_type": "display_data"
    },
    {
     "name": "stdout",
     "output_type": "stream",
     "text": [
      "\n",
      "sepal length (cm) \n",
      " 0.0\n",
      "sepal width (cm) \n",
      " 0.0\n",
      "petal length (cm) \n",
      " 0.5907572799205508\n",
      "petal width (cm) \n",
      " 0.4092427200794493\n"
     ]
    }
   ],
   "source": [
    "print('피처의 중요도를 시각화 - ')\n",
    "print('트리의 분류모델 형성에 각 피터가 얼마나 잘 작용했는지를 평가하는 자료')\n",
    "print('해당지표는 0~1 사이의 값을 가지며, 0이면 특성이 전혀 고려되지 않을 것 - ')\n",
    "print('특성의 중요도의 합은 1 이다.')\n",
    "print()\n",
    "print('feature importance - ', estimator.feature_importances_)\n",
    "\n",
    "sns.barplot(x = estimator.feature_importances_, y= iris.feature_names)\n",
    "plt.show()\n",
    "plt.close()\n",
    "\n",
    "print()\n",
    "for name,value in zip(iris.feature_names,estimator.feature_importances_ ):\n",
    "    print(name,'\\n', value)"
   ],
   "metadata": {
    "collapsed": false,
    "pycharm": {
     "name": "#%%\n"
    }
   }
  },
  {
   "cell_type": "code",
   "execution_count": 21,
   "outputs": [
    {
     "data": {
      "text/plain": "dict_keys(['data', 'target', 'frame', 'target_names', 'DESCR', 'feature_names', 'filename'])"
     },
     "execution_count": 21,
     "metadata": {},
     "output_type": "execute_result"
    }
   ],
   "source": [
    "cancer = load_breast_cancer()\n",
    "cancer.keys()"
   ],
   "metadata": {
    "collapsed": false,
    "pycharm": {
     "name": "#%%\n"
    }
   }
  },
  {
   "cell_type": "code",
   "execution_count": 22,
   "outputs": [
    {
     "name": "stdout",
     "output_type": "stream",
     "text": [
      "1. 데이터 프레임 만들기 - \n"
     ]
    },
    {
     "data": {
      "text/plain": "     mean radius  mean texture  mean perimeter  mean area  mean smoothness  \\\n0          17.99         10.38          122.80     1001.0          0.11840   \n1          20.57         17.77          132.90     1326.0          0.08474   \n2          19.69         21.25          130.00     1203.0          0.10960   \n3          11.42         20.38           77.58      386.1          0.14250   \n4          20.29         14.34          135.10     1297.0          0.10030   \n..           ...           ...             ...        ...              ...   \n564        21.56         22.39          142.00     1479.0          0.11100   \n565        20.13         28.25          131.20     1261.0          0.09780   \n566        16.60         28.08          108.30      858.1          0.08455   \n567        20.60         29.33          140.10     1265.0          0.11780   \n568         7.76         24.54           47.92      181.0          0.05263   \n\n     mean compactness  mean concavity  mean concave points  mean symmetry  \\\n0             0.27760         0.30010              0.14710         0.2419   \n1             0.07864         0.08690              0.07017         0.1812   \n2             0.15990         0.19740              0.12790         0.2069   \n3             0.28390         0.24140              0.10520         0.2597   \n4             0.13280         0.19800              0.10430         0.1809   \n..                ...             ...                  ...            ...   \n564           0.11590         0.24390              0.13890         0.1726   \n565           0.10340         0.14400              0.09791         0.1752   \n566           0.10230         0.09251              0.05302         0.1590   \n567           0.27700         0.35140              0.15200         0.2397   \n568           0.04362         0.00000              0.00000         0.1587   \n\n     mean fractal dimension  ...  worst texture  worst perimeter  worst area  \\\n0                   0.07871  ...          17.33           184.60      2019.0   \n1                   0.05667  ...          23.41           158.80      1956.0   \n2                   0.05999  ...          25.53           152.50      1709.0   \n3                   0.09744  ...          26.50            98.87       567.7   \n4                   0.05883  ...          16.67           152.20      1575.0   \n..                      ...  ...            ...              ...         ...   \n564                 0.05623  ...          26.40           166.10      2027.0   \n565                 0.05533  ...          38.25           155.00      1731.0   \n566                 0.05648  ...          34.12           126.70      1124.0   \n567                 0.07016  ...          39.42           184.60      1821.0   \n568                 0.05884  ...          30.37            59.16       268.6   \n\n     worst smoothness  worst compactness  worst concavity  \\\n0             0.16220            0.66560           0.7119   \n1             0.12380            0.18660           0.2416   \n2             0.14440            0.42450           0.4504   \n3             0.20980            0.86630           0.6869   \n4             0.13740            0.20500           0.4000   \n..                ...                ...              ...   \n564           0.14100            0.21130           0.4107   \n565           0.11660            0.19220           0.3215   \n566           0.11390            0.30940           0.3403   \n567           0.16500            0.86810           0.9387   \n568           0.08996            0.06444           0.0000   \n\n     worst concave points  worst symmetry  worst fractal dimension  target  \n0                  0.2654          0.4601                  0.11890       0  \n1                  0.1860          0.2750                  0.08902       0  \n2                  0.2430          0.3613                  0.08758       0  \n3                  0.2575          0.6638                  0.17300       0  \n4                  0.1625          0.2364                  0.07678       0  \n..                    ...             ...                      ...     ...  \n564                0.2216          0.2060                  0.07115       0  \n565                0.1628          0.2572                  0.06637       0  \n566                0.1418          0.2218                  0.07820       0  \n567                0.2650          0.4087                  0.12400       0  \n568                0.0000          0.2871                  0.07039       1  \n\n[569 rows x 31 columns]",
      "text/html": "<div>\n<style scoped>\n    .dataframe tbody tr th:only-of-type {\n        vertical-align: middle;\n    }\n\n    .dataframe tbody tr th {\n        vertical-align: top;\n    }\n\n    .dataframe thead th {\n        text-align: right;\n    }\n</style>\n<table border=\"1\" class=\"dataframe\">\n  <thead>\n    <tr style=\"text-align: right;\">\n      <th></th>\n      <th>mean radius</th>\n      <th>mean texture</th>\n      <th>mean perimeter</th>\n      <th>mean area</th>\n      <th>mean smoothness</th>\n      <th>mean compactness</th>\n      <th>mean concavity</th>\n      <th>mean concave points</th>\n      <th>mean symmetry</th>\n      <th>mean fractal dimension</th>\n      <th>...</th>\n      <th>worst texture</th>\n      <th>worst perimeter</th>\n      <th>worst area</th>\n      <th>worst smoothness</th>\n      <th>worst compactness</th>\n      <th>worst concavity</th>\n      <th>worst concave points</th>\n      <th>worst symmetry</th>\n      <th>worst fractal dimension</th>\n      <th>target</th>\n    </tr>\n  </thead>\n  <tbody>\n    <tr>\n      <th>0</th>\n      <td>17.99</td>\n      <td>10.38</td>\n      <td>122.80</td>\n      <td>1001.0</td>\n      <td>0.11840</td>\n      <td>0.27760</td>\n      <td>0.30010</td>\n      <td>0.14710</td>\n      <td>0.2419</td>\n      <td>0.07871</td>\n      <td>...</td>\n      <td>17.33</td>\n      <td>184.60</td>\n      <td>2019.0</td>\n      <td>0.16220</td>\n      <td>0.66560</td>\n      <td>0.7119</td>\n      <td>0.2654</td>\n      <td>0.4601</td>\n      <td>0.11890</td>\n      <td>0</td>\n    </tr>\n    <tr>\n      <th>1</th>\n      <td>20.57</td>\n      <td>17.77</td>\n      <td>132.90</td>\n      <td>1326.0</td>\n      <td>0.08474</td>\n      <td>0.07864</td>\n      <td>0.08690</td>\n      <td>0.07017</td>\n      <td>0.1812</td>\n      <td>0.05667</td>\n      <td>...</td>\n      <td>23.41</td>\n      <td>158.80</td>\n      <td>1956.0</td>\n      <td>0.12380</td>\n      <td>0.18660</td>\n      <td>0.2416</td>\n      <td>0.1860</td>\n      <td>0.2750</td>\n      <td>0.08902</td>\n      <td>0</td>\n    </tr>\n    <tr>\n      <th>2</th>\n      <td>19.69</td>\n      <td>21.25</td>\n      <td>130.00</td>\n      <td>1203.0</td>\n      <td>0.10960</td>\n      <td>0.15990</td>\n      <td>0.19740</td>\n      <td>0.12790</td>\n      <td>0.2069</td>\n      <td>0.05999</td>\n      <td>...</td>\n      <td>25.53</td>\n      <td>152.50</td>\n      <td>1709.0</td>\n      <td>0.14440</td>\n      <td>0.42450</td>\n      <td>0.4504</td>\n      <td>0.2430</td>\n      <td>0.3613</td>\n      <td>0.08758</td>\n      <td>0</td>\n    </tr>\n    <tr>\n      <th>3</th>\n      <td>11.42</td>\n      <td>20.38</td>\n      <td>77.58</td>\n      <td>386.1</td>\n      <td>0.14250</td>\n      <td>0.28390</td>\n      <td>0.24140</td>\n      <td>0.10520</td>\n      <td>0.2597</td>\n      <td>0.09744</td>\n      <td>...</td>\n      <td>26.50</td>\n      <td>98.87</td>\n      <td>567.7</td>\n      <td>0.20980</td>\n      <td>0.86630</td>\n      <td>0.6869</td>\n      <td>0.2575</td>\n      <td>0.6638</td>\n      <td>0.17300</td>\n      <td>0</td>\n    </tr>\n    <tr>\n      <th>4</th>\n      <td>20.29</td>\n      <td>14.34</td>\n      <td>135.10</td>\n      <td>1297.0</td>\n      <td>0.10030</td>\n      <td>0.13280</td>\n      <td>0.19800</td>\n      <td>0.10430</td>\n      <td>0.1809</td>\n      <td>0.05883</td>\n      <td>...</td>\n      <td>16.67</td>\n      <td>152.20</td>\n      <td>1575.0</td>\n      <td>0.13740</td>\n      <td>0.20500</td>\n      <td>0.4000</td>\n      <td>0.1625</td>\n      <td>0.2364</td>\n      <td>0.07678</td>\n      <td>0</td>\n    </tr>\n    <tr>\n      <th>...</th>\n      <td>...</td>\n      <td>...</td>\n      <td>...</td>\n      <td>...</td>\n      <td>...</td>\n      <td>...</td>\n      <td>...</td>\n      <td>...</td>\n      <td>...</td>\n      <td>...</td>\n      <td>...</td>\n      <td>...</td>\n      <td>...</td>\n      <td>...</td>\n      <td>...</td>\n      <td>...</td>\n      <td>...</td>\n      <td>...</td>\n      <td>...</td>\n      <td>...</td>\n      <td>...</td>\n    </tr>\n    <tr>\n      <th>564</th>\n      <td>21.56</td>\n      <td>22.39</td>\n      <td>142.00</td>\n      <td>1479.0</td>\n      <td>0.11100</td>\n      <td>0.11590</td>\n      <td>0.24390</td>\n      <td>0.13890</td>\n      <td>0.1726</td>\n      <td>0.05623</td>\n      <td>...</td>\n      <td>26.40</td>\n      <td>166.10</td>\n      <td>2027.0</td>\n      <td>0.14100</td>\n      <td>0.21130</td>\n      <td>0.4107</td>\n      <td>0.2216</td>\n      <td>0.2060</td>\n      <td>0.07115</td>\n      <td>0</td>\n    </tr>\n    <tr>\n      <th>565</th>\n      <td>20.13</td>\n      <td>28.25</td>\n      <td>131.20</td>\n      <td>1261.0</td>\n      <td>0.09780</td>\n      <td>0.10340</td>\n      <td>0.14400</td>\n      <td>0.09791</td>\n      <td>0.1752</td>\n      <td>0.05533</td>\n      <td>...</td>\n      <td>38.25</td>\n      <td>155.00</td>\n      <td>1731.0</td>\n      <td>0.11660</td>\n      <td>0.19220</td>\n      <td>0.3215</td>\n      <td>0.1628</td>\n      <td>0.2572</td>\n      <td>0.06637</td>\n      <td>0</td>\n    </tr>\n    <tr>\n      <th>566</th>\n      <td>16.60</td>\n      <td>28.08</td>\n      <td>108.30</td>\n      <td>858.1</td>\n      <td>0.08455</td>\n      <td>0.10230</td>\n      <td>0.09251</td>\n      <td>0.05302</td>\n      <td>0.1590</td>\n      <td>0.05648</td>\n      <td>...</td>\n      <td>34.12</td>\n      <td>126.70</td>\n      <td>1124.0</td>\n      <td>0.11390</td>\n      <td>0.30940</td>\n      <td>0.3403</td>\n      <td>0.1418</td>\n      <td>0.2218</td>\n      <td>0.07820</td>\n      <td>0</td>\n    </tr>\n    <tr>\n      <th>567</th>\n      <td>20.60</td>\n      <td>29.33</td>\n      <td>140.10</td>\n      <td>1265.0</td>\n      <td>0.11780</td>\n      <td>0.27700</td>\n      <td>0.35140</td>\n      <td>0.15200</td>\n      <td>0.2397</td>\n      <td>0.07016</td>\n      <td>...</td>\n      <td>39.42</td>\n      <td>184.60</td>\n      <td>1821.0</td>\n      <td>0.16500</td>\n      <td>0.86810</td>\n      <td>0.9387</td>\n      <td>0.2650</td>\n      <td>0.4087</td>\n      <td>0.12400</td>\n      <td>0</td>\n    </tr>\n    <tr>\n      <th>568</th>\n      <td>7.76</td>\n      <td>24.54</td>\n      <td>47.92</td>\n      <td>181.0</td>\n      <td>0.05263</td>\n      <td>0.04362</td>\n      <td>0.00000</td>\n      <td>0.00000</td>\n      <td>0.1587</td>\n      <td>0.05884</td>\n      <td>...</td>\n      <td>30.37</td>\n      <td>59.16</td>\n      <td>268.6</td>\n      <td>0.08996</td>\n      <td>0.06444</td>\n      <td>0.0000</td>\n      <td>0.0000</td>\n      <td>0.2871</td>\n      <td>0.07039</td>\n      <td>1</td>\n    </tr>\n  </tbody>\n</table>\n<p>569 rows × 31 columns</p>\n</div>"
     },
     "execution_count": 22,
     "metadata": {},
     "output_type": "execute_result"
    }
   ],
   "source": [
    "print('1. 데이터 프레임 만들기 - ')\n",
    "\n",
    "cancer_frm = pd.DataFrame(data = cancer.data,\n",
    "                         columns = cancer.feature_names)\n",
    "cancer_frm['target'] = cancer.target\n",
    "cancer_frm"
   ],
   "metadata": {
    "collapsed": false,
    "pycharm": {
     "name": "#%%\n"
    }
   }
  },
  {
   "cell_type": "code",
   "execution_count": 23,
   "outputs": [
    {
     "data": {
      "text/plain": "array(['malignant', 'benign'], dtype='<U9')"
     },
     "execution_count": 23,
     "metadata": {},
     "output_type": "execute_result"
    }
   ],
   "source": [
    "cancer.target_names"
   ],
   "metadata": {
    "collapsed": false,
    "pycharm": {
     "name": "#%%\n"
    }
   }
  },
  {
   "cell_type": "code",
   "execution_count": 24,
   "outputs": [
    {
     "name": "stdout",
     "output_type": "stream",
     "text": [
      "DecisionTree Estimator - \n",
      "train, test 7:3\n",
      "학습 예측 - flt, predict\n",
      "모델 정확도 평가 - accuracy_score\n",
      "\n"
     ]
    },
    {
     "data": {
      "text/plain": "((398, 30), (171, 30), (398,), (171,))"
     },
     "execution_count": 24,
     "metadata": {},
     "output_type": "execute_result"
    }
   ],
   "source": [
    "print('DecisionTree Estimator - ')\n",
    "print('train, test 7:3')\n",
    "print('학습 예측 - flt, predict')\n",
    "print('모델 정확도 평가 - accuracy_score')\n",
    "print()\n",
    "X_train , X_test , y_train , y_test = train_test_split(cancer.data   ,\n",
    "                                                       cancer.target ,\n",
    "                                                       test_size    = 0.3 ,\n",
    "                                                       shuffle      = True ,\n",
    "                                                       random_state = 200 )\n",
    "X_train.shape , X_test.shape , y_train.shape , y_test.shape\n",
    "\n",
    "# X_train, y_train 피쳐의 결과, 테스트는 실험했을때의 결과"
   ],
   "metadata": {
    "collapsed": false,
    "pycharm": {
     "name": "#%%\n"
    }
   }
  },
  {
   "cell_type": "code",
   "execution_count": 25,
   "outputs": [
    {
     "name": "stdout",
     "output_type": "stream",
     "text": [
      "predict 함수에 테스트 데이터를 넣어서 분류예측 값을 반환 - \n",
      "answer -  [1 0 1 1 1 1 1 1 0 0 0 0 1 0 1 1 0 1 1 0 0 1 1 0 0 1 1 0 1 0 1 1 0 1 0 0 1\n",
      " 1 1 0 1 1 0 1 0 1 0 0 1 0 1 1 0 0 1 1 0 1 1 1 1 1 1 1 1 0 1 1 1 0 1 1 1 1\n",
      " 0 1 1 0 0 1 1 1 1 0 1 0 1 1 0 0 1 1 0 1 1 1 1 1 1 0 1 1 1 1 1 1 1 0 1 1 1\n",
      " 1 0 1 1 1 1 1 0 1 1 1 1 0 1 1 0 0 1 1 1 1 1 1 1 1 1 1 0 1 1 0 0 0 1 1 1 1\n",
      " 1 1 0 0 1 1 1 0 1 0 0 0 1 1 1 1 1 1 1 0 1 0 0]\n",
      "pred   -  [1 1 1 1 1 1 1 1 0 0 1 0 1 0 1 1 0 1 0 0 0 1 0 0 0 1 1 1 1 0 1 1 0 1 0 0 1\n",
      " 1 1 0 1 1 0 1 0 1 0 0 1 0 1 1 0 0 1 1 0 1 1 1 1 1 1 1 1 0 1 1 1 0 1 1 1 1\n",
      " 0 1 1 0 0 1 1 1 0 0 1 1 1 0 0 1 1 1 0 0 1 1 1 1 1 0 1 1 0 1 1 1 1 0 1 1 1\n",
      " 1 0 1 1 1 1 1 1 1 1 1 1 0 1 1 0 0 1 1 1 1 1 1 1 1 1 1 0 1 1 0 0 0 1 1 1 1\n",
      " 1 1 0 0 1 1 1 0 1 0 0 0 1 1 1 1 1 1 1 0 1 0 0]\n"
     ]
    }
   ],
   "source": [
    "cancer_model = DecisionTreeClassifier()\n",
    "cancer_model.fit(X_train, y_train)\n",
    "\n",
    "print('predict 함수에 테스트 데이터를 넣어서 분류예측 값을 반환 - ')\n",
    "y_pred = cancer_model.predict(X_test) # 테스트를 넣어야 한다.\n",
    "print('answer - ' , y_test)\n",
    "print('pred   - ' , y_pred)"
   ],
   "metadata": {
    "collapsed": false,
    "pycharm": {
     "name": "#%%\n"
    }
   }
  },
  {
   "cell_type": "code",
   "execution_count": 26,
   "outputs": [
    {
     "name": "stdout",
     "output_type": "stream",
     "text": [
      "type -  <class 'sklearn.utils.Bunch'>\n",
      "keys -  dict_keys(['data', 'target', 'frame', 'target_names', 'DESCR', 'feature_names', 'filename'])\n"
     ]
    }
   ],
   "source": [
    "iris = load_iris()\n",
    "print('type - ' , type(iris) )\n",
    "print('keys - ' , iris.keys())"
   ],
   "metadata": {
    "collapsed": false,
    "pycharm": {
     "name": "#%%\n"
    }
   }
  },
  {
   "cell_type": "code",
   "execution_count": 29,
   "outputs": [
    {
     "data": {
      "text/plain": "{'mean_fit_time': array([0.00327126, 0.0037171 , 0.00227737, 0.00344602, 0.00233372,\n        0.00922712, 0.00287994, 0.00323097, 0.00159796, 0.00212224,\n        0.00783467, 0.00704233, 0.002014  , 0.00184035, 0.00233507,\n        0.00132426, 0.00161688, 0.00176883, 0.00113837, 0.00198253,\n        0.00256109, 0.00204603, 0.00203745, 0.00272433]),\n 'std_fit_time': array([0.00143153, 0.00091599, 0.0004095 , 0.00187632, 0.00068893,\n        0.00429362, 0.0018502 , 0.0020655 , 0.00039817, 0.00065008,\n        0.00323133, 0.00499869, 0.00149721, 0.00062277, 0.00166967,\n        0.00015933, 0.00078077, 0.00032391, 0.00017843, 0.00127982,\n        0.00111228, 0.00041089, 0.00017294, 0.00084931]),\n 'mean_score_time': array([0.00215872, 0.00142868, 0.00322731, 0.00114862, 0.00429829,\n        0.00192531, 0.00060797, 0.00079417, 0.00081889, 0.00127999,\n        0.00220267, 0.00139411, 0.00046913, 0.00051522, 0.00059191,\n        0.00077144, 0.00063173, 0.00047231, 0.00040301, 0.00141605,\n        0.0010186 , 0.00116452, 0.0008475 , 0.00109243]),\n 'std_score_time': array([1.79630503e-03, 8.08396233e-04, 2.73730891e-03, 3.48046505e-04,\n        2.20681868e-03, 1.64969509e-03, 1.55295743e-05, 4.35315678e-04,\n        3.61092650e-04, 1.11001676e-03, 1.84226694e-04, 1.03624254e-03,\n        1.45604516e-04, 1.13941301e-04, 1.60844076e-04, 2.84562759e-04,\n        1.92470633e-04, 8.94856636e-05, 3.68623875e-05, 1.11377331e-03,\n        1.47890814e-04, 4.77710970e-04, 2.17301267e-04, 8.57345674e-04]),\n 'param_criterion': masked_array(data=['gini', 'gini', 'gini', 'gini', 'gini', 'gini', 'gini',\n                    'gini', 'gini', 'gini', 'gini', 'gini', 'entropy',\n                    'entropy', 'entropy', 'entropy', 'entropy', 'entropy',\n                    'entropy', 'entropy', 'entropy', 'entropy', 'entropy',\n                    'entropy'],\n              mask=[False, False, False, False, False, False, False, False,\n                    False, False, False, False, False, False, False, False,\n                    False, False, False, False, False, False, False, False],\n        fill_value='?',\n             dtype=object),\n 'param_max_depth': masked_array(data=[1, 1, 1, 1, 2, 2, 2, 2, 3, 3, 3, 3, 1, 1, 1, 1, 2, 2,\n                    2, 2, 3, 3, 3, 3],\n              mask=[False, False, False, False, False, False, False, False,\n                    False, False, False, False, False, False, False, False,\n                    False, False, False, False, False, False, False, False],\n        fill_value='?',\n             dtype=object),\n 'param_min_samples_split': masked_array(data=[2, 2, 3, 3, 2, 2, 3, 3, 2, 2, 3, 3, 2, 2, 3, 3, 2, 2,\n                    3, 3, 2, 2, 3, 3],\n              mask=[False, False, False, False, False, False, False, False,\n                    False, False, False, False, False, False, False, False,\n                    False, False, False, False, False, False, False, False],\n        fill_value='?',\n             dtype=object),\n 'param_splitter': masked_array(data=['best', 'random', 'best', 'random', 'best', 'random',\n                    'best', 'random', 'best', 'random', 'best', 'random',\n                    'best', 'random', 'best', 'random', 'best', 'random',\n                    'best', 'random', 'best', 'random', 'best', 'random'],\n              mask=[False, False, False, False, False, False, False, False,\n                    False, False, False, False, False, False, False, False,\n                    False, False, False, False, False, False, False, False],\n        fill_value='?',\n             dtype=object),\n 'params': [{'criterion': 'gini',\n   'max_depth': 1,\n   'min_samples_split': 2,\n   'splitter': 'best'},\n  {'criterion': 'gini',\n   'max_depth': 1,\n   'min_samples_split': 2,\n   'splitter': 'random'},\n  {'criterion': 'gini',\n   'max_depth': 1,\n   'min_samples_split': 3,\n   'splitter': 'best'},\n  {'criterion': 'gini',\n   'max_depth': 1,\n   'min_samples_split': 3,\n   'splitter': 'random'},\n  {'criterion': 'gini',\n   'max_depth': 2,\n   'min_samples_split': 2,\n   'splitter': 'best'},\n  {'criterion': 'gini',\n   'max_depth': 2,\n   'min_samples_split': 2,\n   'splitter': 'random'},\n  {'criterion': 'gini',\n   'max_depth': 2,\n   'min_samples_split': 3,\n   'splitter': 'best'},\n  {'criterion': 'gini',\n   'max_depth': 2,\n   'min_samples_split': 3,\n   'splitter': 'random'},\n  {'criterion': 'gini',\n   'max_depth': 3,\n   'min_samples_split': 2,\n   'splitter': 'best'},\n  {'criterion': 'gini',\n   'max_depth': 3,\n   'min_samples_split': 2,\n   'splitter': 'random'},\n  {'criterion': 'gini',\n   'max_depth': 3,\n   'min_samples_split': 3,\n   'splitter': 'best'},\n  {'criterion': 'gini',\n   'max_depth': 3,\n   'min_samples_split': 3,\n   'splitter': 'random'},\n  {'criterion': 'entropy',\n   'max_depth': 1,\n   'min_samples_split': 2,\n   'splitter': 'best'},\n  {'criterion': 'entropy',\n   'max_depth': 1,\n   'min_samples_split': 2,\n   'splitter': 'random'},\n  {'criterion': 'entropy',\n   'max_depth': 1,\n   'min_samples_split': 3,\n   'splitter': 'best'},\n  {'criterion': 'entropy',\n   'max_depth': 1,\n   'min_samples_split': 3,\n   'splitter': 'random'},\n  {'criterion': 'entropy',\n   'max_depth': 2,\n   'min_samples_split': 2,\n   'splitter': 'best'},\n  {'criterion': 'entropy',\n   'max_depth': 2,\n   'min_samples_split': 2,\n   'splitter': 'random'},\n  {'criterion': 'entropy',\n   'max_depth': 2,\n   'min_samples_split': 3,\n   'splitter': 'best'},\n  {'criterion': 'entropy',\n   'max_depth': 2,\n   'min_samples_split': 3,\n   'splitter': 'random'},\n  {'criterion': 'entropy',\n   'max_depth': 3,\n   'min_samples_split': 2,\n   'splitter': 'best'},\n  {'criterion': 'entropy',\n   'max_depth': 3,\n   'min_samples_split': 2,\n   'splitter': 'random'},\n  {'criterion': 'entropy',\n   'max_depth': 3,\n   'min_samples_split': 3,\n   'splitter': 'best'},\n  {'criterion': 'entropy',\n   'max_depth': 3,\n   'min_samples_split': 3,\n   'splitter': 'random'}],\n 'split0_test_score': array([0.68421053, 0.68421053, 0.68421053, 0.68421053, 0.86842105,\n        0.71052632, 0.86842105, 0.71052632, 0.94736842, 0.81578947,\n        0.94736842, 0.81578947, 0.68421053, 0.68421053, 0.68421053,\n        0.68421053, 0.86842105, 0.71052632, 0.86842105, 0.71052632,\n        0.94736842, 0.81578947, 0.94736842, 0.81578947]),\n 'split1_test_score': array([0.67567568, 0.67567568, 0.67567568, 0.67567568, 0.94594595,\n        0.72972973, 0.94594595, 0.72972973, 0.94594595, 0.83783784,\n        0.94594595, 0.83783784, 0.67567568, 0.67567568, 0.67567568,\n        0.67567568, 0.94594595, 0.72972973, 0.94594595, 0.72972973,\n        0.94594595, 0.83783784, 0.94594595, 0.83783784]),\n 'split2_test_score': array([0.64864865, 0.64864865, 0.64864865, 0.64864865, 0.89189189,\n        0.67567568, 0.89189189, 0.67567568, 0.94594595, 0.83783784,\n        0.94594595, 0.83783784, 0.64864865, 0.64864865, 0.64864865,\n        0.64864865, 0.89189189, 0.67567568, 0.89189189, 0.67567568,\n        0.94594595, 0.83783784, 0.94594595, 0.83783784]),\n 'mean_test_score': array([0.66951162, 0.66951162, 0.66951162, 0.66951162, 0.9020863 ,\n        0.70531057, 0.9020863 , 0.70531057, 0.9464201 , 0.83048838,\n        0.9464201 , 0.83048838, 0.66951162, 0.66951162, 0.66951162,\n        0.66951162, 0.9020863 , 0.70531057, 0.9020863 , 0.70531057,\n        0.9464201 , 0.83048838, 0.9464201 , 0.83048838]),\n 'std_test_score': array([0.01515824, 0.01515824, 0.01515824, 0.01515824, 0.03245994,\n        0.02237354, 0.03245994, 0.02237354, 0.00067056, 0.0103937 ,\n        0.00067056, 0.0103937 , 0.01515824, 0.01515824, 0.01515824,\n        0.01515824, 0.03245994, 0.02237354, 0.03245994, 0.02237354,\n        0.00067056, 0.0103937 , 0.00067056, 0.0103937 ]),\n 'rank_test_score': array([17, 17, 17, 17,  5, 13,  5, 13,  1,  9,  1,  9, 17, 17, 17, 17,  5,\n        13,  5, 13,  1,  9,  1,  9], dtype=int32)}"
     },
     "execution_count": 29,
     "metadata": {},
     "output_type": "execute_result"
    }
   ],
   "source": [
    "params = {\n",
    "    'criterion' : ['gini' , 'entropy'] ,\n",
    "    'splitter'  : ['best' , 'random']  ,\n",
    "    'max_depth' : [1 , 2 , 3 ] ,\n",
    "    'min_samples_split' : [2 , 3]\n",
    "}\n",
    "\n",
    "iris = load_iris()\n",
    "\n",
    "X_train , X_test , y_train , y_test = train_test_split(iris.data   ,\n",
    "                                                       iris.target ,\n",
    "                                                       test_size    = 0.25 ,\n",
    "                                                       shuffle      = True ,\n",
    "                                                       random_state = 200 )\n",
    "\n",
    "\n",
    "dt_model = DecisionTreeClassifier(random_state = 100)\n",
    "\n",
    "# refit -> 가장 좋은 파라미터 설정으로 재학습 시킴\n",
    "grid_tree_model = GridSearchCV(dt_model , param_grid = params , cv = 3 , refit = True)\n",
    "grid_tree_model.fit(X_train , y_train)\n",
    "grid_tree_model.cv_results_"
   ],
   "metadata": {
    "collapsed": false,
    "pycharm": {
     "name": "#%%\n"
    }
   }
  },
  {
   "cell_type": "code",
   "execution_count": 30,
   "outputs": [
    {
     "name": "stdout",
     "output_type": "stream",
     "text": [
      "최적 파라미터 -  {'criterion': 'gini', 'max_depth': 3, 'min_samples_split': 2, 'splitter': 'best'}\n",
      "최고 점수     -  0.9464201043148411\n",
      "GridSearchCV 테스트 정확도 -  0.9736842105263158\n",
      "\n",
      "answer -  [1 2 0 0 1 2 1 1 1 2 2 0 0 0 2 0 1 0 1 2 0 1 2 0 0 0 1 2 2 1 0 1 1 0 1 0 0\n",
      " 0]\n",
      "\n",
      "pred   -  [1 2 0 0 1 2 1 1 1 2 2 0 0 0 2 0 1 0 1 2 0 1 1 0 0 0 1 2 2 1 0 1 1 0 1 0 0\n",
      " 0]\n"
     ]
    }
   ],
   "source": [
    "print('최적 파라미터 - ' , grid_tree_model.best_params_ )\n",
    "print('최고 점수     - ' , grid_tree_model.best_score_ )\n",
    "estimator = grid_tree_model.best_estimator_\n",
    "estimator\n",
    "\n",
    "y_pred = estimator.predict(X_test)\n",
    "\n",
    "print('GridSearchCV 테스트 정확도 - ' , accuracy_score(y_test , y_pred))\n",
    "\n",
    "print()\n",
    "\n",
    "print('answer - ' , y_test)\n",
    "print()\n",
    "print('pred   - ' , y_pred)"
   ],
   "metadata": {
    "collapsed": false,
    "pycharm": {
     "name": "#%%\n"
    }
   }
  },
  {
   "cell_type": "code",
   "execution_count": 31,
   "outputs": [
    {
     "name": "stdout",
     "output_type": "stream",
     "text": [
      "피처의 중요도를 시각화 - \n",
      "트리 분류 형성에 각 피처가 얼마나 잘 작용했는지를 평가하는 지표\n",
      "해당 지표는 0 ~ 1 사이의 값을 가지며 , 0이면 특성이 전혀 고려되지 않을 것 - \n",
      "특성의 중요도의 합은 1 이다\n",
      "\n",
      "feature importance -  [0.         0.         0.59075728 0.40924272]\n",
      "\n"
     ]
    },
    {
     "data": {
      "text/plain": "<Figure size 432x288 with 1 Axes>",
      "image/png": "[encoded data removed]"
     },
     "metadata": {
      "needs_background": "light"
     },
     "output_type": "display_data"
    },
    {
     "name": "stdout",
     "output_type": "stream",
     "text": [
      "\n",
      "sepal length (cm) \t 0.0\n",
      "sepal width (cm) \t 0.0\n",
      "petal length (cm) \t 0.5907572799205508\n",
      "petal width (cm) \t 0.4092427200794493\n"
     ]
    }
   ],
   "source": [
    "print('피처의 중요도를 시각화 - ')\n",
    "print('트리 분류 형성에 각 피처가 얼마나 잘 작용했는지를 평가하는 지표')\n",
    "print('해당 지표는 0 ~ 1 사이의 값을 가지며 , 0이면 특성이 전혀 고려되지 않을 것 - ')\n",
    "print('특성의 중요도의 합은 1 이다')\n",
    "print()\n",
    "print('feature importance - ' , estimator.feature_importances_)\n",
    "print()\n",
    "\n",
    "sns.barplot(x = estimator.feature_importances_ , y = iris.feature_names)\n",
    "\n",
    "plt.show()\n",
    "plt.close()\n",
    "\n",
    "print()\n",
    "for name, value in zip(iris.feature_names , estimator.feature_importances_) :\n",
    "    print(name , '\\t' , value)\n"
   ],
   "metadata": {
    "collapsed": false,
    "pycharm": {
     "name": "#%%\n"
    }
   }
  },
  {
   "cell_type": "code",
   "execution_count": 32,
   "outputs": [
    {
     "data": {
      "text/plain": "dict_keys(['data', 'target', 'frame', 'target_names', 'DESCR', 'feature_names', 'filename'])"
     },
     "execution_count": 32,
     "metadata": {},
     "output_type": "execute_result"
    }
   ],
   "source": [
    "cancer = load_breast_cancer()\n",
    "cancer.keys()"
   ],
   "metadata": {
    "collapsed": false,
    "pycharm": {
     "name": "#%%\n"
    }
   }
  },
  {
   "cell_type": "code",
   "execution_count": 33,
   "outputs": [
    {
     "name": "stdout",
     "output_type": "stream",
     "text": [
      "1. 데이터 프레임 만들기 - \n"
     ]
    },
    {
     "data": {
      "text/plain": "     mean radius  mean texture  mean perimeter  mean area  mean smoothness  \\\n0          17.99         10.38          122.80     1001.0          0.11840   \n1          20.57         17.77          132.90     1326.0          0.08474   \n2          19.69         21.25          130.00     1203.0          0.10960   \n3          11.42         20.38           77.58      386.1          0.14250   \n4          20.29         14.34          135.10     1297.0          0.10030   \n..           ...           ...             ...        ...              ...   \n564        21.56         22.39          142.00     1479.0          0.11100   \n565        20.13         28.25          131.20     1261.0          0.09780   \n566        16.60         28.08          108.30      858.1          0.08455   \n567        20.60         29.33          140.10     1265.0          0.11780   \n568         7.76         24.54           47.92      181.0          0.05263   \n\n     mean compactness  mean concavity  mean concave points  mean symmetry  \\\n0             0.27760         0.30010              0.14710         0.2419   \n1             0.07864         0.08690              0.07017         0.1812   \n2             0.15990         0.19740              0.12790         0.2069   \n3             0.28390         0.24140              0.10520         0.2597   \n4             0.13280         0.19800              0.10430         0.1809   \n..                ...             ...                  ...            ...   \n564           0.11590         0.24390              0.13890         0.1726   \n565           0.10340         0.14400              0.09791         0.1752   \n566           0.10230         0.09251              0.05302         0.1590   \n567           0.27700         0.35140              0.15200         0.2397   \n568           0.04362         0.00000              0.00000         0.1587   \n\n     mean fractal dimension  ...  worst texture  worst perimeter  worst area  \\\n0                   0.07871  ...          17.33           184.60      2019.0   \n1                   0.05667  ...          23.41           158.80      1956.0   \n2                   0.05999  ...          25.53           152.50      1709.0   \n3                   0.09744  ...          26.50            98.87       567.7   \n4                   0.05883  ...          16.67           152.20      1575.0   \n..                      ...  ...            ...              ...         ...   \n564                 0.05623  ...          26.40           166.10      2027.0   \n565                 0.05533  ...          38.25           155.00      1731.0   \n566                 0.05648  ...          34.12           126.70      1124.0   \n567                 0.07016  ...          39.42           184.60      1821.0   \n568                 0.05884  ...          30.37            59.16       268.6   \n\n     worst smoothness  worst compactness  worst concavity  \\\n0             0.16220            0.66560           0.7119   \n1             0.12380            0.18660           0.2416   \n2             0.14440            0.42450           0.4504   \n3             0.20980            0.86630           0.6869   \n4             0.13740            0.20500           0.4000   \n..                ...                ...              ...   \n564           0.14100            0.21130           0.4107   \n565           0.11660            0.19220           0.3215   \n566           0.11390            0.30940           0.3403   \n567           0.16500            0.86810           0.9387   \n568           0.08996            0.06444           0.0000   \n\n     worst concave points  worst symmetry  worst fractal dimension  target  \n0                  0.2654          0.4601                  0.11890       0  \n1                  0.1860          0.2750                  0.08902       0  \n2                  0.2430          0.3613                  0.08758       0  \n3                  0.2575          0.6638                  0.17300       0  \n4                  0.1625          0.2364                  0.07678       0  \n..                    ...             ...                      ...     ...  \n564                0.2216          0.2060                  0.07115       0  \n565                0.1628          0.2572                  0.06637       0  \n566                0.1418          0.2218                  0.07820       0  \n567                0.2650          0.4087                  0.12400       0  \n568                0.0000          0.2871                  0.07039       1  \n\n[569 rows x 31 columns]",
      "text/html": "<div>\n<style scoped>\n    .dataframe tbody tr th:only-of-type {\n        vertical-align: middle;\n    }\n\n    .dataframe tbody tr th {\n        vertical-align: top;\n    }\n\n    .dataframe thead th {\n        text-align: right;\n    }\n</style>\n<table border=\"1\" class=\"dataframe\">\n  <thead>\n    <tr style=\"text-align: right;\">\n      <th></th>\n      <th>mean radius</th>\n      <th>mean texture</th>\n      <th>mean perimeter</th>\n      <th>mean area</th>\n      <th>mean smoothness</th>\n      <th>mean compactness</th>\n      <th>mean concavity</th>\n      <th>mean concave points</th>\n      <th>mean symmetry</th>\n      <th>mean fractal dimension</th>\n      <th>...</th>\n      <th>worst texture</th>\n      <th>worst perimeter</th>\n      <th>worst area</th>\n      <th>worst smoothness</th>\n      <th>worst compactness</th>\n      <th>worst concavity</th>\n      <th>worst concave points</th>\n      <th>worst symmetry</th>\n      <th>worst fractal dimension</th>\n      <th>target</th>\n    </tr>\n  </thead>\n  <tbody>\n    <tr>\n      <th>0</th>\n      <td>17.99</td>\n      <td>10.38</td>\n      <td>122.80</td>\n      <td>1001.0</td>\n      <td>0.11840</td>\n      <td>0.27760</td>\n      <td>0.30010</td>\n      <td>0.14710</td>\n      <td>0.2419</td>\n      <td>0.07871</td>\n      <td>...</td>\n      <td>17.33</td>\n      <td>184.60</td>\n      <td>2019.0</td>\n      <td>0.16220</td>\n      <td>0.66560</td>\n      <td>0.7119</td>\n      <td>0.2654</td>\n      <td>0.4601</td>\n      <td>0.11890</td>\n      <td>0</td>\n    </tr>\n    <tr>\n      <th>1</th>\n      <td>20.57</td>\n      <td>17.77</td>\n      <td>132.90</td>\n      <td>1326.0</td>\n      <td>0.08474</td>\n      <td>0.07864</td>\n      <td>0.08690</td>\n      <td>0.07017</td>\n      <td>0.1812</td>\n      <td>0.05667</td>\n      <td>...</td>\n      <td>23.41</td>\n      <td>158.80</td>\n      <td>1956.0</td>\n      <td>0.12380</td>\n      <td>0.18660</td>\n      <td>0.2416</td>\n      <td>0.1860</td>\n      <td>0.2750</td>\n      <td>0.08902</td>\n      <td>0</td>\n    </tr>\n    <tr>\n      <th>2</th>\n      <td>19.69</td>\n      <td>21.25</td>\n      <td>130.00</td>\n      <td>1203.0</td>\n      <td>0.10960</td>\n      <td>0.15990</td>\n      <td>0.19740</td>\n      <td>0.12790</td>\n      <td>0.2069</td>\n      <td>0.05999</td>\n      <td>...</td>\n      <td>25.53</td>\n      <td>152.50</td>\n      <td>1709.0</td>\n      <td>0.14440</td>\n      <td>0.42450</td>\n      <td>0.4504</td>\n      <td>0.2430</td>\n      <td>0.3613</td>\n      <td>0.08758</td>\n      <td>0</td>\n    </tr>\n    <tr>\n      <th>3</th>\n      <td>11.42</td>\n      <td>20.38</td>\n      <td>77.58</td>\n      <td>386.1</td>\n      <td>0.14250</td>\n      <td>0.28390</td>\n      <td>0.24140</td>\n      <td>0.10520</td>\n      <td>0.2597</td>\n      <td>0.09744</td>\n      <td>...</td>\n      <td>26.50</td>\n      <td>98.87</td>\n      <td>567.7</td>\n      <td>0.20980</td>\n      <td>0.86630</td>\n      <td>0.6869</td>\n      <td>0.2575</td>\n      <td>0.6638</td>\n      <td>0.17300</td>\n      <td>0</td>\n    </tr>\n    <tr>\n      <th>4</th>\n      <td>20.29</td>\n      <td>14.34</td>\n      <td>135.10</td>\n      <td>1297.0</td>\n      <td>0.10030</td>\n      <td>0.13280</td>\n      <td>0.19800</td>\n      <td>0.10430</td>\n      <td>0.1809</td>\n      <td>0.05883</td>\n      <td>...</td>\n      <td>16.67</td>\n      <td>152.20</td>\n      <td>1575.0</td>\n      <td>0.13740</td>\n      <td>0.20500</td>\n      <td>0.4000</td>\n      <td>0.1625</td>\n      <td>0.2364</td>\n      <td>0.07678</td>\n      <td>0</td>\n    </tr>\n    <tr>\n      <th>...</th>\n      <td>...</td>\n      <td>...</td>\n      <td>...</td>\n      <td>...</td>\n      <td>...</td>\n      <td>...</td>\n      <td>...</td>\n      <td>...</td>\n      <td>...</td>\n      <td>...</td>\n      <td>...</td>\n      <td>...</td>\n      <td>...</td>\n      <td>...</td>\n      <td>...</td>\n      <td>...</td>\n      <td>...</td>\n      <td>...</td>\n      <td>...</td>\n      <td>...</td>\n      <td>...</td>\n    </tr>\n    <tr>\n      <th>564</th>\n      <td>21.56</td>\n      <td>22.39</td>\n      <td>142.00</td>\n      <td>1479.0</td>\n      <td>0.11100</td>\n      <td>0.11590</td>\n      <td>0.24390</td>\n      <td>0.13890</td>\n      <td>0.1726</td>\n      <td>0.05623</td>\n      <td>...</td>\n      <td>26.40</td>\n      <td>166.10</td>\n      <td>2027.0</td>\n      <td>0.14100</td>\n      <td>0.21130</td>\n      <td>0.4107</td>\n      <td>0.2216</td>\n      <td>0.2060</td>\n      <td>0.07115</td>\n      <td>0</td>\n    </tr>\n    <tr>\n      <th>565</th>\n      <td>20.13</td>\n      <td>28.25</td>\n      <td>131.20</td>\n      <td>1261.0</td>\n      <td>0.09780</td>\n      <td>0.10340</td>\n      <td>0.14400</td>\n      <td>0.09791</td>\n      <td>0.1752</td>\n      <td>0.05533</td>\n      <td>...</td>\n      <td>38.25</td>\n      <td>155.00</td>\n      <td>1731.0</td>\n      <td>0.11660</td>\n      <td>0.19220</td>\n      <td>0.3215</td>\n      <td>0.1628</td>\n      <td>0.2572</td>\n      <td>0.06637</td>\n      <td>0</td>\n    </tr>\n    <tr>\n      <th>566</th>\n      <td>16.60</td>\n      <td>28.08</td>\n      <td>108.30</td>\n      <td>858.1</td>\n      <td>0.08455</td>\n      <td>0.10230</td>\n      <td>0.09251</td>\n      <td>0.05302</td>\n      <td>0.1590</td>\n      <td>0.05648</td>\n      <td>...</td>\n      <td>34.12</td>\n      <td>126.70</td>\n      <td>1124.0</td>\n      <td>0.11390</td>\n      <td>0.30940</td>\n      <td>0.3403</td>\n      <td>0.1418</td>\n      <td>0.2218</td>\n      <td>0.07820</td>\n      <td>0</td>\n    </tr>\n    <tr>\n      <th>567</th>\n      <td>20.60</td>\n      <td>29.33</td>\n      <td>140.10</td>\n      <td>1265.0</td>\n      <td>0.11780</td>\n      <td>0.27700</td>\n      <td>0.35140</td>\n      <td>0.15200</td>\n      <td>0.2397</td>\n      <td>0.07016</td>\n      <td>...</td>\n      <td>39.42</td>\n      <td>184.60</td>\n      <td>1821.0</td>\n      <td>0.16500</td>\n      <td>0.86810</td>\n      <td>0.9387</td>\n      <td>0.2650</td>\n      <td>0.4087</td>\n      <td>0.12400</td>\n      <td>0</td>\n    </tr>\n    <tr>\n      <th>568</th>\n      <td>7.76</td>\n      <td>24.54</td>\n      <td>47.92</td>\n      <td>181.0</td>\n      <td>0.05263</td>\n      <td>0.04362</td>\n      <td>0.00000</td>\n      <td>0.00000</td>\n      <td>0.1587</td>\n      <td>0.05884</td>\n      <td>...</td>\n      <td>30.37</td>\n      <td>59.16</td>\n      <td>268.6</td>\n      <td>0.08996</td>\n      <td>0.06444</td>\n      <td>0.0000</td>\n      <td>0.0000</td>\n      <td>0.2871</td>\n      <td>0.07039</td>\n      <td>1</td>\n    </tr>\n  </tbody>\n</table>\n<p>569 rows × 31 columns</p>\n</div>"
     },
     "execution_count": 33,
     "metadata": {},
     "output_type": "execute_result"
    }
   ],
   "source": [
    "print('1. 데이터 프레임 만들기 - ')\n",
    "cancer_frm = pd.DataFrame(data    = cancer.data ,\n",
    "                          columns = cancer.feature_names)\n",
    "cancer_frm['target'] = cancer.target\n",
    "cancer_frm"
   ],
   "metadata": {
    "collapsed": false,
    "pycharm": {
     "name": "#%%\n"
    }
   }
  },
  {
   "cell_type": "code",
   "execution_count": 34,
   "outputs": [
    {
     "name": "stdout",
     "output_type": "stream",
     "text": [
      "DecisionTree Estimator - \n",
      "train , test : 7 , 3\n",
      "학습 - 예측 fit , predict\n",
      "모델 정확도 평가 - accuracy_score\n",
      "\n"
     ]
    },
    {
     "data": {
      "text/plain": "((398, 30), (171, 30), (398,), (171,))"
     },
     "execution_count": 34,
     "metadata": {},
     "output_type": "execute_result"
    }
   ],
   "source": [
    "print('DecisionTree Estimator - ')\n",
    "print('train , test : 7 , 3')\n",
    "print('학습 - 예측 fit , predict')\n",
    "print('모델 정확도 평가 - accuracy_score')\n",
    "print()\n",
    "\n",
    "X_train , X_test , y_train , y_test = train_test_split(cancer.data   ,\n",
    "                                                       cancer.target ,\n",
    "                                                       test_size    = 0.3 ,\n",
    "                                                       shuffle      = True ,\n",
    "                                                       random_state = 200 )\n",
    "\n",
    "X_train.shape , X_test.shape , y_train.shape , y_test.shape"
   ],
   "metadata": {
    "collapsed": false,
    "pycharm": {
     "name": "#%%\n"
    }
   }
  },
  {
   "cell_type": "code",
   "execution_count": 35,
   "outputs": [
    {
     "name": "stdout",
     "output_type": "stream",
     "text": [
      "predict 함수에 테스트 데이터를 넣어서 분류예측 값을 반환 - \n",
      "answer -  [1 0 1 1 1 1 1 1 0 0 0 0 1 0 1 1 0 1 1 0 0 1 1 0 0 1 1 0 1 0 1 1 0 1 0 0 1\n",
      " 1 1 0 1 1 0 1 0 1 0 0 1 0 1 1 0 0 1 1 0 1 1 1 1 1 1 1 1 0 1 1 1 0 1 1 1 1\n",
      " 0 1 1 0 0 1 1 1 1 0 1 0 1 1 0 0 1 1 0 1 1 1 1 1 1 0 1 1 1 1 1 1 1 0 1 1 1\n",
      " 1 0 1 1 1 1 1 0 1 1 1 1 0 1 1 0 0 1 1 1 1 1 1 1 1 1 1 0 1 1 0 0 0 1 1 1 1\n",
      " 1 1 0 0 1 1 1 0 1 0 0 0 1 1 1 1 1 1 1 0 1 0 0]\n",
      "pred   -  [1 1 1 1 1 1 1 1 0 0 1 0 1 0 1 1 0 1 0 0 0 1 0 0 0 1 1 1 1 0 1 1 0 1 0 0 1\n",
      " 1 1 0 1 1 1 1 0 1 0 0 1 0 1 1 0 0 1 1 0 1 1 1 1 1 1 1 1 0 1 1 1 0 1 1 1 1\n",
      " 0 1 1 0 0 1 1 1 0 0 1 1 1 0 0 1 1 1 0 0 1 1 1 1 1 0 1 1 0 0 1 1 1 0 1 1 1\n",
      " 1 0 1 1 1 1 1 1 1 1 1 1 0 1 1 0 0 1 1 1 1 1 1 1 1 1 1 0 1 1 0 0 0 1 1 1 1\n",
      " 1 1 0 0 1 1 1 0 1 0 0 0 1 1 1 1 1 1 1 0 1 0 0]\n"
     ]
    }
   ],
   "source": [
    "cancer_model = DecisionTreeClassifier()\n",
    "cancer_model.fit(X_train, y_train)\n",
    "\n",
    "print('predict 함수에 테스트 데이터를 넣어서 분류예측 값을 반환 - ')\n",
    "y_pred = cancer_model.predict(X_test)\n",
    "print('answer - ' , y_test)\n",
    "print('pred   - ' , y_pred)"
   ],
   "metadata": {
    "collapsed": false,
    "pycharm": {
     "name": "#%%\n"
    }
   }
  },
  {
   "cell_type": "code",
   "execution_count": 36,
   "outputs": [
    {
     "name": "stdout",
     "output_type": "stream",
     "text": [
      "성능평가 - \n",
      "예측 정확도 -  0.9181286549707602\n"
     ]
    }
   ],
   "source": [
    "print('성능평가 - ')\n",
    "print('예측 정확도 - ' , accuracy_score(y_test , y_pred) )"
   ],
   "metadata": {
    "collapsed": false,
    "pycharm": {
     "name": "#%%\n"
    }
   }
  },
  {
   "cell_type": "code",
   "execution_count": 40,
   "outputs": [
    {
     "name": "stdout",
     "output_type": "stream",
     "text": [
      "graphvis 트리 시각화 - \n"
     ]
    }
   ],
   "source": [
    "print('graphvis 트리 시각화 - ')\n",
    "# export_graphviz(cancer_model ,\n",
    "#                 out_file      = 'cancer_tree.dot' ,\n",
    "#                 class_names   = cancer.target_names ,\n",
    "#                 feature_names = cancer.feature_names ,\n",
    "#                 impurity = True ,\n",
    "#                 filled   = True)\n",
    "# 'criterion': 'gini', 'max_depth': 3, 'min_samples_split': 2, 'splitter': 'best'\n",
    "graph_cancer_model = DecisionTreeClassifier(criterion         = 'gini',\n",
    "                                      max_depth         = 3,\n",
    "                                      min_samples_split = 2,\n",
    "                                      splitter          = 'best')\n",
    "graph_cancer_model.fit(X_train, y_train)\n",
    "export_graphviz(graph_cancer_model ,\n",
    "                out_file      = 'cancer_tree.dot' ,\n",
    "                class_names   = cancer.target_names ,\n",
    "                feature_names = cancer.feature_names ,\n",
    "                impurity = True ,\n",
    "                filled   = True)"
   ],
   "metadata": {
    "collapsed": false,
    "pycharm": {
     "name": "#%%\n"
    }
   }
  },
  {
   "cell_type": "code",
   "execution_count": 41,
   "outputs": [
    {
     "data": {
      "text/plain": "array([0, 0, 0, 0, 0, 0, 0, 0, 0, 0, 0, 0, 0, 0, 0, 0, 0, 0, 0, 0, 0, 0,\n       0, 0, 0, 0, 0, 0, 0, 0, 0, 0, 0, 0, 0, 0, 0, 0, 0, 0, 0, 0, 0, 0,\n       0, 0, 0, 0, 0, 0, 1, 1, 1, 1, 1, 1, 1, 1, 1, 1, 1, 1, 1, 1, 1, 1,\n       1, 1, 1, 1, 1, 1, 1, 1, 1, 1, 1, 1, 1, 1, 1, 1, 1, 1, 1, 1, 1, 1,\n       1, 1, 1, 1, 1, 1, 1, 1, 1, 1, 1, 1, 2, 2, 2, 2, 2, 2, 2, 2, 2, 2,\n       2, 2, 2, 2, 2, 2, 2, 2, 2, 2, 2, 2, 2, 2, 2, 2, 2, 2, 2, 2, 2, 2,\n       2, 2, 2, 2, 2, 2, 2, 2, 2, 2, 2, 2, 2, 2, 2, 2, 2, 2])"
     },
     "execution_count": 41,
     "metadata": {},
     "output_type": "execute_result"
    }
   ],
   "source": [
    "features = iris.data\n",
    "target   = iris.target\n",
    "\n",
    "target"
   ],
   "metadata": {
    "collapsed": false,
    "pycharm": {
     "name": "#%%\n"
    }
   }
  },
  {
   "cell_type": "code",
   "execution_count": 42,
   "outputs": [
    {
     "name": "stdout",
     "output_type": "stream",
     "text": [
      "fold set : 1 , 교차검증 정확도 : 1.0 , 학습데이터 크기 : 120 , 검증데이터 크기 : 30 \n",
      "1 검증 세트 인덱스 [ 0  1  2  3  4  5  6  7  8  9 10 11 12 13 14 15 16 17 18 19 20 21 22 23\n",
      " 24 25 26 27 28 29] \n",
      "\n",
      "\n",
      "fold set : 2 , 교차검증 정확도 : 1.0 , 학습데이터 크기 : 120 , 검증데이터 크기 : 30 \n",
      "2 검증 세트 인덱스 [30 31 32 33 34 35 36 37 38 39 40 41 42 43 44 45 46 47 48 49 50 51 52 53\n",
      " 54 55 56 57 58 59] \n",
      "\n",
      "\n",
      "fold set : 3 , 교차검증 정확도 : 0.8333333333333334 , 학습데이터 크기 : 120 , 검증데이터 크기 : 30 \n",
      "3 검증 세트 인덱스 [60 61 62 63 64 65 66 67 68 69 70 71 72 73 74 75 76 77 78 79 80 81 82 83\n",
      " 84 85 86 87 88 89] \n",
      "\n",
      "\n",
      "fold set : 4 , 교차검증 정확도 : 0.9333333333333333 , 학습데이터 크기 : 120 , 검증데이터 크기 : 30 \n",
      "4 검증 세트 인덱스 [ 90  91  92  93  94  95  96  97  98  99 100 101 102 103 104 105 106 107\n",
      " 108 109 110 111 112 113 114 115 116 117 118 119] \n",
      "\n",
      "\n",
      "fold set : 5 , 교차검증 정확도 : 0.7333333333333333 , 학습데이터 크기 : 120 , 검증데이터 크기 : 30 \n",
      "5 검증 세트 인덱스 [120 121 122 123 124 125 126 127 128 129 130 131 132 133 134 135 136 137\n",
      " 138 139 140 141 142 143 144 145 146 147 148 149] \n",
      "\n",
      "\n",
      "\n",
      "평균 검증 정확도 :  0.9\n"
     ]
    }
   ],
   "source": [
    "fold = KFold(n_splits = 5)\n",
    "cv_accuracy = []\n",
    "\n",
    "cv_dt_model = DecisionTreeClassifier()\n",
    "fold_idx = 0\n",
    "for train_idx , test_idx in fold.split(features) :\n",
    "#     print('train idx - ' , train_idx)\n",
    "#     print()\n",
    "#     print('test  idx - ' , test_idx)\n",
    "#     print(\"*\" * 50)\n",
    "\n",
    "    X_train , X_test = features[train_idx] , features[test_idx]\n",
    "    y_train , y_test = target[train_idx]   , target[test_idx]\n",
    "\n",
    "    cv_dt_model.fit(X_train, y_train)\n",
    "    fold_pred = cv_dt_model.predict(X_test)\n",
    "\n",
    "    fold_idx += 1\n",
    "\n",
    "    acc = accuracy_score(y_test , fold_pred)\n",
    "\n",
    "    print('fold set : {} , 교차검증 정확도 : {} , 학습데이터 크기 : {} , 검증데이터 크기 : {} '.format(fold_idx , acc, X_train.shape[0] , X_test.shape[0]))\n",
    "    print('{} 검증 세트 인덱스 {} '.format(fold_idx , test_idx))\n",
    "    cv_accuracy.append(acc)\n",
    "    print()\n",
    "    print()\n",
    "\n",
    "print()\n",
    "print('평균 검증 정확도 : ' , np.mean(cv_accuracy))"
   ],
   "metadata": {
    "collapsed": false,
    "pycharm": {
     "name": "#%%\n"
    }
   }
  },
  {
   "cell_type": "code",
   "execution_count": 43,
   "outputs": [
    {
     "name": "stdout",
     "output_type": "stream",
     "text": [
      "KFold 의 문제점 확인 - \n"
     ]
    },
    {
     "data": {
      "text/plain": "0    50\n1    50\n2    50\nName: target, dtype: int64"
     },
     "execution_count": 43,
     "metadata": {},
     "output_type": "execute_result"
    }
   ],
   "source": [
    "print('KFold 의 문제점 확인 - ')\n",
    "iris_frm['target'].value_counts()"
   ],
   "metadata": {
    "collapsed": false,
    "pycharm": {
     "name": "#%%\n"
    }
   }
  },
  {
   "cell_type": "code",
   "execution_count": 44,
   "outputs": [
    {
     "name": "stdout",
     "output_type": "stream",
     "text": [
      "\n",
      "교차검증 1 set \n",
      "train value count - \n",
      "1    50\n",
      "2    50\n",
      "Name: target, dtype: int64\n",
      "test  value count - \n",
      "0    50\n",
      "Name: target, dtype: int64\n",
      "\n",
      "\n",
      "\n",
      "교차검증 2 set \n",
      "train value count - \n",
      "0    50\n",
      "2    50\n",
      "Name: target, dtype: int64\n",
      "test  value count - \n",
      "1    50\n",
      "Name: target, dtype: int64\n",
      "\n",
      "\n",
      "\n",
      "교차검증 3 set \n",
      "train value count - \n",
      "0    50\n",
      "1    50\n",
      "Name: target, dtype: int64\n",
      "test  value count - \n",
      "2    50\n",
      "Name: target, dtype: int64\n",
      "\n",
      "\n"
     ]
    }
   ],
   "source": [
    "fold = KFold(n_splits = 3)\n",
    "\n",
    "fold_idx = 0\n",
    "for train_idx , test_idx in fold.split(iris_frm) :\n",
    "    target_train = iris_frm['target'].iloc[train_idx]\n",
    "    target_test  = iris_frm['target'].iloc[test_idx]\n",
    "    print()\n",
    "    fold_idx += 1\n",
    "\n",
    "    print('교차검증 {} set '.format(fold_idx) )\n",
    "    print('train value count - ')\n",
    "    print(target_train.value_counts())\n",
    "    print('test  value count - ')\n",
    "    print(target_test.value_counts())\n",
    "    print()\n",
    "    print()\n"
   ],
   "metadata": {
    "collapsed": false,
    "pycharm": {
     "name": "#%%\n"
    }
   }
  },
  {
   "cell_type": "code",
   "execution_count": 45,
   "outputs": [
    {
     "name": "stdout",
     "output_type": "stream",
     "text": [
      "레이블 데이터 세트도 필요함!!!\n",
      "\n",
      "교차검증 1 set \n",
      "train value count - \n",
      "2    34\n",
      "0    33\n",
      "1    33\n",
      "Name: target, dtype: int64\n",
      "test  value count - \n",
      "0    17\n",
      "1    17\n",
      "2    16\n",
      "Name: target, dtype: int64\n",
      "\n",
      "\n",
      "\n",
      "교차검증 2 set \n",
      "train value count - \n",
      "1    34\n",
      "0    33\n",
      "2    33\n",
      "Name: target, dtype: int64\n",
      "test  value count - \n",
      "0    17\n",
      "2    17\n",
      "1    16\n",
      "Name: target, dtype: int64\n",
      "\n",
      "\n",
      "\n",
      "교차검증 3 set \n",
      "train value count - \n",
      "0    34\n",
      "1    33\n",
      "2    33\n",
      "Name: target, dtype: int64\n",
      "test  value count - \n",
      "1    17\n",
      "2    17\n",
      "0    16\n",
      "Name: target, dtype: int64\n",
      "\n",
      "\n"
     ]
    }
   ],
   "source": [
    "skf = StratifiedKFold(n_splits = 3)\n",
    "\n",
    "fold_idx = 0\n",
    "\n",
    "print('레이블 데이터 세트도 필요함!!!')\n",
    "\n",
    "for train_idx , test_idx in skf.split(iris_frm , iris_frm['target']) :\n",
    "\n",
    "    target_train = iris_frm['target'].iloc[train_idx]\n",
    "    target_test  = iris_frm['target'].iloc[test_idx]\n",
    "    print()\n",
    "    fold_idx += 1\n",
    "\n",
    "    print('교차검증 {} set '.format(fold_idx) )\n",
    "    print('train value count - ')\n",
    "    print(target_train.value_counts())\n",
    "    print('test  value count - ')\n",
    "    print(target_test.value_counts())\n",
    "    print()\n",
    "    print()"
   ],
   "metadata": {
    "collapsed": false,
    "pycharm": {
     "name": "#%%\n"
    }
   }
  },
  {
   "cell_type": "code",
   "execution_count": 46,
   "outputs": [
    {
     "name": "stdout",
     "output_type": "stream",
     "text": [
      "fold set : 1 , 교차검증 정확도 : 0.98 , 학습데이터 크기 : 100 , 검증데이터 크기 : 30 \n",
      "1 검증 세트 인덱스 [  0   1   2   3   4   5   6   7   8   9  10  11  12  13  14  15  16  50\n",
      "  51  52  53  54  55  56  57  58  59  60  61  62  63  64  65  66 100 101\n",
      " 102 103 104 105 106 107 108 109 110 111 112 113 114 115] \n",
      "\n",
      "\n",
      "fold set : 2 , 교차검증 정확도 : 0.94 , 학습데이터 크기 : 100 , 검증데이터 크기 : 30 \n",
      "2 검증 세트 인덱스 [ 17  18  19  20  21  22  23  24  25  26  27  28  29  30  31  32  33  67\n",
      "  68  69  70  71  72  73  74  75  76  77  78  79  80  81  82 116 117 118\n",
      " 119 120 121 122 123 124 125 126 127 128 129 130 131 132] \n",
      "\n",
      "\n",
      "fold set : 3 , 교차검증 정확도 : 1.0 , 학습데이터 크기 : 100 , 검증데이터 크기 : 30 \n",
      "3 검증 세트 인덱스 [ 34  35  36  37  38  39  40  41  42  43  44  45  46  47  48  49  83  84\n",
      "  85  86  87  88  89  90  91  92  93  94  95  96  97  98  99 133 134 135\n",
      " 136 137 138 139 140 141 142 143 144 145 146 147 148 149] \n",
      "\n",
      "\n"
     ]
    }
   ],
   "source": [
    "skf = StratifiedKFold(n_splits = 3)\n",
    "\n",
    "fold_idx = 0\n",
    "cv_accuracy = []\n",
    "\n",
    "skf_dt_model = DecisionTreeClassifier()\n",
    "\n",
    "for train_idx , test_idx in skf.split(features , target) :\n",
    "\n",
    "    # 학습 , 검증 데이터를 추출\n",
    "    X_train , X_validation = features[train_idx] , features[test_idx]\n",
    "    y_train , y_validation = target[train_idx]   , target[test_idx]\n",
    "\n",
    "    # 학습, 예측\n",
    "    skf_dt_model.fit(X_train , y_train)\n",
    "    pred = skf_dt_model.predict(X_validation)\n",
    "\n",
    "    fold_idx += 1\n",
    "\n",
    "\n",
    "    acc = accuracy_score(y_validation , pred)\n",
    "\n",
    "    print('fold set : {} , 교차검증 정확도 : {} , 학습데이터 크기 : {} , 검증데이터 크기 : {} '.format(fold_idx , acc, X_train.shape[0] , X_test.shape[0]))\n",
    "    print('{} 검증 세트 인덱스 {} '.format(fold_idx , test_idx))\n",
    "    cv_accuracy.append(acc)\n",
    "    print()\n",
    "    print()"
   ],
   "metadata": {
    "collapsed": false,
    "pycharm": {
     "name": "#%%\n"
    }
   }
  },
  {
   "cell_type": "code",
   "execution_count": 47,
   "outputs": [
    {
     "name": "stdout",
     "output_type": "stream",
     "text": [
      "평균 검증 정확도 :  0.9733333333333333\n"
     ]
    }
   ],
   "source": [
    "print('평균 검증 정확도 : ' , np.mean(cv_accuracy))"
   ],
   "metadata": {
    "collapsed": false,
    "pycharm": {
     "name": "#%%\n"
    }
   }
  },
  {
   "cell_type": "code",
   "execution_count": 48,
   "outputs": [
    {
     "name": "stdout",
     "output_type": "stream",
     "text": [
      "교차 검증 정확도 -  [0.98 0.92 0.96]\n",
      "평균 검증 정확도 -  0.9533333333333333\n"
     ]
    }
   ],
   "source": [
    "features = iris.data\n",
    "target   = iris.target\n",
    "\n",
    "dt_model = DecisionTreeClassifier(random_state = 100)\n",
    "\n",
    "scores = cross_val_score(dt_model , features , target , scoring = 'accuracy' , cv = 3)\n",
    "\n",
    "print('교차 검증 정확도 - ' , scores )\n",
    "print('평균 검증 정확도 - ' , np.mean(scores) )\n"
   ],
   "metadata": {
    "collapsed": false,
    "pycharm": {
     "name": "#%%\n"
    }
   }
  },
  {
   "cell_type": "code",
   "execution_count": null,
   "outputs": [],
   "source": [],
   "metadata": {
    "collapsed": false,
    "pycharm": {
     "name": "#%%\n"
    }
   }
  },
  {
   "cell_type": "code",
   "execution_count": null,
   "outputs": [],
   "source": [],
   "metadata": {
    "collapsed": false,
    "pycharm": {
     "name": "#%%\n"
    }
   }
  },
  {
   "cell_type": "code",
   "execution_count": null,
   "outputs": [],
   "source": [],
   "metadata": {
    "collapsed": false,
    "pycharm": {
     "name": "#%%\n"
    }
   }
  },
  {
   "cell_type": "code",
   "execution_count": null,
   "outputs": [],
   "source": [],
   "metadata": {
    "collapsed": false,
    "pycharm": {
     "name": "#%%\n"
    }
   }
  },
  {
   "cell_type": "code",
   "execution_count": null,
   "outputs": [],
   "source": [],
   "metadata": {
    "collapsed": false,
    "pycharm": {
     "name": "#%%\n"
    }
   }
  },
  {
   "cell_type": "code",
   "execution_count": null,
   "outputs": [],
   "source": [],
   "metadata": {
    "collapsed": false,
    "pycharm": {
     "name": "#%%\n"
    }
   }
  },
  {
   "cell_type": "code",
   "execution_count": null,
   "outputs": [],
   "source": [],
   "metadata": {
    "collapsed": false,
    "pycharm": {
     "name": "#%%\n"
    }
   }
  },
  {
   "cell_type": "code",
   "execution_count": null,
   "outputs": [],
   "source": [],
   "metadata": {
    "collapsed": false,
    "pycharm": {
     "name": "#%%\n"
    }
   }
  },
  {
   "cell_type": "code",
   "execution_count": null,
   "outputs": [],
   "source": [],
   "metadata": {
    "collapsed": false,
    "pycharm": {
     "name": "#%%\n"
    }
   }
  },
  {
   "cell_type": "code",
   "execution_count": null,
   "outputs": [],
   "source": [],
   "metadata": {
    "collapsed": false,
    "pycharm": {
     "name": "#%%\n"
    }
   }
  },
  {
   "cell_type": "code",
   "execution_count": null,
   "outputs": [],
   "source": [],
   "metadata": {
    "collapsed": false,
    "pycharm": {
     "name": "#%%\n"
    }
   }
  },
  {
   "cell_type": "code",
   "execution_count": null,
   "outputs": [],
   "source": [],
   "metadata": {
    "collapsed": false,
    "pycharm": {
     "name": "#%%\n"
    }
   }
  },
  {
   "cell_type": "code",
   "execution_count": null,
   "outputs": [],
   "source": [],
   "metadata": {
    "collapsed": false,
    "pycharm": {
     "name": "#%%\n"
    }
   }
  },
  {
   "cell_type": "code",
   "execution_count": null,
   "outputs": [],
   "source": [],
   "metadata": {
    "collapsed": false,
    "pycharm": {
     "name": "#%%\n"
    }
   }
  },
  {
   "cell_type": "code",
   "execution_count": null,
   "outputs": [],
   "source": [],
   "metadata": {
    "collapsed": false,
    "pycharm": {
     "name": "#%%\n"
    }
   }
  },
  {
   "cell_type": "code",
   "execution_count": 5,
   "outputs": [],
   "source": [],
   "metadata": {
    "collapsed": false,
    "pycharm": {
     "name": "#%%\n"
    }
   }
  },
  {
   "cell_type": "code",
   "execution_count": 5,
   "outputs": [],
   "source": [],
   "metadata": {
    "collapsed": false,
    "pycharm": {
     "name": "#%%\n"
    }
   }
  },
  {
   "cell_type": "code",
   "execution_count": 5,
   "outputs": [],
   "source": [],
   "metadata": {
    "collapsed": false,
    "pycharm": {
     "name": "#%%\n"
    }
   }
  },
  {
   "cell_type": "code",
   "execution_count": 5,
   "outputs": [],
   "source": [],
   "metadata": {
    "collapsed": false,
    "pycharm": {
     "name": "#%%\n"
    }
   }
  }
 ],
 "metadata": {
  "kernelspec": {
   "display_name": "Python 3",
   "language": "python",
   "name": "python3"
  },
  "language_info": {
   "codemirror_mode": {
    "name": "ipython",
    "version": 2
   },
   "file_extension": ".py",
   "mimetype": "text/x-python",
   "name": "python",
   "nbconvert_exporter": "python",
   "pygments_lexer": "ipython2",
   "version": "2.7.6"
  }
 },
 "nbformat": 4,
 "nbformat_minor": 0
}