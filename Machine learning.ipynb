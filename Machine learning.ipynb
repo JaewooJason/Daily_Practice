{
 "cells": [
  {
   "cell_type": "code",
   "execution_count": 1,
   "metadata": {
    "collapsed": true
   },
   "outputs": [
    {
     "data": {
      "text/plain": "'\\n- machine learning 은 데이터를 기반으로 패턴을 학습하고 결과를 추론하는 알고리즘 기법\\n- 지도 학습(supervised learning), 비지도 학습(unsupervised leanring), 강화학습(reinforcement learning)으로 3가지로 나뉘게 된다\\n- 지도 학습: 분류(Classification), 회귀(regression)\\n- 비지도 학습: 군집화(클러스터링), 차원축소(PCA)\\n\\n머신러닝에서 기본으로 알아야 하는 용어\\n\\nfeature : 머신러닝에서 데이터를 피쳐로 말한다. *데이터의 일반속성\\n결정값을 의미 하는 용어: target, label, class, 결정값이라고 말하면 여기서 결정값은 정답데이터를 의미한다.\\n\\n'"
     },
     "execution_count": 1,
     "metadata": {},
     "output_type": "execute_result"
    }
   ],
   "source": [
    "'''\n",
    "- machine learning 은 데이터를 기반으로 패턴을 학습하고 결과를 추론하는 알고리즘 기법\n",
    "- 지도 학습(supervised learning), 비지도 학습(unsupervised leanring), 강화학습(reinforcement learning)으로 3가지로 나뉘게 된다\n",
    "- 지도 학습: 분류(Classification), 회귀(regression)\n",
    "- 비지도 학습: 군집화(클러스터링), 차원축소(PCA)\n",
    "\n",
    "머신러닝에서 기본으로 알아야 하는 용어\n",
    "\n",
    "feature : 머신러닝에서 데이터를 피쳐로 말한다. *데이터의 일반속성\n",
    "결정값을 의미 하는 용어: target, label, class, 결정값이라고 말하면 여기서 결정값은 정답데이터를 의미한다.\n",
    "\n",
    "'''"
   ]
  },
  {
   "cell_type": "code",
   "execution_count": 16,
   "outputs": [
    {
     "data": {
      "text/plain": "'0.24.2'"
     },
     "execution_count": 16,
     "metadata": {},
     "output_type": "execute_result"
    }
   ],
   "source": [
    "import numpy  as np\n",
    "import pandas as pd\n",
    "\n",
    "import warnings\n",
    "warnings.filterwarnings(action='ignore')\n",
    "\n",
    "from datetime import date, datetime, timedelta\n",
    "from dateutil.parser import parse\n",
    "\n",
    "import matplotlib.pyplot as plt\n",
    "%matplotlib inline\n",
    "\n",
    "import json\n",
    "import urllib\n",
    "\n",
    "# titanic dataset\n",
    "import seaborn as sns\n",
    "\n",
    "# 비정형 데이터 처리를 위한 라이브러리\n",
    "from bs4 import BeautifulSoup\n",
    "import requests\n",
    "import re\n",
    "\n",
    "from bs4 import BeautifulSoup\n",
    "from urllib.request import urlopen, urlretrieve\n",
    "from urllib.error import HTTPError\n",
    "from urllib.error import URLError\n",
    "\n",
    "import requests\n",
    "import re\n",
    "\n",
    "from time import sleep, time\n",
    "from random import randint\n",
    "from IPython.core.display import clear_output\n",
    "\n",
    "from selenium import webdriver\n",
    "# print('numpy  version - ' , np.__version__)\n",
    "# print('pandas version - ' , pd.__version__)\n",
    "\n",
    "# ml\n",
    "import sklearn\n",
    "from sklearn.datasets import load_iris,load_breast_cancer\n",
    "\n",
    "from sklearn.model_selection import train_test_split,KFold, StratifiedKFold, cross_val_score, cross_validate, GridSearchCV\n",
    "from sklearn.tree import DecisionTreeClassifier\n",
    "from sklearn.metrics import accuracy_score\n",
    "sklearn.__version__\n",
    "\n"
   ],
   "metadata": {
    "collapsed": false,
    "pycharm": {
     "name": "#%%\n"
    }
   }
  },
  {
   "cell_type": "code",
   "execution_count": 6,
   "outputs": [
    {
     "name": "stdout",
     "output_type": "stream",
     "text": [
      "type - <class 'sklearn.utils.Bunch'>\n",
      "key -  dict_keys(['data', 'target', 'frame', 'target_names', 'DESCR', 'feature_names', 'filename'])\n"
     ]
    }
   ],
   "source": [
    "iris = load_iris()\n",
    "print('type -', type(iris))\n",
    "print('key - ', iris.keys())"
   ],
   "metadata": {
    "collapsed": false,
    "pycharm": {
     "name": "#%%\n"
    }
   }
  },
  {
   "cell_type": "code",
   "execution_count": 7,
   "outputs": [
    {
     "data": {
      "text/plain": "array([[5.1, 3.5, 1.4, 0.2],\n       [4.9, 3. , 1.4, 0.2],\n       [4.7, 3.2, 1.3, 0.2],\n       [4.6, 3.1, 1.5, 0.2],\n       [5. , 3.6, 1.4, 0.2],\n       [5.4, 3.9, 1.7, 0.4],\n       [4.6, 3.4, 1.4, 0.3],\n       [5. , 3.4, 1.5, 0.2],\n       [4.4, 2.9, 1.4, 0.2],\n       [4.9, 3.1, 1.5, 0.1],\n       [5.4, 3.7, 1.5, 0.2],\n       [4.8, 3.4, 1.6, 0.2],\n       [4.8, 3. , 1.4, 0.1],\n       [4.3, 3. , 1.1, 0.1],\n       [5.8, 4. , 1.2, 0.2],\n       [5.7, 4.4, 1.5, 0.4],\n       [5.4, 3.9, 1.3, 0.4],\n       [5.1, 3.5, 1.4, 0.3],\n       [5.7, 3.8, 1.7, 0.3],\n       [5.1, 3.8, 1.5, 0.3],\n       [5.4, 3.4, 1.7, 0.2],\n       [5.1, 3.7, 1.5, 0.4],\n       [4.6, 3.6, 1. , 0.2],\n       [5.1, 3.3, 1.7, 0.5],\n       [4.8, 3.4, 1.9, 0.2],\n       [5. , 3. , 1.6, 0.2],\n       [5. , 3.4, 1.6, 0.4],\n       [5.2, 3.5, 1.5, 0.2],\n       [5.2, 3.4, 1.4, 0.2],\n       [4.7, 3.2, 1.6, 0.2],\n       [4.8, 3.1, 1.6, 0.2],\n       [5.4, 3.4, 1.5, 0.4],\n       [5.2, 4.1, 1.5, 0.1],\n       [5.5, 4.2, 1.4, 0.2],\n       [4.9, 3.1, 1.5, 0.2],\n       [5. , 3.2, 1.2, 0.2],\n       [5.5, 3.5, 1.3, 0.2],\n       [4.9, 3.6, 1.4, 0.1],\n       [4.4, 3. , 1.3, 0.2],\n       [5.1, 3.4, 1.5, 0.2],\n       [5. , 3.5, 1.3, 0.3],\n       [4.5, 2.3, 1.3, 0.3],\n       [4.4, 3.2, 1.3, 0.2],\n       [5. , 3.5, 1.6, 0.6],\n       [5.1, 3.8, 1.9, 0.4],\n       [4.8, 3. , 1.4, 0.3],\n       [5.1, 3.8, 1.6, 0.2],\n       [4.6, 3.2, 1.4, 0.2],\n       [5.3, 3.7, 1.5, 0.2],\n       [5. , 3.3, 1.4, 0.2],\n       [7. , 3.2, 4.7, 1.4],\n       [6.4, 3.2, 4.5, 1.5],\n       [6.9, 3.1, 4.9, 1.5],\n       [5.5, 2.3, 4. , 1.3],\n       [6.5, 2.8, 4.6, 1.5],\n       [5.7, 2.8, 4.5, 1.3],\n       [6.3, 3.3, 4.7, 1.6],\n       [4.9, 2.4, 3.3, 1. ],\n       [6.6, 2.9, 4.6, 1.3],\n       [5.2, 2.7, 3.9, 1.4],\n       [5. , 2. , 3.5, 1. ],\n       [5.9, 3. , 4.2, 1.5],\n       [6. , 2.2, 4. , 1. ],\n       [6.1, 2.9, 4.7, 1.4],\n       [5.6, 2.9, 3.6, 1.3],\n       [6.7, 3.1, 4.4, 1.4],\n       [5.6, 3. , 4.5, 1.5],\n       [5.8, 2.7, 4.1, 1. ],\n       [6.2, 2.2, 4.5, 1.5],\n       [5.6, 2.5, 3.9, 1.1],\n       [5.9, 3.2, 4.8, 1.8],\n       [6.1, 2.8, 4. , 1.3],\n       [6.3, 2.5, 4.9, 1.5],\n       [6.1, 2.8, 4.7, 1.2],\n       [6.4, 2.9, 4.3, 1.3],\n       [6.6, 3. , 4.4, 1.4],\n       [6.8, 2.8, 4.8, 1.4],\n       [6.7, 3. , 5. , 1.7],\n       [6. , 2.9, 4.5, 1.5],\n       [5.7, 2.6, 3.5, 1. ],\n       [5.5, 2.4, 3.8, 1.1],\n       [5.5, 2.4, 3.7, 1. ],\n       [5.8, 2.7, 3.9, 1.2],\n       [6. , 2.7, 5.1, 1.6],\n       [5.4, 3. , 4.5, 1.5],\n       [6. , 3.4, 4.5, 1.6],\n       [6.7, 3.1, 4.7, 1.5],\n       [6.3, 2.3, 4.4, 1.3],\n       [5.6, 3. , 4.1, 1.3],\n       [5.5, 2.5, 4. , 1.3],\n       [5.5, 2.6, 4.4, 1.2],\n       [6.1, 3. , 4.6, 1.4],\n       [5.8, 2.6, 4. , 1.2],\n       [5. , 2.3, 3.3, 1. ],\n       [5.6, 2.7, 4.2, 1.3],\n       [5.7, 3. , 4.2, 1.2],\n       [5.7, 2.9, 4.2, 1.3],\n       [6.2, 2.9, 4.3, 1.3],\n       [5.1, 2.5, 3. , 1.1],\n       [5.7, 2.8, 4.1, 1.3],\n       [6.3, 3.3, 6. , 2.5],\n       [5.8, 2.7, 5.1, 1.9],\n       [7.1, 3. , 5.9, 2.1],\n       [6.3, 2.9, 5.6, 1.8],\n       [6.5, 3. , 5.8, 2.2],\n       [7.6, 3. , 6.6, 2.1],\n       [4.9, 2.5, 4.5, 1.7],\n       [7.3, 2.9, 6.3, 1.8],\n       [6.7, 2.5, 5.8, 1.8],\n       [7.2, 3.6, 6.1, 2.5],\n       [6.5, 3.2, 5.1, 2. ],\n       [6.4, 2.7, 5.3, 1.9],\n       [6.8, 3. , 5.5, 2.1],\n       [5.7, 2.5, 5. , 2. ],\n       [5.8, 2.8, 5.1, 2.4],\n       [6.4, 3.2, 5.3, 2.3],\n       [6.5, 3. , 5.5, 1.8],\n       [7.7, 3.8, 6.7, 2.2],\n       [7.7, 2.6, 6.9, 2.3],\n       [6. , 2.2, 5. , 1.5],\n       [6.9, 3.2, 5.7, 2.3],\n       [5.6, 2.8, 4.9, 2. ],\n       [7.7, 2.8, 6.7, 2. ],\n       [6.3, 2.7, 4.9, 1.8],\n       [6.7, 3.3, 5.7, 2.1],\n       [7.2, 3.2, 6. , 1.8],\n       [6.2, 2.8, 4.8, 1.8],\n       [6.1, 3. , 4.9, 1.8],\n       [6.4, 2.8, 5.6, 2.1],\n       [7.2, 3. , 5.8, 1.6],\n       [7.4, 2.8, 6.1, 1.9],\n       [7.9, 3.8, 6.4, 2. ],\n       [6.4, 2.8, 5.6, 2.2],\n       [6.3, 2.8, 5.1, 1.5],\n       [6.1, 2.6, 5.6, 1.4],\n       [7.7, 3. , 6.1, 2.3],\n       [6.3, 3.4, 5.6, 2.4],\n       [6.4, 3.1, 5.5, 1.8],\n       [6. , 3. , 4.8, 1.8],\n       [6.9, 3.1, 5.4, 2.1],\n       [6.7, 3.1, 5.6, 2.4],\n       [6.9, 3.1, 5.1, 2.3],\n       [5.8, 2.7, 5.1, 1.9],\n       [6.8, 3.2, 5.9, 2.3],\n       [6.7, 3.3, 5.7, 2.5],\n       [6.7, 3. , 5.2, 2.3],\n       [6.3, 2.5, 5. , 1.9],\n       [6.5, 3. , 5.2, 2. ],\n       [6.2, 3.4, 5.4, 2.3],\n       [5.9, 3. , 5.1, 1.8]])"
     },
     "execution_count": 7,
     "metadata": {},
     "output_type": "execute_result"
    }
   ],
   "source": [
    "iris.data"
   ],
   "metadata": {
    "collapsed": false,
    "pycharm": {
     "name": "#%%\n"
    }
   }
  },
  {
   "cell_type": "code",
   "execution_count": 8,
   "outputs": [
    {
     "data": {
      "text/plain": "array([0, 0, 0, 0, 0, 0, 0, 0, 0, 0, 0, 0, 0, 0, 0, 0, 0, 0, 0, 0, 0, 0,\n       0, 0, 0, 0, 0, 0, 0, 0, 0, 0, 0, 0, 0, 0, 0, 0, 0, 0, 0, 0, 0, 0,\n       0, 0, 0, 0, 0, 0, 1, 1, 1, 1, 1, 1, 1, 1, 1, 1, 1, 1, 1, 1, 1, 1,\n       1, 1, 1, 1, 1, 1, 1, 1, 1, 1, 1, 1, 1, 1, 1, 1, 1, 1, 1, 1, 1, 1,\n       1, 1, 1, 1, 1, 1, 1, 1, 1, 1, 1, 1, 2, 2, 2, 2, 2, 2, 2, 2, 2, 2,\n       2, 2, 2, 2, 2, 2, 2, 2, 2, 2, 2, 2, 2, 2, 2, 2, 2, 2, 2, 2, 2, 2,\n       2, 2, 2, 2, 2, 2, 2, 2, 2, 2, 2, 2, 2, 2, 2, 2, 2, 2])"
     },
     "execution_count": 8,
     "metadata": {},
     "output_type": "execute_result"
    }
   ],
   "source": [
    "iris.target\n"
   ],
   "metadata": {
    "collapsed": false,
    "pycharm": {
     "name": "#%%\n"
    }
   }
  },
  {
   "cell_type": "code",
   "execution_count": 9,
   "outputs": [
    {
     "data": {
      "text/plain": "['sepal length (cm)',\n 'sepal width (cm)',\n 'petal length (cm)',\n 'petal width (cm)']"
     },
     "execution_count": 9,
     "metadata": {},
     "output_type": "execute_result"
    }
   ],
   "source": [
    "iris.feature_names"
   ],
   "metadata": {
    "collapsed": false,
    "pycharm": {
     "name": "#%%\n"
    }
   }
  },
  {
   "cell_type": "code",
   "execution_count": 10,
   "outputs": [
    {
     "name": "stdout",
     "output_type": "stream",
     "text": [
      "feature, target를 이용해서 데이터프레임을 만들어 보자\n"
     ]
    },
    {
     "data": {
      "text/plain": "     sepal length (cm)  sepal width (cm)  petal length (cm)  petal width (cm)  \\\n0                  5.1               3.5                1.4               0.2   \n1                  4.9               3.0                1.4               0.2   \n2                  4.7               3.2                1.3               0.2   \n3                  4.6               3.1                1.5               0.2   \n4                  5.0               3.6                1.4               0.2   \n..                 ...               ...                ...               ...   \n145                6.7               3.0                5.2               2.3   \n146                6.3               2.5                5.0               1.9   \n147                6.5               3.0                5.2               2.0   \n148                6.2               3.4                5.4               2.3   \n149                5.9               3.0                5.1               1.8   \n\n     target  \n0         0  \n1         0  \n2         0  \n3         0  \n4         0  \n..      ...  \n145       2  \n146       2  \n147       2  \n148       2  \n149       2  \n\n[150 rows x 5 columns]",
      "text/html": "<div>\n<style scoped>\n    .dataframe tbody tr th:only-of-type {\n        vertical-align: middle;\n    }\n\n    .dataframe tbody tr th {\n        vertical-align: top;\n    }\n\n    .dataframe thead th {\n        text-align: right;\n    }\n</style>\n<table border=\"1\" class=\"dataframe\">\n  <thead>\n    <tr style=\"text-align: right;\">\n      <th></th>\n      <th>sepal length (cm)</th>\n      <th>sepal width (cm)</th>\n      <th>petal length (cm)</th>\n      <th>petal width (cm)</th>\n      <th>target</th>\n    </tr>\n  </thead>\n  <tbody>\n    <tr>\n      <th>0</th>\n      <td>5.1</td>\n      <td>3.5</td>\n      <td>1.4</td>\n      <td>0.2</td>\n      <td>0</td>\n    </tr>\n    <tr>\n      <th>1</th>\n      <td>4.9</td>\n      <td>3.0</td>\n      <td>1.4</td>\n      <td>0.2</td>\n      <td>0</td>\n    </tr>\n    <tr>\n      <th>2</th>\n      <td>4.7</td>\n      <td>3.2</td>\n      <td>1.3</td>\n      <td>0.2</td>\n      <td>0</td>\n    </tr>\n    <tr>\n      <th>3</th>\n      <td>4.6</td>\n      <td>3.1</td>\n      <td>1.5</td>\n      <td>0.2</td>\n      <td>0</td>\n    </tr>\n    <tr>\n      <th>4</th>\n      <td>5.0</td>\n      <td>3.6</td>\n      <td>1.4</td>\n      <td>0.2</td>\n      <td>0</td>\n    </tr>\n    <tr>\n      <th>...</th>\n      <td>...</td>\n      <td>...</td>\n      <td>...</td>\n      <td>...</td>\n      <td>...</td>\n    </tr>\n    <tr>\n      <th>145</th>\n      <td>6.7</td>\n      <td>3.0</td>\n      <td>5.2</td>\n      <td>2.3</td>\n      <td>2</td>\n    </tr>\n    <tr>\n      <th>146</th>\n      <td>6.3</td>\n      <td>2.5</td>\n      <td>5.0</td>\n      <td>1.9</td>\n      <td>2</td>\n    </tr>\n    <tr>\n      <th>147</th>\n      <td>6.5</td>\n      <td>3.0</td>\n      <td>5.2</td>\n      <td>2.0</td>\n      <td>2</td>\n    </tr>\n    <tr>\n      <th>148</th>\n      <td>6.2</td>\n      <td>3.4</td>\n      <td>5.4</td>\n      <td>2.3</td>\n      <td>2</td>\n    </tr>\n    <tr>\n      <th>149</th>\n      <td>5.9</td>\n      <td>3.0</td>\n      <td>5.1</td>\n      <td>1.8</td>\n      <td>2</td>\n    </tr>\n  </tbody>\n</table>\n<p>150 rows × 5 columns</p>\n</div>"
     },
     "execution_count": 10,
     "metadata": {},
     "output_type": "execute_result"
    }
   ],
   "source": [
    "print('feature, target를 이용해서 데이터프레임을 만들어 보자')\n",
    "\n",
    "iris_frm = pd.DataFrame(data = iris.data,\n",
    "                       columns = iris.feature_names)\n",
    "\n",
    "iris_frm['target'] = iris.target\n",
    "iris_frm"
   ],
   "metadata": {
    "collapsed": false,
    "pycharm": {
     "name": "#%%\n"
    }
   }
  },
  {
   "cell_type": "code",
   "execution_count": 11,
   "outputs": [
    {
     "name": "stdout",
     "output_type": "stream",
     "text": [
      "step01 - 데이터세트 분리\n",
      "train data -  [[5.1 3.4 1.5 0.2]\n",
      " [5.7 2.8 4.1 1.3]\n",
      " [5.8 2.6 4.  1.2]\n",
      " [5.  3.6 1.4 0.2]\n",
      " [6.2 2.9 4.3 1.3]\n",
      " [5.3 3.7 1.5 0.2]\n",
      " [5.4 3.7 1.5 0.2]\n",
      " [4.9 3.1 1.5 0.1]\n",
      " [6.1 3.  4.9 1.8]\n",
      " [6.7 3.1 4.7 1.5]\n",
      " [5.6 3.  4.1 1.3]\n",
      " [4.8 3.  1.4 0.1]\n",
      " [5.1 3.7 1.5 0.4]\n",
      " [5.6 3.  4.5 1.5]\n",
      " [5.7 2.5 5.  2. ]\n",
      " [6.  2.2 5.  1.5]\n",
      " [7.7 3.  6.1 2.3]\n",
      " [5.  3.  1.6 0.2]\n",
      " [6.8 3.2 5.9 2.3]\n",
      " [6.3 2.3 4.4 1.3]\n",
      " [7.7 2.6 6.9 2.3]\n",
      " [5.8 2.7 4.1 1. ]\n",
      " [6.4 2.9 4.3 1.3]\n",
      " [5.6 2.7 4.2 1.3]\n",
      " [5.6 2.8 4.9 2. ]\n",
      " [5.5 3.5 1.3 0.2]\n",
      " [6.  2.7 5.1 1.6]\n",
      " [5.6 2.5 3.9 1.1]\n",
      " [6.1 2.8 4.7 1.2]\n",
      " [6.3 2.8 5.1 1.5]\n",
      " [4.4 2.9 1.4 0.2]\n",
      " [5.  3.3 1.4 0.2]\n",
      " [6.8 3.  5.5 2.1]\n",
      " [5.1 3.5 1.4 0.3]\n",
      " [5.7 4.4 1.5 0.4]\n",
      " [6.5 3.  5.8 2.2]\n",
      " [6.1 3.  4.6 1.4]\n",
      " [5.1 3.8 1.6 0.2]\n",
      " [5.  3.5 1.6 0.6]\n",
      " [5.8 2.7 5.1 1.9]\n",
      " [4.9 3.6 1.4 0.1]\n",
      " [4.4 3.  1.3 0.2]\n",
      " [7.2 3.2 6.  1.8]\n",
      " [6.3 2.9 5.6 1.8]\n",
      " [6.1 2.8 4.  1.3]\n",
      " [6.7 3.1 4.4 1.4]\n",
      " [5.9 3.  5.1 1.8]\n",
      " [5.  3.5 1.3 0.3]\n",
      " [5.4 3.9 1.7 0.4]\n",
      " [7.9 3.8 6.4 2. ]\n",
      " [4.9 2.4 3.3 1. ]\n",
      " [4.8 3.1 1.6 0.2]\n",
      " [6.2 3.4 5.4 2.3]\n",
      " [6.4 2.8 5.6 2.2]\n",
      " [4.6 3.6 1.  0.2]\n",
      " [4.7 3.2 1.6 0.2]\n",
      " [7.  3.2 4.7 1.4]\n",
      " [6.7 3.1 5.6 2.4]\n",
      " [5.6 2.9 3.6 1.3]\n",
      " [6.7 2.5 5.8 1.8]\n",
      " [5.2 3.5 1.5 0.2]\n",
      " [5.8 2.7 3.9 1.2]\n",
      " [4.6 3.4 1.4 0.3]\n",
      " [7.1 3.  5.9 2.1]\n",
      " [6.  2.2 4.  1. ]\n",
      " [6.3 2.5 5.  1.9]\n",
      " [6.6 2.9 4.6 1.3]\n",
      " [6.7 3.3 5.7 2.5]\n",
      " [6.  2.9 4.5 1.5]\n",
      " [6.3 2.7 4.9 1.8]\n",
      " [5.8 2.8 5.1 2.4]\n",
      " [5.5 2.6 4.4 1.2]\n",
      " [6.9 3.1 4.9 1.5]\n",
      " [6.4 2.7 5.3 1.9]\n",
      " [6.3 2.5 4.9 1.5]\n",
      " [5.5 4.2 1.4 0.2]\n",
      " [6.5 3.2 5.1 2. ]\n",
      " [6.3 3.4 5.6 2.4]\n",
      " [5.7 3.  4.2 1.2]\n",
      " [5.7 2.8 4.5 1.3]\n",
      " [4.6 3.1 1.5 0.2]\n",
      " [5.1 3.5 1.4 0.2]\n",
      " [7.4 2.8 6.1 1.9]\n",
      " [5.4 3.4 1.7 0.2]\n",
      " [5.9 3.  4.2 1.5]\n",
      " [7.7 3.8 6.7 2.2]\n",
      " [5.2 2.7 3.9 1.4]\n",
      " [4.8 3.  1.4 0.3]\n",
      " [5.2 4.1 1.5 0.1]\n",
      " [5.4 3.4 1.5 0.4]\n",
      " [6.5 3.  5.5 1.8]\n",
      " [6.9 3.2 5.7 2.3]\n",
      " [5.  3.2 1.2 0.2]\n",
      " [5.9 3.2 4.8 1.8]\n",
      " [4.9 2.5 4.5 1.7]\n",
      " [6.4 3.2 5.3 2.3]\n",
      " [6.5 3.  5.2 2. ]\n",
      " [6.7 3.  5.  1.7]\n",
      " [6.5 2.8 4.6 1.5]\n",
      " [6.  3.  4.8 1.8]\n",
      " [6.  3.4 4.5 1.6]\n",
      " [5.1 3.3 1.7 0.5]\n",
      " [7.2 3.  5.8 1.6]\n",
      " [6.4 3.2 4.5 1.5]\n",
      " [5.  3.4 1.5 0.2]\n",
      " [4.9 3.  1.4 0.2]\n",
      " [6.3 3.3 4.7 1.6]\n",
      " [6.7 3.  5.2 2.3]\n",
      " [6.1 2.6 5.6 1.4]\n",
      " [6.9 3.1 5.4 2.1]\n",
      " [5.8 2.7 5.1 1.9]\n",
      " [5.8 4.  1.2 0.2]\n",
      " [5.5 2.5 4.  1.3]\n",
      " [5.7 2.6 3.5 1. ]\n",
      " [6.8 2.8 4.8 1.4]\n",
      " [4.4 3.2 1.3 0.2]\n",
      " [6.2 2.2 4.5 1.5]\n",
      " [5.4 3.9 1.3 0.4]\n",
      " [7.6 3.  6.6 2.1]\n",
      " [5.  3.4 1.6 0.4]]\n",
      "train target -  [0 1 1 0 1 0 0 0 2 1 1 0 0 1 2 2 2 0 2 1 2 1 1 1 2 0 1 1 1 2 0 0 2 0 0 2 1\n",
      " 0 0 2 0 0 2 2 1 1 2 0 0 2 1 0 2 2 0 0 1 2 1 2 0 1 0 2 1 2 1 2 1 2 2 1 1 2\n",
      " 1 0 2 2 1 1 0 0 2 0 1 2 1 0 0 0 2 2 0 1 2 2 2 1 1 2 1 0 2 1 0 0 1 2 2 2 2\n",
      " 0 1 1 1 0 1 0 2 0]\n",
      "\n",
      "train data -  [[5.4 3.  4.5 1.5]\n",
      " [7.7 2.8 6.7 2. ]\n",
      " [5.2 3.4 1.4 0.2]\n",
      " [4.8 3.4 1.9 0.2]\n",
      " [6.6 3.  4.4 1.4]\n",
      " [7.2 3.6 6.1 2.5]\n",
      " [5.5 2.4 3.7 1. ]\n",
      " [5.1 2.5 3.  1.1]\n",
      " [5.5 2.4 3.8 1.1]\n",
      " [6.3 3.3 6.  2.5]\n",
      " [6.7 3.3 5.7 2.1]\n",
      " [4.7 3.2 1.3 0.2]\n",
      " [4.9 3.1 1.5 0.2]\n",
      " [5.1 3.8 1.9 0.4]\n",
      " [6.4 2.8 5.6 2.1]\n",
      " [4.3 3.  1.1 0.1]\n",
      " [5.  2.3 3.3 1. ]\n",
      " [4.5 2.3 1.3 0.3]\n",
      " [6.1 2.9 4.7 1.4]\n",
      " [6.4 3.1 5.5 1.8]\n",
      " [5.1 3.8 1.5 0.3]\n",
      " [5.  2.  3.5 1. ]\n",
      " [6.2 2.8 4.8 1.8]\n",
      " [4.8 3.4 1.6 0.2]\n",
      " [4.6 3.2 1.4 0.2]\n",
      " [5.7 3.8 1.7 0.3]\n",
      " [5.7 2.9 4.2 1.3]\n",
      " [7.3 2.9 6.3 1.8]\n",
      " [6.9 3.1 5.1 2.3]\n",
      " [5.5 2.3 4.  1.3]]\n",
      "train target -  [1 2 0 0 1 2 1 1 1 2 2 0 0 0 2 0 1 0 1 2 0 1 2 0 0 0 1 2 2 1]\n"
     ]
    }
   ],
   "source": [
    "print('step01 - 데이터세트 분리')\n",
    "\n",
    "X_train, X_test, y_train, y_test = train_test_split(iris.data,\n",
    "                iris.target,\n",
    "                test_size = 0.2,\n",
    "                shuffle = True,\n",
    "                random_state = 200) # test_size가 나눈다는 의미 x는 데이터(피쳐) y는 정답 (타켓)\n",
    "print('train data - ', X_train)\n",
    "print('train target - ', y_train)\n",
    "print()\n",
    "print('train data - ', X_test)\n",
    "print('train target - ', y_test)\n"
   ],
   "metadata": {
    "collapsed": false,
    "pycharm": {
     "name": "#%%\n"
    }
   }
  },
  {
   "cell_type": "code",
   "execution_count": 12,
   "outputs": [
    {
     "name": "stdout",
     "output_type": "stream",
     "text": [
      "estimater 생성 및 학습\n"
     ]
    },
    {
     "data": {
      "text/plain": "DecisionTreeClassifier()"
     },
     "execution_count": 12,
     "metadata": {},
     "output_type": "execute_result"
    }
   ],
   "source": [
    "print('estimater 생성 및 학습')\n",
    "dt_model = DecisionTreeClassifier()\n",
    "dt_model.fit(X_train, y_train)"
   ],
   "metadata": {
    "collapsed": false,
    "pycharm": {
     "name": "#%%\n"
    }
   }
  },
  {
   "cell_type": "code",
   "execution_count": 13,
   "outputs": [
    {
     "name": "stdout",
     "output_type": "stream",
     "text": [
      "predict 함수에 테스트 데이터를 넣어서 분류예측 값을 반환 - \n",
      "answer -  [1 2 0 0 1 2 1 1 1 2 2 0 0 0 2 0 1 0 1 2 0 1 2 0 0 0 1 2 2 1]\n",
      "pred [1 2 0 0 1 2 1 1 1 2 2 0 0 0 2 0 1 0 1 2 0 1 2 0 0 0 1 2 2 1]\n"
     ]
    }
   ],
   "source": [
    "print('predict 함수에 테스트 데이터를 넣어서 분류예측 값을 반환 - ')\n",
    "\n",
    "y_pred = dt_model.predict(X_test)\n",
    "print('answer - ', y_test)\n",
    "print('pred', y_pred)"
   ],
   "metadata": {
    "collapsed": false,
    "pycharm": {
     "name": "#%%\n"
    }
   }
  },
  {
   "cell_type": "code",
   "execution_count": 14,
   "outputs": [
    {
     "name": "stdout",
     "output_type": "stream",
     "text": [
      "성능평가 - \n",
      "예측 정확도 -  1.0\n"
     ]
    }
   ],
   "source": [
    "print('성능평가 - ')\n",
    "print('예측 정확도 - ', accuracy_score(y_test, y_pred))"
   ],
   "metadata": {
    "collapsed": false,
    "pycharm": {
     "name": "#%%\n"
    }
   }
  },
  {
   "cell_type": "code",
   "execution_count": 15,
   "outputs": [
    {
     "name": "stdout",
     "output_type": "stream",
     "text": [
      "데이터프레임을 이용한 학습데이터와 테스트 데이터분리후 모델생성 및 예측, 평가를 진행해 본다면 - \n",
      "case02 - \n"
     ]
    },
    {
     "data": {
      "text/plain": "     sepal length (cm)  sepal width (cm)  petal length (cm)  petal width (cm)  \\\n0                  5.1               3.5                1.4               0.2   \n1                  4.9               3.0                1.4               0.2   \n2                  4.7               3.2                1.3               0.2   \n3                  4.6               3.1                1.5               0.2   \n4                  5.0               3.6                1.4               0.2   \n..                 ...               ...                ...               ...   \n145                6.7               3.0                5.2               2.3   \n146                6.3               2.5                5.0               1.9   \n147                6.5               3.0                5.2               2.0   \n148                6.2               3.4                5.4               2.3   \n149                5.9               3.0                5.1               1.8   \n\n     target  \n0         0  \n1         0  \n2         0  \n3         0  \n4         0  \n..      ...  \n145       2  \n146       2  \n147       2  \n148       2  \n149       2  \n\n[150 rows x 5 columns]",
      "text/html": "<div>\n<style scoped>\n    .dataframe tbody tr th:only-of-type {\n        vertical-align: middle;\n    }\n\n    .dataframe tbody tr th {\n        vertical-align: top;\n    }\n\n    .dataframe thead th {\n        text-align: right;\n    }\n</style>\n<table border=\"1\" class=\"dataframe\">\n  <thead>\n    <tr style=\"text-align: right;\">\n      <th></th>\n      <th>sepal length (cm)</th>\n      <th>sepal width (cm)</th>\n      <th>petal length (cm)</th>\n      <th>petal width (cm)</th>\n      <th>target</th>\n    </tr>\n  </thead>\n  <tbody>\n    <tr>\n      <th>0</th>\n      <td>5.1</td>\n      <td>3.5</td>\n      <td>1.4</td>\n      <td>0.2</td>\n      <td>0</td>\n    </tr>\n    <tr>\n      <th>1</th>\n      <td>4.9</td>\n      <td>3.0</td>\n      <td>1.4</td>\n      <td>0.2</td>\n      <td>0</td>\n    </tr>\n    <tr>\n      <th>2</th>\n      <td>4.7</td>\n      <td>3.2</td>\n      <td>1.3</td>\n      <td>0.2</td>\n      <td>0</td>\n    </tr>\n    <tr>\n      <th>3</th>\n      <td>4.6</td>\n      <td>3.1</td>\n      <td>1.5</td>\n      <td>0.2</td>\n      <td>0</td>\n    </tr>\n    <tr>\n      <th>4</th>\n      <td>5.0</td>\n      <td>3.6</td>\n      <td>1.4</td>\n      <td>0.2</td>\n      <td>0</td>\n    </tr>\n    <tr>\n      <th>...</th>\n      <td>...</td>\n      <td>...</td>\n      <td>...</td>\n      <td>...</td>\n      <td>...</td>\n    </tr>\n    <tr>\n      <th>145</th>\n      <td>6.7</td>\n      <td>3.0</td>\n      <td>5.2</td>\n      <td>2.3</td>\n      <td>2</td>\n    </tr>\n    <tr>\n      <th>146</th>\n      <td>6.3</td>\n      <td>2.5</td>\n      <td>5.0</td>\n      <td>1.9</td>\n      <td>2</td>\n    </tr>\n    <tr>\n      <th>147</th>\n      <td>6.5</td>\n      <td>3.0</td>\n      <td>5.2</td>\n      <td>2.0</td>\n      <td>2</td>\n    </tr>\n    <tr>\n      <th>148</th>\n      <td>6.2</td>\n      <td>3.4</td>\n      <td>5.4</td>\n      <td>2.3</td>\n      <td>2</td>\n    </tr>\n    <tr>\n      <th>149</th>\n      <td>5.9</td>\n      <td>3.0</td>\n      <td>5.1</td>\n      <td>1.8</td>\n      <td>2</td>\n    </tr>\n  </tbody>\n</table>\n<p>150 rows × 5 columns</p>\n</div>"
     },
     "execution_count": 15,
     "metadata": {},
     "output_type": "execute_result"
    }
   ],
   "source": [
    "print('데이터프레임을 이용한 학습데이터와 테스트 데이터분리후 모델생성 및 예측, 평가를 진행해 본다면 - ')\n",
    "print('case02 - ')\n",
    "\n",
    "iris_frm"
   ],
   "metadata": {
    "collapsed": false,
    "pycharm": {
     "name": "#%%\n"
    }
   }
  },
  {
   "cell_type": "code",
   "execution_count": 17,
   "outputs": [
    {
     "data": {
      "text/plain": "{'mean_fit_time': array([0.00546503, 0.00275461, 0.00410867, 0.003244  , 0.00558901,\n        0.00213321, 0.00197299, 0.0025866 , 0.00141207, 0.0011495 ,\n        0.00227443, 0.00146468, 0.00097434, 0.00154114, 0.00082493,\n        0.0011723 , 0.00101423, 0.00300662, 0.00424735, 0.00389345,\n        0.0009199 , 0.00113765, 0.00137711, 0.00096488]),\n 'std_fit_time': array([3.84121974e-03, 7.93432442e-04, 1.79031507e-03, 7.71751435e-04,\n        1.46780215e-03, 6.40759925e-04, 4.16234382e-04, 1.58153215e-03,\n        3.50608245e-04, 4.82981880e-05, 1.01724999e-03, 6.29226827e-04,\n        1.09019848e-05, 7.68559760e-04, 3.65939512e-05, 2.64620350e-04,\n        2.71070566e-04, 7.16995464e-04, 1.40652093e-03, 1.26735047e-03,\n        3.41032107e-05, 4.32955375e-04, 3.59379347e-04, 1.58984617e-04]),\n 'mean_score_time': array([0.00237505, 0.00123191, 0.00066145, 0.00202529, 0.00159001,\n        0.00115244, 0.00067933, 0.00074244, 0.00078797, 0.00050481,\n        0.00062172, 0.00074601, 0.00051037, 0.00042661, 0.00031575,\n        0.00053374, 0.00035906, 0.00216611, 0.00154765, 0.00127935,\n        0.00036677, 0.00053747, 0.00037758, 0.00035977]),\n 'std_score_time': array([2.23801718e-03, 5.88787638e-04, 9.06026851e-05, 7.29167130e-04,\n        5.52369524e-04, 5.94694331e-04, 5.12558667e-05, 2.74819240e-04,\n        4.42241893e-04, 1.49436071e-04, 2.20405766e-04, 3.43034102e-04,\n        2.10472192e-04, 7.26036662e-05, 2.79627038e-06, 8.15863903e-05,\n        3.18881322e-05, 1.13660156e-03, 8.21774979e-04, 5.58605420e-04,\n        5.47568580e-05, 2.02088434e-04, 3.30914529e-05, 4.34733250e-05]),\n 'param_criterion': masked_array(data=['gini', 'gini', 'gini', 'gini', 'gini', 'gini', 'gini',\n                    'gini', 'gini', 'gini', 'gini', 'gini', 'entropy',\n                    'entropy', 'entropy', 'entropy', 'entropy', 'entropy',\n                    'entropy', 'entropy', 'entropy', 'entropy', 'entropy',\n                    'entropy'],\n              mask=[False, False, False, False, False, False, False, False,\n                    False, False, False, False, False, False, False, False,\n                    False, False, False, False, False, False, False, False],\n        fill_value='?',\n             dtype=object),\n 'param_max_depth': masked_array(data=[1, 1, 1, 1, 2, 2, 2, 2, 3, 3, 3, 3, 1, 1, 1, 1, 2, 2,\n                    2, 2, 3, 3, 3, 3],\n              mask=[False, False, False, False, False, False, False, False,\n                    False, False, False, False, False, False, False, False,\n                    False, False, False, False, False, False, False, False],\n        fill_value='?',\n             dtype=object),\n 'param_min_samples_split': masked_array(data=[2, 2, 3, 3, 2, 2, 3, 3, 2, 2, 3, 3, 2, 2, 3, 3, 2, 2,\n                    3, 3, 2, 2, 3, 3],\n              mask=[False, False, False, False, False, False, False, False,\n                    False, False, False, False, False, False, False, False,\n                    False, False, False, False, False, False, False, False],\n        fill_value='?',\n             dtype=object),\n 'param_splitter': masked_array(data=['best', 'random', 'best', 'random', 'best', 'random',\n                    'best', 'random', 'best', 'random', 'best', 'random',\n                    'best', 'random', 'best', 'random', 'best', 'random',\n                    'best', 'random', 'best', 'random', 'best', 'random'],\n              mask=[False, False, False, False, False, False, False, False,\n                    False, False, False, False, False, False, False, False,\n                    False, False, False, False, False, False, False, False],\n        fill_value='?',\n             dtype=object),\n 'params': [{'criterion': 'gini',\n   'max_depth': 1,\n   'min_samples_split': 2,\n   'splitter': 'best'},\n  {'criterion': 'gini',\n   'max_depth': 1,\n   'min_samples_split': 2,\n   'splitter': 'random'},\n  {'criterion': 'gini',\n   'max_depth': 1,\n   'min_samples_split': 3,\n   'splitter': 'best'},\n  {'criterion': 'gini',\n   'max_depth': 1,\n   'min_samples_split': 3,\n   'splitter': 'random'},\n  {'criterion': 'gini',\n   'max_depth': 2,\n   'min_samples_split': 2,\n   'splitter': 'best'},\n  {'criterion': 'gini',\n   'max_depth': 2,\n   'min_samples_split': 2,\n   'splitter': 'random'},\n  {'criterion': 'gini',\n   'max_depth': 2,\n   'min_samples_split': 3,\n   'splitter': 'best'},\n  {'criterion': 'gini',\n   'max_depth': 2,\n   'min_samples_split': 3,\n   'splitter': 'random'},\n  {'criterion': 'gini',\n   'max_depth': 3,\n   'min_samples_split': 2,\n   'splitter': 'best'},\n  {'criterion': 'gini',\n   'max_depth': 3,\n   'min_samples_split': 2,\n   'splitter': 'random'},\n  {'criterion': 'gini',\n   'max_depth': 3,\n   'min_samples_split': 3,\n   'splitter': 'best'},\n  {'criterion': 'gini',\n   'max_depth': 3,\n   'min_samples_split': 3,\n   'splitter': 'random'},\n  {'criterion': 'entropy',\n   'max_depth': 1,\n   'min_samples_split': 2,\n   'splitter': 'best'},\n  {'criterion': 'entropy',\n   'max_depth': 1,\n   'min_samples_split': 2,\n   'splitter': 'random'},\n  {'criterion': 'entropy',\n   'max_depth': 1,\n   'min_samples_split': 3,\n   'splitter': 'best'},\n  {'criterion': 'entropy',\n   'max_depth': 1,\n   'min_samples_split': 3,\n   'splitter': 'random'},\n  {'criterion': 'entropy',\n   'max_depth': 2,\n   'min_samples_split': 2,\n   'splitter': 'best'},\n  {'criterion': 'entropy',\n   'max_depth': 2,\n   'min_samples_split': 2,\n   'splitter': 'random'},\n  {'criterion': 'entropy',\n   'max_depth': 2,\n   'min_samples_split': 3,\n   'splitter': 'best'},\n  {'criterion': 'entropy',\n   'max_depth': 2,\n   'min_samples_split': 3,\n   'splitter': 'random'},\n  {'criterion': 'entropy',\n   'max_depth': 3,\n   'min_samples_split': 2,\n   'splitter': 'best'},\n  {'criterion': 'entropy',\n   'max_depth': 3,\n   'min_samples_split': 2,\n   'splitter': 'random'},\n  {'criterion': 'entropy',\n   'max_depth': 3,\n   'min_samples_split': 3,\n   'splitter': 'best'},\n  {'criterion': 'entropy',\n   'max_depth': 3,\n   'min_samples_split': 3,\n   'splitter': 'random'}],\n 'split0_test_score': array([0.68421053, 0.68421053, 0.68421053, 0.68421053, 0.86842105,\n        0.71052632, 0.86842105, 0.71052632, 0.94736842, 0.81578947,\n        0.94736842, 0.81578947, 0.68421053, 0.68421053, 0.68421053,\n        0.68421053, 0.86842105, 0.71052632, 0.86842105, 0.71052632,\n        0.94736842, 0.81578947, 0.94736842, 0.81578947]),\n 'split1_test_score': array([0.67567568, 0.67567568, 0.67567568, 0.67567568, 0.94594595,\n        0.72972973, 0.94594595, 0.72972973, 0.94594595, 0.83783784,\n        0.94594595, 0.83783784, 0.67567568, 0.67567568, 0.67567568,\n        0.67567568, 0.94594595, 0.72972973, 0.94594595, 0.72972973,\n        0.94594595, 0.83783784, 0.94594595, 0.83783784]),\n 'split2_test_score': array([0.64864865, 0.64864865, 0.64864865, 0.64864865, 0.89189189,\n        0.67567568, 0.89189189, 0.67567568, 0.94594595, 0.83783784,\n        0.94594595, 0.83783784, 0.64864865, 0.64864865, 0.64864865,\n        0.64864865, 0.89189189, 0.67567568, 0.89189189, 0.67567568,\n        0.94594595, 0.83783784, 0.94594595, 0.83783784]),\n 'mean_test_score': array([0.66951162, 0.66951162, 0.66951162, 0.66951162, 0.9020863 ,\n        0.70531057, 0.9020863 , 0.70531057, 0.9464201 , 0.83048838,\n        0.9464201 , 0.83048838, 0.66951162, 0.66951162, 0.66951162,\n        0.66951162, 0.9020863 , 0.70531057, 0.9020863 , 0.70531057,\n        0.9464201 , 0.83048838, 0.9464201 , 0.83048838]),\n 'std_test_score': array([0.01515824, 0.01515824, 0.01515824, 0.01515824, 0.03245994,\n        0.02237354, 0.03245994, 0.02237354, 0.00067056, 0.0103937 ,\n        0.00067056, 0.0103937 , 0.01515824, 0.01515824, 0.01515824,\n        0.01515824, 0.03245994, 0.02237354, 0.03245994, 0.02237354,\n        0.00067056, 0.0103937 , 0.00067056, 0.0103937 ]),\n 'rank_test_score': array([17, 17, 17, 17,  5, 13,  5, 13,  1,  9,  1,  9, 17, 17, 17, 17,  5,\n        13,  5, 13,  1,  9,  1,  9], dtype=int32)}"
     },
     "execution_count": 17,
     "metadata": {},
     "output_type": "execute_result"
    }
   ],
   "source": [
    "params = {\n",
    "    'criterion' : ['gini' , 'entropy'] ,\n",
    "    'splitter'  : ['best' , 'random']  ,\n",
    "    'max_depth' : [1 , 2 , 3 ] ,\n",
    "    'min_samples_split' : [2 , 3]\n",
    "}\n",
    "\n",
    "iris = load_iris()\n",
    "\n",
    "X_train , X_test , y_train , y_test = train_test_split(iris.data   ,\n",
    "                                                       iris.target ,\n",
    "                                                       test_size    = 0.25 ,\n",
    "                                                       shuffle      = True ,\n",
    "                                                       random_state = 200 )\n",
    "\n",
    "\n",
    "dt_model = DecisionTreeClassifier(random_state = 100)\n",
    "\n",
    "# refit -> 가장 좋은 파라미터 설정으로 재학습 시킴\n",
    "grid_tree_model = GridSearchCV(dt_model , param_grid = params , cv = 3 , refit = True)\n",
    "grid_tree_model.fit(X_train , y_train)\n",
    "grid_tree_model.cv_results_"
   ],
   "metadata": {
    "collapsed": false,
    "pycharm": {
     "name": "#%%\n"
    }
   }
  },
  {
   "cell_type": "code",
   "execution_count": 18,
   "outputs": [
    {
     "name": "stdout",
     "output_type": "stream",
     "text": [
      "최적 파라미터 -  {'criterion': 'gini', 'max_depth': 3, 'min_samples_split': 2, 'splitter': 'best'}\n",
      "최고 점수     -  0.9464201043148411\n"
     ]
    }
   ],
   "source": [
    "print('최적 파라미터 - ' , grid_tree_model.best_params_ )\n",
    "print('최고 점수     - ' , grid_tree_model.best_score_ )"
   ],
   "metadata": {
    "collapsed": false,
    "pycharm": {
     "name": "#%%\n"
    }
   }
  },
  {
   "cell_type": "code",
   "execution_count": 5,
   "outputs": [],
   "source": [],
   "metadata": {
    "collapsed": false,
    "pycharm": {
     "name": "#%%\n"
    }
   }
  },
  {
   "cell_type": "code",
   "execution_count": 5,
   "outputs": [],
   "source": [],
   "metadata": {
    "collapsed": false,
    "pycharm": {
     "name": "#%%\n"
    }
   }
  },
  {
   "cell_type": "code",
   "execution_count": 5,
   "outputs": [],
   "source": [],
   "metadata": {
    "collapsed": false,
    "pycharm": {
     "name": "#%%\n"
    }
   }
  },
  {
   "cell_type": "code",
   "execution_count": 5,
   "outputs": [],
   "source": [],
   "metadata": {
    "collapsed": false,
    "pycharm": {
     "name": "#%%\n"
    }
   }
  },
  {
   "cell_type": "code",
   "execution_count": 5,
   "outputs": [],
   "source": [],
   "metadata": {
    "collapsed": false,
    "pycharm": {
     "name": "#%%\n"
    }
   }
  },
  {
   "cell_type": "code",
   "execution_count": 5,
   "outputs": [],
   "source": [],
   "metadata": {
    "collapsed": false,
    "pycharm": {
     "name": "#%%\n"
    }
   }
  },
  {
   "cell_type": "code",
   "execution_count": 5,
   "outputs": [],
   "source": [],
   "metadata": {
    "collapsed": false,
    "pycharm": {
     "name": "#%%\n"
    }
   }
  },
  {
   "cell_type": "code",
   "execution_count": 5,
   "outputs": [],
   "source": [],
   "metadata": {
    "collapsed": false,
    "pycharm": {
     "name": "#%%\n"
    }
   }
  },
  {
   "cell_type": "code",
   "execution_count": 5,
   "outputs": [],
   "source": [],
   "metadata": {
    "collapsed": false,
    "pycharm": {
     "name": "#%%\n"
    }
   }
  },
  {
   "cell_type": "code",
   "execution_count": 5,
   "outputs": [],
   "source": [],
   "metadata": {
    "collapsed": false,
    "pycharm": {
     "name": "#%%\n"
    }
   }
  },
  {
   "cell_type": "code",
   "execution_count": 5,
   "outputs": [],
   "source": [],
   "metadata": {
    "collapsed": false,
    "pycharm": {
     "name": "#%%\n"
    }
   }
  },
  {
   "cell_type": "code",
   "execution_count": 5,
   "outputs": [],
   "source": [],
   "metadata": {
    "collapsed": false,
    "pycharm": {
     "name": "#%%\n"
    }
   }
  },
  {
   "cell_type": "code",
   "execution_count": 5,
   "outputs": [],
   "source": [],
   "metadata": {
    "collapsed": false,
    "pycharm": {
     "name": "#%%\n"
    }
   }
  },
  {
   "cell_type": "code",
   "execution_count": 5,
   "outputs": [],
   "source": [],
   "metadata": {
    "collapsed": false,
    "pycharm": {
     "name": "#%%\n"
    }
   }
  },
  {
   "cell_type": "code",
   "execution_count": 5,
   "outputs": [],
   "source": [],
   "metadata": {
    "collapsed": false,
    "pycharm": {
     "name": "#%%\n"
    }
   }
  },
  {
   "cell_type": "code",
   "execution_count": 5,
   "outputs": [],
   "source": [],
   "metadata": {
    "collapsed": false,
    "pycharm": {
     "name": "#%%\n"
    }
   }
  }
 ],
 "metadata": {
  "kernelspec": {
   "display_name": "Python 3",
   "language": "python",
   "name": "python3"
  },
  "language_info": {
   "codemirror_mode": {
    "name": "ipython",
    "version": 2
   },
   "file_extension": ".py",
   "mimetype": "text/x-python",
   "name": "python",
   "nbconvert_exporter": "python",
   "pygments_lexer": "ipython2",
   "version": "2.7.6"
  }
 },
 "nbformat": 4,
 "nbformat_minor": 0
}