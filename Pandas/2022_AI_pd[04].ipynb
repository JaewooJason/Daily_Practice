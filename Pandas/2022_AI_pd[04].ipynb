{
 "cells": [
  {
   "cell_type": "code",
   "execution_count": 1,
   "metadata": {
    "collapsed": true
   },
   "outputs": [
    {
     "name": "stdout",
     "output_type": "stream",
     "text": [
      "numpy  version -  1.20.3\n",
      "pandas version -  1.3.4\n"
     ]
    }
   ],
   "source": [
    "import numpy  as np\n",
    "import pandas as pd\n",
    "\n",
    "import warnings\n",
    "warnings.filterwarnings(action='ignore')\n",
    "\n",
    "from datetime import date, datetime, timedelta\n",
    "from dateutil.parser import parse\n",
    "\n",
    "import json\n",
    "import urllib\n",
    "\n",
    "# titanic dataset\n",
    "import seaborn as sns\n",
    "\n",
    "# 비정형 데이터 처리를 위한 라이브러리\n",
    "from bs4 import BeautifulSoup\n",
    "import requests\n",
    "import re\n",
    "\n",
    "\n",
    "\n",
    "print('numpy  version - ' , np.__version__)\n",
    "print('pandas version - ' , pd.__version__)"
   ]
  },
  {
   "cell_type": "code",
   "execution_count": 2,
   "outputs": [],
   "source": [
    "def seriesInfo(s) :\n",
    "    print('series : index + values \\n' , s)\n",
    "    print('index  - ' , s.index  , type(s.index))\n",
    "    print('values - ' , s.values , type(s.values))\n",
    "\n",
    "def frmInfo(df) :\n",
    "    display('data - ' , df )\n",
    "    print()\n",
    "    print('shape   - ' , df.shape , df.shape[0] , df.shape[1])\n",
    "    print('size    - ' , df.size )\n",
    "    print('ndim    - ' , df.ndim)\n",
    "    print('index   - ' , df.index    , type(df.index))\n",
    "    print('columns - ' , df.columns  , type( df.columns ))\n",
    "    print('values  - \\n' , df.values , type(df.values) )"
   ],
   "metadata": {
    "collapsed": false,
    "pycharm": {
     "name": "#%%\n"
    }
   }
  },
  {
   "cell_type": "code",
   "execution_count": 3,
   "outputs": [
    {
     "data": {
      "text/plain": "    학번     이름  학년\n0  100  Jason   2\n1  200   Kiki   4\n2  300   Rosa   3\n3  400   Nick   1",
      "text/html": "<div>\n<style scoped>\n    .dataframe tbody tr th:only-of-type {\n        vertical-align: middle;\n    }\n\n    .dataframe tbody tr th {\n        vertical-align: top;\n    }\n\n    .dataframe thead th {\n        text-align: right;\n    }\n</style>\n<table border=\"1\" class=\"dataframe\">\n  <thead>\n    <tr style=\"text-align: right;\">\n      <th></th>\n      <th>학번</th>\n      <th>이름</th>\n      <th>학년</th>\n    </tr>\n  </thead>\n  <tbody>\n    <tr>\n      <th>0</th>\n      <td>100</td>\n      <td>Jason</td>\n      <td>2</td>\n    </tr>\n    <tr>\n      <th>1</th>\n      <td>200</td>\n      <td>Kiki</td>\n      <td>4</td>\n    </tr>\n    <tr>\n      <th>2</th>\n      <td>300</td>\n      <td>Rosa</td>\n      <td>3</td>\n    </tr>\n    <tr>\n      <th>3</th>\n      <td>400</td>\n      <td>Nick</td>\n      <td>1</td>\n    </tr>\n  </tbody>\n</table>\n</div>"
     },
     "metadata": {},
     "output_type": "display_data"
    },
    {
     "name": "stdout",
     "output_type": "stream",
     "text": [
      "\n"
     ]
    },
    {
     "data": {
      "text/plain": "    학번  학과   학점\n0  100  CS  2.4\n1  200  AI  4.5\n2  400  AI  1.7\n3  500  CS  3.9",
      "text/html": "<div>\n<style scoped>\n    .dataframe tbody tr th:only-of-type {\n        vertical-align: middle;\n    }\n\n    .dataframe tbody tr th {\n        vertical-align: top;\n    }\n\n    .dataframe thead th {\n        text-align: right;\n    }\n</style>\n<table border=\"1\" class=\"dataframe\">\n  <thead>\n    <tr style=\"text-align: right;\">\n      <th></th>\n      <th>학번</th>\n      <th>학과</th>\n      <th>학점</th>\n    </tr>\n  </thead>\n  <tbody>\n    <tr>\n      <th>0</th>\n      <td>100</td>\n      <td>CS</td>\n      <td>2.4</td>\n    </tr>\n    <tr>\n      <th>1</th>\n      <td>200</td>\n      <td>AI</td>\n      <td>4.5</td>\n    </tr>\n    <tr>\n      <th>2</th>\n      <td>400</td>\n      <td>AI</td>\n      <td>1.7</td>\n    </tr>\n    <tr>\n      <th>3</th>\n      <td>500</td>\n      <td>CS</td>\n      <td>3.9</td>\n    </tr>\n  </tbody>\n</table>\n</div>"
     },
     "metadata": {},
     "output_type": "display_data"
    }
   ],
   "source": [
    "data01 = {\n",
    "    '학번' : [100, 200, 300, 400],\n",
    "    '이름' : ['Jason', 'Kiki', 'Rosa', 'Nick'],\n",
    "    '학년' : [2, 4, 3, 1]\n",
    "}\n",
    "\n",
    "data02 = {\n",
    "    '학번' : [100, 200, 400, 500],\n",
    "    '학과' : ['CS', 'AI', 'AI', 'CS'],\n",
    "    '학점' : [2.4, 4.5, 1.7, 3.9]\n",
    "}\n",
    "stu_frm   = pd.DataFrame(data01)\n",
    "major_frm = pd.DataFrame(data02)\n",
    "\n",
    "display(stu_frm)\n",
    "print()\n",
    "display(major_frm)"
   ],
   "metadata": {
    "collapsed": false,
    "pycharm": {
     "name": "#%%\n"
    }
   }
  },
  {
   "cell_type": "code",
   "execution_count": 4,
   "outputs": [
    {
     "name": "stdout",
     "output_type": "stream",
     "text": [
      "how = inner , outer , left , right - \n"
     ]
    },
    {
     "data": {
      "text/plain": "    학번     이름   학년  학과   학점\n0  100  Jason  2.0  CS  2.4\n1  200   Kiki  4.0  AI  4.5\n2  400   Nick  1.0  AI  1.7\n3  500    NaN  NaN  CS  3.9",
      "text/html": "<div>\n<style scoped>\n    .dataframe tbody tr th:only-of-type {\n        vertical-align: middle;\n    }\n\n    .dataframe tbody tr th {\n        vertical-align: top;\n    }\n\n    .dataframe thead th {\n        text-align: right;\n    }\n</style>\n<table border=\"1\" class=\"dataframe\">\n  <thead>\n    <tr style=\"text-align: right;\">\n      <th></th>\n      <th>학번</th>\n      <th>이름</th>\n      <th>학년</th>\n      <th>학과</th>\n      <th>학점</th>\n    </tr>\n  </thead>\n  <tbody>\n    <tr>\n      <th>0</th>\n      <td>100</td>\n      <td>Jason</td>\n      <td>2.0</td>\n      <td>CS</td>\n      <td>2.4</td>\n    </tr>\n    <tr>\n      <th>1</th>\n      <td>200</td>\n      <td>Kiki</td>\n      <td>4.0</td>\n      <td>AI</td>\n      <td>4.5</td>\n    </tr>\n    <tr>\n      <th>2</th>\n      <td>400</td>\n      <td>Nick</td>\n      <td>1.0</td>\n      <td>AI</td>\n      <td>1.7</td>\n    </tr>\n    <tr>\n      <th>3</th>\n      <td>500</td>\n      <td>NaN</td>\n      <td>NaN</td>\n      <td>CS</td>\n      <td>3.9</td>\n    </tr>\n  </tbody>\n</table>\n</div>"
     },
     "execution_count": 4,
     "metadata": {},
     "output_type": "execute_result"
    }
   ],
   "source": [
    "print('how = inner , outer , left , right - ')\n",
    "pd.merge(stu_frm , major_frm , how = 'right')"
   ],
   "metadata": {
    "collapsed": false,
    "pycharm": {
     "name": "#%%\n"
    }
   }
  },
  {
   "cell_type": "code",
   "execution_count": 5,
   "outputs": [
    {
     "data": {
      "text/plain": "    학번       이름  학년\n0  100    Jason   2\n1  200     Kiki   4\n2  300     Rosa   3\n3  400  Matthew   1",
      "text/html": "<div>\n<style scoped>\n    .dataframe tbody tr th:only-of-type {\n        vertical-align: middle;\n    }\n\n    .dataframe tbody tr th {\n        vertical-align: top;\n    }\n\n    .dataframe thead th {\n        text-align: right;\n    }\n</style>\n<table border=\"1\" class=\"dataframe\">\n  <thead>\n    <tr style=\"text-align: right;\">\n      <th></th>\n      <th>학번</th>\n      <th>이름</th>\n      <th>학년</th>\n    </tr>\n  </thead>\n  <tbody>\n    <tr>\n      <th>0</th>\n      <td>100</td>\n      <td>Jason</td>\n      <td>2</td>\n    </tr>\n    <tr>\n      <th>1</th>\n      <td>200</td>\n      <td>Kiki</td>\n      <td>4</td>\n    </tr>\n    <tr>\n      <th>2</th>\n      <td>300</td>\n      <td>Rosa</td>\n      <td>3</td>\n    </tr>\n    <tr>\n      <th>3</th>\n      <td>400</td>\n      <td>Matthew</td>\n      <td>1</td>\n    </tr>\n  </tbody>\n</table>\n</div>"
     },
     "metadata": {},
     "output_type": "display_data"
    },
    {
     "name": "stdout",
     "output_type": "stream",
     "text": [
      "\n"
     ]
    },
    {
     "data": {
      "text/plain": "   과목코드  학과   학점\n0   100  CS  2.4\n1   200  AI  4.5\n2   400  AI  1.7\n3   500  CS  3.9",
      "text/html": "<div>\n<style scoped>\n    .dataframe tbody tr th:only-of-type {\n        vertical-align: middle;\n    }\n\n    .dataframe tbody tr th {\n        vertical-align: top;\n    }\n\n    .dataframe thead th {\n        text-align: right;\n    }\n</style>\n<table border=\"1\" class=\"dataframe\">\n  <thead>\n    <tr style=\"text-align: right;\">\n      <th></th>\n      <th>과목코드</th>\n      <th>학과</th>\n      <th>학점</th>\n    </tr>\n  </thead>\n  <tbody>\n    <tr>\n      <th>0</th>\n      <td>100</td>\n      <td>CS</td>\n      <td>2.4</td>\n    </tr>\n    <tr>\n      <th>1</th>\n      <td>200</td>\n      <td>AI</td>\n      <td>4.5</td>\n    </tr>\n    <tr>\n      <th>2</th>\n      <td>400</td>\n      <td>AI</td>\n      <td>1.7</td>\n    </tr>\n    <tr>\n      <th>3</th>\n      <td>500</td>\n      <td>CS</td>\n      <td>3.9</td>\n    </tr>\n  </tbody>\n</table>\n</div>"
     },
     "metadata": {},
     "output_type": "display_data"
    }
   ],
   "source": [
    "data01 = {\n",
    "    '학번' : [100, 200, 300, 400],\n",
    "    '이름' : ['Jason', 'Kiki', 'Rosa', 'Matthew'],\n",
    "    '학년' : [2, 4, 3, 1]\n",
    "}\n",
    "\n",
    "data02 = {\n",
    "    '과목코드' : [100, 200, 400, 500],\n",
    "    '학과' : ['CS', 'AI', 'AI', 'CS'],\n",
    "    '학점' : [2.4, 4.5, 1.7, 3.9]\n",
    "}\n",
    "stu_frm   = pd.DataFrame(data01)\n",
    "major_frm = pd.DataFrame(data02)\n",
    "\n",
    "display(stu_frm)\n",
    "print()\n",
    "display(major_frm)"
   ],
   "metadata": {
    "collapsed": false,
    "pycharm": {
     "name": "#%%\n"
    }
   }
  },
  {
   "cell_type": "code",
   "execution_count": 6,
   "outputs": [
    {
     "data": {
      "text/plain": "    학번       이름  학년  과목코드  학과   학점\n0  100    Jason   2   100  CS  2.4\n1  200     Kiki   4   200  AI  4.5\n2  400  Matthew   1   400  AI  1.7",
      "text/html": "<div>\n<style scoped>\n    .dataframe tbody tr th:only-of-type {\n        vertical-align: middle;\n    }\n\n    .dataframe tbody tr th {\n        vertical-align: top;\n    }\n\n    .dataframe thead th {\n        text-align: right;\n    }\n</style>\n<table border=\"1\" class=\"dataframe\">\n  <thead>\n    <tr style=\"text-align: right;\">\n      <th></th>\n      <th>학번</th>\n      <th>이름</th>\n      <th>학년</th>\n      <th>과목코드</th>\n      <th>학과</th>\n      <th>학점</th>\n    </tr>\n  </thead>\n  <tbody>\n    <tr>\n      <th>0</th>\n      <td>100</td>\n      <td>Jason</td>\n      <td>2</td>\n      <td>100</td>\n      <td>CS</td>\n      <td>2.4</td>\n    </tr>\n    <tr>\n      <th>1</th>\n      <td>200</td>\n      <td>Kiki</td>\n      <td>4</td>\n      <td>200</td>\n      <td>AI</td>\n      <td>4.5</td>\n    </tr>\n    <tr>\n      <th>2</th>\n      <td>400</td>\n      <td>Matthew</td>\n      <td>1</td>\n      <td>400</td>\n      <td>AI</td>\n      <td>1.7</td>\n    </tr>\n  </tbody>\n</table>\n</div>"
     },
     "execution_count": 6,
     "metadata": {},
     "output_type": "execute_result"
    }
   ],
   "source": [
    "pd.merge(stu_frm , major_frm , how = 'inner' , left_on = '학번' , right_on = '과목코드')"
   ],
   "metadata": {
    "collapsed": false,
    "pycharm": {
     "name": "#%%\n"
    }
   }
  },
  {
   "cell_type": "code",
   "execution_count": 7,
   "outputs": [
    {
     "name": "stdout",
     "output_type": "stream",
     "text": [
      "type -  <class 'pandas.core.frame.DataFrame'>\n",
      "\n"
     ]
    }
   ],
   "source": [
    "datasets = sns.load_dataset('iris')\n",
    "print('type - ' , type(datasets))\n",
    "print()"
   ],
   "metadata": {
    "collapsed": false,
    "pycharm": {
     "name": "#%%\n"
    }
   }
  },
  {
   "cell_type": "code",
   "execution_count": 8,
   "outputs": [
    {
     "name": "stdout",
     "output_type": "stream",
     "text": [
      "<class 'pandas.core.frame.DataFrame'>\n",
      "RangeIndex: 150 entries, 0 to 149\n",
      "Data columns (total 5 columns):\n",
      " #   Column        Non-Null Count  Dtype  \n",
      "---  ------        --------------  -----  \n",
      " 0   sepal_length  150 non-null    float64\n",
      " 1   sepal_width   150 non-null    float64\n",
      " 2   petal_length  150 non-null    float64\n",
      " 3   petal_width   150 non-null    float64\n",
      " 4   species       150 non-null    object \n",
      "dtypes: float64(4), object(1)\n",
      "memory usage: 6.0+ KB\n"
     ]
    }
   ],
   "source": [
    "datasets.info()"
   ],
   "metadata": {
    "collapsed": false,
    "pycharm": {
     "name": "#%%\n"
    }
   }
  },
  {
   "cell_type": "code",
   "execution_count": 9,
   "outputs": [
    {
     "data": {
      "text/plain": "       sepal_length  sepal_width  petal_length  petal_width\ncount    150.000000   150.000000    150.000000   150.000000\nmean       5.843333     3.057333      3.758000     1.199333\nstd        0.828066     0.435866      1.765298     0.762238\nmin        4.300000     2.000000      1.000000     0.100000\n25%        5.100000     2.800000      1.600000     0.300000\n50%        5.800000     3.000000      4.350000     1.300000\n75%        6.400000     3.300000      5.100000     1.800000\nmax        7.900000     4.400000      6.900000     2.500000",
      "text/html": "<div>\n<style scoped>\n    .dataframe tbody tr th:only-of-type {\n        vertical-align: middle;\n    }\n\n    .dataframe tbody tr th {\n        vertical-align: top;\n    }\n\n    .dataframe thead th {\n        text-align: right;\n    }\n</style>\n<table border=\"1\" class=\"dataframe\">\n  <thead>\n    <tr style=\"text-align: right;\">\n      <th></th>\n      <th>sepal_length</th>\n      <th>sepal_width</th>\n      <th>petal_length</th>\n      <th>petal_width</th>\n    </tr>\n  </thead>\n  <tbody>\n    <tr>\n      <th>count</th>\n      <td>150.000000</td>\n      <td>150.000000</td>\n      <td>150.000000</td>\n      <td>150.000000</td>\n    </tr>\n    <tr>\n      <th>mean</th>\n      <td>5.843333</td>\n      <td>3.057333</td>\n      <td>3.758000</td>\n      <td>1.199333</td>\n    </tr>\n    <tr>\n      <th>std</th>\n      <td>0.828066</td>\n      <td>0.435866</td>\n      <td>1.765298</td>\n      <td>0.762238</td>\n    </tr>\n    <tr>\n      <th>min</th>\n      <td>4.300000</td>\n      <td>2.000000</td>\n      <td>1.000000</td>\n      <td>0.100000</td>\n    </tr>\n    <tr>\n      <th>25%</th>\n      <td>5.100000</td>\n      <td>2.800000</td>\n      <td>1.600000</td>\n      <td>0.300000</td>\n    </tr>\n    <tr>\n      <th>50%</th>\n      <td>5.800000</td>\n      <td>3.000000</td>\n      <td>4.350000</td>\n      <td>1.300000</td>\n    </tr>\n    <tr>\n      <th>75%</th>\n      <td>6.400000</td>\n      <td>3.300000</td>\n      <td>5.100000</td>\n      <td>1.800000</td>\n    </tr>\n    <tr>\n      <th>max</th>\n      <td>7.900000</td>\n      <td>4.400000</td>\n      <td>6.900000</td>\n      <td>2.500000</td>\n    </tr>\n  </tbody>\n</table>\n</div>"
     },
     "execution_count": 9,
     "metadata": {},
     "output_type": "execute_result"
    }
   ],
   "source": [
    "datasets.describe()"
   ],
   "metadata": {
    "collapsed": false,
    "pycharm": {
     "name": "#%%\n"
    }
   }
  },
  {
   "cell_type": "code",
   "execution_count": 10,
   "outputs": [
    {
     "data": {
      "text/plain": "      species  sepal_length  petal_width\n0      setosa           5.1          4.1\n1   virginica           4.9          3.9\n2   virginica           3.7          3.7\n3  versicolor           1.5          3.6",
      "text/html": "<div>\n<style scoped>\n    .dataframe tbody tr th:only-of-type {\n        vertical-align: middle;\n    }\n\n    .dataframe tbody tr th {\n        vertical-align: top;\n    }\n\n    .dataframe thead th {\n        text-align: right;\n    }\n</style>\n<table border=\"1\" class=\"dataframe\">\n  <thead>\n    <tr style=\"text-align: right;\">\n      <th></th>\n      <th>species</th>\n      <th>sepal_length</th>\n      <th>petal_width</th>\n    </tr>\n  </thead>\n  <tbody>\n    <tr>\n      <th>0</th>\n      <td>setosa</td>\n      <td>5.1</td>\n      <td>4.1</td>\n    </tr>\n    <tr>\n      <th>1</th>\n      <td>virginica</td>\n      <td>4.9</td>\n      <td>3.9</td>\n    </tr>\n    <tr>\n      <th>2</th>\n      <td>virginica</td>\n      <td>3.7</td>\n      <td>3.7</td>\n    </tr>\n    <tr>\n      <th>3</th>\n      <td>versicolor</td>\n      <td>1.5</td>\n      <td>3.6</td>\n    </tr>\n  </tbody>\n</table>\n</div>"
     },
     "metadata": {},
     "output_type": "display_data"
    },
    {
     "name": "stdout",
     "output_type": "stream",
     "text": [
      "\n"
     ]
    },
    {
     "data": {
      "text/plain": "     species  sepal_length\n0     setosa           4.1\n1     setosa           5.9\n2  virginica           4.7\n3  virginica           3.5",
      "text/html": "<div>\n<style scoped>\n    .dataframe tbody tr th:only-of-type {\n        vertical-align: middle;\n    }\n\n    .dataframe tbody tr th {\n        vertical-align: top;\n    }\n\n    .dataframe thead th {\n        text-align: right;\n    }\n</style>\n<table border=\"1\" class=\"dataframe\">\n  <thead>\n    <tr style=\"text-align: right;\">\n      <th></th>\n      <th>species</th>\n      <th>sepal_length</th>\n    </tr>\n  </thead>\n  <tbody>\n    <tr>\n      <th>0</th>\n      <td>setosa</td>\n      <td>4.1</td>\n    </tr>\n    <tr>\n      <th>1</th>\n      <td>setosa</td>\n      <td>5.9</td>\n    </tr>\n    <tr>\n      <th>2</th>\n      <td>virginica</td>\n      <td>4.7</td>\n    </tr>\n    <tr>\n      <th>3</th>\n      <td>virginica</td>\n      <td>3.5</td>\n    </tr>\n  </tbody>\n</table>\n</div>"
     },
     "metadata": {},
     "output_type": "display_data"
    }
   ],
   "source": [
    "data01 = {\n",
    "    'species'      : ['setosa' , 'virginica' ,  'virginica'  , 'versicolor'],\n",
    "    'sepal_length' : [5.1, 4.9 , 3.7 , 1.5] ,\n",
    "    'petal_width'  : [4.1, 3.9, 3.7, 3.6]\n",
    "}\n",
    "\n",
    "data02 = {\n",
    "    'species'      : ['setosa' , 'setosa' , 'virginica' ,  'virginica'],\n",
    "    'sepal_length' : [4.1, 5.9 , 4.7 , 3.5]\n",
    "}\n",
    "\n",
    "iris01_frm   = pd.DataFrame(data01)\n",
    "iris02_frm = pd.DataFrame(data02)\n",
    "\n",
    "display(iris01_frm)\n",
    "print()\n",
    "display(iris02_frm)"
   ],
   "metadata": {
    "collapsed": false,
    "pycharm": {
     "name": "#%%\n"
    }
   }
  },
  {
   "cell_type": "code",
   "execution_count": 11,
   "outputs": [
    {
     "name": "stdout",
     "output_type": "stream",
     "text": [
      "on -> 중복되는 키가 존재할 경우 어느 키를 기준으로 merge할지를 결정 - \n"
     ]
    },
    {
     "data": {
      "text/plain": "     species  sepal_length_x  petal_width  sepal_length_y\n0     setosa             5.1          4.1             4.1\n1     setosa             5.1          4.1             5.9\n2  virginica             4.9          3.9             4.7\n3  virginica             4.9          3.9             3.5\n4  virginica             3.7          3.7             4.7\n5  virginica             3.7          3.7             3.5",
      "text/html": "<div>\n<style scoped>\n    .dataframe tbody tr th:only-of-type {\n        vertical-align: middle;\n    }\n\n    .dataframe tbody tr th {\n        vertical-align: top;\n    }\n\n    .dataframe thead th {\n        text-align: right;\n    }\n</style>\n<table border=\"1\" class=\"dataframe\">\n  <thead>\n    <tr style=\"text-align: right;\">\n      <th></th>\n      <th>species</th>\n      <th>sepal_length_x</th>\n      <th>petal_width</th>\n      <th>sepal_length_y</th>\n    </tr>\n  </thead>\n  <tbody>\n    <tr>\n      <th>0</th>\n      <td>setosa</td>\n      <td>5.1</td>\n      <td>4.1</td>\n      <td>4.1</td>\n    </tr>\n    <tr>\n      <th>1</th>\n      <td>setosa</td>\n      <td>5.1</td>\n      <td>4.1</td>\n      <td>5.9</td>\n    </tr>\n    <tr>\n      <th>2</th>\n      <td>virginica</td>\n      <td>4.9</td>\n      <td>3.9</td>\n      <td>4.7</td>\n    </tr>\n    <tr>\n      <th>3</th>\n      <td>virginica</td>\n      <td>4.9</td>\n      <td>3.9</td>\n      <td>3.5</td>\n    </tr>\n    <tr>\n      <th>4</th>\n      <td>virginica</td>\n      <td>3.7</td>\n      <td>3.7</td>\n      <td>4.7</td>\n    </tr>\n    <tr>\n      <th>5</th>\n      <td>virginica</td>\n      <td>3.7</td>\n      <td>3.7</td>\n      <td>3.5</td>\n    </tr>\n  </tbody>\n</table>\n</div>"
     },
     "execution_count": 11,
     "metadata": {},
     "output_type": "execute_result"
    }
   ],
   "source": [
    "print('on -> 중복되는 키가 존재할 경우 어느 키를 기준으로 merge할지를 결정 - ')\n",
    "pd.merge(iris01_frm , iris02_frm , on = 'species')"
   ],
   "metadata": {
    "collapsed": false,
    "pycharm": {
     "name": "#%%\n"
    }
   }
  },
  {
   "cell_type": "code",
   "execution_count": 13,
   "outputs": [
    {
     "name": "stdout",
     "output_type": "stream",
     "text": [
      "인덱스를 기준으로 병합 - \n",
      "left_index , right_index - \n",
      "\n"
     ]
    },
    {
     "data": {
      "text/plain": "      city  year      pop\n0    seoul  2010  1234567\n1    seoul  2050  2345678\n2    seoul  2020  3456789\n3  kwangju  2018  4567890\n4  kwangju  2022  5678901",
      "text/html": "<div>\n<style scoped>\n    .dataframe tbody tr th:only-of-type {\n        vertical-align: middle;\n    }\n\n    .dataframe tbody tr th {\n        vertical-align: top;\n    }\n\n    .dataframe thead th {\n        text-align: right;\n    }\n</style>\n<table border=\"1\" class=\"dataframe\">\n  <thead>\n    <tr style=\"text-align: right;\">\n      <th></th>\n      <th>city</th>\n      <th>year</th>\n      <th>pop</th>\n    </tr>\n  </thead>\n  <tbody>\n    <tr>\n      <th>0</th>\n      <td>seoul</td>\n      <td>2010</td>\n      <td>1234567</td>\n    </tr>\n    <tr>\n      <th>1</th>\n      <td>seoul</td>\n      <td>2050</td>\n      <td>2345678</td>\n    </tr>\n    <tr>\n      <th>2</th>\n      <td>seoul</td>\n      <td>2020</td>\n      <td>3456789</td>\n    </tr>\n    <tr>\n      <th>3</th>\n      <td>kwangju</td>\n      <td>2018</td>\n      <td>4567890</td>\n    </tr>\n    <tr>\n      <th>4</th>\n      <td>kwangju</td>\n      <td>2022</td>\n      <td>5678901</td>\n    </tr>\n  </tbody>\n</table>\n</div>"
     },
     "metadata": {},
     "output_type": "display_data"
    },
    {
     "name": "stdout",
     "output_type": "stream",
     "text": [
      "\n"
     ]
    },
    {
     "data": {
      "text/plain": "              col01  col02\nseoul   2010      0      1\n        2050      2      3\nkwangju 2020      4      5\n        2018      6      7\n        2022      8      9\n        2024     10     11",
      "text/html": "<div>\n<style scoped>\n    .dataframe tbody tr th:only-of-type {\n        vertical-align: middle;\n    }\n\n    .dataframe tbody tr th {\n        vertical-align: top;\n    }\n\n    .dataframe thead th {\n        text-align: right;\n    }\n</style>\n<table border=\"1\" class=\"dataframe\">\n  <thead>\n    <tr style=\"text-align: right;\">\n      <th></th>\n      <th></th>\n      <th>col01</th>\n      <th>col02</th>\n    </tr>\n  </thead>\n  <tbody>\n    <tr>\n      <th rowspan=\"2\" valign=\"top\">seoul</th>\n      <th>2010</th>\n      <td>0</td>\n      <td>1</td>\n    </tr>\n    <tr>\n      <th>2050</th>\n      <td>2</td>\n      <td>3</td>\n    </tr>\n    <tr>\n      <th rowspan=\"4\" valign=\"top\">kwangju</th>\n      <th>2020</th>\n      <td>4</td>\n      <td>5</td>\n    </tr>\n    <tr>\n      <th>2018</th>\n      <td>6</td>\n      <td>7</td>\n    </tr>\n    <tr>\n      <th>2022</th>\n      <td>8</td>\n      <td>9</td>\n    </tr>\n    <tr>\n      <th>2024</th>\n      <td>10</td>\n      <td>11</td>\n    </tr>\n  </tbody>\n</table>\n</div>"
     },
     "metadata": {},
     "output_type": "display_data"
    }
   ],
   "source": [
    "print('인덱스를 기준으로 병합 - ')\n",
    "print('left_index , right_index - ')\n",
    "\n",
    "pop01_frm = pd.DataFrame({\n",
    "    'city' : ['seoul' , 'seoul' , 'seoul' , 'kwangju' , 'kwangju'],\n",
    "    'year' : [2010 , 2050, 2020, 2018 , 2022],\n",
    "    'pop'  : [1234567, 2345678, 3456789, 4567890, 5678901]\n",
    "})\n",
    "\n",
    "pop02_frm = pd.DataFrame( np.arange(12).reshape(6,2) ,\n",
    "                          columns = ['col01' , 'col02'] ,\n",
    "                          index   = [ ['seoul' , 'seoul' , 'kwangju' ,  'kwangju' ,  'kwangju',  'kwangju'] ,\n",
    "                                      [2010 , 2050, 2020, 2018 , 2022, 2024]\n",
    "                                    ] )\n",
    "\n",
    "print()\n",
    "display(pop01_frm)\n",
    "print()\n",
    "display(pop02_frm)"
   ],
   "metadata": {
    "collapsed": false,
    "pycharm": {
     "name": "#%%\n"
    }
   }
  },
  {
   "cell_type": "code",
   "execution_count": 14,
   "outputs": [
    {
     "data": {
      "text/plain": "      city  year      pop  col01  col02\n0    seoul  2010  1234567      0      1\n1    seoul  2050  2345678      2      3\n3  kwangju  2018  4567890      6      7\n4  kwangju  2022  5678901      8      9",
      "text/html": "<div>\n<style scoped>\n    .dataframe tbody tr th:only-of-type {\n        vertical-align: middle;\n    }\n\n    .dataframe tbody tr th {\n        vertical-align: top;\n    }\n\n    .dataframe thead th {\n        text-align: right;\n    }\n</style>\n<table border=\"1\" class=\"dataframe\">\n  <thead>\n    <tr style=\"text-align: right;\">\n      <th></th>\n      <th>city</th>\n      <th>year</th>\n      <th>pop</th>\n      <th>col01</th>\n      <th>col02</th>\n    </tr>\n  </thead>\n  <tbody>\n    <tr>\n      <th>0</th>\n      <td>seoul</td>\n      <td>2010</td>\n      <td>1234567</td>\n      <td>0</td>\n      <td>1</td>\n    </tr>\n    <tr>\n      <th>1</th>\n      <td>seoul</td>\n      <td>2050</td>\n      <td>2345678</td>\n      <td>2</td>\n      <td>3</td>\n    </tr>\n    <tr>\n      <th>3</th>\n      <td>kwangju</td>\n      <td>2018</td>\n      <td>4567890</td>\n      <td>6</td>\n      <td>7</td>\n    </tr>\n    <tr>\n      <th>4</th>\n      <td>kwangju</td>\n      <td>2022</td>\n      <td>5678901</td>\n      <td>8</td>\n      <td>9</td>\n    </tr>\n  </tbody>\n</table>\n</div>"
     },
     "execution_count": 14,
     "metadata": {},
     "output_type": "execute_result"
    }
   ],
   "source": [
    "pd.merge(pop01_frm , pop02_frm , right_index = True , left_on=['city' , 'year'])"
   ],
   "metadata": {
    "collapsed": false,
    "pycharm": {
     "name": "#%%\n"
    }
   }
  },
  {
   "cell_type": "code",
   "execution_count": 16,
   "outputs": [
    {
     "name": "stdout",
     "output_type": "stream",
     "text": [
      "인덱스를 기준으로 병합 - \n",
      "left_index , right_index - \n",
      "\n"
     ]
    },
    {
     "data": {
      "text/plain": "      city  year      pop\n1    seoul  2010  1234567\n3    seoul  2050  2345678\n5    seoul  2020  3456789\n7  kwangju  2018  4567890\n9  kwangju  2022  5678901",
      "text/html": "<div>\n<style scoped>\n    .dataframe tbody tr th:only-of-type {\n        vertical-align: middle;\n    }\n\n    .dataframe tbody tr th {\n        vertical-align: top;\n    }\n\n    .dataframe thead th {\n        text-align: right;\n    }\n</style>\n<table border=\"1\" class=\"dataframe\">\n  <thead>\n    <tr style=\"text-align: right;\">\n      <th></th>\n      <th>city</th>\n      <th>year</th>\n      <th>pop</th>\n    </tr>\n  </thead>\n  <tbody>\n    <tr>\n      <th>1</th>\n      <td>seoul</td>\n      <td>2010</td>\n      <td>1234567</td>\n    </tr>\n    <tr>\n      <th>3</th>\n      <td>seoul</td>\n      <td>2050</td>\n      <td>2345678</td>\n    </tr>\n    <tr>\n      <th>5</th>\n      <td>seoul</td>\n      <td>2020</td>\n      <td>3456789</td>\n    </tr>\n    <tr>\n      <th>7</th>\n      <td>kwangju</td>\n      <td>2018</td>\n      <td>4567890</td>\n    </tr>\n    <tr>\n      <th>9</th>\n      <td>kwangju</td>\n      <td>2022</td>\n      <td>5678901</td>\n    </tr>\n  </tbody>\n</table>\n</div>"
     },
     "metadata": {},
     "output_type": "display_data"
    },
    {
     "name": "stdout",
     "output_type": "stream",
     "text": [
      "\n"
     ]
    },
    {
     "data": {
      "text/plain": "   col01  col02\n1      0      1\n2      2      3\n3      4      5\n4      6      7\n5      8      9\n6     10     11",
      "text/html": "<div>\n<style scoped>\n    .dataframe tbody tr th:only-of-type {\n        vertical-align: middle;\n    }\n\n    .dataframe tbody tr th {\n        vertical-align: top;\n    }\n\n    .dataframe thead th {\n        text-align: right;\n    }\n</style>\n<table border=\"1\" class=\"dataframe\">\n  <thead>\n    <tr style=\"text-align: right;\">\n      <th></th>\n      <th>col01</th>\n      <th>col02</th>\n    </tr>\n  </thead>\n  <tbody>\n    <tr>\n      <th>1</th>\n      <td>0</td>\n      <td>1</td>\n    </tr>\n    <tr>\n      <th>2</th>\n      <td>2</td>\n      <td>3</td>\n    </tr>\n    <tr>\n      <th>3</th>\n      <td>4</td>\n      <td>5</td>\n    </tr>\n    <tr>\n      <th>4</th>\n      <td>6</td>\n      <td>7</td>\n    </tr>\n    <tr>\n      <th>5</th>\n      <td>8</td>\n      <td>9</td>\n    </tr>\n    <tr>\n      <th>6</th>\n      <td>10</td>\n      <td>11</td>\n    </tr>\n  </tbody>\n</table>\n</div>"
     },
     "metadata": {},
     "output_type": "display_data"
    }
   ],
   "source": [
    "print('인덱스를 기준으로 병합 - ')\n",
    "print('left_index , right_index - ')\n",
    "\n",
    "pop01_frm = pd.DataFrame({\n",
    "    'city' : ['seoul' , 'seoul' , 'seoul' , 'kwangju' , 'kwangju'],\n",
    "    'year' : [2010 , 2050, 2020, 2018 , 2022],\n",
    "    'pop'  : [1234567, 2345678, 3456789, 4567890, 5678901]\n",
    "    } ,\n",
    "    index = [1,3,5,7,9])\n",
    "pop02_frm = pd.DataFrame( np.arange(12).reshape(6,2) ,\n",
    "                          columns = ['col01' , 'col02'] ,\n",
    "                          index   = [1,2,3,4,5,6] )\n",
    "\n",
    "print()\n",
    "display(pop01_frm)\n",
    "print()\n",
    "display(pop02_frm)"
   ],
   "metadata": {
    "collapsed": false,
    "pycharm": {
     "name": "#%%\n"
    }
   }
  },
  {
   "cell_type": "code",
   "execution_count": 17,
   "outputs": [
    {
     "data": {
      "text/plain": "    city  year      pop  col01  col02\n1  seoul  2010  1234567      0      1\n3  seoul  2050  2345678      4      5\n5  seoul  2020  3456789      8      9",
      "text/html": "<div>\n<style scoped>\n    .dataframe tbody tr th:only-of-type {\n        vertical-align: middle;\n    }\n\n    .dataframe tbody tr th {\n        vertical-align: top;\n    }\n\n    .dataframe thead th {\n        text-align: right;\n    }\n</style>\n<table border=\"1\" class=\"dataframe\">\n  <thead>\n    <tr style=\"text-align: right;\">\n      <th></th>\n      <th>city</th>\n      <th>year</th>\n      <th>pop</th>\n      <th>col01</th>\n      <th>col02</th>\n    </tr>\n  </thead>\n  <tbody>\n    <tr>\n      <th>1</th>\n      <td>seoul</td>\n      <td>2010</td>\n      <td>1234567</td>\n      <td>0</td>\n      <td>1</td>\n    </tr>\n    <tr>\n      <th>3</th>\n      <td>seoul</td>\n      <td>2050</td>\n      <td>2345678</td>\n      <td>4</td>\n      <td>5</td>\n    </tr>\n    <tr>\n      <th>5</th>\n      <td>seoul</td>\n      <td>2020</td>\n      <td>3456789</td>\n      <td>8</td>\n      <td>9</td>\n    </tr>\n  </tbody>\n</table>\n</div>"
     },
     "execution_count": 17,
     "metadata": {},
     "output_type": "execute_result"
    }
   ],
   "source": [
    "pd.merge(pop01_frm , pop02_frm , right_index = True , left_index = True )"
   ],
   "metadata": {
    "collapsed": false,
    "pycharm": {
     "name": "#%%\n"
    }
   }
  },
  {
   "cell_type": "code",
   "execution_count": 18,
   "outputs": [
    {
     "data": {
      "text/plain": "    city  year      pop  col01  col02\n1  seoul  2010  1234567      0      1\n3  seoul  2050  2345678      4      5\n5  seoul  2020  3456789      8      9",
      "text/html": "<div>\n<style scoped>\n    .dataframe tbody tr th:only-of-type {\n        vertical-align: middle;\n    }\n\n    .dataframe tbody tr th {\n        vertical-align: top;\n    }\n\n    .dataframe thead th {\n        text-align: right;\n    }\n</style>\n<table border=\"1\" class=\"dataframe\">\n  <thead>\n    <tr style=\"text-align: right;\">\n      <th></th>\n      <th>city</th>\n      <th>year</th>\n      <th>pop</th>\n      <th>col01</th>\n      <th>col02</th>\n    </tr>\n  </thead>\n  <tbody>\n    <tr>\n      <th>1</th>\n      <td>seoul</td>\n      <td>2010</td>\n      <td>1234567</td>\n      <td>0</td>\n      <td>1</td>\n    </tr>\n    <tr>\n      <th>3</th>\n      <td>seoul</td>\n      <td>2050</td>\n      <td>2345678</td>\n      <td>4</td>\n      <td>5</td>\n    </tr>\n    <tr>\n      <th>5</th>\n      <td>seoul</td>\n      <td>2020</td>\n      <td>3456789</td>\n      <td>8</td>\n      <td>9</td>\n    </tr>\n  </tbody>\n</table>\n</div>"
     },
     "execution_count": 18,
     "metadata": {},
     "output_type": "execute_result"
    }
   ],
   "source": [
    "pop01_frm.join(pop02_frm , how = 'inner')"
   ],
   "metadata": {
    "collapsed": false,
    "pycharm": {
     "name": "#%%\n"
    }
   }
  },
  {
   "cell_type": "code",
   "execution_count": 19,
   "outputs": [
    {
     "data": {
      "text/plain": "array([0, 1, 2, 3, 4])"
     },
     "execution_count": 19,
     "metadata": {},
     "output_type": "execute_result"
    }
   ],
   "source": [
    "s01 = pd.Series([0,1]   , index=['a', 'b'])\n",
    "s02 = pd.Series([2,3,4] , index=['c', 'd' , 'e'])\n",
    "\n",
    "s03 = pd.concat([s01, s02] , ignore_index = True)\n",
    "s03.index.values"
   ],
   "metadata": {
    "collapsed": false,
    "pycharm": {
     "name": "#%%\n"
    }
   }
  },
  {
   "cell_type": "code",
   "execution_count": 20,
   "outputs": [
    {
     "data": {
      "text/plain": "   col01  col02\na      0      1\nb      2      3\nc      4      5",
      "text/html": "<div>\n<style scoped>\n    .dataframe tbody tr th:only-of-type {\n        vertical-align: middle;\n    }\n\n    .dataframe tbody tr th {\n        vertical-align: top;\n    }\n\n    .dataframe thead th {\n        text-align: right;\n    }\n</style>\n<table border=\"1\" class=\"dataframe\">\n  <thead>\n    <tr style=\"text-align: right;\">\n      <th></th>\n      <th>col01</th>\n      <th>col02</th>\n    </tr>\n  </thead>\n  <tbody>\n    <tr>\n      <th>a</th>\n      <td>0</td>\n      <td>1</td>\n    </tr>\n    <tr>\n      <th>b</th>\n      <td>2</td>\n      <td>3</td>\n    </tr>\n    <tr>\n      <th>c</th>\n      <td>4</td>\n      <td>5</td>\n    </tr>\n  </tbody>\n</table>\n</div>"
     },
     "metadata": {},
     "output_type": "display_data"
    }
   ],
   "source": [
    "concat01_frm = pd.DataFrame( np.arange(6).reshape(3,2)  ,\n",
    "                             index = ['a', 'b', 'c'] ,\n",
    "                             columns = ['col01' , 'col02'])\n",
    "display(concat01_frm)"
   ],
   "metadata": {
    "collapsed": false,
    "pycharm": {
     "name": "#%%\n"
    }
   }
  },
  {
   "cell_type": "code",
   "execution_count": 21,
   "outputs": [
    {
     "data": {
      "text/plain": "   col03  col04\na      0      1\nc      2      3",
      "text/html": "<div>\n<style scoped>\n    .dataframe tbody tr th:only-of-type {\n        vertical-align: middle;\n    }\n\n    .dataframe tbody tr th {\n        vertical-align: top;\n    }\n\n    .dataframe thead th {\n        text-align: right;\n    }\n</style>\n<table border=\"1\" class=\"dataframe\">\n  <thead>\n    <tr style=\"text-align: right;\">\n      <th></th>\n      <th>col03</th>\n      <th>col04</th>\n    </tr>\n  </thead>\n  <tbody>\n    <tr>\n      <th>a</th>\n      <td>0</td>\n      <td>1</td>\n    </tr>\n    <tr>\n      <th>c</th>\n      <td>2</td>\n      <td>3</td>\n    </tr>\n  </tbody>\n</table>\n</div>"
     },
     "metadata": {},
     "output_type": "display_data"
    }
   ],
   "source": [
    "concat02_frm = pd.DataFrame( np.arange(4).reshape(2,2)  ,\n",
    "                             index = ['a', 'c'] ,\n",
    "                             columns = ['col03' , 'col04'])\n",
    "display(concat02_frm)"
   ],
   "metadata": {
    "collapsed": false,
    "pycharm": {
     "name": "#%%\n"
    }
   }
  },
  {
   "cell_type": "code",
   "execution_count": 22,
   "outputs": [
    {
     "name": "stdout",
     "output_type": "stream",
     "text": [
      "axis = 1 (열) , axis = 0 (행)\n"
     ]
    },
    {
     "data": {
      "text/plain": "   col01  col02  col03  col04\na      0      1    0.0    1.0\nb      2      3    NaN    NaN\nc      4      5    2.0    3.0",
      "text/html": "<div>\n<style scoped>\n    .dataframe tbody tr th:only-of-type {\n        vertical-align: middle;\n    }\n\n    .dataframe tbody tr th {\n        vertical-align: top;\n    }\n\n    .dataframe thead th {\n        text-align: right;\n    }\n</style>\n<table border=\"1\" class=\"dataframe\">\n  <thead>\n    <tr style=\"text-align: right;\">\n      <th></th>\n      <th>col01</th>\n      <th>col02</th>\n      <th>col03</th>\n      <th>col04</th>\n    </tr>\n  </thead>\n  <tbody>\n    <tr>\n      <th>a</th>\n      <td>0</td>\n      <td>1</td>\n      <td>0.0</td>\n      <td>1.0</td>\n    </tr>\n    <tr>\n      <th>b</th>\n      <td>2</td>\n      <td>3</td>\n      <td>NaN</td>\n      <td>NaN</td>\n    </tr>\n    <tr>\n      <th>c</th>\n      <td>4</td>\n      <td>5</td>\n      <td>2.0</td>\n      <td>3.0</td>\n    </tr>\n  </tbody>\n</table>\n</div>"
     },
     "execution_count": 22,
     "metadata": {},
     "output_type": "execute_result"
    }
   ],
   "source": [
    "print('axis = 1 (열) , axis = 0 (행)')\n",
    "pd.concat([concat01_frm, concat02_frm] , axis = 1)"
   ],
   "metadata": {
    "collapsed": false,
    "pycharm": {
     "name": "#%%\n"
    }
   }
  },
  {
   "cell_type": "code",
   "execution_count": 23,
   "outputs": [],
   "source": [
    "stock01_frm = pd.read_excel('/Users/choijaewoo/pandas_data/stock price.xlsx')\n"
   ],
   "metadata": {
    "collapsed": false,
    "pycharm": {
     "name": "#%%\n"
    }
   }
  },
  {
   "cell_type": "code",
   "execution_count": 24,
   "outputs": [],
   "source": [
    "stock02_frm = pd.read_excel('/Users/choijaewoo/pandas_data/stock valuation.xlsx')\n"
   ],
   "metadata": {
    "collapsed": false,
    "pycharm": {
     "name": "#%%\n"
    }
   }
  },
  {
   "cell_type": "code",
   "execution_count": 25,
   "outputs": [
    {
     "data": {
      "text/plain": "       id stock_name          value   price\n0  128940       한미약품   59385.666667  421000\n1  130960     CJ E&M   58540.666667   98900\n2  138250      엔에스쇼핑   14558.666667   13200\n3  139480        이마트  239230.833333  254500\n4  142280     녹십자엠에스     468.833333   10200\n5  145990        삼양사   82750.000000   82000\n6  185750        종근당   40293.666667  100500\n7  192400      쿠쿠홀딩스  179204.666667  177500\n8  199800         툴젠   -2514.333333  115400\n9  204210     모두투어리츠    3093.333333    3475",
      "text/html": "<div>\n<style scoped>\n    .dataframe tbody tr th:only-of-type {\n        vertical-align: middle;\n    }\n\n    .dataframe tbody tr th {\n        vertical-align: top;\n    }\n\n    .dataframe thead th {\n        text-align: right;\n    }\n</style>\n<table border=\"1\" class=\"dataframe\">\n  <thead>\n    <tr style=\"text-align: right;\">\n      <th></th>\n      <th>id</th>\n      <th>stock_name</th>\n      <th>value</th>\n      <th>price</th>\n    </tr>\n  </thead>\n  <tbody>\n    <tr>\n      <th>0</th>\n      <td>128940</td>\n      <td>한미약품</td>\n      <td>59385.666667</td>\n      <td>421000</td>\n    </tr>\n    <tr>\n      <th>1</th>\n      <td>130960</td>\n      <td>CJ E&amp;M</td>\n      <td>58540.666667</td>\n      <td>98900</td>\n    </tr>\n    <tr>\n      <th>2</th>\n      <td>138250</td>\n      <td>엔에스쇼핑</td>\n      <td>14558.666667</td>\n      <td>13200</td>\n    </tr>\n    <tr>\n      <th>3</th>\n      <td>139480</td>\n      <td>이마트</td>\n      <td>239230.833333</td>\n      <td>254500</td>\n    </tr>\n    <tr>\n      <th>4</th>\n      <td>142280</td>\n      <td>녹십자엠에스</td>\n      <td>468.833333</td>\n      <td>10200</td>\n    </tr>\n    <tr>\n      <th>5</th>\n      <td>145990</td>\n      <td>삼양사</td>\n      <td>82750.000000</td>\n      <td>82000</td>\n    </tr>\n    <tr>\n      <th>6</th>\n      <td>185750</td>\n      <td>종근당</td>\n      <td>40293.666667</td>\n      <td>100500</td>\n    </tr>\n    <tr>\n      <th>7</th>\n      <td>192400</td>\n      <td>쿠쿠홀딩스</td>\n      <td>179204.666667</td>\n      <td>177500</td>\n    </tr>\n    <tr>\n      <th>8</th>\n      <td>199800</td>\n      <td>툴젠</td>\n      <td>-2514.333333</td>\n      <td>115400</td>\n    </tr>\n    <tr>\n      <th>9</th>\n      <td>204210</td>\n      <td>모두투어리츠</td>\n      <td>3093.333333</td>\n      <td>3475</td>\n    </tr>\n  </tbody>\n</table>\n</div>"
     },
     "metadata": {},
     "output_type": "display_data"
    },
    {
     "data": {
      "text/plain": "       id       name           eps     bps        per       pbr\n0  130960     CJ E&M   6301.333333   54068  15.695091  1.829178\n1  136480         하림    274.166667    3551  11.489362  0.887074\n2  138040    메리츠금융지주   2122.333333   14894   6.313806  0.899691\n3  139480        이마트  18268.166667  295780  13.931338  0.860437\n4  145990        삼양사   5741.000000  108090  14.283226  0.758627\n5  161390      한국타이어   5648.500000   51341   7.453306  0.820007\n6  181710  NHN엔터테인먼트   2110.166667   78434  30.755864  0.827447\n7  185750        종근당   3990.333333   40684  25.185866  2.470259\n8  204210     모두투어리츠     85.166667    5335  40.802348  0.651359\n9  207940   삼성바이오로직스   4644.166667   60099  89.790059  6.938551",
      "text/html": "<div>\n<style scoped>\n    .dataframe tbody tr th:only-of-type {\n        vertical-align: middle;\n    }\n\n    .dataframe tbody tr th {\n        vertical-align: top;\n    }\n\n    .dataframe thead th {\n        text-align: right;\n    }\n</style>\n<table border=\"1\" class=\"dataframe\">\n  <thead>\n    <tr style=\"text-align: right;\">\n      <th></th>\n      <th>id</th>\n      <th>name</th>\n      <th>eps</th>\n      <th>bps</th>\n      <th>per</th>\n      <th>pbr</th>\n    </tr>\n  </thead>\n  <tbody>\n    <tr>\n      <th>0</th>\n      <td>130960</td>\n      <td>CJ E&amp;M</td>\n      <td>6301.333333</td>\n      <td>54068</td>\n      <td>15.695091</td>\n      <td>1.829178</td>\n    </tr>\n    <tr>\n      <th>1</th>\n      <td>136480</td>\n      <td>하림</td>\n      <td>274.166667</td>\n      <td>3551</td>\n      <td>11.489362</td>\n      <td>0.887074</td>\n    </tr>\n    <tr>\n      <th>2</th>\n      <td>138040</td>\n      <td>메리츠금융지주</td>\n      <td>2122.333333</td>\n      <td>14894</td>\n      <td>6.313806</td>\n      <td>0.899691</td>\n    </tr>\n    <tr>\n      <th>3</th>\n      <td>139480</td>\n      <td>이마트</td>\n      <td>18268.166667</td>\n      <td>295780</td>\n      <td>13.931338</td>\n      <td>0.860437</td>\n    </tr>\n    <tr>\n      <th>4</th>\n      <td>145990</td>\n      <td>삼양사</td>\n      <td>5741.000000</td>\n      <td>108090</td>\n      <td>14.283226</td>\n      <td>0.758627</td>\n    </tr>\n    <tr>\n      <th>5</th>\n      <td>161390</td>\n      <td>한국타이어</td>\n      <td>5648.500000</td>\n      <td>51341</td>\n      <td>7.453306</td>\n      <td>0.820007</td>\n    </tr>\n    <tr>\n      <th>6</th>\n      <td>181710</td>\n      <td>NHN엔터테인먼트</td>\n      <td>2110.166667</td>\n      <td>78434</td>\n      <td>30.755864</td>\n      <td>0.827447</td>\n    </tr>\n    <tr>\n      <th>7</th>\n      <td>185750</td>\n      <td>종근당</td>\n      <td>3990.333333</td>\n      <td>40684</td>\n      <td>25.185866</td>\n      <td>2.470259</td>\n    </tr>\n    <tr>\n      <th>8</th>\n      <td>204210</td>\n      <td>모두투어리츠</td>\n      <td>85.166667</td>\n      <td>5335</td>\n      <td>40.802348</td>\n      <td>0.651359</td>\n    </tr>\n    <tr>\n      <th>9</th>\n      <td>207940</td>\n      <td>삼성바이오로직스</td>\n      <td>4644.166667</td>\n      <td>60099</td>\n      <td>89.790059</td>\n      <td>6.938551</td>\n    </tr>\n  </tbody>\n</table>\n</div>"
     },
     "metadata": {},
     "output_type": "display_data"
    }
   ],
   "source": [
    "display(stock01_frm)\n",
    "display(stock02_frm)"
   ],
   "metadata": {
    "collapsed": false,
    "pycharm": {
     "name": "#%%\n"
    }
   }
  },
  {
   "cell_type": "code",
   "execution_count": 26,
   "outputs": [
    {
     "name": "stdout",
     "output_type": "stream",
     "text": [
      "case 01 - merge : 교집합, 합집합, 왼쪽프레임 기준, 오른쪽프레임 기준 , 키 값 분리 - \n",
      "case 02 - join : index_col = id 지정하여 로드하는 방식\n",
      "case 03 - concat \n"
     ]
    }
   ],
   "source": [
    "print('case 01 - merge : 교집합, 합집합, 왼쪽프레임 기준, 오른쪽프레임 기준 , 키 값 분리 - ')\n",
    "print('case 02 - join : index_col = id 지정하여 로드하는 방식' )\n",
    "print('case 03 - concat ' )"
   ],
   "metadata": {
    "collapsed": false,
    "pycharm": {
     "name": "#%%\n"
    }
   }
  },
  {
   "cell_type": "code",
   "execution_count": 27,
   "outputs": [
    {
     "name": "stdout",
     "output_type": "stream",
     "text": [
      "case 01 - 교집합\n"
     ]
    },
    {
     "data": {
      "text/plain": "       id stock_name          value   price    name           eps     bps  \\\n0  130960     CJ E&M   58540.666667   98900  CJ E&M   6301.333333   54068   \n1  139480        이마트  239230.833333  254500     이마트  18268.166667  295780   \n2  145990        삼양사   82750.000000   82000     삼양사   5741.000000  108090   \n3  185750        종근당   40293.666667  100500     종근당   3990.333333   40684   \n4  204210     모두투어리츠    3093.333333    3475  모두투어리츠     85.166667    5335   \n\n         per       pbr  \n0  15.695091  1.829178  \n1  13.931338  0.860437  \n2  14.283226  0.758627  \n3  25.185866  2.470259  \n4  40.802348  0.651359  ",
      "text/html": "<div>\n<style scoped>\n    .dataframe tbody tr th:only-of-type {\n        vertical-align: middle;\n    }\n\n    .dataframe tbody tr th {\n        vertical-align: top;\n    }\n\n    .dataframe thead th {\n        text-align: right;\n    }\n</style>\n<table border=\"1\" class=\"dataframe\">\n  <thead>\n    <tr style=\"text-align: right;\">\n      <th></th>\n      <th>id</th>\n      <th>stock_name</th>\n      <th>value</th>\n      <th>price</th>\n      <th>name</th>\n      <th>eps</th>\n      <th>bps</th>\n      <th>per</th>\n      <th>pbr</th>\n    </tr>\n  </thead>\n  <tbody>\n    <tr>\n      <th>0</th>\n      <td>130960</td>\n      <td>CJ E&amp;M</td>\n      <td>58540.666667</td>\n      <td>98900</td>\n      <td>CJ E&amp;M</td>\n      <td>6301.333333</td>\n      <td>54068</td>\n      <td>15.695091</td>\n      <td>1.829178</td>\n    </tr>\n    <tr>\n      <th>1</th>\n      <td>139480</td>\n      <td>이마트</td>\n      <td>239230.833333</td>\n      <td>254500</td>\n      <td>이마트</td>\n      <td>18268.166667</td>\n      <td>295780</td>\n      <td>13.931338</td>\n      <td>0.860437</td>\n    </tr>\n    <tr>\n      <th>2</th>\n      <td>145990</td>\n      <td>삼양사</td>\n      <td>82750.000000</td>\n      <td>82000</td>\n      <td>삼양사</td>\n      <td>5741.000000</td>\n      <td>108090</td>\n      <td>14.283226</td>\n      <td>0.758627</td>\n    </tr>\n    <tr>\n      <th>3</th>\n      <td>185750</td>\n      <td>종근당</td>\n      <td>40293.666667</td>\n      <td>100500</td>\n      <td>종근당</td>\n      <td>3990.333333</td>\n      <td>40684</td>\n      <td>25.185866</td>\n      <td>2.470259</td>\n    </tr>\n    <tr>\n      <th>4</th>\n      <td>204210</td>\n      <td>모두투어리츠</td>\n      <td>3093.333333</td>\n      <td>3475</td>\n      <td>모두투어리츠</td>\n      <td>85.166667</td>\n      <td>5335</td>\n      <td>40.802348</td>\n      <td>0.651359</td>\n    </tr>\n  </tbody>\n</table>\n</div>"
     },
     "metadata": {},
     "output_type": "display_data"
    },
    {
     "name": "stdout",
     "output_type": "stream",
     "text": [
      "case 01 - 합집합\n"
     ]
    },
    {
     "data": {
      "text/plain": "        id stock_name          value     price       name           eps  \\\n0   128940       한미약품   59385.666667  421000.0        NaN           NaN   \n1   130960     CJ E&M   58540.666667   98900.0     CJ E&M   6301.333333   \n2   138250      엔에스쇼핑   14558.666667   13200.0        NaN           NaN   \n3   139480        이마트  239230.833333  254500.0        이마트  18268.166667   \n4   142280     녹십자엠에스     468.833333   10200.0        NaN           NaN   \n5   145990        삼양사   82750.000000   82000.0        삼양사   5741.000000   \n6   185750        종근당   40293.666667  100500.0        종근당   3990.333333   \n7   192400      쿠쿠홀딩스  179204.666667  177500.0        NaN           NaN   \n8   199800         툴젠   -2514.333333  115400.0        NaN           NaN   \n9   204210     모두투어리츠    3093.333333    3475.0     모두투어리츠     85.166667   \n10  136480        NaN            NaN       NaN         하림    274.166667   \n11  138040        NaN            NaN       NaN    메리츠금융지주   2122.333333   \n12  161390        NaN            NaN       NaN      한국타이어   5648.500000   \n13  181710        NaN            NaN       NaN  NHN엔터테인먼트   2110.166667   \n14  207940        NaN            NaN       NaN   삼성바이오로직스   4644.166667   \n\n         bps        per       pbr  \n0        NaN        NaN       NaN  \n1    54068.0  15.695091  1.829178  \n2        NaN        NaN       NaN  \n3   295780.0  13.931338  0.860437  \n4        NaN        NaN       NaN  \n5   108090.0  14.283226  0.758627  \n6    40684.0  25.185866  2.470259  \n7        NaN        NaN       NaN  \n8        NaN        NaN       NaN  \n9     5335.0  40.802348  0.651359  \n10    3551.0  11.489362  0.887074  \n11   14894.0   6.313806  0.899691  \n12   51341.0   7.453306  0.820007  \n13   78434.0  30.755864  0.827447  \n14   60099.0  89.790059  6.938551  ",
      "text/html": "<div>\n<style scoped>\n    .dataframe tbody tr th:only-of-type {\n        vertical-align: middle;\n    }\n\n    .dataframe tbody tr th {\n        vertical-align: top;\n    }\n\n    .dataframe thead th {\n        text-align: right;\n    }\n</style>\n<table border=\"1\" class=\"dataframe\">\n  <thead>\n    <tr style=\"text-align: right;\">\n      <th></th>\n      <th>id</th>\n      <th>stock_name</th>\n      <th>value</th>\n      <th>price</th>\n      <th>name</th>\n      <th>eps</th>\n      <th>bps</th>\n      <th>per</th>\n      <th>pbr</th>\n    </tr>\n  </thead>\n  <tbody>\n    <tr>\n      <th>0</th>\n      <td>128940</td>\n      <td>한미약품</td>\n      <td>59385.666667</td>\n      <td>421000.0</td>\n      <td>NaN</td>\n      <td>NaN</td>\n      <td>NaN</td>\n      <td>NaN</td>\n      <td>NaN</td>\n    </tr>\n    <tr>\n      <th>1</th>\n      <td>130960</td>\n      <td>CJ E&amp;M</td>\n      <td>58540.666667</td>\n      <td>98900.0</td>\n      <td>CJ E&amp;M</td>\n      <td>6301.333333</td>\n      <td>54068.0</td>\n      <td>15.695091</td>\n      <td>1.829178</td>\n    </tr>\n    <tr>\n      <th>2</th>\n      <td>138250</td>\n      <td>엔에스쇼핑</td>\n      <td>14558.666667</td>\n      <td>13200.0</td>\n      <td>NaN</td>\n      <td>NaN</td>\n      <td>NaN</td>\n      <td>NaN</td>\n      <td>NaN</td>\n    </tr>\n    <tr>\n      <th>3</th>\n      <td>139480</td>\n      <td>이마트</td>\n      <td>239230.833333</td>\n      <td>254500.0</td>\n      <td>이마트</td>\n      <td>18268.166667</td>\n      <td>295780.0</td>\n      <td>13.931338</td>\n      <td>0.860437</td>\n    </tr>\n    <tr>\n      <th>4</th>\n      <td>142280</td>\n      <td>녹십자엠에스</td>\n      <td>468.833333</td>\n      <td>10200.0</td>\n      <td>NaN</td>\n      <td>NaN</td>\n      <td>NaN</td>\n      <td>NaN</td>\n      <td>NaN</td>\n    </tr>\n    <tr>\n      <th>5</th>\n      <td>145990</td>\n      <td>삼양사</td>\n      <td>82750.000000</td>\n      <td>82000.0</td>\n      <td>삼양사</td>\n      <td>5741.000000</td>\n      <td>108090.0</td>\n      <td>14.283226</td>\n      <td>0.758627</td>\n    </tr>\n    <tr>\n      <th>6</th>\n      <td>185750</td>\n      <td>종근당</td>\n      <td>40293.666667</td>\n      <td>100500.0</td>\n      <td>종근당</td>\n      <td>3990.333333</td>\n      <td>40684.0</td>\n      <td>25.185866</td>\n      <td>2.470259</td>\n    </tr>\n    <tr>\n      <th>7</th>\n      <td>192400</td>\n      <td>쿠쿠홀딩스</td>\n      <td>179204.666667</td>\n      <td>177500.0</td>\n      <td>NaN</td>\n      <td>NaN</td>\n      <td>NaN</td>\n      <td>NaN</td>\n      <td>NaN</td>\n    </tr>\n    <tr>\n      <th>8</th>\n      <td>199800</td>\n      <td>툴젠</td>\n      <td>-2514.333333</td>\n      <td>115400.0</td>\n      <td>NaN</td>\n      <td>NaN</td>\n      <td>NaN</td>\n      <td>NaN</td>\n      <td>NaN</td>\n    </tr>\n    <tr>\n      <th>9</th>\n      <td>204210</td>\n      <td>모두투어리츠</td>\n      <td>3093.333333</td>\n      <td>3475.0</td>\n      <td>모두투어리츠</td>\n      <td>85.166667</td>\n      <td>5335.0</td>\n      <td>40.802348</td>\n      <td>0.651359</td>\n    </tr>\n    <tr>\n      <th>10</th>\n      <td>136480</td>\n      <td>NaN</td>\n      <td>NaN</td>\n      <td>NaN</td>\n      <td>하림</td>\n      <td>274.166667</td>\n      <td>3551.0</td>\n      <td>11.489362</td>\n      <td>0.887074</td>\n    </tr>\n    <tr>\n      <th>11</th>\n      <td>138040</td>\n      <td>NaN</td>\n      <td>NaN</td>\n      <td>NaN</td>\n      <td>메리츠금융지주</td>\n      <td>2122.333333</td>\n      <td>14894.0</td>\n      <td>6.313806</td>\n      <td>0.899691</td>\n    </tr>\n    <tr>\n      <th>12</th>\n      <td>161390</td>\n      <td>NaN</td>\n      <td>NaN</td>\n      <td>NaN</td>\n      <td>한국타이어</td>\n      <td>5648.500000</td>\n      <td>51341.0</td>\n      <td>7.453306</td>\n      <td>0.820007</td>\n    </tr>\n    <tr>\n      <th>13</th>\n      <td>181710</td>\n      <td>NaN</td>\n      <td>NaN</td>\n      <td>NaN</td>\n      <td>NHN엔터테인먼트</td>\n      <td>2110.166667</td>\n      <td>78434.0</td>\n      <td>30.755864</td>\n      <td>0.827447</td>\n    </tr>\n    <tr>\n      <th>14</th>\n      <td>207940</td>\n      <td>NaN</td>\n      <td>NaN</td>\n      <td>NaN</td>\n      <td>삼성바이오로직스</td>\n      <td>4644.166667</td>\n      <td>60099.0</td>\n      <td>89.790059</td>\n      <td>6.938551</td>\n    </tr>\n  </tbody>\n</table>\n</div>"
     },
     "metadata": {},
     "output_type": "display_data"
    }
   ],
   "source": [
    "print('case 01 - 교집합')\n",
    "merge_inner_frm = pd.merge(stock01_frm , stock02_frm , how = 'inner')\n",
    "display( merge_inner_frm )\n",
    "\n",
    "print('case 01 - 합집합')\n",
    "merge_outer_frm = pd.merge(stock01_frm , stock02_frm , how = 'outer' , on = 'id')\n",
    "display( merge_outer_frm )"
   ],
   "metadata": {
    "collapsed": false,
    "pycharm": {
     "name": "#%%\n"
    }
   }
  },
  {
   "cell_type": "code",
   "execution_count": 28,
   "outputs": [
    {
     "name": "stdout",
     "output_type": "stream",
     "text": [
      "case 01 - 왼쪽프레임 기준\n"
     ]
    },
    {
     "data": {
      "text/plain": "     id_x stock_name          value   price      id_y    name           eps  \\\n0  128940       한미약품   59385.666667  421000       NaN     NaN           NaN   \n1  130960     CJ E&M   58540.666667   98900  130960.0  CJ E&M   6301.333333   \n2  138250      엔에스쇼핑   14558.666667   13200       NaN     NaN           NaN   \n3  139480        이마트  239230.833333  254500  139480.0     이마트  18268.166667   \n4  142280     녹십자엠에스     468.833333   10200       NaN     NaN           NaN   \n5  145990        삼양사   82750.000000   82000  145990.0     삼양사   5741.000000   \n6  185750        종근당   40293.666667  100500  185750.0     종근당   3990.333333   \n7  192400      쿠쿠홀딩스  179204.666667  177500       NaN     NaN           NaN   \n8  199800         툴젠   -2514.333333  115400       NaN     NaN           NaN   \n9  204210     모두투어리츠    3093.333333    3475  204210.0  모두투어리츠     85.166667   \n\n        bps        per       pbr  \n0       NaN        NaN       NaN  \n1   54068.0  15.695091  1.829178  \n2       NaN        NaN       NaN  \n3  295780.0  13.931338  0.860437  \n4       NaN        NaN       NaN  \n5  108090.0  14.283226  0.758627  \n6   40684.0  25.185866  2.470259  \n7       NaN        NaN       NaN  \n8       NaN        NaN       NaN  \n9    5335.0  40.802348  0.651359  ",
      "text/html": "<div>\n<style scoped>\n    .dataframe tbody tr th:only-of-type {\n        vertical-align: middle;\n    }\n\n    .dataframe tbody tr th {\n        vertical-align: top;\n    }\n\n    .dataframe thead th {\n        text-align: right;\n    }\n</style>\n<table border=\"1\" class=\"dataframe\">\n  <thead>\n    <tr style=\"text-align: right;\">\n      <th></th>\n      <th>id_x</th>\n      <th>stock_name</th>\n      <th>value</th>\n      <th>price</th>\n      <th>id_y</th>\n      <th>name</th>\n      <th>eps</th>\n      <th>bps</th>\n      <th>per</th>\n      <th>pbr</th>\n    </tr>\n  </thead>\n  <tbody>\n    <tr>\n      <th>0</th>\n      <td>128940</td>\n      <td>한미약품</td>\n      <td>59385.666667</td>\n      <td>421000</td>\n      <td>NaN</td>\n      <td>NaN</td>\n      <td>NaN</td>\n      <td>NaN</td>\n      <td>NaN</td>\n      <td>NaN</td>\n    </tr>\n    <tr>\n      <th>1</th>\n      <td>130960</td>\n      <td>CJ E&amp;M</td>\n      <td>58540.666667</td>\n      <td>98900</td>\n      <td>130960.0</td>\n      <td>CJ E&amp;M</td>\n      <td>6301.333333</td>\n      <td>54068.0</td>\n      <td>15.695091</td>\n      <td>1.829178</td>\n    </tr>\n    <tr>\n      <th>2</th>\n      <td>138250</td>\n      <td>엔에스쇼핑</td>\n      <td>14558.666667</td>\n      <td>13200</td>\n      <td>NaN</td>\n      <td>NaN</td>\n      <td>NaN</td>\n      <td>NaN</td>\n      <td>NaN</td>\n      <td>NaN</td>\n    </tr>\n    <tr>\n      <th>3</th>\n      <td>139480</td>\n      <td>이마트</td>\n      <td>239230.833333</td>\n      <td>254500</td>\n      <td>139480.0</td>\n      <td>이마트</td>\n      <td>18268.166667</td>\n      <td>295780.0</td>\n      <td>13.931338</td>\n      <td>0.860437</td>\n    </tr>\n    <tr>\n      <th>4</th>\n      <td>142280</td>\n      <td>녹십자엠에스</td>\n      <td>468.833333</td>\n      <td>10200</td>\n      <td>NaN</td>\n      <td>NaN</td>\n      <td>NaN</td>\n      <td>NaN</td>\n      <td>NaN</td>\n      <td>NaN</td>\n    </tr>\n    <tr>\n      <th>5</th>\n      <td>145990</td>\n      <td>삼양사</td>\n      <td>82750.000000</td>\n      <td>82000</td>\n      <td>145990.0</td>\n      <td>삼양사</td>\n      <td>5741.000000</td>\n      <td>108090.0</td>\n      <td>14.283226</td>\n      <td>0.758627</td>\n    </tr>\n    <tr>\n      <th>6</th>\n      <td>185750</td>\n      <td>종근당</td>\n      <td>40293.666667</td>\n      <td>100500</td>\n      <td>185750.0</td>\n      <td>종근당</td>\n      <td>3990.333333</td>\n      <td>40684.0</td>\n      <td>25.185866</td>\n      <td>2.470259</td>\n    </tr>\n    <tr>\n      <th>7</th>\n      <td>192400</td>\n      <td>쿠쿠홀딩스</td>\n      <td>179204.666667</td>\n      <td>177500</td>\n      <td>NaN</td>\n      <td>NaN</td>\n      <td>NaN</td>\n      <td>NaN</td>\n      <td>NaN</td>\n      <td>NaN</td>\n    </tr>\n    <tr>\n      <th>8</th>\n      <td>199800</td>\n      <td>툴젠</td>\n      <td>-2514.333333</td>\n      <td>115400</td>\n      <td>NaN</td>\n      <td>NaN</td>\n      <td>NaN</td>\n      <td>NaN</td>\n      <td>NaN</td>\n      <td>NaN</td>\n    </tr>\n    <tr>\n      <th>9</th>\n      <td>204210</td>\n      <td>모두투어리츠</td>\n      <td>3093.333333</td>\n      <td>3475</td>\n      <td>204210.0</td>\n      <td>모두투어리츠</td>\n      <td>85.166667</td>\n      <td>5335.0</td>\n      <td>40.802348</td>\n      <td>0.651359</td>\n    </tr>\n  </tbody>\n</table>\n</div>"
     },
     "metadata": {},
     "output_type": "display_data"
    },
    {
     "name": "stdout",
     "output_type": "stream",
     "text": [
      "case 01 - 오른쪽프레임 기준\n"
     ]
    },
    {
     "data": {
      "text/plain": "       id_x stock_name          value     price    id_y       name  \\\n0  130960.0     CJ E&M   58540.666667   98900.0  130960     CJ E&M   \n1       NaN        NaN            NaN       NaN  136480         하림   \n2       NaN        NaN            NaN       NaN  138040    메리츠금융지주   \n3  139480.0        이마트  239230.833333  254500.0  139480        이마트   \n4  145990.0        삼양사   82750.000000   82000.0  145990        삼양사   \n5       NaN        NaN            NaN       NaN  161390      한국타이어   \n6       NaN        NaN            NaN       NaN  181710  NHN엔터테인먼트   \n7  185750.0        종근당   40293.666667  100500.0  185750        종근당   \n8  204210.0     모두투어리츠    3093.333333    3475.0  204210     모두투어리츠   \n9       NaN        NaN            NaN       NaN  207940   삼성바이오로직스   \n\n            eps     bps        per       pbr  \n0   6301.333333   54068  15.695091  1.829178  \n1    274.166667    3551  11.489362  0.887074  \n2   2122.333333   14894   6.313806  0.899691  \n3  18268.166667  295780  13.931338  0.860437  \n4   5741.000000  108090  14.283226  0.758627  \n5   5648.500000   51341   7.453306  0.820007  \n6   2110.166667   78434  30.755864  0.827447  \n7   3990.333333   40684  25.185866  2.470259  \n8     85.166667    5335  40.802348  0.651359  \n9   4644.166667   60099  89.790059  6.938551  ",
      "text/html": "<div>\n<style scoped>\n    .dataframe tbody tr th:only-of-type {\n        vertical-align: middle;\n    }\n\n    .dataframe tbody tr th {\n        vertical-align: top;\n    }\n\n    .dataframe thead th {\n        text-align: right;\n    }\n</style>\n<table border=\"1\" class=\"dataframe\">\n  <thead>\n    <tr style=\"text-align: right;\">\n      <th></th>\n      <th>id_x</th>\n      <th>stock_name</th>\n      <th>value</th>\n      <th>price</th>\n      <th>id_y</th>\n      <th>name</th>\n      <th>eps</th>\n      <th>bps</th>\n      <th>per</th>\n      <th>pbr</th>\n    </tr>\n  </thead>\n  <tbody>\n    <tr>\n      <th>0</th>\n      <td>130960.0</td>\n      <td>CJ E&amp;M</td>\n      <td>58540.666667</td>\n      <td>98900.0</td>\n      <td>130960</td>\n      <td>CJ E&amp;M</td>\n      <td>6301.333333</td>\n      <td>54068</td>\n      <td>15.695091</td>\n      <td>1.829178</td>\n    </tr>\n    <tr>\n      <th>1</th>\n      <td>NaN</td>\n      <td>NaN</td>\n      <td>NaN</td>\n      <td>NaN</td>\n      <td>136480</td>\n      <td>하림</td>\n      <td>274.166667</td>\n      <td>3551</td>\n      <td>11.489362</td>\n      <td>0.887074</td>\n    </tr>\n    <tr>\n      <th>2</th>\n      <td>NaN</td>\n      <td>NaN</td>\n      <td>NaN</td>\n      <td>NaN</td>\n      <td>138040</td>\n      <td>메리츠금융지주</td>\n      <td>2122.333333</td>\n      <td>14894</td>\n      <td>6.313806</td>\n      <td>0.899691</td>\n    </tr>\n    <tr>\n      <th>3</th>\n      <td>139480.0</td>\n      <td>이마트</td>\n      <td>239230.833333</td>\n      <td>254500.0</td>\n      <td>139480</td>\n      <td>이마트</td>\n      <td>18268.166667</td>\n      <td>295780</td>\n      <td>13.931338</td>\n      <td>0.860437</td>\n    </tr>\n    <tr>\n      <th>4</th>\n      <td>145990.0</td>\n      <td>삼양사</td>\n      <td>82750.000000</td>\n      <td>82000.0</td>\n      <td>145990</td>\n      <td>삼양사</td>\n      <td>5741.000000</td>\n      <td>108090</td>\n      <td>14.283226</td>\n      <td>0.758627</td>\n    </tr>\n    <tr>\n      <th>5</th>\n      <td>NaN</td>\n      <td>NaN</td>\n      <td>NaN</td>\n      <td>NaN</td>\n      <td>161390</td>\n      <td>한국타이어</td>\n      <td>5648.500000</td>\n      <td>51341</td>\n      <td>7.453306</td>\n      <td>0.820007</td>\n    </tr>\n    <tr>\n      <th>6</th>\n      <td>NaN</td>\n      <td>NaN</td>\n      <td>NaN</td>\n      <td>NaN</td>\n      <td>181710</td>\n      <td>NHN엔터테인먼트</td>\n      <td>2110.166667</td>\n      <td>78434</td>\n      <td>30.755864</td>\n      <td>0.827447</td>\n    </tr>\n    <tr>\n      <th>7</th>\n      <td>185750.0</td>\n      <td>종근당</td>\n      <td>40293.666667</td>\n      <td>100500.0</td>\n      <td>185750</td>\n      <td>종근당</td>\n      <td>3990.333333</td>\n      <td>40684</td>\n      <td>25.185866</td>\n      <td>2.470259</td>\n    </tr>\n    <tr>\n      <th>8</th>\n      <td>204210.0</td>\n      <td>모두투어리츠</td>\n      <td>3093.333333</td>\n      <td>3475.0</td>\n      <td>204210</td>\n      <td>모두투어리츠</td>\n      <td>85.166667</td>\n      <td>5335</td>\n      <td>40.802348</td>\n      <td>0.651359</td>\n    </tr>\n    <tr>\n      <th>9</th>\n      <td>NaN</td>\n      <td>NaN</td>\n      <td>NaN</td>\n      <td>NaN</td>\n      <td>207940</td>\n      <td>삼성바이오로직스</td>\n      <td>4644.166667</td>\n      <td>60099</td>\n      <td>89.790059</td>\n      <td>6.938551</td>\n    </tr>\n  </tbody>\n</table>\n</div>"
     },
     "metadata": {},
     "output_type": "display_data"
    }
   ],
   "source": [
    "print('case 01 - 왼쪽프레임 기준')\n",
    "merge_left_frm = pd.merge(stock01_frm , stock02_frm , how = 'left' , left_on='stock_name' , right_on = 'name')\n",
    "display( merge_left_frm )\n",
    "\n",
    "print('case 01 - 오른쪽프레임 기준')\n",
    "merge_right_frm = pd.merge(stock01_frm , stock02_frm , how = 'right' , left_on='stock_name' , right_on = 'name')\n",
    "display( merge_right_frm )"
   ],
   "metadata": {
    "collapsed": false,
    "pycharm": {
     "name": "#%%\n"
    }
   }
  },
  {
   "cell_type": "code",
   "execution_count": null,
   "outputs": [],
   "source": [],
   "metadata": {
    "collapsed": false,
    "pycharm": {
     "name": "#%%\n"
    }
   }
  },
  {
   "cell_type": "code",
   "execution_count": null,
   "outputs": [],
   "source": [],
   "metadata": {
    "collapsed": false,
    "pycharm": {
     "name": "#%%\n"
    }
   }
  },
  {
   "cell_type": "code",
   "execution_count": null,
   "outputs": [],
   "source": [],
   "metadata": {
    "collapsed": false,
    "pycharm": {
     "name": "#%%\n"
    }
   }
  },
  {
   "cell_type": "code",
   "execution_count": null,
   "outputs": [],
   "source": [],
   "metadata": {
    "collapsed": false,
    "pycharm": {
     "name": "#%%\n"
    }
   }
  },
  {
   "cell_type": "code",
   "execution_count": null,
   "outputs": [],
   "source": [],
   "metadata": {
    "collapsed": false,
    "pycharm": {
     "name": "#%%\n"
    }
   }
  },
  {
   "cell_type": "code",
   "execution_count": null,
   "outputs": [],
   "source": [],
   "metadata": {
    "collapsed": false,
    "pycharm": {
     "name": "#%%\n"
    }
   }
  },
  {
   "cell_type": "code",
   "execution_count": null,
   "outputs": [],
   "source": [],
   "metadata": {
    "collapsed": false,
    "pycharm": {
     "name": "#%%\n"
    }
   }
  },
  {
   "cell_type": "code",
   "execution_count": null,
   "outputs": [],
   "source": [],
   "metadata": {
    "collapsed": false,
    "pycharm": {
     "name": "#%%\n"
    }
   }
  },
  {
   "cell_type": "code",
   "execution_count": null,
   "outputs": [],
   "source": [],
   "metadata": {
    "collapsed": false,
    "pycharm": {
     "name": "#%%\n"
    }
   }
  },
  {
   "cell_type": "code",
   "execution_count": null,
   "outputs": [],
   "source": [],
   "metadata": {
    "collapsed": false,
    "pycharm": {
     "name": "#%%\n"
    }
   }
  },
  {
   "cell_type": "code",
   "execution_count": null,
   "outputs": [],
   "source": [],
   "metadata": {
    "collapsed": false,
    "pycharm": {
     "name": "#%%\n"
    }
   }
  }
 ],
 "metadata": {
  "kernelspec": {
   "display_name": "Python 3",
   "language": "python",
   "name": "python3"
  },
  "language_info": {
   "codemirror_mode": {
    "name": "ipython",
    "version": 2
   },
   "file_extension": ".py",
   "mimetype": "text/x-python",
   "name": "python",
   "nbconvert_exporter": "python",
   "pygments_lexer": "ipython2",
   "version": "2.7.6"
  }
 },
 "nbformat": 4,
 "nbformat_minor": 0
}