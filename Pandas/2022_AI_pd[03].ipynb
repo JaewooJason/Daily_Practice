{
 "cells": [
  {
   "cell_type": "code",
   "execution_count": 1,
   "metadata": {
    "collapsed": true
   },
   "outputs": [
    {
     "name": "stdout",
     "output_type": "stream",
     "text": [
      "numpy  version -  1.20.3\n",
      "pandas version -  1.3.4\n"
     ]
    }
   ],
   "source": [
    "import numpy  as np\n",
    "import pandas as pd\n",
    "\n",
    "import warnings\n",
    "warnings.filterwarnings(action='ignore')\n",
    "\n",
    "from datetime import date, datetime, timedelta\n",
    "from dateutil.parser import parse\n",
    "\n",
    "import json\n",
    "import urllib\n",
    "\n",
    "# titanic dataset\n",
    "import seaborn as sns\n",
    "\n",
    "# 비정형 데이터 처리를 위한 라이브러리\n",
    "from bs4 import BeautifulSoup\n",
    "import requests\n",
    "import re\n",
    "\n",
    "\n",
    "\n",
    "print('numpy  version - ' , np.__version__)\n",
    "print('pandas version - ' , pd.__version__)"
   ]
  },
  {
   "cell_type": "code",
   "execution_count": 2,
   "outputs": [],
   "source": [
    "def seriesInfo(s) :\n",
    "    print('series : index + values \\n' , s)\n",
    "    print('index  - ' , s.index  , type(s.index))\n",
    "    print('values - ' , s.values , type(s.values))\n",
    "\n",
    "def frmInfo(df) :\n",
    "    display('data - ' , df )\n",
    "    print()\n",
    "    print('shape   - ' , df.shape , df.shape[0] , df.shape[1])\n",
    "    print('size    - ' , df.size )\n",
    "    print('ndim    - ' , df.ndim)\n",
    "    print('index   - ' , df.index    , type(df.index))\n",
    "    print('columns - ' , df.columns  , type( df.columns ))\n",
    "    print('values  - \\n' , df.values , type(df.values) )"
   ],
   "metadata": {
    "collapsed": false,
    "pycharm": {
     "name": "#%%\n"
    }
   }
  },
  {
   "cell_type": "code",
   "execution_count": 3,
   "outputs": [
    {
     "data": {
      "text/plain": "'data - '"
     },
     "metadata": {},
     "output_type": "display_data"
    },
    {
     "data": {
      "text/plain": "   c0  c1  c2  c3\n0   0   1   4   7\n1   1   2   5   8\n2   2   3   6   9",
      "text/html": "<div>\n<style scoped>\n    .dataframe tbody tr th:only-of-type {\n        vertical-align: middle;\n    }\n\n    .dataframe tbody tr th {\n        vertical-align: top;\n    }\n\n    .dataframe thead th {\n        text-align: right;\n    }\n</style>\n<table border=\"1\" class=\"dataframe\">\n  <thead>\n    <tr style=\"text-align: right;\">\n      <th></th>\n      <th>c0</th>\n      <th>c1</th>\n      <th>c2</th>\n      <th>c3</th>\n    </tr>\n  </thead>\n  <tbody>\n    <tr>\n      <th>0</th>\n      <td>0</td>\n      <td>1</td>\n      <td>4</td>\n      <td>7</td>\n    </tr>\n    <tr>\n      <th>1</th>\n      <td>1</td>\n      <td>2</td>\n      <td>5</td>\n      <td>8</td>\n    </tr>\n    <tr>\n      <th>2</th>\n      <td>2</td>\n      <td>3</td>\n      <td>6</td>\n      <td>9</td>\n    </tr>\n  </tbody>\n</table>\n</div>"
     },
     "metadata": {},
     "output_type": "display_data"
    },
    {
     "name": "stdout",
     "output_type": "stream",
     "text": [
      "\n",
      "shape   -  (3, 4) 3 4\n",
      "size    -  12\n",
      "ndim    -  2\n",
      "index   -  RangeIndex(start=0, stop=3, step=1) <class 'pandas.core.indexes.range.RangeIndex'>\n",
      "columns -  Index(['c0', 'c1', 'c2', 'c3'], dtype='object') <class 'pandas.core.indexes.base.Index'>\n",
      "values  - \n",
      " [[0 1 4 7]\n",
      " [1 2 5 8]\n",
      " [2 3 6 9]] <class 'numpy.ndarray'>\n"
     ]
    }
   ],
   "source": [
    "tmp_frm = pd.read_csv('/Users/choijaewoo/pandas_data/read_csv_sample.csv')\n",
    "frmInfo(tmp_frm)"
   ],
   "metadata": {
    "collapsed": false,
    "pycharm": {
     "name": "#%%\n"
    }
   }
  },
  {
   "cell_type": "code",
   "execution_count": 4,
   "outputs": [
    {
     "data": {
      "text/plain": "'data - '"
     },
     "metadata": {},
     "output_type": "display_data"
    },
    {
     "data": {
      "text/plain": "    0   1   2   3\n0  c0  c1  c2  c3\n1   0   1   4   7\n2   1   2   5   8\n3   2   3   6   9",
      "text/html": "<div>\n<style scoped>\n    .dataframe tbody tr th:only-of-type {\n        vertical-align: middle;\n    }\n\n    .dataframe tbody tr th {\n        vertical-align: top;\n    }\n\n    .dataframe thead th {\n        text-align: right;\n    }\n</style>\n<table border=\"1\" class=\"dataframe\">\n  <thead>\n    <tr style=\"text-align: right;\">\n      <th></th>\n      <th>0</th>\n      <th>1</th>\n      <th>2</th>\n      <th>3</th>\n    </tr>\n  </thead>\n  <tbody>\n    <tr>\n      <th>0</th>\n      <td>c0</td>\n      <td>c1</td>\n      <td>c2</td>\n      <td>c3</td>\n    </tr>\n    <tr>\n      <th>1</th>\n      <td>0</td>\n      <td>1</td>\n      <td>4</td>\n      <td>7</td>\n    </tr>\n    <tr>\n      <th>2</th>\n      <td>1</td>\n      <td>2</td>\n      <td>5</td>\n      <td>8</td>\n    </tr>\n    <tr>\n      <th>3</th>\n      <td>2</td>\n      <td>3</td>\n      <td>6</td>\n      <td>9</td>\n    </tr>\n  </tbody>\n</table>\n</div>"
     },
     "metadata": {},
     "output_type": "display_data"
    },
    {
     "name": "stdout",
     "output_type": "stream",
     "text": [
      "\n",
      "shape   -  (4, 4) 4 4\n",
      "size    -  16\n",
      "ndim    -  2\n",
      "index   -  RangeIndex(start=0, stop=4, step=1) <class 'pandas.core.indexes.range.RangeIndex'>\n",
      "columns -  Int64Index([0, 1, 2, 3], dtype='int64') <class 'pandas.core.indexes.numeric.Int64Index'>\n",
      "values  - \n",
      " [['c0' 'c1' 'c2' 'c3']\n",
      " ['0' '1' '4' '7']\n",
      " ['1' '2' '5' '8']\n",
      " ['2' '3' '6' '9']] <class 'numpy.ndarray'>\n"
     ]
    }
   ],
   "source": [
    "tmp_frm = pd.read_csv('/Users/choijaewoo/pandas_data/read_csv_sample.csv' , header = None)\n",
    "frmInfo(tmp_frm)"
   ],
   "metadata": {
    "collapsed": false,
    "pycharm": {
     "name": "#%%\n"
    }
   }
  },
  {
   "cell_type": "code",
   "execution_count": 5,
   "outputs": [
    {
     "data": {
      "text/plain": "'data - '"
     },
     "metadata": {},
     "output_type": "display_data"
    },
    {
     "data": {
      "text/plain": "    c1  c2  c3\nc0            \n0    1   4   7\n1    2   5   8\n2    3   6   9",
      "text/html": "<div>\n<style scoped>\n    .dataframe tbody tr th:only-of-type {\n        vertical-align: middle;\n    }\n\n    .dataframe tbody tr th {\n        vertical-align: top;\n    }\n\n    .dataframe thead th {\n        text-align: right;\n    }\n</style>\n<table border=\"1\" class=\"dataframe\">\n  <thead>\n    <tr style=\"text-align: right;\">\n      <th></th>\n      <th>c1</th>\n      <th>c2</th>\n      <th>c3</th>\n    </tr>\n    <tr>\n      <th>c0</th>\n      <th></th>\n      <th></th>\n      <th></th>\n    </tr>\n  </thead>\n  <tbody>\n    <tr>\n      <th>0</th>\n      <td>1</td>\n      <td>4</td>\n      <td>7</td>\n    </tr>\n    <tr>\n      <th>1</th>\n      <td>2</td>\n      <td>5</td>\n      <td>8</td>\n    </tr>\n    <tr>\n      <th>2</th>\n      <td>3</td>\n      <td>6</td>\n      <td>9</td>\n    </tr>\n  </tbody>\n</table>\n</div>"
     },
     "metadata": {},
     "output_type": "display_data"
    },
    {
     "name": "stdout",
     "output_type": "stream",
     "text": [
      "\n",
      "shape   -  (3, 3) 3 3\n",
      "size    -  9\n",
      "ndim    -  2\n",
      "index   -  Int64Index([0, 1, 2], dtype='int64', name='c0') <class 'pandas.core.indexes.numeric.Int64Index'>\n",
      "columns -  Index(['c1', 'c2', 'c3'], dtype='object') <class 'pandas.core.indexes.base.Index'>\n",
      "values  - \n",
      " [[1 4 7]\n",
      " [2 5 8]\n",
      " [3 6 9]] <class 'numpy.ndarray'>\n"
     ]
    }
   ],
   "source": [
    "tmp_frm = pd.read_csv('/Users/choijaewoo/pandas_data/read_csv_sample.csv' , index_col = 'c0')\n",
    "frmInfo(tmp_frm)"
   ],
   "metadata": {
    "collapsed": false,
    "pycharm": {
     "name": "#%%\n"
    }
   }
  },
  {
   "cell_type": "code",
   "execution_count": 6,
   "outputs": [
    {
     "data": {
      "text/plain": "'data - '"
     },
     "metadata": {},
     "output_type": "display_data"
    },
    {
     "data": {
      "text/plain": "          0       1     2     3     4     5     6     7     8     9   ...  \\\n0  전력량 (억㎾h)  발전 전력별  1990  1991  1992  1993  1994  1995  1996  1997  ...   \n1         남한      합계  1077  1186  1310  1444  1650  1847  2055  2244  ...   \n2        NaN      수력    64    51    49    60    41    55    52    54  ...   \n3        NaN      화력   484   573   696   803  1022  1122  1264  1420  ...   \n4        NaN     원자력   529   563   565   581   587   670   739   771  ...   \n5        NaN     신재생     -     -     -     -     -     -     -     -  ...   \n6         북한      합계   277   263   247   221   231   230   213   193  ...   \n7        NaN      수력   156   150   142   133   138   142   125   107  ...   \n8        NaN      화력   121   113   105    88    93    88    88    86  ...   \n9        NaN     원자력     -     -     -     -     -     -     -     -  ...   \n\n     19    20    21    22    23    24    25    26    27    28  \n0  2007  2008  2009  2010  2011  2012  2013  2014  2015  2016  \n1  4031  4224  4336  4747  4969  5096  5171  5220  5281  5404  \n2    50    56    56    65    78    77    84    78    58    66  \n3  2551  2658  2802  3196  3343  3430  3581  3427  3402  3523  \n4  1429  1510  1478  1486  1547  1503  1388  1564  1648  1620  \n5     -     -     -     -     -    86   118   151   173   195  \n6   236   255   235   237   211   215   221   216   190   239  \n7   133   141   125   134   132   135   139   130   100   128  \n8   103   114   110   103    79    80    82    86    90   111  \n9     -     -     -     -     -     -     -     -     -     -  \n\n[10 rows x 29 columns]",
      "text/html": "<div>\n<style scoped>\n    .dataframe tbody tr th:only-of-type {\n        vertical-align: middle;\n    }\n\n    .dataframe tbody tr th {\n        vertical-align: top;\n    }\n\n    .dataframe thead th {\n        text-align: right;\n    }\n</style>\n<table border=\"1\" class=\"dataframe\">\n  <thead>\n    <tr style=\"text-align: right;\">\n      <th></th>\n      <th>0</th>\n      <th>1</th>\n      <th>2</th>\n      <th>3</th>\n      <th>4</th>\n      <th>5</th>\n      <th>6</th>\n      <th>7</th>\n      <th>8</th>\n      <th>9</th>\n      <th>...</th>\n      <th>19</th>\n      <th>20</th>\n      <th>21</th>\n      <th>22</th>\n      <th>23</th>\n      <th>24</th>\n      <th>25</th>\n      <th>26</th>\n      <th>27</th>\n      <th>28</th>\n    </tr>\n  </thead>\n  <tbody>\n    <tr>\n      <th>0</th>\n      <td>전력량 (억㎾h)</td>\n      <td>발전 전력별</td>\n      <td>1990</td>\n      <td>1991</td>\n      <td>1992</td>\n      <td>1993</td>\n      <td>1994</td>\n      <td>1995</td>\n      <td>1996</td>\n      <td>1997</td>\n      <td>...</td>\n      <td>2007</td>\n      <td>2008</td>\n      <td>2009</td>\n      <td>2010</td>\n      <td>2011</td>\n      <td>2012</td>\n      <td>2013</td>\n      <td>2014</td>\n      <td>2015</td>\n      <td>2016</td>\n    </tr>\n    <tr>\n      <th>1</th>\n      <td>남한</td>\n      <td>합계</td>\n      <td>1077</td>\n      <td>1186</td>\n      <td>1310</td>\n      <td>1444</td>\n      <td>1650</td>\n      <td>1847</td>\n      <td>2055</td>\n      <td>2244</td>\n      <td>...</td>\n      <td>4031</td>\n      <td>4224</td>\n      <td>4336</td>\n      <td>4747</td>\n      <td>4969</td>\n      <td>5096</td>\n      <td>5171</td>\n      <td>5220</td>\n      <td>5281</td>\n      <td>5404</td>\n    </tr>\n    <tr>\n      <th>2</th>\n      <td>NaN</td>\n      <td>수력</td>\n      <td>64</td>\n      <td>51</td>\n      <td>49</td>\n      <td>60</td>\n      <td>41</td>\n      <td>55</td>\n      <td>52</td>\n      <td>54</td>\n      <td>...</td>\n      <td>50</td>\n      <td>56</td>\n      <td>56</td>\n      <td>65</td>\n      <td>78</td>\n      <td>77</td>\n      <td>84</td>\n      <td>78</td>\n      <td>58</td>\n      <td>66</td>\n    </tr>\n    <tr>\n      <th>3</th>\n      <td>NaN</td>\n      <td>화력</td>\n      <td>484</td>\n      <td>573</td>\n      <td>696</td>\n      <td>803</td>\n      <td>1022</td>\n      <td>1122</td>\n      <td>1264</td>\n      <td>1420</td>\n      <td>...</td>\n      <td>2551</td>\n      <td>2658</td>\n      <td>2802</td>\n      <td>3196</td>\n      <td>3343</td>\n      <td>3430</td>\n      <td>3581</td>\n      <td>3427</td>\n      <td>3402</td>\n      <td>3523</td>\n    </tr>\n    <tr>\n      <th>4</th>\n      <td>NaN</td>\n      <td>원자력</td>\n      <td>529</td>\n      <td>563</td>\n      <td>565</td>\n      <td>581</td>\n      <td>587</td>\n      <td>670</td>\n      <td>739</td>\n      <td>771</td>\n      <td>...</td>\n      <td>1429</td>\n      <td>1510</td>\n      <td>1478</td>\n      <td>1486</td>\n      <td>1547</td>\n      <td>1503</td>\n      <td>1388</td>\n      <td>1564</td>\n      <td>1648</td>\n      <td>1620</td>\n    </tr>\n    <tr>\n      <th>5</th>\n      <td>NaN</td>\n      <td>신재생</td>\n      <td>-</td>\n      <td>-</td>\n      <td>-</td>\n      <td>-</td>\n      <td>-</td>\n      <td>-</td>\n      <td>-</td>\n      <td>-</td>\n      <td>...</td>\n      <td>-</td>\n      <td>-</td>\n      <td>-</td>\n      <td>-</td>\n      <td>-</td>\n      <td>86</td>\n      <td>118</td>\n      <td>151</td>\n      <td>173</td>\n      <td>195</td>\n    </tr>\n    <tr>\n      <th>6</th>\n      <td>북한</td>\n      <td>합계</td>\n      <td>277</td>\n      <td>263</td>\n      <td>247</td>\n      <td>221</td>\n      <td>231</td>\n      <td>230</td>\n      <td>213</td>\n      <td>193</td>\n      <td>...</td>\n      <td>236</td>\n      <td>255</td>\n      <td>235</td>\n      <td>237</td>\n      <td>211</td>\n      <td>215</td>\n      <td>221</td>\n      <td>216</td>\n      <td>190</td>\n      <td>239</td>\n    </tr>\n    <tr>\n      <th>7</th>\n      <td>NaN</td>\n      <td>수력</td>\n      <td>156</td>\n      <td>150</td>\n      <td>142</td>\n      <td>133</td>\n      <td>138</td>\n      <td>142</td>\n      <td>125</td>\n      <td>107</td>\n      <td>...</td>\n      <td>133</td>\n      <td>141</td>\n      <td>125</td>\n      <td>134</td>\n      <td>132</td>\n      <td>135</td>\n      <td>139</td>\n      <td>130</td>\n      <td>100</td>\n      <td>128</td>\n    </tr>\n    <tr>\n      <th>8</th>\n      <td>NaN</td>\n      <td>화력</td>\n      <td>121</td>\n      <td>113</td>\n      <td>105</td>\n      <td>88</td>\n      <td>93</td>\n      <td>88</td>\n      <td>88</td>\n      <td>86</td>\n      <td>...</td>\n      <td>103</td>\n      <td>114</td>\n      <td>110</td>\n      <td>103</td>\n      <td>79</td>\n      <td>80</td>\n      <td>82</td>\n      <td>86</td>\n      <td>90</td>\n      <td>111</td>\n    </tr>\n    <tr>\n      <th>9</th>\n      <td>NaN</td>\n      <td>원자력</td>\n      <td>-</td>\n      <td>-</td>\n      <td>-</td>\n      <td>-</td>\n      <td>-</td>\n      <td>-</td>\n      <td>-</td>\n      <td>-</td>\n      <td>...</td>\n      <td>-</td>\n      <td>-</td>\n      <td>-</td>\n      <td>-</td>\n      <td>-</td>\n      <td>-</td>\n      <td>-</td>\n      <td>-</td>\n      <td>-</td>\n      <td>-</td>\n    </tr>\n  </tbody>\n</table>\n<p>10 rows × 29 columns</p>\n</div>"
     },
     "metadata": {},
     "output_type": "display_data"
    },
    {
     "name": "stdout",
     "output_type": "stream",
     "text": [
      "\n",
      "shape   -  (10, 29) 10 29\n",
      "size    -  290\n",
      "ndim    -  2\n",
      "index   -  RangeIndex(start=0, stop=10, step=1) <class 'pandas.core.indexes.range.RangeIndex'>\n",
      "columns -  Int64Index([ 0,  1,  2,  3,  4,  5,  6,  7,  8,  9, 10, 11, 12, 13, 14, 15, 16,\n",
      "            17, 18, 19, 20, 21, 22, 23, 24, 25, 26, 27, 28],\n",
      "           dtype='int64') <class 'pandas.core.indexes.numeric.Int64Index'>\n",
      "values  - \n",
      " [['전력량 (억㎾h)' '발전 전력별' '1990' '1991' '1992' '1993' '1994' '1995' '1996'\n",
      "  '1997' '1998' '1999' '2000' '2001' '2002' '2003' '2004' '2005' '2006'\n",
      "  '2007' '2008' '2009' '2010' '2011' '2012' '2013' '2014' '2015' '2016']\n",
      " ['남한' '합계' 1077 1186 1310 1444 1650 1847 2055 2244 2153 2393 2664 2852\n",
      "  3065 3225 3421 3646 3812 4031 4224 4336 4747 4969 5096 5171 5220 5281\n",
      "  5404]\n",
      " [nan '수력' 64 51 49 60 41 55 52 54 61 61 56 42 53 69 59 52 52 50 56 56 65\n",
      "  78 77 84 78 58 66]\n",
      " [nan '화력' 484 573 696 803 1022 1122 1264 1420 1195 1302 1518 1689 1821\n",
      "  1859 2056 2127 2272 2551 2658 2802 3196 3343 3430 3581 3427 3402 3523]\n",
      " [nan '원자력' 529 563 565 581 587 670 739 771 897 1031 1090 1121 1191 1297\n",
      "  1307 1468 1487 1429 1510 1478 1486 1547 1503 1388 1564 1648 1620]\n",
      " [nan '신재생' '-' '-' '-' '-' '-' '-' '-' '-' '-' '-' '-' '-' '-' '-' '-'\n",
      "  '-' '-' '-' '-' '-' '-' '-' 86 118 151 173 195]\n",
      " ['북한' '합계' 277 263 247 221 231 230 213 193 170 186 194 202 190 196 206\n",
      "  215 225 236 255 235 237 211 215 221 216 190 239]\n",
      " [nan '수력' 156 150 142 133 138 142 125 107 102 103 102 106 106 117 125\n",
      "  131 126 133 141 125 134 132 135 139 130 100 128]\n",
      " [nan '화력' 121 113 105 88 93 88 88 86 68 83 92 96 84 79 81 84 99 103 114\n",
      "  110 103 79 80 82 86 90 111]\n",
      " [nan '원자력' '-' '-' '-' '-' '-' '-' '-' '-' '-' '-' '-' '-' '-' '-' '-'\n",
      "  '-' '-' '-' '-' '-' '-' '-' '-' '-' '-' '-' '-']] <class 'numpy.ndarray'>\n"
     ]
    }
   ],
   "source": [
    "tmp_frm = pd.read_excel('/Users/choijaewoo/pandas_data/남북한발전전력량.xlsx' , header = None )\n",
    "frmInfo(tmp_frm)"
   ],
   "metadata": {
    "collapsed": false,
    "pycharm": {
     "name": "#%%\n"
    }
   }
  },
  {
   "cell_type": "code",
   "execution_count": 7,
   "outputs": [
    {
     "name": "stdout",
     "output_type": "stream",
     "text": [
      "<class 'pandas.core.frame.DataFrame'>\n",
      "RangeIndex: 10 entries, 0 to 9\n",
      "Data columns (total 29 columns):\n",
      " #   Column  Non-Null Count  Dtype \n",
      "---  ------  --------------  ----- \n",
      " 0   0       3 non-null      object\n",
      " 1   1       10 non-null     object\n",
      " 2   2       10 non-null     object\n",
      " 3   3       10 non-null     object\n",
      " 4   4       10 non-null     object\n",
      " 5   5       10 non-null     object\n",
      " 6   6       10 non-null     object\n",
      " 7   7       10 non-null     object\n",
      " 8   8       10 non-null     object\n",
      " 9   9       10 non-null     object\n",
      " 10  10      10 non-null     object\n",
      " 11  11      10 non-null     object\n",
      " 12  12      10 non-null     object\n",
      " 13  13      10 non-null     object\n",
      " 14  14      10 non-null     object\n",
      " 15  15      10 non-null     object\n",
      " 16  16      10 non-null     object\n",
      " 17  17      10 non-null     object\n",
      " 18  18      10 non-null     object\n",
      " 19  19      10 non-null     object\n",
      " 20  20      10 non-null     object\n",
      " 21  21      10 non-null     object\n",
      " 22  22      10 non-null     object\n",
      " 23  23      10 non-null     object\n",
      " 24  24      10 non-null     object\n",
      " 25  25      10 non-null     object\n",
      " 26  26      10 non-null     object\n",
      " 27  27      10 non-null     object\n",
      " 28  28      10 non-null     object\n",
      "dtypes: object(29)\n",
      "memory usage: 2.4+ KB\n"
     ]
    }
   ],
   "source": [
    "tmp_frm.info()"
   ],
   "metadata": {
    "collapsed": false,
    "pycharm": {
     "name": "#%%\n"
    }
   }
  },
  {
   "cell_type": "code",
   "execution_count": 8,
   "outputs": [
    {
     "data": {
      "text/plain": "'data - '"
     },
     "metadata": {},
     "output_type": "display_data"
    },
    {
     "data": {
      "text/plain": "           name  year        developer opensource\npandas           2008    Wes Mckinneye       True\nNumPy            2006  Travis Oliphant       True\nmatplotlib       2003   John D. Hunter       True",
      "text/html": "<div>\n<style scoped>\n    .dataframe tbody tr th:only-of-type {\n        vertical-align: middle;\n    }\n\n    .dataframe tbody tr th {\n        vertical-align: top;\n    }\n\n    .dataframe thead th {\n        text-align: right;\n    }\n</style>\n<table border=\"1\" class=\"dataframe\">\n  <thead>\n    <tr style=\"text-align: right;\">\n      <th></th>\n      <th>name</th>\n      <th>year</th>\n      <th>developer</th>\n      <th>opensource</th>\n    </tr>\n  </thead>\n  <tbody>\n    <tr>\n      <th>pandas</th>\n      <td></td>\n      <td>2008</td>\n      <td>Wes Mckinneye</td>\n      <td>True</td>\n    </tr>\n    <tr>\n      <th>NumPy</th>\n      <td></td>\n      <td>2006</td>\n      <td>Travis Oliphant</td>\n      <td>True</td>\n    </tr>\n    <tr>\n      <th>matplotlib</th>\n      <td></td>\n      <td>2003</td>\n      <td>John D. Hunter</td>\n      <td>True</td>\n    </tr>\n  </tbody>\n</table>\n</div>"
     },
     "metadata": {},
     "output_type": "display_data"
    },
    {
     "name": "stdout",
     "output_type": "stream",
     "text": [
      "\n",
      "shape   -  (3, 4) 3 4\n",
      "size    -  12\n",
      "ndim    -  2\n",
      "index   -  Index(['pandas', 'NumPy', 'matplotlib'], dtype='object') <class 'pandas.core.indexes.base.Index'>\n",
      "columns -  Index(['name', 'year', 'developer', 'opensource'], dtype='object') <class 'pandas.core.indexes.base.Index'>\n",
      "values  - \n",
      " [['' 2008 'Wes Mckinneye' 'True']\n",
      " ['' 2006 'Travis Oliphant' 'True']\n",
      " ['' 2003 'John D. Hunter' 'True']] <class 'numpy.ndarray'>\n"
     ]
    }
   ],
   "source": [
    "tmp_frm = pd.read_json('/Users/choijaewoo/pandas_data/read_json_sample.json')\n",
    "frmInfo(tmp_frm)"
   ],
   "metadata": {
    "collapsed": false,
    "pycharm": {
     "name": "#%%\n"
    }
   }
  },
  {
   "cell_type": "code",
   "execution_count": 9,
   "outputs": [
    {
     "data": {
      "text/plain": "array(['pandas', 'NumPy', 'matplotlib'], dtype=object)"
     },
     "execution_count": 9,
     "metadata": {},
     "output_type": "execute_result"
    }
   ],
   "source": [
    "tmp_frm.values\n",
    "tmp_frm.index.values"
   ],
   "metadata": {
    "collapsed": false,
    "pycharm": {
     "name": "#%%\n"
    }
   }
  },
  {
   "cell_type": "code",
   "execution_count": 10,
   "outputs": [
    {
     "name": "stdout",
     "output_type": "stream",
     "text": [
      "type -  <class 'list'>\n",
      "\n",
      "\n",
      "len -  2\n",
      "\n",
      "\n",
      "tables[0]\n",
      "   Unnamed: 0  c0  c1  c2  c3\n",
      "0           0   0   1   4   7\n",
      "1           1   1   2   5   8\n",
      "2           2   2   3   6   9\n",
      "\n",
      "tables[1]\n",
      "         name  year        developer  opensource\n",
      "0       NumPy  2006  Travis Oliphant        True\n",
      "1  matplotlib  2003   John D. Hunter        True\n",
      "2      pandas  2008    Wes Mckinneye        True\n",
      "\n"
     ]
    }
   ],
   "source": [
    "tmp_frm = pd.read_html('/Users/choijaewoo/pandas_data/sample.html')\n",
    "print('type - ' , type(tmp_frm))\n",
    "print()\n",
    "tmp_frm\n",
    "\n",
    "print()\n",
    "print('len - ' , len(tmp_frm))\n",
    "\n",
    "print()\n",
    "print()\n",
    "for idx in range( len(tmp_frm) ) :\n",
    "    print('tables[{}]'.format(idx))\n",
    "    print(tmp_frm[idx])\n",
    "    print()"
   ],
   "metadata": {
    "collapsed": false,
    "pycharm": {
     "name": "#%%\n"
    }
   }
  },
  {
   "cell_type": "code",
   "execution_count": 11,
   "outputs": [
    {
     "name": "stdout",
     "output_type": "stream",
     "text": [
      "type -  <class 'pandas.core.frame.DataFrame'>\n"
     ]
    },
    {
     "data": {
      "text/plain": "   Unnamed: 0  c0  c1  c2  c3\n0           0   0   1   4   7\n1           1   1   2   5   8\n2           2   2   3   6   9",
      "text/html": "<div>\n<style scoped>\n    .dataframe tbody tr th:only-of-type {\n        vertical-align: middle;\n    }\n\n    .dataframe tbody tr th {\n        vertical-align: top;\n    }\n\n    .dataframe thead th {\n        text-align: right;\n    }\n</style>\n<table border=\"1\" class=\"dataframe\">\n  <thead>\n    <tr style=\"text-align: right;\">\n      <th></th>\n      <th>Unnamed: 0</th>\n      <th>c0</th>\n      <th>c1</th>\n      <th>c2</th>\n      <th>c3</th>\n    </tr>\n  </thead>\n  <tbody>\n    <tr>\n      <th>0</th>\n      <td>0</td>\n      <td>0</td>\n      <td>1</td>\n      <td>4</td>\n      <td>7</td>\n    </tr>\n    <tr>\n      <th>1</th>\n      <td>1</td>\n      <td>1</td>\n      <td>2</td>\n      <td>5</td>\n      <td>8</td>\n    </tr>\n    <tr>\n      <th>2</th>\n      <td>2</td>\n      <td>2</td>\n      <td>3</td>\n      <td>6</td>\n      <td>9</td>\n    </tr>\n  </tbody>\n</table>\n</div>"
     },
     "metadata": {},
     "output_type": "display_data"
    },
    {
     "name": "stdout",
     "output_type": "stream",
     "text": [
      "\n",
      " columns index -  Index(['Unnamed: 0', 'c0', 'c1', 'c2', 'c3'], dtype='object')\n",
      "drop - \n"
     ]
    },
    {
     "data": {
      "text/plain": "   c0  c1  c2  c3\n0   0   1   4   7\n1   1   2   5   8\n2   2   3   6   9",
      "text/html": "<div>\n<style scoped>\n    .dataframe tbody tr th:only-of-type {\n        vertical-align: middle;\n    }\n\n    .dataframe tbody tr th {\n        vertical-align: top;\n    }\n\n    .dataframe thead th {\n        text-align: right;\n    }\n</style>\n<table border=\"1\" class=\"dataframe\">\n  <thead>\n    <tr style=\"text-align: right;\">\n      <th></th>\n      <th>c0</th>\n      <th>c1</th>\n      <th>c2</th>\n      <th>c3</th>\n    </tr>\n  </thead>\n  <tbody>\n    <tr>\n      <th>0</th>\n      <td>0</td>\n      <td>1</td>\n      <td>4</td>\n      <td>7</td>\n    </tr>\n    <tr>\n      <th>1</th>\n      <td>1</td>\n      <td>2</td>\n      <td>5</td>\n      <td>8</td>\n    </tr>\n    <tr>\n      <th>2</th>\n      <td>2</td>\n      <td>3</td>\n      <td>6</td>\n      <td>9</td>\n    </tr>\n  </tbody>\n</table>\n</div>"
     },
     "metadata": {},
     "output_type": "display_data"
    }
   ],
   "source": [
    "print( 'type - ' , type( tmp_frm[0] ) )\n",
    "display(tmp_frm[0])\n",
    "print()\n",
    "print(' columns index - ' , tmp_frm[0].columns)\n",
    "\n",
    "print('drop - ')\n",
    "tmp_frm[0].drop('Unnamed: 0' , axis = 1 , inplace = True)\n",
    "display(tmp_frm[0])"
   ],
   "metadata": {
    "collapsed": false,
    "pycharm": {
     "name": "#%%\n"
    }
   }
  },
  {
   "cell_type": "code",
   "execution_count": 12,
   "outputs": [
    {
     "name": "stdout",
     "output_type": "stream",
     "text": [
      "type -  <class 'pandas.core.frame.DataFrame'>\n"
     ]
    },
    {
     "data": {
      "text/plain": "         name  year        developer  opensource\n0       NumPy  2006  Travis Oliphant        True\n1  matplotlib  2003   John D. Hunter        True\n2      pandas  2008    Wes Mckinneye        True",
      "text/html": "<div>\n<style scoped>\n    .dataframe tbody tr th:only-of-type {\n        vertical-align: middle;\n    }\n\n    .dataframe tbody tr th {\n        vertical-align: top;\n    }\n\n    .dataframe thead th {\n        text-align: right;\n    }\n</style>\n<table border=\"1\" class=\"dataframe\">\n  <thead>\n    <tr style=\"text-align: right;\">\n      <th></th>\n      <th>name</th>\n      <th>year</th>\n      <th>developer</th>\n      <th>opensource</th>\n    </tr>\n  </thead>\n  <tbody>\n    <tr>\n      <th>0</th>\n      <td>NumPy</td>\n      <td>2006</td>\n      <td>Travis Oliphant</td>\n      <td>True</td>\n    </tr>\n    <tr>\n      <th>1</th>\n      <td>matplotlib</td>\n      <td>2003</td>\n      <td>John D. Hunter</td>\n      <td>True</td>\n    </tr>\n    <tr>\n      <th>2</th>\n      <td>pandas</td>\n      <td>2008</td>\n      <td>Wes Mckinneye</td>\n      <td>True</td>\n    </tr>\n  </tbody>\n</table>\n</div>"
     },
     "metadata": {},
     "output_type": "display_data"
    }
   ],
   "source": [
    "print( 'type - ' , type( tmp_frm[1] ) )\n",
    "display(tmp_frm[1])"
   ],
   "metadata": {
    "collapsed": false,
    "pycharm": {
     "name": "#%%\n"
    }
   }
  },
  {
   "cell_type": "code",
   "execution_count": 13,
   "outputs": [
    {
     "data": {
      "text/plain": "            year        developer  opensource\nname                                         \nNumPy       2006  Travis Oliphant        True\nmatplotlib  2003   John D. Hunter        True\npandas      2008    Wes Mckinneye        True",
      "text/html": "<div>\n<style scoped>\n    .dataframe tbody tr th:only-of-type {\n        vertical-align: middle;\n    }\n\n    .dataframe tbody tr th {\n        vertical-align: top;\n    }\n\n    .dataframe thead th {\n        text-align: right;\n    }\n</style>\n<table border=\"1\" class=\"dataframe\">\n  <thead>\n    <tr style=\"text-align: right;\">\n      <th></th>\n      <th>year</th>\n      <th>developer</th>\n      <th>opensource</th>\n    </tr>\n    <tr>\n      <th>name</th>\n      <th></th>\n      <th></th>\n      <th></th>\n    </tr>\n  </thead>\n  <tbody>\n    <tr>\n      <th>NumPy</th>\n      <td>2006</td>\n      <td>Travis Oliphant</td>\n      <td>True</td>\n    </tr>\n    <tr>\n      <th>matplotlib</th>\n      <td>2003</td>\n      <td>John D. Hunter</td>\n      <td>True</td>\n    </tr>\n    <tr>\n      <th>pandas</th>\n      <td>2008</td>\n      <td>Wes Mckinneye</td>\n      <td>True</td>\n    </tr>\n  </tbody>\n</table>\n</div>"
     },
     "metadata": {},
     "output_type": "display_data"
    }
   ],
   "source": [
    "tmp_frm[1].set_index(['name'] , inplace = True )\n",
    "display(tmp_frm[1])"
   ],
   "metadata": {
    "collapsed": false,
    "pycharm": {
     "name": "#%%\n"
    }
   }
  },
  {
   "cell_type": "code",
   "execution_count": 14,
   "outputs": [
    {
     "name": "stdout",
     "output_type": "stream",
     "text": [
      "response - \n",
      " <class 'str'>\n"
     ]
    }
   ],
   "source": [
    "response = requests.get('https://en.wikipedia.org/wiki/List_of_American_exchange-traded_funds')\n",
    "print('response - \\n' , type(response.text) )"
   ],
   "metadata": {
    "collapsed": false,
    "pycharm": {
     "name": "#%%\n"
    }
   }
  },
  {
   "cell_type": "code",
   "execution_count": 15,
   "outputs": [
    {
     "name": "stdout",
     "output_type": "stream",
     "text": [
      "type -  <class 'bs4.BeautifulSoup'>\n",
      " type -  <class 'bs4.element.ResultSet'>\n",
      "[<li class=\"toclevel-1 tocsection-1\"><a href=\"#Stock_ETFs\"><span class=\"tocnumber\">1</span> <span class=\"toctext\">Stock ETFs</span></a>\n",
      "<ul>\n",
      "<li class=\"toclevel-2 tocsection-2\"><a href=\"#Broad_market_ETFs\"><span class=\"tocnumber\">1.1</span> <span class=\"toctext\">Broad market ETFs</span></a></li>\n",
      "<li class=\"toclevel-2 tocsection-3\"><a href=\"#Index-tracking_ETFs\"><span class=\"tocnumber\">1.2</span> <span class=\"toctext\">Index-tracking ETFs</span></a></li>\n",
      "<li class=\"toclevel-2 tocsection-4\"><a href=\"#Style_ETFs\"><span class=\"tocnumber\">1.3</span> <span class=\"toctext\">Style ETFs</span></a>\n",
      "<ul>\n",
      "<li class=\"toclevel-3 tocsection-5\"><a href=\"#Large-cap_ETFs\"><span class=\"tocnumber\">1.3.1</span> <span class=\"toctext\">Large-cap ETFs</span></a></li>\n",
      "<li class=\"toclevel-3 tocsection-6\"><a href=\"#Mid-cap_ETFs\"><span class=\"tocnumber\">1.3.2</span> <span class=\"toctext\">Mid-cap ETFs</span></a></li>\n",
      "<li class=\"toclevel-3 tocsection-7\"><a href=\"#Small-cap_ETFs\"><span class=\"tocnumber\">1.3.3</span> <span class=\"toctext\">Small-cap ETFs</span></a></li>\n",
      "</ul>\n",
      "</li>\n",
      "<li class=\"toclevel-2 tocsection-8\"><a href=\"#International_ETFs\"><span class=\"tocnumber\">1.4</span> <span class=\"toctext\">International ETFs</span></a>\n",
      "<ul>\n",
      "<li class=\"toclevel-3 tocsection-9\"><a href=\"#Broad_ex-US_ETFs\"><span class=\"tocnumber\">1.4.1</span> <span class=\"toctext\">Broad ex-US ETFs</span></a></li>\n",
      "<li class=\"toclevel-3 tocsection-10\"><a href=\"#Regional_ex-US_ETFs\"><span class=\"tocnumber\">1.4.2</span> <span class=\"toctext\">Regional ex-US ETFs</span></a></li>\n",
      "<li class=\"toclevel-3 tocsection-11\"><a href=\"#Country_ETFs\"><span class=\"tocnumber\">1.4.3</span> <span class=\"toctext\">Country ETFs</span></a>\n",
      "<ul>\n",
      "<li class=\"toclevel-4 tocsection-12\"><a href=\"#Developed_ex-US_markets\"><span class=\"tocnumber\">1.4.3.1</span> <span class=\"toctext\">Developed ex-US markets</span></a></li>\n",
      "<li class=\"toclevel-4 tocsection-13\"><a href=\"#Emerging_markets\"><span class=\"tocnumber\">1.4.3.2</span> <span class=\"toctext\">Emerging markets</span></a></li>\n",
      "</ul>\n",
      "</li>\n",
      "</ul>\n",
      "</li>\n",
      "<li class=\"toclevel-2 tocsection-14\"><a href=\"#Sector_ETFs\"><span class=\"tocnumber\">1.5</span> <span class=\"toctext\">Sector ETFs</span></a>\n",
      "<ul>\n",
      "<li class=\"toclevel-3 tocsection-15\"><a href=\"#US_domestic_sectors\"><span class=\"tocnumber\">1.5.1</span> <span class=\"toctext\">US domestic sectors</span></a></li>\n",
      "<li class=\"toclevel-3 tocsection-16\"><a href=\"#Global_sectors\"><span class=\"tocnumber\">1.5.2</span> <span class=\"toctext\">Global sectors</span></a></li>\n",
      "</ul>\n",
      "</li>\n",
      "</ul>\n",
      "</li>, <li class=\"toclevel-1 tocsection-17\"><a href=\"#Bond_ETFs\"><span class=\"tocnumber\">2</span> <span class=\"toctext\">Bond ETFs</span></a></li>, <li class=\"toclevel-1 tocsection-18\"><a href=\"#Commodity_ETFs\"><span class=\"tocnumber\">3</span> <span class=\"toctext\">Commodity ETFs</span></a>\n",
      "<ul>\n",
      "<li class=\"toclevel-2 tocsection-19\"><a href=\"#Broad_basket\"><span class=\"tocnumber\">3.1</span> <span class=\"toctext\">Broad basket</span></a></li>\n",
      "<li class=\"toclevel-2 tocsection-20\"><a href=\"#Agricultural_ETFs\"><span class=\"tocnumber\">3.2</span> <span class=\"toctext\">Agricultural ETFs</span></a></li>\n",
      "<li class=\"toclevel-2 tocsection-21\"><a href=\"#Energy_commodity_ETFs\"><span class=\"tocnumber\">3.3</span> <span class=\"toctext\">Energy commodity ETFs</span></a></li>\n",
      "<li class=\"toclevel-2 tocsection-22\"><a href=\"#Industrial_commodity_ETFs\"><span class=\"tocnumber\">3.4</span> <span class=\"toctext\">Industrial commodity ETFs</span></a></li>\n",
      "<li class=\"toclevel-2 tocsection-23\"><a href=\"#Precious_metals_ETFs\"><span class=\"tocnumber\">3.5</span> <span class=\"toctext\">Precious metals ETFs</span></a></li>\n",
      "</ul>\n",
      "</li>, <li class=\"toclevel-1 tocsection-24\"><a href=\"#Real_estate_ETFs\"><span class=\"tocnumber\">4</span> <span class=\"toctext\">Real estate ETFs</span></a></li>, <li class=\"toclevel-1 tocsection-25\"><a href=\"#Leveraged_&amp;_short_ETFs\"><span class=\"tocnumber\">5</span> <span class=\"toctext\">Leveraged &amp; short ETFs</span></a>\n",
      "<ul>\n",
      "<li class=\"toclevel-2 tocsection-26\"><a href=\"#Short_ETFs\"><span class=\"tocnumber\">5.1</span> <span class=\"toctext\">Short ETFs</span></a></li>\n",
      "<li class=\"toclevel-2 tocsection-27\"><a href=\"#Leveraged_ETFs\"><span class=\"tocnumber\">5.2</span> <span class=\"toctext\">Leveraged ETFs</span></a></li>\n",
      "<li class=\"toclevel-2 tocsection-28\"><a href=\"#Leveraged_short_ETFs\"><span class=\"tocnumber\">5.3</span> <span class=\"toctext\">Leveraged short ETFs</span></a></li>\n",
      "</ul>\n",
      "</li>, <li class=\"toclevel-1 tocsection-29\"><a href=\"#Asset_allocation\"><span class=\"tocnumber\">6</span> <span class=\"toctext\">Asset allocation</span></a></li>, <li class=\"toclevel-1 tocsection-30\"><a href=\"#Active_ETFs\"><span class=\"tocnumber\">7</span> <span class=\"toctext\">Active ETFs</span></a></li>, <li class=\"toclevel-1 tocsection-31\"><a href=\"#See_also\"><span class=\"tocnumber\">8</span> <span class=\"toctext\">See also</span></a></li>, <li class=\"toclevel-1 tocsection-32\"><a href=\"#References\"><span class=\"tocnumber\">9</span> <span class=\"toctext\">References</span></a></li>, <li class=\"toclevel-1 tocsection-33\"><a href=\"#External_links\"><span class=\"tocnumber\">10</span> <span class=\"toctext\">External links</span></a></li>, <li>iShares Core S&amp;P Total US Stock Mkt (<a href=\"/wiki/NYSE_Arca\" title=\"NYSE Arca\">NYSE Arca</a>: <a class=\"external text\" href=\"https://www.nyse.com/quote/ARCX:ITOT\" rel=\"nofollow\">ITOT</a>)</li>, <li>iShares MSCI ACWI Index (<a href=\"/wiki/Nasdaq\" title=\"Nasdaq\">Nasdaq</a>: <a class=\"external text\" href=\"https://www.nasdaq.com/symbol/acwi\" rel=\"nofollow\">ACWI</a>)</li>, <li>iShares <a class=\"mw-redirect\" href=\"/wiki/Russell_3000\" title=\"Russell 3000\">Russell 3000</a> Index (<a href=\"/wiki/NYSE_Arca\" title=\"NYSE Arca\">NYSE Arca</a>: <a class=\"external text\" href=\"https://www.nyse.com/quote/ARCX:IWV\" rel=\"nofollow\">IWV</a>)</li>, <li>Schwab US Broad Market ETF (<a href=\"/wiki/NYSE_Arca\" title=\"NYSE Arca\">NYSE Arca</a>: <a class=\"external text\" href=\"https://www.nyse.com/quote/ARCX:SCHB\" rel=\"nofollow\">SCHB</a>)</li>, <li>Schwab Fundamental U.S. Broad Market Index ETF (<a href=\"/wiki/NYSE_Arca\" title=\"NYSE Arca\">NYSE Arca</a>: <a class=\"external text\" href=\"https://www.nyse.com/quote/ARCX:FNDB\" rel=\"nofollow\">FNDB</a>)</li>, <li>Vanguard Total World Stock (<a href=\"/wiki/NYSE_Arca\" title=\"NYSE Arca\">NYSE Arca</a>: <a class=\"external text\" href=\"https://www.nyse.com/quote/ARCX:VT\" rel=\"nofollow\">VT</a>), tracks the FTSE All-World Index</li>, <li>Vanguard Total Stock Market (<a href=\"/wiki/NYSE_Arca\" title=\"NYSE Arca\">NYSE Arca</a>: <a class=\"external text\" href=\"https://www.nyse.com/quote/ARCX:VTI\" rel=\"nofollow\">VTI</a>), tracks the MSCI US Broad Market Index</li>, <li>Vanguard Total International Stock (<a href=\"/wiki/NYSE_Arca\" title=\"NYSE Arca\">NYSE Arca</a>: <a class=\"external text\" href=\"https://www.nyse.com/quote/ARCX:VXUS\" rel=\"nofollow\">VXUS</a>), tracks the MSCI All Country World ex-USA Investable Market Index</li>, <li>Vanguard Russell 3000 (<a href=\"/wiki/NYSE_Arca\" title=\"NYSE Arca\">NYSE Arca</a>: <a class=\"external text\" href=\"https://www.nyse.com/quote/ARCX:VTHR\" rel=\"nofollow\">VTHR</a>), tracks 98% of the US market</li>, <li>DIAMONDS Trust, Series 1 (NYSE Arca DIA), tracks the <a href=\"/wiki/Dow_Jones_Industrial_Average\" title=\"Dow Jones Industrial Average\">Dow Jones Industrial Average</a></li>, <li>Guggenheim S&amp;P 500 Equal Weight (NYSE Arca RSP)</li>, <li>iShares S&amp;P Global 100 Index (NYSE Arca IOO), tracks the <a href=\"/wiki/S%26P_Global_100\" title=\"S&amp;P Global 100\">S&amp;P Global 100</a></li>, <li>iShares S&amp;P 500 Index (NYSE Arca IVV), tracks the <a href=\"/wiki/S%26P_500\" title=\"S&amp;P 500\">S&amp;P 500</a></li>, <li>SPDR S&amp;P 500 (NYSE Arca SPY), tracks the <a href=\"/wiki/S%26P_500\" title=\"S&amp;P 500\">S&amp;P 500</a></li>, <li>SPDR Gender Diversity (NYSE Arca | SHE), tracks a <a href=\"/wiki/Gender_diversity\" title=\"Gender diversity\">gender-diverse</a> <a href=\"/wiki/Gender_representation_on_corporate_boards_of_directors\" title=\"Gender representation on corporate boards of directors\">corporate leadership</a> index</li>, <li>Vanguard S&amp;P 500 (NYSE Arca VOO)</li>, <li>iShares Russell 2000 Index (NYSE Arca IWM), tracks the <a class=\"mw-redirect\" href=\"/wiki/Russell_2000\" title=\"Russell 2000\">Russell 2000</a></li>, <li>iShares S&amp;P 100 Index (NYSE Arca OEF), tracks the <a href=\"/wiki/S%26P_100\" title=\"S&amp;P 100\">S&amp;P 100</a></li>, <li>PowerShares QQQ (\"cubes\") (NASDAQ|QQQ), tracks the <a class=\"mw-redirect\" href=\"/wiki/NASDAQ-100\" title=\"NASDAQ-100\">NASDAQ-100</a></li>, <li>Guggenheim Multi-Asset Income (NYSE Arca CVY)</li>, <li>Guggenheim S&amp;P 500 Pure Growth ETF (NYSE Arca RPG)</li>, <li>Guggenheim S&amp;P 500 Pure Value ETF (NYSE Arca RPV)</li>, <li>iShares <a href=\"/wiki/Russell_1000_Index\" title=\"Russell 1000 Index\">Russell 1000 Index</a> (NYSE Arca IWB)\n",
      "<ul><li>iShares Russell 1000 Growth Index (NYSE Arca IWF)</li>\n",
      "<li>iShares Russell 1000 Value Index (NYSE Arca IWD)</li></ul></li>, <li>iShares S&amp;P 500 Index (NYSE Arca IVV)\n",
      "<ul><li>iShares S&amp;P 500 Growth Index (NYSE Arca IVW)</li>\n",
      "<li>iShares S&amp;P 500 Value Index (NYSE Arca IVE)</li></ul></li>, <li>PowerShares Buyback Achievers (NYSE Arca PKW)</li>, <li>PowerShares FTSE RAFI US 1000 (NYSE Arca PRF)</li>, <li>PowerShares S&amp;P 500 Low Volatility (NYSE Arca SPLV)</li>, <li>Schwab US Large-Cap ETF (NYSE Arca SCHX)\n",
      "<ul><li>Schwab US Large-Cap Growth ETF (NYSE Arca SCHG)</li>\n",
      "<li>Schwab US Large-Cap Value ETF (NYSE Arca SCHV)</li></ul></li>, <li>Schwab US Dividend Equity ETF (NYSE Arca SCHD)</li>, <li>Schwab Fundamental U.S. Large Company Index ETF (NYSE Arca FNDX)</li>, <li>SPDR S&amp;P Dividend ETF (NYSE Arca SDY)</li>, <li>Vanguard S&amp;P 500 (NYSE Arca VOO)\n",
      "<ul><li>Vanguard S&amp;P 500 Growth (NYSE Arca VOOG)</li>\n",
      "<li>Vanguard S&amp;P 500 Value (NYSE Arca VOOV)</li></ul></li>, <li>Vanguard Large-Cap (NYSE Arca VV)\n",
      "<ul><li>Vanguard Growth (NYSE Arca VUG)</li>\n",
      "<li>Vanguard Value (NYSE Arca VTV)</li></ul></li>, <li>Vanguard Mega-Cap 300 (NYSE Arca MGC)\n",
      "<ul><li>Vanguard Mega-Cap 300 Growth (NYSE Arca MGK)</li>\n",
      "<li>Vanguard Mega-Cap 300 Value (NYSE Arca MGV)</li></ul></li>, <li>Vanguard Russell 1000 (NYSE Arca VONE)\n",
      "<ul><li>Vanguard Russell 1000 Growth (NYSE Arca VONG)</li>\n",
      "<li>Vanguard Russell 1000 Value (NYSE Arca VONV)</li></ul></li>, <li>Vanguard Dividend Appreciation (NYSE Arca VIG)</li>, <li>Vanguard High Dividend Yield (NYSE Arca VYM)</li>, <li>WisdomTree Dividend ex-Financials (NYSE Arca DTN)</li>, <li>WisdomTree LargeCap Dividend (NYSE Arca DLN)</li>, <li>MidCap SPDR (NYSE Arca MDY)</li>, <li>iShares Select Dividend (NYSE Arca DVY)</li>, <li>iShares Russell Midcap Index (NYSE Arca IWR)\n",
      "<ul><li>iShares Russell Midcap Growth Index (NYSE Arca IWP)</li>\n",
      "<li>iShares Russell Midcap Value Index (NYSE Arca IWS)</li></ul></li>, <li>iShares S&amp;P MidCap 400 Index (NYSE Arca IJH)\n",
      "<ul><li>iShares S&amp;P MidCap 400 Growth Index (NYSE Arca IJK)</li>\n",
      "<li>iShares S&amp;P MidCap 400 Value Index (NYSE Arca IJJ)</li></ul></li>, <li>PowerShares DWA Mom Port (NYSE Arca PDP)</li>, <li>Schwab US Mid-Cap (NYSE Arca SCHM)</li>, <li>Vanguard S&amp;P Mid-Cap 400 (NYSE Arca IVOO)\n",
      "<ul><li>Vanguard S&amp;P Mid-Cap 400 Growth (NYSE Arca IVOG)</li>\n",
      "<li>Vanguard S&amp;P Mid-Cap 400 Value (NYSE Arca IVOV)</li></ul></li>, <li>Vanguard Mid-Cap (NYSE Arca VO)\n",
      "<ul><li>Vanguard Mid-Cap Growth (NYSE Arca VOT)</li>\n",
      "<li>Vanguard Mid-Cap Value (NYSE Arca VOE)</li></ul></li>, <li>Vanguard Extended Market (NYSE Arca VXF), tracks the S&amp;P Completion Index, i.e., S&amp;P Total Market Index minus the S&amp;P 500 Index</li>, <li>WisdomTree MidCap Dividend ETF (NYSE Arca DON)</li>, <li>iShares Micro-Cap (NYSE Arca IWC)</li>, <li>iShares <a href=\"/wiki/Russell_2000_Index\" title=\"Russell 2000 Index\">Russell 2000 Index</a> (NYSE Arca IWM)\n",
      "<ul><li>iShares Russell 2000 Growth Index (NYSE Arca IWO)</li>\n",
      "<li>iShares Russell 2000 Value Index (NYSE Arca IWN)</li></ul></li>, <li>iShares S&amp;P SmallCap 600 Index (NYSE Arca IJR)\n",
      "<ul><li>iShares S&amp;P SmallCap 600 Growth Index (NYSE Arca IJT)</li>\n",
      "<li>iShares S&amp;P SmallCap 600 Value Index (NYSE Arca IJS)</li></ul></li>, <li>Schwab US Small-Cap ETF (NYSE Arca SCHA)</li>, <li>Schwab Fundamental U.S. Small Company Index ETF (NYSE Arca FNDA)</li>, <li>Vanguard S&amp;P Small-Cap 600 (NYSE Arca VIOO)\n",
      "<ul><li>Vanguard S&amp;P Small-Cap 600 Growth (NYSE Arca VIOG)</li>\n",
      "<li>Vanguard S&amp;P Small-Cap 600 Value (NYSE Arca VIOV)</li></ul></li>, <li>Vanguard Small-Cap (NYSE Arca VB)\n",
      "<ul><li>Vanguard Small-Cap Growth (NYSE Arca VBK)</li>\n",
      "<li>Vanguard Small-Cap Value (NYSE Arca VBR)</li></ul></li>, <li>Vanguard Russell 2000 (NYSE Arca VTWO)\n",
      "<ul><li>Vanguard Russell 2000 Growth (NYSE Arca VTWG)</li>\n",
      "<li>Vanguard Russell 2000 Value (NYSE Arca VTWV)</li></ul></li>, <li>Claymore/BNY BRIC (NYSE Arca EEB)</li>, <li>EGShares Emerging Markets Consumer (NYSE Arca ECON)</li>, <li>iShares International Select Div (NYSE Arca IDV)</li>, <li>iShares MSCI ACWI ex US Index (NASDAQ|ACWX)</li>, <li>iShares MSCI BRIC Index (NYSE Arca BKF)</li>, <li>iShares <a href=\"/wiki/MSCI_EAFE\" title=\"MSCI EAFE\">MSCI EAFE</a> Index (NYSE Arca EFA)\n",
      "<ul><li>iShares MSCI EAFE Growth Index (NYSE Arca EFG)</li>\n",
      "<li>iShares MSCI EAFE Value Index (NYSE Arca EFV)</li></ul></li>, <li>iShares MSCI EAFE Small-Cap (NYSE Arca SCZ)</li>, <li>iShares MSCI Emerging Markets Index (NYSE Arca EEM)</li>, <li>PowerShares Intl Dividend Achievers (NYSE Arca PID)</li>, <li>Schwab International Small-Cap Equity (NYSE Arca SCHC)</li>, <li>Schwab Emerging Markets Equity ETF (NYSE Arca SCHE)</li>, <li>Schwab International Equity ETF (NYSE Arca SCHF)</li>, <li>Schwab Fundamental International Large Company Index ETF (NYSE Arca FNDF)</li>, <li>Schwab Fundamental International Small Company Index ETF (NYSE Arca FNDC)</li>, <li>Schwab Fundamental Emerging Markets Large Company Index ETF (NYSE Arca FNDE)</li>, <li>SPDR S&amp;P International Dividend (NYSE Arca DWX)</li>, <li>Vanguard MSCI EAFE (NYSE Arca VEA)</li>, <li>Vanguard MSCI Emerging Markets (NYSE Arca VWO)</li>, <li>Vanguard Total International Stock (NYSE Arca VXUS)</li>, <li>Vanguard FTSE All-World ex-US (NYSE Arca VEU)</li>, <li>Vanguard FTSE All-World ex-US Small-Cap (NYSE Arca VSS)</li>, <li>WisdomTree Emerging Markets Equity Inc (NYSE Arca DEM)</li>, <li>WisdomTree Emerging Mkts SmallCap Div (NYSE Arca DGS)</li>, <li>iShares MSCI All Country Asia ex Jpn Idx (NASDAQ|AAXJ)</li>, <li>iShares MSCI EMU Index (NYSE Arca EZU)</li>, <li>iShares MSCI Pacific ex-Japan (NYSE Arca EPP)</li>, <li>iShares S&amp;P Europe 350 Index (NYSE Arca IEV)</li>, <li>iShares S&amp;P Latin America 40 Index (NYSE Arca ILF)</li>, <li>SPDR EURO STOXX 50 (NYSE Arca FEZ)</li>, <li>Vanguard MSCI Europe (NYSE Arca VGK)</li>, <li>Vanguard MSCI Pacific (NYSE Arca VPL)</li>, <li>WisdomTree Europe Hedged Equity ETF (NYSE Arca HEDJ)</li>, <li>WisdomTree Europe SmallCap Dividend (NYSE Arca DFE)</li>, <li>Global X FTSE Andean 40 ETF (NYSE Arca AND)</li>, <li>Global X FTSE Nordic Region ETF (NYSE Arca GXF)</li>, <li>iShares MSCI Australia Index (NYSE Arca EWA)</li>, <li>iShares MSCI Canada Index (NYSE Arca EWC)</li>, <li>iShares MSCI German Index (NYSE Arca EWG)</li>, <li>iShares MSCI Israel ETF (NYSE Arca EIS)</li>, <li>iShares MSCI Italy Capped (NYSE Arca EWI)</li>, <li>iShares MSCI Japan Index (NYSE Arca EWJ)</li>, <li>iShares MSCI Korea Index (NYSE Arca EWY)</li>, <li>iShares MSCI Sweden Index (NYSE Arca EWD)</li>, <li>iShares MSCI Switzerland Capped (NYSE Arca EWL)</li>, <li>iShares MSCI Spain Capped (NYSE Arca EWP)</li>, <li>iShares MSCI United Kingdom Index (NYSE Arca EWU)</li>, <li>WisdomTree Japan Hedged Equity (NYSE Arca DXJ)</li>, <li>Global X FTSE Norway 30 ETF (NYSE Arca NORW)</li>, <li>Nifty India Financials ETF (NYSE Arca INDF)</li>, <li>iShares MSCI Brazil Index (NYSE Arca EWZ)</li>, <li>iShares FTSE/Xinhua China 25 Index (NYSE Arca FXI)</li>, <li>iShares MSCI Hong Kong Index (NYSE Arca EWH)</li>, <li>iShares MSCI Mexico Index (NYSE Arca EWW)</li>, <li>iShares MSCI Philippines Index (NYSE Arca EPHE)</li>, <li>Market Vectors Russia ETF (NYSE Arca RSX)</li>, <li>iShares MSCI Singapore Index (NYSE Arca EWS)</li>, <li>iShares MSCI Malaysia Index (NYSE Arca EWM)</li>, <li>iShares MSCI Taiwan Index (NYSE Arca EWT)</li>, <li>WisdomTree India Earnings ETF (NYSE Arca EPI)</li>, <li>Global X FTSE Argentina 20 ETF (NYSE Arca ARGT)</li>, <li>Global X Brazil Financials ETF (NYSE Arca BRAF)</li>, <li>Global X Brazil Consumer ETF (NYSE Arca BRAQ)</li>, <li>Global X Brazil Mid Cap ETF (NYSE Arca BRAZ)</li>, <li>Global X FTSE Colombia 20 ETF (NYSE Arca GXG)</li>, <li>Consumer Discretionary Select Sector SPDR (NYSE Arca XLY)</li>, <li>iShares Dow Jones US Consumer Services (NYSE Arca IYC)</li>, <li>iShares US Home Construction (NYSE Arca ITB)</li>, <li>SPDR S&amp;P Homebuilders ETF (NYSE Arca XHB)</li>, <li>Vanguard Consumer Discretionary (NYSE Arca VCR)</li>, <li>Consumer Staples Select Sector SPDR (NYSE Arca XLP)</li>, <li>iShares Dow Jones US Consumer Goods (NYSE Arca IYK)</li>, <li>Vanguard Consumer Staples (NYSE Arca VDC)</li>, <li>ALPS Alerian MLP ETF (NYSE Arca AMLP)</li>, <li>Energy Select Sector SPDR (NYSE Arca XLE)</li>, <li>iShares Dow Jones US Energy (NYSE Arca IYE)</li>, <li>iShares North American Natural Resources (NYSE Arca IGE)</li>, <li>Market Vectors Oil Services ETF (NYSE Arca OIH)</li>, <li>SPDR S&amp;P Oil &amp; Gas Explor &amp; Prod ETF (NYSE Arca XOP)</li>, <li>Vanguard Energy (NYSE Arca VDE)</li>, <li>Clean Edge Green Energy (NASDAQ|QCLN)</li>, <li>Roundhill BITKRAFT Esports &amp; Digital Entertainment ETF (NERD:NYSE Arca NERD)<sup class=\"reference\" id=\"cite_ref-4\"><a href=\"#cite_note-4\">[4]</a></sup></li>, <li>VanEck Vectors Video Gaming and eSports ETF (NYSE Arca ESPO)</li>, <li>Financial Select Sector SPDR (NYSE Arca XLF)</li>, <li>iShares Dow Jones US Financial (NYSE Arca IYF)</li>, <li>SPDR S&amp;P Bank ETF (NYSE Arca KBE)</li>, <li>SPDR S&amp;P Regional Banking ETF (NYSE Arca KRE)</li>, <li>Vanguard Financials (NYSE Arca VFH)</li>, <li>First Trust Health Care AlphaDEX (NYSE Arca FXH)</li>, <li>First Trust NYSE Arca Biotech Index (NYSE Arca FBT)</li>, <li>Health Care Select Sector SPDR (NYSE Arca XLV)</li>, <li>iShares Dow Jones US Health Care (NYSE Arca IYH)</li>, <li>iShares Nasdaq Biotechnology (NASDAQ|IBB)</li>, <li>PowerShares Dynamic Pharmaceuticals (NYSE Arca PJP)</li>, <li>SPDR S&amp;P Biotech ETF (NYSE Arca XBI)</li>, <li>Vanguard Health Care (NYSE Arca VHT)</li>, <li>Industrial Select Sector SPDR (NYSE Arca XLI)</li>, <li>iShares Dow Jones US Industrial (NYSE Arca IYJ)</li>, <li>Vanguard Industrials (NYSE Arca VIS)</li>, <li>Materials Select Sector SPDR (NYSE Arca XLB)</li>, <li>iShares Dow Jones US Materials (NYSE Arca IYM)</li>, <li>Market Vectors Gold Miners ETF (NYSE Arca GDX)</li>, <li>Market Vectors Junior Gold Miners ETF (NYSE Arca GDXJ)</li>, <li>Vanguard Materials (NYSE Arca VAW)</li>, <li>First Trust Dow Jones Internet Index (NYSE Arca FDN)</li>, <li>Technology Select Sector SPDR (NYSE Arca XLK)</li>, <li>iShares Dow Jones US Technology (NYSE Arca IYW)</li>, <li>iShares North American Tech-Software (NYSE Arca IGV)</li>, <li>Vanguard Information Technology (NYSE Arca VGT)</li>, <li>iShares Dow Jones US Telecommunications (NYSE Arca IYZ)</li>, <li>Vanguard Telecommunication Services (NYSE Arca VOX)</li>, <li>Utilities Select Sector SPDR (NYSE Arca XLU)</li>, <li>iShares Dow Jones US Utilities (NYSE Arca IDU)</li>, <li>Vanguard Utilities (NYSE Arca VPU)</li>, <li>SPDR S&amp;P International Consumer Discretionary (NYSE Arca IPD)</li>, <li>iShares S&amp;P Global Consumer Discretionary (NYSE Arca RXI)</li>, <li>SPDR S&amp;P International Consumer Staples (NYSE Arca IPS)</li>, <li>iShares S&amp;P Global Consumer Staples (NYSE Arca KXI)</li>, <li>SPDR S&amp;P International Energy (NYSE Arca IPW)</li>, <li>iShares S&amp;P Global Energy (NYSE Arca IXC)</li>, <li>SPDR S&amp;P International Financial (NYSE Arca IPF)</li>, <li>iShares S&amp;P Global Financial (NYSE Arca IXG)</li>, <li>SPDR S&amp;P International Health Care (NYSE Arca IRY)</li>, <li>iShares S&amp;P Global Healthcare (NYSE Arca IXJ)</li>, <li>SPDR S&amp;P International Industrial (NYSE Arca IPN)</li>, <li>iShares S&amp;P Global Industrials (NYSE Arca EXI)</li>, <li>FlexShares Mstar Gbl Upstrm Nat Res ETF (NYSE Arca GUNR)</li>, <li>SPDR S&amp;P International Materials (NYSE Arca IRV)</li>, <li>iShares S7P Global Materials (NYSE Arca MXI)</li>, <li>SPDR S&amp;P International Technology (NYSE Arca IPK)</li>, <li>iShares S&amp;P Global Technology (NYSE Arca IXN)</li>, <li>SPDR S&amp;P International Telecommunications (NYSE Arca IST)</li>, <li>iShares S&amp;P Global Telecommunications (NYSE Arca IXP)</li>, <li>SPDR S&amp;P International Utilities (NYSE Arca IPU)</li>, <li>iShares S&amp;P Global Utilities (NYSE Arca JXI)</li>, <li><a href=\"/wiki/AdvisorShares\" title=\"AdvisorShares\">AdvisorShares</a> Peritus High Yield ETF (NYSE Arca HYLD)</li>, <li>FlexShares iBoxx 3Yr Target Dur TIPS ETF (NYSE Arca TDTT)</li>, <li>iShares 1-3 Year Credit Bond (NYSE Arca CSJ)</li>, <li>iShares 3-7 Year Treasury Bond (NYSE Arca IEI)</li>, <li>iShares Core U.S. Aggregate Bond (NYSE Arca AGG)</li>, <li>iShares Barclays 1-3 Year Treasury Bond (NYSE Arca SHY)</li>, <li>iShares Barclays TIPS Bond (NYSE Arca TIP)</li>, <li>iShares iBoxx $ High Yield Corp Bond (NYSE Arca HYG)</li>, <li>iShares iBoxx $ Invest Grade Corp Bond (NYSE Arca LQD)</li>, <li>iShares Barclays 7-10 Year Treasury (NYSE Arca IEF)</li>, <li>iShares Barclays 20+ Year Treas Bond (NYSE Arca TLT)</li>, <li>iShares Floating Rate Bond (NYSE Arca FLOT)</li>, <li>iShares Intermediate Credit Bd (NYSE Arca CIU)</li>, <li>iShares Intm Government/Credit Bond (NYSE Arca GVI)</li>, <li>iShares JPMorgan USD Emerg Markets Bond (NYSE Arca EMB)</li>, <li>iShares MBS (NYSE Arca MBB)</li>, <li>iShares National AMT-Free Muni Bond (NYSE Arca MUB)</li>, <li>iShares Short Treasury Bond (NYSE Arca SHV)</li>, <li>Market Vectors High-Yield Muni ETF (NYSE Arca HYD)</li>, <li>PIMCO 0-5 Year High Yld Corp Bd Idx ETF (NYSE Arca HYS)</li>, <li>PIMCO 1-5 Year US TIPS Index ETF (NYSE Arca STPZ)</li>, <li>PIMCO Enhanced Short Maturity ETF (NYSE Arca MINT)</li>, <li>PIMCO Total Return ETF (NYSE Arca BOND)</li>, <li>Quadratic Interest Rate Volatility and Inflation Hedge ETF (NYSE Arca IVOL)</li>, <li>Quadratic Deflation ETF (NYSE Arca BNDD)</li>, <li>PowerShares Emerging Mkts Sovereign Debt (NYSE Arca PCY)</li>, <li>PowerShares Senior Loan Port (NYSE Arca BKLN)</li>, <li>Schwab US Aggregate Bond (NYSE Arca SCHZ)</li>, <li>Schwab US TIPS (NYSE Arca SCHP)</li>, <li>Schwab Short-Term US Treasury (NYSE Arca SCHO)</li>, <li>Schwab Intermediate-Term US Treasury (NYSE Arca SCHR)</li>, <li>SPDR BarCap ST High Yield Bond ETF (NYSE Arca JNK)</li>, <li>SPDR Barclays 1-3 Month T-Bill (NYSE Arca BIL)</li>, <li>SPDR Barclays Capital Convertible Secs (NASDAQ|CWB)</li>, <li>SPDR Barclays Capital High Yield Bond ETF (NYSE Arca JNK)</li>, <li>SPDR Barclays Capital Short Term Corp Bd (NYSE Arca SCPB)</li>, <li>SPDR Barclays International Treasury Bd (NYSE Arca BWX)</li>, <li>SPDR Barclays Short Term Hi Yld Bd ETF (NYSE Arca SJNK)</li>, <li>SPDR Nuveen Barclays Capital Muni Bond (NYSE Arca TFI)</li>, <li>SPDR Nuveen Barclays Capital S/T Muni Bd (NYSE Arca SHM)</li>, <li>Vanguard Extended Duration Treasury (NYSE Arca EDV)</li>, <li>Vanguard Intermediate-Term Bond (NYSE Arca BIV)</li>, <li>Vanguard Intermediate-Term Corporate Bond (NYSE Arca VCIT)</li>, <li>Vanguard Intermediate-Term Government Bond (NYSE Arca VGIT)</li>, <li>Vanguard Long-Term Bond (NYSE Arca BLV)</li>, <li>Vanguard Long-Term Corporate Bond (NYSE Arca VCLT)</li>, <li>Vanguard Long-Term Government Bond (NYSE Arca VGLT)</li>, <li>Vanguard Mortgage-Backed Securities (NYSE Arca VMBS)</li>, <li>Vanguard Short-Term Bond (NYSE Arca BSV)</li>, <li>Vanguard Short-Term Corporate Bond (NYSE Arca VCSH)</li>, <li>Vanguard Short-Term Government Bond (NYSE Arca VGSH)</li>, <li>Vanguard Shrt-Term Infl-Prot Sec Idx ETF (NASDAQ|VTIP)</li>, <li>Vanguard Total Bond Market (NYSE Arca BND)</li>, <li>Vanguard Total Intl Bd Idx ETF (NASDAQ|BNDX)</li>, <li>ELEMENTS Rogers International Commodity Index ETN (NYSE Arca RJI)</li>, <li>iPath Dow Jones-UBS Commodity Idx TR ETN (NYSE Arca DJP)</li>, <li>iShares S&amp;P GSCI Commodity-Indexed Trust (NYSE Arca GSG)</li>, <li>PowerShares DB Commodity Idx Trking Fund (NYSE Arca DBC)</li>, <li>ELEMENTS Rogers Agriculture ETN (NYSE Arca RJA)</li>, <li>iPath Dow Jones-UBS Agriculture ETN (NYSE Arca JJA)</li>, <li>PowerShares DB Agriculture (NYSE Arca DBA)</li>, <li>ELEMENTS Rogers Energy ETN (NYSE Arca RJN)</li>, <li>iPath Dow Jones-UBS Crude Oil ETN (NYSE Arca OIL)</li>, <li>iPath Dow Jones-UBS Natural Gas ETN (NYSE Arca GAZ)</li>, <li>United States Natural Gas Fund (NYSE Arca UNG)</li>, <li>United States Oil Fund (NYSE Arca USO)</li>, <li>ELEMENTS Rogers Metal ETN (NYSE Arca RJZ)</li>, <li>iPath Dow Jones-UBS Industrial Metals ETN (NYSE Arca JJM)\n",
      "<ul><li>iPath Dow Jones-UBS Copper ETN (NYSE Arca JJC)</li></ul></li>, <li>PowerShares DB Base Metals (NYSE Arca DBB)</li>, <li>Aberdeen Standard Gold ETF Trust (NYSE Arca SGOL)</li>, <li>iShares Gold Trust (NYSE Arca IAU)</li>, <li>SPDR Gold Shares (NYSE Arca GLD)</li>, <li>Aberdeen Standard Physical Silver Shares ETF (NYSE Arca SIVR)</li>, <li>iShares Silver Trust (NYSE Arca SLV)</li>, <li>Aberdeen Standard Physical Palladium Shares ETF (NYSE Arca PALL)</li>, <li>Aberdeen Standard Physical Platinum Shares ETF (NYSE Arca PPLT)</li>, <li>iShares Cohen &amp; Steers Realty Majors (NYSE Arca ICF)</li>, <li>iShares Dow Jones Asia Real Estate (NYSE Arca IFAS)</li>, <li>iShares Dow Jones Europe Real Estate (NYSE Arca IFEU)</li>, <li>iShares Dow Jones US Real Estate (NYSE Arca IYR)</li>, <li>iShares Mortgage Real Estate Capped (NYSE Arca REM)</li>, <li>Schwab US REIT (NYSE Arca SCHH)</li>, <li>SPDR Dow Jones Global Real Estate (NYSE Arca RWO)</li>, <li>SPDR Dow Jones Intl Real Estate (NYSE Arca RWX)</li>, <li>SPDR Dow Jones REIT ETF (NYSE Arca RWR)</li>, <li>Wilshire US REIT ETF (NYSE Arca WREI)</li>, <li>Vanguard Real Estate (NYSE Arca VNQ)</li>, <li>Vanguard Global ex-US Real Estate (NYSE Arca VNQI)</li>, <li><a class=\"mw-redirect\" href=\"/wiki/Advisorshares\" title=\"Advisorshares\">AdvisorShares</a> Ranger Equity Bear ETF (NYSE Arca HDGE)</li>, <li>ProShares Short Dow 30 (NYSE Arca DOG)</li>, <li>ProShares Short S&amp;P 500 (NYSE Arca SH)</li>, <li>ProShares Short S&amp;P MidCap 400 (NYSE Arca MYY)</li>, <li>ProShares Short S&amp;P SmallCap 600 (NYSE Arca SBB)</li>, <li>ProShares Short Nasdaq 100 (NYSE Arca PSQ)</li>, <li>ProShares Short Russell 2000 (NYSE Arca RWM)</li>, <li>ProShares Short MSCI EAFE (NYSE Arca EFZ)</li>, <li><a href=\"/wiki/Tuttle_Capital_Short_Innovation_ETF\" title=\"Tuttle Capital Short Innovation ETF\">Tuttle Capital Short Innovation ETF</a></li>, <li>UBS AG FI Enhanced Large Cap Growth 2x ETF (NYSE Arca FBGX) - tracks the Russell 1000 and will provide investors with a cash payment at the scheduled maturity or early redemption based on the 2x leveraged performance of the Russell 1000 Growth Index Total Return.<sup class=\"reference\" id=\"cite_ref-7\"><a href=\"#cite_note-7\">[7]</a></sup></li>, <li>Credit Suisse FI Large Cap Growth Enhanced ETF (NYSE Arca FLGE) - FLGE provides 2X levered exposure to the total return of the Russell 1000 Growth Index, with leverage reset at least quarterly. <sup class=\"reference\" id=\"cite_ref-8\"><a href=\"#cite_note-8\">[8]</a></sup></li>, <li>Direxion Daily Mid Cap Bull 3x ETF (NYSE Arca MIDU) - tracks 3x the S&amp;P MidCap 400 Index</li>, <li>Direxion Daily S&amp;P 500 Bull 2x ETF (NYSE Arca SPUU) - tracks 2x the S&amp;P 500 Index</li>, <li>Direxion Daily S&amp;P 500 Bull 3x ETF (NYSE Arca SPXL) - tracks 3x the S&amp;P 500 Index</li>, <li>Direxion Energy Bull 3x ETF (NYSE Arca ERX)</li>, <li>Direxion Financials Bull 3x ETF (NYSE Arca FAS) - tracks XLF or RIFIN</li>, <li>Direxion Large Cap Bull 3x (NYSE Arca BGU) tracks 3x the Russell 1000 Index</li>, <li>Direxion Small Cap Bull 3x (NYSE Arca TNA) tracks 3x the Russell 2000 Index</li>, <li>ProShares Ultra Dow 30 (NYSE Arca DDM) tracks 2x the Dow Jones Industrial Average</li>, <li>ProShares Ultra NASDAQ-100 (NYSE Arca QLD) tracks 2x the NASDAQ-100 Index</li>, <li>ProShares Ultra Russell 2000 (NYSE Arca UWM) tracks 2x the Russell 2000 Index</li>, <li>ProShares Ultra S&amp;P 500 (NYSE Arca SSO) tracks 2x the S&amp;P 500 Index</li>, <li>ProShares S&amp;P 500 3x (NYSE Arca UPRO) tracks 3x the S&amp;P 500 Index</li>, <li>UltraShort S&amp;P 500 ProShares 2x (NYSE Arca SDS)</li>, <li>ProShares S&amp;P 500 Direxionshares Bear 3x ETF (NYSE Arca SPXU)</li>, <li>Direxion Russell 2000 Direxionshares Bear 3x ETF (NYSE Arca TZA)</li>, <li>UltraPro Short QQQ (NYSE Arca SQQQ)</li>, <li>UltraShort NASDAQ-100 ProShares  2X (NYSE Arca QID)</li>, <li>UltraShort Financials ProShares (NYSE Arca SKF)</li>, <li>UltraShort Russell 2000 ProShares (NYSE Arca TWM)</li>, <li>UltraShort Dow 30 ProShares (NYSE Arca DXD)</li>, <li>UltraShort Real Estate ProShares (NYSE Arca SRS)</li>, <li>UltraShort MidCap 400 ProShares (NYSE Arca MZZ)</li>, <li>UltraShort Oil &amp; Gas ProShares (NYSE Arca DUG)</li>, <li>Direxion Large Cap Bear 3x ETF (NYSE Arca BGZ)</li>, <li>Direxion Energy Bear 3x ETF (NYSE Arca ERY)</li>, <li>Direxion Financials Bear 3x ETF (NYSE Arca FAZ) - tracks the inverse of XLF or RIFIN</li>, <li>AdvisorShares WCM/BNY Mellon Focused Growth ADR ETF (NYSE Arca AADR)</li>, <li>AdvisorShares Ranger Equity Bear ETF (NYSE Arca HDGE)</li>, <li>AdvisorShares Sage Core Reserves ETF (NYSE Arca HOLD)</li>, <li>AdvisorShares Newfleet Multi-Sector Income ETF (NYSE Arca MINC)</li>, <li>AdvisorShares STAR Global Buy-Write ETF (NYSE Arca VEGA)</li>, <li>Advisorshares Gerber Kawasaki ETF (NYSE Arca GK)</li>, <li>Riverfront Strategic Income Fund (NYSE Arca RIGS)</li>, <li>Amplify Enhanced Dividend Income ETF (NYSE Arca DIVO)</li>, <li>Amplify Seymour Cannabis ETF (NYSE Arca CNBS)</li>, <li>Amplify Transformational Data Sharing ETF (NYSE Arca BLOK)</li>, <li>ARK Genomic Revolution Multi-Sector ETF (NYSE Arca ARKG)</li>, <li>ARK Industrial Innovation ETF (NYSE Arca ARKQ)</li>, <li>ARK Next Generation Internet ETF (NYSE Arca ARKW)</li>, <li>ARK Innovation ETF (NYSE Arca ARKK)</li>, <li>ARK Fintech Innovation ETF (NYSE Arca ARKF)</li>, <li>ARK Space Exploration &amp; Innovation ETF (NYSE Arca ARKX)</li>, <li>Cambria Shareholder Yield ETF (NYSE Arca SYLD)</li>, <li>ValueShares U.S. Quantitative Value ETF</li>, <li>ValueShares International Quantitative Value ETF</li>, <li>MomentumShares U.S. Quantitative Momentum ETF</li>, <li>MomentumShares International Quantitative Momentum ETF</li>, <li>Columbia Intermediate Municipal Bond ETF (NYSE Arca GMMB)</li>, <li>Columbia Core Bond ETF (NYSE Arca GMTB)</li>, <li>Columbia Select Large Cap Value ETF (NYSE Arca GVT)</li>, <li>Columbia Large Cap Growth ETF (NYSE Arca RPX)</li>, <li>Columbia Select Large Cap Growth ETF (NYSE Arca RWG)</li>, <li>First Trust North American Energy Infrastructure Fund (NYSE Arca EMLP)</li>, <li>First Trust Managed Municipal ETF (NYSE Arca FMB)</li>, <li>First Trust <a href=\"/wiki/Morningstar,_Inc.\" title=\"Morningstar, Inc.\">Morningstar</a> Managed Futures Strategy Fund (NYSE Arca FMF)</li>, <li>First Trust Preferred Securities and Income ETF (NYSE Arca FPE)</li>, <li>First Trust Global Tactical Commodity Strategy Fund (NYSE Arca FTGS)</li>, <li>First Trust High Income ETF (NYSE Arca FTHI)</li>, <li>First Trust Low Beta Income ETF (NYSE Arca FTLB)</li>, <li>First Trust Senior Loan ETF (NYSE Arca FTSL)</li>, <li>First Trust Tactical High Yield ETF (NYSE Arca HYLS)</li>, <li>Flexshares Ready Access Variable Income Fund (NYSE Arca RAVI)</li>, <li>Franklin Short Duration US Government ETF (NYSE Arca FTSD)</li>, <li>Guggenheim Enhanced Short Duration Bond ETF (NYSE Arca GSY)</li>, <li>iShares Liquidity Income ETF (NYSE Arca ICSH)</li>, <li>iShares Enhanced International Large-Cap ETF (NYSE Arca IEIL)</li>, <li>iShares Enhanced International Small-Cap ETF (NYSE Arca IEIS)</li>, <li>iShares Short Maturity Bond ETF (NYSE Arca NEAR)</li>, <li>PIMCO Total Return ETF (NYSE Arca BOND)</li>, <li>PIMCO Low Duration ETF (NYSE Arca LDUR)</li>, <li>PIMCO Enhanced Short Duration ETF (NYSE Arca MINT)</li>, <li>PIMCO Intermediate Muni Bond Strategy ETF (NYSE Arca MUNI)</li>, <li>PIMCO Short Term Muni Bond Strategy ETF (NYSE Arca SMMU)</li>, <li>Quadratic Interest Rate Volatility and Inflation Hedge ETF (NYSE Arca IVOL)</li>, <li>Quadratic Deflation ETF (NYSE Arca BNDD)</li>, <li>PowerShares China-A Share Portfolio (NYSE Arca CHNA)</li>, <li>S&amp;P 500 Downside Hedged Portfolio (NYSE Arca PHDG)</li>, <li>Active U.S. Real Estate Fund ETF (NYSE Arca PSR)</li>, <li>SPDR SSgA Global Allocation (NYSE Arca GAL)</li>, <li>SPDR SSgA Income Allocation (NYSE Arca INKM)</li>, <li>SPDR SSgA Multi-Asset Real Return (NYSE Arca RLY)</li>, <li>SPDR <a class=\"mw-redirect\" href=\"/wiki/Blackstone_Group\" title=\"Blackstone Group\">Blackstone</a>/GSO Senior Loan ETF (NYSE Arca SRLN)</li>, <li>SPDR SSgA Ultra Short Term Bond ETF (NYSE Arca ULST)</li>, <li>WisdomTree <a href=\"/wiki/Dreyfus_Corporation\" title=\"Dreyfus Corporation\">Dreyfus</a> Emerging Currency (NYSE Arca CEW)</li>, <li>WisdomTree <a href=\"/wiki/Dreyfus_Corporation\" title=\"Dreyfus Corporation\">Dreyfus</a> Chinese Yuan (NYSE Arca CYB)</li>, <li>WisdomTree Emerging Markets Local Debts Fund (NYSE Arca ELD)</li>, <li>WisdomTree Emerging Markets Corporate Bond Fund (NYSE Arca EMCB)</li>, <li>WisdomTree <a href=\"/wiki/Bloomberg_L.P.\" title=\"Bloomberg L.P.\">Bloomberg</a> U.S. Dollar Bullish Fund (NYSE Arca USDU)</li>, <li><a href=\"/wiki/List_of_Australian_exchange-traded_funds\" title=\"List of Australian exchange-traded funds\">List of Australian exchange-traded funds</a></li>, <li><a href=\"/wiki/List_of_Canadian_exchange-traded_funds\" title=\"List of Canadian exchange-traded funds\">List of Canadian exchange-traded funds</a></li>, <li><a href=\"/wiki/List_of_European_exchange-traded_funds\" title=\"List of European exchange-traded funds\">List of European exchange-traded funds</a></li>, <li><a href=\"/wiki/List_of_Hong_Kong_exchange-traded_funds\" title=\"List of Hong Kong exchange-traded funds\">List of Hong Kong exchange-traded funds</a></li>, <li><a href=\"/wiki/List_of_Indian_exchange-traded_funds\" title=\"List of Indian exchange-traded funds\">List of Indian exchange-traded funds</a></li>, <li><a href=\"/wiki/List_of_Indonesian_exchange-traded_funds\" title=\"List of Indonesian exchange-traded funds\">List of Indonesian exchange-traded funds</a></li>, <li><a href=\"/wiki/List_of_Japanese_exchange-traded_funds\" title=\"List of Japanese exchange-traded funds\">List of Japanese exchange-traded funds</a></li>, <li><a href=\"/wiki/List_of_New_Zealand_exchange-traded_funds\" title=\"List of New Zealand exchange-traded funds\">List of New Zealand exchange-traded funds</a></li>, <li><a href=\"/wiki/List_of_Singaporean_exchange-traded_funds\" title=\"List of Singaporean exchange-traded funds\">List of Singaporean exchange-traded funds</a></li>, <li><a href=\"/wiki/List_of_South_African_exchange-traded_funds\" title=\"List of South African exchange-traded funds\">List of South African exchange-traded funds</a></li>, <li><a href=\"/wiki/List_of_South_Korean_exchange-traded_funds\" title=\"List of South Korean exchange-traded funds\">List of South Korean exchange-traded funds</a></li>, <li><a href=\"/wiki/List_of_Taiwan_exchange-traded_funds\" title=\"List of Taiwan exchange-traded funds\">List of Taiwan exchange-traded funds</a></li>, <li><a href=\"/wiki/List_of_Turkish_exchange-traded_funds\" title=\"List of Turkish exchange-traded funds\">List of Turkish exchange-traded funds</a></li>, <li><a class=\"external text\" href=\"https://web.archive.org/web/20100329002454/http://pr.tradingmarkets.com/etfs-grouped-by-index.html\" rel=\"nofollow\">ETFs grouped by their Index</a></li>, <li><a href=\"/wiki/Category:Exchange-traded_funds\" title=\"Category:Exchange-traded funds\">Exchange-traded funds</a></li>, <li><a href=\"/wiki/Category:Articles_with_short_description\" title=\"Category:Articles with short description\">Articles with short description</a></li>, <li><a href=\"/wiki/Category:Short_description_is_different_from_Wikidata\" title=\"Category:Short description is different from Wikidata\">Short description is different from Wikidata</a></li>, <li><a href=\"/wiki/Category:Dynamic_lists\" title=\"Category:Dynamic lists\">Dynamic lists</a></li>, <li><a href=\"/wiki/Category:All_articles_with_unsourced_statements\" title=\"Category:All articles with unsourced statements\">All articles with unsourced statements</a></li>, <li><a href=\"/wiki/Category:Articles_with_unsourced_statements_from_May_2015\" title=\"Category:Articles with unsourced statements from May 2015\">Articles with unsourced statements from May 2015</a></li>, <li class=\"mw-list-item\" id=\"pt-anonuserpage\"><span title=\"The user page for the IP address you are editing as\">Not logged in</span></li>, <li class=\"mw-list-item\" id=\"pt-anontalk\"><a accesskey=\"n\" href=\"/wiki/Special:MyTalk\" title=\"Discussion about edits from this IP address [n]\"><span>Talk</span></a></li>, <li class=\"mw-list-item\" id=\"pt-anoncontribs\"><a accesskey=\"y\" href=\"/wiki/Special:MyContributions\" title=\"A list of edits made from this IP address [y]\"><span>Contributions</span></a></li>, <li class=\"mw-list-item\" id=\"pt-createaccount\"><a href=\"/w/index.php?title=Special:CreateAccount&amp;returnto=List+of+American+exchange-traded+funds\" title=\"You are encouraged to create an account and log in; however, it is not mandatory\"><span>Create account</span></a></li>, <li class=\"mw-list-item\" id=\"pt-login\"><a accesskey=\"o\" href=\"/w/index.php?title=Special:UserLogin&amp;returnto=List+of+American+exchange-traded+funds\" title=\"You're encouraged to log in; however, it's not mandatory. [o]\"><span>Log in</span></a></li>, <li class=\"selected mw-list-item\" id=\"ca-nstab-main\"><a accesskey=\"c\" href=\"/wiki/List_of_American_exchange-traded_funds\" title=\"View the content page [c]\"><span>Article</span></a></li>, <li class=\"mw-list-item\" id=\"ca-talk\"><a accesskey=\"t\" href=\"/wiki/Talk:List_of_American_exchange-traded_funds\" rel=\"discussion\" title=\"Discuss improvements to the content page [t]\"><span>Talk</span></a></li>, <li class=\"selected mw-list-item\" id=\"ca-view\"><a href=\"/wiki/List_of_American_exchange-traded_funds\"><span>Read</span></a></li>, <li class=\"mw-list-item\" id=\"ca-edit\"><a accesskey=\"e\" href=\"/w/index.php?title=List_of_American_exchange-traded_funds&amp;action=edit\" title=\"Edit this page [e]\"><span>Edit</span></a></li>, <li class=\"mw-list-item\" id=\"ca-history\"><a accesskey=\"h\" href=\"/w/index.php?title=List_of_American_exchange-traded_funds&amp;action=history\" title=\"Past revisions of this page [h]\"><span>View history</span></a></li>, <li class=\"mw-list-item\" id=\"n-mainpage-description\"><a accesskey=\"z\" href=\"/wiki/Main_Page\" icon=\"home\" title=\"Visit the main page [z]\"><span>Main page</span></a></li>, <li class=\"mw-list-item\" id=\"n-contents\"><a href=\"/wiki/Wikipedia:Contents\" title=\"Guides to browsing Wikipedia\"><span>Contents</span></a></li>, <li class=\"mw-list-item\" id=\"n-currentevents\"><a href=\"/wiki/Portal:Current_events\" title=\"Articles related to current events\"><span>Current events</span></a></li>, <li class=\"mw-list-item\" id=\"n-randompage\"><a accesskey=\"x\" href=\"/wiki/Special:Random\" icon=\"die\" title=\"Visit a randomly selected article [x]\"><span>Random article</span></a></li>, <li class=\"mw-list-item\" id=\"n-aboutsite\"><a href=\"/wiki/Wikipedia:About\" title=\"Learn about Wikipedia and how it works\"><span>About Wikipedia</span></a></li>, <li class=\"mw-list-item\" id=\"n-contactpage\"><a href=\"//en.wikipedia.org/wiki/Wikipedia:Contact_us\" title=\"How to contact Wikipedia\"><span>Contact us</span></a></li>, <li class=\"mw-list-item\" id=\"n-sitesupport\"><a href=\"https://donate.wikimedia.org/wiki/Special:FundraiserRedirector?utm_source=donate&amp;utm_medium=sidebar&amp;utm_campaign=C13_en.wikipedia.org&amp;uselang=en\" title=\"Support us by donating to the Wikimedia Foundation\"><span>Donate</span></a></li>, <li class=\"mw-list-item\" id=\"n-help\"><a href=\"/wiki/Help:Contents\" icon=\"help\" title=\"Guidance on how to use and edit Wikipedia\"><span>Help</span></a></li>, <li class=\"mw-list-item\" id=\"n-introduction\"><a href=\"/wiki/Help:Introduction\" title=\"Learn how to edit Wikipedia\"><span>Learn to edit</span></a></li>, <li class=\"mw-list-item\" id=\"n-portal\"><a href=\"/wiki/Wikipedia:Community_portal\" title=\"The hub for editors\"><span>Community portal</span></a></li>, <li class=\"mw-list-item\" id=\"n-recentchanges\"><a accesskey=\"r\" href=\"/wiki/Special:RecentChanges\" icon=\"recentChanges\" title=\"A list of recent changes to Wikipedia [r]\"><span>Recent changes</span></a></li>, <li class=\"mw-list-item\" id=\"n-upload\"><a href=\"/wiki/Wikipedia:File_Upload_Wizard\" title=\"Add images or other media for use on Wikipedia\"><span>Upload file</span></a></li>, <li class=\"mw-list-item\" id=\"t-whatlinkshere\"><a accesskey=\"j\" href=\"/wiki/Special:WhatLinksHere/List_of_American_exchange-traded_funds\" title=\"List of all English Wikipedia pages containing links to this page [j]\"><span>What links here</span></a></li>, <li class=\"mw-list-item\" id=\"t-recentchangeslinked\"><a accesskey=\"k\" href=\"/wiki/Special:RecentChangesLinked/List_of_American_exchange-traded_funds\" rel=\"nofollow\" title=\"Recent changes in pages linked from this page [k]\"><span>Related changes</span></a></li>, <li class=\"mw-list-item\" id=\"t-upload\"><a accesskey=\"u\" href=\"/wiki/Wikipedia:File_Upload_Wizard\" title=\"Upload files [u]\"><span>Upload file</span></a></li>, <li class=\"mw-list-item\" id=\"t-specialpages\"><a accesskey=\"q\" href=\"/wiki/Special:SpecialPages\" title=\"A list of all special pages [q]\"><span>Special pages</span></a></li>, <li class=\"mw-list-item\" id=\"t-permalink\"><a href=\"/w/index.php?title=List_of_American_exchange-traded_funds&amp;oldid=1089759398\" title=\"Permanent link to this revision of this page\"><span>Permanent link</span></a></li>, <li class=\"mw-list-item\" id=\"t-info\"><a href=\"/w/index.php?title=List_of_American_exchange-traded_funds&amp;action=info\" title=\"More information about this page\"><span>Page information</span></a></li>, <li class=\"mw-list-item\" id=\"t-cite\"><a href=\"/w/index.php?title=Special:CiteThisPage&amp;page=List_of_American_exchange-traded_funds&amp;id=1089759398&amp;wpFormIdentifier=titleform\" title=\"Information on how to cite this page\"><span>Cite this page</span></a></li>, <li class=\"mw-list-item\" id=\"t-wikibase\"><a accesskey=\"g\" href=\"https://www.wikidata.org/wiki/Special:EntityPage/Q17164776\" title=\"Structured data on this page hosted by Wikidata [g]\"><span>Wikidata item</span></a></li>, <li class=\"mw-list-item\" id=\"coll-download-as-rl\"><a href=\"/w/index.php?title=Special:DownloadAsPdf&amp;page=List_of_American_exchange-traded_funds&amp;action=show-download-screen\" title=\"Download this page as a PDF file\"><span>Download as PDF</span></a></li>, <li class=\"mw-list-item\" id=\"t-print\"><a accesskey=\"p\" href=\"/w/index.php?title=List_of_American_exchange-traded_funds&amp;printable=yes\" title=\"Printable version of this page [p]\"><span>Printable version</span></a></li>]\n"
     ]
    }
   ],
   "source": [
    "soup = BeautifulSoup(response.text , 'html')\n",
    "print( 'type - ' , type(soup))\n",
    "rows = soup.select('div > ul > li')\n",
    "print(' type - ' , type(rows))\n",
    "\n",
    "# print()\n",
    "print(rows)"
   ],
   "metadata": {
    "collapsed": false,
    "pycharm": {
     "name": "#%%\n"
    }
   }
  },
  {
   "cell_type": "code",
   "execution_count": 16,
   "outputs": [
    {
     "data": {
      "text/plain": "   0  1  2  3  4  5  6  7\n0  9  7  3  3  8  1  5  7\n1  0  0  1  1  9  5  2  2\n2  5  4  9  7  9  0  8  8\n3  9  5  9  6  4  9  0  1",
      "text/html": "<div>\n<style scoped>\n    .dataframe tbody tr th:only-of-type {\n        vertical-align: middle;\n    }\n\n    .dataframe tbody tr th {\n        vertical-align: top;\n    }\n\n    .dataframe thead th {\n        text-align: right;\n    }\n</style>\n<table border=\"1\" class=\"dataframe\">\n  <thead>\n    <tr style=\"text-align: right;\">\n      <th></th>\n      <th>0</th>\n      <th>1</th>\n      <th>2</th>\n      <th>3</th>\n      <th>4</th>\n      <th>5</th>\n      <th>6</th>\n      <th>7</th>\n    </tr>\n  </thead>\n  <tbody>\n    <tr>\n      <th>0</th>\n      <td>9</td>\n      <td>7</td>\n      <td>3</td>\n      <td>3</td>\n      <td>8</td>\n      <td>1</td>\n      <td>5</td>\n      <td>7</td>\n    </tr>\n    <tr>\n      <th>1</th>\n      <td>0</td>\n      <td>0</td>\n      <td>1</td>\n      <td>1</td>\n      <td>9</td>\n      <td>5</td>\n      <td>2</td>\n      <td>2</td>\n    </tr>\n    <tr>\n      <th>2</th>\n      <td>5</td>\n      <td>4</td>\n      <td>9</td>\n      <td>7</td>\n      <td>9</td>\n      <td>0</td>\n      <td>8</td>\n      <td>8</td>\n    </tr>\n    <tr>\n      <th>3</th>\n      <td>9</td>\n      <td>5</td>\n      <td>9</td>\n      <td>6</td>\n      <td>4</td>\n      <td>9</td>\n      <td>0</td>\n      <td>1</td>\n    </tr>\n  </tbody>\n</table>\n</div>"
     },
     "execution_count": 16,
     "metadata": {},
     "output_type": "execute_result"
    }
   ],
   "source": [
    "tmp_frm = pd.DataFrame( np.random.randint(10, size=(4,8)))\n",
    "tmp_frm"
   ],
   "metadata": {
    "collapsed": false,
    "pycharm": {
     "name": "#%%\n"
    }
   }
  },
  {
   "cell_type": "code",
   "execution_count": 17,
   "outputs": [
    {
     "data": {
      "text/plain": "0    43\n1    20\n2    50\n3    43\ndtype: int64"
     },
     "execution_count": 17,
     "metadata": {},
     "output_type": "execute_result"
    }
   ],
   "source": [
    "tmp_frm.sum(axis = 1 )"
   ],
   "metadata": {
    "collapsed": false,
    "pycharm": {
     "name": "#%%\n"
    }
   }
  },
  {
   "cell_type": "code",
   "execution_count": 18,
   "outputs": [
    {
     "data": {
      "text/plain": "   0  1  2  3  4  5  6  7  row_sum\n0  9  7  3  3  8  1  5  7       43\n1  0  0  1  1  9  5  2  2       20\n2  5  4  9  7  9  0  8  8       50\n3  9  5  9  6  4  9  0  1       43",
      "text/html": "<div>\n<style scoped>\n    .dataframe tbody tr th:only-of-type {\n        vertical-align: middle;\n    }\n\n    .dataframe tbody tr th {\n        vertical-align: top;\n    }\n\n    .dataframe thead th {\n        text-align: right;\n    }\n</style>\n<table border=\"1\" class=\"dataframe\">\n  <thead>\n    <tr style=\"text-align: right;\">\n      <th></th>\n      <th>0</th>\n      <th>1</th>\n      <th>2</th>\n      <th>3</th>\n      <th>4</th>\n      <th>5</th>\n      <th>6</th>\n      <th>7</th>\n      <th>row_sum</th>\n    </tr>\n  </thead>\n  <tbody>\n    <tr>\n      <th>0</th>\n      <td>9</td>\n      <td>7</td>\n      <td>3</td>\n      <td>3</td>\n      <td>8</td>\n      <td>1</td>\n      <td>5</td>\n      <td>7</td>\n      <td>43</td>\n    </tr>\n    <tr>\n      <th>1</th>\n      <td>0</td>\n      <td>0</td>\n      <td>1</td>\n      <td>1</td>\n      <td>9</td>\n      <td>5</td>\n      <td>2</td>\n      <td>2</td>\n      <td>20</td>\n    </tr>\n    <tr>\n      <th>2</th>\n      <td>5</td>\n      <td>4</td>\n      <td>9</td>\n      <td>7</td>\n      <td>9</td>\n      <td>0</td>\n      <td>8</td>\n      <td>8</td>\n      <td>50</td>\n    </tr>\n    <tr>\n      <th>3</th>\n      <td>9</td>\n      <td>5</td>\n      <td>9</td>\n      <td>6</td>\n      <td>4</td>\n      <td>9</td>\n      <td>0</td>\n      <td>1</td>\n      <td>43</td>\n    </tr>\n  </tbody>\n</table>\n</div>"
     },
     "execution_count": 18,
     "metadata": {},
     "output_type": "execute_result"
    }
   ],
   "source": [
    "tmp_frm['row_sum'] = tmp_frm.sum(axis= 1)\n",
    "tmp_frm"
   ],
   "metadata": {
    "collapsed": false,
    "pycharm": {
     "name": "#%%\n"
    }
   }
  },
  {
   "cell_type": "code",
   "execution_count": 19,
   "outputs": [
    {
     "data": {
      "text/plain": "            0     1     2     3     4     5     6     7  row_sum\n0         9.0   7.0   3.0   3.0   8.0   1.0   5.0   7.0     43.0\n1         0.0   0.0   1.0   1.0   9.0   5.0   2.0   2.0     20.0\n2         5.0   4.0   9.0   7.0   9.0   0.0   8.0   8.0     50.0\n3         9.0   5.0   9.0   6.0   4.0   9.0   0.0   1.0     43.0\ncol_sum  23.0  16.0  22.0  17.0  30.0  15.0  15.0  18.0    156.0",
      "text/html": "<div>\n<style scoped>\n    .dataframe tbody tr th:only-of-type {\n        vertical-align: middle;\n    }\n\n    .dataframe tbody tr th {\n        vertical-align: top;\n    }\n\n    .dataframe thead th {\n        text-align: right;\n    }\n</style>\n<table border=\"1\" class=\"dataframe\">\n  <thead>\n    <tr style=\"text-align: right;\">\n      <th></th>\n      <th>0</th>\n      <th>1</th>\n      <th>2</th>\n      <th>3</th>\n      <th>4</th>\n      <th>5</th>\n      <th>6</th>\n      <th>7</th>\n      <th>row_sum</th>\n    </tr>\n  </thead>\n  <tbody>\n    <tr>\n      <th>0</th>\n      <td>9.0</td>\n      <td>7.0</td>\n      <td>3.0</td>\n      <td>3.0</td>\n      <td>8.0</td>\n      <td>1.0</td>\n      <td>5.0</td>\n      <td>7.0</td>\n      <td>43.0</td>\n    </tr>\n    <tr>\n      <th>1</th>\n      <td>0.0</td>\n      <td>0.0</td>\n      <td>1.0</td>\n      <td>1.0</td>\n      <td>9.0</td>\n      <td>5.0</td>\n      <td>2.0</td>\n      <td>2.0</td>\n      <td>20.0</td>\n    </tr>\n    <tr>\n      <th>2</th>\n      <td>5.0</td>\n      <td>4.0</td>\n      <td>9.0</td>\n      <td>7.0</td>\n      <td>9.0</td>\n      <td>0.0</td>\n      <td>8.0</td>\n      <td>8.0</td>\n      <td>50.0</td>\n    </tr>\n    <tr>\n      <th>3</th>\n      <td>9.0</td>\n      <td>5.0</td>\n      <td>9.0</td>\n      <td>6.0</td>\n      <td>4.0</td>\n      <td>9.0</td>\n      <td>0.0</td>\n      <td>1.0</td>\n      <td>43.0</td>\n    </tr>\n    <tr>\n      <th>col_sum</th>\n      <td>23.0</td>\n      <td>16.0</td>\n      <td>22.0</td>\n      <td>17.0</td>\n      <td>30.0</td>\n      <td>15.0</td>\n      <td>15.0</td>\n      <td>18.0</td>\n      <td>156.0</td>\n    </tr>\n  </tbody>\n</table>\n</div>"
     },
     "execution_count": 19,
     "metadata": {},
     "output_type": "execute_result"
    }
   ],
   "source": [
    "tmp_frm.loc['col_sum' , : ]  = tmp_frm.sum(axis = 0 )\n",
    "tmp_frm"
   ],
   "metadata": {
    "collapsed": false,
    "pycharm": {
     "name": "#%%\n"
    }
   }
  },
  {
   "cell_type": "code",
   "execution_count": 20,
   "outputs": [],
   "source": [
    "def get_square(a) :\n",
    "    return a ** 2"
   ],
   "metadata": {
    "collapsed": false,
    "pycharm": {
     "name": "#%%\n"
    }
   }
  },
  {
   "cell_type": "code",
   "execution_count": 21,
   "outputs": [
    {
     "name": "stdout",
     "output_type": "stream",
     "text": [
      " -  4\n"
     ]
    }
   ],
   "source": [
    "print(' - ' , get_square(2))"
   ],
   "metadata": {
    "collapsed": false,
    "pycharm": {
     "name": "#%%\n"
    }
   }
  },
  {
   "cell_type": "code",
   "execution_count": 22,
   "outputs": [
    {
     "name": "stdout",
     "output_type": "stream",
     "text": [
      "lambda - \n",
      " -  9\n"
     ]
    }
   ],
   "source": [
    "print('lambda - ')\n",
    "lambda_square = lambda a : a ** 2\n",
    "print(' - ' , lambda_square(3) )"
   ],
   "metadata": {
    "collapsed": false,
    "pycharm": {
     "name": "#%%\n"
    }
   }
  },
  {
   "cell_type": "code",
   "execution_count": 23,
   "outputs": [
    {
     "data": {
      "text/plain": "   0  1  2  3\n0  2  2  0  4\n1  0  0  1  7\n2  4  8  0  4\n3  9  1  1  8\n4  0  6  8  7\n5  7  7  1  8",
      "text/html": "<div>\n<style scoped>\n    .dataframe tbody tr th:only-of-type {\n        vertical-align: middle;\n    }\n\n    .dataframe tbody tr th {\n        vertical-align: top;\n    }\n\n    .dataframe thead th {\n        text-align: right;\n    }\n</style>\n<table border=\"1\" class=\"dataframe\">\n  <thead>\n    <tr style=\"text-align: right;\">\n      <th></th>\n      <th>0</th>\n      <th>1</th>\n      <th>2</th>\n      <th>3</th>\n    </tr>\n  </thead>\n  <tbody>\n    <tr>\n      <th>0</th>\n      <td>2</td>\n      <td>2</td>\n      <td>0</td>\n      <td>4</td>\n    </tr>\n    <tr>\n      <th>1</th>\n      <td>0</td>\n      <td>0</td>\n      <td>1</td>\n      <td>7</td>\n    </tr>\n    <tr>\n      <th>2</th>\n      <td>4</td>\n      <td>8</td>\n      <td>0</td>\n      <td>4</td>\n    </tr>\n    <tr>\n      <th>3</th>\n      <td>9</td>\n      <td>1</td>\n      <td>1</td>\n      <td>8</td>\n    </tr>\n    <tr>\n      <th>4</th>\n      <td>0</td>\n      <td>6</td>\n      <td>8</td>\n      <td>7</td>\n    </tr>\n    <tr>\n      <th>5</th>\n      <td>7</td>\n      <td>7</td>\n      <td>1</td>\n      <td>8</td>\n    </tr>\n  </tbody>\n</table>\n</div>"
     },
     "execution_count": 23,
     "metadata": {},
     "output_type": "execute_result"
    }
   ],
   "source": [
    "tmp_frm = pd.DataFrame( np.random.randint(10, size=(6,4)))\n",
    "tmp_frm"
   ],
   "metadata": {
    "collapsed": false,
    "pycharm": {
     "name": "#%%\n"
    }
   }
  },
  {
   "cell_type": "code",
   "execution_count": 24,
   "outputs": [
    {
     "data": {
      "text/plain": "            A  B  C  D\n2022-03-29  2  2  0  4\n2022-03-30  0  0  1  7\n2022-03-31  4  8  0  4\n2022-04-01  9  1  1  8\n2022-04-02  0  6  8  7\n2022-04-03  7  7  1  8",
      "text/html": "<div>\n<style scoped>\n    .dataframe tbody tr th:only-of-type {\n        vertical-align: middle;\n    }\n\n    .dataframe tbody tr th {\n        vertical-align: top;\n    }\n\n    .dataframe thead th {\n        text-align: right;\n    }\n</style>\n<table border=\"1\" class=\"dataframe\">\n  <thead>\n    <tr style=\"text-align: right;\">\n      <th></th>\n      <th>A</th>\n      <th>B</th>\n      <th>C</th>\n      <th>D</th>\n    </tr>\n  </thead>\n  <tbody>\n    <tr>\n      <th>2022-03-29</th>\n      <td>2</td>\n      <td>2</td>\n      <td>0</td>\n      <td>4</td>\n    </tr>\n    <tr>\n      <th>2022-03-30</th>\n      <td>0</td>\n      <td>0</td>\n      <td>1</td>\n      <td>7</td>\n    </tr>\n    <tr>\n      <th>2022-03-31</th>\n      <td>4</td>\n      <td>8</td>\n      <td>0</td>\n      <td>4</td>\n    </tr>\n    <tr>\n      <th>2022-04-01</th>\n      <td>9</td>\n      <td>1</td>\n      <td>1</td>\n      <td>8</td>\n    </tr>\n    <tr>\n      <th>2022-04-02</th>\n      <td>0</td>\n      <td>6</td>\n      <td>8</td>\n      <td>7</td>\n    </tr>\n    <tr>\n      <th>2022-04-03</th>\n      <td>7</td>\n      <td>7</td>\n      <td>1</td>\n      <td>8</td>\n    </tr>\n  </tbody>\n</table>\n</div>"
     },
     "execution_count": 24,
     "metadata": {},
     "output_type": "execute_result"
    }
   ],
   "source": [
    "tmp_frm.columns = ['A' , 'B' , 'C' , 'D' ]\n",
    "tmp_frm.index   = pd.date_range('20220329' , periods = 6)\n",
    "tmp_frm"
   ],
   "metadata": {
    "collapsed": false,
    "pycharm": {
     "name": "#%%\n"
    }
   }
  },
  {
   "cell_type": "code",
   "execution_count": 25,
   "outputs": [
    {
     "name": "stdout",
     "output_type": "stream",
     "text": [
      "각 행에 대해서 최대값 - 최소값을 구해서 새로운 열을 추가한다면? - \n",
      "lambda - \n"
     ]
    },
    {
     "data": {
      "text/plain": "            A  B  C  D  max - min\n2022-03-29  2  2  0  4          4\n2022-03-30  0  0  1  7          7\n2022-03-31  4  8  0  4          8\n2022-04-01  9  1  1  8          8\n2022-04-02  0  6  8  7          8\n2022-04-03  7  7  1  8          7",
      "text/html": "<div>\n<style scoped>\n    .dataframe tbody tr th:only-of-type {\n        vertical-align: middle;\n    }\n\n    .dataframe tbody tr th {\n        vertical-align: top;\n    }\n\n    .dataframe thead th {\n        text-align: right;\n    }\n</style>\n<table border=\"1\" class=\"dataframe\">\n  <thead>\n    <tr style=\"text-align: right;\">\n      <th></th>\n      <th>A</th>\n      <th>B</th>\n      <th>C</th>\n      <th>D</th>\n      <th>max - min</th>\n    </tr>\n  </thead>\n  <tbody>\n    <tr>\n      <th>2022-03-29</th>\n      <td>2</td>\n      <td>2</td>\n      <td>0</td>\n      <td>4</td>\n      <td>4</td>\n    </tr>\n    <tr>\n      <th>2022-03-30</th>\n      <td>0</td>\n      <td>0</td>\n      <td>1</td>\n      <td>7</td>\n      <td>7</td>\n    </tr>\n    <tr>\n      <th>2022-03-31</th>\n      <td>4</td>\n      <td>8</td>\n      <td>0</td>\n      <td>4</td>\n      <td>8</td>\n    </tr>\n    <tr>\n      <th>2022-04-01</th>\n      <td>9</td>\n      <td>1</td>\n      <td>1</td>\n      <td>8</td>\n      <td>8</td>\n    </tr>\n    <tr>\n      <th>2022-04-02</th>\n      <td>0</td>\n      <td>6</td>\n      <td>8</td>\n      <td>7</td>\n      <td>8</td>\n    </tr>\n    <tr>\n      <th>2022-04-03</th>\n      <td>7</td>\n      <td>7</td>\n      <td>1</td>\n      <td>8</td>\n      <td>7</td>\n    </tr>\n  </tbody>\n</table>\n</div>"
     },
     "execution_count": 25,
     "metadata": {},
     "output_type": "execute_result"
    }
   ],
   "source": [
    "print('각 행에 대해서 최대값 - 최소값을 구해서 새로운 열을 추가한다면? - ')\n",
    "print('lambda - ')\n",
    "\n",
    "tmp_frm['max - min'] = tmp_frm.apply(lambda frm : frm.max() - frm.min() , axis = 1)\n",
    "tmp_frm"
   ],
   "metadata": {
    "collapsed": false,
    "pycharm": {
     "name": "#%%\n"
    }
   }
  },
  {
   "cell_type": "code",
   "execution_count": 26,
   "outputs": [
    {
     "data": {
      "text/plain": "              A    B    C    D  max - min\n2022-03-29  2.0  2.0  0.0  4.0        4.0\n2022-03-30  0.0  0.0  1.0  7.0        7.0\n2022-03-31  4.0  8.0  0.0  4.0        8.0\n2022-04-01  9.0  1.0  1.0  8.0        8.0\n2022-04-02  0.0  6.0  8.0  7.0        8.0\n2022-04-03  7.0  7.0  1.0  8.0        7.0\n2022-04-04  9.0  8.0  8.0  4.0        4.0",
      "text/html": "<div>\n<style scoped>\n    .dataframe tbody tr th:only-of-type {\n        vertical-align: middle;\n    }\n\n    .dataframe tbody tr th {\n        vertical-align: top;\n    }\n\n    .dataframe thead th {\n        text-align: right;\n    }\n</style>\n<table border=\"1\" class=\"dataframe\">\n  <thead>\n    <tr style=\"text-align: right;\">\n      <th></th>\n      <th>A</th>\n      <th>B</th>\n      <th>C</th>\n      <th>D</th>\n      <th>max - min</th>\n    </tr>\n  </thead>\n  <tbody>\n    <tr>\n      <th>2022-03-29</th>\n      <td>2.0</td>\n      <td>2.0</td>\n      <td>0.0</td>\n      <td>4.0</td>\n      <td>4.0</td>\n    </tr>\n    <tr>\n      <th>2022-03-30</th>\n      <td>0.0</td>\n      <td>0.0</td>\n      <td>1.0</td>\n      <td>7.0</td>\n      <td>7.0</td>\n    </tr>\n    <tr>\n      <th>2022-03-31</th>\n      <td>4.0</td>\n      <td>8.0</td>\n      <td>0.0</td>\n      <td>4.0</td>\n      <td>8.0</td>\n    </tr>\n    <tr>\n      <th>2022-04-01</th>\n      <td>9.0</td>\n      <td>1.0</td>\n      <td>1.0</td>\n      <td>8.0</td>\n      <td>8.0</td>\n    </tr>\n    <tr>\n      <th>2022-04-02</th>\n      <td>0.0</td>\n      <td>6.0</td>\n      <td>8.0</td>\n      <td>7.0</td>\n      <td>8.0</td>\n    </tr>\n    <tr>\n      <th>2022-04-03</th>\n      <td>7.0</td>\n      <td>7.0</td>\n      <td>1.0</td>\n      <td>8.0</td>\n      <td>7.0</td>\n    </tr>\n    <tr>\n      <th>2022-04-04</th>\n      <td>9.0</td>\n      <td>8.0</td>\n      <td>8.0</td>\n      <td>4.0</td>\n      <td>4.0</td>\n    </tr>\n  </tbody>\n</table>\n</div>"
     },
     "execution_count": 26,
     "metadata": {},
     "output_type": "execute_result"
    }
   ],
   "source": [
    "tmp_frm.loc['2022-04-04' , : ] = tmp_frm.apply(lambda frm : frm.max() - frm.min() , axis = 0)\n",
    "tmp_frm"
   ],
   "metadata": {
    "collapsed": false,
    "pycharm": {
     "name": "#%%\n"
    }
   }
  },
  {
   "cell_type": "code",
   "execution_count": 27,
   "outputs": [
    {
     "data": {
      "text/plain": "   survived  pclass     sex   age  sibsp  parch     fare embarked  class  \\\n0         0       3    male  22.0      1      0   7.2500        S  Third   \n1         1       1  female  38.0      1      0  71.2833        C  First   \n2         1       3  female  26.0      0      0   7.9250        S  Third   \n3         1       1  female  35.0      1      0  53.1000        S  First   \n4         0       3    male  35.0      0      0   8.0500        S  Third   \n\n     who  adult_male deck  embark_town alive  alone  \n0    man        True  NaN  Southampton    no  False  \n1  woman       False    C    Cherbourg   yes  False  \n2  woman       False  NaN  Southampton   yes   True  \n3  woman       False    C  Southampton   yes  False  \n4    man        True  NaN  Southampton    no   True  ",
      "text/html": "<div>\n<style scoped>\n    .dataframe tbody tr th:only-of-type {\n        vertical-align: middle;\n    }\n\n    .dataframe tbody tr th {\n        vertical-align: top;\n    }\n\n    .dataframe thead th {\n        text-align: right;\n    }\n</style>\n<table border=\"1\" class=\"dataframe\">\n  <thead>\n    <tr style=\"text-align: right;\">\n      <th></th>\n      <th>survived</th>\n      <th>pclass</th>\n      <th>sex</th>\n      <th>age</th>\n      <th>sibsp</th>\n      <th>parch</th>\n      <th>fare</th>\n      <th>embarked</th>\n      <th>class</th>\n      <th>who</th>\n      <th>adult_male</th>\n      <th>deck</th>\n      <th>embark_town</th>\n      <th>alive</th>\n      <th>alone</th>\n    </tr>\n  </thead>\n  <tbody>\n    <tr>\n      <th>0</th>\n      <td>0</td>\n      <td>3</td>\n      <td>male</td>\n      <td>22.0</td>\n      <td>1</td>\n      <td>0</td>\n      <td>7.2500</td>\n      <td>S</td>\n      <td>Third</td>\n      <td>man</td>\n      <td>True</td>\n      <td>NaN</td>\n      <td>Southampton</td>\n      <td>no</td>\n      <td>False</td>\n    </tr>\n    <tr>\n      <th>1</th>\n      <td>1</td>\n      <td>1</td>\n      <td>female</td>\n      <td>38.0</td>\n      <td>1</td>\n      <td>0</td>\n      <td>71.2833</td>\n      <td>C</td>\n      <td>First</td>\n      <td>woman</td>\n      <td>False</td>\n      <td>C</td>\n      <td>Cherbourg</td>\n      <td>yes</td>\n      <td>False</td>\n    </tr>\n    <tr>\n      <th>2</th>\n      <td>1</td>\n      <td>3</td>\n      <td>female</td>\n      <td>26.0</td>\n      <td>0</td>\n      <td>0</td>\n      <td>7.9250</td>\n      <td>S</td>\n      <td>Third</td>\n      <td>woman</td>\n      <td>False</td>\n      <td>NaN</td>\n      <td>Southampton</td>\n      <td>yes</td>\n      <td>True</td>\n    </tr>\n    <tr>\n      <th>3</th>\n      <td>1</td>\n      <td>1</td>\n      <td>female</td>\n      <td>35.0</td>\n      <td>1</td>\n      <td>0</td>\n      <td>53.1000</td>\n      <td>S</td>\n      <td>First</td>\n      <td>woman</td>\n      <td>False</td>\n      <td>C</td>\n      <td>Southampton</td>\n      <td>yes</td>\n      <td>False</td>\n    </tr>\n    <tr>\n      <th>4</th>\n      <td>0</td>\n      <td>3</td>\n      <td>male</td>\n      <td>35.0</td>\n      <td>0</td>\n      <td>0</td>\n      <td>8.0500</td>\n      <td>S</td>\n      <td>Third</td>\n      <td>man</td>\n      <td>True</td>\n      <td>NaN</td>\n      <td>Southampton</td>\n      <td>no</td>\n      <td>True</td>\n    </tr>\n  </tbody>\n</table>\n</div>"
     },
     "execution_count": 27,
     "metadata": {},
     "output_type": "execute_result"
    }
   ],
   "source": [
    "datasets = sns.load_dataset('titanic')\n",
    "datasets.head()"
   ],
   "metadata": {
    "collapsed": false,
    "pycharm": {
     "name": "#%%\n"
    }
   }
  },
  {
   "cell_type": "code",
   "execution_count": 28,
   "outputs": [
    {
     "name": "stdout",
     "output_type": "stream",
     "text": [
      "age를 기준으로 성인과 미성년자를 구별하는 열을 추가한다면?\n",
      "adult/child - 20 >= 성인 \n",
      "apply lambda 활용해서 - \n"
     ]
    },
    {
     "data": {
      "text/plain": "     survived  pclass     sex   age  sibsp  parch     fare embarked   class  \\\n0           0       3    male  22.0      1      0   7.2500        S   Third   \n1           1       1  female  38.0      1      0  71.2833        C   First   \n2           1       3  female  26.0      0      0   7.9250        S   Third   \n3           1       1  female  35.0      1      0  53.1000        S   First   \n4           0       3    male  35.0      0      0   8.0500        S   Third   \n..        ...     ...     ...   ...    ...    ...      ...      ...     ...   \n886         0       2    male  27.0      0      0  13.0000        S  Second   \n887         1       1  female  19.0      0      0  30.0000        S   First   \n888         0       3  female   NaN      1      2  23.4500        S   Third   \n889         1       1    male  26.0      0      0  30.0000        C   First   \n890         0       3    male  32.0      0      0   7.7500        Q   Third   \n\n       who  adult_male deck  embark_town alive  alone adult/child  \n0      man        True  NaN  Southampton    no  False          성인  \n1    woman       False    C    Cherbourg   yes  False          성인  \n2    woman       False  NaN  Southampton   yes   True          성인  \n3    woman       False    C  Southampton   yes  False          성인  \n4      man        True  NaN  Southampton    no   True          성인  \n..     ...         ...  ...          ...   ...    ...         ...  \n886    man        True  NaN  Southampton    no   True          성인  \n887  woman       False    B  Southampton   yes   True        미성년자  \n888  woman       False  NaN  Southampton    no  False        미성년자  \n889    man        True    C    Cherbourg   yes   True          성인  \n890    man        True  NaN   Queenstown    no   True          성인  \n\n[891 rows x 16 columns]",
      "text/html": "<div>\n<style scoped>\n    .dataframe tbody tr th:only-of-type {\n        vertical-align: middle;\n    }\n\n    .dataframe tbody tr th {\n        vertical-align: top;\n    }\n\n    .dataframe thead th {\n        text-align: right;\n    }\n</style>\n<table border=\"1\" class=\"dataframe\">\n  <thead>\n    <tr style=\"text-align: right;\">\n      <th></th>\n      <th>survived</th>\n      <th>pclass</th>\n      <th>sex</th>\n      <th>age</th>\n      <th>sibsp</th>\n      <th>parch</th>\n      <th>fare</th>\n      <th>embarked</th>\n      <th>class</th>\n      <th>who</th>\n      <th>adult_male</th>\n      <th>deck</th>\n      <th>embark_town</th>\n      <th>alive</th>\n      <th>alone</th>\n      <th>adult/child</th>\n    </tr>\n  </thead>\n  <tbody>\n    <tr>\n      <th>0</th>\n      <td>0</td>\n      <td>3</td>\n      <td>male</td>\n      <td>22.0</td>\n      <td>1</td>\n      <td>0</td>\n      <td>7.2500</td>\n      <td>S</td>\n      <td>Third</td>\n      <td>man</td>\n      <td>True</td>\n      <td>NaN</td>\n      <td>Southampton</td>\n      <td>no</td>\n      <td>False</td>\n      <td>성인</td>\n    </tr>\n    <tr>\n      <th>1</th>\n      <td>1</td>\n      <td>1</td>\n      <td>female</td>\n      <td>38.0</td>\n      <td>1</td>\n      <td>0</td>\n      <td>71.2833</td>\n      <td>C</td>\n      <td>First</td>\n      <td>woman</td>\n      <td>False</td>\n      <td>C</td>\n      <td>Cherbourg</td>\n      <td>yes</td>\n      <td>False</td>\n      <td>성인</td>\n    </tr>\n    <tr>\n      <th>2</th>\n      <td>1</td>\n      <td>3</td>\n      <td>female</td>\n      <td>26.0</td>\n      <td>0</td>\n      <td>0</td>\n      <td>7.9250</td>\n      <td>S</td>\n      <td>Third</td>\n      <td>woman</td>\n      <td>False</td>\n      <td>NaN</td>\n      <td>Southampton</td>\n      <td>yes</td>\n      <td>True</td>\n      <td>성인</td>\n    </tr>\n    <tr>\n      <th>3</th>\n      <td>1</td>\n      <td>1</td>\n      <td>female</td>\n      <td>35.0</td>\n      <td>1</td>\n      <td>0</td>\n      <td>53.1000</td>\n      <td>S</td>\n      <td>First</td>\n      <td>woman</td>\n      <td>False</td>\n      <td>C</td>\n      <td>Southampton</td>\n      <td>yes</td>\n      <td>False</td>\n      <td>성인</td>\n    </tr>\n    <tr>\n      <th>4</th>\n      <td>0</td>\n      <td>3</td>\n      <td>male</td>\n      <td>35.0</td>\n      <td>0</td>\n      <td>0</td>\n      <td>8.0500</td>\n      <td>S</td>\n      <td>Third</td>\n      <td>man</td>\n      <td>True</td>\n      <td>NaN</td>\n      <td>Southampton</td>\n      <td>no</td>\n      <td>True</td>\n      <td>성인</td>\n    </tr>\n    <tr>\n      <th>...</th>\n      <td>...</td>\n      <td>...</td>\n      <td>...</td>\n      <td>...</td>\n      <td>...</td>\n      <td>...</td>\n      <td>...</td>\n      <td>...</td>\n      <td>...</td>\n      <td>...</td>\n      <td>...</td>\n      <td>...</td>\n      <td>...</td>\n      <td>...</td>\n      <td>...</td>\n      <td>...</td>\n    </tr>\n    <tr>\n      <th>886</th>\n      <td>0</td>\n      <td>2</td>\n      <td>male</td>\n      <td>27.0</td>\n      <td>0</td>\n      <td>0</td>\n      <td>13.0000</td>\n      <td>S</td>\n      <td>Second</td>\n      <td>man</td>\n      <td>True</td>\n      <td>NaN</td>\n      <td>Southampton</td>\n      <td>no</td>\n      <td>True</td>\n      <td>성인</td>\n    </tr>\n    <tr>\n      <th>887</th>\n      <td>1</td>\n      <td>1</td>\n      <td>female</td>\n      <td>19.0</td>\n      <td>0</td>\n      <td>0</td>\n      <td>30.0000</td>\n      <td>S</td>\n      <td>First</td>\n      <td>woman</td>\n      <td>False</td>\n      <td>B</td>\n      <td>Southampton</td>\n      <td>yes</td>\n      <td>True</td>\n      <td>미성년자</td>\n    </tr>\n    <tr>\n      <th>888</th>\n      <td>0</td>\n      <td>3</td>\n      <td>female</td>\n      <td>NaN</td>\n      <td>1</td>\n      <td>2</td>\n      <td>23.4500</td>\n      <td>S</td>\n      <td>Third</td>\n      <td>woman</td>\n      <td>False</td>\n      <td>NaN</td>\n      <td>Southampton</td>\n      <td>no</td>\n      <td>False</td>\n      <td>미성년자</td>\n    </tr>\n    <tr>\n      <th>889</th>\n      <td>1</td>\n      <td>1</td>\n      <td>male</td>\n      <td>26.0</td>\n      <td>0</td>\n      <td>0</td>\n      <td>30.0000</td>\n      <td>C</td>\n      <td>First</td>\n      <td>man</td>\n      <td>True</td>\n      <td>C</td>\n      <td>Cherbourg</td>\n      <td>yes</td>\n      <td>True</td>\n      <td>성인</td>\n    </tr>\n    <tr>\n      <th>890</th>\n      <td>0</td>\n      <td>3</td>\n      <td>male</td>\n      <td>32.0</td>\n      <td>0</td>\n      <td>0</td>\n      <td>7.7500</td>\n      <td>Q</td>\n      <td>Third</td>\n      <td>man</td>\n      <td>True</td>\n      <td>NaN</td>\n      <td>Queenstown</td>\n      <td>no</td>\n      <td>True</td>\n      <td>성인</td>\n    </tr>\n  </tbody>\n</table>\n<p>891 rows × 16 columns</p>\n</div>"
     },
     "execution_count": 28,
     "metadata": {},
     "output_type": "execute_result"
    }
   ],
   "source": [
    "print('age를 기준으로 성인과 미성년자를 구별하는 열을 추가한다면?')\n",
    "print('adult/child - 20 >= 성인 ')\n",
    "print('apply lambda 활용해서 - ')\n",
    "'''\n",
    "lambda 인수 : 실행문\n",
    "lambda frm  : True if 조건 else False\n",
    "'''\n",
    "datasets['adult/child'] = datasets.apply(lambda frm : '성인' if (frm['age'] >= 20) else '미성년자' , axis = 1)\n",
    "datasets\n"
   ],
   "metadata": {
    "collapsed": false,
    "pycharm": {
     "name": "#%%\n"
    }
   }
  },
  {
   "cell_type": "code",
   "execution_count": 29,
   "outputs": [
    {
     "name": "stdout",
     "output_type": "stream",
     "text": [
      "category 열 추가하고 싶다 - \n",
      "age를 기준으로 20살이 넘으면 성별을 그대로 사용하고 그렇지 않으면 성별에 상관없이 미성년자로 - \n"
     ]
    },
    {
     "data": {
      "text/plain": "     survived  pclass     sex   age  sibsp  parch     fare embarked   class  \\\n0           0       3    male  22.0      1      0   7.2500        S   Third   \n1           1       1  female  38.0      1      0  71.2833        C   First   \n2           1       3  female  26.0      0      0   7.9250        S   Third   \n3           1       1  female  35.0      1      0  53.1000        S   First   \n4           0       3    male  35.0      0      0   8.0500        S   Third   \n..        ...     ...     ...   ...    ...    ...      ...      ...     ...   \n886         0       2    male  27.0      0      0  13.0000        S  Second   \n887         1       1  female  19.0      0      0  30.0000        S   First   \n888         0       3  female   NaN      1      2  23.4500        S   Third   \n889         1       1    male  26.0      0      0  30.0000        C   First   \n890         0       3    male  32.0      0      0   7.7500        Q   Third   \n\n       who  adult_male deck  embark_town alive  alone adult/child category  \n0      man        True  NaN  Southampton    no  False          성인     male  \n1    woman       False    C    Cherbourg   yes  False          성인   female  \n2    woman       False  NaN  Southampton   yes   True          성인   female  \n3    woman       False    C  Southampton   yes  False          성인   female  \n4      man        True  NaN  Southampton    no   True          성인     male  \n..     ...         ...  ...          ...   ...    ...         ...      ...  \n886    man        True  NaN  Southampton    no   True          성인     male  \n887  woman       False    B  Southampton   yes   True        미성년자     미성년자  \n888  woman       False  NaN  Southampton    no  False        미성년자     미성년자  \n889    man        True    C    Cherbourg   yes   True          성인     male  \n890    man        True  NaN   Queenstown    no   True          성인     male  \n\n[891 rows x 17 columns]",
      "text/html": "<div>\n<style scoped>\n    .dataframe tbody tr th:only-of-type {\n        vertical-align: middle;\n    }\n\n    .dataframe tbody tr th {\n        vertical-align: top;\n    }\n\n    .dataframe thead th {\n        text-align: right;\n    }\n</style>\n<table border=\"1\" class=\"dataframe\">\n  <thead>\n    <tr style=\"text-align: right;\">\n      <th></th>\n      <th>survived</th>\n      <th>pclass</th>\n      <th>sex</th>\n      <th>age</th>\n      <th>sibsp</th>\n      <th>parch</th>\n      <th>fare</th>\n      <th>embarked</th>\n      <th>class</th>\n      <th>who</th>\n      <th>adult_male</th>\n      <th>deck</th>\n      <th>embark_town</th>\n      <th>alive</th>\n      <th>alone</th>\n      <th>adult/child</th>\n      <th>category</th>\n    </tr>\n  </thead>\n  <tbody>\n    <tr>\n      <th>0</th>\n      <td>0</td>\n      <td>3</td>\n      <td>male</td>\n      <td>22.0</td>\n      <td>1</td>\n      <td>0</td>\n      <td>7.2500</td>\n      <td>S</td>\n      <td>Third</td>\n      <td>man</td>\n      <td>True</td>\n      <td>NaN</td>\n      <td>Southampton</td>\n      <td>no</td>\n      <td>False</td>\n      <td>성인</td>\n      <td>male</td>\n    </tr>\n    <tr>\n      <th>1</th>\n      <td>1</td>\n      <td>1</td>\n      <td>female</td>\n      <td>38.0</td>\n      <td>1</td>\n      <td>0</td>\n      <td>71.2833</td>\n      <td>C</td>\n      <td>First</td>\n      <td>woman</td>\n      <td>False</td>\n      <td>C</td>\n      <td>Cherbourg</td>\n      <td>yes</td>\n      <td>False</td>\n      <td>성인</td>\n      <td>female</td>\n    </tr>\n    <tr>\n      <th>2</th>\n      <td>1</td>\n      <td>3</td>\n      <td>female</td>\n      <td>26.0</td>\n      <td>0</td>\n      <td>0</td>\n      <td>7.9250</td>\n      <td>S</td>\n      <td>Third</td>\n      <td>woman</td>\n      <td>False</td>\n      <td>NaN</td>\n      <td>Southampton</td>\n      <td>yes</td>\n      <td>True</td>\n      <td>성인</td>\n      <td>female</td>\n    </tr>\n    <tr>\n      <th>3</th>\n      <td>1</td>\n      <td>1</td>\n      <td>female</td>\n      <td>35.0</td>\n      <td>1</td>\n      <td>0</td>\n      <td>53.1000</td>\n      <td>S</td>\n      <td>First</td>\n      <td>woman</td>\n      <td>False</td>\n      <td>C</td>\n      <td>Southampton</td>\n      <td>yes</td>\n      <td>False</td>\n      <td>성인</td>\n      <td>female</td>\n    </tr>\n    <tr>\n      <th>4</th>\n      <td>0</td>\n      <td>3</td>\n      <td>male</td>\n      <td>35.0</td>\n      <td>0</td>\n      <td>0</td>\n      <td>8.0500</td>\n      <td>S</td>\n      <td>Third</td>\n      <td>man</td>\n      <td>True</td>\n      <td>NaN</td>\n      <td>Southampton</td>\n      <td>no</td>\n      <td>True</td>\n      <td>성인</td>\n      <td>male</td>\n    </tr>\n    <tr>\n      <th>...</th>\n      <td>...</td>\n      <td>...</td>\n      <td>...</td>\n      <td>...</td>\n      <td>...</td>\n      <td>...</td>\n      <td>...</td>\n      <td>...</td>\n      <td>...</td>\n      <td>...</td>\n      <td>...</td>\n      <td>...</td>\n      <td>...</td>\n      <td>...</td>\n      <td>...</td>\n      <td>...</td>\n      <td>...</td>\n    </tr>\n    <tr>\n      <th>886</th>\n      <td>0</td>\n      <td>2</td>\n      <td>male</td>\n      <td>27.0</td>\n      <td>0</td>\n      <td>0</td>\n      <td>13.0000</td>\n      <td>S</td>\n      <td>Second</td>\n      <td>man</td>\n      <td>True</td>\n      <td>NaN</td>\n      <td>Southampton</td>\n      <td>no</td>\n      <td>True</td>\n      <td>성인</td>\n      <td>male</td>\n    </tr>\n    <tr>\n      <th>887</th>\n      <td>1</td>\n      <td>1</td>\n      <td>female</td>\n      <td>19.0</td>\n      <td>0</td>\n      <td>0</td>\n      <td>30.0000</td>\n      <td>S</td>\n      <td>First</td>\n      <td>woman</td>\n      <td>False</td>\n      <td>B</td>\n      <td>Southampton</td>\n      <td>yes</td>\n      <td>True</td>\n      <td>미성년자</td>\n      <td>미성년자</td>\n    </tr>\n    <tr>\n      <th>888</th>\n      <td>0</td>\n      <td>3</td>\n      <td>female</td>\n      <td>NaN</td>\n      <td>1</td>\n      <td>2</td>\n      <td>23.4500</td>\n      <td>S</td>\n      <td>Third</td>\n      <td>woman</td>\n      <td>False</td>\n      <td>NaN</td>\n      <td>Southampton</td>\n      <td>no</td>\n      <td>False</td>\n      <td>미성년자</td>\n      <td>미성년자</td>\n    </tr>\n    <tr>\n      <th>889</th>\n      <td>1</td>\n      <td>1</td>\n      <td>male</td>\n      <td>26.0</td>\n      <td>0</td>\n      <td>0</td>\n      <td>30.0000</td>\n      <td>C</td>\n      <td>First</td>\n      <td>man</td>\n      <td>True</td>\n      <td>C</td>\n      <td>Cherbourg</td>\n      <td>yes</td>\n      <td>True</td>\n      <td>성인</td>\n      <td>male</td>\n    </tr>\n    <tr>\n      <th>890</th>\n      <td>0</td>\n      <td>3</td>\n      <td>male</td>\n      <td>32.0</td>\n      <td>0</td>\n      <td>0</td>\n      <td>7.7500</td>\n      <td>Q</td>\n      <td>Third</td>\n      <td>man</td>\n      <td>True</td>\n      <td>NaN</td>\n      <td>Queenstown</td>\n      <td>no</td>\n      <td>True</td>\n      <td>성인</td>\n      <td>male</td>\n    </tr>\n  </tbody>\n</table>\n<p>891 rows × 17 columns</p>\n</div>"
     },
     "execution_count": 29,
     "metadata": {},
     "output_type": "execute_result"
    }
   ],
   "source": [
    "print('category 열 추가하고 싶다 - ')\n",
    "print('age를 기준으로 20살이 넘으면 성별을 그대로 사용하고 그렇지 않으면 성별에 상관없이 미성년자로 - ')\n",
    "datasets['category'] = datasets.apply(lambda frm: frm['sex'] if (frm['age']>=20) else '미성년자', axis =1)\n",
    "datasets\n"
   ],
   "metadata": {
    "collapsed": false,
    "pycharm": {
     "name": "#%%\n"
    }
   }
  },
  {
   "cell_type": "code",
   "execution_count": 30,
   "outputs": [
    {
     "name": "stdout",
     "output_type": "stream",
     "text": [
      "category 열 추가하고 싶다 - \n",
      "age를 기준으로 20살이 넘으면 성별을 그대로 사용하고 그렇지 않으면 성별에 상관없이 미성년자로 - \n"
     ]
    },
    {
     "data": {
      "text/plain": "     survived  pclass     sex   age  sibsp  parch     fare embarked   class  \\\n0           0       3    male  22.0      1      0   7.2500        S   Third   \n1           1       1  female  38.0      1      0  71.2833        C   First   \n2           1       3  female  26.0      0      0   7.9250        S   Third   \n3           1       1  female  35.0      1      0  53.1000        S   First   \n4           0       3    male  35.0      0      0   8.0500        S   Third   \n..        ...     ...     ...   ...    ...    ...      ...      ...     ...   \n886         0       2    male  27.0      0      0  13.0000        S  Second   \n887         1       1  female  19.0      0      0  30.0000        S   First   \n888         0       3  female   NaN      1      2  23.4500        S   Third   \n889         1       1    male  26.0      0      0  30.0000        C   First   \n890         0       3    male  32.0      0      0   7.7500        Q   Third   \n\n       who  adult_male deck  embark_town alive  alone adult/child category  \n0      man        True  NaN  Southampton    no  False          성인     male  \n1    woman       False    C    Cherbourg   yes  False          성인   female  \n2    woman       False  NaN  Southampton   yes   True          성인   female  \n3    woman       False    C  Southampton   yes  False          성인   female  \n4      man        True  NaN  Southampton    no   True          성인     male  \n..     ...         ...  ...          ...   ...    ...         ...      ...  \n886    man        True  NaN  Southampton    no   True          성인     male  \n887  woman       False    B  Southampton   yes   True        미성년자     미성년자  \n888  woman       False  NaN  Southampton    no  False        미성년자     미성년자  \n889    man        True    C    Cherbourg   yes   True          성인     male  \n890    man        True  NaN   Queenstown    no   True          성인     male  \n\n[891 rows x 17 columns]",
      "text/html": "<div>\n<style scoped>\n    .dataframe tbody tr th:only-of-type {\n        vertical-align: middle;\n    }\n\n    .dataframe tbody tr th {\n        vertical-align: top;\n    }\n\n    .dataframe thead th {\n        text-align: right;\n    }\n</style>\n<table border=\"1\" class=\"dataframe\">\n  <thead>\n    <tr style=\"text-align: right;\">\n      <th></th>\n      <th>survived</th>\n      <th>pclass</th>\n      <th>sex</th>\n      <th>age</th>\n      <th>sibsp</th>\n      <th>parch</th>\n      <th>fare</th>\n      <th>embarked</th>\n      <th>class</th>\n      <th>who</th>\n      <th>adult_male</th>\n      <th>deck</th>\n      <th>embark_town</th>\n      <th>alive</th>\n      <th>alone</th>\n      <th>adult/child</th>\n      <th>category</th>\n    </tr>\n  </thead>\n  <tbody>\n    <tr>\n      <th>0</th>\n      <td>0</td>\n      <td>3</td>\n      <td>male</td>\n      <td>22.0</td>\n      <td>1</td>\n      <td>0</td>\n      <td>7.2500</td>\n      <td>S</td>\n      <td>Third</td>\n      <td>man</td>\n      <td>True</td>\n      <td>NaN</td>\n      <td>Southampton</td>\n      <td>no</td>\n      <td>False</td>\n      <td>성인</td>\n      <td>male</td>\n    </tr>\n    <tr>\n      <th>1</th>\n      <td>1</td>\n      <td>1</td>\n      <td>female</td>\n      <td>38.0</td>\n      <td>1</td>\n      <td>0</td>\n      <td>71.2833</td>\n      <td>C</td>\n      <td>First</td>\n      <td>woman</td>\n      <td>False</td>\n      <td>C</td>\n      <td>Cherbourg</td>\n      <td>yes</td>\n      <td>False</td>\n      <td>성인</td>\n      <td>female</td>\n    </tr>\n    <tr>\n      <th>2</th>\n      <td>1</td>\n      <td>3</td>\n      <td>female</td>\n      <td>26.0</td>\n      <td>0</td>\n      <td>0</td>\n      <td>7.9250</td>\n      <td>S</td>\n      <td>Third</td>\n      <td>woman</td>\n      <td>False</td>\n      <td>NaN</td>\n      <td>Southampton</td>\n      <td>yes</td>\n      <td>True</td>\n      <td>성인</td>\n      <td>female</td>\n    </tr>\n    <tr>\n      <th>3</th>\n      <td>1</td>\n      <td>1</td>\n      <td>female</td>\n      <td>35.0</td>\n      <td>1</td>\n      <td>0</td>\n      <td>53.1000</td>\n      <td>S</td>\n      <td>First</td>\n      <td>woman</td>\n      <td>False</td>\n      <td>C</td>\n      <td>Southampton</td>\n      <td>yes</td>\n      <td>False</td>\n      <td>성인</td>\n      <td>female</td>\n    </tr>\n    <tr>\n      <th>4</th>\n      <td>0</td>\n      <td>3</td>\n      <td>male</td>\n      <td>35.0</td>\n      <td>0</td>\n      <td>0</td>\n      <td>8.0500</td>\n      <td>S</td>\n      <td>Third</td>\n      <td>man</td>\n      <td>True</td>\n      <td>NaN</td>\n      <td>Southampton</td>\n      <td>no</td>\n      <td>True</td>\n      <td>성인</td>\n      <td>male</td>\n    </tr>\n    <tr>\n      <th>...</th>\n      <td>...</td>\n      <td>...</td>\n      <td>...</td>\n      <td>...</td>\n      <td>...</td>\n      <td>...</td>\n      <td>...</td>\n      <td>...</td>\n      <td>...</td>\n      <td>...</td>\n      <td>...</td>\n      <td>...</td>\n      <td>...</td>\n      <td>...</td>\n      <td>...</td>\n      <td>...</td>\n      <td>...</td>\n    </tr>\n    <tr>\n      <th>886</th>\n      <td>0</td>\n      <td>2</td>\n      <td>male</td>\n      <td>27.0</td>\n      <td>0</td>\n      <td>0</td>\n      <td>13.0000</td>\n      <td>S</td>\n      <td>Second</td>\n      <td>man</td>\n      <td>True</td>\n      <td>NaN</td>\n      <td>Southampton</td>\n      <td>no</td>\n      <td>True</td>\n      <td>성인</td>\n      <td>male</td>\n    </tr>\n    <tr>\n      <th>887</th>\n      <td>1</td>\n      <td>1</td>\n      <td>female</td>\n      <td>19.0</td>\n      <td>0</td>\n      <td>0</td>\n      <td>30.0000</td>\n      <td>S</td>\n      <td>First</td>\n      <td>woman</td>\n      <td>False</td>\n      <td>B</td>\n      <td>Southampton</td>\n      <td>yes</td>\n      <td>True</td>\n      <td>미성년자</td>\n      <td>미성년자</td>\n    </tr>\n    <tr>\n      <th>888</th>\n      <td>0</td>\n      <td>3</td>\n      <td>female</td>\n      <td>NaN</td>\n      <td>1</td>\n      <td>2</td>\n      <td>23.4500</td>\n      <td>S</td>\n      <td>Third</td>\n      <td>woman</td>\n      <td>False</td>\n      <td>NaN</td>\n      <td>Southampton</td>\n      <td>no</td>\n      <td>False</td>\n      <td>미성년자</td>\n      <td>미성년자</td>\n    </tr>\n    <tr>\n      <th>889</th>\n      <td>1</td>\n      <td>1</td>\n      <td>male</td>\n      <td>26.0</td>\n      <td>0</td>\n      <td>0</td>\n      <td>30.0000</td>\n      <td>C</td>\n      <td>First</td>\n      <td>man</td>\n      <td>True</td>\n      <td>C</td>\n      <td>Cherbourg</td>\n      <td>yes</td>\n      <td>True</td>\n      <td>성인</td>\n      <td>male</td>\n    </tr>\n    <tr>\n      <th>890</th>\n      <td>0</td>\n      <td>3</td>\n      <td>male</td>\n      <td>32.0</td>\n      <td>0</td>\n      <td>0</td>\n      <td>7.7500</td>\n      <td>Q</td>\n      <td>Third</td>\n      <td>man</td>\n      <td>True</td>\n      <td>NaN</td>\n      <td>Queenstown</td>\n      <td>no</td>\n      <td>True</td>\n      <td>성인</td>\n      <td>male</td>\n    </tr>\n  </tbody>\n</table>\n<p>891 rows × 17 columns</p>\n</div>"
     },
     "execution_count": 30,
     "metadata": {},
     "output_type": "execute_result"
    }
   ],
   "source": [
    "print('category 열 추가하고 싶다 - ')\n",
    "print('age를 기준으로 20살이 넘으면 성별을 그대로 사용하고 그렇지 않으면 성별에 상관없이 미성년자로 - ')\n",
    "datasets['category'] = datasets.apply(lambda frm: frm['sex'] if (frm['age']>=20) else '미성년자', axis =1)\n",
    "datasets"
   ],
   "metadata": {
    "collapsed": false,
    "pycharm": {
     "name": "#%%\n"
    }
   }
  },
  {
   "cell_type": "code",
   "execution_count": 31,
   "outputs": [
    {
     "name": "stdout",
     "output_type": "stream",
     "text": [
      "embark_town의 문자열 갯수를 별도의 컬럼인 embark_len 으로 추가하고 싶다면? - \n"
     ]
    },
    {
     "data": {
      "text/plain": "     survived  pclass     sex   age  sibsp  parch     fare embarked   class  \\\n0           0       3    male  22.0      1      0   7.2500        S   Third   \n1           1       1  female  38.0      1      0  71.2833        C   First   \n2           1       3  female  26.0      0      0   7.9250        S   Third   \n3           1       1  female  35.0      1      0  53.1000        S   First   \n4           0       3    male  35.0      0      0   8.0500        S   Third   \n..        ...     ...     ...   ...    ...    ...      ...      ...     ...   \n886         0       2    male  27.0      0      0  13.0000        S  Second   \n887         1       1  female  19.0      0      0  30.0000        S   First   \n888         0       3  female   NaN      1      2  23.4500        S   Third   \n889         1       1    male  26.0      0      0  30.0000        C   First   \n890         0       3    male  32.0      0      0   7.7500        Q   Third   \n\n       who  adult_male deck  embark_town alive  alone adult/child category  \\\n0      man        True  NaN  Southampton    no  False          성인     male   \n1    woman       False    C    Cherbourg   yes  False          성인   female   \n2    woman       False  NaN  Southampton   yes   True          성인   female   \n3    woman       False    C  Southampton   yes  False          성인   female   \n4      man        True  NaN  Southampton    no   True          성인     male   \n..     ...         ...  ...          ...   ...    ...         ...      ...   \n886    man        True  NaN  Southampton    no   True          성인     male   \n887  woman       False    B  Southampton   yes   True        미성년자     미성년자   \n888  woman       False  NaN  Southampton    no  False        미성년자     미성년자   \n889    man        True    C    Cherbourg   yes   True          성인     male   \n890    man        True  NaN   Queenstown    no   True          성인     male   \n\n     embark_len  \n0            11  \n1             9  \n2            11  \n3            11  \n4            11  \n..          ...  \n886          11  \n887          11  \n888          11  \n889           9  \n890          10  \n\n[891 rows x 18 columns]",
      "text/html": "<div>\n<style scoped>\n    .dataframe tbody tr th:only-of-type {\n        vertical-align: middle;\n    }\n\n    .dataframe tbody tr th {\n        vertical-align: top;\n    }\n\n    .dataframe thead th {\n        text-align: right;\n    }\n</style>\n<table border=\"1\" class=\"dataframe\">\n  <thead>\n    <tr style=\"text-align: right;\">\n      <th></th>\n      <th>survived</th>\n      <th>pclass</th>\n      <th>sex</th>\n      <th>age</th>\n      <th>sibsp</th>\n      <th>parch</th>\n      <th>fare</th>\n      <th>embarked</th>\n      <th>class</th>\n      <th>who</th>\n      <th>adult_male</th>\n      <th>deck</th>\n      <th>embark_town</th>\n      <th>alive</th>\n      <th>alone</th>\n      <th>adult/child</th>\n      <th>category</th>\n      <th>embark_len</th>\n    </tr>\n  </thead>\n  <tbody>\n    <tr>\n      <th>0</th>\n      <td>0</td>\n      <td>3</td>\n      <td>male</td>\n      <td>22.0</td>\n      <td>1</td>\n      <td>0</td>\n      <td>7.2500</td>\n      <td>S</td>\n      <td>Third</td>\n      <td>man</td>\n      <td>True</td>\n      <td>NaN</td>\n      <td>Southampton</td>\n      <td>no</td>\n      <td>False</td>\n      <td>성인</td>\n      <td>male</td>\n      <td>11</td>\n    </tr>\n    <tr>\n      <th>1</th>\n      <td>1</td>\n      <td>1</td>\n      <td>female</td>\n      <td>38.0</td>\n      <td>1</td>\n      <td>0</td>\n      <td>71.2833</td>\n      <td>C</td>\n      <td>First</td>\n      <td>woman</td>\n      <td>False</td>\n      <td>C</td>\n      <td>Cherbourg</td>\n      <td>yes</td>\n      <td>False</td>\n      <td>성인</td>\n      <td>female</td>\n      <td>9</td>\n    </tr>\n    <tr>\n      <th>2</th>\n      <td>1</td>\n      <td>3</td>\n      <td>female</td>\n      <td>26.0</td>\n      <td>0</td>\n      <td>0</td>\n      <td>7.9250</td>\n      <td>S</td>\n      <td>Third</td>\n      <td>woman</td>\n      <td>False</td>\n      <td>NaN</td>\n      <td>Southampton</td>\n      <td>yes</td>\n      <td>True</td>\n      <td>성인</td>\n      <td>female</td>\n      <td>11</td>\n    </tr>\n    <tr>\n      <th>3</th>\n      <td>1</td>\n      <td>1</td>\n      <td>female</td>\n      <td>35.0</td>\n      <td>1</td>\n      <td>0</td>\n      <td>53.1000</td>\n      <td>S</td>\n      <td>First</td>\n      <td>woman</td>\n      <td>False</td>\n      <td>C</td>\n      <td>Southampton</td>\n      <td>yes</td>\n      <td>False</td>\n      <td>성인</td>\n      <td>female</td>\n      <td>11</td>\n    </tr>\n    <tr>\n      <th>4</th>\n      <td>0</td>\n      <td>3</td>\n      <td>male</td>\n      <td>35.0</td>\n      <td>0</td>\n      <td>0</td>\n      <td>8.0500</td>\n      <td>S</td>\n      <td>Third</td>\n      <td>man</td>\n      <td>True</td>\n      <td>NaN</td>\n      <td>Southampton</td>\n      <td>no</td>\n      <td>True</td>\n      <td>성인</td>\n      <td>male</td>\n      <td>11</td>\n    </tr>\n    <tr>\n      <th>...</th>\n      <td>...</td>\n      <td>...</td>\n      <td>...</td>\n      <td>...</td>\n      <td>...</td>\n      <td>...</td>\n      <td>...</td>\n      <td>...</td>\n      <td>...</td>\n      <td>...</td>\n      <td>...</td>\n      <td>...</td>\n      <td>...</td>\n      <td>...</td>\n      <td>...</td>\n      <td>...</td>\n      <td>...</td>\n      <td>...</td>\n    </tr>\n    <tr>\n      <th>886</th>\n      <td>0</td>\n      <td>2</td>\n      <td>male</td>\n      <td>27.0</td>\n      <td>0</td>\n      <td>0</td>\n      <td>13.0000</td>\n      <td>S</td>\n      <td>Second</td>\n      <td>man</td>\n      <td>True</td>\n      <td>NaN</td>\n      <td>Southampton</td>\n      <td>no</td>\n      <td>True</td>\n      <td>성인</td>\n      <td>male</td>\n      <td>11</td>\n    </tr>\n    <tr>\n      <th>887</th>\n      <td>1</td>\n      <td>1</td>\n      <td>female</td>\n      <td>19.0</td>\n      <td>0</td>\n      <td>0</td>\n      <td>30.0000</td>\n      <td>S</td>\n      <td>First</td>\n      <td>woman</td>\n      <td>False</td>\n      <td>B</td>\n      <td>Southampton</td>\n      <td>yes</td>\n      <td>True</td>\n      <td>미성년자</td>\n      <td>미성년자</td>\n      <td>11</td>\n    </tr>\n    <tr>\n      <th>888</th>\n      <td>0</td>\n      <td>3</td>\n      <td>female</td>\n      <td>NaN</td>\n      <td>1</td>\n      <td>2</td>\n      <td>23.4500</td>\n      <td>S</td>\n      <td>Third</td>\n      <td>woman</td>\n      <td>False</td>\n      <td>NaN</td>\n      <td>Southampton</td>\n      <td>no</td>\n      <td>False</td>\n      <td>미성년자</td>\n      <td>미성년자</td>\n      <td>11</td>\n    </tr>\n    <tr>\n      <th>889</th>\n      <td>1</td>\n      <td>1</td>\n      <td>male</td>\n      <td>26.0</td>\n      <td>0</td>\n      <td>0</td>\n      <td>30.0000</td>\n      <td>C</td>\n      <td>First</td>\n      <td>man</td>\n      <td>True</td>\n      <td>C</td>\n      <td>Cherbourg</td>\n      <td>yes</td>\n      <td>True</td>\n      <td>성인</td>\n      <td>male</td>\n      <td>9</td>\n    </tr>\n    <tr>\n      <th>890</th>\n      <td>0</td>\n      <td>3</td>\n      <td>male</td>\n      <td>32.0</td>\n      <td>0</td>\n      <td>0</td>\n      <td>7.7500</td>\n      <td>Q</td>\n      <td>Third</td>\n      <td>man</td>\n      <td>True</td>\n      <td>NaN</td>\n      <td>Queenstown</td>\n      <td>no</td>\n      <td>True</td>\n      <td>성인</td>\n      <td>male</td>\n      <td>10</td>\n    </tr>\n  </tbody>\n</table>\n<p>891 rows × 18 columns</p>\n</div>"
     },
     "execution_count": 31,
     "metadata": {},
     "output_type": "execute_result"
    }
   ],
   "source": [
    "print('embark_town의 문자열 갯수를 별도의 컬럼인 embark_len 으로 추가하고 싶다면? - ')\n",
    "# datasets['embark_len'] = datasets.apply(lambda frm : len(str( frm['embark_town']) ) , axis =1)\n",
    "# datasets\n",
    "\n",
    "datasets['embark_len'] = datasets['embark_town'].apply(lambda frm : len( str( frm ) ))\n",
    "datasets\n"
   ],
   "metadata": {
    "collapsed": false,
    "pycharm": {
     "name": "#%%\n"
    }
   }
  },
  {
   "cell_type": "code",
   "execution_count": 32,
   "outputs": [
    {
     "name": "stdout",
     "output_type": "stream",
     "text": [
      "<class 'pandas.core.frame.DataFrame'>\n",
      "RangeIndex: 891 entries, 0 to 890\n",
      "Data columns (total 18 columns):\n",
      " #   Column       Non-Null Count  Dtype   \n",
      "---  ------       --------------  -----   \n",
      " 0   survived     891 non-null    int64   \n",
      " 1   pclass       891 non-null    int64   \n",
      " 2   sex          891 non-null    object  \n",
      " 3   age          714 non-null    float64 \n",
      " 4   sibsp        891 non-null    int64   \n",
      " 5   parch        891 non-null    int64   \n",
      " 6   fare         891 non-null    float64 \n",
      " 7   embarked     889 non-null    object  \n",
      " 8   class        891 non-null    category\n",
      " 9   who          891 non-null    object  \n",
      " 10  adult_male   891 non-null    bool    \n",
      " 11  deck         203 non-null    category\n",
      " 12  embark_town  889 non-null    object  \n",
      " 13  alive        891 non-null    object  \n",
      " 14  alone        891 non-null    bool    \n",
      " 15  adult/child  891 non-null    object  \n",
      " 16  category     891 non-null    object  \n",
      " 17  embark_len   891 non-null    int64   \n",
      "dtypes: bool(2), category(2), float64(2), int64(5), object(7)\n",
      "memory usage: 101.5+ KB\n"
     ]
    }
   ],
   "source": [
    "datasets.info()"
   ],
   "metadata": {
    "collapsed": false,
    "pycharm": {
     "name": "#%%\n"
    }
   }
  },
  {
   "cell_type": "code",
   "execution_count": 33,
   "outputs": [
    {
     "data": {
      "text/plain": "              A  B    C  D\n2022-03-29  8.0  2  5.0  4\n2022-03-30  6.0  2  NaN  2\n2022-03-31  8.0  7  9.0  7\n2022-04-01  NaN  0  7.0  3\n2022-04-02  1.0  4  2.0  4\n2022-04-03  0.0  2  3.0  7",
      "text/html": "<div>\n<style scoped>\n    .dataframe tbody tr th:only-of-type {\n        vertical-align: middle;\n    }\n\n    .dataframe tbody tr th {\n        vertical-align: top;\n    }\n\n    .dataframe thead th {\n        text-align: right;\n    }\n</style>\n<table border=\"1\" class=\"dataframe\">\n  <thead>\n    <tr style=\"text-align: right;\">\n      <th></th>\n      <th>A</th>\n      <th>B</th>\n      <th>C</th>\n      <th>D</th>\n    </tr>\n  </thead>\n  <tbody>\n    <tr>\n      <th>2022-03-29</th>\n      <td>8.0</td>\n      <td>2</td>\n      <td>5.0</td>\n      <td>4</td>\n    </tr>\n    <tr>\n      <th>2022-03-30</th>\n      <td>6.0</td>\n      <td>2</td>\n      <td>NaN</td>\n      <td>2</td>\n    </tr>\n    <tr>\n      <th>2022-03-31</th>\n      <td>8.0</td>\n      <td>7</td>\n      <td>9.0</td>\n      <td>7</td>\n    </tr>\n    <tr>\n      <th>2022-04-01</th>\n      <td>NaN</td>\n      <td>0</td>\n      <td>7.0</td>\n      <td>3</td>\n    </tr>\n    <tr>\n      <th>2022-04-02</th>\n      <td>1.0</td>\n      <td>4</td>\n      <td>2.0</td>\n      <td>4</td>\n    </tr>\n    <tr>\n      <th>2022-04-03</th>\n      <td>0.0</td>\n      <td>2</td>\n      <td>3.0</td>\n      <td>7</td>\n    </tr>\n  </tbody>\n</table>\n</div>"
     },
     "execution_count": 33,
     "metadata": {},
     "output_type": "execute_result"
    }
   ],
   "source": [
    "tmp_frm = pd.DataFrame( np.random.randint(10, size=(6,4)))\n",
    "\n",
    "tmp_frm.columns = ['A' , 'B' , 'C' , 'D' ]\n",
    "tmp_frm.index   = pd.date_range('20220329' , periods = 6)\n",
    "tmp_frm.iloc[1 , 2] = np.NaN\n",
    "tmp_frm.iloc[3 , 0] = np.NaN\n",
    "\n",
    "tmp_frm"
   ],
   "metadata": {
    "collapsed": false,
    "pycharm": {
     "name": "#%%\n"
    }
   }
  },
  {
   "cell_type": "code",
   "execution_count": 34,
   "outputs": [
    {
     "data": {
      "text/plain": "            A  B  C  D\n2022-03-29  8  2  5  4\n2022-03-30  6  2  0  2\n2022-03-31  8  7  9  7\n2022-04-01  0  0  7  3\n2022-04-02  1  4  2  4\n2022-04-03  0  2  3  7",
      "text/html": "<div>\n<style scoped>\n    .dataframe tbody tr th:only-of-type {\n        vertical-align: middle;\n    }\n\n    .dataframe tbody tr th {\n        vertical-align: top;\n    }\n\n    .dataframe thead th {\n        text-align: right;\n    }\n</style>\n<table border=\"1\" class=\"dataframe\">\n  <thead>\n    <tr style=\"text-align: right;\">\n      <th></th>\n      <th>A</th>\n      <th>B</th>\n      <th>C</th>\n      <th>D</th>\n    </tr>\n  </thead>\n  <tbody>\n    <tr>\n      <th>2022-03-29</th>\n      <td>8</td>\n      <td>2</td>\n      <td>5</td>\n      <td>4</td>\n    </tr>\n    <tr>\n      <th>2022-03-30</th>\n      <td>6</td>\n      <td>2</td>\n      <td>0</td>\n      <td>2</td>\n    </tr>\n    <tr>\n      <th>2022-03-31</th>\n      <td>8</td>\n      <td>7</td>\n      <td>9</td>\n      <td>7</td>\n    </tr>\n    <tr>\n      <th>2022-04-01</th>\n      <td>0</td>\n      <td>0</td>\n      <td>7</td>\n      <td>3</td>\n    </tr>\n    <tr>\n      <th>2022-04-02</th>\n      <td>1</td>\n      <td>4</td>\n      <td>2</td>\n      <td>4</td>\n    </tr>\n    <tr>\n      <th>2022-04-03</th>\n      <td>0</td>\n      <td>2</td>\n      <td>3</td>\n      <td>7</td>\n    </tr>\n  </tbody>\n</table>\n</div>"
     },
     "execution_count": 34,
     "metadata": {},
     "output_type": "execute_result"
    }
   ],
   "source": [
    "tmp_frm.fillna(0).astype(int)"
   ],
   "metadata": {
    "collapsed": false,
    "pycharm": {
     "name": "#%%\n"
    }
   }
  },
  {
   "cell_type": "code",
   "execution_count": 35,
   "outputs": [
    {
     "name": "stdout",
     "output_type": "stream",
     "text": [
      "<class 'pandas.core.frame.DataFrame'>\n",
      "RangeIndex: 891 entries, 0 to 890\n",
      "Data columns (total 18 columns):\n",
      " #   Column       Non-Null Count  Dtype   \n",
      "---  ------       --------------  -----   \n",
      " 0   survived     891 non-null    int64   \n",
      " 1   pclass       891 non-null    int64   \n",
      " 2   sex          891 non-null    object  \n",
      " 3   age          714 non-null    float64 \n",
      " 4   sibsp        891 non-null    int64   \n",
      " 5   parch        891 non-null    int64   \n",
      " 6   fare         891 non-null    float64 \n",
      " 7   embarked     889 non-null    object  \n",
      " 8   class        891 non-null    category\n",
      " 9   who          891 non-null    object  \n",
      " 10  adult_male   891 non-null    bool    \n",
      " 11  deck         203 non-null    category\n",
      " 12  embark_town  889 non-null    object  \n",
      " 13  alive        891 non-null    object  \n",
      " 14  alone        891 non-null    bool    \n",
      " 15  adult/child  891 non-null    object  \n",
      " 16  category     891 non-null    object  \n",
      " 17  embark_len   891 non-null    int64   \n",
      "dtypes: bool(2), category(2), float64(2), int64(5), object(7)\n",
      "memory usage: 101.5+ KB\n"
     ]
    }
   ],
   "source": [
    "datasets.info()"
   ],
   "metadata": {
    "collapsed": false,
    "pycharm": {
     "name": "#%%\n"
    }
   }
  },
  {
   "cell_type": "code",
   "execution_count": 36,
   "outputs": [
    {
     "data": {
      "text/plain": "survived         0\npclass           0\nsex              0\nage            177\nsibsp            0\nparch            0\nfare             0\nembarked         2\nclass            0\nwho              0\nadult_male       0\ndeck           688\nembark_town      2\nalive            0\nalone            0\nadult/child      0\ncategory         0\nembark_len       0\ndtype: int64"
     },
     "execution_count": 36,
     "metadata": {},
     "output_type": "execute_result"
    }
   ],
   "source": [
    "datasets.isnull().sum()"
   ],
   "metadata": {
    "collapsed": false,
    "pycharm": {
     "name": "#%%\n"
    }
   }
  },
  {
   "cell_type": "code",
   "execution_count": 37,
   "outputs": [
    {
     "data": {
      "text/plain": "survived         0\npclass           0\nsex              0\nage            177\nsibsp            0\nparch            0\nfare             0\nembarked         2\nclass            0\nwho              0\nadult_male       0\ndeck           688\nembark_town      2\nalive            0\nalone            0\nadult/child      0\ncategory         0\nembark_len       0\ndtype: int64"
     },
     "execution_count": 37,
     "metadata": {},
     "output_type": "execute_result"
    }
   ],
   "source": [
    "datasets.isnull().sum()"
   ],
   "metadata": {
    "collapsed": false,
    "pycharm": {
     "name": "#%%\n"
    }
   }
  },
  {
   "cell_type": "code",
   "execution_count": 38,
   "outputs": [
    {
     "data": {
      "text/plain": "         survived      pclass         age       sibsp       parch        fare  \\\ncount  891.000000  891.000000  714.000000  891.000000  891.000000  891.000000   \nmean     0.383838    2.308642   29.699118    0.523008    0.381594   32.204208   \nstd      0.486592    0.836071   14.526497    1.102743    0.806057   49.693429   \nmin      0.000000    1.000000    0.420000    0.000000    0.000000    0.000000   \n25%      0.000000    2.000000   20.125000    0.000000    0.000000    7.910400   \n50%      0.000000    3.000000   28.000000    0.000000    0.000000   14.454200   \n75%      1.000000    3.000000   38.000000    1.000000    0.000000   31.000000   \nmax      1.000000    3.000000   80.000000    8.000000    6.000000  512.329200   \n\n       embark_len  \ncount  891.000000  \nmean    10.518519  \nstd      0.867933  \nmin      3.000000  \n25%     10.000000  \n50%     11.000000  \n75%     11.000000  \nmax     11.000000  ",
      "text/html": "<div>\n<style scoped>\n    .dataframe tbody tr th:only-of-type {\n        vertical-align: middle;\n    }\n\n    .dataframe tbody tr th {\n        vertical-align: top;\n    }\n\n    .dataframe thead th {\n        text-align: right;\n    }\n</style>\n<table border=\"1\" class=\"dataframe\">\n  <thead>\n    <tr style=\"text-align: right;\">\n      <th></th>\n      <th>survived</th>\n      <th>pclass</th>\n      <th>age</th>\n      <th>sibsp</th>\n      <th>parch</th>\n      <th>fare</th>\n      <th>embark_len</th>\n    </tr>\n  </thead>\n  <tbody>\n    <tr>\n      <th>count</th>\n      <td>891.000000</td>\n      <td>891.000000</td>\n      <td>714.000000</td>\n      <td>891.000000</td>\n      <td>891.000000</td>\n      <td>891.000000</td>\n      <td>891.000000</td>\n    </tr>\n    <tr>\n      <th>mean</th>\n      <td>0.383838</td>\n      <td>2.308642</td>\n      <td>29.699118</td>\n      <td>0.523008</td>\n      <td>0.381594</td>\n      <td>32.204208</td>\n      <td>10.518519</td>\n    </tr>\n    <tr>\n      <th>std</th>\n      <td>0.486592</td>\n      <td>0.836071</td>\n      <td>14.526497</td>\n      <td>1.102743</td>\n      <td>0.806057</td>\n      <td>49.693429</td>\n      <td>0.867933</td>\n    </tr>\n    <tr>\n      <th>min</th>\n      <td>0.000000</td>\n      <td>1.000000</td>\n      <td>0.420000</td>\n      <td>0.000000</td>\n      <td>0.000000</td>\n      <td>0.000000</td>\n      <td>3.000000</td>\n    </tr>\n    <tr>\n      <th>25%</th>\n      <td>0.000000</td>\n      <td>2.000000</td>\n      <td>20.125000</td>\n      <td>0.000000</td>\n      <td>0.000000</td>\n      <td>7.910400</td>\n      <td>10.000000</td>\n    </tr>\n    <tr>\n      <th>50%</th>\n      <td>0.000000</td>\n      <td>3.000000</td>\n      <td>28.000000</td>\n      <td>0.000000</td>\n      <td>0.000000</td>\n      <td>14.454200</td>\n      <td>11.000000</td>\n    </tr>\n    <tr>\n      <th>75%</th>\n      <td>1.000000</td>\n      <td>3.000000</td>\n      <td>38.000000</td>\n      <td>1.000000</td>\n      <td>0.000000</td>\n      <td>31.000000</td>\n      <td>11.000000</td>\n    </tr>\n    <tr>\n      <th>max</th>\n      <td>1.000000</td>\n      <td>3.000000</td>\n      <td>80.000000</td>\n      <td>8.000000</td>\n      <td>6.000000</td>\n      <td>512.329200</td>\n      <td>11.000000</td>\n    </tr>\n  </tbody>\n</table>\n</div>"
     },
     "execution_count": 38,
     "metadata": {},
     "output_type": "execute_result"
    }
   ],
   "source": [
    "datasets.describe()"
   ],
   "metadata": {
    "collapsed": false,
    "pycharm": {
     "name": "#%%\n"
    }
   }
  },
  {
   "cell_type": "code",
   "execution_count": 39,
   "outputs": [
    {
     "name": "stdout",
     "output_type": "stream",
     "text": [
      "승객 중에서 나이를 명시하지 않는 고객의 나이를 평균 나이값으로 대체한다면? - \n",
      "\n"
     ]
    }
   ],
   "source": [
    "print('승객 중에서 나이를 명시하지 않는 고객의 나이를 평균 나이값으로 대체한다면? - ')\n",
    "print()\n",
    "\n",
    "datasets['age'] = datasets['age'].fillna( datasets['age'].mean() )"
   ],
   "metadata": {
    "collapsed": false,
    "pycharm": {
     "name": "#%%\n"
    }
   }
  },
  {
   "cell_type": "code",
   "execution_count": 40,
   "outputs": [
    {
     "data": {
      "text/plain": "0"
     },
     "execution_count": 40,
     "metadata": {},
     "output_type": "execute_result"
    }
   ],
   "source": [
    "datasets['age'].isnull().sum()"
   ],
   "metadata": {
    "collapsed": false,
    "pycharm": {
     "name": "#%%\n"
    }
   }
  },
  {
   "cell_type": "code",
   "execution_count": 41,
   "outputs": [
    {
     "name": "stdout",
     "output_type": "stream",
     "text": [
      "age_gender_category - 추가\n",
      "조건 1) 성별(male | female)\n",
      "조건 2) 성별을 나타내는 문자열 뒤에 나이를 추가하고 싶다\n",
      "예시) male27\n"
     ]
    },
    {
     "data": {
      "text/plain": "     survived  pclass     sex        age  sibsp  parch     fare embarked  \\\n0           0       3    male  22.000000      1      0   7.2500        S   \n1           1       1  female  38.000000      1      0  71.2833        C   \n2           1       3  female  26.000000      0      0   7.9250        S   \n3           1       1  female  35.000000      1      0  53.1000        S   \n4           0       3    male  35.000000      0      0   8.0500        S   \n..        ...     ...     ...        ...    ...    ...      ...      ...   \n886         0       2    male  27.000000      0      0  13.0000        S   \n887         1       1  female  19.000000      0      0  30.0000        S   \n888         0       3  female  29.699118      1      2  23.4500        S   \n889         1       1    male  26.000000      0      0  30.0000        C   \n890         0       3    male  32.000000      0      0   7.7500        Q   \n\n      class    who  adult_male deck  embark_town alive  alone adult/child  \\\n0     Third    man        True  NaN  Southampton    no  False          성인   \n1     First  woman       False    C    Cherbourg   yes  False          성인   \n2     Third  woman       False  NaN  Southampton   yes   True          성인   \n3     First  woman       False    C  Southampton   yes  False          성인   \n4     Third    man        True  NaN  Southampton    no   True          성인   \n..      ...    ...         ...  ...          ...   ...    ...         ...   \n886  Second    man        True  NaN  Southampton    no   True          성인   \n887   First  woman       False    B  Southampton   yes   True        미성년자   \n888   Third  woman       False  NaN  Southampton    no  False        미성년자   \n889   First    man        True    C    Cherbourg   yes   True          성인   \n890   Third    man        True  NaN   Queenstown    no   True          성인   \n\n    category  embark_len      age_gender_category  \n0       male          11                 male22.0  \n1     female           9               female38.0  \n2     female          11               female26.0  \n3     female          11               female35.0  \n4       male          11                 male35.0  \n..       ...         ...                      ...  \n886     male          11                 male27.0  \n887     미성년자          11               female19.0  \n888     미성년자          11  female29.69911764705882  \n889     male           9                 male26.0  \n890     male          10                 male32.0  \n\n[891 rows x 19 columns]",
      "text/html": "<div>\n<style scoped>\n    .dataframe tbody tr th:only-of-type {\n        vertical-align: middle;\n    }\n\n    .dataframe tbody tr th {\n        vertical-align: top;\n    }\n\n    .dataframe thead th {\n        text-align: right;\n    }\n</style>\n<table border=\"1\" class=\"dataframe\">\n  <thead>\n    <tr style=\"text-align: right;\">\n      <th></th>\n      <th>survived</th>\n      <th>pclass</th>\n      <th>sex</th>\n      <th>age</th>\n      <th>sibsp</th>\n      <th>parch</th>\n      <th>fare</th>\n      <th>embarked</th>\n      <th>class</th>\n      <th>who</th>\n      <th>adult_male</th>\n      <th>deck</th>\n      <th>embark_town</th>\n      <th>alive</th>\n      <th>alone</th>\n      <th>adult/child</th>\n      <th>category</th>\n      <th>embark_len</th>\n      <th>age_gender_category</th>\n    </tr>\n  </thead>\n  <tbody>\n    <tr>\n      <th>0</th>\n      <td>0</td>\n      <td>3</td>\n      <td>male</td>\n      <td>22.000000</td>\n      <td>1</td>\n      <td>0</td>\n      <td>7.2500</td>\n      <td>S</td>\n      <td>Third</td>\n      <td>man</td>\n      <td>True</td>\n      <td>NaN</td>\n      <td>Southampton</td>\n      <td>no</td>\n      <td>False</td>\n      <td>성인</td>\n      <td>male</td>\n      <td>11</td>\n      <td>male22.0</td>\n    </tr>\n    <tr>\n      <th>1</th>\n      <td>1</td>\n      <td>1</td>\n      <td>female</td>\n      <td>38.000000</td>\n      <td>1</td>\n      <td>0</td>\n      <td>71.2833</td>\n      <td>C</td>\n      <td>First</td>\n      <td>woman</td>\n      <td>False</td>\n      <td>C</td>\n      <td>Cherbourg</td>\n      <td>yes</td>\n      <td>False</td>\n      <td>성인</td>\n      <td>female</td>\n      <td>9</td>\n      <td>female38.0</td>\n    </tr>\n    <tr>\n      <th>2</th>\n      <td>1</td>\n      <td>3</td>\n      <td>female</td>\n      <td>26.000000</td>\n      <td>0</td>\n      <td>0</td>\n      <td>7.9250</td>\n      <td>S</td>\n      <td>Third</td>\n      <td>woman</td>\n      <td>False</td>\n      <td>NaN</td>\n      <td>Southampton</td>\n      <td>yes</td>\n      <td>True</td>\n      <td>성인</td>\n      <td>female</td>\n      <td>11</td>\n      <td>female26.0</td>\n    </tr>\n    <tr>\n      <th>3</th>\n      <td>1</td>\n      <td>1</td>\n      <td>female</td>\n      <td>35.000000</td>\n      <td>1</td>\n      <td>0</td>\n      <td>53.1000</td>\n      <td>S</td>\n      <td>First</td>\n      <td>woman</td>\n      <td>False</td>\n      <td>C</td>\n      <td>Southampton</td>\n      <td>yes</td>\n      <td>False</td>\n      <td>성인</td>\n      <td>female</td>\n      <td>11</td>\n      <td>female35.0</td>\n    </tr>\n    <tr>\n      <th>4</th>\n      <td>0</td>\n      <td>3</td>\n      <td>male</td>\n      <td>35.000000</td>\n      <td>0</td>\n      <td>0</td>\n      <td>8.0500</td>\n      <td>S</td>\n      <td>Third</td>\n      <td>man</td>\n      <td>True</td>\n      <td>NaN</td>\n      <td>Southampton</td>\n      <td>no</td>\n      <td>True</td>\n      <td>성인</td>\n      <td>male</td>\n      <td>11</td>\n      <td>male35.0</td>\n    </tr>\n    <tr>\n      <th>...</th>\n      <td>...</td>\n      <td>...</td>\n      <td>...</td>\n      <td>...</td>\n      <td>...</td>\n      <td>...</td>\n      <td>...</td>\n      <td>...</td>\n      <td>...</td>\n      <td>...</td>\n      <td>...</td>\n      <td>...</td>\n      <td>...</td>\n      <td>...</td>\n      <td>...</td>\n      <td>...</td>\n      <td>...</td>\n      <td>...</td>\n      <td>...</td>\n    </tr>\n    <tr>\n      <th>886</th>\n      <td>0</td>\n      <td>2</td>\n      <td>male</td>\n      <td>27.000000</td>\n      <td>0</td>\n      <td>0</td>\n      <td>13.0000</td>\n      <td>S</td>\n      <td>Second</td>\n      <td>man</td>\n      <td>True</td>\n      <td>NaN</td>\n      <td>Southampton</td>\n      <td>no</td>\n      <td>True</td>\n      <td>성인</td>\n      <td>male</td>\n      <td>11</td>\n      <td>male27.0</td>\n    </tr>\n    <tr>\n      <th>887</th>\n      <td>1</td>\n      <td>1</td>\n      <td>female</td>\n      <td>19.000000</td>\n      <td>0</td>\n      <td>0</td>\n      <td>30.0000</td>\n      <td>S</td>\n      <td>First</td>\n      <td>woman</td>\n      <td>False</td>\n      <td>B</td>\n      <td>Southampton</td>\n      <td>yes</td>\n      <td>True</td>\n      <td>미성년자</td>\n      <td>미성년자</td>\n      <td>11</td>\n      <td>female19.0</td>\n    </tr>\n    <tr>\n      <th>888</th>\n      <td>0</td>\n      <td>3</td>\n      <td>female</td>\n      <td>29.699118</td>\n      <td>1</td>\n      <td>2</td>\n      <td>23.4500</td>\n      <td>S</td>\n      <td>Third</td>\n      <td>woman</td>\n      <td>False</td>\n      <td>NaN</td>\n      <td>Southampton</td>\n      <td>no</td>\n      <td>False</td>\n      <td>미성년자</td>\n      <td>미성년자</td>\n      <td>11</td>\n      <td>female29.69911764705882</td>\n    </tr>\n    <tr>\n      <th>889</th>\n      <td>1</td>\n      <td>1</td>\n      <td>male</td>\n      <td>26.000000</td>\n      <td>0</td>\n      <td>0</td>\n      <td>30.0000</td>\n      <td>C</td>\n      <td>First</td>\n      <td>man</td>\n      <td>True</td>\n      <td>C</td>\n      <td>Cherbourg</td>\n      <td>yes</td>\n      <td>True</td>\n      <td>성인</td>\n      <td>male</td>\n      <td>9</td>\n      <td>male26.0</td>\n    </tr>\n    <tr>\n      <th>890</th>\n      <td>0</td>\n      <td>3</td>\n      <td>male</td>\n      <td>32.000000</td>\n      <td>0</td>\n      <td>0</td>\n      <td>7.7500</td>\n      <td>Q</td>\n      <td>Third</td>\n      <td>man</td>\n      <td>True</td>\n      <td>NaN</td>\n      <td>Queenstown</td>\n      <td>no</td>\n      <td>True</td>\n      <td>성인</td>\n      <td>male</td>\n      <td>10</td>\n      <td>male32.0</td>\n    </tr>\n  </tbody>\n</table>\n<p>891 rows × 19 columns</p>\n</div>"
     },
     "execution_count": 41,
     "metadata": {},
     "output_type": "execute_result"
    }
   ],
   "source": [
    "print('age_gender_category - 추가')\n",
    "print('조건 1) 성별(male | female)')\n",
    "print('조건 2) 성별을 나타내는 문자열 뒤에 나이를 추가하고 싶다')\n",
    "print('예시) male27')\n",
    "\n",
    "datasets ['age_gender_category'] = datasets.apply(lambda frm : frm['sex'] + str(frm['age']), axis = 1)\n",
    "datasets"
   ],
   "metadata": {
    "collapsed": false,
    "pycharm": {
     "name": "#%%\n"
    }
   }
  },
  {
   "cell_type": "code",
   "execution_count": 42,
   "outputs": [
    {
     "name": "stdout",
     "output_type": "stream",
     "text": [
      "승객에 대한 나이와 성별에 따른 age_gender 추가 - \n",
      "조건 1) 20살이 넘으면 성별을 그대로 사용하고\n",
      "조건 2) 20살 미만이면 성별에 관계없이 child라고 정의하고 결측값이 있는 경우 i don't know 정의한다\n"
     ]
    },
    {
     "data": {
      "text/plain": "male            487\nfemale          237\nchild           162\nI don't know      5\nName: age_gender, dtype: int64"
     },
     "execution_count": 42,
     "metadata": {},
     "output_type": "execute_result"
    }
   ],
   "source": [
    "print('승객에 대한 나이와 성별에 따른 age_gender 추가 - ')\n",
    "print('조건 1) 20살이 넘으면 성별을 그대로 사용하고')\n",
    "print(\"조건 2) 20살 미만이면 성별에 관계없이 child라고 정의하고 결측값이 있는 경우 i don't know 정의한다\" )\n",
    "\n",
    "datasets.iloc[[1,3,5,7,9],3] = np.NaN\n",
    "\n",
    "datasets['age_gender'] = datasets.apply( lambda frm: frm['sex'] if frm['age'] >= 20\n",
    "                                                                 else 'child' if frm['age'] < 20\n",
    "                                                                 else \"I don't know\", axis = 1)\n",
    "datasets['age_gender'].value_counts()"
   ],
   "metadata": {
    "collapsed": false,
    "pycharm": {
     "name": "#%%\n"
    }
   }
  },
  {
   "cell_type": "code",
   "execution_count": null,
   "outputs": [],
   "source": [],
   "metadata": {
    "collapsed": false,
    "pycharm": {
     "name": "#%%\n"
    }
   }
  }
 ],
 "metadata": {
  "kernelspec": {
   "display_name": "Python 3",
   "language": "python",
   "name": "python3"
  },
  "language_info": {
   "codemirror_mode": {
    "name": "ipython",
    "version": 2
   },
   "file_extension": ".py",
   "mimetype": "text/x-python",
   "name": "python",
   "nbconvert_exporter": "python",
   "pygments_lexer": "ipython2",
   "version": "2.7.6"
  }
 },
 "nbformat": 4,
 "nbformat_minor": 0
}