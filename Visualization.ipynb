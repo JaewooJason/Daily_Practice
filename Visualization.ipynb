{
 "cells": [
  {
   "cell_type": "code",
   "execution_count": 1,
   "metadata": {
    "collapsed": true
   },
   "outputs": [
    {
     "name": "stdout",
     "output_type": "stream",
     "text": [
      "numpy  version -  1.20.3\n",
      "pandas version -  1.3.4\n"
     ]
    }
   ],
   "source": [
    "import numpy  as np\n",
    "import pandas as pd\n",
    "\n",
    "import warnings\n",
    "warnings.filterwarnings(action='ignore')\n",
    "\n",
    "from datetime import date, datetime, timedelta\n",
    "from dateutil.parser import parse\n",
    "\n",
    "import matplotlib.pyplot as plt\n",
    "%matplotlib inline\n",
    "\n",
    "import json\n",
    "import urllib\n",
    "\n",
    "# titanic dataset\n",
    "import seaborn as sns\n",
    "\n",
    "# 비정형 데이터 처리를 위한 라이브러리\n",
    "from bs4 import BeautifulSoup\n",
    "import requests\n",
    "import re\n",
    "\n",
    "\n",
    "\n",
    "print('numpy  version - ' , np.__version__)\n",
    "print('pandas version - ' , pd.__version__)"
   ]
  },
  {
   "cell_type": "code",
   "execution_count": null,
   "outputs": [],
   "source": [],
   "metadata": {
    "collapsed": false,
    "pycharm": {
     "name": "#%%\n"
    }
   }
  },
  {
   "cell_type": "code",
   "execution_count": 2,
   "outputs": [],
   "source": [
    "# 한글 폰트 문제 해결\n",
    "import platform\n",
    "\n",
    "from matplotlib import font_manager, rc\n",
    "\n",
    "if platform.system() == 'Darwin':\n",
    "    rc('font', family='AppleGothic')\n",
    "elif platform.system() == 'Windows':\n",
    "    path = \"c:/Windows/Fonts/malgun.ttf\"\n",
    "    font_name = font_manager.FontProperties(fname=path).get_name()\n",
    "    rc('font', family=font_name)\n",
    "else:\n",
    "    print('Unknown system... sorry~~~~')\n",
    "\n",
    "\n",
    "# 차트 축 <- 음수 부호 지원\n",
    "import matplotlib\n",
    "matplotlib.rcParams['axes.unicode_minus'] = False"
   ],
   "metadata": {
    "collapsed": false,
    "pycharm": {
     "name": "#%%\n"
    }
   }
  },
  {
   "cell_type": "code",
   "execution_count": 4,
   "outputs": [
    {
     "data": {
      "text/plain": "      mpg  cylinders  displacement horsepower  weight  accelaration  \\\n0    18.0          8         307.0      130.0  3504.0          12.0   \n1    15.0          8         350.0      165.0  3693.0          11.5   \n2    18.0          8         318.0      150.0  3436.0          11.0   \n3    16.0          8         304.0      150.0  3433.0          12.0   \n4    17.0          8         302.0      140.0  3449.0          10.5   \n..    ...        ...           ...        ...     ...           ...   \n393  27.0          4         140.0      86.00  2790.0          15.6   \n394  44.0          4          97.0      52.00  2130.0          24.6   \n395  32.0          4         135.0      84.00  2295.0          11.6   \n396  28.0          4         120.0      79.00  2625.0          18.6   \n397  31.0          4         119.0      82.00  2720.0          19.4   \n\n     model year  origin                       name  \n0            70       1  chevrolet chevelle malibu  \n1            70       1          buick skylark 320  \n2            70       1         plymouth satellite  \n3            70       1              amc rebel sst  \n4            70       1                ford torino  \n..          ...     ...                        ...  \n393          82       1            ford mustang gl  \n394          82       2                  vw pickup  \n395          82       1              dodge rampage  \n396          82       1                ford ranger  \n397          82       1                 chevy s-10  \n\n[398 rows x 9 columns]",
      "text/html": "<div>\n<style scoped>\n    .dataframe tbody tr th:only-of-type {\n        vertical-align: middle;\n    }\n\n    .dataframe tbody tr th {\n        vertical-align: top;\n    }\n\n    .dataframe thead th {\n        text-align: right;\n    }\n</style>\n<table border=\"1\" class=\"dataframe\">\n  <thead>\n    <tr style=\"text-align: right;\">\n      <th></th>\n      <th>mpg</th>\n      <th>cylinders</th>\n      <th>displacement</th>\n      <th>horsepower</th>\n      <th>weight</th>\n      <th>accelaration</th>\n      <th>model year</th>\n      <th>origin</th>\n      <th>name</th>\n    </tr>\n  </thead>\n  <tbody>\n    <tr>\n      <th>0</th>\n      <td>18.0</td>\n      <td>8</td>\n      <td>307.0</td>\n      <td>130.0</td>\n      <td>3504.0</td>\n      <td>12.0</td>\n      <td>70</td>\n      <td>1</td>\n      <td>chevrolet chevelle malibu</td>\n    </tr>\n    <tr>\n      <th>1</th>\n      <td>15.0</td>\n      <td>8</td>\n      <td>350.0</td>\n      <td>165.0</td>\n      <td>3693.0</td>\n      <td>11.5</td>\n      <td>70</td>\n      <td>1</td>\n      <td>buick skylark 320</td>\n    </tr>\n    <tr>\n      <th>2</th>\n      <td>18.0</td>\n      <td>8</td>\n      <td>318.0</td>\n      <td>150.0</td>\n      <td>3436.0</td>\n      <td>11.0</td>\n      <td>70</td>\n      <td>1</td>\n      <td>plymouth satellite</td>\n    </tr>\n    <tr>\n      <th>3</th>\n      <td>16.0</td>\n      <td>8</td>\n      <td>304.0</td>\n      <td>150.0</td>\n      <td>3433.0</td>\n      <td>12.0</td>\n      <td>70</td>\n      <td>1</td>\n      <td>amc rebel sst</td>\n    </tr>\n    <tr>\n      <th>4</th>\n      <td>17.0</td>\n      <td>8</td>\n      <td>302.0</td>\n      <td>140.0</td>\n      <td>3449.0</td>\n      <td>10.5</td>\n      <td>70</td>\n      <td>1</td>\n      <td>ford torino</td>\n    </tr>\n    <tr>\n      <th>...</th>\n      <td>...</td>\n      <td>...</td>\n      <td>...</td>\n      <td>...</td>\n      <td>...</td>\n      <td>...</td>\n      <td>...</td>\n      <td>...</td>\n      <td>...</td>\n    </tr>\n    <tr>\n      <th>393</th>\n      <td>27.0</td>\n      <td>4</td>\n      <td>140.0</td>\n      <td>86.00</td>\n      <td>2790.0</td>\n      <td>15.6</td>\n      <td>82</td>\n      <td>1</td>\n      <td>ford mustang gl</td>\n    </tr>\n    <tr>\n      <th>394</th>\n      <td>44.0</td>\n      <td>4</td>\n      <td>97.0</td>\n      <td>52.00</td>\n      <td>2130.0</td>\n      <td>24.6</td>\n      <td>82</td>\n      <td>2</td>\n      <td>vw pickup</td>\n    </tr>\n    <tr>\n      <th>395</th>\n      <td>32.0</td>\n      <td>4</td>\n      <td>135.0</td>\n      <td>84.00</td>\n      <td>2295.0</td>\n      <td>11.6</td>\n      <td>82</td>\n      <td>1</td>\n      <td>dodge rampage</td>\n    </tr>\n    <tr>\n      <th>396</th>\n      <td>28.0</td>\n      <td>4</td>\n      <td>120.0</td>\n      <td>79.00</td>\n      <td>2625.0</td>\n      <td>18.6</td>\n      <td>82</td>\n      <td>1</td>\n      <td>ford ranger</td>\n    </tr>\n    <tr>\n      <th>397</th>\n      <td>31.0</td>\n      <td>4</td>\n      <td>119.0</td>\n      <td>82.00</td>\n      <td>2720.0</td>\n      <td>19.4</td>\n      <td>82</td>\n      <td>1</td>\n      <td>chevy s-10</td>\n    </tr>\n  </tbody>\n</table>\n<p>398 rows × 9 columns</p>\n</div>"
     },
     "execution_count": 4,
     "metadata": {},
     "output_type": "execute_result"
    }
   ],
   "source": [
    "auto_frm = pd.read_csv('/Users/choijaewoo/visualization_data/auto-mpg.csv', header = None)\n",
    "\n",
    "auto_frm.columns= ['mpg', 'cylinders','displacement', 'horsepower', 'weight', 'accelaration', 'model year', 'origin', 'name']\n",
    "auto_frm"
   ],
   "metadata": {
    "collapsed": false,
    "pycharm": {
     "name": "#%%\n"
    }
   }
  },
  {
   "cell_type": "code",
   "execution_count": null,
   "outputs": [],
   "source": [],
   "metadata": {
    "collapsed": false,
    "pycharm": {
     "name": "#%%\n"
    }
   }
  },
  {
   "cell_type": "code",
   "execution_count": 5,
   "outputs": [
    {
     "name": "stdout",
     "output_type": "stream",
     "text": [
      "<class 'pandas.core.frame.DataFrame'>\n",
      "RangeIndex: 234 entries, 0 to 233\n",
      "Data columns (total 11 columns):\n",
      " #   Column        Non-Null Count  Dtype  \n",
      "---  ------        --------------  -----  \n",
      " 0   manufacturer  234 non-null    object \n",
      " 1   model         234 non-null    object \n",
      " 2   displ         234 non-null    float64\n",
      " 3   year          234 non-null    int64  \n",
      " 4   cyl           234 non-null    int64  \n",
      " 5   trans         234 non-null    object \n",
      " 6   drv           234 non-null    object \n",
      " 7   cty           234 non-null    int64  \n",
      " 8   hwy           234 non-null    int64  \n",
      " 9   fl            234 non-null    object \n",
      " 10  class         234 non-null    object \n",
      "dtypes: float64(1), int64(4), object(6)\n",
      "memory usage: 20.2+ KB\n"
     ]
    }
   ],
   "source": [
    "auto_frm = pd.read_excel('/Users/choijaewoo/visualization_data/car_mpg.xlsx', header = 0)\n",
    "auto_frm.drop('Unnamed: 0', axis=1 , inplace = True)\n",
    "auto_frm.info()"
   ],
   "metadata": {
    "collapsed": false,
    "pycharm": {
     "name": "#%%\n"
    }
   }
  },
  {
   "cell_type": "code",
   "execution_count": 6,
   "outputs": [
    {
     "name": "stdout",
     "output_type": "stream",
     "text": [
      "Question 1 - \n",
      "배기량에 따른 연비 비교\n",
      "배기량 5 -  18.07894736842105 배기량4 -  24.404040404040405\n"
     ]
    }
   ],
   "source": [
    "print('Question 1 - ')\n",
    "displ_hwy = auto_frm[['displ', 'hwy']]\n",
    "displ5 = displ_hwy[displ_hwy['displ'] >= 5]\n",
    "answer1 =displ5['hwy'].mean()\n",
    "\n",
    "displ4 = displ_hwy[displ_hwy['displ'] <= 5]\n",
    "answer2 = displ4['hwy'].mean()\n",
    "\n",
    "displ4 = displ_hwy[displ_hwy['displ'] <= 5]\n",
    "displ4['hwy'].mean()\n",
    "\n",
    "print('배기량에 따른 연비 비교')\n",
    "print('배기량 5 - ', answer1, '배기량4 - ',answer2 )"
   ],
   "metadata": {
    "collapsed": false,
    "pycharm": {
     "name": "#%%\n"
    }
   }
  },
  {
   "cell_type": "code",
   "execution_count": 7,
   "outputs": [
    {
     "name": "stdout",
     "output_type": "stream",
     "text": [
      "Question 2 - \n",
      "audi and toyota cty 비교\n",
      "\n",
      "audi -  cty    17.611111\n",
      "Name: audi, dtype: float64 toyota -  cty    18.529412\n",
      "Name: toyota, dtype: float64\n"
     ]
    }
   ],
   "source": [
    "print('Question 2 - ')\n",
    "audi_toyota = auto_frm[['manufacturer', 'cty']]\n",
    "audi_toyota =audi_toyota.groupby('manufacturer').mean()\n",
    "audi = audi_toyota.loc['audi']\n",
    "toyota = audi_toyota.loc['toyota']\n",
    "\n",
    "print('audi and toyota cty 비교')\n",
    "print()\n",
    "print('audi - ', audi, 'toyota - ', toyota)\n"
   ],
   "metadata": {
    "collapsed": false,
    "pycharm": {
     "name": "#%%\n"
    }
   }
  },
  {
   "cell_type": "code",
   "execution_count": 8,
   "outputs": [
    {
     "name": "stdout",
     "output_type": "stream",
     "text": [
      "Question 3 - \n",
      "chevrolet, ford, honda 자동차의 고속도로 연비 평균\n",
      "answer - \n",
      "                     hwy\n",
      "manufacturer           \n",
      "chevrolet     21.894737\n",
      "honda         32.555556\n",
      "ford          19.360000\n"
     ]
    }
   ],
   "source": [
    "print('Question 3 - ')\n",
    "usa_japan = auto_frm[['manufacturer', 'hwy']]\n",
    "usa_japan = usa_japan.groupby('manufacturer').mean()\n",
    "\n",
    "print('chevrolet, ford, honda 자동차의 고속도로 연비 평균')\n",
    "\n",
    "print('answer - \\n', usa_japan.loc[['chevrolet', 'honda', 'ford'] ])"
   ],
   "metadata": {
    "collapsed": false,
    "pycharm": {
     "name": "#%%\n"
    }
   }
  },
  {
   "cell_type": "code",
   "execution_count": 9,
   "outputs": [
    {
     "name": "stdout",
     "output_type": "stream",
     "text": [
      "Question 4 - \n",
      "연료가격 변수 추가(price_fl)\n"
     ]
    },
    {
     "data": {
      "text/plain": "    manufacturer   model  displ  year  cyl       trans drv  cty  hwy fl  \\\n0           audi      a4    1.8  1999    4    auto(l5)   f   18   29  p   \n1           audi      a4    1.8  1999    4  manual(m5)   f   21   29  p   \n2           audi      a4    2.0  2008    4  manual(m6)   f   20   31  p   \n3           audi      a4    2.0  2008    4    auto(av)   f   21   30  p   \n4           audi      a4    2.8  1999    6    auto(l5)   f   16   26  p   \n..           ...     ...    ...   ...  ...         ...  ..  ...  ... ..   \n229   volkswagen  passat    2.0  2008    4    auto(s6)   f   19   28  p   \n230   volkswagen  passat    2.0  2008    4  manual(m6)   f   21   29  p   \n231   volkswagen  passat    2.8  1999    6    auto(l5)   f   16   26  p   \n232   volkswagen  passat    2.8  1999    6  manual(m5)   f   18   26  p   \n233   volkswagen  passat    3.6  2008    6    auto(s6)   f   17   26  p   \n\n       class  price_fl  \n0    compact      2.76  \n1    compact      2.76  \n2    compact      2.76  \n3    compact      2.76  \n4    compact      2.76  \n..       ...       ...  \n229  midsize      2.76  \n230  midsize      2.76  \n231  midsize      2.76  \n232  midsize      2.76  \n233  midsize      2.76  \n\n[234 rows x 12 columns]",
      "text/html": "<div>\n<style scoped>\n    .dataframe tbody tr th:only-of-type {\n        vertical-align: middle;\n    }\n\n    .dataframe tbody tr th {\n        vertical-align: top;\n    }\n\n    .dataframe thead th {\n        text-align: right;\n    }\n</style>\n<table border=\"1\" class=\"dataframe\">\n  <thead>\n    <tr style=\"text-align: right;\">\n      <th></th>\n      <th>manufacturer</th>\n      <th>model</th>\n      <th>displ</th>\n      <th>year</th>\n      <th>cyl</th>\n      <th>trans</th>\n      <th>drv</th>\n      <th>cty</th>\n      <th>hwy</th>\n      <th>fl</th>\n      <th>class</th>\n      <th>price_fl</th>\n    </tr>\n  </thead>\n  <tbody>\n    <tr>\n      <th>0</th>\n      <td>audi</td>\n      <td>a4</td>\n      <td>1.8</td>\n      <td>1999</td>\n      <td>4</td>\n      <td>auto(l5)</td>\n      <td>f</td>\n      <td>18</td>\n      <td>29</td>\n      <td>p</td>\n      <td>compact</td>\n      <td>2.76</td>\n    </tr>\n    <tr>\n      <th>1</th>\n      <td>audi</td>\n      <td>a4</td>\n      <td>1.8</td>\n      <td>1999</td>\n      <td>4</td>\n      <td>manual(m5)</td>\n      <td>f</td>\n      <td>21</td>\n      <td>29</td>\n      <td>p</td>\n      <td>compact</td>\n      <td>2.76</td>\n    </tr>\n    <tr>\n      <th>2</th>\n      <td>audi</td>\n      <td>a4</td>\n      <td>2.0</td>\n      <td>2008</td>\n      <td>4</td>\n      <td>manual(m6)</td>\n      <td>f</td>\n      <td>20</td>\n      <td>31</td>\n      <td>p</td>\n      <td>compact</td>\n      <td>2.76</td>\n    </tr>\n    <tr>\n      <th>3</th>\n      <td>audi</td>\n      <td>a4</td>\n      <td>2.0</td>\n      <td>2008</td>\n      <td>4</td>\n      <td>auto(av)</td>\n      <td>f</td>\n      <td>21</td>\n      <td>30</td>\n      <td>p</td>\n      <td>compact</td>\n      <td>2.76</td>\n    </tr>\n    <tr>\n      <th>4</th>\n      <td>audi</td>\n      <td>a4</td>\n      <td>2.8</td>\n      <td>1999</td>\n      <td>6</td>\n      <td>auto(l5)</td>\n      <td>f</td>\n      <td>16</td>\n      <td>26</td>\n      <td>p</td>\n      <td>compact</td>\n      <td>2.76</td>\n    </tr>\n    <tr>\n      <th>...</th>\n      <td>...</td>\n      <td>...</td>\n      <td>...</td>\n      <td>...</td>\n      <td>...</td>\n      <td>...</td>\n      <td>...</td>\n      <td>...</td>\n      <td>...</td>\n      <td>...</td>\n      <td>...</td>\n      <td>...</td>\n    </tr>\n    <tr>\n      <th>229</th>\n      <td>volkswagen</td>\n      <td>passat</td>\n      <td>2.0</td>\n      <td>2008</td>\n      <td>4</td>\n      <td>auto(s6)</td>\n      <td>f</td>\n      <td>19</td>\n      <td>28</td>\n      <td>p</td>\n      <td>midsize</td>\n      <td>2.76</td>\n    </tr>\n    <tr>\n      <th>230</th>\n      <td>volkswagen</td>\n      <td>passat</td>\n      <td>2.0</td>\n      <td>2008</td>\n      <td>4</td>\n      <td>manual(m6)</td>\n      <td>f</td>\n      <td>21</td>\n      <td>29</td>\n      <td>p</td>\n      <td>midsize</td>\n      <td>2.76</td>\n    </tr>\n    <tr>\n      <th>231</th>\n      <td>volkswagen</td>\n      <td>passat</td>\n      <td>2.8</td>\n      <td>1999</td>\n      <td>6</td>\n      <td>auto(l5)</td>\n      <td>f</td>\n      <td>16</td>\n      <td>26</td>\n      <td>p</td>\n      <td>midsize</td>\n      <td>2.76</td>\n    </tr>\n    <tr>\n      <th>232</th>\n      <td>volkswagen</td>\n      <td>passat</td>\n      <td>2.8</td>\n      <td>1999</td>\n      <td>6</td>\n      <td>manual(m5)</td>\n      <td>f</td>\n      <td>18</td>\n      <td>26</td>\n      <td>p</td>\n      <td>midsize</td>\n      <td>2.76</td>\n    </tr>\n    <tr>\n      <th>233</th>\n      <td>volkswagen</td>\n      <td>passat</td>\n      <td>3.6</td>\n      <td>2008</td>\n      <td>6</td>\n      <td>auto(s6)</td>\n      <td>f</td>\n      <td>17</td>\n      <td>26</td>\n      <td>p</td>\n      <td>midsize</td>\n      <td>2.76</td>\n    </tr>\n  </tbody>\n</table>\n<p>234 rows × 12 columns</p>\n</div>"
     },
     "execution_count": 9,
     "metadata": {},
     "output_type": "execute_result"
    }
   ],
   "source": [
    "print('Question 4 - ')\n",
    "print('연료가격 변수 추가(price_fl)')\n",
    "auto_frm['price_fl'] = auto_frm['fl'].replace({'c' : 2.35 , 'd' : 2.38 , 'e' :  2.11 , 'p' :  2.76, 'r' : 2.22})\n",
    "auto_frm"
   ],
   "metadata": {
    "collapsed": false,
    "pycharm": {
     "name": "#%%\n"
    }
   }
  },
  {
   "cell_type": "code",
   "execution_count": 10,
   "outputs": [
    {
     "name": "stdout",
     "output_type": "stream",
     "text": [
      "Qeustion 5\n",
      "\n"
     ]
    },
    {
     "data": {
      "text/plain": "      model fl  price_fl\n0        a4  p      2.76\n1        a4  p      2.76\n2        a4  p      2.76\n3        a4  p      2.76\n4        a4  p      2.76\n..      ... ..       ...\n229  passat  p      2.76\n230  passat  p      2.76\n231  passat  p      2.76\n232  passat  p      2.76\n233  passat  p      2.76\n\n[234 rows x 3 columns]",
      "text/html": "<div>\n<style scoped>\n    .dataframe tbody tr th:only-of-type {\n        vertical-align: middle;\n    }\n\n    .dataframe tbody tr th {\n        vertical-align: top;\n    }\n\n    .dataframe thead th {\n        text-align: right;\n    }\n</style>\n<table border=\"1\" class=\"dataframe\">\n  <thead>\n    <tr style=\"text-align: right;\">\n      <th></th>\n      <th>model</th>\n      <th>fl</th>\n      <th>price_fl</th>\n    </tr>\n  </thead>\n  <tbody>\n    <tr>\n      <th>0</th>\n      <td>a4</td>\n      <td>p</td>\n      <td>2.76</td>\n    </tr>\n    <tr>\n      <th>1</th>\n      <td>a4</td>\n      <td>p</td>\n      <td>2.76</td>\n    </tr>\n    <tr>\n      <th>2</th>\n      <td>a4</td>\n      <td>p</td>\n      <td>2.76</td>\n    </tr>\n    <tr>\n      <th>3</th>\n      <td>a4</td>\n      <td>p</td>\n      <td>2.76</td>\n    </tr>\n    <tr>\n      <th>4</th>\n      <td>a4</td>\n      <td>p</td>\n      <td>2.76</td>\n    </tr>\n    <tr>\n      <th>...</th>\n      <td>...</td>\n      <td>...</td>\n      <td>...</td>\n    </tr>\n    <tr>\n      <th>229</th>\n      <td>passat</td>\n      <td>p</td>\n      <td>2.76</td>\n    </tr>\n    <tr>\n      <th>230</th>\n      <td>passat</td>\n      <td>p</td>\n      <td>2.76</td>\n    </tr>\n    <tr>\n      <th>231</th>\n      <td>passat</td>\n      <td>p</td>\n      <td>2.76</td>\n    </tr>\n    <tr>\n      <th>232</th>\n      <td>passat</td>\n      <td>p</td>\n      <td>2.76</td>\n    </tr>\n    <tr>\n      <th>233</th>\n      <td>passat</td>\n      <td>p</td>\n      <td>2.76</td>\n    </tr>\n  </tbody>\n</table>\n<p>234 rows × 3 columns</p>\n</div>"
     },
     "execution_count": 10,
     "metadata": {},
     "output_type": "execute_result"
    }
   ],
   "source": [
    "print('Qeustion 5')\n",
    "print('')\n",
    "model_fl = auto_frm.filter(['model', 'fl', 'price_fl'])\n",
    "model_fl"
   ],
   "metadata": {
    "collapsed": false,
    "pycharm": {
     "name": "#%%\n"
    }
   }
  },
  {
   "cell_type": "code",
   "execution_count": 11,
   "outputs": [
    {
     "name": "stdout",
     "output_type": "stream",
     "text": [
      "Question 7\n",
      "구동방식(drv) 별 고속도로 연비(hwy)평균\n"
     ]
    },
    {
     "data": {
      "text/plain": "           hwy\ndrv           \n4    19.174757\nf    28.160377\nr    21.000000",
      "text/html": "<div>\n<style scoped>\n    .dataframe tbody tr th:only-of-type {\n        vertical-align: middle;\n    }\n\n    .dataframe tbody tr th {\n        vertical-align: top;\n    }\n\n    .dataframe thead th {\n        text-align: right;\n    }\n</style>\n<table border=\"1\" class=\"dataframe\">\n  <thead>\n    <tr style=\"text-align: right;\">\n      <th></th>\n      <th>hwy</th>\n    </tr>\n    <tr>\n      <th>drv</th>\n      <th></th>\n    </tr>\n  </thead>\n  <tbody>\n    <tr>\n      <th>4</th>\n      <td>19.174757</td>\n    </tr>\n    <tr>\n      <th>f</th>\n      <td>28.160377</td>\n    </tr>\n    <tr>\n      <th>r</th>\n      <td>21.000000</td>\n    </tr>\n  </tbody>\n</table>\n</div>"
     },
     "execution_count": 11,
     "metadata": {},
     "output_type": "execute_result"
    }
   ],
   "source": [
    "print('Question 7')\n",
    "print('구동방식(drv) 별 고속도로 연비(hwy)평균')\n",
    "drv_hwy = auto_frm.filter(['drv', 'hwy'])\n",
    "drv_hwy.groupby('drv').mean()"
   ],
   "metadata": {
    "collapsed": false,
    "pycharm": {
     "name": "#%%\n"
    }
   }
  },
  {
   "cell_type": "code",
   "execution_count": 12,
   "outputs": [
    {
     "name": "stdout",
     "output_type": "stream",
     "text": [
      "Question 7\n",
      "임의적으로 결측값 처리를 위해서 더미 값을 넣어보도록 하자\n"
     ]
    },
    {
     "data": {
      "text/plain": "drv     0\nhwy    22\ndtype: int64"
     },
     "execution_count": 12,
     "metadata": {},
     "output_type": "execute_result"
    }
   ],
   "source": [
    "print('Question 7')\n",
    "print('임의적으로 결측값 처리를 위해서 더미 값을 넣어보도록 하자')\n",
    "drv_hwy = auto_frm.filter(['drv', 'hwy'])\n",
    "drv_hwy['hwy'].replace(29.0, np.NaN, inplace = True)\n",
    "drv_hwy.isnull().sum()"
   ],
   "metadata": {
    "collapsed": false,
    "pycharm": {
     "name": "#%%\n"
    }
   }
  },
  {
   "cell_type": "code",
   "execution_count": 13,
   "outputs": [
    {
     "name": "stdout",
     "output_type": "stream",
     "text": [
      "Question 8\n",
      "\n"
     ]
    },
    {
     "data": {
      "text/plain": "           hwy\ndrv           \n4    19.174757\nf    27.940476\nr    21.000000",
      "text/html": "<div>\n<style scoped>\n    .dataframe tbody tr th:only-of-type {\n        vertical-align: middle;\n    }\n\n    .dataframe tbody tr th {\n        vertical-align: top;\n    }\n\n    .dataframe thead th {\n        text-align: right;\n    }\n</style>\n<table border=\"1\" class=\"dataframe\">\n  <thead>\n    <tr style=\"text-align: right;\">\n      <th></th>\n      <th>hwy</th>\n    </tr>\n    <tr>\n      <th>drv</th>\n      <th></th>\n    </tr>\n  </thead>\n  <tbody>\n    <tr>\n      <th>4</th>\n      <td>19.174757</td>\n    </tr>\n    <tr>\n      <th>f</th>\n      <td>27.940476</td>\n    </tr>\n    <tr>\n      <th>r</th>\n      <td>21.000000</td>\n    </tr>\n  </tbody>\n</table>\n</div>"
     },
     "execution_count": 13,
     "metadata": {},
     "output_type": "execute_result"
    }
   ],
   "source": [
    "print('Question 8')\n",
    "print()\n",
    "drv_hwy.dropna(inplace = True)\n",
    "drv_hwy.groupby('drv').mean()"
   ],
   "metadata": {
    "collapsed": false,
    "pycharm": {
     "name": "#%%\n"
    }
   }
  },
  {
   "cell_type": "code",
   "execution_count": 14,
   "outputs": [
    {
     "name": "stdout",
     "output_type": "stream",
     "text": [
      "Question 9\n",
      "구동방식별 연비평균을 비교하기 위한 막대 그래프로 시각화 해 보자\n"
     ]
    },
    {
     "data": {
      "text/plain": "<Figure size 432x288 with 1 Axes>",
      "image/png": "[encoded data removed]"
     },
     "metadata": {
      "needs_background": "light"
     },
     "output_type": "display_data"
    }
   ],
   "source": [
    "print('Question 9')\n",
    "print('구동방식별 연비평균을 비교하기 위한 막대 그래프로 시각화 해 보자')\n",
    "\n",
    "hwy_avg = drv_hwy.groupby('drv').mean()\n",
    "hwy_avg.plot(kind='bar', rot=0)\n",
    "\n",
    "plt.show()\n",
    "plt.close()\n"
   ],
   "metadata": {
    "collapsed": false,
    "pycharm": {
     "name": "#%%\n"
    }
   }
  },
  {
   "cell_type": "code",
   "execution_count": null,
   "outputs": [],
   "source": [
    "datas = [15, 15, 20, 30, 20]\n",
    "labels = ['뽕사부','다미온','생고기비빔밥', '양곱탕', '능라도']\n",
    "colors = ['red', 'blue', 'gold', 'coral', 'cyan']\n",
    "\n",
    "plt.figure(figsize=(15,5))\n",
    "plt.style.use('ggplot')\n",
    "plt.axis('equal')\n",
    "\n",
    "explode = (0,0,0,0.1,0)\n",
    "\n",
    "plt.pie(datas, labels = labels, colors = colors, shadow = True, autopct = '%1.1f%%',\n",
    "       startangle = 90, explode = explode)\n",
    "\n",
    "\n",
    "\n",
    "plt.show()\n",
    "plt.close()"
   ],
   "metadata": {
    "collapsed": false,
    "pycharm": {
     "name": "#%%\n",
     "is_executing": true
    }
   }
  },
  {
   "cell_type": "code",
   "execution_count": null,
   "outputs": [],
   "source": [],
   "metadata": {
    "collapsed": false,
    "pycharm": {
     "name": "#%%\n"
    }
   }
  },
  {
   "cell_type": "code",
   "execution_count": null,
   "outputs": [],
   "source": [],
   "metadata": {
    "collapsed": false,
    "pycharm": {
     "name": "#%%\n"
    }
   }
  },
  {
   "cell_type": "code",
   "execution_count": null,
   "outputs": [],
   "source": [],
   "metadata": {
    "collapsed": false,
    "pycharm": {
     "name": "#%%\n"
    }
   }
  },
  {
   "cell_type": "code",
   "execution_count": null,
   "outputs": [],
   "source": [],
   "metadata": {
    "collapsed": false,
    "pycharm": {
     "name": "#%%\n"
    }
   }
  },
  {
   "cell_type": "code",
   "execution_count": null,
   "outputs": [],
   "source": [],
   "metadata": {
    "collapsed": false,
    "pycharm": {
     "name": "#%%\n"
    }
   }
  },
  {
   "cell_type": "code",
   "execution_count": null,
   "outputs": [],
   "source": [],
   "metadata": {
    "collapsed": false,
    "pycharm": {
     "name": "#%%\n"
    }
   }
  },
  {
   "cell_type": "code",
   "execution_count": null,
   "outputs": [],
   "source": [],
   "metadata": {
    "collapsed": false,
    "pycharm": {
     "name": "#%%\n"
    }
   }
  },
  {
   "cell_type": "code",
   "execution_count": null,
   "outputs": [],
   "source": [],
   "metadata": {
    "collapsed": false,
    "pycharm": {
     "name": "#%%\n"
    }
   }
  },
  {
   "cell_type": "code",
   "execution_count": null,
   "outputs": [],
   "source": [],
   "metadata": {
    "collapsed": false,
    "pycharm": {
     "name": "#%%\n"
    }
   }
  }
 ],
 "metadata": {
  "kernelspec": {
   "display_name": "Python 3",
   "language": "python",
   "name": "python3"
  },
  "language_info": {
   "codemirror_mode": {
    "name": "ipython",
    "version": 2
   },
   "file_extension": ".py",
   "mimetype": "text/x-python",
   "name": "python",
   "nbconvert_exporter": "python",
   "pygments_lexer": "ipython2",
   "version": "2.7.6"
  }
 },
 "nbformat": 4,
 "nbformat_minor": 0
}