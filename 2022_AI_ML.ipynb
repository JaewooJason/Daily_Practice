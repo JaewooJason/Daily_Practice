{
 "cells": [
  {
   "cell_type": "code",
   "execution_count": 1,
   "metadata": {
    "collapsed": true
   },
   "outputs": [
    {
     "data": {
      "text/plain": "'0.24.2'"
     },
     "execution_count": 1,
     "metadata": {},
     "output_type": "execute_result"
    }
   ],
   "source": [
    "import numpy  as np\n",
    "import pandas as pd\n",
    "\n",
    "# 시각화\n",
    "import matplotlib.pyplot as plt\n",
    "%matplotlib inline\n",
    "\n",
    "import seaborn as sns\n",
    "\n",
    "import json\n",
    "\n",
    "import warnings\n",
    "warnings.filterwarnings(action='ignore')\n",
    "\n",
    "from datetime import date, datetime, timedelta\n",
    "from dateutil.parser import parse\n",
    "\n",
    "\n",
    "# 한글 폰트 문제 해결\n",
    "import platform\n",
    "\n",
    "from matplotlib import font_manager, rc\n",
    "\n",
    "if platform.system() == 'Darwin':\n",
    "    plt.rc('font', family='AppleGothic')\n",
    "elif platform.system() == 'Windows':\n",
    "    path = \"c:/Windows/Fonts/malgun.ttf\"\n",
    "    font_name = font_manager.FontProperties(fname=path).get_name()\n",
    "    plt.rc('font', family=font_name)\n",
    "else:\n",
    "    print('Unknown system... sorry~~~~')\n",
    "\n",
    "\n",
    "# 차트 축 <- 음수 부호 지원\n",
    "import matplotlib\n",
    "matplotlib.rcParams['axes.unicode_minus'] = False\n",
    "\n",
    "\n",
    "# crawling\n",
    "from bs4 import BeautifulSoup\n",
    "from urllib.request import urlopen , urlretrieve\n",
    "from urllib.error   import HTTPError\n",
    "from urllib.error   import URLError\n",
    "\n",
    "import requests\n",
    "import re\n",
    "\n",
    "from selenium import webdriver\n",
    "\n",
    "from time    import sleep , time\n",
    "from random  import randint\n",
    "from IPython.core.display import clear_output\n",
    "\n",
    "# 비정형 디비\n",
    "# import pymongo as mongo\n",
    "\n",
    "# print('numpy version  - ' , np.__version__)\n",
    "# print('pandas version - ' , pd.__version__)\n",
    "\n",
    "\n",
    "# ml\n",
    "import sklearn\n",
    "from   sklearn.datasets import load_iris\n",
    "\n",
    "from   sklearn.model_selection import train_test_split , KFold , StratifiedKFold, cross_val_score , cross_validate , GridSearchCV\n",
    "from   sklearn.tree            import DecisionTreeClassifier\n",
    "from   sklearn.metrics         import accuracy_score\n",
    "\n",
    "\n",
    "sklearn.__version__"
   ]
  },
  {
   "cell_type": "code",
   "execution_count": 2,
   "outputs": [
    {
     "name": "stdout",
     "output_type": "stream",
     "text": [
      "type -  <class 'sklearn.utils.Bunch'>\n",
      "keys -  dict_keys(['data', 'target', 'frame', 'target_names', 'DESCR', 'feature_names', 'filename'])\n"
     ]
    }
   ],
   "source": [
    "iris = load_iris()\n",
    "print('type - ' , type(iris) )\n",
    "print('keys - ' , iris.keys())"
   ],
   "metadata": {
    "collapsed": false,
    "pycharm": {
     "name": "#%%\n"
    }
   }
  },
  {
   "cell_type": "code",
   "execution_count": 3,
   "outputs": [
    {
     "data": {
      "text/plain": "array([[5.1, 3.5, 1.4, 0.2],\n       [4.9, 3. , 1.4, 0.2],\n       [4.7, 3.2, 1.3, 0.2],\n       [4.6, 3.1, 1.5, 0.2],\n       [5. , 3.6, 1.4, 0.2],\n       [5.4, 3.9, 1.7, 0.4],\n       [4.6, 3.4, 1.4, 0.3],\n       [5. , 3.4, 1.5, 0.2],\n       [4.4, 2.9, 1.4, 0.2],\n       [4.9, 3.1, 1.5, 0.1],\n       [5.4, 3.7, 1.5, 0.2],\n       [4.8, 3.4, 1.6, 0.2],\n       [4.8, 3. , 1.4, 0.1],\n       [4.3, 3. , 1.1, 0.1],\n       [5.8, 4. , 1.2, 0.2],\n       [5.7, 4.4, 1.5, 0.4],\n       [5.4, 3.9, 1.3, 0.4],\n       [5.1, 3.5, 1.4, 0.3],\n       [5.7, 3.8, 1.7, 0.3],\n       [5.1, 3.8, 1.5, 0.3],\n       [5.4, 3.4, 1.7, 0.2],\n       [5.1, 3.7, 1.5, 0.4],\n       [4.6, 3.6, 1. , 0.2],\n       [5.1, 3.3, 1.7, 0.5],\n       [4.8, 3.4, 1.9, 0.2],\n       [5. , 3. , 1.6, 0.2],\n       [5. , 3.4, 1.6, 0.4],\n       [5.2, 3.5, 1.5, 0.2],\n       [5.2, 3.4, 1.4, 0.2],\n       [4.7, 3.2, 1.6, 0.2],\n       [4.8, 3.1, 1.6, 0.2],\n       [5.4, 3.4, 1.5, 0.4],\n       [5.2, 4.1, 1.5, 0.1],\n       [5.5, 4.2, 1.4, 0.2],\n       [4.9, 3.1, 1.5, 0.2],\n       [5. , 3.2, 1.2, 0.2],\n       [5.5, 3.5, 1.3, 0.2],\n       [4.9, 3.6, 1.4, 0.1],\n       [4.4, 3. , 1.3, 0.2],\n       [5.1, 3.4, 1.5, 0.2],\n       [5. , 3.5, 1.3, 0.3],\n       [4.5, 2.3, 1.3, 0.3],\n       [4.4, 3.2, 1.3, 0.2],\n       [5. , 3.5, 1.6, 0.6],\n       [5.1, 3.8, 1.9, 0.4],\n       [4.8, 3. , 1.4, 0.3],\n       [5.1, 3.8, 1.6, 0.2],\n       [4.6, 3.2, 1.4, 0.2],\n       [5.3, 3.7, 1.5, 0.2],\n       [5. , 3.3, 1.4, 0.2],\n       [7. , 3.2, 4.7, 1.4],\n       [6.4, 3.2, 4.5, 1.5],\n       [6.9, 3.1, 4.9, 1.5],\n       [5.5, 2.3, 4. , 1.3],\n       [6.5, 2.8, 4.6, 1.5],\n       [5.7, 2.8, 4.5, 1.3],\n       [6.3, 3.3, 4.7, 1.6],\n       [4.9, 2.4, 3.3, 1. ],\n       [6.6, 2.9, 4.6, 1.3],\n       [5.2, 2.7, 3.9, 1.4],\n       [5. , 2. , 3.5, 1. ],\n       [5.9, 3. , 4.2, 1.5],\n       [6. , 2.2, 4. , 1. ],\n       [6.1, 2.9, 4.7, 1.4],\n       [5.6, 2.9, 3.6, 1.3],\n       [6.7, 3.1, 4.4, 1.4],\n       [5.6, 3. , 4.5, 1.5],\n       [5.8, 2.7, 4.1, 1. ],\n       [6.2, 2.2, 4.5, 1.5],\n       [5.6, 2.5, 3.9, 1.1],\n       [5.9, 3.2, 4.8, 1.8],\n       [6.1, 2.8, 4. , 1.3],\n       [6.3, 2.5, 4.9, 1.5],\n       [6.1, 2.8, 4.7, 1.2],\n       [6.4, 2.9, 4.3, 1.3],\n       [6.6, 3. , 4.4, 1.4],\n       [6.8, 2.8, 4.8, 1.4],\n       [6.7, 3. , 5. , 1.7],\n       [6. , 2.9, 4.5, 1.5],\n       [5.7, 2.6, 3.5, 1. ],\n       [5.5, 2.4, 3.8, 1.1],\n       [5.5, 2.4, 3.7, 1. ],\n       [5.8, 2.7, 3.9, 1.2],\n       [6. , 2.7, 5.1, 1.6],\n       [5.4, 3. , 4.5, 1.5],\n       [6. , 3.4, 4.5, 1.6],\n       [6.7, 3.1, 4.7, 1.5],\n       [6.3, 2.3, 4.4, 1.3],\n       [5.6, 3. , 4.1, 1.3],\n       [5.5, 2.5, 4. , 1.3],\n       [5.5, 2.6, 4.4, 1.2],\n       [6.1, 3. , 4.6, 1.4],\n       [5.8, 2.6, 4. , 1.2],\n       [5. , 2.3, 3.3, 1. ],\n       [5.6, 2.7, 4.2, 1.3],\n       [5.7, 3. , 4.2, 1.2],\n       [5.7, 2.9, 4.2, 1.3],\n       [6.2, 2.9, 4.3, 1.3],\n       [5.1, 2.5, 3. , 1.1],\n       [5.7, 2.8, 4.1, 1.3],\n       [6.3, 3.3, 6. , 2.5],\n       [5.8, 2.7, 5.1, 1.9],\n       [7.1, 3. , 5.9, 2.1],\n       [6.3, 2.9, 5.6, 1.8],\n       [6.5, 3. , 5.8, 2.2],\n       [7.6, 3. , 6.6, 2.1],\n       [4.9, 2.5, 4.5, 1.7],\n       [7.3, 2.9, 6.3, 1.8],\n       [6.7, 2.5, 5.8, 1.8],\n       [7.2, 3.6, 6.1, 2.5],\n       [6.5, 3.2, 5.1, 2. ],\n       [6.4, 2.7, 5.3, 1.9],\n       [6.8, 3. , 5.5, 2.1],\n       [5.7, 2.5, 5. , 2. ],\n       [5.8, 2.8, 5.1, 2.4],\n       [6.4, 3.2, 5.3, 2.3],\n       [6.5, 3. , 5.5, 1.8],\n       [7.7, 3.8, 6.7, 2.2],\n       [7.7, 2.6, 6.9, 2.3],\n       [6. , 2.2, 5. , 1.5],\n       [6.9, 3.2, 5.7, 2.3],\n       [5.6, 2.8, 4.9, 2. ],\n       [7.7, 2.8, 6.7, 2. ],\n       [6.3, 2.7, 4.9, 1.8],\n       [6.7, 3.3, 5.7, 2.1],\n       [7.2, 3.2, 6. , 1.8],\n       [6.2, 2.8, 4.8, 1.8],\n       [6.1, 3. , 4.9, 1.8],\n       [6.4, 2.8, 5.6, 2.1],\n       [7.2, 3. , 5.8, 1.6],\n       [7.4, 2.8, 6.1, 1.9],\n       [7.9, 3.8, 6.4, 2. ],\n       [6.4, 2.8, 5.6, 2.2],\n       [6.3, 2.8, 5.1, 1.5],\n       [6.1, 2.6, 5.6, 1.4],\n       [7.7, 3. , 6.1, 2.3],\n       [6.3, 3.4, 5.6, 2.4],\n       [6.4, 3.1, 5.5, 1.8],\n       [6. , 3. , 4.8, 1.8],\n       [6.9, 3.1, 5.4, 2.1],\n       [6.7, 3.1, 5.6, 2.4],\n       [6.9, 3.1, 5.1, 2.3],\n       [5.8, 2.7, 5.1, 1.9],\n       [6.8, 3.2, 5.9, 2.3],\n       [6.7, 3.3, 5.7, 2.5],\n       [6.7, 3. , 5.2, 2.3],\n       [6.3, 2.5, 5. , 1.9],\n       [6.5, 3. , 5.2, 2. ],\n       [6.2, 3.4, 5.4, 2.3],\n       [5.9, 3. , 5.1, 1.8]])"
     },
     "execution_count": 3,
     "metadata": {},
     "output_type": "execute_result"
    }
   ],
   "source": [
    "iris.data"
   ],
   "metadata": {
    "collapsed": false,
    "pycharm": {
     "name": "#%%\n"
    }
   }
  },
  {
   "cell_type": "code",
   "execution_count": 4,
   "outputs": [
    {
     "data": {
      "text/plain": "array([0, 0, 0, 0, 0, 0, 0, 0, 0, 0, 0, 0, 0, 0, 0, 0, 0, 0, 0, 0, 0, 0,\n       0, 0, 0, 0, 0, 0, 0, 0, 0, 0, 0, 0, 0, 0, 0, 0, 0, 0, 0, 0, 0, 0,\n       0, 0, 0, 0, 0, 0, 1, 1, 1, 1, 1, 1, 1, 1, 1, 1, 1, 1, 1, 1, 1, 1,\n       1, 1, 1, 1, 1, 1, 1, 1, 1, 1, 1, 1, 1, 1, 1, 1, 1, 1, 1, 1, 1, 1,\n       1, 1, 1, 1, 1, 1, 1, 1, 1, 1, 1, 1, 2, 2, 2, 2, 2, 2, 2, 2, 2, 2,\n       2, 2, 2, 2, 2, 2, 2, 2, 2, 2, 2, 2, 2, 2, 2, 2, 2, 2, 2, 2, 2, 2,\n       2, 2, 2, 2, 2, 2, 2, 2, 2, 2, 2, 2, 2, 2, 2, 2, 2, 2])"
     },
     "execution_count": 4,
     "metadata": {},
     "output_type": "execute_result"
    }
   ],
   "source": [
    "iris.target"
   ],
   "metadata": {
    "collapsed": false,
    "pycharm": {
     "name": "#%%\n"
    }
   }
  },
  {
   "cell_type": "code",
   "execution_count": 5,
   "outputs": [
    {
     "data": {
      "text/plain": "array(['setosa', 'versicolor', 'virginica'], dtype='<U10')"
     },
     "execution_count": 5,
     "metadata": {},
     "output_type": "execute_result"
    }
   ],
   "source": [
    "iris.target_names"
   ],
   "metadata": {
    "collapsed": false,
    "pycharm": {
     "name": "#%%\n"
    }
   }
  },
  {
   "cell_type": "code",
   "execution_count": 6,
   "outputs": [
    {
     "data": {
      "text/plain": "['sepal length (cm)',\n 'sepal width (cm)',\n 'petal length (cm)',\n 'petal width (cm)']"
     },
     "execution_count": 6,
     "metadata": {},
     "output_type": "execute_result"
    }
   ],
   "source": [
    "iris.feature_names"
   ],
   "metadata": {
    "collapsed": false,
    "pycharm": {
     "name": "#%%\n"
    }
   }
  },
  {
   "cell_type": "code",
   "execution_count": 7,
   "outputs": [
    {
     "name": "stdout",
     "output_type": "stream",
     "text": [
      "feature , target를 이용해서 데이터 프레임을 만들어 보자 - \n"
     ]
    }
   ],
   "source": [
    "print('feature , target를 이용해서 데이터 프레임을 만들어 보자 - ')\n",
    "iris_frm = pd.DataFrame(data = iris.data,\n",
    "                        columns = iris.feature_names)\n",
    "iris_frm['target'] = iris.target"
   ],
   "metadata": {
    "collapsed": false,
    "pycharm": {
     "name": "#%%\n"
    }
   }
  },
  {
   "cell_type": "code",
   "execution_count": 8,
   "outputs": [
    {
     "data": {
      "text/plain": "     sepal length (cm)  sepal width (cm)  petal length (cm)  petal width (cm)  \\\n0                  5.1               3.5                1.4               0.2   \n1                  4.9               3.0                1.4               0.2   \n2                  4.7               3.2                1.3               0.2   \n3                  4.6               3.1                1.5               0.2   \n4                  5.0               3.6                1.4               0.2   \n..                 ...               ...                ...               ...   \n145                6.7               3.0                5.2               2.3   \n146                6.3               2.5                5.0               1.9   \n147                6.5               3.0                5.2               2.0   \n148                6.2               3.4                5.4               2.3   \n149                5.9               3.0                5.1               1.8   \n\n     target  \n0         0  \n1         0  \n2         0  \n3         0  \n4         0  \n..      ...  \n145       2  \n146       2  \n147       2  \n148       2  \n149       2  \n\n[150 rows x 5 columns]",
      "text/html": "<div>\n<style scoped>\n    .dataframe tbody tr th:only-of-type {\n        vertical-align: middle;\n    }\n\n    .dataframe tbody tr th {\n        vertical-align: top;\n    }\n\n    .dataframe thead th {\n        text-align: right;\n    }\n</style>\n<table border=\"1\" class=\"dataframe\">\n  <thead>\n    <tr style=\"text-align: right;\">\n      <th></th>\n      <th>sepal length (cm)</th>\n      <th>sepal width (cm)</th>\n      <th>petal length (cm)</th>\n      <th>petal width (cm)</th>\n      <th>target</th>\n    </tr>\n  </thead>\n  <tbody>\n    <tr>\n      <th>0</th>\n      <td>5.1</td>\n      <td>3.5</td>\n      <td>1.4</td>\n      <td>0.2</td>\n      <td>0</td>\n    </tr>\n    <tr>\n      <th>1</th>\n      <td>4.9</td>\n      <td>3.0</td>\n      <td>1.4</td>\n      <td>0.2</td>\n      <td>0</td>\n    </tr>\n    <tr>\n      <th>2</th>\n      <td>4.7</td>\n      <td>3.2</td>\n      <td>1.3</td>\n      <td>0.2</td>\n      <td>0</td>\n    </tr>\n    <tr>\n      <th>3</th>\n      <td>4.6</td>\n      <td>3.1</td>\n      <td>1.5</td>\n      <td>0.2</td>\n      <td>0</td>\n    </tr>\n    <tr>\n      <th>4</th>\n      <td>5.0</td>\n      <td>3.6</td>\n      <td>1.4</td>\n      <td>0.2</td>\n      <td>0</td>\n    </tr>\n    <tr>\n      <th>...</th>\n      <td>...</td>\n      <td>...</td>\n      <td>...</td>\n      <td>...</td>\n      <td>...</td>\n    </tr>\n    <tr>\n      <th>145</th>\n      <td>6.7</td>\n      <td>3.0</td>\n      <td>5.2</td>\n      <td>2.3</td>\n      <td>2</td>\n    </tr>\n    <tr>\n      <th>146</th>\n      <td>6.3</td>\n      <td>2.5</td>\n      <td>5.0</td>\n      <td>1.9</td>\n      <td>2</td>\n    </tr>\n    <tr>\n      <th>147</th>\n      <td>6.5</td>\n      <td>3.0</td>\n      <td>5.2</td>\n      <td>2.0</td>\n      <td>2</td>\n    </tr>\n    <tr>\n      <th>148</th>\n      <td>6.2</td>\n      <td>3.4</td>\n      <td>5.4</td>\n      <td>2.3</td>\n      <td>2</td>\n    </tr>\n    <tr>\n      <th>149</th>\n      <td>5.9</td>\n      <td>3.0</td>\n      <td>5.1</td>\n      <td>1.8</td>\n      <td>2</td>\n    </tr>\n  </tbody>\n</table>\n<p>150 rows × 5 columns</p>\n</div>"
     },
     "execution_count": 8,
     "metadata": {},
     "output_type": "execute_result"
    }
   ],
   "source": [
    "iris_frm"
   ],
   "metadata": {
    "collapsed": false,
    "pycharm": {
     "name": "#%%\n"
    }
   }
  },
  {
   "cell_type": "code",
   "execution_count": 9,
   "outputs": [
    {
     "data": {
      "text/plain": "' - Estimator : classification(분류) , regression(회귀)\\n- 분류 알고리즘 : DecisionTreeClassifer , RandomForestClassifer , XXXXXClassifer , GNB , SVM\\n- 회귀 알고리즘 : LinerRegression , Ridge , Lasso , RandomForestRegression\\n'"
     },
     "execution_count": 9,
     "metadata": {},
     "output_type": "execute_result"
    }
   ],
   "source": [
    "''' - Estimator : classification(분류) , regression(회귀)\n",
    "- 분류 알고리즘 : DecisionTreeClassifer , RandomForestClassifer , XXXXXClassifer , GNB , SVM\n",
    "- 회귀 알고리즘 : LinerRegression , Ridge , Lasso , RandomForestRegression\n",
    "'''"
   ],
   "metadata": {
    "collapsed": false,
    "pycharm": {
     "name": "#%%\n"
    }
   }
  },
  {
   "cell_type": "code",
   "execution_count": 10,
   "outputs": [
    {
     "data": {
      "text/plain": "'\\n#### classification 절차\\n- step01. 데이터세트 분리(학습, 테스트)\\n- step02. 학습데이터를 기반으로 ML 알고리즘을 적용해 학습 모델을 생성 - fit()\\n- step03. 분류예측수행(테스트 데이터) - predict()\\n- step04. 평가( 정확도 , 정밀도, 재현율, 조화평균 )\\n\\n'"
     },
     "execution_count": 10,
     "metadata": {},
     "output_type": "execute_result"
    }
   ],
   "source": [
    "'''\n",
    "#### classification 절차\n",
    "- step01. 데이터세트 분리(학습, 테스트)\n",
    "- step02. 학습데이터를 기반으로 ML 알고리즘을 적용해 학습 모델을 생성 - fit()\n",
    "- step03. 분류예측수행(테스트 데이터) - predict()\n",
    "- step04. 평가( 정확도 , 정밀도, 재현율, 조화평균 )\n",
    "\n",
    "'''"
   ],
   "metadata": {
    "collapsed": false,
    "pycharm": {
     "name": "#%%\n"
    }
   }
  },
  {
   "cell_type": "code",
   "execution_count": 11,
   "outputs": [
    {
     "name": "stdout",
     "output_type": "stream",
     "text": [
      "step 01 - 데이터세트 분리\n"
     ]
    },
    {
     "data": {
      "text/plain": "((120, 4), (30, 4), (120,), (30,))"
     },
     "execution_count": 11,
     "metadata": {},
     "output_type": "execute_result"
    }
   ],
   "source": [
    "print('step 01 - 데이터세트 분리')\n",
    "X_train, X_test, y_train, y_test = train_test_split(iris.data,\n",
    "                                                    iris.target,\n",
    "                                                    test_size = 0.2,\n",
    "                                                    shuffle = True,\n",
    "                                                    random_state= 200\n",
    "                                                    )\n",
    "\n",
    "X_train.shape, X_test.shape, y_train.shape, y_test.shape"
   ],
   "metadata": {
    "collapsed": false,
    "pycharm": {
     "name": "#%%\n"
    }
   }
  },
  {
   "cell_type": "code",
   "execution_count": 12,
   "outputs": [
    {
     "name": "stdout",
     "output_type": "stream",
     "text": [
      "test target - [1 2 0 0 1 2 1 1 1 2 2 0 0 0 2 0 1 0 1 2 0 1 2 0 0 0 1 2 2 1]\n"
     ]
    }
   ],
   "source": [
    "print('test target -', y_test)"
   ],
   "metadata": {
    "collapsed": false,
    "pycharm": {
     "name": "#%%\n"
    }
   }
  },
  {
   "cell_type": "code",
   "execution_count": 13,
   "outputs": [
    {
     "name": "stdout",
     "output_type": "stream",
     "text": [
      " step02 - estimater 생성 및 학습 - \n"
     ]
    },
    {
     "data": {
      "text/plain": "DecisionTreeClassifier()"
     },
     "execution_count": 13,
     "metadata": {},
     "output_type": "execute_result"
    }
   ],
   "source": [
    "print(' step02 - estimater 생성 및 학습 - ')\n",
    "\n",
    "df_model = DecisionTreeClassifier()\n",
    "df_model.fit(X_train,y_train)"
   ],
   "metadata": {
    "collapsed": false,
    "pycharm": {
     "name": "#%%\n"
    }
   }
  },
  {
   "cell_type": "code",
   "execution_count": 14,
   "outputs": [
    {
     "name": "stdout",
     "output_type": "stream",
     "text": [
      "step03 - predict 함수에 테스트 데이터를 넣어서 분류예측 값을 반환 - \n",
      "answer - [1 2 0 0 1 2 1 1 1 2 2 0 0 0 2 0 1 0 1 2 0 1 2 0 0 0 1 2 2 1]\n",
      "pred - [1 2 0 0 1 2 1 1 1 2 2 0 0 0 2 0 1 0 1 2 0 1 2 0 0 0 1 2 2 1]\n"
     ]
    }
   ],
   "source": [
    "print('step03 - predict 함수에 테스트 데이터를 넣어서 분류예측 값을 반환 - ')\n",
    "y_pred = df_model.predict(X_test)\n",
    "print('answer -', y_test)\n",
    "print('pred -', y_pred)"
   ],
   "metadata": {
    "collapsed": false,
    "pycharm": {
     "name": "#%%\n"
    }
   }
  },
  {
   "cell_type": "code",
   "execution_count": 15,
   "outputs": [
    {
     "name": "stdout",
     "output_type": "stream",
     "text": [
      "step04 - 성능평가 - \n",
      "예측 정확도 -  1.0\n"
     ]
    }
   ],
   "source": [
    "print('step04 - 성능평가 - ')\n",
    "print('예측 정확도 - ' , accuracy_score(y_test , y_pred) )"
   ],
   "metadata": {
    "collapsed": false,
    "pycharm": {
     "name": "#%%\n"
    }
   }
  },
  {
   "cell_type": "code",
   "execution_count": 16,
   "outputs": [
    {
     "name": "stdout",
     "output_type": "stream",
     "text": [
      "데이터프레임을 이용한 학습데이터와 테스트 데이터분리 후 모델생성 및 예측, 평가를 진행 본다면 - \n",
      "case 02 - \n"
     ]
    },
    {
     "data": {
      "text/plain": "     sepal length (cm)  sepal width (cm)  petal length (cm)  petal width (cm)  \\\n0                  5.1               3.5                1.4               0.2   \n1                  4.9               3.0                1.4               0.2   \n2                  4.7               3.2                1.3               0.2   \n3                  4.6               3.1                1.5               0.2   \n4                  5.0               3.6                1.4               0.2   \n..                 ...               ...                ...               ...   \n145                6.7               3.0                5.2               2.3   \n146                6.3               2.5                5.0               1.9   \n147                6.5               3.0                5.2               2.0   \n148                6.2               3.4                5.4               2.3   \n149                5.9               3.0                5.1               1.8   \n\n     target  \n0         0  \n1         0  \n2         0  \n3         0  \n4         0  \n..      ...  \n145       2  \n146       2  \n147       2  \n148       2  \n149       2  \n\n[150 rows x 5 columns]",
      "text/html": "<div>\n<style scoped>\n    .dataframe tbody tr th:only-of-type {\n        vertical-align: middle;\n    }\n\n    .dataframe tbody tr th {\n        vertical-align: top;\n    }\n\n    .dataframe thead th {\n        text-align: right;\n    }\n</style>\n<table border=\"1\" class=\"dataframe\">\n  <thead>\n    <tr style=\"text-align: right;\">\n      <th></th>\n      <th>sepal length (cm)</th>\n      <th>sepal width (cm)</th>\n      <th>petal length (cm)</th>\n      <th>petal width (cm)</th>\n      <th>target</th>\n    </tr>\n  </thead>\n  <tbody>\n    <tr>\n      <th>0</th>\n      <td>5.1</td>\n      <td>3.5</td>\n      <td>1.4</td>\n      <td>0.2</td>\n      <td>0</td>\n    </tr>\n    <tr>\n      <th>1</th>\n      <td>4.9</td>\n      <td>3.0</td>\n      <td>1.4</td>\n      <td>0.2</td>\n      <td>0</td>\n    </tr>\n    <tr>\n      <th>2</th>\n      <td>4.7</td>\n      <td>3.2</td>\n      <td>1.3</td>\n      <td>0.2</td>\n      <td>0</td>\n    </tr>\n    <tr>\n      <th>3</th>\n      <td>4.6</td>\n      <td>3.1</td>\n      <td>1.5</td>\n      <td>0.2</td>\n      <td>0</td>\n    </tr>\n    <tr>\n      <th>4</th>\n      <td>5.0</td>\n      <td>3.6</td>\n      <td>1.4</td>\n      <td>0.2</td>\n      <td>0</td>\n    </tr>\n    <tr>\n      <th>...</th>\n      <td>...</td>\n      <td>...</td>\n      <td>...</td>\n      <td>...</td>\n      <td>...</td>\n    </tr>\n    <tr>\n      <th>145</th>\n      <td>6.7</td>\n      <td>3.0</td>\n      <td>5.2</td>\n      <td>2.3</td>\n      <td>2</td>\n    </tr>\n    <tr>\n      <th>146</th>\n      <td>6.3</td>\n      <td>2.5</td>\n      <td>5.0</td>\n      <td>1.9</td>\n      <td>2</td>\n    </tr>\n    <tr>\n      <th>147</th>\n      <td>6.5</td>\n      <td>3.0</td>\n      <td>5.2</td>\n      <td>2.0</td>\n      <td>2</td>\n    </tr>\n    <tr>\n      <th>148</th>\n      <td>6.2</td>\n      <td>3.4</td>\n      <td>5.4</td>\n      <td>2.3</td>\n      <td>2</td>\n    </tr>\n    <tr>\n      <th>149</th>\n      <td>5.9</td>\n      <td>3.0</td>\n      <td>5.1</td>\n      <td>1.8</td>\n      <td>2</td>\n    </tr>\n  </tbody>\n</table>\n<p>150 rows × 5 columns</p>\n</div>"
     },
     "execution_count": 16,
     "metadata": {},
     "output_type": "execute_result"
    }
   ],
   "source": [
    "print('데이터프레임을 이용한 학습데이터와 테스트 데이터분리 후 모델생성 및 예측, 평가를 진행 본다면 - ')\n",
    "print('case 02 - ')\n",
    "iris_frm"
   ],
   "metadata": {
    "collapsed": false,
    "pycharm": {
     "name": "#%%\n"
    }
   }
  },
  {
   "cell_type": "code",
   "execution_count": 17,
   "outputs": [
    {
     "data": {
      "text/plain": "     sepal length (cm)  sepal width (cm)  petal length (cm)  petal width (cm)\n0                  5.1               3.5                1.4               0.2\n1                  4.9               3.0                1.4               0.2\n2                  4.7               3.2                1.3               0.2\n3                  4.6               3.1                1.5               0.2\n4                  5.0               3.6                1.4               0.2\n..                 ...               ...                ...               ...\n145                6.7               3.0                5.2               2.3\n146                6.3               2.5                5.0               1.9\n147                6.5               3.0                5.2               2.0\n148                6.2               3.4                5.4               2.3\n149                5.9               3.0                5.1               1.8\n\n[150 rows x 4 columns]",
      "text/html": "<div>\n<style scoped>\n    .dataframe tbody tr th:only-of-type {\n        vertical-align: middle;\n    }\n\n    .dataframe tbody tr th {\n        vertical-align: top;\n    }\n\n    .dataframe thead th {\n        text-align: right;\n    }\n</style>\n<table border=\"1\" class=\"dataframe\">\n  <thead>\n    <tr style=\"text-align: right;\">\n      <th></th>\n      <th>sepal length (cm)</th>\n      <th>sepal width (cm)</th>\n      <th>petal length (cm)</th>\n      <th>petal width (cm)</th>\n    </tr>\n  </thead>\n  <tbody>\n    <tr>\n      <th>0</th>\n      <td>5.1</td>\n      <td>3.5</td>\n      <td>1.4</td>\n      <td>0.2</td>\n    </tr>\n    <tr>\n      <th>1</th>\n      <td>4.9</td>\n      <td>3.0</td>\n      <td>1.4</td>\n      <td>0.2</td>\n    </tr>\n    <tr>\n      <th>2</th>\n      <td>4.7</td>\n      <td>3.2</td>\n      <td>1.3</td>\n      <td>0.2</td>\n    </tr>\n    <tr>\n      <th>3</th>\n      <td>4.6</td>\n      <td>3.1</td>\n      <td>1.5</td>\n      <td>0.2</td>\n    </tr>\n    <tr>\n      <th>4</th>\n      <td>5.0</td>\n      <td>3.6</td>\n      <td>1.4</td>\n      <td>0.2</td>\n    </tr>\n    <tr>\n      <th>...</th>\n      <td>...</td>\n      <td>...</td>\n      <td>...</td>\n      <td>...</td>\n    </tr>\n    <tr>\n      <th>145</th>\n      <td>6.7</td>\n      <td>3.0</td>\n      <td>5.2</td>\n      <td>2.3</td>\n    </tr>\n    <tr>\n      <th>146</th>\n      <td>6.3</td>\n      <td>2.5</td>\n      <td>5.0</td>\n      <td>1.9</td>\n    </tr>\n    <tr>\n      <th>147</th>\n      <td>6.5</td>\n      <td>3.0</td>\n      <td>5.2</td>\n      <td>2.0</td>\n    </tr>\n    <tr>\n      <th>148</th>\n      <td>6.2</td>\n      <td>3.4</td>\n      <td>5.4</td>\n      <td>2.3</td>\n    </tr>\n    <tr>\n      <th>149</th>\n      <td>5.9</td>\n      <td>3.0</td>\n      <td>5.1</td>\n      <td>1.8</td>\n    </tr>\n  </tbody>\n</table>\n<p>150 rows × 4 columns</p>\n</div>"
     },
     "execution_count": 17,
     "metadata": {},
     "output_type": "execute_result"
    }
   ],
   "source": [
    "iris_features = iris_frm.iloc[ :, :-1]\n",
    "iris_features"
   ],
   "metadata": {
    "collapsed": false,
    "pycharm": {
     "name": "#%%\n"
    }
   }
  },
  {
   "cell_type": "code",
   "execution_count": 18,
   "outputs": [
    {
     "data": {
      "text/plain": "0      0\n1      0\n2      0\n3      0\n4      0\n      ..\n145    2\n146    2\n147    2\n148    2\n149    2\nName: target, Length: 150, dtype: int64"
     },
     "execution_count": 18,
     "metadata": {},
     "output_type": "execute_result"
    }
   ],
   "source": [
    "iris_target = iris_frm.iloc[: , -1]\n",
    "iris_target"
   ],
   "metadata": {
    "collapsed": false,
    "pycharm": {
     "name": "#%%\n"
    }
   }
  },
  {
   "cell_type": "code",
   "execution_count": 19,
   "outputs": [
    {
     "data": {
      "text/plain": "((120, 4), (30, 4), (120,), (30,))"
     },
     "execution_count": 19,
     "metadata": {},
     "output_type": "execute_result"
    }
   ],
   "source": [
    "X_train, X_test, y_train, y_test = train_test_split(iris_features,\n",
    "                                                    iris_target,\n",
    "                                                    test_size = 0.2,\n",
    "                                                    shuffle = True,\n",
    "                                                    random_state= 200\n",
    "                                                    )\n",
    "\n",
    "X_train.shape, X_test.shape, y_train.shape, y_test.shape"
   ],
   "metadata": {
    "collapsed": false,
    "pycharm": {
     "name": "#%%\n"
    }
   }
  },
  {
   "cell_type": "code",
   "execution_count": 20,
   "outputs": [
    {
     "data": {
      "text/plain": "DecisionTreeClassifier()"
     },
     "execution_count": 20,
     "metadata": {},
     "output_type": "execute_result"
    }
   ],
   "source": [
    "dt_model = DecisionTreeClassifier()\n",
    "dt_model.fit(X_train, y_train)"
   ],
   "metadata": {
    "collapsed": false,
    "pycharm": {
     "name": "#%%\n"
    }
   }
  },
  {
   "cell_type": "code",
   "execution_count": 21,
   "outputs": [
    {
     "name": "stdout",
     "output_type": "stream",
     "text": [
      "성능평가\n"
     ]
    },
    {
     "data": {
      "text/plain": "1.0"
     },
     "execution_count": 21,
     "metadata": {},
     "output_type": "execute_result"
    }
   ],
   "source": [
    "y_pred = dt_model.predict(X_test)\n",
    "\n",
    "print('성능평가')\n",
    "accuracy_score(y_test,y_pred)"
   ],
   "metadata": {
    "collapsed": false,
    "pycharm": {
     "name": "#%%\n"
    }
   }
  },
  {
   "cell_type": "code",
   "execution_count": 22,
   "outputs": [
    {
     "data": {
      "text/plain": "'\\n교차검증(Cross Validation)\\n\\n- 과적합을 방지하기 위한 작업\\n- 데이터 편을 막기위한 방법\\n- KFold\\n- 분류에는 사용할 수 있지만 회귀에서는 사용이 가능하지 않는다.(이유는 연속된 숫자값 때문에)\\n\\n'"
     },
     "execution_count": 22,
     "metadata": {},
     "output_type": "execute_result"
    }
   ],
   "source": [
    "'''\n",
    "교차검증(Cross Validation)\n",
    "\n",
    "- 과적합을 방지하기 위한 작업\n",
    "- 데이터 편을 막기위한 방법\n",
    "- KFold\n",
    "- 분류에는 사용할 수 있지만 회귀에서는 사용이 가능하지 않는다.(이유는 연속된 숫자값 때문에)\n",
    "\n",
    "'''"
   ],
   "metadata": {
    "collapsed": false,
    "pycharm": {
     "name": "#%%\n"
    }
   }
  },
  {
   "cell_type": "code",
   "execution_count": 23,
   "outputs": [
    {
     "data": {
      "text/plain": "array([0, 0, 0, 0, 0, 0, 0, 0, 0, 0, 0, 0, 0, 0, 0, 0, 0, 0, 0, 0, 0, 0,\n       0, 0, 0, 0, 0, 0, 0, 0, 0, 0, 0, 0, 0, 0, 0, 0, 0, 0, 0, 0, 0, 0,\n       0, 0, 0, 0, 0, 0, 1, 1, 1, 1, 1, 1, 1, 1, 1, 1, 1, 1, 1, 1, 1, 1,\n       1, 1, 1, 1, 1, 1, 1, 1, 1, 1, 1, 1, 1, 1, 1, 1, 1, 1, 1, 1, 1, 1,\n       1, 1, 1, 1, 1, 1, 1, 1, 1, 1, 1, 1, 2, 2, 2, 2, 2, 2, 2, 2, 2, 2,\n       2, 2, 2, 2, 2, 2, 2, 2, 2, 2, 2, 2, 2, 2, 2, 2, 2, 2, 2, 2, 2, 2,\n       2, 2, 2, 2, 2, 2, 2, 2, 2, 2, 2, 2, 2, 2, 2, 2, 2, 2])"
     },
     "execution_count": 23,
     "metadata": {},
     "output_type": "execute_result"
    }
   ],
   "source": [
    "features = iris.data\n",
    "target = iris.target\n",
    "\n",
    "target"
   ],
   "metadata": {
    "collapsed": false,
    "pycharm": {
     "name": "#%%\n"
    }
   }
  },
  {
   "cell_type": "code",
   "execution_count": 24,
   "outputs": [
    {
     "data": {
      "text/plain": "'\\nKFold의 경우 스플릿하여서 데이터를 집어넣게 된다. 하지만 KFold 역시 문제점을 가지고 있어서 교차검증을 통해서 좀더 확실한\\n학습을 시켜야한다.\\n\\n'"
     },
     "execution_count": 24,
     "metadata": {},
     "output_type": "execute_result"
    }
   ],
   "source": [
    "'''\n",
    "KFold의 경우 스플릿하여서 데이터를 집어넣게 된다. 하지만 KFold 역시 문제점을 가지고 있어서 교차검증을 통해서 좀더 확실한\n",
    "학습을 시켜야한다.\n",
    "\n",
    "'''"
   ],
   "metadata": {
    "collapsed": false,
    "pycharm": {
     "name": "#%%\n"
    }
   }
  },
  {
   "cell_type": "code",
   "execution_count": 25,
   "outputs": [
    {
     "name": "stdout",
     "output_type": "stream",
     "text": [
      "fold set : 1 , 교차검증 정확도 : 0.9666666666666667 , 학습데이터 크기 : 120 , 검증데이터 크기 : 4 \n",
      "1 검증 세트 인덱스 [  1   3   6  16  24  28  30  31  32  39  43  48  51  52  60  68  71  84\n",
      " 100 101 104 105 109 113 123 126 127 129 136 140] \n",
      "fold set : 2 , 교차검증 정확도 : 1.0 , 학습데이터 크기 : 120 , 검증데이터 크기 : 4 \n",
      "2 검증 세트 인덱스 [  2   4   5   7  12  13  29  36  37  38  44  49  58  64  69  79  80  87\n",
      "  88  89  92  99 110 115 120 130 131 138 144 147] \n",
      "fold set : 3 , 교차검증 정확도 : 0.9 , 학습데이터 크기 : 120 , 검증데이터 크기 : 4 \n",
      "3 검증 세트 인덱스 [  0  10  11  14  33  34  47  53  56  57  63  72  77  82  85  90  93 102\n",
      " 106 107 111 116 125 128 132 133 134 137 139 149] \n",
      "fold set : 4 , 교차검증 정확도 : 0.9666666666666667 , 학습데이터 크기 : 120 , 검증데이터 크기 : 4 \n",
      "4 검증 세트 인덱스 [ 17  22  23  25  26  27  35  40  41  45  46  50  55  59  61  70  73  75\n",
      "  76  78  81  94  95  96  97 114 121 124 141 146] \n",
      "fold set : 5 , 교차검증 정확도 : 0.9333333333333333 , 학습데이터 크기 : 120 , 검증데이터 크기 : 4 \n",
      "5 검증 세트 인덱스 [  8   9  15  18  19  20  21  42  54  62  65  66  67  74  83  86  91  98\n",
      " 103 108 112 117 118 119 122 135 142 143 145 148] \n",
      "평균 검증 정확도 -  0.9533333333333334\n"
     ]
    }
   ],
   "source": [
    "fold = KFold(n_splits=5, shuffle= True)\n",
    "cv_accuracy = []\n",
    "\n",
    "cv_dt_model = DecisionTreeClassifier()\n",
    "fold_idx = 0\n",
    "\n",
    "for train_idx, test_idx in fold.split(features):\n",
    "    # print('train_idx - ', train_idx)\n",
    "    # print('*'*50)\n",
    "    # print('test_idx - ', test_idx)\n",
    "    # print('*'*50)\n",
    "    X_train, X_test = features[train_idx], features[test_idx]\n",
    "    y_train, y_test = target[train_idx], target[test_idx]\n",
    "\n",
    "    cv_dt_model.fit(X_train, y_train)\n",
    "    fold_pred = cv_dt_model.predict(X_test)\n",
    "    fold_idx += 1\n",
    "\n",
    "    acc = accuracy_score(y_test, fold_pred)\n",
    "\n",
    "    print('fold set : {} , 교차검증 정확도 : {} , 학습데이터 크기 : {} , 검증데이터 크기 : {} '.format(fold_idx, acc, X_train.shape[0], X_test[0].shape[0] ))\n",
    "\n",
    "    print('{} 검증 세트 인덱스 {} '.format(fold_idx, test_idx))\n",
    "\n",
    "    cv_accuracy.append(acc)\n",
    "\n",
    "print('평균 검증 정확도 - ', np.mean(cv_accuracy))"
   ],
   "metadata": {
    "collapsed": false,
    "pycharm": {
     "name": "#%%\n"
    }
   }
  },
  {
   "cell_type": "code",
   "execution_count": 26,
   "outputs": [],
   "source": [
    "# 레이블에대한 분포를 고려한 뒤 이 분포와 동일하게 학습과 검증데이터 세트를 분배하는 교차검증이 있다.\n",
    "# Stratifild KFold -> 기존 KFold 의 불균형한 분포를 개선"
   ],
   "metadata": {
    "collapsed": false,
    "pycharm": {
     "name": "#%%\n"
    }
   }
  },
  {
   "cell_type": "code",
   "execution_count": 27,
   "outputs": [
    {
     "name": "stdout",
     "output_type": "stream",
     "text": [
      "KFold의 문제점\n"
     ]
    },
    {
     "data": {
      "text/plain": "0    50\n1    50\n2    50\nName: target, dtype: int64"
     },
     "execution_count": 27,
     "metadata": {},
     "output_type": "execute_result"
    }
   ],
   "source": [
    "print('KFold의 문제점')\n",
    "iris_frm['target'].value_counts()"
   ],
   "metadata": {
    "collapsed": false,
    "pycharm": {
     "name": "#%%\n"
    }
   }
  },
  {
   "cell_type": "code",
   "execution_count": 28,
   "outputs": [
    {
     "name": "stdout",
     "output_type": "stream",
     "text": [
      "\n",
      "교차검증 1 set \n",
      "train value count - \n",
      "1    50\n",
      "2    50\n",
      "Name: target, dtype: int64\n",
      "test  value count - \n",
      "0    50\n",
      "Name: target, dtype: int64\n",
      "\n",
      "\n",
      "\n",
      "교차검증 2 set \n",
      "train value count - \n",
      "0    50\n",
      "2    50\n",
      "Name: target, dtype: int64\n",
      "test  value count - \n",
      "1    50\n",
      "Name: target, dtype: int64\n",
      "\n",
      "\n",
      "\n",
      "교차검증 3 set \n",
      "train value count - \n",
      "0    50\n",
      "1    50\n",
      "Name: target, dtype: int64\n",
      "test  value count - \n",
      "2    50\n",
      "Name: target, dtype: int64\n",
      "\n",
      "\n"
     ]
    }
   ],
   "source": [
    "fold = KFold(n_splits =3)\n",
    "\n",
    "fold_idx = 0\n",
    "\n",
    "for train_idx, test_idx in fold.split(iris_frm):\n",
    "    target_train = iris_frm['target'].iloc[train_idx]\n",
    "    target_test =  iris_frm['target'].iloc[test_idx]\n",
    "    print()\n",
    "    fold_idx += 1\n",
    "\n",
    "    print('교차검증 {} set '.format(fold_idx) )\n",
    "    print('train value count - ')\n",
    "    print(target_train.value_counts())\n",
    "    print('test  value count - ')\n",
    "    print(target_test.value_counts())\n",
    "    print()\n",
    "    print()"
   ],
   "metadata": {
    "collapsed": false,
    "pycharm": {
     "name": "#%%\n"
    }
   }
  },
  {
   "cell_type": "code",
   "execution_count": 29,
   "outputs": [
    {
     "data": {
      "text/plain": "' 위에 처럼하게 되면 포함되지 않는 데이터들이 발생하게 된다. '"
     },
     "execution_count": 29,
     "metadata": {},
     "output_type": "execute_result"
    }
   ],
   "source": [
    "''' 위에 처럼하게 되면 포함되지 않는 데이터들이 발생하게 된다. '''"
   ],
   "metadata": {
    "collapsed": false,
    "pycharm": {
     "name": "#%%\n"
    }
   }
  },
  {
   "cell_type": "code",
   "execution_count": 30,
   "outputs": [
    {
     "name": "stdout",
     "output_type": "stream",
     "text": [
      "레이블 데이터 세트도 필요 !!!\n",
      "\n",
      "교차검증 1 set \n",
      "train value count - \n",
      "2    34\n",
      "0    33\n",
      "1    33\n",
      "Name: target, dtype: int64\n",
      "test  value count - \n",
      "0    17\n",
      "1    17\n",
      "2    16\n",
      "Name: target, dtype: int64\n",
      "\n",
      "\n",
      "\n",
      "교차검증 2 set \n",
      "train value count - \n",
      "1    34\n",
      "0    33\n",
      "2    33\n",
      "Name: target, dtype: int64\n",
      "test  value count - \n",
      "0    17\n",
      "2    17\n",
      "1    16\n",
      "Name: target, dtype: int64\n",
      "\n",
      "\n",
      "\n",
      "교차검증 3 set \n",
      "train value count - \n",
      "0    34\n",
      "1    33\n",
      "2    33\n",
      "Name: target, dtype: int64\n",
      "test  value count - \n",
      "1    17\n",
      "2    17\n",
      "0    16\n",
      "Name: target, dtype: int64\n",
      "\n",
      "\n"
     ]
    }
   ],
   "source": [
    "skf = StratifiedKFold(n_splits=3)\n",
    "\n",
    "fold_idx = 0\n",
    "print('레이블 데이터 세트도 필요 !!!')\n",
    "for train_idx, test_idx in skf.split(iris_frm, iris_frm['target']):\n",
    "    target_train = iris_frm['target'].iloc[train_idx]\n",
    "    target_test = iris_frm['target'].iloc[test_idx]\n",
    "    print()\n",
    "    fold_idx += 1\n",
    "\n",
    "    print('교차검증 {} set '.format(fold_idx) )\n",
    "    print('train value count - ')\n",
    "    print(target_train.value_counts())\n",
    "    print('test  value count - ')\n",
    "    print(target_test.value_counts())\n",
    "    print()\n",
    "    print()"
   ],
   "metadata": {
    "collapsed": false,
    "pycharm": {
     "name": "#%%\n"
    }
   }
  },
  {
   "cell_type": "code",
   "execution_count": 31,
   "outputs": [
    {
     "name": "stdout",
     "output_type": "stream",
     "text": [
      "fold set : 1 , 교차검증 정확도 : 0.98 , 학습데이터 크기 : 100 , 검증데이터 크기 : 30 \n",
      "1 검증 세트 인덱스 [  0   1   2   3   4   5   6   7   8   9  10  11  12  13  14  15  16  50\n",
      "  51  52  53  54  55  56  57  58  59  60  61  62  63  64  65  66 100 101\n",
      " 102 103 104 105 106 107 108 109 110 111 112 113 114 115] \n",
      "\n",
      "\n",
      "fold set : 2 , 교차검증 정확도 : 0.94 , 학습데이터 크기 : 100 , 검증데이터 크기 : 30 \n",
      "2 검증 세트 인덱스 [ 17  18  19  20  21  22  23  24  25  26  27  28  29  30  31  32  33  67\n",
      "  68  69  70  71  72  73  74  75  76  77  78  79  80  81  82 116 117 118\n",
      " 119 120 121 122 123 124 125 126 127 128 129 130 131 132] \n",
      "\n",
      "\n",
      "fold set : 3 , 교차검증 정확도 : 0.96 , 학습데이터 크기 : 100 , 검증데이터 크기 : 30 \n",
      "3 검증 세트 인덱스 [ 34  35  36  37  38  39  40  41  42  43  44  45  46  47  48  49  83  84\n",
      "  85  86  87  88  89  90  91  92  93  94  95  96  97  98  99 133 134 135\n",
      " 136 137 138 139 140 141 142 143 144 145 146 147 148 149] \n",
      "\n",
      "\n"
     ]
    }
   ],
   "source": [
    "skf = StratifiedKFold(n_splits=3)\n",
    "\n",
    "fold_idx = 0\n",
    "cv_accuracy = []\n",
    "\n",
    "skf_dt_model = DecisionTreeClassifier()\n",
    "\n",
    "for train_idx, test_idx in skf.split(features, target):\n",
    "    # 학습데이터, 검증 데이터를 추출\n",
    "    X_train, X_validation = features[train_idx], features[test_idx]\n",
    "    y_train, y_validation = target[train_idx], target[test_idx]\n",
    "\n",
    "    # 학습, 예측\n",
    "    skf_dt_model.fit(X_train, y_train)\n",
    "    pred = skf_dt_model.predict(X_validation)\n",
    "\n",
    "    fold_idx += 1\n",
    "\n",
    "    acc = accuracy_score(y_validation, pred)\n",
    "\n",
    "    print('fold set : {} , 교차검증 정확도 : {} , 학습데이터 크기 : {} , 검증데이터 크기 : {} '.format(fold_idx , acc, X_train.shape[0] , X_test.shape[0]))\n",
    "    print('{} 검증 세트 인덱스 {} '.format(fold_idx , test_idx))\n",
    "    cv_accuracy.append(acc)\n",
    "    print()\n",
    "    print()\n",
    "\n"
   ],
   "metadata": {
    "collapsed": false,
    "pycharm": {
     "name": "#%%\n"
    }
   }
  },
  {
   "cell_type": "code",
   "execution_count": 32,
   "outputs": [
    {
     "name": "stdout",
     "output_type": "stream",
     "text": [
      "평균 검증 정확도 :  0.96\n"
     ]
    }
   ],
   "source": [
    "print('평균 검증 정확도 : ' , np.mean(cv_accuracy))"
   ],
   "metadata": {
    "collapsed": false,
    "pycharm": {
     "name": "#%%\n"
    }
   }
  },
  {
   "cell_type": "code",
   "execution_count": 33,
   "outputs": [
    {
     "name": "stdout",
     "output_type": "stream",
     "text": [
      "교차 검증 정확도 -  [0.98 0.92 0.96]\n",
      "평균 검증 정확도 -  0.9533333333333333\n"
     ]
    }
   ],
   "source": [
    "features = iris.data\n",
    "target = iris.target\n",
    "\n",
    "dt_model = DecisionTreeClassifier(random_state=100)\n",
    "score = cross_val_score(dt_model, features, target, scoring = 'accuracy', cv = 3)\n",
    "\n",
    "print('교차 검증 정확도 - ', score)\n",
    "print('평균 검증 정확도 - ', np.mean(score))\n"
   ],
   "metadata": {
    "collapsed": false,
    "pycharm": {
     "name": "#%%\n"
    }
   }
  },
  {
   "cell_type": "code",
   "execution_count": 34,
   "outputs": [
    {
     "name": "stdout",
     "output_type": "stream",
     "text": [
      "type -  <class 'dict'>\n",
      "{'fit_time': array([0.00327206, 0.003793  , 0.0041151 , 0.01161218, 0.0018301 ]), 'score_time': array([0.00252199, 0.00215912, 0.0009439 , 0.01114607, 0.00067377]), 'test_score': array([0.96666667, 0.96666667, 0.9       , 0.93333333, 1.        ])}\n",
      "\n",
      "교차 검증 시간 - [0.00327206 0.003793   0.0041151  0.01161218 0.0018301 ]\n",
      "교차 검증 정확도 - [0.96666667 0.96666667 0.9        0.93333333 1.        ]\n",
      "평균 검증 정확도 - 0.9533333333333334\n"
     ]
    }
   ],
   "source": [
    "features = iris.data\n",
    "target = iris.target\n",
    "\n",
    "dt_model = DecisionTreeClassifier(random_state = 100) # Decision Tree 를 실행할때 마다 동일한 rule을 만들기해서 사용\n",
    "score = cross_validate(dt_model, features, target, scoring = 'accuracy', cv = 5)\n",
    "\n",
    "print('type - ', type(score))\n",
    "print(score)\n",
    "print()\n",
    "\n",
    "print('교차 검증 시간 -', score['fit_time'])\n",
    "print('교차 검증 정확도 -', score['test_score'])\n",
    "print('평균 검증 정확도 -', np.mean(score['test_score']) )\n",
    "\n"
   ],
   "metadata": {
    "collapsed": false,
    "pycharm": {
     "name": "#%%\n"
    }
   }
  },
  {
   "cell_type": "code",
   "execution_count": 35,
   "outputs": [
    {
     "data": {
      "text/plain": "'\\n##### DecisionTree 에서 사용할 수 있는 파라미터\\n\\n- criterion : 분할 품질을 측정하는 기능 (default : gini)\\n- splitter : 각 노드에서 분할을 선택하는 데 사용되는 전략 (default : best)\\n- max_depth : 트리의 최대 깊이 (값이 클수록 모델의 복잡도가 올라간다.)\\n- min_samples_split : 자식 노드를 분할하는데 필요한 최소 샘플 수 (default : 2)\\n- min_samples_leaf : 리프 노드에 있어야 할 최소 샘플 수 (default : 1)\\n- min_weight_fraction_leaf : min_sample_leaf와 같지만 가중치가 부여된 샘플 수에서의 비율\\n- max_features : 각 노드에서 분할에 사용할 특징의 최대 수\\n- random_state : 난수 seed 설정\\n- max_leaf_nodes : 리프 노드의 최대수\\n- min_impurity_decrease : 최소 불순도\\n- min_impurity_split : 나무 성장을 멈추기 위한 임계치\\n- class_weight : 클래스 가중치\\n- presort : 데이터 정렬 필요 여부\\n'"
     },
     "execution_count": 35,
     "metadata": {},
     "output_type": "execute_result"
    }
   ],
   "source": [
    "'''\n",
    "##### DecisionTree 에서 사용할 수 있는 파라미터\n",
    "\n",
    "- criterion : 분할 품질을 측정하는 기능 (default : gini)\n",
    "- splitter : 각 노드에서 분할을 선택하는 데 사용되는 전략 (default : best)\n",
    "- max_depth : 트리의 최대 깊이 (값이 클수록 모델의 복잡도가 올라간다.)\n",
    "- min_samples_split : 자식 노드를 분할하는데 필요한 최소 샘플 수 (default : 2)\n",
    "- min_samples_leaf : 리프 노드에 있어야 할 최소 샘플 수 (default : 1)\n",
    "- min_weight_fraction_leaf : min_sample_leaf와 같지만 가중치가 부여된 샘플 수에서의 비율\n",
    "- max_features : 각 노드에서 분할에 사용할 특징의 최대 수\n",
    "- random_state : 난수 seed 설정\n",
    "- max_leaf_nodes : 리프 노드의 최대수\n",
    "- min_impurity_decrease : 최소 불순도\n",
    "- min_impurity_split : 나무 성장을 멈추기 위한 임계치\n",
    "- class_weight : 클래스 가중치\n",
    "- presort : 데이터 정렬 필요 여부\n",
    "'''"
   ],
   "metadata": {
    "collapsed": false,
    "pycharm": {
     "name": "#%%\n"
    }
   }
  },
  {
   "cell_type": "code",
   "execution_count": 36,
   "outputs": [],
   "source": [
    "params = {\n",
    "    'criterion' :['gini', 'entropy'],\n",
    "    'splitter' : ['best', 'random'],\n",
    "    'max_depth' : [1, 2, 3],\n",
    "    'min_samples_split' : [2, 3]\n",
    "}\n",
    "\n",
    "iris = load_iris()\n",
    "\n",
    "X_train, X_test, y_train, y_test = train_test_split(iris.data,\n",
    "                                                    iris.target,\n",
    "                                                    test_size=0.25,\n",
    "                                                    shuffle= True,\n",
    "                                                    random_state=200)\n",
    "\n",
    "X_train.shape, X_test.shape, y_train.shape, y_test.shape\n",
    "dt_model = DecisionTreeClassifier(random_state=100)\n"
   ],
   "metadata": {
    "collapsed": false,
    "pycharm": {
     "name": "#%%\n"
    }
   }
  },
  {
   "cell_type": "code",
   "execution_count": 37,
   "outputs": [
    {
     "data": {
      "text/plain": "{'mean_fit_time': array([0.01528478, 0.00875966, 0.00296307, 0.00757901, 0.00670608,\n        0.00357   , 0.0087959 , 0.00878366, 0.01036565, 0.00652035,\n        0.00272258, 0.00262372, 0.00287247, 0.01771037, 0.00750001,\n        0.00348131, 0.00219893, 0.00822496, 0.00353638, 0.00412567,\n        0.01177907, 0.00438158, 0.00543674, 0.0085396 ]),\n 'std_fit_time': array([0.01460283, 0.00818408, 0.00139345, 0.00684975, 0.00629194,\n        0.00206429, 0.00975757, 0.00586138, 0.00198231, 0.00421359,\n        0.00136991, 0.00067889, 0.00145071, 0.02251138, 0.00423566,\n        0.00069454, 0.00044479, 0.00413551, 0.00123891, 0.00267027,\n        0.00965437, 0.00141042, 0.00261689, 0.00829802]),\n 'mean_score_time': array([0.00370661, 0.00084321, 0.00754038, 0.00394336, 0.00270335,\n        0.01193388, 0.00299001, 0.00120624, 0.01158166, 0.00278258,\n        0.00084496, 0.0038693 , 0.00092411, 0.00274475, 0.00155894,\n        0.00225735, 0.00150673, 0.00514642, 0.0024217 , 0.00635997,\n        0.00078503, 0.00108965, 0.00116507, 0.00103005]),\n 'std_score_time': array([0.00230952, 0.00015446, 0.00538044, 0.00102918, 0.00281131,\n        0.01444813, 0.00257326, 0.00027352, 0.0051895 , 0.00303516,\n        0.0001356 , 0.00236621, 0.00040163, 0.00187611, 0.00078811,\n        0.00188282, 0.0011441 , 0.00511693, 0.00156437, 0.00653637,\n        0.0001445 , 0.00055757, 0.00034895, 0.00049166]),\n 'param_criterion': masked_array(data=['gini', 'gini', 'gini', 'gini', 'gini', 'gini', 'gini',\n                    'gini', 'gini', 'gini', 'gini', 'gini', 'entropy',\n                    'entropy', 'entropy', 'entropy', 'entropy', 'entropy',\n                    'entropy', 'entropy', 'entropy', 'entropy', 'entropy',\n                    'entropy'],\n              mask=[False, False, False, False, False, False, False, False,\n                    False, False, False, False, False, False, False, False,\n                    False, False, False, False, False, False, False, False],\n        fill_value='?',\n             dtype=object),\n 'param_max_depth': masked_array(data=[1, 1, 1, 1, 2, 2, 2, 2, 3, 3, 3, 3, 1, 1, 1, 1, 2, 2,\n                    2, 2, 3, 3, 3, 3],\n              mask=[False, False, False, False, False, False, False, False,\n                    False, False, False, False, False, False, False, False,\n                    False, False, False, False, False, False, False, False],\n        fill_value='?',\n             dtype=object),\n 'param_min_samples_split': masked_array(data=[2, 2, 3, 3, 2, 2, 3, 3, 2, 2, 3, 3, 2, 2, 3, 3, 2, 2,\n                    3, 3, 2, 2, 3, 3],\n              mask=[False, False, False, False, False, False, False, False,\n                    False, False, False, False, False, False, False, False,\n                    False, False, False, False, False, False, False, False],\n        fill_value='?',\n             dtype=object),\n 'param_splitter': masked_array(data=['best', 'random', 'best', 'random', 'best', 'random',\n                    'best', 'random', 'best', 'random', 'best', 'random',\n                    'best', 'random', 'best', 'random', 'best', 'random',\n                    'best', 'random', 'best', 'random', 'best', 'random'],\n              mask=[False, False, False, False, False, False, False, False,\n                    False, False, False, False, False, False, False, False,\n                    False, False, False, False, False, False, False, False],\n        fill_value='?',\n             dtype=object),\n 'params': [{'criterion': 'gini',\n   'max_depth': 1,\n   'min_samples_split': 2,\n   'splitter': 'best'},\n  {'criterion': 'gini',\n   'max_depth': 1,\n   'min_samples_split': 2,\n   'splitter': 'random'},\n  {'criterion': 'gini',\n   'max_depth': 1,\n   'min_samples_split': 3,\n   'splitter': 'best'},\n  {'criterion': 'gini',\n   'max_depth': 1,\n   'min_samples_split': 3,\n   'splitter': 'random'},\n  {'criterion': 'gini',\n   'max_depth': 2,\n   'min_samples_split': 2,\n   'splitter': 'best'},\n  {'criterion': 'gini',\n   'max_depth': 2,\n   'min_samples_split': 2,\n   'splitter': 'random'},\n  {'criterion': 'gini',\n   'max_depth': 2,\n   'min_samples_split': 3,\n   'splitter': 'best'},\n  {'criterion': 'gini',\n   'max_depth': 2,\n   'min_samples_split': 3,\n   'splitter': 'random'},\n  {'criterion': 'gini',\n   'max_depth': 3,\n   'min_samples_split': 2,\n   'splitter': 'best'},\n  {'criterion': 'gini',\n   'max_depth': 3,\n   'min_samples_split': 2,\n   'splitter': 'random'},\n  {'criterion': 'gini',\n   'max_depth': 3,\n   'min_samples_split': 3,\n   'splitter': 'best'},\n  {'criterion': 'gini',\n   'max_depth': 3,\n   'min_samples_split': 3,\n   'splitter': 'random'},\n  {'criterion': 'entropy',\n   'max_depth': 1,\n   'min_samples_split': 2,\n   'splitter': 'best'},\n  {'criterion': 'entropy',\n   'max_depth': 1,\n   'min_samples_split': 2,\n   'splitter': 'random'},\n  {'criterion': 'entropy',\n   'max_depth': 1,\n   'min_samples_split': 3,\n   'splitter': 'best'},\n  {'criterion': 'entropy',\n   'max_depth': 1,\n   'min_samples_split': 3,\n   'splitter': 'random'},\n  {'criterion': 'entropy',\n   'max_depth': 2,\n   'min_samples_split': 2,\n   'splitter': 'best'},\n  {'criterion': 'entropy',\n   'max_depth': 2,\n   'min_samples_split': 2,\n   'splitter': 'random'},\n  {'criterion': 'entropy',\n   'max_depth': 2,\n   'min_samples_split': 3,\n   'splitter': 'best'},\n  {'criterion': 'entropy',\n   'max_depth': 2,\n   'min_samples_split': 3,\n   'splitter': 'random'},\n  {'criterion': 'entropy',\n   'max_depth': 3,\n   'min_samples_split': 2,\n   'splitter': 'best'},\n  {'criterion': 'entropy',\n   'max_depth': 3,\n   'min_samples_split': 2,\n   'splitter': 'random'},\n  {'criterion': 'entropy',\n   'max_depth': 3,\n   'min_samples_split': 3,\n   'splitter': 'best'},\n  {'criterion': 'entropy',\n   'max_depth': 3,\n   'min_samples_split': 3,\n   'splitter': 'random'}],\n 'split0_test_score': array([0.68421053, 0.68421053, 0.68421053, 0.68421053, 0.86842105,\n        0.71052632, 0.86842105, 0.71052632, 0.94736842, 0.81578947,\n        0.94736842, 0.81578947, 0.68421053, 0.68421053, 0.68421053,\n        0.68421053, 0.86842105, 0.71052632, 0.86842105, 0.71052632,\n        0.94736842, 0.81578947, 0.94736842, 0.81578947]),\n 'split1_test_score': array([0.67567568, 0.67567568, 0.67567568, 0.67567568, 0.94594595,\n        0.72972973, 0.94594595, 0.72972973, 0.94594595, 0.83783784,\n        0.94594595, 0.83783784, 0.67567568, 0.67567568, 0.67567568,\n        0.67567568, 0.94594595, 0.72972973, 0.94594595, 0.72972973,\n        0.94594595, 0.83783784, 0.94594595, 0.83783784]),\n 'split2_test_score': array([0.64864865, 0.64864865, 0.64864865, 0.64864865, 0.89189189,\n        0.67567568, 0.89189189, 0.67567568, 0.94594595, 0.83783784,\n        0.94594595, 0.83783784, 0.64864865, 0.64864865, 0.64864865,\n        0.64864865, 0.89189189, 0.67567568, 0.89189189, 0.67567568,\n        0.94594595, 0.83783784, 0.94594595, 0.83783784]),\n 'mean_test_score': array([0.66951162, 0.66951162, 0.66951162, 0.66951162, 0.9020863 ,\n        0.70531057, 0.9020863 , 0.70531057, 0.9464201 , 0.83048838,\n        0.9464201 , 0.83048838, 0.66951162, 0.66951162, 0.66951162,\n        0.66951162, 0.9020863 , 0.70531057, 0.9020863 , 0.70531057,\n        0.9464201 , 0.83048838, 0.9464201 , 0.83048838]),\n 'std_test_score': array([0.01515824, 0.01515824, 0.01515824, 0.01515824, 0.03245994,\n        0.02237354, 0.03245994, 0.02237354, 0.00067056, 0.0103937 ,\n        0.00067056, 0.0103937 , 0.01515824, 0.01515824, 0.01515824,\n        0.01515824, 0.03245994, 0.02237354, 0.03245994, 0.02237354,\n        0.00067056, 0.0103937 , 0.00067056, 0.0103937 ]),\n 'rank_test_score': array([17, 17, 17, 17,  5, 13,  5, 13,  1,  9,  1,  9, 17, 17, 17, 17,  5,\n        13,  5, 13,  1,  9,  1,  9], dtype=int32)}"
     },
     "execution_count": 37,
     "metadata": {},
     "output_type": "execute_result"
    }
   ],
   "source": [
    "grid_tree_model = GridSearchCV(dt_model, param_grid= params, cv = 3 , refit= True )\n",
    "grid_tree_model.fit(X_train, y_train)\n",
    "grid_tree_model.cv_results_"
   ],
   "metadata": {
    "collapsed": false,
    "pycharm": {
     "name": "#%%\n"
    }
   }
  },
  {
   "cell_type": "code",
   "execution_count": 39,
   "outputs": [
    {
     "data": {
      "text/plain": "    mean_fit_time  std_fit_time  mean_score_time  std_score_time  \\\n0        0.015285      0.014603         0.003707        0.002310   \n1        0.008760      0.008184         0.000843        0.000154   \n2        0.002963      0.001393         0.007540        0.005380   \n3        0.007579      0.006850         0.003943        0.001029   \n4        0.006706      0.006292         0.002703        0.002811   \n5        0.003570      0.002064         0.011934        0.014448   \n6        0.008796      0.009758         0.002990        0.002573   \n7        0.008784      0.005861         0.001206        0.000274   \n8        0.010366      0.001982         0.011582        0.005190   \n9        0.006520      0.004214         0.002783        0.003035   \n10       0.002723      0.001370         0.000845        0.000136   \n11       0.002624      0.000679         0.003869        0.002366   \n12       0.002872      0.001451         0.000924        0.000402   \n13       0.017710      0.022511         0.002745        0.001876   \n14       0.007500      0.004236         0.001559        0.000788   \n15       0.003481      0.000695         0.002257        0.001883   \n16       0.002199      0.000445         0.001507        0.001144   \n17       0.008225      0.004136         0.005146        0.005117   \n18       0.003536      0.001239         0.002422        0.001564   \n19       0.004126      0.002670         0.006360        0.006536   \n20       0.011779      0.009654         0.000785        0.000144   \n21       0.004382      0.001410         0.001090        0.000558   \n22       0.005437      0.002617         0.001165        0.000349   \n23       0.008540      0.008298         0.001030        0.000492   \n\n   param_criterion param_max_depth param_min_samples_split param_splitter  \\\n0             gini               1                       2           best   \n1             gini               1                       2         random   \n2             gini               1                       3           best   \n3             gini               1                       3         random   \n4             gini               2                       2           best   \n5             gini               2                       2         random   \n6             gini               2                       3           best   \n7             gini               2                       3         random   \n8             gini               3                       2           best   \n9             gini               3                       2         random   \n10            gini               3                       3           best   \n11            gini               3                       3         random   \n12         entropy               1                       2           best   \n13         entropy               1                       2         random   \n14         entropy               1                       3           best   \n15         entropy               1                       3         random   \n16         entropy               2                       2           best   \n17         entropy               2                       2         random   \n18         entropy               2                       3           best   \n19         entropy               2                       3         random   \n20         entropy               3                       2           best   \n21         entropy               3                       2         random   \n22         entropy               3                       3           best   \n23         entropy               3                       3         random   \n\n                                               params  split0_test_score  \\\n0   {'criterion': 'gini', 'max_depth': 1, 'min_sam...           0.684211   \n1   {'criterion': 'gini', 'max_depth': 1, 'min_sam...           0.684211   \n2   {'criterion': 'gini', 'max_depth': 1, 'min_sam...           0.684211   \n3   {'criterion': 'gini', 'max_depth': 1, 'min_sam...           0.684211   \n4   {'criterion': 'gini', 'max_depth': 2, 'min_sam...           0.868421   \n5   {'criterion': 'gini', 'max_depth': 2, 'min_sam...           0.710526   \n6   {'criterion': 'gini', 'max_depth': 2, 'min_sam...           0.868421   \n7   {'criterion': 'gini', 'max_depth': 2, 'min_sam...           0.710526   \n8   {'criterion': 'gini', 'max_depth': 3, 'min_sam...           0.947368   \n9   {'criterion': 'gini', 'max_depth': 3, 'min_sam...           0.815789   \n10  {'criterion': 'gini', 'max_depth': 3, 'min_sam...           0.947368   \n11  {'criterion': 'gini', 'max_depth': 3, 'min_sam...           0.815789   \n12  {'criterion': 'entropy', 'max_depth': 1, 'min_...           0.684211   \n13  {'criterion': 'entropy', 'max_depth': 1, 'min_...           0.684211   \n14  {'criterion': 'entropy', 'max_depth': 1, 'min_...           0.684211   \n15  {'criterion': 'entropy', 'max_depth': 1, 'min_...           0.684211   \n16  {'criterion': 'entropy', 'max_depth': 2, 'min_...           0.868421   \n17  {'criterion': 'entropy', 'max_depth': 2, 'min_...           0.710526   \n18  {'criterion': 'entropy', 'max_depth': 2, 'min_...           0.868421   \n19  {'criterion': 'entropy', 'max_depth': 2, 'min_...           0.710526   \n20  {'criterion': 'entropy', 'max_depth': 3, 'min_...           0.947368   \n21  {'criterion': 'entropy', 'max_depth': 3, 'min_...           0.815789   \n22  {'criterion': 'entropy', 'max_depth': 3, 'min_...           0.947368   \n23  {'criterion': 'entropy', 'max_depth': 3, 'min_...           0.815789   \n\n    split1_test_score  split2_test_score  mean_test_score  std_test_score  \\\n0            0.675676           0.648649         0.669512        0.015158   \n1            0.675676           0.648649         0.669512        0.015158   \n2            0.675676           0.648649         0.669512        0.015158   \n3            0.675676           0.648649         0.669512        0.015158   \n4            0.945946           0.891892         0.902086        0.032460   \n5            0.729730           0.675676         0.705311        0.022374   \n6            0.945946           0.891892         0.902086        0.032460   \n7            0.729730           0.675676         0.705311        0.022374   \n8            0.945946           0.945946         0.946420        0.000671   \n9            0.837838           0.837838         0.830488        0.010394   \n10           0.945946           0.945946         0.946420        0.000671   \n11           0.837838           0.837838         0.830488        0.010394   \n12           0.675676           0.648649         0.669512        0.015158   \n13           0.675676           0.648649         0.669512        0.015158   \n14           0.675676           0.648649         0.669512        0.015158   \n15           0.675676           0.648649         0.669512        0.015158   \n16           0.945946           0.891892         0.902086        0.032460   \n17           0.729730           0.675676         0.705311        0.022374   \n18           0.945946           0.891892         0.902086        0.032460   \n19           0.729730           0.675676         0.705311        0.022374   \n20           0.945946           0.945946         0.946420        0.000671   \n21           0.837838           0.837838         0.830488        0.010394   \n22           0.945946           0.945946         0.946420        0.000671   \n23           0.837838           0.837838         0.830488        0.010394   \n\n    rank_test_score  \n0                17  \n1                17  \n2                17  \n3                17  \n4                 5  \n5                13  \n6                 5  \n7                13  \n8                 1  \n9                 9  \n10                1  \n11                9  \n12               17  \n13               17  \n14               17  \n15               17  \n16                5  \n17               13  \n18                5  \n19               13  \n20                1  \n21                9  \n22                1  \n23                9  ",
      "text/html": "<div>\n<style scoped>\n    .dataframe tbody tr th:only-of-type {\n        vertical-align: middle;\n    }\n\n    .dataframe tbody tr th {\n        vertical-align: top;\n    }\n\n    .dataframe thead th {\n        text-align: right;\n    }\n</style>\n<table border=\"1\" class=\"dataframe\">\n  <thead>\n    <tr style=\"text-align: right;\">\n      <th></th>\n      <th>mean_fit_time</th>\n      <th>std_fit_time</th>\n      <th>mean_score_time</th>\n      <th>std_score_time</th>\n      <th>param_criterion</th>\n      <th>param_max_depth</th>\n      <th>param_min_samples_split</th>\n      <th>param_splitter</th>\n      <th>params</th>\n      <th>split0_test_score</th>\n      <th>split1_test_score</th>\n      <th>split2_test_score</th>\n      <th>mean_test_score</th>\n      <th>std_test_score</th>\n      <th>rank_test_score</th>\n    </tr>\n  </thead>\n  <tbody>\n    <tr>\n      <th>0</th>\n      <td>0.015285</td>\n      <td>0.014603</td>\n      <td>0.003707</td>\n      <td>0.002310</td>\n      <td>gini</td>\n      <td>1</td>\n      <td>2</td>\n      <td>best</td>\n      <td>{'criterion': 'gini', 'max_depth': 1, 'min_sam...</td>\n      <td>0.684211</td>\n      <td>0.675676</td>\n      <td>0.648649</td>\n      <td>0.669512</td>\n      <td>0.015158</td>\n      <td>17</td>\n    </tr>\n    <tr>\n      <th>1</th>\n      <td>0.008760</td>\n      <td>0.008184</td>\n      <td>0.000843</td>\n      <td>0.000154</td>\n      <td>gini</td>\n      <td>1</td>\n      <td>2</td>\n      <td>random</td>\n      <td>{'criterion': 'gini', 'max_depth': 1, 'min_sam...</td>\n      <td>0.684211</td>\n      <td>0.675676</td>\n      <td>0.648649</td>\n      <td>0.669512</td>\n      <td>0.015158</td>\n      <td>17</td>\n    </tr>\n    <tr>\n      <th>2</th>\n      <td>0.002963</td>\n      <td>0.001393</td>\n      <td>0.007540</td>\n      <td>0.005380</td>\n      <td>gini</td>\n      <td>1</td>\n      <td>3</td>\n      <td>best</td>\n      <td>{'criterion': 'gini', 'max_depth': 1, 'min_sam...</td>\n      <td>0.684211</td>\n      <td>0.675676</td>\n      <td>0.648649</td>\n      <td>0.669512</td>\n      <td>0.015158</td>\n      <td>17</td>\n    </tr>\n    <tr>\n      <th>3</th>\n      <td>0.007579</td>\n      <td>0.006850</td>\n      <td>0.003943</td>\n      <td>0.001029</td>\n      <td>gini</td>\n      <td>1</td>\n      <td>3</td>\n      <td>random</td>\n      <td>{'criterion': 'gini', 'max_depth': 1, 'min_sam...</td>\n      <td>0.684211</td>\n      <td>0.675676</td>\n      <td>0.648649</td>\n      <td>0.669512</td>\n      <td>0.015158</td>\n      <td>17</td>\n    </tr>\n    <tr>\n      <th>4</th>\n      <td>0.006706</td>\n      <td>0.006292</td>\n      <td>0.002703</td>\n      <td>0.002811</td>\n      <td>gini</td>\n      <td>2</td>\n      <td>2</td>\n      <td>best</td>\n      <td>{'criterion': 'gini', 'max_depth': 2, 'min_sam...</td>\n      <td>0.868421</td>\n      <td>0.945946</td>\n      <td>0.891892</td>\n      <td>0.902086</td>\n      <td>0.032460</td>\n      <td>5</td>\n    </tr>\n    <tr>\n      <th>5</th>\n      <td>0.003570</td>\n      <td>0.002064</td>\n      <td>0.011934</td>\n      <td>0.014448</td>\n      <td>gini</td>\n      <td>2</td>\n      <td>2</td>\n      <td>random</td>\n      <td>{'criterion': 'gini', 'max_depth': 2, 'min_sam...</td>\n      <td>0.710526</td>\n      <td>0.729730</td>\n      <td>0.675676</td>\n      <td>0.705311</td>\n      <td>0.022374</td>\n      <td>13</td>\n    </tr>\n    <tr>\n      <th>6</th>\n      <td>0.008796</td>\n      <td>0.009758</td>\n      <td>0.002990</td>\n      <td>0.002573</td>\n      <td>gini</td>\n      <td>2</td>\n      <td>3</td>\n      <td>best</td>\n      <td>{'criterion': 'gini', 'max_depth': 2, 'min_sam...</td>\n      <td>0.868421</td>\n      <td>0.945946</td>\n      <td>0.891892</td>\n      <td>0.902086</td>\n      <td>0.032460</td>\n      <td>5</td>\n    </tr>\n    <tr>\n      <th>7</th>\n      <td>0.008784</td>\n      <td>0.005861</td>\n      <td>0.001206</td>\n      <td>0.000274</td>\n      <td>gini</td>\n      <td>2</td>\n      <td>3</td>\n      <td>random</td>\n      <td>{'criterion': 'gini', 'max_depth': 2, 'min_sam...</td>\n      <td>0.710526</td>\n      <td>0.729730</td>\n      <td>0.675676</td>\n      <td>0.705311</td>\n      <td>0.022374</td>\n      <td>13</td>\n    </tr>\n    <tr>\n      <th>8</th>\n      <td>0.010366</td>\n      <td>0.001982</td>\n      <td>0.011582</td>\n      <td>0.005190</td>\n      <td>gini</td>\n      <td>3</td>\n      <td>2</td>\n      <td>best</td>\n      <td>{'criterion': 'gini', 'max_depth': 3, 'min_sam...</td>\n      <td>0.947368</td>\n      <td>0.945946</td>\n      <td>0.945946</td>\n      <td>0.946420</td>\n      <td>0.000671</td>\n      <td>1</td>\n    </tr>\n    <tr>\n      <th>9</th>\n      <td>0.006520</td>\n      <td>0.004214</td>\n      <td>0.002783</td>\n      <td>0.003035</td>\n      <td>gini</td>\n      <td>3</td>\n      <td>2</td>\n      <td>random</td>\n      <td>{'criterion': 'gini', 'max_depth': 3, 'min_sam...</td>\n      <td>0.815789</td>\n      <td>0.837838</td>\n      <td>0.837838</td>\n      <td>0.830488</td>\n      <td>0.010394</td>\n      <td>9</td>\n    </tr>\n    <tr>\n      <th>10</th>\n      <td>0.002723</td>\n      <td>0.001370</td>\n      <td>0.000845</td>\n      <td>0.000136</td>\n      <td>gini</td>\n      <td>3</td>\n      <td>3</td>\n      <td>best</td>\n      <td>{'criterion': 'gini', 'max_depth': 3, 'min_sam...</td>\n      <td>0.947368</td>\n      <td>0.945946</td>\n      <td>0.945946</td>\n      <td>0.946420</td>\n      <td>0.000671</td>\n      <td>1</td>\n    </tr>\n    <tr>\n      <th>11</th>\n      <td>0.002624</td>\n      <td>0.000679</td>\n      <td>0.003869</td>\n      <td>0.002366</td>\n      <td>gini</td>\n      <td>3</td>\n      <td>3</td>\n      <td>random</td>\n      <td>{'criterion': 'gini', 'max_depth': 3, 'min_sam...</td>\n      <td>0.815789</td>\n      <td>0.837838</td>\n      <td>0.837838</td>\n      <td>0.830488</td>\n      <td>0.010394</td>\n      <td>9</td>\n    </tr>\n    <tr>\n      <th>12</th>\n      <td>0.002872</td>\n      <td>0.001451</td>\n      <td>0.000924</td>\n      <td>0.000402</td>\n      <td>entropy</td>\n      <td>1</td>\n      <td>2</td>\n      <td>best</td>\n      <td>{'criterion': 'entropy', 'max_depth': 1, 'min_...</td>\n      <td>0.684211</td>\n      <td>0.675676</td>\n      <td>0.648649</td>\n      <td>0.669512</td>\n      <td>0.015158</td>\n      <td>17</td>\n    </tr>\n    <tr>\n      <th>13</th>\n      <td>0.017710</td>\n      <td>0.022511</td>\n      <td>0.002745</td>\n      <td>0.001876</td>\n      <td>entropy</td>\n      <td>1</td>\n      <td>2</td>\n      <td>random</td>\n      <td>{'criterion': 'entropy', 'max_depth': 1, 'min_...</td>\n      <td>0.684211</td>\n      <td>0.675676</td>\n      <td>0.648649</td>\n      <td>0.669512</td>\n      <td>0.015158</td>\n      <td>17</td>\n    </tr>\n    <tr>\n      <th>14</th>\n      <td>0.007500</td>\n      <td>0.004236</td>\n      <td>0.001559</td>\n      <td>0.000788</td>\n      <td>entropy</td>\n      <td>1</td>\n      <td>3</td>\n      <td>best</td>\n      <td>{'criterion': 'entropy', 'max_depth': 1, 'min_...</td>\n      <td>0.684211</td>\n      <td>0.675676</td>\n      <td>0.648649</td>\n      <td>0.669512</td>\n      <td>0.015158</td>\n      <td>17</td>\n    </tr>\n    <tr>\n      <th>15</th>\n      <td>0.003481</td>\n      <td>0.000695</td>\n      <td>0.002257</td>\n      <td>0.001883</td>\n      <td>entropy</td>\n      <td>1</td>\n      <td>3</td>\n      <td>random</td>\n      <td>{'criterion': 'entropy', 'max_depth': 1, 'min_...</td>\n      <td>0.684211</td>\n      <td>0.675676</td>\n      <td>0.648649</td>\n      <td>0.669512</td>\n      <td>0.015158</td>\n      <td>17</td>\n    </tr>\n    <tr>\n      <th>16</th>\n      <td>0.002199</td>\n      <td>0.000445</td>\n      <td>0.001507</td>\n      <td>0.001144</td>\n      <td>entropy</td>\n      <td>2</td>\n      <td>2</td>\n      <td>best</td>\n      <td>{'criterion': 'entropy', 'max_depth': 2, 'min_...</td>\n      <td>0.868421</td>\n      <td>0.945946</td>\n      <td>0.891892</td>\n      <td>0.902086</td>\n      <td>0.032460</td>\n      <td>5</td>\n    </tr>\n    <tr>\n      <th>17</th>\n      <td>0.008225</td>\n      <td>0.004136</td>\n      <td>0.005146</td>\n      <td>0.005117</td>\n      <td>entropy</td>\n      <td>2</td>\n      <td>2</td>\n      <td>random</td>\n      <td>{'criterion': 'entropy', 'max_depth': 2, 'min_...</td>\n      <td>0.710526</td>\n      <td>0.729730</td>\n      <td>0.675676</td>\n      <td>0.705311</td>\n      <td>0.022374</td>\n      <td>13</td>\n    </tr>\n    <tr>\n      <th>18</th>\n      <td>0.003536</td>\n      <td>0.001239</td>\n      <td>0.002422</td>\n      <td>0.001564</td>\n      <td>entropy</td>\n      <td>2</td>\n      <td>3</td>\n      <td>best</td>\n      <td>{'criterion': 'entropy', 'max_depth': 2, 'min_...</td>\n      <td>0.868421</td>\n      <td>0.945946</td>\n      <td>0.891892</td>\n      <td>0.902086</td>\n      <td>0.032460</td>\n      <td>5</td>\n    </tr>\n    <tr>\n      <th>19</th>\n      <td>0.004126</td>\n      <td>0.002670</td>\n      <td>0.006360</td>\n      <td>0.006536</td>\n      <td>entropy</td>\n      <td>2</td>\n      <td>3</td>\n      <td>random</td>\n      <td>{'criterion': 'entropy', 'max_depth': 2, 'min_...</td>\n      <td>0.710526</td>\n      <td>0.729730</td>\n      <td>0.675676</td>\n      <td>0.705311</td>\n      <td>0.022374</td>\n      <td>13</td>\n    </tr>\n    <tr>\n      <th>20</th>\n      <td>0.011779</td>\n      <td>0.009654</td>\n      <td>0.000785</td>\n      <td>0.000144</td>\n      <td>entropy</td>\n      <td>3</td>\n      <td>2</td>\n      <td>best</td>\n      <td>{'criterion': 'entropy', 'max_depth': 3, 'min_...</td>\n      <td>0.947368</td>\n      <td>0.945946</td>\n      <td>0.945946</td>\n      <td>0.946420</td>\n      <td>0.000671</td>\n      <td>1</td>\n    </tr>\n    <tr>\n      <th>21</th>\n      <td>0.004382</td>\n      <td>0.001410</td>\n      <td>0.001090</td>\n      <td>0.000558</td>\n      <td>entropy</td>\n      <td>3</td>\n      <td>2</td>\n      <td>random</td>\n      <td>{'criterion': 'entropy', 'max_depth': 3, 'min_...</td>\n      <td>0.815789</td>\n      <td>0.837838</td>\n      <td>0.837838</td>\n      <td>0.830488</td>\n      <td>0.010394</td>\n      <td>9</td>\n    </tr>\n    <tr>\n      <th>22</th>\n      <td>0.005437</td>\n      <td>0.002617</td>\n      <td>0.001165</td>\n      <td>0.000349</td>\n      <td>entropy</td>\n      <td>3</td>\n      <td>3</td>\n      <td>best</td>\n      <td>{'criterion': 'entropy', 'max_depth': 3, 'min_...</td>\n      <td>0.947368</td>\n      <td>0.945946</td>\n      <td>0.945946</td>\n      <td>0.946420</td>\n      <td>0.000671</td>\n      <td>1</td>\n    </tr>\n    <tr>\n      <th>23</th>\n      <td>0.008540</td>\n      <td>0.008298</td>\n      <td>0.001030</td>\n      <td>0.000492</td>\n      <td>entropy</td>\n      <td>3</td>\n      <td>3</td>\n      <td>random</td>\n      <td>{'criterion': 'entropy', 'max_depth': 3, 'min_...</td>\n      <td>0.815789</td>\n      <td>0.837838</td>\n      <td>0.837838</td>\n      <td>0.830488</td>\n      <td>0.010394</td>\n      <td>9</td>\n    </tr>\n  </tbody>\n</table>\n</div>"
     },
     "execution_count": 39,
     "metadata": {},
     "output_type": "execute_result"
    }
   ],
   "source": [
    "info_frm = pd.DataFrame(grid_tree_model.cv_results_)\n",
    "info_frm"
   ],
   "metadata": {
    "collapsed": false,
    "pycharm": {
     "name": "#%%\n"
    }
   }
  },
  {
   "cell_type": "code",
   "execution_count": 40,
   "outputs": [
    {
     "name": "stdout",
     "output_type": "stream",
     "text": [
      "최적의 파라미터 - {'criterion': 'gini', 'max_depth': 3, 'min_samples_split': 2, 'splitter': 'best'}\n",
      "최고점수 -  0.9464201043148411\n"
     ]
    }
   ],
   "source": [
    "print('최적의 파라미터 -', grid_tree_model.best_params_)\n",
    "print('최고점수 - ', grid_tree_model.best_score_)"
   ],
   "metadata": {
    "collapsed": false,
    "pycharm": {
     "name": "#%%\n"
    }
   }
  },
  {
   "cell_type": "code",
   "execution_count": null,
   "outputs": [],
   "source": [],
   "metadata": {
    "collapsed": false,
    "pycharm": {
     "name": "#%%\n"
    }
   }
  },
  {
   "cell_type": "code",
   "execution_count": null,
   "outputs": [],
   "source": [],
   "metadata": {
    "collapsed": false,
    "pycharm": {
     "name": "#%%\n"
    }
   }
  },
  {
   "cell_type": "code",
   "execution_count": null,
   "outputs": [],
   "source": [],
   "metadata": {
    "collapsed": false,
    "pycharm": {
     "name": "#%%\n"
    }
   }
  },
  {
   "cell_type": "code",
   "execution_count": null,
   "outputs": [],
   "source": [],
   "metadata": {
    "collapsed": false,
    "pycharm": {
     "name": "#%%\n"
    }
   }
  },
  {
   "cell_type": "code",
   "execution_count": null,
   "outputs": [],
   "source": [],
   "metadata": {
    "collapsed": false,
    "pycharm": {
     "name": "#%%\n"
    }
   }
  }
 ],
 "metadata": {
  "kernelspec": {
   "display_name": "Python 3",
   "language": "python",
   "name": "python3"
  },
  "language_info": {
   "codemirror_mode": {
    "name": "ipython",
    "version": 2
   },
   "file_extension": ".py",
   "mimetype": "text/x-python",
   "name": "python",
   "nbconvert_exporter": "python",
   "pygments_lexer": "ipython2",
   "version": "2.7.6"
  }
 },
 "nbformat": 4,
 "nbformat_minor": 0
}