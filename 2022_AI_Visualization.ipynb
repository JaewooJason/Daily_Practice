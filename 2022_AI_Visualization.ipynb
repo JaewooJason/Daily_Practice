{
 "cells": [
  {
   "cell_type": "code",
   "execution_count": 1,
   "metadata": {
    "collapsed": true
   },
   "outputs": [
    {
     "name": "stdout",
     "output_type": "stream",
     "text": [
      "numpy  version -  1.20.3\n",
      "pandas version -  1.3.4\n"
     ]
    }
   ],
   "source": [
    "import numpy  as np\n",
    "import pandas as pd\n",
    "\n",
    "import warnings\n",
    "warnings.filterwarnings(action='ignore')\n",
    "\n",
    "from datetime import date, datetime, timedelta\n",
    "from dateutil.parser import parse\n",
    "\n",
    "import matplotlib.pyplot as plt\n",
    "%matplotlib inline\n",
    "\n",
    "import json\n",
    "import urllib\n",
    "\n",
    "# titanic dataset\n",
    "import seaborn as sns\n",
    "\n",
    "# 비정형 데이터 처리를 위한 라이브러리\n",
    "from bs4 import BeautifulSoup\n",
    "import requests\n",
    "import re\n",
    "\n",
    "\n",
    "\n",
    "print('numpy  version - ' , np.__version__)\n",
    "print('pandas version - ' , pd.__version__)"
   ]
  },
  {
   "cell_type": "code",
   "execution_count": 2,
   "outputs": [],
   "source": [
    "# 한글 폰트 문제 해결\n",
    "import platform\n",
    "\n",
    "from matplotlib import font_manager, rc\n",
    "\n",
    "if platform.system() == 'Darwin':\n",
    "    rc('font', family='AppleGothic')\n",
    "elif platform.system() == 'Windows':\n",
    "    path = \"c:/Windows/Fonts/malgun.ttf\"\n",
    "    font_name = font_manager.FontProperties(fname=path).get_name()\n",
    "    rc('font', family=font_name)\n",
    "else:\n",
    "    print('Unknown system... sorry~~~~')\n",
    "\n",
    "\n",
    "# 차트 축 <- 음수 부호 지원\n",
    "import matplotlib\n",
    "matplotlib.rcParams['axes.unicode_minus'] = False"
   ],
   "metadata": {
    "collapsed": false,
    "pycharm": {
     "name": "#%%\n"
    }
   }
  },
  {
   "cell_type": "code",
   "execution_count": 3,
   "outputs": [
    {
     "data": {
      "text/plain": "<Figure size 1080x360 with 1 Axes>",
      "image/png": "[encoded data removed]"
     },
     "metadata": {
      "needs_background": "light"
     },
     "output_type": "display_data"
    }
   ],
   "source": [
    "fig = plt.figure(figsize = (15,5))\n",
    "\n",
    "x_data = [1,2,3,4,5,6,7,8,9]\n",
    "y_data = [ X**2 for X in x_data]\n",
    "\n",
    "plt.plot(x_data, y_data,\n",
    "         c = 'grey',\n",
    "         lw = '2',\n",
    "         ls = '--',\n",
    "         marker = 'o',\n",
    "         ms = 10,\n",
    "         mec = 'red',\n",
    "         mew = 3,\n",
    "         mfc = 'blue')\n",
    "\n",
    "\n",
    "plt.xlabel('x 축')\n",
    "plt.ylabel('y 축')\n",
    "plt.title('연습하는 라인플롯')\n",
    "plt.show()\n",
    "plt.close()"
   ],
   "metadata": {
    "collapsed": false,
    "pycharm": {
     "name": "#%%\n"
    }
   }
  },
  {
   "cell_type": "code",
   "execution_count": 4,
   "outputs": [
    {
     "data": {
      "text/plain": "     전출지별     전입지별       1970       1971       1972       1973       1974  \\\n0    전출지별     전입지별   이동자수 (명)   이동자수 (명)   이동자수 (명)   이동자수 (명)   이동자수 (명)   \n1      전국       전국  4046536.0  4210164.0  3687938.0  4860418.0  5297969.0   \n2     NaN    서울특별시  1742813.0  1671705.0  1349333.0  1831858.0  2050392.0   \n3     NaN    부산광역시   448577.0   389797.0   362202.0   482061.0   680984.0   \n4     NaN    대구광역시          -          -          -          -          -   \n..    ...      ...        ...        ...        ...        ...        ...   \n320   NaN     전라북도      139.0      202.0      141.0      210.0      219.0   \n321   NaN     전라남도      631.0      965.0      857.0      952.0     1133.0   \n322   NaN     경상북도      374.0      619.0      468.0      576.0      625.0   \n323   NaN     경상남도      474.0      479.0      440.0      571.0     1208.0   \n324   NaN  제주특별자치도     9290.0    12427.0    12210.0    16158.0    19580.0   \n\n          1975       1976       1977  ...       2008       2009       2010  \\\n0     이동자수 (명)   이동자수 (명)   이동자수 (명)  ...   이동자수 (명)   이동자수 (명)   이동자수 (명)   \n1    9011440.0  6773250.0  7397623.0  ...  8808256.0  8487275.0  8226594.0   \n2    3396662.0  2756510.0  2893403.0  ...  2025358.0  1873188.0  1733015.0   \n3     805979.0   724664.0   785117.0  ...   514502.0   519310.0   519334.0   \n4            -          -          -  ...   409938.0   398626.0   370817.0   \n..         ...        ...        ...  ...        ...        ...        ...   \n320      415.0      392.0      408.0  ...      668.0      579.0      672.0   \n321     2808.0     2608.0     2652.0  ...     1143.0     1123.0     1002.0   \n322     1123.0     1141.0     1004.0  ...      761.0      704.0      738.0   \n323     1517.0      863.0     1122.0  ...     1517.0     1474.0     1324.0   \n324    34221.0    23291.0    31028.0  ...    59564.0    55673.0    55507.0   \n\n          2011       2012       2013       2014       2015       2016  \\\n0     이동자수 (명)   이동자수 (명)   이동자수 (명)   이동자수 (명)   이동자수 (명)   이동자수 (명)   \n1    8127195.0  7506691.0  7411784.0  7629098.0  7755286.0  7378430.0   \n2    1721748.0  1555281.0  1520090.0  1573594.0  1589431.0  1515602.0   \n3     508043.0   461042.0   478451.0   485710.0   507031.0   459015.0   \n4     370563.0   348642.0   351873.0   350213.0   351424.0   328228.0   \n..         ...        ...        ...        ...        ...        ...   \n320      561.0      551.0      516.0      609.0      683.0      733.0   \n321     1026.0      966.0     1001.0      928.0     1062.0     1127.0   \n322      756.0      699.0      781.0      728.0      903.0      931.0   \n323     1367.0     1227.0     1278.0     1223.0     1500.0     1448.0   \n324    59846.0    54280.0    60607.0    59673.0    59036.0    66444.0   \n\n          2017  \n0     이동자수 (명)  \n1    7154226.0  \n2    1472937.0  \n3     439073.0  \n4     321182.0  \n..         ...  \n320      768.0  \n321     1102.0  \n322      994.0  \n323     1501.0  \n324    63275.0  \n\n[325 rows x 50 columns]",
      "text/html": "<div>\n<style scoped>\n    .dataframe tbody tr th:only-of-type {\n        vertical-align: middle;\n    }\n\n    .dataframe tbody tr th {\n        vertical-align: top;\n    }\n\n    .dataframe thead th {\n        text-align: right;\n    }\n</style>\n<table border=\"1\" class=\"dataframe\">\n  <thead>\n    <tr style=\"text-align: right;\">\n      <th></th>\n      <th>전출지별</th>\n      <th>전입지별</th>\n      <th>1970</th>\n      <th>1971</th>\n      <th>1972</th>\n      <th>1973</th>\n      <th>1974</th>\n      <th>1975</th>\n      <th>1976</th>\n      <th>1977</th>\n      <th>...</th>\n      <th>2008</th>\n      <th>2009</th>\n      <th>2010</th>\n      <th>2011</th>\n      <th>2012</th>\n      <th>2013</th>\n      <th>2014</th>\n      <th>2015</th>\n      <th>2016</th>\n      <th>2017</th>\n    </tr>\n  </thead>\n  <tbody>\n    <tr>\n      <th>0</th>\n      <td>전출지별</td>\n      <td>전입지별</td>\n      <td>이동자수 (명)</td>\n      <td>이동자수 (명)</td>\n      <td>이동자수 (명)</td>\n      <td>이동자수 (명)</td>\n      <td>이동자수 (명)</td>\n      <td>이동자수 (명)</td>\n      <td>이동자수 (명)</td>\n      <td>이동자수 (명)</td>\n      <td>...</td>\n      <td>이동자수 (명)</td>\n      <td>이동자수 (명)</td>\n      <td>이동자수 (명)</td>\n      <td>이동자수 (명)</td>\n      <td>이동자수 (명)</td>\n      <td>이동자수 (명)</td>\n      <td>이동자수 (명)</td>\n      <td>이동자수 (명)</td>\n      <td>이동자수 (명)</td>\n      <td>이동자수 (명)</td>\n    </tr>\n    <tr>\n      <th>1</th>\n      <td>전국</td>\n      <td>전국</td>\n      <td>4046536.0</td>\n      <td>4210164.0</td>\n      <td>3687938.0</td>\n      <td>4860418.0</td>\n      <td>5297969.0</td>\n      <td>9011440.0</td>\n      <td>6773250.0</td>\n      <td>7397623.0</td>\n      <td>...</td>\n      <td>8808256.0</td>\n      <td>8487275.0</td>\n      <td>8226594.0</td>\n      <td>8127195.0</td>\n      <td>7506691.0</td>\n      <td>7411784.0</td>\n      <td>7629098.0</td>\n      <td>7755286.0</td>\n      <td>7378430.0</td>\n      <td>7154226.0</td>\n    </tr>\n    <tr>\n      <th>2</th>\n      <td>NaN</td>\n      <td>서울특별시</td>\n      <td>1742813.0</td>\n      <td>1671705.0</td>\n      <td>1349333.0</td>\n      <td>1831858.0</td>\n      <td>2050392.0</td>\n      <td>3396662.0</td>\n      <td>2756510.0</td>\n      <td>2893403.0</td>\n      <td>...</td>\n      <td>2025358.0</td>\n      <td>1873188.0</td>\n      <td>1733015.0</td>\n      <td>1721748.0</td>\n      <td>1555281.0</td>\n      <td>1520090.0</td>\n      <td>1573594.0</td>\n      <td>1589431.0</td>\n      <td>1515602.0</td>\n      <td>1472937.0</td>\n    </tr>\n    <tr>\n      <th>3</th>\n      <td>NaN</td>\n      <td>부산광역시</td>\n      <td>448577.0</td>\n      <td>389797.0</td>\n      <td>362202.0</td>\n      <td>482061.0</td>\n      <td>680984.0</td>\n      <td>805979.0</td>\n      <td>724664.0</td>\n      <td>785117.0</td>\n      <td>...</td>\n      <td>514502.0</td>\n      <td>519310.0</td>\n      <td>519334.0</td>\n      <td>508043.0</td>\n      <td>461042.0</td>\n      <td>478451.0</td>\n      <td>485710.0</td>\n      <td>507031.0</td>\n      <td>459015.0</td>\n      <td>439073.0</td>\n    </tr>\n    <tr>\n      <th>4</th>\n      <td>NaN</td>\n      <td>대구광역시</td>\n      <td>-</td>\n      <td>-</td>\n      <td>-</td>\n      <td>-</td>\n      <td>-</td>\n      <td>-</td>\n      <td>-</td>\n      <td>-</td>\n      <td>...</td>\n      <td>409938.0</td>\n      <td>398626.0</td>\n      <td>370817.0</td>\n      <td>370563.0</td>\n      <td>348642.0</td>\n      <td>351873.0</td>\n      <td>350213.0</td>\n      <td>351424.0</td>\n      <td>328228.0</td>\n      <td>321182.0</td>\n    </tr>\n    <tr>\n      <th>...</th>\n      <td>...</td>\n      <td>...</td>\n      <td>...</td>\n      <td>...</td>\n      <td>...</td>\n      <td>...</td>\n      <td>...</td>\n      <td>...</td>\n      <td>...</td>\n      <td>...</td>\n      <td>...</td>\n      <td>...</td>\n      <td>...</td>\n      <td>...</td>\n      <td>...</td>\n      <td>...</td>\n      <td>...</td>\n      <td>...</td>\n      <td>...</td>\n      <td>...</td>\n      <td>...</td>\n    </tr>\n    <tr>\n      <th>320</th>\n      <td>NaN</td>\n      <td>전라북도</td>\n      <td>139.0</td>\n      <td>202.0</td>\n      <td>141.0</td>\n      <td>210.0</td>\n      <td>219.0</td>\n      <td>415.0</td>\n      <td>392.0</td>\n      <td>408.0</td>\n      <td>...</td>\n      <td>668.0</td>\n      <td>579.0</td>\n      <td>672.0</td>\n      <td>561.0</td>\n      <td>551.0</td>\n      <td>516.0</td>\n      <td>609.0</td>\n      <td>683.0</td>\n      <td>733.0</td>\n      <td>768.0</td>\n    </tr>\n    <tr>\n      <th>321</th>\n      <td>NaN</td>\n      <td>전라남도</td>\n      <td>631.0</td>\n      <td>965.0</td>\n      <td>857.0</td>\n      <td>952.0</td>\n      <td>1133.0</td>\n      <td>2808.0</td>\n      <td>2608.0</td>\n      <td>2652.0</td>\n      <td>...</td>\n      <td>1143.0</td>\n      <td>1123.0</td>\n      <td>1002.0</td>\n      <td>1026.0</td>\n      <td>966.0</td>\n      <td>1001.0</td>\n      <td>928.0</td>\n      <td>1062.0</td>\n      <td>1127.0</td>\n      <td>1102.0</td>\n    </tr>\n    <tr>\n      <th>322</th>\n      <td>NaN</td>\n      <td>경상북도</td>\n      <td>374.0</td>\n      <td>619.0</td>\n      <td>468.0</td>\n      <td>576.0</td>\n      <td>625.0</td>\n      <td>1123.0</td>\n      <td>1141.0</td>\n      <td>1004.0</td>\n      <td>...</td>\n      <td>761.0</td>\n      <td>704.0</td>\n      <td>738.0</td>\n      <td>756.0</td>\n      <td>699.0</td>\n      <td>781.0</td>\n      <td>728.0</td>\n      <td>903.0</td>\n      <td>931.0</td>\n      <td>994.0</td>\n    </tr>\n    <tr>\n      <th>323</th>\n      <td>NaN</td>\n      <td>경상남도</td>\n      <td>474.0</td>\n      <td>479.0</td>\n      <td>440.0</td>\n      <td>571.0</td>\n      <td>1208.0</td>\n      <td>1517.0</td>\n      <td>863.0</td>\n      <td>1122.0</td>\n      <td>...</td>\n      <td>1517.0</td>\n      <td>1474.0</td>\n      <td>1324.0</td>\n      <td>1367.0</td>\n      <td>1227.0</td>\n      <td>1278.0</td>\n      <td>1223.0</td>\n      <td>1500.0</td>\n      <td>1448.0</td>\n      <td>1501.0</td>\n    </tr>\n    <tr>\n      <th>324</th>\n      <td>NaN</td>\n      <td>제주특별자치도</td>\n      <td>9290.0</td>\n      <td>12427.0</td>\n      <td>12210.0</td>\n      <td>16158.0</td>\n      <td>19580.0</td>\n      <td>34221.0</td>\n      <td>23291.0</td>\n      <td>31028.0</td>\n      <td>...</td>\n      <td>59564.0</td>\n      <td>55673.0</td>\n      <td>55507.0</td>\n      <td>59846.0</td>\n      <td>54280.0</td>\n      <td>60607.0</td>\n      <td>59673.0</td>\n      <td>59036.0</td>\n      <td>66444.0</td>\n      <td>63275.0</td>\n    </tr>\n  </tbody>\n</table>\n<p>325 rows × 50 columns</p>\n</div>"
     },
     "execution_count": 4,
     "metadata": {},
     "output_type": "execute_result"
    }
   ],
   "source": [
    "pop_frm = pd.read_excel('/Users/choijaewoo/visualization_data/시도별 전출입 인구수.xlsx', header = 0)\n",
    "pop_frm"
   ],
   "metadata": {
    "collapsed": false,
    "pycharm": {
     "name": "#%%\n"
    }
   }
  },
  {
   "cell_type": "code",
   "execution_count": 5,
   "outputs": [
    {
     "data": {
      "text/plain": "        전출지별     전입지별       1970       1971       1972       1973       1974  \\\n0       전출지별     전입지별   이동자수 (명)   이동자수 (명)   이동자수 (명)   이동자수 (명)   이동자수 (명)   \n1         전국       전국  4046536.0  4210164.0  3687938.0  4860418.0  5297969.0   \n2         전국    서울특별시  1742813.0  1671705.0  1349333.0  1831858.0  2050392.0   \n3         전국    부산광역시   448577.0   389797.0   362202.0   482061.0   680984.0   \n4         전국    대구광역시          -          -          -          -          -   \n..       ...      ...        ...        ...        ...        ...        ...   \n320  제주특별자치도     전라북도      139.0      202.0      141.0      210.0      219.0   \n321  제주특별자치도     전라남도      631.0      965.0      857.0      952.0     1133.0   \n322  제주특별자치도     경상북도      374.0      619.0      468.0      576.0      625.0   \n323  제주특별자치도     경상남도      474.0      479.0      440.0      571.0     1208.0   \n324  제주특별자치도  제주특별자치도     9290.0    12427.0    12210.0    16158.0    19580.0   \n\n          1975       1976       1977  ...       2008       2009       2010  \\\n0     이동자수 (명)   이동자수 (명)   이동자수 (명)  ...   이동자수 (명)   이동자수 (명)   이동자수 (명)   \n1    9011440.0  6773250.0  7397623.0  ...  8808256.0  8487275.0  8226594.0   \n2    3396662.0  2756510.0  2893403.0  ...  2025358.0  1873188.0  1733015.0   \n3     805979.0   724664.0   785117.0  ...   514502.0   519310.0   519334.0   \n4            -          -          -  ...   409938.0   398626.0   370817.0   \n..         ...        ...        ...  ...        ...        ...        ...   \n320      415.0      392.0      408.0  ...      668.0      579.0      672.0   \n321     2808.0     2608.0     2652.0  ...     1143.0     1123.0     1002.0   \n322     1123.0     1141.0     1004.0  ...      761.0      704.0      738.0   \n323     1517.0      863.0     1122.0  ...     1517.0     1474.0     1324.0   \n324    34221.0    23291.0    31028.0  ...    59564.0    55673.0    55507.0   \n\n          2011       2012       2013       2014       2015       2016  \\\n0     이동자수 (명)   이동자수 (명)   이동자수 (명)   이동자수 (명)   이동자수 (명)   이동자수 (명)   \n1    8127195.0  7506691.0  7411784.0  7629098.0  7755286.0  7378430.0   \n2    1721748.0  1555281.0  1520090.0  1573594.0  1589431.0  1515602.0   \n3     508043.0   461042.0   478451.0   485710.0   507031.0   459015.0   \n4     370563.0   348642.0   351873.0   350213.0   351424.0   328228.0   \n..         ...        ...        ...        ...        ...        ...   \n320      561.0      551.0      516.0      609.0      683.0      733.0   \n321     1026.0      966.0     1001.0      928.0     1062.0     1127.0   \n322      756.0      699.0      781.0      728.0      903.0      931.0   \n323     1367.0     1227.0     1278.0     1223.0     1500.0     1448.0   \n324    59846.0    54280.0    60607.0    59673.0    59036.0    66444.0   \n\n          2017  \n0     이동자수 (명)  \n1    7154226.0  \n2    1472937.0  \n3     439073.0  \n4     321182.0  \n..         ...  \n320      768.0  \n321     1102.0  \n322      994.0  \n323     1501.0  \n324    63275.0  \n\n[325 rows x 50 columns]",
      "text/html": "<div>\n<style scoped>\n    .dataframe tbody tr th:only-of-type {\n        vertical-align: middle;\n    }\n\n    .dataframe tbody tr th {\n        vertical-align: top;\n    }\n\n    .dataframe thead th {\n        text-align: right;\n    }\n</style>\n<table border=\"1\" class=\"dataframe\">\n  <thead>\n    <tr style=\"text-align: right;\">\n      <th></th>\n      <th>전출지별</th>\n      <th>전입지별</th>\n      <th>1970</th>\n      <th>1971</th>\n      <th>1972</th>\n      <th>1973</th>\n      <th>1974</th>\n      <th>1975</th>\n      <th>1976</th>\n      <th>1977</th>\n      <th>...</th>\n      <th>2008</th>\n      <th>2009</th>\n      <th>2010</th>\n      <th>2011</th>\n      <th>2012</th>\n      <th>2013</th>\n      <th>2014</th>\n      <th>2015</th>\n      <th>2016</th>\n      <th>2017</th>\n    </tr>\n  </thead>\n  <tbody>\n    <tr>\n      <th>0</th>\n      <td>전출지별</td>\n      <td>전입지별</td>\n      <td>이동자수 (명)</td>\n      <td>이동자수 (명)</td>\n      <td>이동자수 (명)</td>\n      <td>이동자수 (명)</td>\n      <td>이동자수 (명)</td>\n      <td>이동자수 (명)</td>\n      <td>이동자수 (명)</td>\n      <td>이동자수 (명)</td>\n      <td>...</td>\n      <td>이동자수 (명)</td>\n      <td>이동자수 (명)</td>\n      <td>이동자수 (명)</td>\n      <td>이동자수 (명)</td>\n      <td>이동자수 (명)</td>\n      <td>이동자수 (명)</td>\n      <td>이동자수 (명)</td>\n      <td>이동자수 (명)</td>\n      <td>이동자수 (명)</td>\n      <td>이동자수 (명)</td>\n    </tr>\n    <tr>\n      <th>1</th>\n      <td>전국</td>\n      <td>전국</td>\n      <td>4046536.0</td>\n      <td>4210164.0</td>\n      <td>3687938.0</td>\n      <td>4860418.0</td>\n      <td>5297969.0</td>\n      <td>9011440.0</td>\n      <td>6773250.0</td>\n      <td>7397623.0</td>\n      <td>...</td>\n      <td>8808256.0</td>\n      <td>8487275.0</td>\n      <td>8226594.0</td>\n      <td>8127195.0</td>\n      <td>7506691.0</td>\n      <td>7411784.0</td>\n      <td>7629098.0</td>\n      <td>7755286.0</td>\n      <td>7378430.0</td>\n      <td>7154226.0</td>\n    </tr>\n    <tr>\n      <th>2</th>\n      <td>전국</td>\n      <td>서울특별시</td>\n      <td>1742813.0</td>\n      <td>1671705.0</td>\n      <td>1349333.0</td>\n      <td>1831858.0</td>\n      <td>2050392.0</td>\n      <td>3396662.0</td>\n      <td>2756510.0</td>\n      <td>2893403.0</td>\n      <td>...</td>\n      <td>2025358.0</td>\n      <td>1873188.0</td>\n      <td>1733015.0</td>\n      <td>1721748.0</td>\n      <td>1555281.0</td>\n      <td>1520090.0</td>\n      <td>1573594.0</td>\n      <td>1589431.0</td>\n      <td>1515602.0</td>\n      <td>1472937.0</td>\n    </tr>\n    <tr>\n      <th>3</th>\n      <td>전국</td>\n      <td>부산광역시</td>\n      <td>448577.0</td>\n      <td>389797.0</td>\n      <td>362202.0</td>\n      <td>482061.0</td>\n      <td>680984.0</td>\n      <td>805979.0</td>\n      <td>724664.0</td>\n      <td>785117.0</td>\n      <td>...</td>\n      <td>514502.0</td>\n      <td>519310.0</td>\n      <td>519334.0</td>\n      <td>508043.0</td>\n      <td>461042.0</td>\n      <td>478451.0</td>\n      <td>485710.0</td>\n      <td>507031.0</td>\n      <td>459015.0</td>\n      <td>439073.0</td>\n    </tr>\n    <tr>\n      <th>4</th>\n      <td>전국</td>\n      <td>대구광역시</td>\n      <td>-</td>\n      <td>-</td>\n      <td>-</td>\n      <td>-</td>\n      <td>-</td>\n      <td>-</td>\n      <td>-</td>\n      <td>-</td>\n      <td>...</td>\n      <td>409938.0</td>\n      <td>398626.0</td>\n      <td>370817.0</td>\n      <td>370563.0</td>\n      <td>348642.0</td>\n      <td>351873.0</td>\n      <td>350213.0</td>\n      <td>351424.0</td>\n      <td>328228.0</td>\n      <td>321182.0</td>\n    </tr>\n    <tr>\n      <th>...</th>\n      <td>...</td>\n      <td>...</td>\n      <td>...</td>\n      <td>...</td>\n      <td>...</td>\n      <td>...</td>\n      <td>...</td>\n      <td>...</td>\n      <td>...</td>\n      <td>...</td>\n      <td>...</td>\n      <td>...</td>\n      <td>...</td>\n      <td>...</td>\n      <td>...</td>\n      <td>...</td>\n      <td>...</td>\n      <td>...</td>\n      <td>...</td>\n      <td>...</td>\n      <td>...</td>\n    </tr>\n    <tr>\n      <th>320</th>\n      <td>제주특별자치도</td>\n      <td>전라북도</td>\n      <td>139.0</td>\n      <td>202.0</td>\n      <td>141.0</td>\n      <td>210.0</td>\n      <td>219.0</td>\n      <td>415.0</td>\n      <td>392.0</td>\n      <td>408.0</td>\n      <td>...</td>\n      <td>668.0</td>\n      <td>579.0</td>\n      <td>672.0</td>\n      <td>561.0</td>\n      <td>551.0</td>\n      <td>516.0</td>\n      <td>609.0</td>\n      <td>683.0</td>\n      <td>733.0</td>\n      <td>768.0</td>\n    </tr>\n    <tr>\n      <th>321</th>\n      <td>제주특별자치도</td>\n      <td>전라남도</td>\n      <td>631.0</td>\n      <td>965.0</td>\n      <td>857.0</td>\n      <td>952.0</td>\n      <td>1133.0</td>\n      <td>2808.0</td>\n      <td>2608.0</td>\n      <td>2652.0</td>\n      <td>...</td>\n      <td>1143.0</td>\n      <td>1123.0</td>\n      <td>1002.0</td>\n      <td>1026.0</td>\n      <td>966.0</td>\n      <td>1001.0</td>\n      <td>928.0</td>\n      <td>1062.0</td>\n      <td>1127.0</td>\n      <td>1102.0</td>\n    </tr>\n    <tr>\n      <th>322</th>\n      <td>제주특별자치도</td>\n      <td>경상북도</td>\n      <td>374.0</td>\n      <td>619.0</td>\n      <td>468.0</td>\n      <td>576.0</td>\n      <td>625.0</td>\n      <td>1123.0</td>\n      <td>1141.0</td>\n      <td>1004.0</td>\n      <td>...</td>\n      <td>761.0</td>\n      <td>704.0</td>\n      <td>738.0</td>\n      <td>756.0</td>\n      <td>699.0</td>\n      <td>781.0</td>\n      <td>728.0</td>\n      <td>903.0</td>\n      <td>931.0</td>\n      <td>994.0</td>\n    </tr>\n    <tr>\n      <th>323</th>\n      <td>제주특별자치도</td>\n      <td>경상남도</td>\n      <td>474.0</td>\n      <td>479.0</td>\n      <td>440.0</td>\n      <td>571.0</td>\n      <td>1208.0</td>\n      <td>1517.0</td>\n      <td>863.0</td>\n      <td>1122.0</td>\n      <td>...</td>\n      <td>1517.0</td>\n      <td>1474.0</td>\n      <td>1324.0</td>\n      <td>1367.0</td>\n      <td>1227.0</td>\n      <td>1278.0</td>\n      <td>1223.0</td>\n      <td>1500.0</td>\n      <td>1448.0</td>\n      <td>1501.0</td>\n    </tr>\n    <tr>\n      <th>324</th>\n      <td>제주특별자치도</td>\n      <td>제주특별자치도</td>\n      <td>9290.0</td>\n      <td>12427.0</td>\n      <td>12210.0</td>\n      <td>16158.0</td>\n      <td>19580.0</td>\n      <td>34221.0</td>\n      <td>23291.0</td>\n      <td>31028.0</td>\n      <td>...</td>\n      <td>59564.0</td>\n      <td>55673.0</td>\n      <td>55507.0</td>\n      <td>59846.0</td>\n      <td>54280.0</td>\n      <td>60607.0</td>\n      <td>59673.0</td>\n      <td>59036.0</td>\n      <td>66444.0</td>\n      <td>63275.0</td>\n    </tr>\n  </tbody>\n</table>\n<p>325 rows × 50 columns</p>\n</div>"
     },
     "execution_count": 5,
     "metadata": {},
     "output_type": "execute_result"
    }
   ],
   "source": [
    "pop_frm = pop_frm.fillna(method='ffill')\n",
    "pop_frm"
   ],
   "metadata": {
    "collapsed": false,
    "pycharm": {
     "name": "#%%\n"
    }
   }
  },
  {
   "cell_type": "code",
   "execution_count": 7,
   "outputs": [
    {
     "name": "stdout",
     "output_type": "stream",
     "text": [
      "서울에서 다른 지역으로 이동한 데이터만 추출한다면\n"
     ]
    },
    {
     "data": {
      "text/plain": "Index(['전출지별', '전입지별', '1970', '1971', '1972', '1973', '1974', '1975', '1976',\n       '1977', '1978', '1979', '1980', '1981', '1982', '1983', '1984', '1985',\n       '1986', '1987', '1988', '1989', '1990', '1991', '1992', '1993', '1994',\n       '1995', '1996', '1997', '1998', '1999', '2000', '2001', '2002', '2003',\n       '2004', '2005', '2006', '2007', '2008', '2009', '2010', '2011', '2012',\n       '2013', '2014', '2015', '2016', '2017'],\n      dtype='object')"
     },
     "execution_count": 7,
     "metadata": {},
     "output_type": "execute_result"
    }
   ],
   "source": [
    "print('서울에서 다른 지역으로 이동한 데이터만 추출한다면')\n",
    "pop_frm.columns"
   ],
   "metadata": {
    "collapsed": false,
    "pycharm": {
     "name": "#%%\n"
    }
   }
  },
  {
   "cell_type": "code",
   "execution_count": 9,
   "outputs": [
    {
     "data": {
      "text/plain": "     전출지별     전입지별       1970       1971       1972       1973       1974  \\\n19  서울특별시       전국  1448985.0  1419016.0  1210559.0  1647268.0  1819660.0   \n21  서울특별시    부산광역시    11568.0    11130.0    11768.0    16307.0    22220.0   \n22  서울특별시    대구광역시          -          -          -          -          -   \n23  서울특별시    인천광역시          -          -          -          -          -   \n24  서울특별시    광주광역시          -          -          -          -          -   \n25  서울특별시    대전광역시          -          -          -          -          -   \n26  서울특별시    울산광역시          -          -          -          -          -   \n27  서울특별시  세종특별자치시          -          -          -          -          -   \n28  서울특별시      경기도   130149.0   150313.0    93333.0   143234.0   149045.0   \n29  서울특별시      강원도     9352.0    12885.0    13561.0    16481.0    15479.0   \n30  서울특별시     충청북도     6700.0     9457.0    10853.0    12617.0    11786.0   \n31  서울특별시     충청남도    15954.0    18943.0    23406.0    27139.0    25509.0   \n32  서울특별시     전라북도    10814.0    13192.0    16583.0    18642.0    16647.0   \n33  서울특별시     전라남도    10513.0    16755.0    20157.0    22160.0    21314.0   \n34  서울특별시     경상북도    11868.0    16459.0    22073.0    27531.0    26902.0   \n35  서울특별시     경상남도     8409.0    10001.0    11263.0    15193.0    16771.0   \n36  서울특별시  제주특별자치도     1039.0     1325.0     1617.0     2456.0     2261.0   \n\n         1975       1976       1977  ...       2008       2009       2010  \\\n19  2937093.0  2495620.0  2678007.0  ...  2083352.0  1925452.0  1848038.0   \n21    27515.0    23732.0    27213.0  ...    17353.0    17738.0    17418.0   \n22          -          -          -  ...     9720.0    10464.0    10277.0   \n23          -          -          -  ...    50493.0    45392.0    46082.0   \n24          -          -          -  ...    10846.0    11725.0    11095.0   \n25          -          -          -  ...    13515.0    13632.0    13819.0   \n26          -          -          -  ...     5057.0     4845.0     4742.0   \n27          -          -          -  ...          -          -          -   \n28   253705.0   202276.0   207722.0  ...   412408.0   398282.0   410735.0   \n29    27837.0    25927.0    25415.0  ...    23668.0    23331.0    22736.0   \n30    21073.0    18029.0    17478.0  ...    15294.0    15295.0    15461.0   \n31    51205.0    41447.0    43993.0  ...    27458.0    24889.0    24522.0   \n32    34411.0    29835.0    28444.0  ...    18390.0    18332.0    17569.0   \n33    46610.0    46251.0    43430.0  ...    16601.0    17468.0    16429.0   \n34    46177.0    40376.0    41155.0  ...    15425.0    16569.0    16042.0   \n35    23150.0    22400.0    27393.0  ...    15438.0    15303.0    15689.0   \n36     3440.0     3623.0     3551.0  ...     5473.0     5332.0     5714.0   \n\n         2011       2012       2013       2014       2015       2016  \\\n19  1834806.0  1658928.0  1620640.0  1661425.0  1726687.0  1655859.0   \n21    18816.0    16135.0    16153.0    17320.0    17009.0    15062.0   \n22    10397.0    10135.0    10631.0    10062.0    10191.0     9623.0   \n23    51641.0    49640.0    47424.0    43212.0    44915.0    43745.0   \n24    10587.0    10154.0     9129.0     9759.0     9216.0     8354.0   \n25    13900.0    14080.0    13440.0    13403.0    13453.0    12619.0   \n26     5188.0     5691.0     5542.0     6047.0     5950.0     5102.0   \n27          -     2998.0     2851.0     6481.0     7550.0     5943.0   \n28   373771.0   354135.0   340801.0   332785.0   359337.0   370760.0   \n29    23624.0    22332.0    20601.0    21173.0    22659.0    21590.0   \n30    15318.0    14555.0    13783.0    14244.0    14379.0    14087.0   \n31    24723.0    22269.0    21486.0    21473.0    22299.0    21741.0   \n32    17755.0    16120.0    14909.0    14566.0    14835.0    13835.0   \n33    15974.0    14765.0    14187.0    14591.0    14598.0    13065.0   \n34    15818.0    15191.0    14420.0    14456.0    15113.0    14236.0   \n35    16039.0    14474.0    14447.0    14799.0    15220.0    13717.0   \n36     6133.0     6954.0     7828.0     9031.0    10434.0    10465.0   \n\n         2017  \n19  1571423.0  \n21    14484.0  \n22     8891.0  \n23    40485.0  \n24     7932.0  \n25    11815.0  \n26     4260.0  \n27     5813.0  \n28   342433.0  \n29    21016.0  \n30    13302.0  \n31    21020.0  \n32    13179.0  \n33    12426.0  \n34    12464.0  \n35    12692.0  \n36    10404.0  \n\n[17 rows x 50 columns]",
      "text/html": "<div>\n<style scoped>\n    .dataframe tbody tr th:only-of-type {\n        vertical-align: middle;\n    }\n\n    .dataframe tbody tr th {\n        vertical-align: top;\n    }\n\n    .dataframe thead th {\n        text-align: right;\n    }\n</style>\n<table border=\"1\" class=\"dataframe\">\n  <thead>\n    <tr style=\"text-align: right;\">\n      <th></th>\n      <th>전출지별</th>\n      <th>전입지별</th>\n      <th>1970</th>\n      <th>1971</th>\n      <th>1972</th>\n      <th>1973</th>\n      <th>1974</th>\n      <th>1975</th>\n      <th>1976</th>\n      <th>1977</th>\n      <th>...</th>\n      <th>2008</th>\n      <th>2009</th>\n      <th>2010</th>\n      <th>2011</th>\n      <th>2012</th>\n      <th>2013</th>\n      <th>2014</th>\n      <th>2015</th>\n      <th>2016</th>\n      <th>2017</th>\n    </tr>\n  </thead>\n  <tbody>\n    <tr>\n      <th>19</th>\n      <td>서울특별시</td>\n      <td>전국</td>\n      <td>1448985.0</td>\n      <td>1419016.0</td>\n      <td>1210559.0</td>\n      <td>1647268.0</td>\n      <td>1819660.0</td>\n      <td>2937093.0</td>\n      <td>2495620.0</td>\n      <td>2678007.0</td>\n      <td>...</td>\n      <td>2083352.0</td>\n      <td>1925452.0</td>\n      <td>1848038.0</td>\n      <td>1834806.0</td>\n      <td>1658928.0</td>\n      <td>1620640.0</td>\n      <td>1661425.0</td>\n      <td>1726687.0</td>\n      <td>1655859.0</td>\n      <td>1571423.0</td>\n    </tr>\n    <tr>\n      <th>21</th>\n      <td>서울특별시</td>\n      <td>부산광역시</td>\n      <td>11568.0</td>\n      <td>11130.0</td>\n      <td>11768.0</td>\n      <td>16307.0</td>\n      <td>22220.0</td>\n      <td>27515.0</td>\n      <td>23732.0</td>\n      <td>27213.0</td>\n      <td>...</td>\n      <td>17353.0</td>\n      <td>17738.0</td>\n      <td>17418.0</td>\n      <td>18816.0</td>\n      <td>16135.0</td>\n      <td>16153.0</td>\n      <td>17320.0</td>\n      <td>17009.0</td>\n      <td>15062.0</td>\n      <td>14484.0</td>\n    </tr>\n    <tr>\n      <th>22</th>\n      <td>서울특별시</td>\n      <td>대구광역시</td>\n      <td>-</td>\n      <td>-</td>\n      <td>-</td>\n      <td>-</td>\n      <td>-</td>\n      <td>-</td>\n      <td>-</td>\n      <td>-</td>\n      <td>...</td>\n      <td>9720.0</td>\n      <td>10464.0</td>\n      <td>10277.0</td>\n      <td>10397.0</td>\n      <td>10135.0</td>\n      <td>10631.0</td>\n      <td>10062.0</td>\n      <td>10191.0</td>\n      <td>9623.0</td>\n      <td>8891.0</td>\n    </tr>\n    <tr>\n      <th>23</th>\n      <td>서울특별시</td>\n      <td>인천광역시</td>\n      <td>-</td>\n      <td>-</td>\n      <td>-</td>\n      <td>-</td>\n      <td>-</td>\n      <td>-</td>\n      <td>-</td>\n      <td>-</td>\n      <td>...</td>\n      <td>50493.0</td>\n      <td>45392.0</td>\n      <td>46082.0</td>\n      <td>51641.0</td>\n      <td>49640.0</td>\n      <td>47424.0</td>\n      <td>43212.0</td>\n      <td>44915.0</td>\n      <td>43745.0</td>\n      <td>40485.0</td>\n    </tr>\n    <tr>\n      <th>24</th>\n      <td>서울특별시</td>\n      <td>광주광역시</td>\n      <td>-</td>\n      <td>-</td>\n      <td>-</td>\n      <td>-</td>\n      <td>-</td>\n      <td>-</td>\n      <td>-</td>\n      <td>-</td>\n      <td>...</td>\n      <td>10846.0</td>\n      <td>11725.0</td>\n      <td>11095.0</td>\n      <td>10587.0</td>\n      <td>10154.0</td>\n      <td>9129.0</td>\n      <td>9759.0</td>\n      <td>9216.0</td>\n      <td>8354.0</td>\n      <td>7932.0</td>\n    </tr>\n    <tr>\n      <th>25</th>\n      <td>서울특별시</td>\n      <td>대전광역시</td>\n      <td>-</td>\n      <td>-</td>\n      <td>-</td>\n      <td>-</td>\n      <td>-</td>\n      <td>-</td>\n      <td>-</td>\n      <td>-</td>\n      <td>...</td>\n      <td>13515.0</td>\n      <td>13632.0</td>\n      <td>13819.0</td>\n      <td>13900.0</td>\n      <td>14080.0</td>\n      <td>13440.0</td>\n      <td>13403.0</td>\n      <td>13453.0</td>\n      <td>12619.0</td>\n      <td>11815.0</td>\n    </tr>\n    <tr>\n      <th>26</th>\n      <td>서울특별시</td>\n      <td>울산광역시</td>\n      <td>-</td>\n      <td>-</td>\n      <td>-</td>\n      <td>-</td>\n      <td>-</td>\n      <td>-</td>\n      <td>-</td>\n      <td>-</td>\n      <td>...</td>\n      <td>5057.0</td>\n      <td>4845.0</td>\n      <td>4742.0</td>\n      <td>5188.0</td>\n      <td>5691.0</td>\n      <td>5542.0</td>\n      <td>6047.0</td>\n      <td>5950.0</td>\n      <td>5102.0</td>\n      <td>4260.0</td>\n    </tr>\n    <tr>\n      <th>27</th>\n      <td>서울특별시</td>\n      <td>세종특별자치시</td>\n      <td>-</td>\n      <td>-</td>\n      <td>-</td>\n      <td>-</td>\n      <td>-</td>\n      <td>-</td>\n      <td>-</td>\n      <td>-</td>\n      <td>...</td>\n      <td>-</td>\n      <td>-</td>\n      <td>-</td>\n      <td>-</td>\n      <td>2998.0</td>\n      <td>2851.0</td>\n      <td>6481.0</td>\n      <td>7550.0</td>\n      <td>5943.0</td>\n      <td>5813.0</td>\n    </tr>\n    <tr>\n      <th>28</th>\n      <td>서울특별시</td>\n      <td>경기도</td>\n      <td>130149.0</td>\n      <td>150313.0</td>\n      <td>93333.0</td>\n      <td>143234.0</td>\n      <td>149045.0</td>\n      <td>253705.0</td>\n      <td>202276.0</td>\n      <td>207722.0</td>\n      <td>...</td>\n      <td>412408.0</td>\n      <td>398282.0</td>\n      <td>410735.0</td>\n      <td>373771.0</td>\n      <td>354135.0</td>\n      <td>340801.0</td>\n      <td>332785.0</td>\n      <td>359337.0</td>\n      <td>370760.0</td>\n      <td>342433.0</td>\n    </tr>\n    <tr>\n      <th>29</th>\n      <td>서울특별시</td>\n      <td>강원도</td>\n      <td>9352.0</td>\n      <td>12885.0</td>\n      <td>13561.0</td>\n      <td>16481.0</td>\n      <td>15479.0</td>\n      <td>27837.0</td>\n      <td>25927.0</td>\n      <td>25415.0</td>\n      <td>...</td>\n      <td>23668.0</td>\n      <td>23331.0</td>\n      <td>22736.0</td>\n      <td>23624.0</td>\n      <td>22332.0</td>\n      <td>20601.0</td>\n      <td>21173.0</td>\n      <td>22659.0</td>\n      <td>21590.0</td>\n      <td>21016.0</td>\n    </tr>\n    <tr>\n      <th>30</th>\n      <td>서울특별시</td>\n      <td>충청북도</td>\n      <td>6700.0</td>\n      <td>9457.0</td>\n      <td>10853.0</td>\n      <td>12617.0</td>\n      <td>11786.0</td>\n      <td>21073.0</td>\n      <td>18029.0</td>\n      <td>17478.0</td>\n      <td>...</td>\n      <td>15294.0</td>\n      <td>15295.0</td>\n      <td>15461.0</td>\n      <td>15318.0</td>\n      <td>14555.0</td>\n      <td>13783.0</td>\n      <td>14244.0</td>\n      <td>14379.0</td>\n      <td>14087.0</td>\n      <td>13302.0</td>\n    </tr>\n    <tr>\n      <th>31</th>\n      <td>서울특별시</td>\n      <td>충청남도</td>\n      <td>15954.0</td>\n      <td>18943.0</td>\n      <td>23406.0</td>\n      <td>27139.0</td>\n      <td>25509.0</td>\n      <td>51205.0</td>\n      <td>41447.0</td>\n      <td>43993.0</td>\n      <td>...</td>\n      <td>27458.0</td>\n      <td>24889.0</td>\n      <td>24522.0</td>\n      <td>24723.0</td>\n      <td>22269.0</td>\n      <td>21486.0</td>\n      <td>21473.0</td>\n      <td>22299.0</td>\n      <td>21741.0</td>\n      <td>21020.0</td>\n    </tr>\n    <tr>\n      <th>32</th>\n      <td>서울특별시</td>\n      <td>전라북도</td>\n      <td>10814.0</td>\n      <td>13192.0</td>\n      <td>16583.0</td>\n      <td>18642.0</td>\n      <td>16647.0</td>\n      <td>34411.0</td>\n      <td>29835.0</td>\n      <td>28444.0</td>\n      <td>...</td>\n      <td>18390.0</td>\n      <td>18332.0</td>\n      <td>17569.0</td>\n      <td>17755.0</td>\n      <td>16120.0</td>\n      <td>14909.0</td>\n      <td>14566.0</td>\n      <td>14835.0</td>\n      <td>13835.0</td>\n      <td>13179.0</td>\n    </tr>\n    <tr>\n      <th>33</th>\n      <td>서울특별시</td>\n      <td>전라남도</td>\n      <td>10513.0</td>\n      <td>16755.0</td>\n      <td>20157.0</td>\n      <td>22160.0</td>\n      <td>21314.0</td>\n      <td>46610.0</td>\n      <td>46251.0</td>\n      <td>43430.0</td>\n      <td>...</td>\n      <td>16601.0</td>\n      <td>17468.0</td>\n      <td>16429.0</td>\n      <td>15974.0</td>\n      <td>14765.0</td>\n      <td>14187.0</td>\n      <td>14591.0</td>\n      <td>14598.0</td>\n      <td>13065.0</td>\n      <td>12426.0</td>\n    </tr>\n    <tr>\n      <th>34</th>\n      <td>서울특별시</td>\n      <td>경상북도</td>\n      <td>11868.0</td>\n      <td>16459.0</td>\n      <td>22073.0</td>\n      <td>27531.0</td>\n      <td>26902.0</td>\n      <td>46177.0</td>\n      <td>40376.0</td>\n      <td>41155.0</td>\n      <td>...</td>\n      <td>15425.0</td>\n      <td>16569.0</td>\n      <td>16042.0</td>\n      <td>15818.0</td>\n      <td>15191.0</td>\n      <td>14420.0</td>\n      <td>14456.0</td>\n      <td>15113.0</td>\n      <td>14236.0</td>\n      <td>12464.0</td>\n    </tr>\n    <tr>\n      <th>35</th>\n      <td>서울특별시</td>\n      <td>경상남도</td>\n      <td>8409.0</td>\n      <td>10001.0</td>\n      <td>11263.0</td>\n      <td>15193.0</td>\n      <td>16771.0</td>\n      <td>23150.0</td>\n      <td>22400.0</td>\n      <td>27393.0</td>\n      <td>...</td>\n      <td>15438.0</td>\n      <td>15303.0</td>\n      <td>15689.0</td>\n      <td>16039.0</td>\n      <td>14474.0</td>\n      <td>14447.0</td>\n      <td>14799.0</td>\n      <td>15220.0</td>\n      <td>13717.0</td>\n      <td>12692.0</td>\n    </tr>\n    <tr>\n      <th>36</th>\n      <td>서울특별시</td>\n      <td>제주특별자치도</td>\n      <td>1039.0</td>\n      <td>1325.0</td>\n      <td>1617.0</td>\n      <td>2456.0</td>\n      <td>2261.0</td>\n      <td>3440.0</td>\n      <td>3623.0</td>\n      <td>3551.0</td>\n      <td>...</td>\n      <td>5473.0</td>\n      <td>5332.0</td>\n      <td>5714.0</td>\n      <td>6133.0</td>\n      <td>6954.0</td>\n      <td>7828.0</td>\n      <td>9031.0</td>\n      <td>10434.0</td>\n      <td>10465.0</td>\n      <td>10404.0</td>\n    </tr>\n  </tbody>\n</table>\n<p>17 rows × 50 columns</p>\n</div>"
     },
     "execution_count": 9,
     "metadata": {},
     "output_type": "execute_result"
    }
   ],
   "source": [
    "mask = (pop_frm['전출지별']=='서울특별시') & (pop_frm['전입지별'] !='서울특별시')\n",
    "seoul_subset = pop_frm[mask]\n",
    "seoul_subset"
   ],
   "metadata": {
    "collapsed": false,
    "pycharm": {
     "name": "#%%\n"
    }
   }
  },
  {
   "cell_type": "code",
   "execution_count": 10,
   "outputs": [
    {
     "name": "stdout",
     "output_type": "stream",
     "text": [
      "전출지별 피처를 삭제한다면?-\n"
     ]
    }
   ],
   "source": [
    "print('전출지별 피처를 삭제한다면?-')\n",
    "seoul_subset.drop(['전출지별'], axis=1, inplace= True)\n"
   ],
   "metadata": {
    "collapsed": false,
    "pycharm": {
     "name": "#%%\n"
    }
   }
  },
  {
   "cell_type": "code",
   "execution_count": 11,
   "outputs": [],
   "source": [
    "seoul_subset.set_index('전입지별', inplace = True)"
   ],
   "metadata": {
    "collapsed": false,
    "pycharm": {
     "name": "#%%\n"
    }
   }
  },
  {
   "cell_type": "code",
   "execution_count": null,
   "outputs": [],
   "source": [],
   "metadata": {
    "collapsed": false,
    "pycharm": {
     "name": "#%%\n"
    }
   }
  },
  {
   "cell_type": "code",
   "execution_count": null,
   "outputs": [],
   "source": [],
   "metadata": {
    "collapsed": false,
    "pycharm": {
     "name": "#%%\n"
    }
   }
  },
  {
   "cell_type": "code",
   "execution_count": null,
   "outputs": [],
   "source": [],
   "metadata": {
    "collapsed": false,
    "pycharm": {
     "name": "#%%\n"
    }
   }
  },
  {
   "cell_type": "code",
   "execution_count": null,
   "outputs": [],
   "source": [],
   "metadata": {
    "collapsed": false,
    "pycharm": {
     "name": "#%%\n"
    }
   }
  },
  {
   "cell_type": "code",
   "execution_count": null,
   "outputs": [],
   "source": [],
   "metadata": {
    "collapsed": false,
    "pycharm": {
     "name": "#%%\n"
    }
   }
  }
 ],
 "metadata": {
  "kernelspec": {
   "display_name": "Python 3",
   "language": "python",
   "name": "python3"
  },
  "language_info": {
   "codemirror_mode": {
    "name": "ipython",
    "version": 2
   },
   "file_extension": ".py",
   "mimetype": "text/x-python",
   "name": "python",
   "nbconvert_exporter": "python",
   "pygments_lexer": "ipython2",
   "version": "2.7.6"
  }
 },
 "nbformat": 4,
 "nbformat_minor": 0
}