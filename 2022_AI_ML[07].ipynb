{
 "cells": [
  {
   "cell_type": "code",
   "execution_count": 1,
   "metadata": {
    "collapsed": true
   },
   "outputs": [
    {
     "data": {
      "text/plain": "'0.24.2'"
     },
     "execution_count": 1,
     "metadata": {},
     "output_type": "execute_result"
    }
   ],
   "source": [
    "import numpy  as np\n",
    "import pandas as pd\n",
    "\n",
    "# 시각화\n",
    "import matplotlib.pyplot as plt\n",
    "%matplotlib inline\n",
    "\n",
    "import seaborn as sns\n",
    "\n",
    "import json\n",
    "\n",
    "import warnings\n",
    "warnings.filterwarnings(action='ignore')\n",
    "\n",
    "from datetime import date, datetime, timedelta\n",
    "from dateutil.parser import parse\n",
    "\n",
    "\n",
    "# 한글 폰트 문제 해결\n",
    "import platform\n",
    "\n",
    "from matplotlib import font_manager, rc\n",
    "\n",
    "if platform.system() == 'Darwin':\n",
    "    plt.rc('font', family='AppleGothic')\n",
    "elif platform.system() == 'Windows':\n",
    "    path = \"c:/Windows/Fonts/malgun.ttf\"\n",
    "    font_name = font_manager.FontProperties(fname=path).get_name()\n",
    "    plt.rc('font', family=font_name)\n",
    "else:\n",
    "    print('Unknown system... sorry~~~~')\n",
    "\n",
    "\n",
    "# 차트 축 <- 음수 부호 지원\n",
    "import matplotlib\n",
    "matplotlib.rcParams['axes.unicode_minus'] = False\n",
    "\n",
    "\n",
    "# crawling\n",
    "from bs4 import BeautifulSoup\n",
    "from urllib.request import urlopen , urlretrieve\n",
    "from urllib.error   import HTTPError\n",
    "from urllib.error   import URLError\n",
    "\n",
    "import requests\n",
    "import re\n",
    "\n",
    "from selenium import webdriver\n",
    "\n",
    "from time    import sleep , time\n",
    "from random  import randint\n",
    "from IPython.core.display import clear_output\n",
    "\n",
    "# 비정형 디비\n",
    "# import pymongo as mongo\n",
    "\n",
    "# print('numpy version  - ' , np.__version__)\n",
    "# print('pandas version - ' , pd.__version__)\n",
    "\n",
    "# conda install -c conda-forge python-graphviz\n",
    "# pip install graphviz\n",
    "\n",
    "import graphviz\n",
    "import missingno as msno\n",
    "\n",
    "# ml\n",
    "import sklearn\n",
    "from   sklearn.datasets import load_iris , load_breast_cancer , load_digits\n",
    "\n",
    "from   sklearn.model_selection import train_test_split , KFold , StratifiedKFold, cross_val_score , cross_validate , GridSearchCV\n",
    "\n",
    "from   sklearn.tree            import DecisionTreeClassifier , export_graphviz\n",
    "\n",
    "from   sklearn.ensemble        import RandomForestClassifier , VotingClassifier\n",
    "\n",
    "from   sklearn.linear_model    import LogisticRegression\n",
    "\n",
    "from   sklearn.svm             import SVC\n",
    "\n",
    "from   sklearn.neighbors        import KNeighborsClassifier\n",
    "\n",
    "from   sklearn.metrics         import accuracy_score , precision_score , recall_score , f1_score , confusion_matrix , precision_recall_curve  ,  roc_curve , roc_auc_score\n",
    "from   sklearn.preprocessing   import LabelEncoder , OneHotEncoder , MinMaxScaler , StandardScaler , Binarizer\n",
    "from   sklearn.impute          import SimpleImputer\n",
    "\n",
    "from   sklearn.base            import BaseEstimator\n",
    "\n",
    "from   IPython.display import Image\n",
    "\n",
    "import xgboost as xgb\n",
    "from   xgboost import plot_importance\n",
    "from   xgboost import XGBClassifier\n",
    "\n",
    "from lightgbm import LGBMClassifier\n",
    "from lightgbm import plot_importance\n",
    "import lightgbm as light\n",
    "\n",
    "from imblearn.over_sampling import SMOTE\n",
    "sklearn.__version__"
   ]
  },
  {
   "cell_type": "code",
   "execution_count": 2,
   "outputs": [
    {
     "name": "stdout",
     "output_type": "stream",
     "text": [
      "1.5.1\n"
     ]
    }
   ],
   "source": [
    "print(xgb.__version__)"
   ],
   "metadata": {
    "collapsed": false,
    "pycharm": {
     "name": "#%%\n"
    }
   }
  },
  {
   "cell_type": "code",
   "execution_count": 3,
   "outputs": [
    {
     "data": {
      "text/plain": "dict_keys(['data', 'target', 'frame', 'target_names', 'DESCR', 'feature_names', 'filename'])"
     },
     "execution_count": 3,
     "metadata": {},
     "output_type": "execute_result"
    }
   ],
   "source": [
    "cancer = load_breast_cancer()\n",
    "cancer.keys()"
   ],
   "metadata": {
    "collapsed": false,
    "pycharm": {
     "name": "#%%\n"
    }
   }
  },
  {
   "cell_type": "code",
   "execution_count": 4,
   "outputs": [],
   "source": [
    "def metrics_evaluation(target , prediction = None , prediction_prob = None) :\n",
    "    print('confusion matrix \\n' , confusion_matrix(target , prediction))\n",
    "    print('*'*100)\n",
    "    print('accuracy \\n'    , accuracy_score(target , prediction))\n",
    "    print('*'*100)\n",
    "    print('recall \\n'      , recall_score(target , prediction))\n",
    "    print('*'*100)\n",
    "    print('precision \\n'   , precision_score(target , prediction))\n",
    "    print('*'*100)\n",
    "    print('f1 score \\n'   , f1_score(target , prediction))"
   ],
   "metadata": {
    "collapsed": false,
    "pycharm": {
     "name": "#%%\n"
    }
   }
  },
  {
   "cell_type": "code",
   "execution_count": 5,
   "outputs": [
    {
     "name": "stdout",
     "output_type": "stream",
     "text": [
      "['malignant' 'benign']\n"
     ]
    },
    {
     "data": {
      "text/plain": "     mean radius  mean texture  mean perimeter  mean area  mean smoothness  \\\n0          17.99         10.38          122.80     1001.0          0.11840   \n1          20.57         17.77          132.90     1326.0          0.08474   \n2          19.69         21.25          130.00     1203.0          0.10960   \n3          11.42         20.38           77.58      386.1          0.14250   \n4          20.29         14.34          135.10     1297.0          0.10030   \n..           ...           ...             ...        ...              ...   \n564        21.56         22.39          142.00     1479.0          0.11100   \n565        20.13         28.25          131.20     1261.0          0.09780   \n566        16.60         28.08          108.30      858.1          0.08455   \n567        20.60         29.33          140.10     1265.0          0.11780   \n568         7.76         24.54           47.92      181.0          0.05263   \n\n     mean compactness  mean concavity  mean concave points  mean symmetry  \\\n0             0.27760         0.30010              0.14710         0.2419   \n1             0.07864         0.08690              0.07017         0.1812   \n2             0.15990         0.19740              0.12790         0.2069   \n3             0.28390         0.24140              0.10520         0.2597   \n4             0.13280         0.19800              0.10430         0.1809   \n..                ...             ...                  ...            ...   \n564           0.11590         0.24390              0.13890         0.1726   \n565           0.10340         0.14400              0.09791         0.1752   \n566           0.10230         0.09251              0.05302         0.1590   \n567           0.27700         0.35140              0.15200         0.2397   \n568           0.04362         0.00000              0.00000         0.1587   \n\n     mean fractal dimension  ...  worst texture  worst perimeter  worst area  \\\n0                   0.07871  ...          17.33           184.60      2019.0   \n1                   0.05667  ...          23.41           158.80      1956.0   \n2                   0.05999  ...          25.53           152.50      1709.0   \n3                   0.09744  ...          26.50            98.87       567.7   \n4                   0.05883  ...          16.67           152.20      1575.0   \n..                      ...  ...            ...              ...         ...   \n564                 0.05623  ...          26.40           166.10      2027.0   \n565                 0.05533  ...          38.25           155.00      1731.0   \n566                 0.05648  ...          34.12           126.70      1124.0   \n567                 0.07016  ...          39.42           184.60      1821.0   \n568                 0.05884  ...          30.37            59.16       268.6   \n\n     worst smoothness  worst compactness  worst concavity  \\\n0             0.16220            0.66560           0.7119   \n1             0.12380            0.18660           0.2416   \n2             0.14440            0.42450           0.4504   \n3             0.20980            0.86630           0.6869   \n4             0.13740            0.20500           0.4000   \n..                ...                ...              ...   \n564           0.14100            0.21130           0.4107   \n565           0.11660            0.19220           0.3215   \n566           0.11390            0.30940           0.3403   \n567           0.16500            0.86810           0.9387   \n568           0.08996            0.06444           0.0000   \n\n     worst concave points  worst symmetry  worst fractal dimension  target  \n0                  0.2654          0.4601                  0.11890       0  \n1                  0.1860          0.2750                  0.08902       0  \n2                  0.2430          0.3613                  0.08758       0  \n3                  0.2575          0.6638                  0.17300       0  \n4                  0.1625          0.2364                  0.07678       0  \n..                    ...             ...                      ...     ...  \n564                0.2216          0.2060                  0.07115       0  \n565                0.1628          0.2572                  0.06637       0  \n566                0.1418          0.2218                  0.07820       0  \n567                0.2650          0.4087                  0.12400       0  \n568                0.0000          0.2871                  0.07039       1  \n\n[569 rows x 31 columns]",
      "text/html": "<div>\n<style scoped>\n    .dataframe tbody tr th:only-of-type {\n        vertical-align: middle;\n    }\n\n    .dataframe tbody tr th {\n        vertical-align: top;\n    }\n\n    .dataframe thead th {\n        text-align: right;\n    }\n</style>\n<table border=\"1\" class=\"dataframe\">\n  <thead>\n    <tr style=\"text-align: right;\">\n      <th></th>\n      <th>mean radius</th>\n      <th>mean texture</th>\n      <th>mean perimeter</th>\n      <th>mean area</th>\n      <th>mean smoothness</th>\n      <th>mean compactness</th>\n      <th>mean concavity</th>\n      <th>mean concave points</th>\n      <th>mean symmetry</th>\n      <th>mean fractal dimension</th>\n      <th>...</th>\n      <th>worst texture</th>\n      <th>worst perimeter</th>\n      <th>worst area</th>\n      <th>worst smoothness</th>\n      <th>worst compactness</th>\n      <th>worst concavity</th>\n      <th>worst concave points</th>\n      <th>worst symmetry</th>\n      <th>worst fractal dimension</th>\n      <th>target</th>\n    </tr>\n  </thead>\n  <tbody>\n    <tr>\n      <th>0</th>\n      <td>17.99</td>\n      <td>10.38</td>\n      <td>122.80</td>\n      <td>1001.0</td>\n      <td>0.11840</td>\n      <td>0.27760</td>\n      <td>0.30010</td>\n      <td>0.14710</td>\n      <td>0.2419</td>\n      <td>0.07871</td>\n      <td>...</td>\n      <td>17.33</td>\n      <td>184.60</td>\n      <td>2019.0</td>\n      <td>0.16220</td>\n      <td>0.66560</td>\n      <td>0.7119</td>\n      <td>0.2654</td>\n      <td>0.4601</td>\n      <td>0.11890</td>\n      <td>0</td>\n    </tr>\n    <tr>\n      <th>1</th>\n      <td>20.57</td>\n      <td>17.77</td>\n      <td>132.90</td>\n      <td>1326.0</td>\n      <td>0.08474</td>\n      <td>0.07864</td>\n      <td>0.08690</td>\n      <td>0.07017</td>\n      <td>0.1812</td>\n      <td>0.05667</td>\n      <td>...</td>\n      <td>23.41</td>\n      <td>158.80</td>\n      <td>1956.0</td>\n      <td>0.12380</td>\n      <td>0.18660</td>\n      <td>0.2416</td>\n      <td>0.1860</td>\n      <td>0.2750</td>\n      <td>0.08902</td>\n      <td>0</td>\n    </tr>\n    <tr>\n      <th>2</th>\n      <td>19.69</td>\n      <td>21.25</td>\n      <td>130.00</td>\n      <td>1203.0</td>\n      <td>0.10960</td>\n      <td>0.15990</td>\n      <td>0.19740</td>\n      <td>0.12790</td>\n      <td>0.2069</td>\n      <td>0.05999</td>\n      <td>...</td>\n      <td>25.53</td>\n      <td>152.50</td>\n      <td>1709.0</td>\n      <td>0.14440</td>\n      <td>0.42450</td>\n      <td>0.4504</td>\n      <td>0.2430</td>\n      <td>0.3613</td>\n      <td>0.08758</td>\n      <td>0</td>\n    </tr>\n    <tr>\n      <th>3</th>\n      <td>11.42</td>\n      <td>20.38</td>\n      <td>77.58</td>\n      <td>386.1</td>\n      <td>0.14250</td>\n      <td>0.28390</td>\n      <td>0.24140</td>\n      <td>0.10520</td>\n      <td>0.2597</td>\n      <td>0.09744</td>\n      <td>...</td>\n      <td>26.50</td>\n      <td>98.87</td>\n      <td>567.7</td>\n      <td>0.20980</td>\n      <td>0.86630</td>\n      <td>0.6869</td>\n      <td>0.2575</td>\n      <td>0.6638</td>\n      <td>0.17300</td>\n      <td>0</td>\n    </tr>\n    <tr>\n      <th>4</th>\n      <td>20.29</td>\n      <td>14.34</td>\n      <td>135.10</td>\n      <td>1297.0</td>\n      <td>0.10030</td>\n      <td>0.13280</td>\n      <td>0.19800</td>\n      <td>0.10430</td>\n      <td>0.1809</td>\n      <td>0.05883</td>\n      <td>...</td>\n      <td>16.67</td>\n      <td>152.20</td>\n      <td>1575.0</td>\n      <td>0.13740</td>\n      <td>0.20500</td>\n      <td>0.4000</td>\n      <td>0.1625</td>\n      <td>0.2364</td>\n      <td>0.07678</td>\n      <td>0</td>\n    </tr>\n    <tr>\n      <th>...</th>\n      <td>...</td>\n      <td>...</td>\n      <td>...</td>\n      <td>...</td>\n      <td>...</td>\n      <td>...</td>\n      <td>...</td>\n      <td>...</td>\n      <td>...</td>\n      <td>...</td>\n      <td>...</td>\n      <td>...</td>\n      <td>...</td>\n      <td>...</td>\n      <td>...</td>\n      <td>...</td>\n      <td>...</td>\n      <td>...</td>\n      <td>...</td>\n      <td>...</td>\n      <td>...</td>\n    </tr>\n    <tr>\n      <th>564</th>\n      <td>21.56</td>\n      <td>22.39</td>\n      <td>142.00</td>\n      <td>1479.0</td>\n      <td>0.11100</td>\n      <td>0.11590</td>\n      <td>0.24390</td>\n      <td>0.13890</td>\n      <td>0.1726</td>\n      <td>0.05623</td>\n      <td>...</td>\n      <td>26.40</td>\n      <td>166.10</td>\n      <td>2027.0</td>\n      <td>0.14100</td>\n      <td>0.21130</td>\n      <td>0.4107</td>\n      <td>0.2216</td>\n      <td>0.2060</td>\n      <td>0.07115</td>\n      <td>0</td>\n    </tr>\n    <tr>\n      <th>565</th>\n      <td>20.13</td>\n      <td>28.25</td>\n      <td>131.20</td>\n      <td>1261.0</td>\n      <td>0.09780</td>\n      <td>0.10340</td>\n      <td>0.14400</td>\n      <td>0.09791</td>\n      <td>0.1752</td>\n      <td>0.05533</td>\n      <td>...</td>\n      <td>38.25</td>\n      <td>155.00</td>\n      <td>1731.0</td>\n      <td>0.11660</td>\n      <td>0.19220</td>\n      <td>0.3215</td>\n      <td>0.1628</td>\n      <td>0.2572</td>\n      <td>0.06637</td>\n      <td>0</td>\n    </tr>\n    <tr>\n      <th>566</th>\n      <td>16.60</td>\n      <td>28.08</td>\n      <td>108.30</td>\n      <td>858.1</td>\n      <td>0.08455</td>\n      <td>0.10230</td>\n      <td>0.09251</td>\n      <td>0.05302</td>\n      <td>0.1590</td>\n      <td>0.05648</td>\n      <td>...</td>\n      <td>34.12</td>\n      <td>126.70</td>\n      <td>1124.0</td>\n      <td>0.11390</td>\n      <td>0.30940</td>\n      <td>0.3403</td>\n      <td>0.1418</td>\n      <td>0.2218</td>\n      <td>0.07820</td>\n      <td>0</td>\n    </tr>\n    <tr>\n      <th>567</th>\n      <td>20.60</td>\n      <td>29.33</td>\n      <td>140.10</td>\n      <td>1265.0</td>\n      <td>0.11780</td>\n      <td>0.27700</td>\n      <td>0.35140</td>\n      <td>0.15200</td>\n      <td>0.2397</td>\n      <td>0.07016</td>\n      <td>...</td>\n      <td>39.42</td>\n      <td>184.60</td>\n      <td>1821.0</td>\n      <td>0.16500</td>\n      <td>0.86810</td>\n      <td>0.9387</td>\n      <td>0.2650</td>\n      <td>0.4087</td>\n      <td>0.12400</td>\n      <td>0</td>\n    </tr>\n    <tr>\n      <th>568</th>\n      <td>7.76</td>\n      <td>24.54</td>\n      <td>47.92</td>\n      <td>181.0</td>\n      <td>0.05263</td>\n      <td>0.04362</td>\n      <td>0.00000</td>\n      <td>0.00000</td>\n      <td>0.1587</td>\n      <td>0.05884</td>\n      <td>...</td>\n      <td>30.37</td>\n      <td>59.16</td>\n      <td>268.6</td>\n      <td>0.08996</td>\n      <td>0.06444</td>\n      <td>0.0000</td>\n      <td>0.0000</td>\n      <td>0.2871</td>\n      <td>0.07039</td>\n      <td>1</td>\n    </tr>\n  </tbody>\n</table>\n<p>569 rows × 31 columns</p>\n</div>"
     },
     "execution_count": 5,
     "metadata": {},
     "output_type": "execute_result"
    }
   ],
   "source": [
    "print(cancer.target_names)\n",
    "cancer_frm = pd.DataFrame(data    = cancer.data ,\n",
    "                          columns = cancer.feature_names)\n",
    "cancer_frm['target'] = cancer.target\n",
    "cancer_frm"
   ],
   "metadata": {
    "collapsed": false,
    "pycharm": {
     "name": "#%%\n"
    }
   }
  },
  {
   "cell_type": "code",
   "execution_count": 6,
   "outputs": [
    {
     "name": "stdout",
     "output_type": "stream",
     "text": [
      "['malignant' 'benign']\n",
      "1    357\n",
      "0    212\n",
      "Name: target, dtype: int64\n"
     ]
    }
   ],
   "source": [
    "print( cancer.target_names )\n",
    "print( cancer_frm['target'].value_counts() )"
   ],
   "metadata": {
    "collapsed": false,
    "pycharm": {
     "name": "#%%\n"
    }
   }
  },
  {
   "cell_type": "code",
   "execution_count": 7,
   "outputs": [
    {
     "name": "stdout",
     "output_type": "stream",
     "text": [
      "01. model -\n"
     ]
    },
    {
     "data": {
      "text/plain": "{'objective': 'binary:logistic',\n 'use_label_encoder': True,\n 'base_score': None,\n 'booster': None,\n 'colsample_bylevel': None,\n 'colsample_bynode': None,\n 'colsample_bytree': None,\n 'enable_categorical': False,\n 'gamma': None,\n 'gpu_id': None,\n 'importance_type': None,\n 'interaction_constraints': None,\n 'learning_rate': 0.1,\n 'max_delta_step': None,\n 'max_depth': 3,\n 'min_child_weight': None,\n 'missing': nan,\n 'monotone_constraints': None,\n 'n_estimators': 400,\n 'n_jobs': None,\n 'num_parallel_tree': None,\n 'predictor': None,\n 'random_state': None,\n 'reg_alpha': None,\n 'reg_lambda': None,\n 'scale_pos_weight': None,\n 'subsample': None,\n 'tree_method': None,\n 'validate_parameters': None,\n 'verbosity': None}"
     },
     "execution_count": 7,
     "metadata": {},
     "output_type": "execute_result"
    }
   ],
   "source": [
    "print('01. model -')\n",
    "xgboost_model = XGBClassifier(n_estimators= 400,\n",
    "                              learning_rate = 0.1,\n",
    "                              max_depth = 3)\n",
    "xgboost_model.get_params()"
   ],
   "metadata": {
    "collapsed": false,
    "pycharm": {
     "name": "#%%\n"
    }
   }
  },
  {
   "cell_type": "code",
   "execution_count": 8,
   "outputs": [
    {
     "data": {
      "text/plain": "((455, 30), (114, 30), (455,), (114,))"
     },
     "execution_count": 8,
     "metadata": {},
     "output_type": "execute_result"
    }
   ],
   "source": [
    "X_train , X_test , y_train , y_test = train_test_split(cancer.data ,\n",
    "                                                       cancer.target ,\n",
    "                                                       test_size = 0.2 ,\n",
    "                                                       random_state = 100)\n",
    "X_train.shape , X_test.shape , y_train.shape , y_test.shape"
   ],
   "metadata": {
    "collapsed": false,
    "pycharm": {
     "name": "#%%\n"
    }
   }
  },
  {
   "cell_type": "code",
   "execution_count": 9,
   "outputs": [
    {
     "name": "stdout",
     "output_type": "stream",
     "text": [
      "[22:05:34] WARNING: /Users/runner/miniforge3/conda-bld/xgboost-split_1645117948562/work/src/learner.cc:1115: Starting in XGBoost 1.3.0, the default evaluation metric used with the objective 'binary:logistic' was changed from 'error' to 'logloss'. Explicitly set eval_metric if you'd like to restore the old behavior.\n",
      "confusion matrix \n",
      " [[46  3]\n",
      " [ 1 64]]\n",
      "****************************************************************************************************\n",
      "accuracy \n",
      " 0.9649122807017544\n",
      "****************************************************************************************************\n",
      "recall \n",
      " 0.9846153846153847\n",
      "****************************************************************************************************\n",
      "precision \n",
      " 0.9552238805970149\n",
      "****************************************************************************************************\n",
      "f1 score \n",
      " 0.9696969696969696\n"
     ]
    }
   ],
   "source": [
    "xgboost_model.fit(X_train , y_train)\n",
    "y_pred = xgboost_model.predict(X_test)\n",
    "metrics_evaluation(y_test , y_pred)"
   ],
   "metadata": {
    "collapsed": false,
    "pycharm": {
     "name": "#%%\n"
    }
   }
  },
  {
   "cell_type": "code",
   "execution_count": 10,
   "outputs": [
    {
     "name": "stdout",
     "output_type": "stream",
     "text": [
      "튜닝 - early stopping\n"
     ]
    }
   ],
   "source": [
    "print('튜닝 - early stopping')\n",
    "tuning_xgboost_model = XGBClassifier(n_estimators  = 400 ,\n",
    "                              learning_rate = 0.1 ,\n",
    "                              max_depth     = 3)\n"
   ],
   "metadata": {
    "collapsed": false,
    "pycharm": {
     "name": "#%%\n"
    }
   }
  },
  {
   "cell_type": "code",
   "execution_count": 11,
   "outputs": [
    {
     "name": "stdout",
     "output_type": "stream",
     "text": [
      "[0]\tvalidation_0-logloss:0.61460\n",
      "[1]\tvalidation_0-logloss:0.55405\n",
      "[2]\tvalidation_0-logloss:0.49816\n",
      "[3]\tvalidation_0-logloss:0.44858\n",
      "[4]\tvalidation_0-logloss:0.40558\n",
      "[5]\tvalidation_0-logloss:0.37227\n",
      "[6]\tvalidation_0-logloss:0.34175\n",
      "[7]\tvalidation_0-logloss:0.31699\n",
      "[8]\tvalidation_0-logloss:0.29199\n",
      "[9]\tvalidation_0-logloss:0.27386\n",
      "[10]\tvalidation_0-logloss:0.25490\n",
      "[11]\tvalidation_0-logloss:0.23818\n",
      "[12]\tvalidation_0-logloss:0.22577\n",
      "[13]\tvalidation_0-logloss:0.21225\n",
      "[14]\tvalidation_0-logloss:0.20156\n",
      "[15]\tvalidation_0-logloss:0.19251\n",
      "[16]\tvalidation_0-logloss:0.18292\n",
      "[17]\tvalidation_0-logloss:0.17663\n",
      "[18]\tvalidation_0-logloss:0.17008\n",
      "[19]\tvalidation_0-logloss:0.16260\n",
      "[20]\tvalidation_0-logloss:0.15747\n",
      "[21]\tvalidation_0-logloss:0.15208\n",
      "[22]\tvalidation_0-logloss:0.14877\n",
      "[23]\tvalidation_0-logloss:0.14609\n",
      "[24]\tvalidation_0-logloss:0.14465\n",
      "[25]\tvalidation_0-logloss:0.14215\n",
      "[26]\tvalidation_0-logloss:0.13825\n",
      "[27]\tvalidation_0-logloss:0.13535\n",
      "[28]\tvalidation_0-logloss:0.13244\n",
      "[29]\tvalidation_0-logloss:0.12968\n",
      "[30]\tvalidation_0-logloss:0.12679\n",
      "[31]\tvalidation_0-logloss:0.12401\n",
      "[32]\tvalidation_0-logloss:0.12214\n",
      "[33]\tvalidation_0-logloss:0.12005\n",
      "[34]\tvalidation_0-logloss:0.11779\n",
      "[35]\tvalidation_0-logloss:0.11656\n",
      "[36]\tvalidation_0-logloss:0.11471\n",
      "[37]\tvalidation_0-logloss:0.11389\n",
      "[38]\tvalidation_0-logloss:0.11172\n",
      "[39]\tvalidation_0-logloss:0.11053\n",
      "[40]\tvalidation_0-logloss:0.11114\n",
      "[41]\tvalidation_0-logloss:0.10920\n",
      "[42]\tvalidation_0-logloss:0.10794\n",
      "[43]\tvalidation_0-logloss:0.10702\n",
      "[44]\tvalidation_0-logloss:0.10687\n",
      "[45]\tvalidation_0-logloss:0.10608\n",
      "[46]\tvalidation_0-logloss:0.10560\n",
      "[47]\tvalidation_0-logloss:0.10464\n",
      "[48]\tvalidation_0-logloss:0.10365\n",
      "[49]\tvalidation_0-logloss:0.10238\n",
      "[50]\tvalidation_0-logloss:0.10204\n",
      "[51]\tvalidation_0-logloss:0.10219\n",
      "[52]\tvalidation_0-logloss:0.10197\n",
      "[53]\tvalidation_0-logloss:0.10181\n",
      "[54]\tvalidation_0-logloss:0.10217\n",
      "[55]\tvalidation_0-logloss:0.10247\n",
      "[56]\tvalidation_0-logloss:0.10318\n",
      "[57]\tvalidation_0-logloss:0.10299\n",
      "[58]\tvalidation_0-logloss:0.10262\n",
      "[59]\tvalidation_0-logloss:0.10185\n",
      "[60]\tvalidation_0-logloss:0.10282\n",
      "[61]\tvalidation_0-logloss:0.10275\n",
      "[62]\tvalidation_0-logloss:0.10257\n",
      "[63]\tvalidation_0-logloss:0.10064\n",
      "[64]\tvalidation_0-logloss:0.10056\n",
      "[65]\tvalidation_0-logloss:0.10009\n",
      "[66]\tvalidation_0-logloss:0.09982\n",
      "[67]\tvalidation_0-logloss:0.10019\n",
      "[68]\tvalidation_0-logloss:0.10049\n",
      "[69]\tvalidation_0-logloss:0.10038\n",
      "[70]\tvalidation_0-logloss:0.10040\n",
      "[71]\tvalidation_0-logloss:0.10030\n",
      "[72]\tvalidation_0-logloss:0.09921\n",
      "[73]\tvalidation_0-logloss:0.09942\n",
      "[74]\tvalidation_0-logloss:0.09906\n",
      "[75]\tvalidation_0-logloss:0.09898\n",
      "[76]\tvalidation_0-logloss:0.09933\n",
      "[77]\tvalidation_0-logloss:0.09966\n",
      "[78]\tvalidation_0-logloss:0.09982\n",
      "[79]\tvalidation_0-logloss:0.09954\n",
      "[80]\tvalidation_0-logloss:0.09848\n",
      "[81]\tvalidation_0-logloss:0.09806\n",
      "[82]\tvalidation_0-logloss:0.09775\n",
      "[83]\tvalidation_0-logloss:0.09729\n",
      "[84]\tvalidation_0-logloss:0.09673\n",
      "[85]\tvalidation_0-logloss:0.09730\n",
      "[86]\tvalidation_0-logloss:0.09714\n",
      "[87]\tvalidation_0-logloss:0.09745\n",
      "[88]\tvalidation_0-logloss:0.09745\n",
      "[89]\tvalidation_0-logloss:0.09649\n",
      "[90]\tvalidation_0-logloss:0.09645\n",
      "[91]\tvalidation_0-logloss:0.09588\n",
      "[92]\tvalidation_0-logloss:0.09538\n",
      "[93]\tvalidation_0-logloss:0.09512\n",
      "[94]\tvalidation_0-logloss:0.09500\n",
      "[95]\tvalidation_0-logloss:0.09524\n",
      "[96]\tvalidation_0-logloss:0.09527\n",
      "[97]\tvalidation_0-logloss:0.09480\n",
      "[98]\tvalidation_0-logloss:0.09431\n",
      "[99]\tvalidation_0-logloss:0.09460\n",
      "[100]\tvalidation_0-logloss:0.09426\n",
      "[101]\tvalidation_0-logloss:0.09370\n",
      "[102]\tvalidation_0-logloss:0.09349\n",
      "[103]\tvalidation_0-logloss:0.09403\n",
      "[104]\tvalidation_0-logloss:0.09385\n",
      "[105]\tvalidation_0-logloss:0.09407\n",
      "[106]\tvalidation_0-logloss:0.09429\n",
      "[107]\tvalidation_0-logloss:0.09398\n",
      "[108]\tvalidation_0-logloss:0.09356\n",
      "[109]\tvalidation_0-logloss:0.09303\n",
      "[110]\tvalidation_0-logloss:0.09329\n",
      "[111]\tvalidation_0-logloss:0.09320\n",
      "[112]\tvalidation_0-logloss:0.09342\n",
      "[113]\tvalidation_0-logloss:0.09391\n",
      "[114]\tvalidation_0-logloss:0.09350\n",
      "[115]\tvalidation_0-logloss:0.09320\n",
      "[116]\tvalidation_0-logloss:0.09342\n",
      "[117]\tvalidation_0-logloss:0.09325\n",
      "[118]\tvalidation_0-logloss:0.09390\n",
      "[119]\tvalidation_0-logloss:0.09376\n",
      "[120]\tvalidation_0-logloss:0.09401\n",
      "[121]\tvalidation_0-logloss:0.09384\n",
      "[122]\tvalidation_0-logloss:0.09336\n",
      "[123]\tvalidation_0-logloss:0.09297\n",
      "[124]\tvalidation_0-logloss:0.09262\n",
      "[125]\tvalidation_0-logloss:0.09283\n",
      "[126]\tvalidation_0-logloss:0.09308\n",
      "[127]\tvalidation_0-logloss:0.09290\n",
      "[128]\tvalidation_0-logloss:0.09283\n",
      "[129]\tvalidation_0-logloss:0.09346\n",
      "[130]\tvalidation_0-logloss:0.09308\n",
      "[131]\tvalidation_0-logloss:0.09278\n",
      "[132]\tvalidation_0-logloss:0.09299\n",
      "[133]\tvalidation_0-logloss:0.09323\n",
      "[134]\tvalidation_0-logloss:0.09312\n",
      "[135]\tvalidation_0-logloss:0.09357\n",
      "[136]\tvalidation_0-logloss:0.09321\n",
      "[137]\tvalidation_0-logloss:0.09294\n",
      "[138]\tvalidation_0-logloss:0.09264\n",
      "[139]\tvalidation_0-logloss:0.09285\n",
      "[140]\tvalidation_0-logloss:0.09271\n",
      "[141]\tvalidation_0-logloss:0.09332\n",
      "[142]\tvalidation_0-logloss:0.09297\n",
      "[143]\tvalidation_0-logloss:0.09321\n",
      "[144]\tvalidation_0-logloss:0.09277\n",
      "[145]\tvalidation_0-logloss:0.09249\n",
      "[146]\tvalidation_0-logloss:0.09278\n",
      "[147]\tvalidation_0-logloss:0.09251\n",
      "[148]\tvalidation_0-logloss:0.09273\n",
      "[149]\tvalidation_0-logloss:0.09290\n",
      "[150]\tvalidation_0-logloss:0.09293\n",
      "[151]\tvalidation_0-logloss:0.09281\n",
      "[152]\tvalidation_0-logloss:0.09296\n",
      "[153]\tvalidation_0-logloss:0.09324\n",
      "[154]\tvalidation_0-logloss:0.09316\n",
      "[155]\tvalidation_0-logloss:0.09291\n",
      "[156]\tvalidation_0-logloss:0.09311\n",
      "[157]\tvalidation_0-logloss:0.09277\n",
      "[158]\tvalidation_0-logloss:0.09271\n",
      "[159]\tvalidation_0-logloss:0.09329\n",
      "[160]\tvalidation_0-logloss:0.09302\n",
      "[161]\tvalidation_0-logloss:0.09295\n",
      "[162]\tvalidation_0-logloss:0.09272\n",
      "[163]\tvalidation_0-logloss:0.09294\n",
      "[164]\tvalidation_0-logloss:0.09352\n",
      "[165]\tvalidation_0-logloss:0.09340\n",
      "[166]\tvalidation_0-logloss:0.09317\n",
      "[167]\tvalidation_0-logloss:0.09321\n",
      "[168]\tvalidation_0-logloss:0.09306\n",
      "[169]\tvalidation_0-logloss:0.09332\n",
      "[170]\tvalidation_0-logloss:0.09348\n",
      "[171]\tvalidation_0-logloss:0.09327\n",
      "[172]\tvalidation_0-logloss:0.09313\n",
      "[173]\tvalidation_0-logloss:0.09332\n",
      "[174]\tvalidation_0-logloss:0.09321\n",
      "[175]\tvalidation_0-logloss:0.09337\n",
      "[176]\tvalidation_0-logloss:0.09331\n",
      "[177]\tvalidation_0-logloss:0.09352\n",
      "[178]\tvalidation_0-logloss:0.09332\n",
      "[179]\tvalidation_0-logloss:0.09318\n",
      "[180]\tvalidation_0-logloss:0.09338\n",
      "[181]\tvalidation_0-logloss:0.09328\n",
      "[182]\tvalidation_0-logloss:0.09312\n",
      "[183]\tvalidation_0-logloss:0.09327\n",
      "[184]\tvalidation_0-logloss:0.09356\n",
      "[185]\tvalidation_0-logloss:0.09336\n",
      "[186]\tvalidation_0-logloss:0.09322\n",
      "[187]\tvalidation_0-logloss:0.09343\n",
      "[188]\tvalidation_0-logloss:0.09358\n",
      "[189]\tvalidation_0-logloss:0.09342\n",
      "[190]\tvalidation_0-logloss:0.09322\n",
      "[191]\tvalidation_0-logloss:0.09344\n",
      "[192]\tvalidation_0-logloss:0.09334\n",
      "[193]\tvalidation_0-logloss:0.09348\n",
      "[194]\tvalidation_0-logloss:0.09332\n",
      "[195]\tvalidation_0-logloss:0.09313\n",
      "[196]\tvalidation_0-logloss:0.09307\n",
      "[197]\tvalidation_0-logloss:0.09327\n",
      "[198]\tvalidation_0-logloss:0.09313\n",
      "[199]\tvalidation_0-logloss:0.09329\n",
      "[200]\tvalidation_0-logloss:0.09356\n",
      "[201]\tvalidation_0-logloss:0.09338\n",
      "[202]\tvalidation_0-logloss:0.09322\n",
      "[203]\tvalidation_0-logloss:0.09335\n",
      "[204]\tvalidation_0-logloss:0.09325\n",
      "[205]\tvalidation_0-logloss:0.09312\n",
      "[206]\tvalidation_0-logloss:0.09311\n",
      "[207]\tvalidation_0-logloss:0.09339\n",
      "[208]\tvalidation_0-logloss:0.09321\n",
      "[209]\tvalidation_0-logloss:0.09305\n",
      "[210]\tvalidation_0-logloss:0.09320\n",
      "[211]\tvalidation_0-logloss:0.09310\n",
      "[212]\tvalidation_0-logloss:0.09337\n",
      "[213]\tvalidation_0-logloss:0.09351\n",
      "[214]\tvalidation_0-logloss:0.09336\n",
      "[215]\tvalidation_0-logloss:0.09318\n",
      "[216]\tvalidation_0-logloss:0.09304\n",
      "[217]\tvalidation_0-logloss:0.09323\n",
      "[218]\tvalidation_0-logloss:0.09336\n",
      "[219]\tvalidation_0-logloss:0.09322\n",
      "[220]\tvalidation_0-logloss:0.09304\n",
      "[221]\tvalidation_0-logloss:0.09330\n",
      "[222]\tvalidation_0-logloss:0.09344\n",
      "[223]\tvalidation_0-logloss:0.09335\n",
      "[224]\tvalidation_0-logloss:0.09321\n",
      "[225]\tvalidation_0-logloss:0.09304\n",
      "[226]\tvalidation_0-logloss:0.09289\n",
      "[227]\tvalidation_0-logloss:0.09303\n",
      "[228]\tvalidation_0-logloss:0.09288\n",
      "[229]\tvalidation_0-logloss:0.09272\n",
      "[230]\tvalidation_0-logloss:0.09286\n",
      "[231]\tvalidation_0-logloss:0.09273\n",
      "[232]\tvalidation_0-logloss:0.09291\n",
      "[233]\tvalidation_0-logloss:0.09317\n",
      "[234]\tvalidation_0-logloss:0.09308\n",
      "[235]\tvalidation_0-logloss:0.09322\n",
      "[236]\tvalidation_0-logloss:0.09308\n",
      "[237]\tvalidation_0-logloss:0.09292\n",
      "[238]\tvalidation_0-logloss:0.09305\n",
      "[239]\tvalidation_0-logloss:0.09291\n",
      "[240]\tvalidation_0-logloss:0.09316\n",
      "[241]\tvalidation_0-logloss:0.09301\n",
      "[242]\tvalidation_0-logloss:0.09287\n",
      "[243]\tvalidation_0-logloss:0.09301\n",
      "[244]\tvalidation_0-logloss:0.09292\n",
      "[245]\tvalidation_0-logloss:0.09292\n"
     ]
    },
    {
     "data": {
      "text/plain": "XGBClassifier(base_score=0.5, booster='gbtree', colsample_bylevel=1,\n              colsample_bynode=1, colsample_bytree=1, enable_categorical=False,\n              gamma=0, gpu_id=-1, importance_type=None,\n              interaction_constraints='', learning_rate=0.1, max_delta_step=0,\n              max_depth=3, min_child_weight=1, missing=nan,\n              monotone_constraints='()', n_estimators=400, n_jobs=4,\n              num_parallel_tree=1, predictor='auto', random_state=0,\n              reg_alpha=0, reg_lambda=1, scale_pos_weight=1, subsample=1,\n              tree_method='exact', validate_parameters=1, verbosity=None)"
     },
     "execution_count": 11,
     "metadata": {},
     "output_type": "execute_result"
    }
   ],
   "source": [
    "tuning_xgboost_model.fit(X_train , y_train ,\n",
    "                         early_stopping_rounds = 100 ,\n",
    "                         eval_metric = 'logloss' ,\n",
    "                         eval_set = [(X_test , y_test)] ,\n",
    "                         verbose = True )\n"
   ],
   "metadata": {
    "collapsed": false,
    "pycharm": {
     "name": "#%%\n"
    }
   }
  },
  {
   "cell_type": "code",
   "execution_count": 12,
   "outputs": [
    {
     "name": "stdout",
     "output_type": "stream",
     "text": [
      "confusion matrix \n",
      " [[47  2]\n",
      " [ 1 64]]\n",
      "****************************************************************************************************\n",
      "accuracy \n",
      " 0.9736842105263158\n",
      "****************************************************************************************************\n",
      "recall \n",
      " 0.9846153846153847\n",
      "****************************************************************************************************\n",
      "precision \n",
      " 0.9696969696969697\n",
      "****************************************************************************************************\n",
      "f1 score \n",
      " 0.9770992366412214\n"
     ]
    }
   ],
   "source": [
    "y_pred = tuning_xgboost_model.predict(X_test)\n",
    "metrics_evaluation(y_test , y_pred)"
   ],
   "metadata": {
    "collapsed": false,
    "pycharm": {
     "name": "#%%\n"
    }
   }
  },
  {
   "cell_type": "code",
   "execution_count": 13,
   "outputs": [
    {
     "name": "stdout",
     "output_type": "stream",
     "text": [
      "피처 중요도 시각화 - \n"
     ]
    },
    {
     "data": {
      "text/plain": "<AxesSubplot:title={'center':'Feature importance'}, xlabel='F score', ylabel='Features'>"
     },
     "execution_count": 13,
     "metadata": {},
     "output_type": "execute_result"
    },
    {
     "data": {
      "text/plain": "<Figure size 720x864 with 1 Axes>",
      "image/png": "[encoded data removed]"
     },
     "metadata": {
      "needs_background": "light"
     },
     "output_type": "display_data"
    }
   ],
   "source": [
    "print('피처 중요도 시각화 - ')\n",
    "\n",
    "fig , ax = plt.subplots( figsize = (10, 12))\n",
    "\n",
    "xgb.plot_importance(tuning_xgboost_model , ax = ax )"
   ],
   "metadata": {
    "collapsed": false,
    "pycharm": {
     "name": "#%%\n"
    }
   }
  },
  {
   "cell_type": "code",
   "execution_count": 14,
   "outputs": [],
   "source": [
    "from lightgbm import LGBMClassifier\n",
    "import lightgbm as light"
   ],
   "metadata": {
    "collapsed": false,
    "pycharm": {
     "name": "#%%\n"
    }
   }
  },
  {
   "cell_type": "code",
   "execution_count": 15,
   "outputs": [
    {
     "data": {
      "text/plain": "{'boosting_type': 'gbdt',\n 'class_weight': None,\n 'colsample_bytree': 1.0,\n 'importance_type': 'split',\n 'learning_rate': 0.1,\n 'max_depth': 3,\n 'min_child_samples': 20,\n 'min_child_weight': 0.001,\n 'min_split_gain': 0.0,\n 'n_estimators': 400,\n 'n_jobs': -1,\n 'num_leaves': 31,\n 'objective': None,\n 'random_state': None,\n 'reg_alpha': 0.0,\n 'reg_lambda': 0.0,\n 'silent': 'warn',\n 'subsample': 1.0,\n 'subsample_for_bin': 200000,\n 'subsample_freq': 0}"
     },
     "execution_count": 15,
     "metadata": {},
     "output_type": "execute_result"
    }
   ],
   "source": [
    "gbm_model =  LGBMClassifier(n_estimators  = 400 ,\n",
    "                            learning_rate = 0.1 ,\n",
    "                            max_depth     = 3)\n",
    "gbm_model.get_params()"
   ],
   "metadata": {
    "collapsed": false,
    "pycharm": {
     "name": "#%%\n"
    }
   }
  },
  {
   "cell_type": "code",
   "execution_count": 16,
   "outputs": [
    {
     "name": "stdout",
     "output_type": "stream",
     "text": [
      "[1]\tvalid_0's binary_logloss: 0.606017\n",
      "[2]\tvalid_0's binary_logloss: 0.543372\n",
      "[3]\tvalid_0's binary_logloss: 0.493337\n",
      "[4]\tvalid_0's binary_logloss: 0.44766\n",
      "[5]\tvalid_0's binary_logloss: 0.411436\n",
      "[6]\tvalid_0's binary_logloss: 0.379522\n",
      "[7]\tvalid_0's binary_logloss: 0.354103\n",
      "[8]\tvalid_0's binary_logloss: 0.327011\n",
      "[9]\tvalid_0's binary_logloss: 0.3033\n",
      "[10]\tvalid_0's binary_logloss: 0.285218\n",
      "[11]\tvalid_0's binary_logloss: 0.26974\n",
      "[12]\tvalid_0's binary_logloss: 0.255245\n",
      "[13]\tvalid_0's binary_logloss: 0.239979\n",
      "[14]\tvalid_0's binary_logloss: 0.229394\n",
      "[15]\tvalid_0's binary_logloss: 0.216446\n",
      "[16]\tvalid_0's binary_logloss: 0.209389\n",
      "[17]\tvalid_0's binary_logloss: 0.200332\n",
      "[18]\tvalid_0's binary_logloss: 0.190267\n",
      "[19]\tvalid_0's binary_logloss: 0.184193\n",
      "[20]\tvalid_0's binary_logloss: 0.175653\n",
      "[21]\tvalid_0's binary_logloss: 0.169701\n",
      "[22]\tvalid_0's binary_logloss: 0.163806\n",
      "[23]\tvalid_0's binary_logloss: 0.156058\n",
      "[24]\tvalid_0's binary_logloss: 0.151248\n",
      "[25]\tvalid_0's binary_logloss: 0.147774\n",
      "[26]\tvalid_0's binary_logloss: 0.141992\n",
      "[27]\tvalid_0's binary_logloss: 0.138372\n",
      "[28]\tvalid_0's binary_logloss: 0.136026\n",
      "[29]\tvalid_0's binary_logloss: 0.130295\n",
      "[30]\tvalid_0's binary_logloss: 0.127366\n",
      "[31]\tvalid_0's binary_logloss: 0.125452\n",
      "[32]\tvalid_0's binary_logloss: 0.123367\n",
      "[33]\tvalid_0's binary_logloss: 0.118796\n",
      "[34]\tvalid_0's binary_logloss: 0.11379\n",
      "[35]\tvalid_0's binary_logloss: 0.114038\n",
      "[36]\tvalid_0's binary_logloss: 0.109775\n",
      "[37]\tvalid_0's binary_logloss: 0.107463\n",
      "[38]\tvalid_0's binary_logloss: 0.107379\n",
      "[39]\tvalid_0's binary_logloss: 0.106837\n",
      "[40]\tvalid_0's binary_logloss: 0.104065\n",
      "[41]\tvalid_0's binary_logloss: 0.104271\n",
      "[42]\tvalid_0's binary_logloss: 0.103079\n",
      "[43]\tvalid_0's binary_logloss: 0.102174\n",
      "[44]\tvalid_0's binary_logloss: 0.100124\n",
      "[45]\tvalid_0's binary_logloss: 0.0953655\n",
      "[46]\tvalid_0's binary_logloss: 0.0944706\n",
      "[47]\tvalid_0's binary_logloss: 0.0944166\n",
      "[48]\tvalid_0's binary_logloss: 0.0932938\n",
      "[49]\tvalid_0's binary_logloss: 0.0920978\n",
      "[50]\tvalid_0's binary_logloss: 0.0916807\n",
      "[51]\tvalid_0's binary_logloss: 0.0900057\n",
      "[52]\tvalid_0's binary_logloss: 0.0893301\n",
      "[53]\tvalid_0's binary_logloss: 0.0876388\n",
      "[54]\tvalid_0's binary_logloss: 0.0856145\n",
      "[55]\tvalid_0's binary_logloss: 0.0849871\n",
      "[56]\tvalid_0's binary_logloss: 0.0839444\n",
      "[57]\tvalid_0's binary_logloss: 0.0837184\n",
      "[58]\tvalid_0's binary_logloss: 0.0837947\n",
      "[59]\tvalid_0's binary_logloss: 0.0834798\n",
      "[60]\tvalid_0's binary_logloss: 0.0830834\n",
      "[61]\tvalid_0's binary_logloss: 0.0835263\n",
      "[62]\tvalid_0's binary_logloss: 0.0830733\n",
      "[63]\tvalid_0's binary_logloss: 0.0817196\n",
      "[64]\tvalid_0's binary_logloss: 0.0825496\n",
      "[65]\tvalid_0's binary_logloss: 0.0828485\n",
      "[66]\tvalid_0's binary_logloss: 0.0818034\n",
      "[67]\tvalid_0's binary_logloss: 0.0813569\n",
      "[68]\tvalid_0's binary_logloss: 0.0813266\n",
      "[69]\tvalid_0's binary_logloss: 0.0818626\n",
      "[70]\tvalid_0's binary_logloss: 0.0809302\n",
      "[71]\tvalid_0's binary_logloss: 0.0807277\n",
      "[72]\tvalid_0's binary_logloss: 0.0811298\n",
      "[73]\tvalid_0's binary_logloss: 0.0805624\n",
      "[74]\tvalid_0's binary_logloss: 0.0804086\n",
      "[75]\tvalid_0's binary_logloss: 0.0806096\n",
      "[76]\tvalid_0's binary_logloss: 0.0808933\n",
      "[77]\tvalid_0's binary_logloss: 0.0803321\n",
      "[78]\tvalid_0's binary_logloss: 0.0804271\n",
      "[79]\tvalid_0's binary_logloss: 0.079445\n",
      "[80]\tvalid_0's binary_logloss: 0.0808713\n",
      "[81]\tvalid_0's binary_logloss: 0.0803122\n",
      "[82]\tvalid_0's binary_logloss: 0.0824342\n",
      "[83]\tvalid_0's binary_logloss: 0.0833169\n",
      "[84]\tvalid_0's binary_logloss: 0.0829307\n",
      "[85]\tvalid_0's binary_logloss: 0.085152\n",
      "[86]\tvalid_0's binary_logloss: 0.0863524\n",
      "[87]\tvalid_0's binary_logloss: 0.0866533\n",
      "[88]\tvalid_0's binary_logloss: 0.0852336\n",
      "[89]\tvalid_0's binary_logloss: 0.0855742\n",
      "[90]\tvalid_0's binary_logloss: 0.0855295\n",
      "[91]\tvalid_0's binary_logloss: 0.0861286\n",
      "[92]\tvalid_0's binary_logloss: 0.0860557\n",
      "[93]\tvalid_0's binary_logloss: 0.0858643\n",
      "[94]\tvalid_0's binary_logloss: 0.0854969\n",
      "[95]\tvalid_0's binary_logloss: 0.0862293\n",
      "[96]\tvalid_0's binary_logloss: 0.0872988\n",
      "[97]\tvalid_0's binary_logloss: 0.0874778\n",
      "[98]\tvalid_0's binary_logloss: 0.0875097\n",
      "[99]\tvalid_0's binary_logloss: 0.0881757\n",
      "[100]\tvalid_0's binary_logloss: 0.0872188\n",
      "[101]\tvalid_0's binary_logloss: 0.0896009\n",
      "[102]\tvalid_0's binary_logloss: 0.0888725\n",
      "[103]\tvalid_0's binary_logloss: 0.0884555\n",
      "[104]\tvalid_0's binary_logloss: 0.0901184\n",
      "[105]\tvalid_0's binary_logloss: 0.0892601\n",
      "[106]\tvalid_0's binary_logloss: 0.0916987\n",
      "[107]\tvalid_0's binary_logloss: 0.0911327\n",
      "[108]\tvalid_0's binary_logloss: 0.0904412\n",
      "[109]\tvalid_0's binary_logloss: 0.0905467\n",
      "[110]\tvalid_0's binary_logloss: 0.0903738\n",
      "[111]\tvalid_0's binary_logloss: 0.0899798\n",
      "[112]\tvalid_0's binary_logloss: 0.0906524\n",
      "[113]\tvalid_0's binary_logloss: 0.0890779\n",
      "[114]\tvalid_0's binary_logloss: 0.0884093\n",
      "[115]\tvalid_0's binary_logloss: 0.0890805\n",
      "[116]\tvalid_0's binary_logloss: 0.0882295\n",
      "[117]\tvalid_0's binary_logloss: 0.0888485\n",
      "[118]\tvalid_0's binary_logloss: 0.0885464\n",
      "[119]\tvalid_0's binary_logloss: 0.0880325\n",
      "[120]\tvalid_0's binary_logloss: 0.0893698\n",
      "[121]\tvalid_0's binary_logloss: 0.0893743\n",
      "[122]\tvalid_0's binary_logloss: 0.0897185\n",
      "[123]\tvalid_0's binary_logloss: 0.090269\n",
      "[124]\tvalid_0's binary_logloss: 0.0909908\n",
      "[125]\tvalid_0's binary_logloss: 0.089994\n",
      "[126]\tvalid_0's binary_logloss: 0.0895444\n",
      "[127]\tvalid_0's binary_logloss: 0.0909706\n",
      "[128]\tvalid_0's binary_logloss: 0.0907674\n",
      "[129]\tvalid_0's binary_logloss: 0.091241\n",
      "[130]\tvalid_0's binary_logloss: 0.0908274\n",
      "[131]\tvalid_0's binary_logloss: 0.0898812\n",
      "[132]\tvalid_0's binary_logloss: 0.0904589\n",
      "[133]\tvalid_0's binary_logloss: 0.090608\n",
      "[134]\tvalid_0's binary_logloss: 0.0908046\n",
      "[135]\tvalid_0's binary_logloss: 0.0907783\n",
      "[136]\tvalid_0's binary_logloss: 0.0915826\n",
      "[137]\tvalid_0's binary_logloss: 0.0929334\n",
      "[138]\tvalid_0's binary_logloss: 0.0935069\n",
      "[139]\tvalid_0's binary_logloss: 0.0933727\n",
      "[140]\tvalid_0's binary_logloss: 0.0932391\n",
      "[141]\tvalid_0's binary_logloss: 0.0930269\n",
      "[142]\tvalid_0's binary_logloss: 0.0942252\n",
      "[143]\tvalid_0's binary_logloss: 0.0949612\n",
      "[144]\tvalid_0's binary_logloss: 0.0955001\n",
      "[145]\tvalid_0's binary_logloss: 0.0953762\n",
      "[146]\tvalid_0's binary_logloss: 0.0946761\n",
      "[147]\tvalid_0's binary_logloss: 0.0962618\n",
      "[148]\tvalid_0's binary_logloss: 0.0964522\n",
      "[149]\tvalid_0's binary_logloss: 0.0950125\n",
      "[150]\tvalid_0's binary_logloss: 0.0955633\n",
      "[151]\tvalid_0's binary_logloss: 0.0961243\n",
      "[152]\tvalid_0's binary_logloss: 0.0977147\n",
      "[153]\tvalid_0's binary_logloss: 0.0971233\n",
      "[154]\tvalid_0's binary_logloss: 0.0987272\n",
      "[155]\tvalid_0's binary_logloss: 0.0990189\n",
      "[156]\tvalid_0's binary_logloss: 0.0982672\n",
      "[157]\tvalid_0's binary_logloss: 0.0993618\n",
      "[158]\tvalid_0's binary_logloss: 0.0990831\n",
      "[159]\tvalid_0's binary_logloss: 0.100683\n",
      "[160]\tvalid_0's binary_logloss: 0.100836\n",
      "[161]\tvalid_0's binary_logloss: 0.100074\n",
      "[162]\tvalid_0's binary_logloss: 0.100529\n",
      "[163]\tvalid_0's binary_logloss: 0.101116\n",
      "[164]\tvalid_0's binary_logloss: 0.10031\n",
      "[165]\tvalid_0's binary_logloss: 0.102736\n",
      "[166]\tvalid_0's binary_logloss: 0.102391\n",
      "[167]\tvalid_0's binary_logloss: 0.103233\n",
      "[168]\tvalid_0's binary_logloss: 0.104039\n",
      "[169]\tvalid_0's binary_logloss: 0.104648\n",
      "[170]\tvalid_0's binary_logloss: 0.107138\n",
      "[171]\tvalid_0's binary_logloss: 0.106513\n",
      "[172]\tvalid_0's binary_logloss: 0.106726\n",
      "[173]\tvalid_0's binary_logloss: 0.107402\n",
      "[174]\tvalid_0's binary_logloss: 0.106578\n",
      "[175]\tvalid_0's binary_logloss: 0.107237\n",
      "[176]\tvalid_0's binary_logloss: 0.106956\n",
      "[177]\tvalid_0's binary_logloss: 0.107977\n",
      "[178]\tvalid_0's binary_logloss: 0.108465\n",
      "[179]\tvalid_0's binary_logloss: 0.110066\n"
     ]
    },
    {
     "data": {
      "text/plain": "LGBMClassifier(max_depth=3, n_estimators=400)"
     },
     "execution_count": 16,
     "metadata": {},
     "output_type": "execute_result"
    }
   ],
   "source": [
    "gbm_model.fit(X_train , y_train ,\n",
    "                         early_stopping_rounds = 100 ,\n",
    "                         eval_metric = 'logloss' ,\n",
    "                         eval_set = [(X_test , y_test)] ,\n",
    "                         verbose = True )"
   ],
   "metadata": {
    "collapsed": false,
    "pycharm": {
     "name": "#%%\n"
    }
   }
  },
  {
   "cell_type": "code",
   "execution_count": null,
   "outputs": [],
   "source": [],
   "metadata": {
    "collapsed": false,
    "pycharm": {
     "name": "#%%\n"
    }
   }
  },
  {
   "cell_type": "code",
   "execution_count": 1,
   "outputs": [
    {
     "ename": "NameError",
     "evalue": "name 'gbm_model' is not defined",
     "output_type": "error",
     "traceback": [
      "\u001B[0;31m---------------------------------------------------------------------------\u001B[0m",
      "\u001B[0;31mNameError\u001B[0m                                 Traceback (most recent call last)",
      "\u001B[0;32m/var/folders/qr/6jsz3w4516vdwmpnz67ktft00000gn/T/ipykernel_15071/1451956571.py\u001B[0m in \u001B[0;36m<module>\u001B[0;34m\u001B[0m\n\u001B[0;32m----> 1\u001B[0;31m \u001B[0my_pred\u001B[0m \u001B[0;34m=\u001B[0m \u001B[0mgbm_model\u001B[0m\u001B[0;34m.\u001B[0m\u001B[0mpredict\u001B[0m\u001B[0;34m(\u001B[0m\u001B[0mX_test\u001B[0m\u001B[0;34m)\u001B[0m\u001B[0;34m\u001B[0m\u001B[0;34m\u001B[0m\u001B[0m\n\u001B[0m\u001B[1;32m      2\u001B[0m \u001B[0mmetrics_evaluation\u001B[0m\u001B[0;34m(\u001B[0m\u001B[0my_test\u001B[0m\u001B[0;34m,\u001B[0m \u001B[0my_pred\u001B[0m\u001B[0;34m)\u001B[0m\u001B[0;34m\u001B[0m\u001B[0;34m\u001B[0m\u001B[0m\n",
      "\u001B[0;31mNameError\u001B[0m: name 'gbm_model' is not defined"
     ]
    }
   ],
   "source": [
    "y_pred = gbm_model.predict(X_test)\n",
    "metrics_evaluation(y_test, y_pred)"
   ],
   "metadata": {
    "collapsed": false,
    "pycharm": {
     "name": "#%%\n"
    }
   }
  },
  {
   "cell_type": "code",
   "execution_count": 2,
   "outputs": [
    {
     "name": "stdout",
     "output_type": "stream",
     "text": [
      "예측 확률값을 반환하고 예측값을 변환\n"
     ]
    },
    {
     "ename": "NameError",
     "evalue": "name 'gbm_model' is not defined",
     "output_type": "error",
     "traceback": [
      "\u001B[0;31m---------------------------------------------------------------------------\u001B[0m",
      "\u001B[0;31mNameError\u001B[0m                                 Traceback (most recent call last)",
      "\u001B[0;32m/var/folders/qr/6jsz3w4516vdwmpnz67ktft00000gn/T/ipykernel_15071/2393955357.py\u001B[0m in \u001B[0;36m<module>\u001B[0;34m\u001B[0m\n\u001B[1;32m      1\u001B[0m \u001B[0mprint\u001B[0m\u001B[0;34m(\u001B[0m\u001B[0;34m'예측 확률값을 반환하고 예측값을 변환'\u001B[0m\u001B[0;34m)\u001B[0m\u001B[0;34m\u001B[0m\u001B[0;34m\u001B[0m\u001B[0m\n\u001B[1;32m      2\u001B[0m \u001B[0;34m\u001B[0m\u001B[0m\n\u001B[0;32m----> 3\u001B[0;31m \u001B[0my_pred_proba\u001B[0m \u001B[0;34m=\u001B[0m \u001B[0mgbm_model\u001B[0m\u001B[0;34m.\u001B[0m\u001B[0mpredict_proba\u001B[0m\u001B[0;34m(\u001B[0m\u001B[0mX_test\u001B[0m\u001B[0;34m)\u001B[0m\u001B[0;34m[\u001B[0m \u001B[0;34m:\u001B[0m \u001B[0;34m,\u001B[0m \u001B[0;36m1\u001B[0m\u001B[0;34m]\u001B[0m\u001B[0;34m\u001B[0m\u001B[0;34m\u001B[0m\u001B[0m\n\u001B[0m\u001B[1;32m      4\u001B[0m \u001B[0my_pred_proba\u001B[0m\u001B[0;34m\u001B[0m\u001B[0;34m\u001B[0m\u001B[0m\n",
      "\u001B[0;31mNameError\u001B[0m: name 'gbm_model' is not defined"
     ]
    }
   ],
   "source": [
    "print('예측 확률값을 반환하고 예측값을 변환')\n",
    "\n",
    "y_pred_proba = gbm_model.predict_proba(X_test)[ : , 1]\n",
    "y_pred_proba"
   ],
   "metadata": {
    "collapsed": false,
    "pycharm": {
     "name": "#%%\n"
    }
   }
  },
  {
   "cell_type": "code",
   "execution_count": 3,
   "outputs": [
    {
     "ename": "NameError",
     "evalue": "name 'roc_auc_score' is not defined",
     "output_type": "error",
     "traceback": [
      "\u001B[0;31m---------------------------------------------------------------------------\u001B[0m",
      "\u001B[0;31mNameError\u001B[0m                                 Traceback (most recent call last)",
      "\u001B[0;32m/var/folders/qr/6jsz3w4516vdwmpnz67ktft00000gn/T/ipykernel_15071/2262232771.py\u001B[0m in \u001B[0;36m<module>\u001B[0;34m\u001B[0m\n\u001B[0;32m----> 1\u001B[0;31m \u001B[0mprint\u001B[0m\u001B[0;34m(\u001B[0m\u001B[0;34m'AUC -'\u001B[0m\u001B[0;34m,\u001B[0m \u001B[0mroc_auc_score\u001B[0m\u001B[0;34m(\u001B[0m\u001B[0my_test\u001B[0m\u001B[0;34m,\u001B[0m \u001B[0my_pred_proba\u001B[0m\u001B[0;34m)\u001B[0m\u001B[0;34m)\u001B[0m\u001B[0;34m\u001B[0m\u001B[0;34m\u001B[0m\u001B[0m\n\u001B[0m",
      "\u001B[0;31mNameError\u001B[0m: name 'roc_auc_score' is not defined"
     ]
    }
   ],
   "source": [
    "print('AUC -', roc_auc_score(y_test, y_pred_proba))"
   ],
   "metadata": {
    "collapsed": false,
    "pycharm": {
     "name": "#%%\n"
    }
   }
  },
  {
   "cell_type": "code",
   "execution_count": 4,
   "outputs": [
    {
     "name": "stdout",
     "output_type": "stream",
     "text": [
      "피쳐중요도도 시각화 - \n"
     ]
    },
    {
     "ename": "NameError",
     "evalue": "name 'plt' is not defined",
     "output_type": "error",
     "traceback": [
      "\u001B[0;31m---------------------------------------------------------------------------\u001B[0m",
      "\u001B[0;31mNameError\u001B[0m                                 Traceback (most recent call last)",
      "\u001B[0;32m/var/folders/qr/6jsz3w4516vdwmpnz67ktft00000gn/T/ipykernel_15071/2143196609.py\u001B[0m in \u001B[0;36m<module>\u001B[0;34m\u001B[0m\n\u001B[1;32m      1\u001B[0m \u001B[0mprint\u001B[0m\u001B[0;34m(\u001B[0m\u001B[0;34m'피쳐중요도도 시각화 - '\u001B[0m\u001B[0;34m)\u001B[0m\u001B[0;34m\u001B[0m\u001B[0;34m\u001B[0m\u001B[0m\n\u001B[1;32m      2\u001B[0m \u001B[0;34m\u001B[0m\u001B[0m\n\u001B[0;32m----> 3\u001B[0;31m \u001B[0mflg\u001B[0m\u001B[0;34m,\u001B[0m \u001B[0max\u001B[0m \u001B[0;34m=\u001B[0m \u001B[0mplt\u001B[0m\u001B[0;34m.\u001B[0m\u001B[0msubplots\u001B[0m\u001B[0;34m(\u001B[0m\u001B[0mfigsize\u001B[0m \u001B[0;34m=\u001B[0m \u001B[0;34m(\u001B[0m\u001B[0;36m10\u001B[0m\u001B[0;34m,\u001B[0m\u001B[0;36m12\u001B[0m\u001B[0;34m)\u001B[0m\u001B[0;34m)\u001B[0m\u001B[0;34m\u001B[0m\u001B[0;34m\u001B[0m\u001B[0m\n\u001B[0m\u001B[1;32m      4\u001B[0m \u001B[0;34m\u001B[0m\u001B[0m\n\u001B[1;32m      5\u001B[0m \u001B[0mlight\u001B[0m\u001B[0;34m.\u001B[0m\u001B[0mplot_importance\u001B[0m\u001B[0;34m(\u001B[0m\u001B[0mgbm_model\u001B[0m\u001B[0;34m,\u001B[0m \u001B[0max\u001B[0m\u001B[0;34m=\u001B[0m\u001B[0max\u001B[0m\u001B[0;34m)\u001B[0m\u001B[0;34m\u001B[0m\u001B[0;34m\u001B[0m\u001B[0m\n",
      "\u001B[0;31mNameError\u001B[0m: name 'plt' is not defined"
     ]
    }
   ],
   "source": [
    "print('피쳐중요도도 시각화 - ')\n",
    "\n",
    "flg, ax = plt.subplots(figsize = (10,12))\n",
    "\n",
    "light.plot_importance(gbm_model, ax=ax)"
   ],
   "metadata": {
    "collapsed": false,
    "pycharm": {
     "name": "#%%\n"
    }
   }
  },
  {
   "cell_type": "code",
   "execution_count": 5,
   "outputs": [
    {
     "ename": "NameError",
     "evalue": "name 'pd' is not defined",
     "output_type": "error",
     "traceback": [
      "\u001B[0;31m---------------------------------------------------------------------------\u001B[0m",
      "\u001B[0;31mNameError\u001B[0m                                 Traceback (most recent call last)",
      "\u001B[0;32m/var/folders/qr/6jsz3w4516vdwmpnz67ktft00000gn/T/ipykernel_15071/3324017637.py\u001B[0m in \u001B[0;36m<module>\u001B[0;34m\u001B[0m\n\u001B[0;32m----> 1\u001B[0;31m \u001B[0mcard_frm\u001B[0m \u001B[0;34m=\u001B[0m \u001B[0mpd\u001B[0m\u001B[0;34m.\u001B[0m\u001B[0mread_csv\u001B[0m\u001B[0;34m(\u001B[0m\u001B[0;34m'./ml-data/classification-card.csv'\u001B[0m\u001B[0;34m)\u001B[0m\u001B[0;34m\u001B[0m\u001B[0;34m\u001B[0m\u001B[0m\n\u001B[0m\u001B[1;32m      2\u001B[0m \u001B[0mcard_frm\u001B[0m\u001B[0;34m.\u001B[0m\u001B[0mhead\u001B[0m\u001B[0;34m(\u001B[0m\u001B[0;34m)\u001B[0m\u001B[0;34m\u001B[0m\u001B[0;34m\u001B[0m\u001B[0m\n",
      "\u001B[0;31mNameError\u001B[0m: name 'pd' is not defined"
     ]
    }
   ],
   "source": [
    "card_frm = pd.read_csv('./ml-data/classification-card.csv')\n",
    "card_frm.head()"
   ],
   "metadata": {
    "collapsed": false,
    "pycharm": {
     "name": "#%%\n"
    }
   }
  },
  {
   "cell_type": "code",
   "execution_count": 6,
   "outputs": [
    {
     "ename": "NameError",
     "evalue": "name 'card_frm' is not defined",
     "output_type": "error",
     "traceback": [
      "\u001B[0;31m---------------------------------------------------------------------------\u001B[0m",
      "\u001B[0;31mNameError\u001B[0m                                 Traceback (most recent call last)",
      "\u001B[0;32m/var/folders/qr/6jsz3w4516vdwmpnz67ktft00000gn/T/ipykernel_15071/2611446900.py\u001B[0m in \u001B[0;36m<module>\u001B[0;34m\u001B[0m\n\u001B[0;32m----> 1\u001B[0;31m \u001B[0mcopy_card_frm\u001B[0m \u001B[0;34m=\u001B[0m \u001B[0mcard_frm\u001B[0m\u001B[0;34m.\u001B[0m\u001B[0mcopy\u001B[0m\u001B[0;34m(\u001B[0m\u001B[0;34m)\u001B[0m\u001B[0;34m\u001B[0m\u001B[0;34m\u001B[0m\u001B[0m\n\u001B[0m\u001B[1;32m      2\u001B[0m \u001B[0;34m\u001B[0m\u001B[0m\n",
      "\u001B[0;31mNameError\u001B[0m: name 'card_frm' is not defined"
     ]
    }
   ],
   "source": [
    "copy_card_frm = card_frm.copy()\n"
   ],
   "metadata": {
    "collapsed": false,
    "pycharm": {
     "name": "#%%\n"
    }
   }
  },
  {
   "cell_type": "code",
   "execution_count": 7,
   "outputs": [
    {
     "ename": "NameError",
     "evalue": "name 'copy_card_frm' is not defined",
     "output_type": "error",
     "traceback": [
      "\u001B[0;31m---------------------------------------------------------------------------\u001B[0m",
      "\u001B[0;31mNameError\u001B[0m                                 Traceback (most recent call last)",
      "\u001B[0;32m/var/folders/qr/6jsz3w4516vdwmpnz67ktft00000gn/T/ipykernel_15071/2879878739.py\u001B[0m in \u001B[0;36m<module>\u001B[0;34m\u001B[0m\n\u001B[0;32m----> 1\u001B[0;31m \u001B[0mcopy_card_frm\u001B[0m\u001B[0;34m.\u001B[0m\u001B[0mdrop\u001B[0m\u001B[0;34m(\u001B[0m\u001B[0;34m'Time'\u001B[0m\u001B[0;34m,\u001B[0m \u001B[0maxis\u001B[0m \u001B[0;34m=\u001B[0m\u001B[0;36m1\u001B[0m\u001B[0;34m,\u001B[0m \u001B[0minplace\u001B[0m \u001B[0;34m=\u001B[0m \u001B[0;32mTrue\u001B[0m\u001B[0;34m)\u001B[0m\u001B[0;34m\u001B[0m\u001B[0;34m\u001B[0m\u001B[0m\n\u001B[0m\u001B[1;32m      2\u001B[0m \u001B[0mcopy_card_frm\u001B[0m\u001B[0;34m\u001B[0m\u001B[0;34m\u001B[0m\u001B[0m\n",
      "\u001B[0;31mNameError\u001B[0m: name 'copy_card_frm' is not defined"
     ]
    }
   ],
   "source": [
    "copy_card_frm.drop('Time', axis =1, inplace = True)\n",
    "copy_card_frm"
   ],
   "metadata": {
    "collapsed": false,
    "pycharm": {
     "name": "#%%\n"
    }
   }
  },
  {
   "cell_type": "code",
   "execution_count": 8,
   "outputs": [
    {
     "name": "stdout",
     "output_type": "stream",
     "text": [
      "데이터 세트 분리 - \n"
     ]
    },
    {
     "ename": "NameError",
     "evalue": "name 'copy_card_frm' is not defined",
     "output_type": "error",
     "traceback": [
      "\u001B[0;31m---------------------------------------------------------------------------\u001B[0m",
      "\u001B[0;31mNameError\u001B[0m                                 Traceback (most recent call last)",
      "\u001B[0;32m/var/folders/qr/6jsz3w4516vdwmpnz67ktft00000gn/T/ipykernel_15071/304972118.py\u001B[0m in \u001B[0;36m<module>\u001B[0;34m\u001B[0m\n\u001B[1;32m      1\u001B[0m \u001B[0mprint\u001B[0m\u001B[0;34m(\u001B[0m\u001B[0;34m'데이터 세트 분리 - '\u001B[0m\u001B[0;34m)\u001B[0m\u001B[0;34m\u001B[0m\u001B[0;34m\u001B[0m\u001B[0m\n\u001B[1;32m      2\u001B[0m \u001B[0;34m\u001B[0m\u001B[0m\n\u001B[0;32m----> 3\u001B[0;31m \u001B[0mfeatures\u001B[0m \u001B[0;34m=\u001B[0m \u001B[0mcopy_card_frm\u001B[0m\u001B[0;34m.\u001B[0m\u001B[0miloc\u001B[0m\u001B[0;34m[\u001B[0m\u001B[0;34m:\u001B[0m \u001B[0;34m,\u001B[0m \u001B[0;34m:\u001B[0m\u001B[0;34m-\u001B[0m\u001B[0;36m1\u001B[0m\u001B[0;34m]\u001B[0m\u001B[0;34m\u001B[0m\u001B[0;34m\u001B[0m\u001B[0m\n\u001B[0m\u001B[1;32m      4\u001B[0m \u001B[0mtarget\u001B[0m \u001B[0;34m=\u001B[0m \u001B[0mcopy_card_frm\u001B[0m\u001B[0;34m.\u001B[0m\u001B[0miloc\u001B[0m\u001B[0;34m[\u001B[0m\u001B[0;34m:\u001B[0m\u001B[0;34m,\u001B[0m \u001B[0;34m-\u001B[0m\u001B[0;36m1\u001B[0m\u001B[0;34m]\u001B[0m\u001B[0;34m\u001B[0m\u001B[0;34m\u001B[0m\u001B[0m\n\u001B[1;32m      5\u001B[0m \u001B[0;34m\u001B[0m\u001B[0m\n",
      "\u001B[0;31mNameError\u001B[0m: name 'copy_card_frm' is not defined"
     ]
    }
   ],
   "source": [
    "print('데이터 세트 분리 - ')\n",
    "\n",
    "features = copy_card_frm.iloc[: , :-1]\n",
    "target = copy_card_frm.iloc[:, -1]\n",
    "\n",
    "print('학습, 테스트 데이터세트의 레이블값 비율 ')\n",
    "\n",
    "print(target.value_counts()/target.shape[0]*100)"
   ],
   "metadata": {
    "collapsed": false,
    "pycharm": {
     "name": "#%%\n"
    }
   }
  },
  {
   "cell_type": "code",
   "execution_count": 9,
   "outputs": [
    {
     "ename": "NameError",
     "evalue": "name 'train_test_split' is not defined",
     "output_type": "error",
     "traceback": [
      "\u001B[0;31m---------------------------------------------------------------------------\u001B[0m",
      "\u001B[0;31mNameError\u001B[0m                                 Traceback (most recent call last)",
      "\u001B[0;32m/var/folders/qr/6jsz3w4516vdwmpnz67ktft00000gn/T/ipykernel_15071/175869936.py\u001B[0m in \u001B[0;36m<module>\u001B[0;34m\u001B[0m\n\u001B[0;32m----> 1\u001B[0;31m X_train , X_test , y_train , y_test = train_test_split(features, \n\u001B[0m\u001B[1;32m      2\u001B[0m                                                        \u001B[0mtarget\u001B[0m \u001B[0;34m,\u001B[0m\u001B[0;34m\u001B[0m\u001B[0;34m\u001B[0m\u001B[0m\n\u001B[1;32m      3\u001B[0m                                                        \u001B[0mtest_size\u001B[0m \u001B[0;34m=\u001B[0m \u001B[0;36m0.2\u001B[0m \u001B[0;34m,\u001B[0m\u001B[0;34m\u001B[0m\u001B[0;34m\u001B[0m\u001B[0m\n\u001B[1;32m      4\u001B[0m                                                        random_state = 100)\n\u001B[1;32m      5\u001B[0m \u001B[0;34m\u001B[0m\u001B[0m\n",
      "\u001B[0;31mNameError\u001B[0m: name 'train_test_split' is not defined"
     ]
    }
   ],
   "source": [
    "X_train , X_test , y_train , y_test = train_test_split(features,\n",
    "                                                       target ,\n",
    "                                                       test_size = 0.2 ,\n",
    "                                                       random_state = 100)\n",
    "\n",
    "X_train.shape , X_test.shape , y_train.shape , y_test.shape"
   ],
   "metadata": {
    "collapsed": false,
    "pycharm": {
     "name": "#%%\n"
    }
   }
  },
  {
   "cell_type": "code",
   "execution_count": 10,
   "outputs": [],
   "source": [
    "def metrics_evaluation(target , prediction = None , prediction_prob = None) :\n",
    "    print('confusion matrix \\n' , confusion_matrix(target , prediction))\n",
    "    print('*'*100)\n",
    "    print('accuracy \\n'    , accuracy_score(target , prediction))\n",
    "    print('*'*100)\n",
    "    print('recall \\n'      , recall_score(target , prediction))\n",
    "    print('*'*100)\n",
    "    print('precision \\n'   , precision_score(target , prediction))\n",
    "    print('*'*100)\n",
    "    print('f1 score \\n'   , f1_score(target , prediction))"
   ],
   "metadata": {
    "collapsed": false,
    "pycharm": {
     "name": "#%%\n"
    }
   }
  },
  {
   "cell_type": "code",
   "execution_count": 11,
   "outputs": [
    {
     "name": "stdout",
     "output_type": "stream",
     "text": [
      "LogisticRegression - 학습, 평가, 예측 \n"
     ]
    },
    {
     "ename": "NameError",
     "evalue": "name 'LogisticRegression' is not defined",
     "output_type": "error",
     "traceback": [
      "\u001B[0;31m---------------------------------------------------------------------------\u001B[0m",
      "\u001B[0;31mNameError\u001B[0m                                 Traceback (most recent call last)",
      "\u001B[0;32m/var/folders/qr/6jsz3w4516vdwmpnz67ktft00000gn/T/ipykernel_15071/3633585844.py\u001B[0m in \u001B[0;36m<module>\u001B[0;34m\u001B[0m\n\u001B[1;32m      1\u001B[0m \u001B[0mprint\u001B[0m\u001B[0;34m(\u001B[0m\u001B[0;34m'LogisticRegression - 학습, 평가, 예측 '\u001B[0m\u001B[0;34m)\u001B[0m\u001B[0;34m\u001B[0m\u001B[0;34m\u001B[0m\u001B[0m\n\u001B[0;32m----> 2\u001B[0;31m \u001B[0mlogstic_model\u001B[0m \u001B[0;34m=\u001B[0m \u001B[0mLogisticRegression\u001B[0m\u001B[0;34m(\u001B[0m\u001B[0;34m)\u001B[0m\u001B[0;34m\u001B[0m\u001B[0;34m\u001B[0m\u001B[0m\n\u001B[0m\u001B[1;32m      3\u001B[0m \u001B[0mlogstic_model\u001B[0m\u001B[0;34m.\u001B[0m\u001B[0mfit\u001B[0m\u001B[0;34m(\u001B[0m\u001B[0mX_train\u001B[0m\u001B[0;34m,\u001B[0m \u001B[0my_train\u001B[0m\u001B[0;34m)\u001B[0m\u001B[0;34m\u001B[0m\u001B[0;34m\u001B[0m\u001B[0m\n\u001B[1;32m      4\u001B[0m \u001B[0my_pred\u001B[0m \u001B[0;34m=\u001B[0m \u001B[0mlogstic_model\u001B[0m\u001B[0;34m.\u001B[0m\u001B[0mpredict\u001B[0m\u001B[0;34m(\u001B[0m\u001B[0mX_test\u001B[0m\u001B[0;34m)\u001B[0m\u001B[0;34m\u001B[0m\u001B[0;34m\u001B[0m\u001B[0m\n\u001B[1;32m      5\u001B[0m \u001B[0my_prob\u001B[0m \u001B[0;34m=\u001B[0m \u001B[0mlogstic_model\u001B[0m\u001B[0;34m.\u001B[0m\u001B[0mpredict_proba\u001B[0m\u001B[0;34m(\u001B[0m\u001B[0mX_test\u001B[0m\u001B[0;34m)\u001B[0m\u001B[0;34m[\u001B[0m\u001B[0;34m:\u001B[0m\u001B[0;34m-\u001B[0m\u001B[0;36m1\u001B[0m\u001B[0;34m]\u001B[0m\u001B[0;34m\u001B[0m\u001B[0;34m\u001B[0m\u001B[0m\n",
      "\u001B[0;31mNameError\u001B[0m: name 'LogisticRegression' is not defined"
     ]
    }
   ],
   "source": [
    "print('LogisticRegression - 학습, 평가, 예측 ')\n",
    "logstic_model = LogisticRegression()\n",
    "logstic_model.fit(X_train, y_train)\n",
    "y_pred = logstic_model.predict(X_test)\n",
    "y_prob = logstic_model.predict_proba(X_test)[:-1]\n",
    "metrics_evaluation(y_test, y_pred, y_prob)"
   ],
   "metadata": {
    "collapsed": false,
    "pycharm": {
     "name": "#%%\n"
    }
   }
  },
  {
   "cell_type": "code",
   "execution_count": null,
   "outputs": [],
   "source": [],
   "metadata": {
    "collapsed": false,
    "pycharm": {
     "name": "#%%\n"
    }
   }
  },
  {
   "cell_type": "code",
   "execution_count": null,
   "outputs": [],
   "source": [
    "def model_train_eval(model , feature_train = None , feature_test = None , target_train = None , target_test = None) :\n",
    "    model.fit(feature_train , target_train)\n",
    "    pred       = model.predict(feature_test)\n",
    "    pred_proba = model.predict_proba(feature_test)[ :  , 1]\n",
    "\n",
    "    metrics_evaluation(target_test , pred , pred_proba )"
   ],
   "metadata": {
    "collapsed": false,
    "pycharm": {
     "name": "#%%\n"
    }
   }
  },
  {
   "cell_type": "code",
   "execution_count": 1,
   "outputs": [
    {
     "name": "stdout",
     "output_type": "stream",
     "text": [
      "LightGBM 학습/예측/평가 - \n",
      "레이블값이 불균형 분포를 이루는 경우 재현률 및 정밀도 , AUC 성능이 매우 저하됨을 확인 할 수 있다!!!\n"
     ]
    },
    {
     "ename": "NameError",
     "evalue": "name 'LGBMClassifier' is not defined",
     "output_type": "error",
     "traceback": [
      "\u001B[0;31m---------------------------------------------------------------------------\u001B[0m",
      "\u001B[0;31mNameError\u001B[0m                                 Traceback (most recent call last)",
      "\u001B[0;32m/var/folders/qr/6jsz3w4516vdwmpnz67ktft00000gn/T/ipykernel_26100/2878298512.py\u001B[0m in \u001B[0;36m<module>\u001B[0;34m\u001B[0m\n\u001B[1;32m      1\u001B[0m \u001B[0mprint\u001B[0m\u001B[0;34m(\u001B[0m\u001B[0;34m'LightGBM 학습/예측/평가 - '\u001B[0m\u001B[0;34m)\u001B[0m\u001B[0;34m\u001B[0m\u001B[0;34m\u001B[0m\u001B[0m\n\u001B[1;32m      2\u001B[0m \u001B[0mprint\u001B[0m\u001B[0;34m(\u001B[0m\u001B[0;34m'레이블값이 불균형 분포를 이루는 경우 재현률 및 정밀도 , AUC 성능이 매우 저하됨을 확인 할 수 있다!!!'\u001B[0m\u001B[0;34m)\u001B[0m\u001B[0;34m\u001B[0m\u001B[0;34m\u001B[0m\u001B[0m\n\u001B[0;32m----> 3\u001B[0;31m gbm_model =  LGBMClassifier(n_estimators  = 400 ,\n\u001B[0m\u001B[1;32m      4\u001B[0m                             \u001B[0mlearning_rate\u001B[0m \u001B[0;34m=\u001B[0m \u001B[0;36m0.1\u001B[0m \u001B[0;34m,\u001B[0m\u001B[0;34m\u001B[0m\u001B[0;34m\u001B[0m\u001B[0m\n\u001B[1;32m      5\u001B[0m                             max_depth     = 3)\n",
      "\u001B[0;31mNameError\u001B[0m: name 'LGBMClassifier' is not defined"
     ]
    }
   ],
   "source": [
    "print('LightGBM 학습/예측/평가 - ')\n",
    "print('레이블값이 불균형 분포를 이루는 경우 재현률 및 정밀도 , AUC 성능이 매우 저하됨을 확인 할 수 있다!!!')\n",
    "gbm_model =  LGBMClassifier(n_estimators  = 400 ,\n",
    "                            learning_rate = 0.1 ,\n",
    "                            max_depth     = 3)\n",
    "model_train_eval(gbm_model , feature_train = X_train , feature_test = X_test , target_train = y_train , target_test = y_test)"
   ],
   "metadata": {
    "collapsed": false,
    "pycharm": {
     "name": "#%%\n"
    }
   }
  },
  {
   "cell_type": "code",
   "execution_count": 3,
   "outputs": [
    {
     "name": "stdout",
     "output_type": "stream",
     "text": [
      "밀도분포를 이요한 금액에 대한 분포 시각화 - \n"
     ]
    },
    {
     "ename": "NameError",
     "evalue": "name 'plt' is not defined",
     "output_type": "error",
     "traceback": [
      "\u001B[0;31m---------------------------------------------------------------------------\u001B[0m",
      "\u001B[0;31mNameError\u001B[0m                                 Traceback (most recent call last)",
      "\u001B[0;32m/var/folders/qr/6jsz3w4516vdwmpnz67ktft00000gn/T/ipykernel_26100/2071197805.py\u001B[0m in \u001B[0;36m<module>\u001B[0;34m\u001B[0m\n\u001B[1;32m      1\u001B[0m \u001B[0mprint\u001B[0m\u001B[0;34m(\u001B[0m\u001B[0;34m'밀도분포를 이요한 금액에 대한 분포 시각화 - '\u001B[0m\u001B[0;34m)\u001B[0m\u001B[0;34m\u001B[0m\u001B[0;34m\u001B[0m\u001B[0m\n\u001B[1;32m      2\u001B[0m \u001B[0;34m\u001B[0m\u001B[0m\n\u001B[0;32m----> 3\u001B[0;31m \u001B[0mplt\u001B[0m\u001B[0;34m.\u001B[0m\u001B[0mfigure\u001B[0m\u001B[0;34m(\u001B[0m \u001B[0mfigsize\u001B[0m \u001B[0;34m=\u001B[0m \u001B[0;34m(\u001B[0m\u001B[0;36m15\u001B[0m\u001B[0;34m,\u001B[0m\u001B[0;36m5\u001B[0m\u001B[0;34m)\u001B[0m\u001B[0;34m)\u001B[0m\u001B[0;34m\u001B[0m\u001B[0;34m\u001B[0m\u001B[0m\n\u001B[0m\u001B[1;32m      4\u001B[0m \u001B[0;34m\u001B[0m\u001B[0m\n\u001B[1;32m      5\u001B[0m \u001B[0msns\u001B[0m\u001B[0;34m.\u001B[0m\u001B[0mdistplot\u001B[0m\u001B[0;34m(\u001B[0m\u001B[0mcard_copy_frm\u001B[0m\u001B[0;34m[\u001B[0m\u001B[0;34m'Amount'\u001B[0m\u001B[0;34m]\u001B[0m\u001B[0;34m)\u001B[0m\u001B[0;34m\u001B[0m\u001B[0;34m\u001B[0m\u001B[0m\n",
      "\u001B[0;31mNameError\u001B[0m: name 'plt' is not defined"
     ]
    }
   ],
   "source": [
    "print('밀도분포를 이요한 금액에 대한 분포 시각화 - ')\n",
    "\n",
    "plt.figure( figsize = (15,5))\n",
    "\n",
    "sns.distplot(card_copy_frm['Amount'])\n",
    "\n",
    "\n",
    "plt.xticks(range(0, 30000, 500) , rotation = 60)\n",
    "plt.show()\n",
    "plt.close()"
   ],
   "metadata": {
    "collapsed": false,
    "pycharm": {
     "name": "#%%\n"
    }
   }
  },
  {
   "cell_type": "code",
   "execution_count": 4,
   "outputs": [
    {
     "name": "stdout",
     "output_type": "stream",
     "text": [
      "정규분포 형태의 StandardScaler 를 이용한 Amount(drop) 피처변환 -> Amount_Scaled - \n",
      "frm - insert(0 , feature_name , value )\n"
     ]
    }
   ],
   "source": [
    "print('정규분포 형태의 StandardScaler 를 이용한 Amount(drop) 피처변환 -> Amount_Scaled - ')\n",
    "print('frm - insert(0 , feature_name , value )')"
   ],
   "metadata": {
    "collapsed": false,
    "pycharm": {
     "name": "#%%\n"
    }
   }
  },
  {
   "cell_type": "code",
   "execution_count": 5,
   "outputs": [
    {
     "ename": "NameError",
     "evalue": "name 'StandardScaler' is not defined",
     "output_type": "error",
     "traceback": [
      "\u001B[0;31m---------------------------------------------------------------------------\u001B[0m",
      "\u001B[0;31mNameError\u001B[0m                                 Traceback (most recent call last)",
      "\u001B[0;32m/var/folders/qr/6jsz3w4516vdwmpnz67ktft00000gn/T/ipykernel_26100/3879600143.py\u001B[0m in \u001B[0;36m<module>\u001B[0;34m\u001B[0m\n\u001B[0;32m----> 1\u001B[0;31m \u001B[0ms_scaler\u001B[0m \u001B[0;34m=\u001B[0m \u001B[0mStandardScaler\u001B[0m\u001B[0;34m(\u001B[0m\u001B[0;34m)\u001B[0m\u001B[0;34m\u001B[0m\u001B[0;34m\u001B[0m\u001B[0m\n\u001B[0m\u001B[1;32m      2\u001B[0m \u001B[0mcard_copy_frm\u001B[0m\u001B[0;34m[\u001B[0m\u001B[0;34m'Amount_Scaled'\u001B[0m\u001B[0;34m]\u001B[0m \u001B[0;34m=\u001B[0m \u001B[0ms_scaler\u001B[0m\u001B[0;34m.\u001B[0m\u001B[0mfit_transform\u001B[0m\u001B[0;34m(\u001B[0m\u001B[0mcard_copy_frm\u001B[0m\u001B[0;34m[\u001B[0m\u001B[0;34m[\u001B[0m\u001B[0;34m'Amount'\u001B[0m\u001B[0;34m]\u001B[0m\u001B[0;34m]\u001B[0m\u001B[0;34m)\u001B[0m\u001B[0;34m\u001B[0m\u001B[0;34m\u001B[0m\u001B[0m\n\u001B[1;32m      3\u001B[0m \u001B[0;31m# card_copy_frm.drop('Amount', axis=1, inplace=True)\u001B[0m\u001B[0;34m\u001B[0m\u001B[0;34m\u001B[0m\u001B[0m\n\u001B[1;32m      4\u001B[0m \u001B[0mcard_copy_frm\u001B[0m\u001B[0;34m.\u001B[0m\u001B[0mhead\u001B[0m\u001B[0;34m(\u001B[0m\u001B[0;34m)\u001B[0m\u001B[0;34m\u001B[0m\u001B[0;34m\u001B[0m\u001B[0m\n",
      "\u001B[0;31mNameError\u001B[0m: name 'StandardScaler' is not defined"
     ]
    }
   ],
   "source": [
    "s_scaler = StandardScaler()\n",
    "card_copy_frm['Amount_Scaled'] = s_scaler.fit_transform(card_copy_frm[['Amount']])\n",
    "# card_copy_frm.drop('Amount', axis=1, inplace=True)\n",
    "card_copy_frm.head()"
   ],
   "metadata": {
    "collapsed": false,
    "pycharm": {
     "name": "#%%\n"
    }
   }
  },
  {
   "cell_type": "code",
   "execution_count": 6,
   "outputs": [
    {
     "name": "stdout",
     "output_type": "stream",
     "text": [
      "스케일 변환 후 기존 분류기를 활용해서 학습/예측/평가 - \n"
     ]
    }
   ],
   "source": [
    "print('스케일 변환 후 기존 분류기를 활용해서 학습/예측/평가 - ')\n"
   ],
   "metadata": {
    "collapsed": false,
    "pycharm": {
     "name": "#%%\n"
    }
   }
  },
  {
   "cell_type": "code",
   "execution_count": null,
   "outputs": [],
   "source": [],
   "metadata": {
    "collapsed": false,
    "pycharm": {
     "name": "#%%\n"
    }
   }
  },
  {
   "cell_type": "code",
   "execution_count": null,
   "outputs": [],
   "source": [],
   "metadata": {
    "collapsed": false,
    "pycharm": {
     "name": "#%%\n"
    }
   }
  },
  {
   "cell_type": "code",
   "execution_count": null,
   "outputs": [],
   "source": [],
   "metadata": {
    "collapsed": false,
    "pycharm": {
     "name": "#%%\n"
    }
   }
  },
  {
   "cell_type": "code",
   "execution_count": null,
   "outputs": [],
   "source": [],
   "metadata": {
    "collapsed": false,
    "pycharm": {
     "name": "#%%\n"
    }
   }
  },
  {
   "cell_type": "code",
   "execution_count": null,
   "outputs": [],
   "source": [],
   "metadata": {
    "collapsed": false,
    "pycharm": {
     "name": "#%%\n"
    }
   }
  },
  {
   "cell_type": "code",
   "execution_count": null,
   "outputs": [],
   "source": [],
   "metadata": {
    "collapsed": false,
    "pycharm": {
     "name": "#%%\n"
    }
   }
  },
  {
   "cell_type": "code",
   "execution_count": null,
   "outputs": [],
   "source": [],
   "metadata": {
    "collapsed": false,
    "pycharm": {
     "name": "#%%\n"
    }
   }
  },
  {
   "cell_type": "code",
   "execution_count": null,
   "outputs": [],
   "source": [],
   "metadata": {
    "collapsed": false,
    "pycharm": {
     "name": "#%%\n"
    }
   }
  },
  {
   "cell_type": "code",
   "execution_count": null,
   "outputs": [],
   "source": [],
   "metadata": {
    "collapsed": false,
    "pycharm": {
     "name": "#%%\n"
    }
   }
  },
  {
   "cell_type": "code",
   "execution_count": null,
   "outputs": [],
   "source": [],
   "metadata": {
    "collapsed": false,
    "pycharm": {
     "name": "#%%\n"
    }
   }
  },
  {
   "cell_type": "code",
   "execution_count": null,
   "outputs": [],
   "source": [],
   "metadata": {
    "collapsed": false,
    "pycharm": {
     "name": "#%%\n"
    }
   }
  },
  {
   "cell_type": "code",
   "execution_count": null,
   "outputs": [],
   "source": [],
   "metadata": {
    "collapsed": false,
    "pycharm": {
     "name": "#%%\n"
    }
   }
  }
 ],
 "metadata": {
  "kernelspec": {
   "display_name": "Python 3",
   "language": "python",
   "name": "python3"
  },
  "language_info": {
   "codemirror_mode": {
    "name": "ipython",
    "version": 2
   },
   "file_extension": ".py",
   "mimetype": "text/x-python",
   "name": "python",
   "nbconvert_exporter": "python",
   "pygments_lexer": "ipython2",
   "version": "2.7.6"
  }
 },
 "nbformat": 4,
 "nbformat_minor": 0
}