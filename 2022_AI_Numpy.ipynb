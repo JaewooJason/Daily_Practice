{
 "cells": [
  {
   "cell_type": "code",
   "execution_count": 1,
   "metadata": {
    "collapsed": true
   },
   "outputs": [
    {
     "data": {
      "text/plain": "'1.20.3'"
     },
     "execution_count": 1,
     "metadata": {},
     "output_type": "execute_result"
    }
   ],
   "source": [
    "import numpy as np\n",
    "np.__version__"
   ]
  },
  {
   "cell_type": "code",
   "execution_count": 2,
   "outputs": [],
   "source": [
    "def aryInfo(ary) :\n",
    "    print('type - ' , type(ary))\n",
    "    print('shape - ' , ary.shape)\n",
    "    print('dimension - ' , ary.ndim)\n",
    "    print('dtype - ' , ary.dtype)\n",
    "    print()\n",
    "    print('data - \\n' , ary)"
   ],
   "metadata": {
    "collapsed": false,
    "pycharm": {
     "name": "#%%\n"
    }
   }
  },
  {
   "cell_type": "code",
   "execution_count": 3,
   "outputs": [
    {
     "name": "stdout",
     "output_type": "stream",
     "text": [
      "type -  <class 'numpy.ndarray'>\n",
      "shape -  (10,)\n",
      "dimension -  1\n",
      "dtype -  int64\n",
      "\n",
      "data - \n",
      " [0 1 2 3 4 5 6 7 8 9]\n"
     ]
    }
   ],
   "source": [
    "oneAry = np.array([0,1,2,3,4,5,6,7,8,9])\n",
    "aryInfo(oneAry)"
   ],
   "metadata": {
    "collapsed": false,
    "pycharm": {
     "name": "#%%\n"
    }
   }
  },
  {
   "cell_type": "code",
   "execution_count": 4,
   "outputs": [
    {
     "data": {
      "text/plain": "[0, 1, 2, 3, 4, 5, 6, 7, 8, 9, 0, 1, 2, 3, 4, 5, 6, 7, 8, 9]"
     },
     "execution_count": 4,
     "metadata": {},
     "output_type": "execute_result"
    }
   ],
   "source": [
    "data = [0,1,2,3,4,5,6,7,8,9]\n",
    "data * 2"
   ],
   "metadata": {
    "collapsed": false,
    "pycharm": {
     "name": "#%%\n"
    }
   }
  },
  {
   "cell_type": "code",
   "execution_count": 5,
   "outputs": [
    {
     "name": "stdout",
     "output_type": "stream",
     "text": [
      "[0, 2, 4, 6, 8, 10, 12, 14, 16, 18]\n"
     ]
    }
   ],
   "source": [
    "result = []\n",
    "\n",
    "for d in data :\n",
    "    result.append(d * 2)\n",
    "\n",
    "print(result)"
   ],
   "metadata": {
    "collapsed": false,
    "pycharm": {
     "name": "#%%\n"
    }
   }
  },
  {
   "cell_type": "code",
   "execution_count": 6,
   "outputs": [
    {
     "name": "stdout",
     "output_type": "stream",
     "text": [
      "[0, 2, 4, 6, 8, 10, 12, 14, 16, 18]\n"
     ]
    }
   ],
   "source": [
    "result2 = [d * 2 for d in data]\n",
    "print(result2)"
   ],
   "metadata": {
    "collapsed": false,
    "pycharm": {
     "name": "#%%\n"
    }
   }
  },
  {
   "cell_type": "code",
   "execution_count": 7,
   "outputs": [
    {
     "name": "stdout",
     "output_type": "stream",
     "text": [
      "[ 0  2  4  6  8 10 12 14 16 18]\n"
     ]
    }
   ],
   "source": [
    "result3 = oneAry * 2\n",
    "print(result3)"
   ],
   "metadata": {
    "collapsed": false,
    "pycharm": {
     "name": "#%%\n"
    }
   }
  },
  {
   "cell_type": "code",
   "execution_count": 6,
   "outputs": [
    {
     "name": "stdout",
     "output_type": "stream",
     "text": [
      "<class 'list'> <class 'list'>\n"
     ]
    }
   ],
   "source": [
    "data01 = [1, 2, 3, 4, 5]\n",
    "data02 = [10, 20, 30, 40, 50]\n",
    "\n",
    "print(type(data01) , type(data02))"
   ],
   "metadata": {
    "collapsed": false,
    "pycharm": {
     "name": "#%%\n"
    }
   }
  },
  {
   "cell_type": "code",
   "execution_count": 7,
   "outputs": [
    {
     "name": "stdout",
     "output_type": "stream",
     "text": [
      "<class 'numpy.ndarray'> <class 'numpy.ndarray'>\n"
     ]
    }
   ],
   "source": [
    "xAry = np.array(data01)\n",
    "yAry = np.array(data02)\n",
    "\n",
    "print(type(xAry) , type(yAry))"
   ],
   "metadata": {
    "collapsed": false,
    "pycharm": {
     "name": "#%%\n"
    }
   }
  },
  {
   "cell_type": "code",
   "execution_count": 8,
   "outputs": [
    {
     "name": "stdout",
     "output_type": "stream",
     "text": [
      "산술연산 - \n",
      "type -  <class 'numpy.ndarray'>\n",
      "shape -  (5,)\n",
      "dimension -  1\n",
      "dtype -  int64\n",
      "\n",
      "data - \n",
      " [11 22 33 44 55]\n",
      "\n",
      "type -  <class 'numpy.ndarray'>\n",
      "shape -  (5,)\n",
      "dimension -  1\n",
      "dtype -  int64\n",
      "\n",
      "data - \n",
      " [12 24 36 48 60]\n"
     ]
    }
   ],
   "source": [
    "print('산술연산 - ')\n",
    "\n",
    "aryInfo(xAry + yAry)\n",
    "\n",
    "print()\n",
    "aryInfo(2 * xAry + yAry)"
   ],
   "metadata": {
    "collapsed": false,
    "pycharm": {
     "name": "#%%\n"
    }
   }
  },
  {
   "cell_type": "code",
   "execution_count": 9,
   "outputs": [
    {
     "name": "stdout",
     "output_type": "stream",
     "text": [
      "비교 연산 - boolean masking\n",
      "[False  True False False False]\n",
      "\n",
      "type -  <class 'numpy.ndarray'>\n",
      "shape -  (5,)\n",
      "dimension -  1\n",
      "dtype -  bool\n",
      "\n",
      "data - \n",
      " [False  True False False False]\n"
     ]
    }
   ],
   "source": [
    "print('비교 연산 - boolean masking')\n",
    "\n",
    "print( xAry == 2 )\n",
    "print()\n",
    "aryInfo(xAry == 2 )"
   ],
   "metadata": {
    "collapsed": false,
    "pycharm": {
     "name": "#%%\n"
    }
   }
  },
  {
   "cell_type": "code",
   "execution_count": 10,
   "outputs": [
    {
     "name": "stdout",
     "output_type": "stream",
     "text": [
      "비교 연산 - boolean masking\n",
      "[False  True  True  True  True]\n",
      "\n",
      "type -  <class 'numpy.ndarray'>\n",
      "shape -  (5,)\n",
      "dimension -  1\n",
      "dtype -  bool\n",
      "\n",
      "data - \n",
      " [False  True  True  True  True]\n"
     ]
    }
   ],
   "source": [
    "print('비교 연산 - boolean masking')\n",
    "\n",
    "print( yAry > 10 )\n",
    "print()\n",
    "aryInfo( yAry > 10 )"
   ],
   "metadata": {
    "collapsed": false,
    "pycharm": {
     "name": "#%%\n"
    }
   }
  },
  {
   "cell_type": "code",
   "execution_count": 12,
   "outputs": [
    {
     "name": "stdout",
     "output_type": "stream",
     "text": [
      "논리 연산 - \n",
      "[False  True  True  True  True]\n",
      "\n",
      "type -  <class 'numpy.ndarray'>\n",
      "shape -  (5,)\n",
      "dimension -  1\n",
      "dtype -  bool\n",
      "\n",
      "data - \n",
      " [False  True  True  True  True]\n"
     ]
    }
   ],
   "source": [
    "print('논리 연산 - ')\n",
    "print( (xAry == 2) | (yAry > 10) )\n",
    "print()\n",
    "aryInfo( (xAry == 2) | (yAry > 10) )"
   ],
   "metadata": {
    "collapsed": false,
    "pycharm": {
     "name": "#%%\n"
    }
   }
  },
  {
   "cell_type": "code",
   "execution_count": 11,
   "outputs": [
    {
     "name": "stdout",
     "output_type": "stream",
     "text": [
      "2개의 행과 3개의 열을 갖는 배열을 만든다면 ? - \n",
      "\n",
      "type -  <class 'numpy.ndarray'>\n",
      "shape -  (2, 3)\n",
      "dimension -  2\n",
      "dtype -  float64\n",
      "\n",
      "data - \n",
      " [[1. 2. 3.]\n",
      " [4. 5. 6.]]\n",
      "\n",
      "len() - \n",
      "len() 행의 갯수 -  2\n",
      "len() 행의 요소의 갯수, 즉 열을 의미한다 -   3\n",
      "len() 행의 요소의 갯수, 즉 열을 의미한다 -   3\n"
     ]
    }
   ],
   "source": [
    "print('2개의 행과 3개의 열을 갖는 배열을 만든다면 ? - ')\n",
    "twoAry = np.array([[1,2,3],[4,5,6]] , dtype = np.float64)\n",
    "\n",
    "\n",
    "print()\n",
    "aryInfo(twoAry)\n",
    "\n",
    "print()\n",
    "print('len() - ')\n",
    "print('len() 행의 갯수 - ' ,  len(twoAry))\n",
    "print('len() 행의 요소의 갯수, 즉 열을 의미한다 -  ' , len(twoAry[0]))\n",
    "print('len() 행의 요소의 갯수, 즉 열을 의미한다 -  ' , len(twoAry[1]))"
   ],
   "metadata": {
    "collapsed": false,
    "pycharm": {
     "name": "#%%\n"
    }
   }
  },
  {
   "cell_type": "code",
   "execution_count": 12,
   "outputs": [
    {
     "name": "stdout",
     "output_type": "stream",
     "text": [
      "3차원 - 3 * 4 2개의 레이어 - \n",
      "\n",
      "type -  <class 'numpy.ndarray'>\n",
      "shape -  (2, 3, 4)\n",
      "dimension -  3\n",
      "dtype -  int64\n",
      "\n",
      "data - \n",
      " [[[ 1  2  3  4]\n",
      "  [ 5  6  7  8]\n",
      "  [ 9 10 11 12]]\n",
      "\n",
      " [[13 14 15 16]\n",
      "  [17 18 19 20]\n",
      "  [21 22 23 24]]]\n",
      "\n",
      "len() - depth 2\n",
      "len() -  3\n",
      "len() -  3\n",
      "row col -  4\n"
     ]
    }
   ],
   "source": [
    "print('3차원 - 3 * 4 2개의 레이어 - ')\n",
    "threeAry = np.array([ [ [1,2,3,4], [5,6,7,8], [9,10,11,12] ], [ [13,14,15,16], [17,18,19,20], [21,22,23,24] ]])\n",
    "print()\n",
    "aryInfo(threeAry)\n",
    "\n",
    "print()\n",
    "print('len() - depth' , len(threeAry))\n",
    "print('len() - ' , len(threeAry[0]))\n",
    "print('len() - ' , len(threeAry[1]))\n",
    "print('row col - ' , len(threeAry[0][0] ))"
   ],
   "metadata": {
    "collapsed": false,
    "pycharm": {
     "name": "#%%\n"
    }
   }
  },
  {
   "cell_type": "code",
   "execution_count": 13,
   "outputs": [
    {
     "name": "stdout",
     "output_type": "stream",
     "text": [
      "type -  <class 'numpy.ndarray'>\n",
      "shape -  (2, 3, 4)\n",
      "dimension -  3\n",
      "dtype -  float64\n",
      "\n",
      "data - \n",
      " [[[ 1.  2.  3.  4.]\n",
      "  [ 5.  6.  7.  8.]\n",
      "  [ 9. 10. 11. 12.]]\n",
      "\n",
      " [[13. 14. 15. 16.]\n",
      "  [17. 18. 19. 20.]\n",
      "  [21. 22. 23. 24.]]]\n"
     ]
    }
   ],
   "source": [
    "typeChange = threeAry.astype(np.float64)\n",
    "aryInfo(typeChange)"
   ],
   "metadata": {
    "collapsed": false,
    "pycharm": {
     "name": "#%%\n"
    }
   }
  },
  {
   "cell_type": "code",
   "execution_count": 14,
   "outputs": [
    {
     "name": "stdout",
     "output_type": "stream",
     "text": [
      "type -  <class 'numpy.ndarray'>\n",
      "shape -  (9,)\n",
      "dimension -  1\n",
      "dtype -  int64\n",
      "\n",
      "data - \n",
      " [1 2 3 4 5 6 7 8 9]\n"
     ]
    }
   ],
   "source": [
    "idxAry = np.array([1,2,3,4,5,6,7,8,9])\n",
    "aryInfo(idxAry)"
   ],
   "metadata": {
    "collapsed": false,
    "pycharm": {
     "name": "#%%\n"
    }
   }
  },
  {
   "cell_type": "code",
   "execution_count": 15,
   "outputs": [
    {
     "name": "stdout",
     "output_type": "stream",
     "text": [
      "indexing - \n",
      "1\n",
      "2\n"
     ]
    }
   ],
   "source": [
    "print('indexing - ')\n",
    "print(idxAry[0])\n",
    "print(idxAry[1])"
   ],
   "metadata": {
    "collapsed": false,
    "pycharm": {
     "name": "#%%\n"
    }
   }
  },
  {
   "cell_type": "code",
   "execution_count": 20,
   "outputs": [
    {
     "name": "stdout",
     "output_type": "stream",
     "text": [
      "type -  <class 'numpy.ndarray'>\n",
      "shape -  (2, 3)\n",
      "dimension -  2\n",
      "dtype -  float64\n",
      "\n",
      "data - \n",
      " [[1. 2. 3.]\n",
      " [4. 5. 6.]]\n",
      "\n",
      "첫번째 행의 첫번째 열의 값 - \n",
      "1.0\n",
      "\n",
      "마지막 행의 마지막 열 - \n",
      "6.0\n",
      "\n",
      "첫번째 행의 전체 - \n",
      "[1. 2. 3.]\n",
      "\n",
      "첫번째 행의 두번째부터 끝까지 - \n",
      "[2. 3.]\n",
      "\n",
      "행이 아닌 y 축의 값을 구할 때 - \n",
      "[2. 5.]\n"
     ]
    }
   ],
   "source": [
    "aryInfo(twoAry)\n",
    "\n",
    "print()\n",
    "print('첫번째 행의 첫번째 열의 값 - ')\n",
    "print(twoAry[0 , 0])\n",
    "print()\n",
    "print('마지막 행의 마지막 열 - ')\n",
    "print(twoAry[-1, -1])\n",
    "\n",
    "print()\n",
    "print('첫번째 행의 전체 - ')\n",
    "print(twoAry[0, : ])\n",
    "\n",
    "print()\n",
    "print('첫번째 행의 두번째부터 끝까지 - ')\n",
    "print(twoAry[0 , 1 : ])\n",
    "\n",
    "\n",
    "print()\n",
    "print('행이 아닌 y 축의 값을 구할 때 - ')\n",
    "print(twoAry[ : , 1])"
   ],
   "metadata": {
    "collapsed": false,
    "pycharm": {
     "name": "#%%\n"
    }
   }
  },
  {
   "cell_type": "code",
   "execution_count": 21,
   "outputs": [
    {
     "name": "stdout",
     "output_type": "stream",
     "text": [
      "type -  <class 'numpy.ndarray'>\n",
      "shape -  (3, 5)\n",
      "dimension -  2\n",
      "dtype -  int64\n",
      "\n",
      "data - \n",
      " [[ 0  1  2  3  4]\n",
      " [ 5  6  7  8  9]\n",
      " [10 11 12 13 14]]\n"
     ]
    }
   ],
   "source": [
    "matrixAry = np.array([[0,1,2,3,4],[5,6,7,8,9],[10,11,12,13,14]])\n",
    "aryInfo(matrixAry)"
   ],
   "metadata": {
    "collapsed": false,
    "pycharm": {
     "name": "#%%\n"
    }
   }
  },
  {
   "cell_type": "code",
   "execution_count": 25,
   "outputs": [
    {
     "name": "stdout",
     "output_type": "stream",
     "text": [
      "이 행렬에서 값 7 을 인덱싱한다. -  7\n",
      "이 행렬에서 값 14 을 인덱싱한다. -  14\n",
      "이 행렬에서 배열 [6, 7] 을 슬라이싱한다. -  [6 7] <class 'numpy.ndarray'>\n",
      "이 행렬에서 배열 [7, 12] 을 슬라이싱한다. -  [ 7 12]\n",
      "이 행렬에서 배열 [[3, 4], [8, 9]] 을 슬라이싱한다. -  [[3 4]\n",
      " [8 9]] <class 'numpy.ndarray'> 2\n"
     ]
    }
   ],
   "source": [
    "print('이 행렬에서 값 7 을 인덱싱한다. - ' , matrixAry[ 1 , 2 ])\n",
    "print('이 행렬에서 값 14 을 인덱싱한다. - ', matrixAry[ -1 , -1 ])\n",
    "print('이 행렬에서 배열 [6, 7] 을 슬라이싱한다. - ' , matrixAry[ 1 , 1:3 ] , type(matrixAry[ 1 , 1:3 ]))\n",
    "print('이 행렬에서 배열 [7, 12] 을 슬라이싱한다. - ', matrixAry[ 1:3 , 2 ])\n",
    "print('이 행렬에서 배열 [[3, 4], [8, 9]] 을 슬라이싱한다. - ' ,   matrixAry[ 0:2 , 3:5 ] ,\n",
    "                                                                  type(matrixAry[ 0:2 , 3:5 ]) ,\n",
    "                                                                  matrixAry[ 0:2 , 3:5 ].ndim)"
   ],
   "metadata": {
    "collapsed": false,
    "pycharm": {
     "name": "#%%\n"
    }
   }
  },
  {
   "cell_type": "code",
   "execution_count": 5,
   "outputs": [
    {
     "name": "stdout",
     "output_type": "stream",
     "text": [
      "type -  <class 'numpy.ndarray'>\n",
      "shape -  (10,)\n",
      "dimension -  1\n",
      "dtype -  int64\n",
      "\n",
      "data - \n",
      " [0 1 2 3 4 5 6 7 8 9]\n",
      "짝수의 원소를 골라내고 싶다면 ? - \n",
      "[0 2 4 6 8]\n",
      "\n",
      "[0 2 4 6 8]\n",
      "정수배열 인덱싱으로 구현한다면 ? \n",
      "\n",
      "[0 2 4 6 8]\n",
      "[1 3 5 7 9]\n"
     ]
    }
   ],
   "source": [
    "ary = np.array([0,1,2,3,4,5,6,7,8,9])\n",
    "aryInfo(ary)\n",
    "\n",
    "print('짝수의 원소를 골라내고 싶다면 ? - ')\n",
    "\n",
    "# print( ary%2 == 0 )\n",
    "idx = np.array([ True, False,  True, False,  True, False,  True, False,  True, False])\n",
    "print( ary[idx] )\n",
    "\n",
    "\n",
    "print()\n",
    "print( ary[ ary%2 == 0 ] )\n",
    "print('정수배열 인덱싱으로 구현한다면 ? ')\n",
    "\n",
    "oddIdx  = np.array([0, 2, 4, 6, 8])\n",
    "evenIdx = np.array([1, 3, 5, 7, 9])\n",
    "\n",
    "print()\n",
    "print( ary[oddIdx] )\n",
    "print( ary[evenIdx] )"
   ],
   "metadata": {
    "collapsed": false,
    "pycharm": {
     "name": "#%%\n"
    }
   }
  },
  {
   "cell_type": "code",
   "execution_count": 6,
   "outputs": [
    {
     "data": {
      "text/plain": "array([0, 1, 0, 1, 0, 1, 0, 1, 0, 1])"
     },
     "execution_count": 6,
     "metadata": {},
     "output_type": "execute_result"
    }
   ],
   "source": [
    "ary % 2"
   ],
   "metadata": {
    "collapsed": false,
    "pycharm": {
     "name": "#%%\n"
    }
   }
  },
  {
   "cell_type": "code",
   "execution_count": 7,
   "outputs": [
    {
     "name": "stdout",
     "output_type": "stream",
     "text": [
      "type -  <class 'numpy.ndarray'>\n",
      "shape -  (20,)\n",
      "dimension -  1\n",
      "dtype -  int64\n",
      "\n",
      "data - \n",
      " [ 1  2  3  4  5  6  7  8  9 10 11 12 13 14 15 16 17 18 19 20]\n",
      "\n",
      "3의 배수 출력 -  [ 3  6  9 12 15 18]\n",
      "4로 나누면 1이 남는 수를 출력 -  [ 1  5  9 13 17]\n",
      "3의 배수이고 4로 나누면 1이 남는 수를 출력 -  [9]\n"
     ]
    }
   ],
   "source": [
    "ary = np.array([1, 2, 3, 4, 5, 6, 7, 8, 9, 10, 11, 12, 13, 14, 15, 16, 17, 18, 19, 20])\n",
    "aryInfo(ary)\n",
    "\n",
    "print()\n",
    "print('3의 배수 출력 - ' , ary[ ary%3 == 0] )\n",
    "print('4로 나누면 1이 남는 수를 출력 - ' , ary[ ary%4 == 1])\n",
    "print('3의 배수이고 4로 나누면 1이 남는 수를 출력 - ' , ary[ (ary%3 == 0) & (ary%4 == 1) ])"
   ],
   "metadata": {
    "collapsed": false,
    "pycharm": {
     "name": "#%%\n"
    }
   }
  },
  {
   "cell_type": "code",
   "execution_count": 3,
   "outputs": [
    {
     "name": "stdout",
     "output_type": "stream",
     "text": [
      "type -  <class 'numpy.ndarray'>\n",
      "shape -  (3,)\n",
      "dimension -  1\n",
      "dtype -  int32\n",
      "\n",
      "data - \n",
      " [1 2 3]\n"
     ]
    }
   ],
   "source": [
    "ary = np.array([1,2,3] , dtype='i')\n",
    "aryInfo(ary)"
   ],
   "metadata": {
    "collapsed": false,
    "pycharm": {
     "name": "#%%\n"
    }
   }
  },
  {
   "cell_type": "code",
   "execution_count": 4,
   "outputs": [
    {
     "name": "stdout",
     "output_type": "stream",
     "text": [
      "type -  <class 'numpy.ndarray'>\n",
      "shape -  (3, 4)\n",
      "dimension -  2\n",
      "dtype -  int64\n",
      "\n",
      "data - \n",
      " [[ 0  1  2  3]\n",
      " [ 4  5  6  7]\n",
      " [ 8  9 10 11]]\n"
     ]
    }
   ],
   "source": [
    "ary = np.arange(0, 12, 1).reshape(3,4)\n",
    "aryInfo(ary)"
   ],
   "metadata": {
    "collapsed": false,
    "pycharm": {
     "name": "#%%\n"
    }
   }
  },
  {
   "cell_type": "code",
   "execution_count": 5,
   "outputs": [
    {
     "data": {
      "text/plain": "'\\n아래 결과를 출력하도록 실습\\n\\nindxing :  10\\nslicing : [6]\\nslicing : [[5]]\\nfancy indexing : [2 10]\\nfancy indexing : [[2] [10] ]\\nfancy indexing : [[0 2] [4 6] [8 10] ]\\n'"
     },
     "execution_count": 5,
     "metadata": {},
     "output_type": "execute_result"
    }
   ],
   "source": [
    "'''\n",
    "아래 결과를 출력하도록 실습\n",
    "\n",
    "indxing :  10\n",
    "slicing : [6]\n",
    "slicing : [[5]]\n",
    "fancy indexing : [2 10]\n",
    "fancy indexing : [[2] [10] ]\n",
    "fancy indexing : [[0 2] [4 6] [8 10] ]\n",
    "'''"
   ],
   "metadata": {
    "collapsed": false,
    "pycharm": {
     "name": "#%%\n"
    }
   }
  },
  {
   "cell_type": "code",
   "execution_count": 6,
   "outputs": [
    {
     "name": "stdout",
     "output_type": "stream",
     "text": [
      "10 <class 'numpy.int64'>\n",
      "[6] <class 'numpy.ndarray'>\n",
      "[[5]] <class 'numpy.ndarray'>\n"
     ]
    }
   ],
   "source": [
    "print(ary[2 , 2] , type(ary[2 , 2]))\n",
    "print(ary[ 1 : 2 , 2] , type(ary[ 1 : 2 , 2]))\n",
    "print(ary[ 1:2 , 1:2] , type(ary[ 1:2 , 1:2]))\n",
    "idx = [0,2]\n"
   ],
   "metadata": {
    "collapsed": false,
    "pycharm": {
     "name": "#%%\n"
    }
   }
  },
  {
   "cell_type": "code",
   "execution_count": 7,
   "outputs": [
    {
     "name": "stdout",
     "output_type": "stream",
     "text": [
      "[ 2 10]\n",
      "[[ 2]\n",
      " [10]]\n",
      "fanacy indexing  아님 - \n",
      "[[ 0  2]\n",
      " [ 4  6]\n",
      " [ 8 10]]\n"
     ]
    }
   ],
   "source": [
    "print(ary[ idx , 2 ])\n",
    "print(ary[ idx , 2:3 ])\n",
    "print('fanacy indexing  아님 - ')\n",
    "print(ary[ : , [0,2] ])\n",
    "\n"
   ],
   "metadata": {
    "collapsed": false,
    "pycharm": {
     "name": "#%%\n"
    }
   }
  },
  {
   "cell_type": "code",
   "execution_count": 8,
   "outputs": [
    {
     "name": "stdout",
     "output_type": "stream",
     "text": [
      "1차원 - \n",
      "type -  <class 'numpy.ndarray'>\n",
      "shape -  (5,)\n",
      "dimension -  1\n",
      "dtype -  int32\n",
      "\n",
      "data - \n",
      " [0 0 0 0 0]\n",
      "\n",
      "2차원 - \n",
      "type -  <class 'numpy.ndarray'>\n",
      "shape -  (3, 4)\n",
      "dimension -  2\n",
      "dtype -  int32\n",
      "\n",
      "data - \n",
      " [[0 0 0 0]\n",
      " [0 0 0 0]\n",
      " [0 0 0 0]]\n",
      "3차원 - \n",
      "type -  <class 'numpy.ndarray'>\n",
      "shape -  (3, 3, 4)\n",
      "dimension -  3\n",
      "dtype -  int32\n",
      "\n",
      "data - \n",
      " [[[0 0 0 0]\n",
      "  [0 0 0 0]\n",
      "  [0 0 0 0]]\n",
      "\n",
      " [[0 0 0 0]\n",
      "  [0 0 0 0]\n",
      "  [0 0 0 0]]\n",
      "\n",
      " [[0 0 0 0]\n",
      "  [0 0 0 0]\n",
      "  [0 0 0 0]]]\n"
     ]
    }
   ],
   "source": [
    "print('1차원 - ')\n",
    "zeroAry = np.zeros(5, dtype='i')\n",
    "aryInfo(zeroAry)\n",
    "\n",
    "print()\n",
    "\n",
    "print('2차원 - ')\n",
    "zeroAry = np.zeros((3,4), dtype='i')\n",
    "aryInfo(zeroAry)\n",
    "\n",
    "print('3차원 - ')\n",
    "zeroAry = np.zeros((3, 3,4), dtype='i')\n",
    "aryInfo(zeroAry)"
   ],
   "metadata": {
    "collapsed": false,
    "pycharm": {
     "name": "#%%\n"
    }
   }
  },
  {
   "cell_type": "code",
   "execution_count": 9,
   "outputs": [
    {
     "name": "stdout",
     "output_type": "stream",
     "text": [
      "type -  <class 'numpy.ndarray'>\n",
      "shape -  (5,)\n",
      "dimension -  1\n",
      "dtype -  <U4\n",
      "\n",
      "data - \n",
      " ['' '' '' '' '']\n"
     ]
    }
   ],
   "source": [
    "ary = np.zeros(5 , dtype='<U4')\n",
    "aryInfo(ary)\n",
    "\n",
    "ary[0] = 'abc'\n",
    "ary[1] = 'jslim'\n",
    "ary[2] = 'abcd'"
   ],
   "metadata": {
    "collapsed": false,
    "pycharm": {
     "name": "#%%\n"
    }
   }
  },
  {
   "cell_type": "code",
   "execution_count": 10,
   "outputs": [
    {
     "data": {
      "text/plain": "array(['abc', 'jsli', 'abcd', '', ''], dtype='<U4')"
     },
     "execution_count": 10,
     "metadata": {},
     "output_type": "execute_result"
    }
   ],
   "source": [
    "ary"
   ],
   "metadata": {
    "collapsed": false,
    "pycharm": {
     "name": "#%%\n"
    }
   }
  },
  {
   "cell_type": "code",
   "execution_count": 12,
   "outputs": [
    {
     "name": "stdout",
     "output_type": "stream",
     "text": [
      "1차원 - \n",
      "type -  <class 'numpy.ndarray'>\n",
      "shape -  (5,)\n",
      "dimension -  1\n",
      "dtype -  <U1\n",
      "\n",
      "data - \n",
      " ['1' '1' '1' '1' '1']\n",
      "2차원 - \n",
      "type -  <class 'numpy.ndarray'>\n",
      "shape -  (3, 4)\n",
      "dimension -  2\n",
      "dtype -  int32\n",
      "\n",
      "data - \n",
      " [[1 1 1 1]\n",
      " [1 1 1 1]\n",
      " [1 1 1 1]]\n",
      "3차원 - \n",
      "type -  <class 'numpy.ndarray'>\n",
      "shape -  (3, 3, 4)\n",
      "dimension -  3\n",
      "dtype -  int32\n",
      "\n",
      "data - \n",
      " [[[1 1 1 1]\n",
      "  [1 1 1 1]\n",
      "  [1 1 1 1]]\n",
      "\n",
      " [[1 1 1 1]\n",
      "  [1 1 1 1]\n",
      "  [1 1 1 1]]\n",
      "\n",
      " [[1 1 1 1]\n",
      "  [1 1 1 1]\n",
      "  [1 1 1 1]]]\n"
     ]
    }
   ],
   "source": [
    "print('1차원 - ')\n",
    "oneAry = np.ones(5, dtype='U')\n",
    "aryInfo(oneAry)\n",
    "\n",
    "print('2차원 - ')\n",
    "oneAry = np.ones((3,4), dtype='i')\n",
    "aryInfo(oneAry)\n",
    "\n",
    "print('3차원 - ')\n",
    "oneAry = np.ones((3, 3,4), dtype='i')\n",
    "aryInfo(oneAry)\n"
   ],
   "metadata": {
    "collapsed": false,
    "pycharm": {
     "name": "#%%\n"
    }
   }
  },
  {
   "cell_type": "code",
   "execution_count": 13,
   "outputs": [
    {
     "name": "stdout",
     "output_type": "stream",
     "text": [
      "type -  <class 'numpy.ndarray'>\n",
      "shape -  (3, 3, 4)\n",
      "dimension -  3\n",
      "dtype -  <U1\n",
      "\n",
      "data - \n",
      " [[['1' '1' '1' '1']\n",
      "  ['1' '1' '1' '1']\n",
      "  ['1' '1' '1' '1']]\n",
      "\n",
      " [['1' '1' '1' '1']\n",
      "  ['1' '1' '1' '1']\n",
      "  ['1' '1' '1' '1']]\n",
      "\n",
      " [['1' '1' '1' '1']\n",
      "  ['1' '1' '1' '1']\n",
      "  ['1' '1' '1' '1']]]\n"
     ]
    }
   ],
   "source": [
    "o_likeAry = np.ones_like(oneAry , dtype='U')\n",
    "aryInfo(o_likeAry)"
   ],
   "metadata": {
    "collapsed": false,
    "pycharm": {
     "name": "#%%\n"
    }
   }
  },
  {
   "cell_type": "code",
   "execution_count": 14,
   "outputs": [
    {
     "name": "stdout",
     "output_type": "stream",
     "text": [
      "type -  <class 'numpy.ndarray'>\n",
      "shape -  (4, 3)\n",
      "dimension -  2\n",
      "dtype -  float64\n",
      "\n",
      "data - \n",
      " [[0.0e+000 4.9e-324 9.9e-324]\n",
      " [1.5e-323 2.0e-323 2.5e-323]\n",
      " [3.0e-323 3.5e-323 4.0e-323]\n",
      " [4.4e-323 4.9e-323 5.4e-323]]\n"
     ]
    }
   ],
   "source": [
    "emptyAry = np.empty( (4,3) )\n",
    "aryInfo(emptyAry)"
   ],
   "metadata": {
    "collapsed": false,
    "pycharm": {
     "name": "#%%\n"
    }
   }
  },
  {
   "cell_type": "code",
   "execution_count": 15,
   "outputs": [
    {
     "data": {
      "text/plain": "array([10, 12, 14, 16, 18])"
     },
     "execution_count": 15,
     "metadata": {},
     "output_type": "execute_result"
    }
   ],
   "source": [
    "np.arange(10 , 20 , 2)"
   ],
   "metadata": {
    "collapsed": false,
    "pycharm": {
     "name": "#%%\n"
    }
   }
  },
  {
   "cell_type": "code",
   "execution_count": 16,
   "outputs": [
    {
     "data": {
      "text/plain": "array([ 1.,  4.,  7., 10.])"
     },
     "execution_count": 16,
     "metadata": {},
     "output_type": "execute_result"
    }
   ],
   "source": [
    "np.linspace(1, 10 , 4)"
   ],
   "metadata": {
    "collapsed": false,
    "pycharm": {
     "name": "#%%\n"
    }
   }
  },
  {
   "cell_type": "code",
   "execution_count": 17,
   "outputs": [
    {
     "data": {
      "text/plain": "array([[0],\n       [2],\n       [4],\n       [6],\n       [8]])"
     },
     "execution_count": 17,
     "metadata": {},
     "output_type": "execute_result"
    }
   ],
   "source": [
    "np.arange(0, 10, 2).reshape(5,1)"
   ],
   "metadata": {
    "collapsed": false,
    "pycharm": {
     "name": "#%%\n"
    }
   }
  },
  {
   "cell_type": "code",
   "execution_count": 18,
   "outputs": [
    {
     "name": "stdout",
     "output_type": "stream",
     "text": [
      "type -  <class 'numpy.ndarray'>\n",
      "shape -  (2, 3)\n",
      "dimension -  2\n",
      "dtype -  int64\n",
      "\n",
      "data - \n",
      " [[1 2 3]\n",
      " [4 5 6]]\n"
     ]
    }
   ],
   "source": [
    "ary = np.array([ [1, 2, 3] , [4, 5, 6] ] )\n",
    "aryInfo(ary)"
   ],
   "metadata": {
    "collapsed": false,
    "pycharm": {
     "name": "#%%\n"
    }
   }
  },
  {
   "cell_type": "code",
   "execution_count": 19,
   "outputs": [
    {
     "name": "stdout",
     "output_type": "stream",
     "text": [
      "type -  <class 'numpy.ndarray'>\n",
      "shape -  (2, 3)\n",
      "dimension -  2\n",
      "dtype -  int64\n",
      "\n",
      "data - \n",
      " [[1 2 3]\n",
      " [4 5 6]]\n"
     ]
    }
   ],
   "source": [
    "ary = np.arange(1,7).reshape(2,3)\n",
    "aryInfo(ary)"
   ],
   "metadata": {
    "collapsed": false,
    "pycharm": {
     "name": "#%%\n"
    }
   }
  },
  {
   "cell_type": "code",
   "execution_count": 20,
   "outputs": [
    {
     "name": "stdout",
     "output_type": "stream",
     "text": [
      "type -  <class 'numpy.ndarray'>\n",
      "shape -  (3, 2)\n",
      "dimension -  2\n",
      "dtype -  int64\n",
      "\n",
      "data - \n",
      " [[1 4]\n",
      " [2 5]\n",
      " [3 6]]\n"
     ]
    }
   ],
   "source": [
    "ary_transpose = ary.T\n",
    "aryInfo(ary_transpose)"
   ],
   "metadata": {
    "collapsed": false,
    "pycharm": {
     "name": "#%%\n"
    }
   }
  },
  {
   "cell_type": "code",
   "execution_count": 3,
   "outputs": [
    {
     "name": "stdout",
     "output_type": "stream",
     "text": [
      "type -  <class 'numpy.ndarray'>\n",
      "shape -  (10,)\n",
      "dimension -  1\n",
      "dtype -  int64\n",
      "\n",
      "data - \n",
      " [0 1 2 3 4 5 6 7 8 9]\n"
     ]
    }
   ],
   "source": [
    "vec = np.arange(10)\n",
    "aryInfo(vec)"
   ],
   "metadata": {
    "collapsed": false,
    "pycharm": {
     "name": "#%%\n"
    }
   }
  },
  {
   "cell_type": "code",
   "execution_count": 4,
   "outputs": [
    {
     "name": "stdout",
     "output_type": "stream",
     "text": [
      "\n",
      "1차원 배열에 대한 전치연산은 가능할까? -  [0 1 2 3 4 5 6 7 8 9]\n",
      "안된다...그런데 방법이 있을까? - \n",
      "\n",
      "type -  <class 'numpy.ndarray'>\n",
      "shape -  (10, 1)\n",
      "dimension -  2\n",
      "dtype -  int64\n",
      "\n",
      "data - \n",
      " [[0]\n",
      " [1]\n",
      " [2]\n",
      " [3]\n",
      " [4]\n",
      " [5]\n",
      " [6]\n",
      " [7]\n",
      " [8]\n",
      " [9]]\n"
     ]
    }
   ],
   "source": [
    "print()\n",
    "print('1차원 배열에 대한 전치연산은 가능할까? - ' , vec.T)\n",
    "print('안된다...그런데 방법이 있을까? - ')\n",
    "print()\n",
    "vec_transpose = vec.reshape(1, 10 ).T\n",
    "aryInfo(vec_transpose)"
   ],
   "metadata": {
    "collapsed": false,
    "pycharm": {
     "name": "#%%\n"
    }
   }
  },
  {
   "cell_type": "code",
   "execution_count": 5,
   "outputs": [
    {
     "data": {
      "text/plain": "array([0, 1, 2, 3, 4, 5, 6, 7, 8, 9])"
     },
     "execution_count": 5,
     "metadata": {},
     "output_type": "execute_result"
    }
   ],
   "source": [
    "vec_transpose.flatten()"
   ],
   "metadata": {
    "collapsed": false,
    "pycharm": {
     "name": "#%%\n"
    }
   }
  },
  {
   "cell_type": "code",
   "execution_count": 10,
   "outputs": [
    {
     "name": "stdout",
     "output_type": "stream",
     "text": [
      "type -  <class 'numpy.ndarray'>\n",
      "shape -  (10,)\n",
      "dimension -  1\n",
      "dtype -  int64\n",
      "\n",
      "data - \n",
      " [0 1 2 3 4 5 6 7 8 9]\n",
      "\n",
      "reshape - \n",
      "type -  <class 'numpy.ndarray'>\n",
      "shape -  (1, 10)\n",
      "dimension -  2\n",
      "dtype -  int64\n",
      "\n",
      "data - \n",
      " [[0 1 2 3 4 5 6 7 8 9]]\n",
      "\n",
      "reshape - \n",
      "type -  <class 'numpy.ndarray'>\n",
      "shape -  (10, 1)\n",
      "dimension -  2\n",
      "dtype -  int64\n",
      "\n",
      "data - \n",
      " [[0]\n",
      " [1]\n",
      " [2]\n",
      " [3]\n",
      " [4]\n",
      " [5]\n",
      " [6]\n",
      " [7]\n",
      " [8]\n",
      " [9]]\n",
      "\n",
      "reshape 이 아닌 차원증가를 위해서는 : newaxis - \n",
      "type -  <class 'numpy.ndarray'>\n",
      "shape -  (1, 10)\n",
      "dimension -  2\n",
      "dtype -  int64\n",
      "\n",
      "data - \n",
      " [[0 1 2 3 4 5 6 7 8 9]]\n",
      "\n",
      "type -  <class 'numpy.ndarray'>\n",
      "shape -  (10, 1)\n",
      "dimension -  2\n",
      "dtype -  int64\n",
      "\n",
      "data - \n",
      " [[0]\n",
      " [1]\n",
      " [2]\n",
      " [3]\n",
      " [4]\n",
      " [5]\n",
      " [6]\n",
      " [7]\n",
      " [8]\n",
      " [9]]\n"
     ]
    }
   ],
   "source": [
    "ary = np.arange(10)\n",
    "aryInfo(ary)\n",
    "\n",
    "print()\n",
    "print('reshape - ')\n",
    "aryInfo(ary.reshape(1,10))\n",
    "\n",
    "print()\n",
    "print('reshape - ')\n",
    "aryInfo(ary.reshape(10,1))\n",
    "\n",
    "print()\n",
    "print('reshape 이 아닌 차원증가를 위해서는 : newaxis - ')\n",
    "aryInfo( ary[ np.newaxis , : ] )\n",
    "\n",
    "print()\n",
    "aryInfo( ary[ : ,  np.newaxis ] )"
   ],
   "metadata": {
    "collapsed": false,
    "pycharm": {
     "name": "#%%\n"
    }
   }
  },
  {
   "cell_type": "code",
   "execution_count": 11,
   "outputs": [
    {
     "data": {
      "text/plain": "array([0, 1, 2, 3, 4, 5, 6, 7, 8, 9])"
     },
     "execution_count": 11,
     "metadata": {},
     "output_type": "execute_result"
    }
   ],
   "source": [
    "ary = np.arange(10)\n",
    "ary"
   ],
   "metadata": {
    "collapsed": false,
    "pycharm": {
     "name": "#%%\n"
    }
   }
  },
  {
   "cell_type": "code",
   "execution_count": 12,
   "outputs": [
    {
     "name": "stdout",
     "output_type": "stream",
     "text": [
      "0\t1\t2\t3\t4\t5\t6\t7\t8\t9\t"
     ]
    }
   ],
   "source": [
    "for tmp in ary :\n",
    "    print(tmp, end='\\t')"
   ],
   "metadata": {
    "collapsed": false,
    "pycharm": {
     "name": "#%%\n"
    }
   }
  },
  {
   "cell_type": "code",
   "execution_count": 13,
   "outputs": [
    {
     "name": "stdout",
     "output_type": "stream",
     "text": [
      "1차원 ndarray 대한 iterator - \n",
      "idx -  0 0\n",
      "idx -  1 1\n",
      "idx -  2 2\n",
      "idx -  3 3\n",
      "idx -  4 4\n",
      "idx -  5 5\n",
      "idx -  6 6\n",
      "idx -  7 7\n",
      "idx -  8 8\n",
      "idx -  9 9\n"
     ]
    }
   ],
   "source": [
    "print('1차원 ndarray 대한 iterator - ')\n",
    "\n",
    "ite = np.nditer(ary , flags = ['c_index'] )\n",
    "\n",
    "while not ite.finished :\n",
    "    idx = ite.index\n",
    "    print('idx - ' , idx , ary[idx])\n",
    "    ite.iternext()"
   ],
   "metadata": {
    "collapsed": false,
    "pycharm": {
     "name": "#%%\n"
    }
   }
  },
  {
   "cell_type": "code",
   "execution_count": 14,
   "outputs": [
    {
     "data": {
      "text/plain": "array([[0, 1, 2, 3, 4],\n       [5, 6, 7, 8, 9]])"
     },
     "execution_count": 14,
     "metadata": {},
     "output_type": "execute_result"
    }
   ],
   "source": [
    "ary_reshape = ary.reshape(2,5)\n",
    "ary_reshape"
   ],
   "metadata": {
    "collapsed": false,
    "pycharm": {
     "name": "#%%\n"
    }
   }
  },
  {
   "cell_type": "code",
   "execution_count": null,
   "outputs": [],
   "source": [],
   "metadata": {
    "collapsed": false,
    "pycharm": {
     "name": "#%%\n"
    }
   }
  },
  {
   "cell_type": "code",
   "execution_count": null,
   "outputs": [],
   "source": [],
   "metadata": {
    "collapsed": false,
    "pycharm": {
     "name": "#%%\n"
    }
   }
  }
 ],
 "metadata": {
  "kernelspec": {
   "display_name": "Python 3",
   "language": "python",
   "name": "python3"
  },
  "language_info": {
   "codemirror_mode": {
    "name": "ipython",
    "version": 2
   },
   "file_extension": ".py",
   "mimetype": "text/x-python",
   "name": "python",
   "nbconvert_exporter": "python",
   "pygments_lexer": "ipython2",
   "version": "2.7.6"
  }
 },
 "nbformat": 4,
 "nbformat_minor": 0
}