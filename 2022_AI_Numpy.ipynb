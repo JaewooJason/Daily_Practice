{
 "cells": [
  {
   "cell_type": "code",
   "execution_count": 1,
   "metadata": {
    "collapsed": true
   },
   "outputs": [
    {
     "data": {
      "text/plain": "'1.20.3'"
     },
     "execution_count": 1,
     "metadata": {},
     "output_type": "execute_result"
    }
   ],
   "source": [
    "import numpy as np\n",
    "np.__version__"
   ]
  },
  {
   "cell_type": "code",
   "execution_count": 5,
   "outputs": [],
   "source": [
    "def aryInfo(ary) :\n",
    "    print('type - ' , type(ary))\n",
    "    print('shape - ' , ary.shape)\n",
    "    print('dimension - ' , ary.ndim)\n",
    "    print('dtype - ' , ary.dtype)\n",
    "    print()\n",
    "    print('data - \\n' , ary)"
   ],
   "metadata": {
    "collapsed": false,
    "pycharm": {
     "name": "#%%\n"
    }
   }
  },
  {
   "cell_type": "code",
   "execution_count": 3,
   "outputs": [
    {
     "name": "stdout",
     "output_type": "stream",
     "text": [
      "type -  <class 'numpy.ndarray'>\n",
      "shape -  (10,)\n",
      "dimension -  1\n",
      "dtype -  int64\n",
      "\n",
      "data - \n",
      " [0 1 2 3 4 5 6 7 8 9]\n"
     ]
    }
   ],
   "source": [
    "oneAry = np.array([0,1,2,3,4,5,6,7,8,9])\n",
    "aryInfo(oneAry)"
   ],
   "metadata": {
    "collapsed": false,
    "pycharm": {
     "name": "#%%\n"
    }
   }
  },
  {
   "cell_type": "code",
   "execution_count": 4,
   "outputs": [
    {
     "data": {
      "text/plain": "[0, 1, 2, 3, 4, 5, 6, 7, 8, 9, 0, 1, 2, 3, 4, 5, 6, 7, 8, 9]"
     },
     "execution_count": 4,
     "metadata": {},
     "output_type": "execute_result"
    }
   ],
   "source": [
    "data = [0,1,2,3,4,5,6,7,8,9]\n",
    "data * 2"
   ],
   "metadata": {
    "collapsed": false,
    "pycharm": {
     "name": "#%%\n"
    }
   }
  },
  {
   "cell_type": "code",
   "execution_count": 5,
   "outputs": [
    {
     "name": "stdout",
     "output_type": "stream",
     "text": [
      "[0, 2, 4, 6, 8, 10, 12, 14, 16, 18]\n"
     ]
    }
   ],
   "source": [
    "result = []\n",
    "\n",
    "for d in data :\n",
    "    result.append(d * 2)\n",
    "\n",
    "print(result)"
   ],
   "metadata": {
    "collapsed": false,
    "pycharm": {
     "name": "#%%\n"
    }
   }
  },
  {
   "cell_type": "code",
   "execution_count": 6,
   "outputs": [
    {
     "name": "stdout",
     "output_type": "stream",
     "text": [
      "[0, 2, 4, 6, 8, 10, 12, 14, 16, 18]\n"
     ]
    }
   ],
   "source": [
    "result2 = [d * 2 for d in data]\n",
    "print(result2)"
   ],
   "metadata": {
    "collapsed": false,
    "pycharm": {
     "name": "#%%\n"
    }
   }
  },
  {
   "cell_type": "code",
   "execution_count": 7,
   "outputs": [
    {
     "name": "stdout",
     "output_type": "stream",
     "text": [
      "[ 0  2  4  6  8 10 12 14 16 18]\n"
     ]
    }
   ],
   "source": [
    "result3 = oneAry * 2\n",
    "print(result3)"
   ],
   "metadata": {
    "collapsed": false,
    "pycharm": {
     "name": "#%%\n"
    }
   }
  },
  {
   "cell_type": "code",
   "execution_count": 6,
   "outputs": [
    {
     "name": "stdout",
     "output_type": "stream",
     "text": [
      "<class 'list'> <class 'list'>\n"
     ]
    }
   ],
   "source": [
    "data01 = [1, 2, 3, 4, 5]\n",
    "data02 = [10, 20, 30, 40, 50]\n",
    "\n",
    "print(type(data01) , type(data02))"
   ],
   "metadata": {
    "collapsed": false,
    "pycharm": {
     "name": "#%%\n"
    }
   }
  },
  {
   "cell_type": "code",
   "execution_count": 7,
   "outputs": [
    {
     "name": "stdout",
     "output_type": "stream",
     "text": [
      "<class 'numpy.ndarray'> <class 'numpy.ndarray'>\n"
     ]
    }
   ],
   "source": [
    "xAry = np.array(data01)\n",
    "yAry = np.array(data02)\n",
    "\n",
    "print(type(xAry) , type(yAry))"
   ],
   "metadata": {
    "collapsed": false,
    "pycharm": {
     "name": "#%%\n"
    }
   }
  },
  {
   "cell_type": "code",
   "execution_count": 8,
   "outputs": [
    {
     "name": "stdout",
     "output_type": "stream",
     "text": [
      "산술연산 - \n",
      "type -  <class 'numpy.ndarray'>\n",
      "shape -  (5,)\n",
      "dimension -  1\n",
      "dtype -  int64\n",
      "\n",
      "data - \n",
      " [11 22 33 44 55]\n",
      "\n",
      "type -  <class 'numpy.ndarray'>\n",
      "shape -  (5,)\n",
      "dimension -  1\n",
      "dtype -  int64\n",
      "\n",
      "data - \n",
      " [12 24 36 48 60]\n"
     ]
    }
   ],
   "source": [
    "print('산술연산 - ')\n",
    "\n",
    "aryInfo(xAry + yAry)\n",
    "\n",
    "print()\n",
    "aryInfo(2 * xAry + yAry)"
   ],
   "metadata": {
    "collapsed": false,
    "pycharm": {
     "name": "#%%\n"
    }
   }
  },
  {
   "cell_type": "code",
   "execution_count": 9,
   "outputs": [
    {
     "name": "stdout",
     "output_type": "stream",
     "text": [
      "비교 연산 - boolean masking\n",
      "[False  True False False False]\n",
      "\n",
      "type -  <class 'numpy.ndarray'>\n",
      "shape -  (5,)\n",
      "dimension -  1\n",
      "dtype -  bool\n",
      "\n",
      "data - \n",
      " [False  True False False False]\n"
     ]
    }
   ],
   "source": [
    "print('비교 연산 - boolean masking')\n",
    "\n",
    "print( xAry == 2 )\n",
    "print()\n",
    "aryInfo(xAry == 2 )"
   ],
   "metadata": {
    "collapsed": false,
    "pycharm": {
     "name": "#%%\n"
    }
   }
  },
  {
   "cell_type": "code",
   "execution_count": 10,
   "outputs": [
    {
     "name": "stdout",
     "output_type": "stream",
     "text": [
      "비교 연산 - boolean masking\n",
      "[False  True  True  True  True]\n",
      "\n",
      "type -  <class 'numpy.ndarray'>\n",
      "shape -  (5,)\n",
      "dimension -  1\n",
      "dtype -  bool\n",
      "\n",
      "data - \n",
      " [False  True  True  True  True]\n"
     ]
    }
   ],
   "source": [
    "print('비교 연산 - boolean masking')\n",
    "\n",
    "print( yAry > 10 )\n",
    "print()\n",
    "aryInfo( yAry > 10 )"
   ],
   "metadata": {
    "collapsed": false,
    "pycharm": {
     "name": "#%%\n"
    }
   }
  },
  {
   "cell_type": "code",
   "execution_count": 12,
   "outputs": [
    {
     "name": "stdout",
     "output_type": "stream",
     "text": [
      "논리 연산 - \n",
      "[False  True  True  True  True]\n",
      "\n",
      "type -  <class 'numpy.ndarray'>\n",
      "shape -  (5,)\n",
      "dimension -  1\n",
      "dtype -  bool\n",
      "\n",
      "data - \n",
      " [False  True  True  True  True]\n"
     ]
    }
   ],
   "source": [
    "print('논리 연산 - ')\n",
    "print( (xAry == 2) | (yAry > 10) )\n",
    "print()\n",
    "aryInfo( (xAry == 2) | (yAry > 10) )"
   ],
   "metadata": {
    "collapsed": false,
    "pycharm": {
     "name": "#%%\n"
    }
   }
  },
  {
   "cell_type": "code",
   "execution_count": 11,
   "outputs": [
    {
     "name": "stdout",
     "output_type": "stream",
     "text": [
      "2개의 행과 3개의 열을 갖는 배열을 만든다면 ? - \n",
      "\n",
      "type -  <class 'numpy.ndarray'>\n",
      "shape -  (2, 3)\n",
      "dimension -  2\n",
      "dtype -  float64\n",
      "\n",
      "data - \n",
      " [[1. 2. 3.]\n",
      " [4. 5. 6.]]\n",
      "\n",
      "len() - \n",
      "len() 행의 갯수 -  2\n",
      "len() 행의 요소의 갯수, 즉 열을 의미한다 -   3\n",
      "len() 행의 요소의 갯수, 즉 열을 의미한다 -   3\n"
     ]
    }
   ],
   "source": [
    "print('2개의 행과 3개의 열을 갖는 배열을 만든다면 ? - ')\n",
    "twoAry = np.array([[1,2,3],[4,5,6]] , dtype = np.float64)\n",
    "\n",
    "\n",
    "print()\n",
    "aryInfo(twoAry)\n",
    "\n",
    "print()\n",
    "print('len() - ')\n",
    "print('len() 행의 갯수 - ' ,  len(twoAry))\n",
    "print('len() 행의 요소의 갯수, 즉 열을 의미한다 -  ' , len(twoAry[0]))\n",
    "print('len() 행의 요소의 갯수, 즉 열을 의미한다 -  ' , len(twoAry[1]))"
   ],
   "metadata": {
    "collapsed": false,
    "pycharm": {
     "name": "#%%\n"
    }
   }
  },
  {
   "cell_type": "code",
   "execution_count": 12,
   "outputs": [
    {
     "name": "stdout",
     "output_type": "stream",
     "text": [
      "3차원 - 3 * 4 2개의 레이어 - \n",
      "\n",
      "type -  <class 'numpy.ndarray'>\n",
      "shape -  (2, 3, 4)\n",
      "dimension -  3\n",
      "dtype -  int64\n",
      "\n",
      "data - \n",
      " [[[ 1  2  3  4]\n",
      "  [ 5  6  7  8]\n",
      "  [ 9 10 11 12]]\n",
      "\n",
      " [[13 14 15 16]\n",
      "  [17 18 19 20]\n",
      "  [21 22 23 24]]]\n",
      "\n",
      "len() - depth 2\n",
      "len() -  3\n",
      "len() -  3\n",
      "row col -  4\n"
     ]
    }
   ],
   "source": [
    "print('3차원 - 3 * 4 2개의 레이어 - ')\n",
    "threeAry = np.array([ [ [1,2,3,4], [5,6,7,8], [9,10,11,12] ], [ [13,14,15,16], [17,18,19,20], [21,22,23,24] ]])\n",
    "print()\n",
    "aryInfo(threeAry)\n",
    "\n",
    "print()\n",
    "print('len() - depth' , len(threeAry))\n",
    "print('len() - ' , len(threeAry[0]))\n",
    "print('len() - ' , len(threeAry[1]))\n",
    "print('row col - ' , len(threeAry[0][0] ))"
   ],
   "metadata": {
    "collapsed": false,
    "pycharm": {
     "name": "#%%\n"
    }
   }
  },
  {
   "cell_type": "code",
   "execution_count": 13,
   "outputs": [
    {
     "name": "stdout",
     "output_type": "stream",
     "text": [
      "type -  <class 'numpy.ndarray'>\n",
      "shape -  (2, 3, 4)\n",
      "dimension -  3\n",
      "dtype -  float64\n",
      "\n",
      "data - \n",
      " [[[ 1.  2.  3.  4.]\n",
      "  [ 5.  6.  7.  8.]\n",
      "  [ 9. 10. 11. 12.]]\n",
      "\n",
      " [[13. 14. 15. 16.]\n",
      "  [17. 18. 19. 20.]\n",
      "  [21. 22. 23. 24.]]]\n"
     ]
    }
   ],
   "source": [
    "typeChange = threeAry.astype(np.float64)\n",
    "aryInfo(typeChange)"
   ],
   "metadata": {
    "collapsed": false,
    "pycharm": {
     "name": "#%%\n"
    }
   }
  },
  {
   "cell_type": "code",
   "execution_count": 14,
   "outputs": [
    {
     "name": "stdout",
     "output_type": "stream",
     "text": [
      "type -  <class 'numpy.ndarray'>\n",
      "shape -  (9,)\n",
      "dimension -  1\n",
      "dtype -  int64\n",
      "\n",
      "data - \n",
      " [1 2 3 4 5 6 7 8 9]\n"
     ]
    }
   ],
   "source": [
    "idxAry = np.array([1,2,3,4,5,6,7,8,9])\n",
    "aryInfo(idxAry)"
   ],
   "metadata": {
    "collapsed": false,
    "pycharm": {
     "name": "#%%\n"
    }
   }
  },
  {
   "cell_type": "code",
   "execution_count": 15,
   "outputs": [
    {
     "name": "stdout",
     "output_type": "stream",
     "text": [
      "indexing - \n",
      "1\n",
      "2\n"
     ]
    }
   ],
   "source": [
    "print('indexing - ')\n",
    "print(idxAry[0])\n",
    "print(idxAry[1])"
   ],
   "metadata": {
    "collapsed": false,
    "pycharm": {
     "name": "#%%\n"
    }
   }
  },
  {
   "cell_type": "code",
   "execution_count": 20,
   "outputs": [
    {
     "name": "stdout",
     "output_type": "stream",
     "text": [
      "type -  <class 'numpy.ndarray'>\n",
      "shape -  (2, 3)\n",
      "dimension -  2\n",
      "dtype -  float64\n",
      "\n",
      "data - \n",
      " [[1. 2. 3.]\n",
      " [4. 5. 6.]]\n",
      "\n",
      "첫번째 행의 첫번째 열의 값 - \n",
      "1.0\n",
      "\n",
      "마지막 행의 마지막 열 - \n",
      "6.0\n",
      "\n",
      "첫번째 행의 전체 - \n",
      "[1. 2. 3.]\n",
      "\n",
      "첫번째 행의 두번째부터 끝까지 - \n",
      "[2. 3.]\n",
      "\n",
      "행이 아닌 y 축의 값을 구할 때 - \n",
      "[2. 5.]\n"
     ]
    }
   ],
   "source": [
    "aryInfo(twoAry)\n",
    "\n",
    "print()\n",
    "print('첫번째 행의 첫번째 열의 값 - ')\n",
    "print(twoAry[0 , 0])\n",
    "print()\n",
    "print('마지막 행의 마지막 열 - ')\n",
    "print(twoAry[-1, -1])\n",
    "\n",
    "print()\n",
    "print('첫번째 행의 전체 - ')\n",
    "print(twoAry[0, : ])\n",
    "\n",
    "print()\n",
    "print('첫번째 행의 두번째부터 끝까지 - ')\n",
    "print(twoAry[0 , 1 : ])\n",
    "\n",
    "\n",
    "print()\n",
    "print('행이 아닌 y 축의 값을 구할 때 - ')\n",
    "print(twoAry[ : , 1])"
   ],
   "metadata": {
    "collapsed": false,
    "pycharm": {
     "name": "#%%\n"
    }
   }
  },
  {
   "cell_type": "code",
   "execution_count": 21,
   "outputs": [
    {
     "name": "stdout",
     "output_type": "stream",
     "text": [
      "type -  <class 'numpy.ndarray'>\n",
      "shape -  (3, 5)\n",
      "dimension -  2\n",
      "dtype -  int64\n",
      "\n",
      "data - \n",
      " [[ 0  1  2  3  4]\n",
      " [ 5  6  7  8  9]\n",
      " [10 11 12 13 14]]\n"
     ]
    }
   ],
   "source": [
    "matrixAry = np.array([[0,1,2,3,4],[5,6,7,8,9],[10,11,12,13,14]])\n",
    "aryInfo(matrixAry)"
   ],
   "metadata": {
    "collapsed": false,
    "pycharm": {
     "name": "#%%\n"
    }
   }
  },
  {
   "cell_type": "code",
   "execution_count": 25,
   "outputs": [
    {
     "name": "stdout",
     "output_type": "stream",
     "text": [
      "이 행렬에서 값 7 을 인덱싱한다. -  7\n",
      "이 행렬에서 값 14 을 인덱싱한다. -  14\n",
      "이 행렬에서 배열 [6, 7] 을 슬라이싱한다. -  [6 7] <class 'numpy.ndarray'>\n",
      "이 행렬에서 배열 [7, 12] 을 슬라이싱한다. -  [ 7 12]\n",
      "이 행렬에서 배열 [[3, 4], [8, 9]] 을 슬라이싱한다. -  [[3 4]\n",
      " [8 9]] <class 'numpy.ndarray'> 2\n"
     ]
    }
   ],
   "source": [
    "print('이 행렬에서 값 7 을 인덱싱한다. - ' , matrixAry[ 1 , 2 ])\n",
    "print('이 행렬에서 값 14 을 인덱싱한다. - ', matrixAry[ -1 , -1 ])\n",
    "print('이 행렬에서 배열 [6, 7] 을 슬라이싱한다. - ' , matrixAry[ 1 , 1:3 ] , type(matrixAry[ 1 , 1:3 ]))\n",
    "print('이 행렬에서 배열 [7, 12] 을 슬라이싱한다. - ', matrixAry[ 1:3 , 2 ])\n",
    "print('이 행렬에서 배열 [[3, 4], [8, 9]] 을 슬라이싱한다. - ' ,   matrixAry[ 0:2 , 3:5 ] ,\n",
    "                                                                  type(matrixAry[ 0:2 , 3:5 ]) ,\n",
    "                                                                  matrixAry[ 0:2 , 3:5 ].ndim)"
   ],
   "metadata": {
    "collapsed": false,
    "pycharm": {
     "name": "#%%\n"
    }
   }
  },
  {
   "cell_type": "code",
   "execution_count": 26,
   "outputs": [
    {
     "name": "stdout",
     "output_type": "stream",
     "text": [
      "type -  <class 'numpy.ndarray'>\n",
      "shape -  (10,)\n",
      "dimension -  1\n",
      "dtype -  int64\n",
      "\n",
      "data - \n",
      " [0 1 2 3 4 5 6 7 8 9]\n"
     ]
    }
   ],
   "source": [
    "ary = np.array([0,1,2,3,4,5,6,7,8,9])\n",
    "aryInfo(ary)"
   ],
   "metadata": {
    "collapsed": false,
    "pycharm": {
     "name": "#%%\n"
    }
   }
  },
  {
   "cell_type": "code",
   "execution_count": null,
   "outputs": [],
   "source": [],
   "metadata": {
    "collapsed": false,
    "pycharm": {
     "name": "#%%\n"
    }
   }
  },
  {
   "cell_type": "code",
   "execution_count": null,
   "outputs": [],
   "source": [],
   "metadata": {
    "collapsed": false,
    "pycharm": {
     "name": "#%%\n"
    }
   }
  },
  {
   "cell_type": "code",
   "execution_count": null,
   "outputs": [],
   "source": [],
   "metadata": {
    "collapsed": false,
    "pycharm": {
     "name": "#%%\n"
    }
   }
  },
  {
   "cell_type": "code",
   "execution_count": null,
   "outputs": [],
   "source": [],
   "metadata": {
    "collapsed": false,
    "pycharm": {
     "name": "#%%\n"
    }
   }
  },
  {
   "cell_type": "code",
   "execution_count": null,
   "outputs": [],
   "source": [],
   "metadata": {
    "collapsed": false,
    "pycharm": {
     "name": "#%%\n"
    }
   }
  },
  {
   "cell_type": "code",
   "execution_count": null,
   "outputs": [],
   "source": [],
   "metadata": {
    "collapsed": false,
    "pycharm": {
     "name": "#%%\n"
    }
   }
  },
  {
   "cell_type": "code",
   "execution_count": null,
   "outputs": [],
   "source": [],
   "metadata": {
    "collapsed": false,
    "pycharm": {
     "name": "#%%\n"
    }
   }
  },
  {
   "cell_type": "code",
   "execution_count": null,
   "outputs": [],
   "source": [],
   "metadata": {
    "collapsed": false,
    "pycharm": {
     "name": "#%%\n"
    }
   }
  },
  {
   "cell_type": "code",
   "execution_count": null,
   "outputs": [],
   "source": [],
   "metadata": {
    "collapsed": false,
    "pycharm": {
     "name": "#%%\n"
    }
   }
  },
  {
   "cell_type": "code",
   "execution_count": null,
   "outputs": [],
   "source": [],
   "metadata": {
    "collapsed": false,
    "pycharm": {
     "name": "#%%\n"
    }
   }
  },
  {
   "cell_type": "code",
   "execution_count": null,
   "outputs": [],
   "source": [],
   "metadata": {
    "collapsed": false,
    "pycharm": {
     "name": "#%%\n"
    }
   }
  },
  {
   "cell_type": "code",
   "execution_count": null,
   "outputs": [],
   "source": [],
   "metadata": {
    "collapsed": false,
    "pycharm": {
     "name": "#%%\n"
    }
   }
  },
  {
   "cell_type": "code",
   "execution_count": null,
   "outputs": [],
   "source": [],
   "metadata": {
    "collapsed": false,
    "pycharm": {
     "name": "#%%\n"
    }
   }
  },
  {
   "cell_type": "code",
   "execution_count": null,
   "outputs": [],
   "source": [],
   "metadata": {
    "collapsed": false,
    "pycharm": {
     "name": "#%%\n"
    }
   }
  }
 ],
 "metadata": {
  "kernelspec": {
   "display_name": "Python 3",
   "language": "python",
   "name": "python3"
  },
  "language_info": {
   "codemirror_mode": {
    "name": "ipython",
    "version": 2
   },
   "file_extension": ".py",
   "mimetype": "text/x-python",
   "name": "python",
   "nbconvert_exporter": "python",
   "pygments_lexer": "ipython2",
   "version": "2.7.6"
  }
 },
 "nbformat": 4,
 "nbformat_minor": 0
}