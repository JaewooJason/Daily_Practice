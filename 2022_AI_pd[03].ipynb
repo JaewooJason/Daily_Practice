{
 "cells": [
  {
   "cell_type": "code",
   "execution_count": 1,
   "metadata": {
    "collapsed": true
   },
   "outputs": [
    {
     "name": "stdout",
     "output_type": "stream",
     "text": [
      "numpy  version -  1.20.3\n",
      "pandas version -  1.3.4\n"
     ]
    }
   ],
   "source": [
    "import numpy  as np\n",
    "import pandas as pd\n",
    "\n",
    "import warnings\n",
    "warnings.filterwarnings(action='ignore')\n",
    "\n",
    "from datetime import date, datetime, timedelta\n",
    "from dateutil.parser import parse\n",
    "\n",
    "import json\n",
    "import urllib\n",
    "\n",
    "# titanic dataset\n",
    "import seaborn as sns\n",
    "\n",
    "# 비정형 데이터 처리를 위한 라이브러리\n",
    "from bs4 import BeautifulSoup\n",
    "import requests\n",
    "import re\n",
    "\n",
    "\n",
    "\n",
    "print('numpy  version - ' , np.__version__)\n",
    "print('pandas version - ' , pd.__version__)"
   ]
  },
  {
   "cell_type": "code",
   "execution_count": 2,
   "outputs": [],
   "source": [
    "def seriesInfo(s) :\n",
    "    print('series : index + values \\n' , s)\n",
    "    print('index  - ' , s.index  , type(s.index))\n",
    "    print('values - ' , s.values , type(s.values))\n",
    "\n",
    "def frmInfo(df) :\n",
    "    display('data - ' , df )\n",
    "    print()\n",
    "    print('shape   - ' , df.shape , df.shape[0] , df.shape[1])\n",
    "    print('size    - ' , df.size )\n",
    "    print('ndim    - ' , df.ndim)\n",
    "    print('index   - ' , df.index    , type(df.index))\n",
    "    print('columns - ' , df.columns  , type( df.columns ))\n",
    "    print('values  - \\n' , df.values , type(df.values) )"
   ],
   "metadata": {
    "collapsed": false,
    "pycharm": {
     "name": "#%%\n"
    }
   }
  },
  {
   "cell_type": "code",
   "execution_count": 3,
   "outputs": [
    {
     "data": {
      "text/plain": "'data - '"
     },
     "metadata": {},
     "output_type": "display_data"
    },
    {
     "data": {
      "text/plain": "   c0  c1  c2  c3\n0   0   1   4   7\n1   1   2   5   8\n2   2   3   6   9",
      "text/html": "<div>\n<style scoped>\n    .dataframe tbody tr th:only-of-type {\n        vertical-align: middle;\n    }\n\n    .dataframe tbody tr th {\n        vertical-align: top;\n    }\n\n    .dataframe thead th {\n        text-align: right;\n    }\n</style>\n<table border=\"1\" class=\"dataframe\">\n  <thead>\n    <tr style=\"text-align: right;\">\n      <th></th>\n      <th>c0</th>\n      <th>c1</th>\n      <th>c2</th>\n      <th>c3</th>\n    </tr>\n  </thead>\n  <tbody>\n    <tr>\n      <th>0</th>\n      <td>0</td>\n      <td>1</td>\n      <td>4</td>\n      <td>7</td>\n    </tr>\n    <tr>\n      <th>1</th>\n      <td>1</td>\n      <td>2</td>\n      <td>5</td>\n      <td>8</td>\n    </tr>\n    <tr>\n      <th>2</th>\n      <td>2</td>\n      <td>3</td>\n      <td>6</td>\n      <td>9</td>\n    </tr>\n  </tbody>\n</table>\n</div>"
     },
     "metadata": {},
     "output_type": "display_data"
    },
    {
     "name": "stdout",
     "output_type": "stream",
     "text": [
      "\n",
      "shape   -  (3, 4) 3 4\n",
      "size    -  12\n",
      "ndim    -  2\n",
      "index   -  RangeIndex(start=0, stop=3, step=1) <class 'pandas.core.indexes.range.RangeIndex'>\n",
      "columns -  Index(['c0', 'c1', 'c2', 'c3'], dtype='object') <class 'pandas.core.indexes.base.Index'>\n",
      "values  - \n",
      " [[0 1 4 7]\n",
      " [1 2 5 8]\n",
      " [2 3 6 9]] <class 'numpy.ndarray'>\n"
     ]
    }
   ],
   "source": [
    "tmp_frm = pd.read_csv('/Users/choijaewoo/pandas_data/read_csv_sample.csv')\n",
    "frmInfo(tmp_frm)"
   ],
   "metadata": {
    "collapsed": false,
    "pycharm": {
     "name": "#%%\n"
    }
   }
  },
  {
   "cell_type": "code",
   "execution_count": 4,
   "outputs": [
    {
     "data": {
      "text/plain": "'data - '"
     },
     "metadata": {},
     "output_type": "display_data"
    },
    {
     "data": {
      "text/plain": "    0   1   2   3\n0  c0  c1  c2  c3\n1   0   1   4   7\n2   1   2   5   8\n3   2   3   6   9",
      "text/html": "<div>\n<style scoped>\n    .dataframe tbody tr th:only-of-type {\n        vertical-align: middle;\n    }\n\n    .dataframe tbody tr th {\n        vertical-align: top;\n    }\n\n    .dataframe thead th {\n        text-align: right;\n    }\n</style>\n<table border=\"1\" class=\"dataframe\">\n  <thead>\n    <tr style=\"text-align: right;\">\n      <th></th>\n      <th>0</th>\n      <th>1</th>\n      <th>2</th>\n      <th>3</th>\n    </tr>\n  </thead>\n  <tbody>\n    <tr>\n      <th>0</th>\n      <td>c0</td>\n      <td>c1</td>\n      <td>c2</td>\n      <td>c3</td>\n    </tr>\n    <tr>\n      <th>1</th>\n      <td>0</td>\n      <td>1</td>\n      <td>4</td>\n      <td>7</td>\n    </tr>\n    <tr>\n      <th>2</th>\n      <td>1</td>\n      <td>2</td>\n      <td>5</td>\n      <td>8</td>\n    </tr>\n    <tr>\n      <th>3</th>\n      <td>2</td>\n      <td>3</td>\n      <td>6</td>\n      <td>9</td>\n    </tr>\n  </tbody>\n</table>\n</div>"
     },
     "metadata": {},
     "output_type": "display_data"
    },
    {
     "name": "stdout",
     "output_type": "stream",
     "text": [
      "\n",
      "shape   -  (4, 4) 4 4\n",
      "size    -  16\n",
      "ndim    -  2\n",
      "index   -  RangeIndex(start=0, stop=4, step=1) <class 'pandas.core.indexes.range.RangeIndex'>\n",
      "columns -  Int64Index([0, 1, 2, 3], dtype='int64') <class 'pandas.core.indexes.numeric.Int64Index'>\n",
      "values  - \n",
      " [['c0' 'c1' 'c2' 'c3']\n",
      " ['0' '1' '4' '7']\n",
      " ['1' '2' '5' '8']\n",
      " ['2' '3' '6' '9']] <class 'numpy.ndarray'>\n"
     ]
    }
   ],
   "source": [
    "tmp_frm = pd.read_csv('/Users/choijaewoo/pandas_data/read_csv_sample.csv' , header = None)\n",
    "frmInfo(tmp_frm)"
   ],
   "metadata": {
    "collapsed": false,
    "pycharm": {
     "name": "#%%\n"
    }
   }
  },
  {
   "cell_type": "code",
   "execution_count": 5,
   "outputs": [
    {
     "data": {
      "text/plain": "'data - '"
     },
     "metadata": {},
     "output_type": "display_data"
    },
    {
     "data": {
      "text/plain": "    c1  c2  c3\nc0            \n0    1   4   7\n1    2   5   8\n2    3   6   9",
      "text/html": "<div>\n<style scoped>\n    .dataframe tbody tr th:only-of-type {\n        vertical-align: middle;\n    }\n\n    .dataframe tbody tr th {\n        vertical-align: top;\n    }\n\n    .dataframe thead th {\n        text-align: right;\n    }\n</style>\n<table border=\"1\" class=\"dataframe\">\n  <thead>\n    <tr style=\"text-align: right;\">\n      <th></th>\n      <th>c1</th>\n      <th>c2</th>\n      <th>c3</th>\n    </tr>\n    <tr>\n      <th>c0</th>\n      <th></th>\n      <th></th>\n      <th></th>\n    </tr>\n  </thead>\n  <tbody>\n    <tr>\n      <th>0</th>\n      <td>1</td>\n      <td>4</td>\n      <td>7</td>\n    </tr>\n    <tr>\n      <th>1</th>\n      <td>2</td>\n      <td>5</td>\n      <td>8</td>\n    </tr>\n    <tr>\n      <th>2</th>\n      <td>3</td>\n      <td>6</td>\n      <td>9</td>\n    </tr>\n  </tbody>\n</table>\n</div>"
     },
     "metadata": {},
     "output_type": "display_data"
    },
    {
     "name": "stdout",
     "output_type": "stream",
     "text": [
      "\n",
      "shape   -  (3, 3) 3 3\n",
      "size    -  9\n",
      "ndim    -  2\n",
      "index   -  Int64Index([0, 1, 2], dtype='int64', name='c0') <class 'pandas.core.indexes.numeric.Int64Index'>\n",
      "columns -  Index(['c1', 'c2', 'c3'], dtype='object') <class 'pandas.core.indexes.base.Index'>\n",
      "values  - \n",
      " [[1 4 7]\n",
      " [2 5 8]\n",
      " [3 6 9]] <class 'numpy.ndarray'>\n"
     ]
    }
   ],
   "source": [
    "tmp_frm = pd.read_csv('/Users/choijaewoo/pandas_data/read_csv_sample.csv' , index_col = 'c0')\n",
    "frmInfo(tmp_frm)"
   ],
   "metadata": {
    "collapsed": false,
    "pycharm": {
     "name": "#%%\n"
    }
   }
  },
  {
   "cell_type": "code",
   "execution_count": 6,
   "outputs": [
    {
     "data": {
      "text/plain": "'data - '"
     },
     "metadata": {},
     "output_type": "display_data"
    },
    {
     "data": {
      "text/plain": "          0       1     2     3     4     5     6     7     8     9   ...  \\\n0  전력량 (억㎾h)  발전 전력별  1990  1991  1992  1993  1994  1995  1996  1997  ...   \n1         남한      합계  1077  1186  1310  1444  1650  1847  2055  2244  ...   \n2        NaN      수력    64    51    49    60    41    55    52    54  ...   \n3        NaN      화력   484   573   696   803  1022  1122  1264  1420  ...   \n4        NaN     원자력   529   563   565   581   587   670   739   771  ...   \n5        NaN     신재생     -     -     -     -     -     -     -     -  ...   \n6         북한      합계   277   263   247   221   231   230   213   193  ...   \n7        NaN      수력   156   150   142   133   138   142   125   107  ...   \n8        NaN      화력   121   113   105    88    93    88    88    86  ...   \n9        NaN     원자력     -     -     -     -     -     -     -     -  ...   \n\n     19    20    21    22    23    24    25    26    27    28  \n0  2007  2008  2009  2010  2011  2012  2013  2014  2015  2016  \n1  4031  4224  4336  4747  4969  5096  5171  5220  5281  5404  \n2    50    56    56    65    78    77    84    78    58    66  \n3  2551  2658  2802  3196  3343  3430  3581  3427  3402  3523  \n4  1429  1510  1478  1486  1547  1503  1388  1564  1648  1620  \n5     -     -     -     -     -    86   118   151   173   195  \n6   236   255   235   237   211   215   221   216   190   239  \n7   133   141   125   134   132   135   139   130   100   128  \n8   103   114   110   103    79    80    82    86    90   111  \n9     -     -     -     -     -     -     -     -     -     -  \n\n[10 rows x 29 columns]",
      "text/html": "<div>\n<style scoped>\n    .dataframe tbody tr th:only-of-type {\n        vertical-align: middle;\n    }\n\n    .dataframe tbody tr th {\n        vertical-align: top;\n    }\n\n    .dataframe thead th {\n        text-align: right;\n    }\n</style>\n<table border=\"1\" class=\"dataframe\">\n  <thead>\n    <tr style=\"text-align: right;\">\n      <th></th>\n      <th>0</th>\n      <th>1</th>\n      <th>2</th>\n      <th>3</th>\n      <th>4</th>\n      <th>5</th>\n      <th>6</th>\n      <th>7</th>\n      <th>8</th>\n      <th>9</th>\n      <th>...</th>\n      <th>19</th>\n      <th>20</th>\n      <th>21</th>\n      <th>22</th>\n      <th>23</th>\n      <th>24</th>\n      <th>25</th>\n      <th>26</th>\n      <th>27</th>\n      <th>28</th>\n    </tr>\n  </thead>\n  <tbody>\n    <tr>\n      <th>0</th>\n      <td>전력량 (억㎾h)</td>\n      <td>발전 전력별</td>\n      <td>1990</td>\n      <td>1991</td>\n      <td>1992</td>\n      <td>1993</td>\n      <td>1994</td>\n      <td>1995</td>\n      <td>1996</td>\n      <td>1997</td>\n      <td>...</td>\n      <td>2007</td>\n      <td>2008</td>\n      <td>2009</td>\n      <td>2010</td>\n      <td>2011</td>\n      <td>2012</td>\n      <td>2013</td>\n      <td>2014</td>\n      <td>2015</td>\n      <td>2016</td>\n    </tr>\n    <tr>\n      <th>1</th>\n      <td>남한</td>\n      <td>합계</td>\n      <td>1077</td>\n      <td>1186</td>\n      <td>1310</td>\n      <td>1444</td>\n      <td>1650</td>\n      <td>1847</td>\n      <td>2055</td>\n      <td>2244</td>\n      <td>...</td>\n      <td>4031</td>\n      <td>4224</td>\n      <td>4336</td>\n      <td>4747</td>\n      <td>4969</td>\n      <td>5096</td>\n      <td>5171</td>\n      <td>5220</td>\n      <td>5281</td>\n      <td>5404</td>\n    </tr>\n    <tr>\n      <th>2</th>\n      <td>NaN</td>\n      <td>수력</td>\n      <td>64</td>\n      <td>51</td>\n      <td>49</td>\n      <td>60</td>\n      <td>41</td>\n      <td>55</td>\n      <td>52</td>\n      <td>54</td>\n      <td>...</td>\n      <td>50</td>\n      <td>56</td>\n      <td>56</td>\n      <td>65</td>\n      <td>78</td>\n      <td>77</td>\n      <td>84</td>\n      <td>78</td>\n      <td>58</td>\n      <td>66</td>\n    </tr>\n    <tr>\n      <th>3</th>\n      <td>NaN</td>\n      <td>화력</td>\n      <td>484</td>\n      <td>573</td>\n      <td>696</td>\n      <td>803</td>\n      <td>1022</td>\n      <td>1122</td>\n      <td>1264</td>\n      <td>1420</td>\n      <td>...</td>\n      <td>2551</td>\n      <td>2658</td>\n      <td>2802</td>\n      <td>3196</td>\n      <td>3343</td>\n      <td>3430</td>\n      <td>3581</td>\n      <td>3427</td>\n      <td>3402</td>\n      <td>3523</td>\n    </tr>\n    <tr>\n      <th>4</th>\n      <td>NaN</td>\n      <td>원자력</td>\n      <td>529</td>\n      <td>563</td>\n      <td>565</td>\n      <td>581</td>\n      <td>587</td>\n      <td>670</td>\n      <td>739</td>\n      <td>771</td>\n      <td>...</td>\n      <td>1429</td>\n      <td>1510</td>\n      <td>1478</td>\n      <td>1486</td>\n      <td>1547</td>\n      <td>1503</td>\n      <td>1388</td>\n      <td>1564</td>\n      <td>1648</td>\n      <td>1620</td>\n    </tr>\n    <tr>\n      <th>5</th>\n      <td>NaN</td>\n      <td>신재생</td>\n      <td>-</td>\n      <td>-</td>\n      <td>-</td>\n      <td>-</td>\n      <td>-</td>\n      <td>-</td>\n      <td>-</td>\n      <td>-</td>\n      <td>...</td>\n      <td>-</td>\n      <td>-</td>\n      <td>-</td>\n      <td>-</td>\n      <td>-</td>\n      <td>86</td>\n      <td>118</td>\n      <td>151</td>\n      <td>173</td>\n      <td>195</td>\n    </tr>\n    <tr>\n      <th>6</th>\n      <td>북한</td>\n      <td>합계</td>\n      <td>277</td>\n      <td>263</td>\n      <td>247</td>\n      <td>221</td>\n      <td>231</td>\n      <td>230</td>\n      <td>213</td>\n      <td>193</td>\n      <td>...</td>\n      <td>236</td>\n      <td>255</td>\n      <td>235</td>\n      <td>237</td>\n      <td>211</td>\n      <td>215</td>\n      <td>221</td>\n      <td>216</td>\n      <td>190</td>\n      <td>239</td>\n    </tr>\n    <tr>\n      <th>7</th>\n      <td>NaN</td>\n      <td>수력</td>\n      <td>156</td>\n      <td>150</td>\n      <td>142</td>\n      <td>133</td>\n      <td>138</td>\n      <td>142</td>\n      <td>125</td>\n      <td>107</td>\n      <td>...</td>\n      <td>133</td>\n      <td>141</td>\n      <td>125</td>\n      <td>134</td>\n      <td>132</td>\n      <td>135</td>\n      <td>139</td>\n      <td>130</td>\n      <td>100</td>\n      <td>128</td>\n    </tr>\n    <tr>\n      <th>8</th>\n      <td>NaN</td>\n      <td>화력</td>\n      <td>121</td>\n      <td>113</td>\n      <td>105</td>\n      <td>88</td>\n      <td>93</td>\n      <td>88</td>\n      <td>88</td>\n      <td>86</td>\n      <td>...</td>\n      <td>103</td>\n      <td>114</td>\n      <td>110</td>\n      <td>103</td>\n      <td>79</td>\n      <td>80</td>\n      <td>82</td>\n      <td>86</td>\n      <td>90</td>\n      <td>111</td>\n    </tr>\n    <tr>\n      <th>9</th>\n      <td>NaN</td>\n      <td>원자력</td>\n      <td>-</td>\n      <td>-</td>\n      <td>-</td>\n      <td>-</td>\n      <td>-</td>\n      <td>-</td>\n      <td>-</td>\n      <td>-</td>\n      <td>...</td>\n      <td>-</td>\n      <td>-</td>\n      <td>-</td>\n      <td>-</td>\n      <td>-</td>\n      <td>-</td>\n      <td>-</td>\n      <td>-</td>\n      <td>-</td>\n      <td>-</td>\n    </tr>\n  </tbody>\n</table>\n<p>10 rows × 29 columns</p>\n</div>"
     },
     "metadata": {},
     "output_type": "display_data"
    },
    {
     "name": "stdout",
     "output_type": "stream",
     "text": [
      "\n",
      "shape   -  (10, 29) 10 29\n",
      "size    -  290\n",
      "ndim    -  2\n",
      "index   -  RangeIndex(start=0, stop=10, step=1) <class 'pandas.core.indexes.range.RangeIndex'>\n",
      "columns -  Int64Index([ 0,  1,  2,  3,  4,  5,  6,  7,  8,  9, 10, 11, 12, 13, 14, 15, 16,\n",
      "            17, 18, 19, 20, 21, 22, 23, 24, 25, 26, 27, 28],\n",
      "           dtype='int64') <class 'pandas.core.indexes.numeric.Int64Index'>\n",
      "values  - \n",
      " [['전력량 (억㎾h)' '발전 전력별' '1990' '1991' '1992' '1993' '1994' '1995' '1996'\n",
      "  '1997' '1998' '1999' '2000' '2001' '2002' '2003' '2004' '2005' '2006'\n",
      "  '2007' '2008' '2009' '2010' '2011' '2012' '2013' '2014' '2015' '2016']\n",
      " ['남한' '합계' 1077 1186 1310 1444 1650 1847 2055 2244 2153 2393 2664 2852\n",
      "  3065 3225 3421 3646 3812 4031 4224 4336 4747 4969 5096 5171 5220 5281\n",
      "  5404]\n",
      " [nan '수력' 64 51 49 60 41 55 52 54 61 61 56 42 53 69 59 52 52 50 56 56 65\n",
      "  78 77 84 78 58 66]\n",
      " [nan '화력' 484 573 696 803 1022 1122 1264 1420 1195 1302 1518 1689 1821\n",
      "  1859 2056 2127 2272 2551 2658 2802 3196 3343 3430 3581 3427 3402 3523]\n",
      " [nan '원자력' 529 563 565 581 587 670 739 771 897 1031 1090 1121 1191 1297\n",
      "  1307 1468 1487 1429 1510 1478 1486 1547 1503 1388 1564 1648 1620]\n",
      " [nan '신재생' '-' '-' '-' '-' '-' '-' '-' '-' '-' '-' '-' '-' '-' '-' '-'\n",
      "  '-' '-' '-' '-' '-' '-' '-' 86 118 151 173 195]\n",
      " ['북한' '합계' 277 263 247 221 231 230 213 193 170 186 194 202 190 196 206\n",
      "  215 225 236 255 235 237 211 215 221 216 190 239]\n",
      " [nan '수력' 156 150 142 133 138 142 125 107 102 103 102 106 106 117 125\n",
      "  131 126 133 141 125 134 132 135 139 130 100 128]\n",
      " [nan '화력' 121 113 105 88 93 88 88 86 68 83 92 96 84 79 81 84 99 103 114\n",
      "  110 103 79 80 82 86 90 111]\n",
      " [nan '원자력' '-' '-' '-' '-' '-' '-' '-' '-' '-' '-' '-' '-' '-' '-' '-'\n",
      "  '-' '-' '-' '-' '-' '-' '-' '-' '-' '-' '-' '-']] <class 'numpy.ndarray'>\n"
     ]
    }
   ],
   "source": [
    "tmp_frm = pd.read_excel('/Users/choijaewoo/pandas_data/남북한발전전력량.xlsx' , header = None )\n",
    "frmInfo(tmp_frm)"
   ],
   "metadata": {
    "collapsed": false,
    "pycharm": {
     "name": "#%%\n"
    }
   }
  },
  {
   "cell_type": "code",
   "execution_count": 7,
   "outputs": [
    {
     "name": "stdout",
     "output_type": "stream",
     "text": [
      "<class 'pandas.core.frame.DataFrame'>\n",
      "RangeIndex: 10 entries, 0 to 9\n",
      "Data columns (total 29 columns):\n",
      " #   Column  Non-Null Count  Dtype \n",
      "---  ------  --------------  ----- \n",
      " 0   0       3 non-null      object\n",
      " 1   1       10 non-null     object\n",
      " 2   2       10 non-null     object\n",
      " 3   3       10 non-null     object\n",
      " 4   4       10 non-null     object\n",
      " 5   5       10 non-null     object\n",
      " 6   6       10 non-null     object\n",
      " 7   7       10 non-null     object\n",
      " 8   8       10 non-null     object\n",
      " 9   9       10 non-null     object\n",
      " 10  10      10 non-null     object\n",
      " 11  11      10 non-null     object\n",
      " 12  12      10 non-null     object\n",
      " 13  13      10 non-null     object\n",
      " 14  14      10 non-null     object\n",
      " 15  15      10 non-null     object\n",
      " 16  16      10 non-null     object\n",
      " 17  17      10 non-null     object\n",
      " 18  18      10 non-null     object\n",
      " 19  19      10 non-null     object\n",
      " 20  20      10 non-null     object\n",
      " 21  21      10 non-null     object\n",
      " 22  22      10 non-null     object\n",
      " 23  23      10 non-null     object\n",
      " 24  24      10 non-null     object\n",
      " 25  25      10 non-null     object\n",
      " 26  26      10 non-null     object\n",
      " 27  27      10 non-null     object\n",
      " 28  28      10 non-null     object\n",
      "dtypes: object(29)\n",
      "memory usage: 2.4+ KB\n"
     ]
    }
   ],
   "source": [
    "tmp_frm.info()"
   ],
   "metadata": {
    "collapsed": false,
    "pycharm": {
     "name": "#%%\n"
    }
   }
  },
  {
   "cell_type": "code",
   "execution_count": 8,
   "outputs": [
    {
     "data": {
      "text/plain": "'data - '"
     },
     "metadata": {},
     "output_type": "display_data"
    },
    {
     "data": {
      "text/plain": "           name  year        developer opensource\npandas           2008    Wes Mckinneye       True\nNumPy            2006  Travis Oliphant       True\nmatplotlib       2003   John D. Hunter       True",
      "text/html": "<div>\n<style scoped>\n    .dataframe tbody tr th:only-of-type {\n        vertical-align: middle;\n    }\n\n    .dataframe tbody tr th {\n        vertical-align: top;\n    }\n\n    .dataframe thead th {\n        text-align: right;\n    }\n</style>\n<table border=\"1\" class=\"dataframe\">\n  <thead>\n    <tr style=\"text-align: right;\">\n      <th></th>\n      <th>name</th>\n      <th>year</th>\n      <th>developer</th>\n      <th>opensource</th>\n    </tr>\n  </thead>\n  <tbody>\n    <tr>\n      <th>pandas</th>\n      <td></td>\n      <td>2008</td>\n      <td>Wes Mckinneye</td>\n      <td>True</td>\n    </tr>\n    <tr>\n      <th>NumPy</th>\n      <td></td>\n      <td>2006</td>\n      <td>Travis Oliphant</td>\n      <td>True</td>\n    </tr>\n    <tr>\n      <th>matplotlib</th>\n      <td></td>\n      <td>2003</td>\n      <td>John D. Hunter</td>\n      <td>True</td>\n    </tr>\n  </tbody>\n</table>\n</div>"
     },
     "metadata": {},
     "output_type": "display_data"
    },
    {
     "name": "stdout",
     "output_type": "stream",
     "text": [
      "\n",
      "shape   -  (3, 4) 3 4\n",
      "size    -  12\n",
      "ndim    -  2\n",
      "index   -  Index(['pandas', 'NumPy', 'matplotlib'], dtype='object') <class 'pandas.core.indexes.base.Index'>\n",
      "columns -  Index(['name', 'year', 'developer', 'opensource'], dtype='object') <class 'pandas.core.indexes.base.Index'>\n",
      "values  - \n",
      " [['' 2008 'Wes Mckinneye' 'True']\n",
      " ['' 2006 'Travis Oliphant' 'True']\n",
      " ['' 2003 'John D. Hunter' 'True']] <class 'numpy.ndarray'>\n"
     ]
    }
   ],
   "source": [
    "tmp_frm = pd.read_json('/Users/choijaewoo/pandas_data/read_json_sample.json')\n",
    "frmInfo(tmp_frm)"
   ],
   "metadata": {
    "collapsed": false,
    "pycharm": {
     "name": "#%%\n"
    }
   }
  },
  {
   "cell_type": "code",
   "execution_count": 10,
   "outputs": [
    {
     "data": {
      "text/plain": "array(['pandas', 'NumPy', 'matplotlib'], dtype=object)"
     },
     "execution_count": 10,
     "metadata": {},
     "output_type": "execute_result"
    }
   ],
   "source": [
    "tmp_frm.values\n",
    "tmp_frm.index.values"
   ],
   "metadata": {
    "collapsed": false,
    "pycharm": {
     "name": "#%%\n"
    }
   }
  },
  {
   "cell_type": "code",
   "execution_count": 11,
   "outputs": [
    {
     "name": "stdout",
     "output_type": "stream",
     "text": [
      "type -  <class 'list'>\n",
      "\n",
      "\n",
      "len -  2\n",
      "\n",
      "\n",
      "tables[0]\n",
      "   Unnamed: 0  c0  c1  c2  c3\n",
      "0           0   0   1   4   7\n",
      "1           1   1   2   5   8\n",
      "2           2   2   3   6   9\n",
      "\n",
      "tables[1]\n",
      "         name  year        developer  opensource\n",
      "0       NumPy  2006  Travis Oliphant        True\n",
      "1  matplotlib  2003   John D. Hunter        True\n",
      "2      pandas  2008    Wes Mckinneye        True\n",
      "\n"
     ]
    }
   ],
   "source": [
    "tmp_frm = pd.read_html('/Users/choijaewoo/pandas_data/sample.html')\n",
    "print('type - ' , type(tmp_frm))\n",
    "print()\n",
    "tmp_frm\n",
    "\n",
    "print()\n",
    "print('len - ' , len(tmp_frm))\n",
    "\n",
    "print()\n",
    "print()\n",
    "for idx in range( len(tmp_frm) ) :\n",
    "    print('tables[{}]'.format(idx))\n",
    "    print(tmp_frm[idx])\n",
    "    print()"
   ],
   "metadata": {
    "collapsed": false,
    "pycharm": {
     "name": "#%%\n"
    }
   }
  },
  {
   "cell_type": "code",
   "execution_count": 12,
   "outputs": [
    {
     "name": "stdout",
     "output_type": "stream",
     "text": [
      "type -  <class 'pandas.core.frame.DataFrame'>\n"
     ]
    },
    {
     "data": {
      "text/plain": "   Unnamed: 0  c0  c1  c2  c3\n0           0   0   1   4   7\n1           1   1   2   5   8\n2           2   2   3   6   9",
      "text/html": "<div>\n<style scoped>\n    .dataframe tbody tr th:only-of-type {\n        vertical-align: middle;\n    }\n\n    .dataframe tbody tr th {\n        vertical-align: top;\n    }\n\n    .dataframe thead th {\n        text-align: right;\n    }\n</style>\n<table border=\"1\" class=\"dataframe\">\n  <thead>\n    <tr style=\"text-align: right;\">\n      <th></th>\n      <th>Unnamed: 0</th>\n      <th>c0</th>\n      <th>c1</th>\n      <th>c2</th>\n      <th>c3</th>\n    </tr>\n  </thead>\n  <tbody>\n    <tr>\n      <th>0</th>\n      <td>0</td>\n      <td>0</td>\n      <td>1</td>\n      <td>4</td>\n      <td>7</td>\n    </tr>\n    <tr>\n      <th>1</th>\n      <td>1</td>\n      <td>1</td>\n      <td>2</td>\n      <td>5</td>\n      <td>8</td>\n    </tr>\n    <tr>\n      <th>2</th>\n      <td>2</td>\n      <td>2</td>\n      <td>3</td>\n      <td>6</td>\n      <td>9</td>\n    </tr>\n  </tbody>\n</table>\n</div>"
     },
     "metadata": {},
     "output_type": "display_data"
    },
    {
     "name": "stdout",
     "output_type": "stream",
     "text": [
      "\n",
      " columns index -  Index(['Unnamed: 0', 'c0', 'c1', 'c2', 'c3'], dtype='object')\n",
      "drop - \n"
     ]
    },
    {
     "data": {
      "text/plain": "   c0  c1  c2  c3\n0   0   1   4   7\n1   1   2   5   8\n2   2   3   6   9",
      "text/html": "<div>\n<style scoped>\n    .dataframe tbody tr th:only-of-type {\n        vertical-align: middle;\n    }\n\n    .dataframe tbody tr th {\n        vertical-align: top;\n    }\n\n    .dataframe thead th {\n        text-align: right;\n    }\n</style>\n<table border=\"1\" class=\"dataframe\">\n  <thead>\n    <tr style=\"text-align: right;\">\n      <th></th>\n      <th>c0</th>\n      <th>c1</th>\n      <th>c2</th>\n      <th>c3</th>\n    </tr>\n  </thead>\n  <tbody>\n    <tr>\n      <th>0</th>\n      <td>0</td>\n      <td>1</td>\n      <td>4</td>\n      <td>7</td>\n    </tr>\n    <tr>\n      <th>1</th>\n      <td>1</td>\n      <td>2</td>\n      <td>5</td>\n      <td>8</td>\n    </tr>\n    <tr>\n      <th>2</th>\n      <td>2</td>\n      <td>3</td>\n      <td>6</td>\n      <td>9</td>\n    </tr>\n  </tbody>\n</table>\n</div>"
     },
     "metadata": {},
     "output_type": "display_data"
    }
   ],
   "source": [
    "print( 'type - ' , type( tmp_frm[0] ) )\n",
    "display(tmp_frm[0])\n",
    "print()\n",
    "print(' columns index - ' , tmp_frm[0].columns)\n",
    "\n",
    "print('drop - ')\n",
    "tmp_frm[0].drop('Unnamed: 0' , axis = 1 , inplace = True)\n",
    "display(tmp_frm[0])"
   ],
   "metadata": {
    "collapsed": false,
    "pycharm": {
     "name": "#%%\n"
    }
   }
  },
  {
   "cell_type": "code",
   "execution_count": 13,
   "outputs": [
    {
     "name": "stdout",
     "output_type": "stream",
     "text": [
      "type -  <class 'pandas.core.frame.DataFrame'>\n"
     ]
    },
    {
     "data": {
      "text/plain": "         name  year        developer  opensource\n0       NumPy  2006  Travis Oliphant        True\n1  matplotlib  2003   John D. Hunter        True\n2      pandas  2008    Wes Mckinneye        True",
      "text/html": "<div>\n<style scoped>\n    .dataframe tbody tr th:only-of-type {\n        vertical-align: middle;\n    }\n\n    .dataframe tbody tr th {\n        vertical-align: top;\n    }\n\n    .dataframe thead th {\n        text-align: right;\n    }\n</style>\n<table border=\"1\" class=\"dataframe\">\n  <thead>\n    <tr style=\"text-align: right;\">\n      <th></th>\n      <th>name</th>\n      <th>year</th>\n      <th>developer</th>\n      <th>opensource</th>\n    </tr>\n  </thead>\n  <tbody>\n    <tr>\n      <th>0</th>\n      <td>NumPy</td>\n      <td>2006</td>\n      <td>Travis Oliphant</td>\n      <td>True</td>\n    </tr>\n    <tr>\n      <th>1</th>\n      <td>matplotlib</td>\n      <td>2003</td>\n      <td>John D. Hunter</td>\n      <td>True</td>\n    </tr>\n    <tr>\n      <th>2</th>\n      <td>pandas</td>\n      <td>2008</td>\n      <td>Wes Mckinneye</td>\n      <td>True</td>\n    </tr>\n  </tbody>\n</table>\n</div>"
     },
     "metadata": {},
     "output_type": "display_data"
    }
   ],
   "source": [
    "print( 'type - ' , type( tmp_frm[1] ) )\n",
    "display(tmp_frm[1])"
   ],
   "metadata": {
    "collapsed": false,
    "pycharm": {
     "name": "#%%\n"
    }
   }
  },
  {
   "cell_type": "code",
   "execution_count": null,
   "outputs": [],
   "source": [],
   "metadata": {
    "collapsed": false,
    "pycharm": {
     "name": "#%%\n"
    }
   }
  },
  {
   "cell_type": "code",
   "execution_count": null,
   "outputs": [],
   "source": [],
   "metadata": {
    "collapsed": false,
    "pycharm": {
     "name": "#%%\n"
    }
   }
  },
  {
   "cell_type": "code",
   "execution_count": null,
   "outputs": [],
   "source": [],
   "metadata": {
    "collapsed": false,
    "pycharm": {
     "name": "#%%\n"
    }
   }
  },
  {
   "cell_type": "code",
   "execution_count": null,
   "outputs": [],
   "source": [],
   "metadata": {
    "collapsed": false,
    "pycharm": {
     "name": "#%%\n"
    }
   }
  },
  {
   "cell_type": "code",
   "execution_count": null,
   "outputs": [],
   "source": [],
   "metadata": {
    "collapsed": false,
    "pycharm": {
     "name": "#%%\n"
    }
   }
  },
  {
   "cell_type": "code",
   "execution_count": null,
   "outputs": [],
   "source": [],
   "metadata": {
    "collapsed": false,
    "pycharm": {
     "name": "#%%\n"
    }
   }
  },
  {
   "cell_type": "code",
   "execution_count": null,
   "outputs": [],
   "source": [],
   "metadata": {
    "collapsed": false,
    "pycharm": {
     "name": "#%%\n"
    }
   }
  },
  {
   "cell_type": "code",
   "execution_count": null,
   "outputs": [],
   "source": [],
   "metadata": {
    "collapsed": false,
    "pycharm": {
     "name": "#%%\n"
    }
   }
  },
  {
   "cell_type": "code",
   "execution_count": null,
   "outputs": [],
   "source": [],
   "metadata": {
    "collapsed": false,
    "pycharm": {
     "name": "#%%\n"
    }
   }
  },
  {
   "cell_type": "code",
   "execution_count": null,
   "outputs": [],
   "source": [],
   "metadata": {
    "collapsed": false,
    "pycharm": {
     "name": "#%%\n"
    }
   }
  },
  {
   "cell_type": "code",
   "execution_count": null,
   "outputs": [],
   "source": [],
   "metadata": {
    "collapsed": false,
    "pycharm": {
     "name": "#%%\n"
    }
   }
  },
  {
   "cell_type": "code",
   "execution_count": null,
   "outputs": [],
   "source": [],
   "metadata": {
    "collapsed": false,
    "pycharm": {
     "name": "#%%\n"
    }
   }
  },
  {
   "cell_type": "code",
   "execution_count": null,
   "outputs": [],
   "source": [],
   "metadata": {
    "collapsed": false,
    "pycharm": {
     "name": "#%%\n"
    }
   }
  },
  {
   "cell_type": "code",
   "execution_count": null,
   "outputs": [],
   "source": [],
   "metadata": {
    "collapsed": false,
    "pycharm": {
     "name": "#%%\n"
    }
   }
  },
  {
   "cell_type": "code",
   "execution_count": null,
   "outputs": [],
   "source": [],
   "metadata": {
    "collapsed": false,
    "pycharm": {
     "name": "#%%\n"
    }
   }
  },
  {
   "cell_type": "code",
   "execution_count": null,
   "outputs": [],
   "source": [],
   "metadata": {
    "collapsed": false,
    "pycharm": {
     "name": "#%%\n"
    }
   }
  },
  {
   "cell_type": "code",
   "execution_count": null,
   "outputs": [],
   "source": [],
   "metadata": {
    "collapsed": false,
    "pycharm": {
     "name": "#%%\n"
    }
   }
  },
  {
   "cell_type": "code",
   "execution_count": null,
   "outputs": [],
   "source": [],
   "metadata": {
    "collapsed": false,
    "pycharm": {
     "name": "#%%\n"
    }
   }
  },
  {
   "cell_type": "code",
   "execution_count": null,
   "outputs": [],
   "source": [],
   "metadata": {
    "collapsed": false,
    "pycharm": {
     "name": "#%%\n"
    }
   }
  }
 ],
 "metadata": {
  "kernelspec": {
   "display_name": "Python 3",
   "language": "python",
   "name": "python3"
  },
  "language_info": {
   "codemirror_mode": {
    "name": "ipython",
    "version": 2
   },
   "file_extension": ".py",
   "mimetype": "text/x-python",
   "name": "python",
   "nbconvert_exporter": "python",
   "pygments_lexer": "ipython2",
   "version": "2.7.6"
  }
 },
 "nbformat": 4,
 "nbformat_minor": 0
}